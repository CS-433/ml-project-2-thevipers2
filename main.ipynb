{
 "cells": [
  {
   "cell_type": "markdown",
   "metadata": {},
   "source": [
    "# Machine Learning - Project 2:\n",
    "# _Autoencoder for mathematical modeling of blood flow in a stenosis context_"
   ]
  },
  {
   "cell_type": "markdown",
   "metadata": {},
   "source": [
    "## Context"
   ]
  },
  {
   "cell_type": "markdown",
   "metadata": {},
   "source": [
    "In this project, we are going to analyze data derived from..."
   ]
  },
  {
   "cell_type": "markdown",
   "metadata": {},
   "source": [
    "Our goals:\n",
    "1. modeliser mathématiquement l’écoulement sanguin à l’aide de PDE dépendante de 2-3 paramètres physique\n",
    "2. simuler l’écoulement par un code d’éléments fini ou similaire\n",
    "3. générer beaucoup de solutions avec une grande nombre de paramètres différents. (Les 2-3, pris de façon aléatoire)\n",
    "4. a. utiliser les solutions numérique pour établir un auto encoder qui au milieu n’ai que 2-5 hyper-paramètres libres  \n",
    "b. quel erreur on obtient ? Est-ce possible de réduire le nombre d’hyper-paramètres ?\n",
    "5. étudier s’il y a une rélation entre les 2-5 hyper-paramètre et les paramètres physique  \n",
    "a. à l’aide de statistiques\n",
    "5. b. à l’aide d’un DNN (différent de 4a)\n",
    "6. (optionnel) faire un DNN entre l’input de 4a et output les paramêtres physique. Et/ou l’inverse.\n",
    "7. Discussion et conclusions "
   ]
  },
  {
   "cell_type": "markdown",
   "metadata": {},
   "source": [
    "Abbreviations used:\n",
    "- $N_u$ = total number of spatial points per simulation\n",
    "- $N_t$ = total number of time steps per simulation\n",
    "- $N_s$ = total number of simulations"
   ]
  },
  {
   "cell_type": "markdown",
   "metadata": {},
   "source": [
    "## Table of contents"
   ]
  },
  {
   "cell_type": "markdown",
   "metadata": {},
   "source": [
    "[1. Data exploration](#data_exploration) \n",
    "- [Imports](#1imports)\n",
    "- [Pathways](#1pathways)\n",
    "- [Loading](#1load)\n",
    "- [Exploration](#1exploration)\n",
    "\n",
    "[2. Data preprocessing](#preprocessing)\n",
    "\n",
    "[3. Autoencode](#classifier)"
   ]
  },
  {
   "cell_type": "markdown",
   "metadata": {},
   "source": [
    "## 1. Data exploration  <a name=\"data_exploration\"></a>"
   ]
  },
  {
   "cell_type": "markdown",
   "metadata": {},
   "source": [
    "### Imports  <a name=\"1imports\"></a>"
   ]
  },
  {
   "cell_type": "code",
   "execution_count": 1,
   "metadata": {},
   "outputs": [],
   "source": [
    "# Useful starting lines\n",
    "%matplotlib inline\n",
    "import numpy as np\n",
    "import matplotlib.pyplot as plt\n",
    "import pandas as pd\n",
    "from helpers import *\n",
    "from preprocessing import *\n",
    "from sklearn.model_selection import train_test_split\n",
    "%load_ext autoreload\n",
    "%autoreload 2"
   ]
  },
  {
   "cell_type": "markdown",
   "metadata": {},
   "source": [
    "### Pathways <a name=\"1pathways\"></a>"
   ]
  },
  {
   "cell_type": "code",
   "execution_count": 2,
   "metadata": {},
   "outputs": [],
   "source": [
    "DATA_PATH = 'data/'\n",
    "DATA_Ux_PATH = DATA_PATH + 'u1_small.csv.bz2'\n",
    "DATA_Uy_PATH = DATA_PATH + 'u2_small.csv.bz2'"
   ]
  },
  {
   "cell_type": "markdown",
   "metadata": {},
   "source": [
    "### Loading <a name=\"1load\"></a>"
   ]
  },
  {
   "cell_type": "markdown",
   "metadata": {},
   "source": [
    "Let's load the data which consists of 2 matrices Ux, Uy denoting the x and y coordinates of the speed."
   ]
  },
  {
   "cell_type": "code",
   "execution_count": null,
   "metadata": {},
   "outputs": [],
   "source": [
    "# Loading\n",
    "Ux_pd = pd.read_csv(DATA_Ux_PATH, header=None)\n",
    "Uy_pd = pd.read_csv(DATA_Uy_PATH, header=None)\n",
    "# Converting from dataframe to numpy\n",
    "Ux = Ux_pd.to_numpy()\n",
    "Uy = Uy_pd.to_numpy()"
   ]
  },
  {
   "cell_type": "markdown",
   "metadata": {},
   "source": [
    "### Exploration <a name=\"1exploration\"></a>"
   ]
  },
  {
   "cell_type": "markdown",
   "metadata": {},
   "source": [
    "Let's have a closer look at our imported data sets. The columns represent the time steps and the rows represent a point of our blood vessel mesh and each 5509 row a new simulation."
   ]
  },
  {
   "cell_type": "code",
   "execution_count": null,
   "metadata": {
    "scrolled": false
   },
   "outputs": [],
   "source": [
    "print(\"Our input array Ux is of shape:\",Ux.shape)\n",
    "print(\"Our input array Uy is of shape:\",Uy.shape)\n",
    "print(\"Printing a row of Ux:\", '\\n', Ux[10,:], '\\n')\n",
    "print(\"Printing a row of Uy:\", '\\n', Uy[10,:], '\\n')"
   ]
  },
  {
   "cell_type": "markdown",
   "metadata": {},
   "source": [
    "For the rest of the analysis, we need to figure out the number of simulation step. As we know that we previsouly generated 25 simulations on Matlab and all the new simulations are appended row-wise, we can deduce it with the following computation."
   ]
  },
  {
   "cell_type": "code",
   "execution_count": null,
   "metadata": {
    "scrolled": true
   },
   "outputs": [],
   "source": [
    "size = Ux.shape[0]/25\n",
    "print(\"We have run\", Ux.shape[0],\"simulations with a step of\",size)"
   ]
  },
  {
   "cell_type": "markdown",
   "metadata": {},
   "source": [
    "## 2. Data preprocessing  <a name=\"preprocessing\"></a>"
   ]
  },
  {
   "cell_type": "markdown",
   "metadata": {},
   "source": [
    "Let's check if we have any NaN or None values in our dataframe."
   ]
  },
  {
   "cell_type": "code",
   "execution_count": null,
   "metadata": {
    "scrolled": true
   },
   "outputs": [],
   "source": [
    "print(np.count_nonzero(np.isnan(Ux)))\n",
    "print(np.count_nonzero(np.isnan(Uy)))"
   ]
  },
  {
   "cell_type": "markdown",
   "metadata": {},
   "source": [
    "It seems there are no None values so we can start direclty preprocess our datasets."
   ]
  },
  {
   "cell_type": "markdown",
   "metadata": {},
   "source": [
    "ADDITIONAL IDEAS FOR PREPROCESSING\n",
    "- remove columns with 0 std dev?\n",
    "- standardization?"
   ]
  },
  {
   "cell_type": "markdown",
   "metadata": {},
   "source": [
    "Let's sample our data points into the following ratios : "
   ]
  },
  {
   "cell_type": "code",
   "execution_count": null,
   "metadata": {},
   "outputs": [],
   "source": [
    "ratio_pts = 0.1\n",
    "ratio_time = 1\n",
    "\n",
    "new_Ux, new_Uy = sample(Ux, Uy, ratio_pts, ratio_time)\n",
    "print(new_Ux.shape, new_Uy.shape )"
   ]
  },
  {
   "cell_type": "code",
   "execution_count": null,
   "metadata": {},
   "outputs": [],
   "source": [
    "new_Nu, new_Nt = get_Nu_Nt_sampled(Ux, new_Ux)\n",
    "\n",
    "print('With the sampling we got from ', 5509, ' positions to ', new_Nu, ' positions')\n",
    "print('With the sampling we got from ', 110, ' time steps to ', new_Nt, ' time steps')"
   ]
  },
  {
   "cell_type": "markdown",
   "metadata": {},
   "source": [
    "Let's flatten our matrices into a single matrix with dimensions $((2 N_u N_t), N_s)$"
   ]
  },
  {
   "cell_type": "code",
   "execution_count": null,
   "metadata": {},
   "outputs": [],
   "source": [
    "print(new_Ux)"
   ]
  },
  {
   "cell_type": "code",
   "execution_count": null,
   "metadata": {
    "scrolled": false
   },
   "outputs": [],
   "source": [
    "flattened_array = flatten(new_Ux, new_Uy, ratio_pts)\n",
    "flattened_array.shape"
   ]
  },
  {
   "cell_type": "markdown",
   "metadata": {},
   "source": [
    "Let's make a sanity check that the dimension of 1 datapoint is indeed ${2 * new_{N_t} * new_{N_u})}$"
   ]
  },
  {
   "cell_type": "code",
   "execution_count": null,
   "metadata": {},
   "outputs": [],
   "source": [
    "assert flattened_array.shape[0] == 2*new_Nt*new_Nu\n",
    "\n",
    "print(2*new_Nt*new_Nu)"
   ]
  },
  {
   "cell_type": "markdown",
   "metadata": {},
   "source": [
    "## 3. Auto-encoder  <a name=\"autoencoder\"></a>"
   ]
  },
  {
   "cell_type": "markdown",
   "metadata": {},
   "source": [
    "We split the data set into a training a testing set to be able to evaluate our autoencoder."
   ]
  },
  {
   "cell_type": "code",
   "execution_count": null,
   "metadata": {},
   "outputs": [],
   "source": [
    "# Set seed \n",
    "seed = 123\n",
    "flattened_array_train, flattened_array_test = train_test_split(Ux, test_size=0.1, random_state=seed)\n",
    "y_train, y_test = flattened_array_train, flattened_array_test"
   ]
  },
  {
   "cell_type": "markdown",
   "metadata": {},
   "source": [
    "## 4. Passer en 2D "
   ]
  },
  {
   "cell_type": "markdown",
   "metadata": {},
   "source": [
    "## 5. Hyper-parameters and physics parameters relationship"
   ]
  },
  {
   "cell_type": "markdown",
   "metadata": {},
   "source": [
    "## 6. Discussion & conclusion"
   ]
  },
  {
   "cell_type": "code",
   "execution_count": null,
   "metadata": {},
   "outputs": [],
   "source": []
  }
 ],
 "metadata": {
  "kernelspec": {
   "display_name": "Python 3",
   "language": "python",
   "name": "python3"
  },
  "language_info": {
   "codemirror_mode": {
    "name": "ipython",
    "version": 3
   },
   "file_extension": ".py",
   "mimetype": "text/x-python",
   "name": "python",
   "nbconvert_exporter": "python",
   "pygments_lexer": "ipython3",
   "version": "3.8.8"
  }
 },
 "nbformat": 4,
 "nbformat_minor": 4
}
