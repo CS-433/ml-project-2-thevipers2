{
 "cells": [
  {
   "cell_type": "markdown",
   "metadata": {},
   "source": [
    "# Machine Learning - Project 2:\n",
    "# _Autoencoder for mathematical modeling of blood flow in a stenosis context_"
   ]
  },
  {
   "cell_type": "markdown",
   "metadata": {},
   "source": [
    "## Context"
   ]
  },
  {
   "cell_type": "markdown",
   "metadata": {},
   "source": [
    "In this project, we are going to analyze data derived from..."
   ]
  },
  {
   "cell_type": "markdown",
   "metadata": {},
   "source": [
    "Our goals:\n",
    "1. modeliser mathématiquement l’écoulement sanguin à l’aide de PDE dépendante de 2-3 paramètres physique\n",
    "2. simuler l’écoulement par un code d’éléments fini ou similaire\n",
    "3. générer beaucoup de solutions avec une grande nombre de paramètres différents. (Les 2-3, pris de façon aléatoire)\n",
    "4. a. utiliser les solutions numérique pour établir un auto encoder qui au milieu n’ai que 2-5 hyper-paramètres libres  \n",
    "b. quel erreur on obtient ? Est-ce possible de réduire le nombre d’hyper-paramètres ?\n",
    "5. étudier s’il y a une rélation entre les 2-5 hyper-paramètre et les paramètres physique  \n",
    "a. à l’aide de statistiques\n",
    "5. b. à l’aide d’un DNN (différent de 4a)\n",
    "6. (optionnel) faire un DNN entre l’input de 4a et output les paramêtres physique. Et/ou l’inverse.\n",
    "7. Discussion et conclusions "
   ]
  },
  {
   "cell_type": "markdown",
   "metadata": {},
   "source": [
    "Abbreviations used:\n",
    "- $N_u$ = total number of spatial points per simulation\n",
    "- $N_t$ = total number of time steps per simulation\n",
    "- $N_s$ = total number of simulations"
   ]
  },
  {
   "cell_type": "markdown",
   "metadata": {},
   "source": [
    "## Table of contents"
   ]
  },
  {
   "cell_type": "markdown",
   "metadata": {},
   "source": [
    "[1. Data exploration](#data_exploration) \n",
    "- [Imports](#1imports)\n",
    "- [Pathways](#1pathways)\n",
    "- [Loading](#1load)\n",
    "- [Exploration](#1exploration)\n",
    "\n",
    "[2. Data preprocessing](#preprocessing)\n",
    "\n",
    "[3. Pickle](#pickle)\n",
    "\n",
    "[4. Autoencoder](#autoencoder)"
   ]
  },
  {
   "cell_type": "markdown",
   "metadata": {},
   "source": [
    "### Imports  <a name=\"1imports\"></a>"
   ]
  },
  {
   "cell_type": "code",
   "execution_count": 3,
   "metadata": {},
   "outputs": [],
   "source": [
    "# Useful starting lines\n",
    "%matplotlib inline\n",
    "import numpy as np\n",
    "import matplotlib.pyplot as plt\n",
    "import pandas as pd\n",
    "from helpers import *\n",
    "from preprocessing import *\n",
    "from sklearn.model_selection import train_test_split\n",
    "from autoencoder import *\n",
    "from crossvalidation import *\n",
    "import _pickle as cPickle\n",
    "%load_ext autoreload\n",
    "%autoreload 2\n",
    "torch.manual_seed(0)\n",
    "np.random.seed(1)\n",
    "seed = 1"
   ]
  },
  {
   "cell_type": "markdown",
   "metadata": {},
   "source": [
    "## 1. Data exploration  <a name=\"data_exploration\"></a>"
   ]
  },
  {
   "cell_type": "markdown",
   "metadata": {},
   "source": [
    "### Pathways <a name=\"1pathways\"></a>"
   ]
  },
  {
   "cell_type": "code",
   "execution_count": 14,
   "metadata": {},
   "outputs": [],
   "source": [
    "DATA_PATH = 'data/'\n",
    "DATA_Ux_PATH = DATA_PATH + 'u1_very_small.csv.bz2'\n",
    "DATA_Uy_PATH = DATA_PATH + 'u2_very_small.csv.bz2'"
   ]
  },
  {
   "cell_type": "markdown",
   "metadata": {},
   "source": [
    "### Loading <a name=\"1load\"></a>"
   ]
  },
  {
   "cell_type": "markdown",
   "metadata": {},
   "source": [
    "Let's load the data which consists of 2 matrices Ux, Uy denoting the x and y coordinates of the speed."
   ]
  },
  {
   "cell_type": "code",
   "execution_count": 15,
   "metadata": {},
   "outputs": [],
   "source": [
    "# Loading\n",
    "Ux_pd = pd.read_csv(DATA_Ux_PATH, header=None)\n",
    "Uy_pd = pd.read_csv(DATA_Uy_PATH, header=None)\n",
    "# Converting from dataframe to numpy\n",
    "Ux = Ux_pd.to_numpy()\n",
    "Uy = Uy_pd.to_numpy()"
   ]
  },
  {
   "cell_type": "markdown",
   "metadata": {},
   "source": [
    "### Exploration <a name=\"1exploration\"></a>"
   ]
  },
  {
   "cell_type": "markdown",
   "metadata": {},
   "source": [
    "Let's have a closer look at our imported data sets. The columns represent the time steps and the rows represent a point of our blood vessel mesh and each 5509 row a new simulation."
   ]
  },
  {
   "cell_type": "code",
   "execution_count": 16,
   "metadata": {
    "scrolled": false
   },
   "outputs": [
    {
     "name": "stdout",
     "output_type": "stream",
     "text": [
      "Our input array Ux is of shape: (137725, 110)\n",
      "Our input array Uy is of shape: (137725, 110)\n",
      "Printing a row of Ux: \n",
      " [0.0694243  0.27537487 0.60389834 1.02538242 1.49979277 1.9813229\n",
      " 2.42318455 2.78232553 3.02371067 3.12378595 3.22605803 3.32166836\n",
      " 3.41249686 3.49946177 3.58301614 3.66339786 3.74073801 3.81511138\n",
      " 3.88656184 3.95511576 4.02078945 4.08359325 4.14353388 4.20061589\n",
      " 4.2548424  4.30621561 4.35473712 4.40040807 4.44322934 4.48320158\n",
      " 4.52032526 4.55460075 4.58602833 4.61460821 4.64034055 4.66322547\n",
      " 4.68326307 4.70045341 4.71479655 4.72629252 4.73494137 4.7407431\n",
      " 4.74369775 4.74423086 4.74375285 4.74246986 4.74042825 4.73764939\n",
      " 4.73414407 4.72991811 4.7249748  4.71931611 4.71294324 4.70585693\n",
      " 4.6980577  4.68954587 4.68032167 4.67038525 4.65973675 4.64837623\n",
      " 4.63630377 4.6235194  4.61002317 4.5958151  4.5808952  4.5652635\n",
      " 4.54892001 4.53186473 4.51409767 4.49561883 4.47642823 4.45652585\n",
      " 4.43591171 4.41458581 4.39254814 4.36979872 4.34633752 4.32216457\n",
      " 4.29727986 4.27168339 4.24537516 4.21835516 4.19062341 4.1621799\n",
      " 4.13302463 4.1031576  4.07257881 4.04128826 4.00928595 3.97657188\n",
      " 3.94314606 3.90900847 3.87415912 3.83859802 3.80232515 3.76534053\n",
      " 3.72764415 3.689236   3.6501161  3.61028444 3.56974102 3.52848584\n",
      " 3.4865189  3.4438402  3.40044974 3.35634752 3.31153355 3.26600781\n",
      " 3.21977031 3.17282106] \n",
      "\n",
      "Printing a row of Uy: \n",
      " [0.00067075 0.00314395 0.0081191  0.01585384 0.02617912 0.0385416\n",
      " 0.05208035 0.06573238 0.07835575 0.08885756 0.09779466 0.10544569\n",
      " 0.1120431  0.11779068 0.12286148 0.12739624 0.13150532 0.13527295\n",
      " 0.13876218 0.14201954 0.14507906 0.14796547 0.15069666 0.15328552\n",
      " 0.15574136 0.15807087 0.16027887 0.16236883 0.16434326 0.16620397\n",
      " 0.16795225 0.16958906 0.17111508 0.1725308  0.17383659 0.1750327\n",
      " 0.17611934 0.17709663 0.17796468 0.17872356 0.17937332 0.17991401\n",
      " 0.18034566 0.1806724  0.18091083 0.18107502 0.18117609 0.18122281\n",
      " 0.18122208 0.18117917 0.18109807 0.18098175 0.1808324  0.18065161\n",
      " 0.18044053 0.18020003 0.17993069 0.17963297 0.17930717 0.17895353\n",
      " 0.17857222 0.17816334 0.177727   0.17726324 0.17677213 0.17625368\n",
      " 0.17570793 0.17513488 0.17453457 0.17390698 0.17325214 0.17257004\n",
      " 0.17186069 0.17112409 0.17036024 0.16956915 0.16875082 0.16790524\n",
      " 0.16703242 0.16613236 0.16520505 0.16425051 0.16326872 0.16225969\n",
      " 0.16122342 0.1601599  0.15906915 0.15795116 0.15680592 0.15563344\n",
      " 0.15443372 0.15320676 0.15195256 0.15067112 0.14936244 0.14802651\n",
      " 0.14666335 0.14527294 0.14385529 0.14241041 0.14093828 0.1394389\n",
      " 0.13791229 0.13635844 0.13477734 0.13316901 0.13153343 0.12987061\n",
      " 0.12818056 0.12646326] \n",
      "\n"
     ]
    }
   ],
   "source": [
    "print(\"Our input array Ux is of shape:\",Ux.shape)\n",
    "print(\"Our input array Uy is of shape:\",Uy.shape)\n",
    "print(\"Printing a row of Ux:\", '\\n', Ux[10,:], '\\n')\n",
    "print(\"Printing a row of Uy:\", '\\n', Uy[10,:], '\\n')"
   ]
  },
  {
   "cell_type": "markdown",
   "metadata": {},
   "source": [
    "For the rest of the analysis, we need to figure out the number of simulation step. As we know that we previsouly generated 25 simulations on Matlab and all the new simulations are appended row-wise, we can deduce it with the following computation."
   ]
  },
  {
   "cell_type": "code",
   "execution_count": 17,
   "metadata": {
    "scrolled": true
   },
   "outputs": [
    {
     "name": "stdout",
     "output_type": "stream",
     "text": [
      "We ran  25 simulations with different parameters for each simulation (parameters of the stenosis and resistance of the blood flow in the bifurcations)\n",
      "1 simulation calculate the velocities of the blood flow at  5509  different positions and at  110  different times\n"
     ]
    }
   ],
   "source": [
    "positions =5509 #We know it from the matlab code\n",
    "times = Ux.shape[1]\n",
    "simulations = int(Ux.shape[0]/positions)\n",
    "print(\"We ran \", simulations, \"simulations with different parameters for each simulation (parameters of the stenosis and resistance of the blood flow in the bifurcations)\")\n",
    "print(\"1 simulation calculate the velocities of the blood flow at \", positions, \" different positions and at \", times, \" different times\")"
   ]
  },
  {
   "cell_type": "markdown",
   "metadata": {},
   "source": [
    "## 2. Data preprocessing  <a name=\"preprocessing\"></a>"
   ]
  },
  {
   "cell_type": "markdown",
   "metadata": {},
   "source": [
    "Let's check if we have any NaN or None values in our dataframe."
   ]
  },
  {
   "cell_type": "code",
   "execution_count": 18,
   "metadata": {
    "scrolled": true
   },
   "outputs": [
    {
     "name": "stdout",
     "output_type": "stream",
     "text": [
      "0\n",
      "0\n"
     ]
    }
   ],
   "source": [
    "print(np.count_nonzero(np.isnan(Ux)))\n",
    "print(np.count_nonzero(np.isnan(Uy)))"
   ]
  },
  {
   "cell_type": "markdown",
   "metadata": {},
   "source": [
    "It seems there are no None values so we can start direclty preprocess our datasets."
   ]
  },
  {
   "cell_type": "markdown",
   "metadata": {},
   "source": [
    "ADDITIONAL IDEAS FOR PREPROCESSING\n",
    "- remove columns with 0 std dev?\n",
    "- standardization?"
   ]
  },
  {
   "cell_type": "markdown",
   "metadata": {},
   "source": [
    "Let's sample our data points into the following ratios : "
   ]
  },
  {
   "cell_type": "code",
   "execution_count": 19,
   "metadata": {},
   "outputs": [
    {
     "name": "stdout",
     "output_type": "stream",
     "text": [
      "(1375, 110) (1375, 110)\n"
     ]
    }
   ],
   "source": [
    "ratio_pts = 0.01\n",
    "ratio_time = 1\n",
    "\n",
    "new_Ux, new_Uy, new_inds = sample(Ux, Uy, ratio_pts, ratio_time)\n",
    "print(new_Ux.shape, new_Uy.shape)"
   ]
  },
  {
   "cell_type": "code",
   "execution_count": 20,
   "metadata": {},
   "outputs": [
    {
     "name": "stdout",
     "output_type": "stream",
     "text": [
      "With the sampling we got from  5509  positions to  55  positions\n",
      "With the sampling we got from  110  time steps to  110  time steps\n"
     ]
    }
   ],
   "source": [
    "new_Nu, new_Nt = get_Nu_Nt_sampled(Ux, new_Ux)\n",
    "\n",
    "print('With the sampling we got from ', 5509, ' positions to ', new_Nu, ' positions')\n",
    "print('With the sampling we got from ', 110, ' time steps to ', new_Nt, ' time steps')"
   ]
  },
  {
   "cell_type": "markdown",
   "metadata": {},
   "source": [
    "We can look at the positions of the sampled positions to make sure that we cover mostly all the important parts of the geometry of the artery :"
   ]
  },
  {
   "cell_type": "code",
   "execution_count": 21,
   "metadata": {
    "scrolled": true
   },
   "outputs": [
    {
     "data": {
      "image/png": "[encoded data removed]",
      "text/plain": [
       "<Figure size 432x288 with 1 Axes>"
      ]
     },
     "metadata": {
      "needs_background": "light"
     },
     "output_type": "display_data"
    }
   ],
   "source": [
    "plot_sampled_coord(new_inds) "
   ]
  },
  {
   "cell_type": "code",
   "execution_count": 22,
   "metadata": {},
   "outputs": [
    {
     "name": "stdout",
     "output_type": "stream",
     "text": [
      "[[0.05835955 0.22770263 0.49017009 ... 2.30140129 2.26842866 2.23495165]\n",
      " [0.01521457 0.05437499 0.10728349 ... 0.32708089 0.32222659 0.31729937]\n",
      " [0.05227898 0.20327783 0.43588769 ... 1.9535784  1.92543036 1.89685303]\n",
      " ...\n",
      " [0.11294905 0.44235277 0.9550415  ... 4.34391469 4.28124502 4.21762026]\n",
      " [0.16819358 0.66792925 1.46383629 ... 7.6472901  7.53867321 7.42838719]\n",
      " [0.08670298 0.34414233 0.75420911 ... 3.97706738 3.92061258 3.86328997]]\n"
     ]
    }
   ],
   "source": [
    "print(new_Ux)"
   ]
  },
  {
   "cell_type": "markdown",
   "metadata": {},
   "source": [
    "Let's flatten our matrices into a single matrix with dimensions $((2 N_u N_t), N_s)$. For each simulation, the x and y speed coordinates are compressed to the following 1D matrix:\n",
    "\n",
    "$$\n",
    "\\mathbf{M_{1D}}\n",
    "=\n",
    "\\begin{bmatrix}\n",
    "\\vdots \\\\\n",
    "u_{x}^{(0)} \\\\\n",
    "\\vdots \\\\\n",
    "u_{y}^{(0)} \\\\\n",
    "\\vdots \\\\\n",
    "u_{x}^{(1)} \\\\\n",
    "\\vdots \\\\\n",
    "u_{y}^{(1)} \\\\\n",
    "\\vdots \\\\\n",
    "u_{x}^{(N_t - 1)} \\\\\n",
    "\\vdots \\\\\n",
    "u_{y}^{(N_t - 1)} \\\\\n",
    "\\vdots \n",
    "\\end{bmatrix}\n",
    "$$\n",
    "\n"
   ]
  },
  {
   "cell_type": "code",
   "execution_count": 23,
   "metadata": {
    "scrolled": false
   },
   "outputs": [
    {
     "data": {
      "text/plain": [
       "(25, 12100)"
      ]
     },
     "execution_count": 23,
     "metadata": {},
     "output_type": "execute_result"
    }
   ],
   "source": [
    "flattened_array = flatten(new_Ux, new_Uy, ratio_pts)\n",
    "flattened_array.shape"
   ]
  },
  {
   "cell_type": "markdown",
   "metadata": {},
   "source": [
    "Let's make a sanity check that the dimension of 1 datapoint is indeed ${2 * new_{N_t} * new_{N_u})}$"
   ]
  },
  {
   "cell_type": "code",
   "execution_count": 24,
   "metadata": {},
   "outputs": [
    {
     "name": "stdout",
     "output_type": "stream",
     "text": [
      "12100\n"
     ]
    }
   ],
   "source": [
    "assert flattened_array.shape[1] == 2*new_Nt*new_Nu\n",
    "\n",
    "print(2*new_Nt*new_Nu)"
   ]
  },
  {
   "cell_type": "markdown",
   "metadata": {},
   "source": [
    "## 3. Pickle  <a name=\"pickle\"></a>"
   ]
  },
  {
   "cell_type": "markdown",
   "metadata": {},
   "source": [
    "To avoid the loading and processing steps each time we open the notebook, we will save the processed matrix \"flattened_array\" using pickle : "
   ]
  },
  {
   "cell_type": "markdown",
   "metadata": {},
   "source": [
    "In the following cell, we will create pickles for every subsampled data according to the ratios_pts and the ratios_t :"
   ]
  },
  {
   "cell_type": "code",
   "execution_count": 25,
   "metadata": {},
   "outputs": [],
   "source": [
    "ratios_pts = [0.1, 0.05, 0.02]\n",
    "ratios_t = [0.5, 0.25, 0.1]\n",
    "\n",
    "create_subsamples(Ux, Uy, ratios_pts, ratios_t, name_file='very_small')"
   ]
  },
  {
   "cell_type": "markdown",
   "metadata": {},
   "source": [
    "#### Start from here if you the pickle file already exist in your data folder"
   ]
  },
  {
   "cell_type": "markdown",
   "metadata": {},
   "source": [
    "Change only the following cell to change the name of the file you want to open :"
   ]
  },
  {
   "cell_type": "code",
   "execution_count": 6,
   "metadata": {},
   "outputs": [
    {
     "name": "stdout",
     "output_type": "stream",
     "text": [
      "name of the file you want to read :  processed_very_small_0.1_0.5\n"
     ]
    }
   ],
   "source": [
    "ratios = [0.1, 0.5]\n",
    "size = ['very_small', 'small', 'large']\n",
    "\n",
    "name = 'processed_'+str(size[0])+'_'+str(ratios[0])+'_'+str(ratios[1])\n",
    "\n",
    "print('name of the file you want to read : ', name)"
   ]
  },
  {
   "cell_type": "code",
   "execution_count": 10,
   "metadata": {},
   "outputs": [],
   "source": [
    "flattened_array  = cPickle.load(open(\"data/pickle/\"+str(size[0])+\"/\"+name, \"rb\"))"
   ]
  },
  {
   "cell_type": "code",
   "execution_count": 11,
   "metadata": {},
   "outputs": [
    {
     "name": "stdout",
     "output_type": "stream",
     "text": [
      "[[ 5.83595480e-02  1.52145667e-02  5.22789790e-02 ...  1.17454201e+00\n",
      "   1.58226145e-02  2.97231034e-03]\n",
      " [ 6.44804449e-02  1.52124591e-02  6.16749165e-02 ...  1.01548433e+00\n",
      "   1.93130159e-02  1.51896391e-03]\n",
      " [ 1.48231783e-01  2.60291062e-02  1.49105089e-01 ...  1.37712794e+00\n",
      "  -1.26300322e-02 -3.12407023e-02]\n",
      " ...\n",
      " [ 9.96757422e-02  1.29199047e-02  8.22345984e-02 ...  2.85373653e+00\n",
      "   4.50303582e-02 -2.41325042e-03]\n",
      " [ 1.85973493e-01  4.85260306e-02  1.79182342e-01 ...  2.79584209e+00\n",
      "   3.06163031e-02 -1.76175130e-02]\n",
      " [ 1.65302611e-01  3.80143624e-02  1.64879092e-01 ...  1.59931460e+00\n",
      "   2.34699563e-02  1.89580234e-02]]\n"
     ]
    }
   ],
   "source": [
    "print(flattened_array)"
   ]
  },
  {
   "cell_type": "markdown",
   "metadata": {},
   "source": [
    "##### Final step : split train/test\n",
    "\n",
    "We split the data set into a training a testing set to be able to evaluate our autoencoder."
   ]
  },
  {
   "cell_type": "code",
   "execution_count": 12,
   "metadata": {},
   "outputs": [
    {
     "name": "stdout",
     "output_type": "stream",
     "text": [
      "(22, 60500)\n",
      "(3, 60500)\n"
     ]
    }
   ],
   "source": [
    "x_train, x_test = train_test_split(flattened_array, test_size=0.1, random_state=seed)\n",
    "y_train, y_test = x_train, x_test\n",
    "\n",
    "print(x_train.shape)\n",
    "print(x_test.shape)"
   ]
  },
  {
   "cell_type": "markdown",
   "metadata": {},
   "source": [
    "## 4. Auto-encoder  <a name=\"autoencoder\"></a>"
   ]
  },
  {
   "cell_type": "code",
   "execution_count": 13,
   "metadata": {},
   "outputs": [],
   "source": [
    "# define network parameters\n",
    "learningRate=1e-2\n",
    "epochs=50\n",
    "input_size=x_train.shape[1]\n",
    "k_folds = 5\n",
    "\n",
    "# creates a criterion that measures the mean squared error (squared L2 norm) \n",
    "criterion = nn.MSELoss() "
   ]
  },
  {
   "cell_type": "code",
   "execution_count": 14,
   "metadata": {},
   "outputs": [
    {
     "name": "stdout",
     "output_type": "stream",
     "text": [
      "--------------------------------\n",
      "FOLD 0\n",
      "--------------------------------\n",
      "Epoch:1/50 Training Error:0.979 Test Error:0.972\n",
      "Epoch:2/50 Training Error:0.737 Test Error:0.720\n",
      "Epoch:3/50 Training Error:0.744 Test Error:0.726\n",
      "Epoch:4/50 Training Error:0.958 Test Error:0.952\n",
      "Epoch:5/50 Training Error:0.944 Test Error:0.946\n",
      "Epoch:6/50 Training Error:0.850 Test Error:0.844\n",
      "Epoch:7/50 Training Error:0.535 Test Error:0.524\n",
      "Epoch:8/50 Training Error:0.469 Test Error:0.480\n",
      "Epoch:9/50 Training Error:0.869 Test Error:0.855\n",
      "Epoch:10/50 Training Error:0.837 Test Error:0.777\n",
      "Epoch:11/50 Training Error:0.597 Test Error:0.587\n",
      "Epoch:12/50 Training Error:1.372 Test Error:0.913\n",
      "Epoch:13/50 Training Error:0.356 Test Error:0.405\n",
      "Epoch:14/50 Training Error:0.314 Test Error:0.268\n",
      "Epoch:15/50 Training Error:0.522 Test Error:0.650\n",
      "Epoch:16/50 Training Error:0.161 Test Error:0.334\n",
      "Epoch:17/50 Training Error:0.467 Test Error:0.513\n",
      "Epoch:18/50 Training Error:0.600 Test Error:0.266\n",
      "Epoch:19/50 Training Error:0.431 Test Error:0.252\n",
      "Epoch:20/50 Training Error:0.387 Test Error:0.415\n",
      "Epoch:21/50 Training Error:0.390 Test Error:0.393\n",
      "Epoch:22/50 Training Error:0.488 Test Error:0.337\n",
      "Epoch:23/50 Training Error:0.643 Test Error:0.089\n",
      "Epoch:24/50 Training Error:0.357 Test Error:0.329\n",
      "Epoch:25/50 Training Error:0.423 Test Error:0.436\n",
      "Epoch:26/50 Training Error:0.512 Test Error:0.139\n",
      "Epoch:27/50 Training Error:0.771 Test Error:0.417\n",
      "Epoch:28/50 Training Error:0.380 Test Error:0.513\n",
      "Epoch:29/50 Training Error:0.545 Test Error:0.123\n",
      "Epoch:30/50 Training Error:0.492 Test Error:0.121\n",
      "Epoch:31/50 Training Error:0.344 Test Error:0.330\n",
      "Epoch:32/50 Training Error:0.560 Test Error:0.529\n",
      "Epoch:33/50 Training Error:0.449 Test Error:0.110\n",
      "Epoch:34/50 Training Error:0.440 Test Error:0.152\n",
      "Epoch:35/50 Training Error:0.610 Test Error:0.105\n",
      "Epoch:36/50 Training Error:0.353 Test Error:0.102\n",
      "Epoch:37/50 Training Error:0.231 Test Error:0.468\n",
      "Epoch:38/50 Training Error:0.471 Test Error:0.302\n",
      "Epoch:39/50 Training Error:0.517 Test Error:0.270\n",
      "Epoch:40/50 Training Error:0.463 Test Error:0.319\n",
      "Epoch:41/50 Training Error:0.447 Test Error:0.410\n",
      "Epoch:42/50 Training Error:0.511 Test Error:0.123\n",
      "Epoch:43/50 Training Error:0.411 Test Error:0.142\n",
      "Epoch:44/50 Training Error:0.357 Test Error:0.414\n",
      "Epoch:45/50 Training Error:0.581 Test Error:0.339\n",
      "Epoch:46/50 Training Error:0.480 Test Error:0.479\n",
      "Epoch:47/50 Training Error:0.465 Test Error:0.460\n",
      "Epoch:48/50 Training Error:0.421 Test Error:0.246\n",
      "Epoch:49/50 Training Error:0.523 Test Error:0.293\n",
      "Epoch:50/50 Training Error:0.468 Test Error:0.153\n",
      "--------------------------------\n",
      "FOLD 1\n",
      "--------------------------------\n",
      "Epoch:1/50 Training Error:241.952 Test Error:233.171\n",
      "Epoch:2/50 Training Error:0.973 Test Error:0.970\n",
      "Epoch:3/50 Training Error:0.987 Test Error:0.984\n",
      "Epoch:4/50 Training Error:0.931 Test Error:0.920\n",
      "Epoch:5/50 Training Error:0.876 Test Error:0.655\n",
      "Epoch:6/50 Training Error:0.747 Test Error:0.301\n",
      "Epoch:7/50 Training Error:0.438 Test Error:0.275\n",
      "Epoch:8/50 Training Error:0.465 Test Error:0.176\n",
      "Epoch:9/50 Training Error:0.582 Test Error:0.272\n",
      "Epoch:10/50 Training Error:0.818 Test Error:0.274\n",
      "Epoch:11/50 Training Error:0.506 Test Error:0.217\n",
      "Epoch:12/50 Training Error:0.922 Test Error:0.282\n",
      "Epoch:13/50 Training Error:0.397 Test Error:0.200\n",
      "Epoch:14/50 Training Error:0.470 Test Error:0.391\n",
      "Epoch:15/50 Training Error:0.518 Test Error:0.136\n",
      "Epoch:16/50 Training Error:0.670 Test Error:0.130\n",
      "Epoch:17/50 Training Error:0.377 Test Error:0.242\n",
      "Epoch:18/50 Training Error:0.755 Test Error:0.221\n",
      "Epoch:19/50 Training Error:0.418 Test Error:0.285\n",
      "Epoch:20/50 Training Error:0.375 Test Error:0.122\n",
      "Epoch:21/50 Training Error:0.451 Test Error:0.247\n",
      "Epoch:22/50 Training Error:0.411 Test Error:0.114\n",
      "Epoch:23/50 Training Error:0.593 Test Error:0.291\n",
      "Epoch:24/50 Training Error:0.570 Test Error:0.292\n",
      "Epoch:25/50 Training Error:0.745 Test Error:0.262\n",
      "Epoch:26/50 Training Error:0.569 Test Error:0.223\n",
      "Epoch:27/50 Training Error:0.873 Test Error:0.327\n",
      "Epoch:28/50 Training Error:0.458 Test Error:0.305\n",
      "Epoch:29/50 Training Error:0.660 Test Error:0.211\n",
      "Epoch:30/50 Training Error:0.553 Test Error:0.141\n",
      "Epoch:31/50 Training Error:0.420 Test Error:0.241\n",
      "Epoch:32/50 Training Error:0.255 Test Error:0.170\n",
      "Epoch:33/50 Training Error:0.511 Test Error:0.162\n",
      "Epoch:34/50 Training Error:0.542 Test Error:0.138\n",
      "Epoch:35/50 Training Error:0.543 Test Error:0.257\n",
      "Epoch:36/50 Training Error:0.489 Test Error:0.286\n",
      "Epoch:37/50 Training Error:0.525 Test Error:0.145\n",
      "Epoch:38/50 Training Error:0.527 Test Error:0.173\n",
      "Epoch:39/50 Training Error:0.696 Test Error:0.310\n",
      "Epoch:40/50 Training Error:0.292 Test Error:0.264\n",
      "Epoch:41/50 Training Error:0.408 Test Error:0.227\n",
      "Epoch:42/50 Training Error:0.581 Test Error:0.203\n",
      "Epoch:43/50 Training Error:0.227 Test Error:0.199\n",
      "Epoch:44/50 Training Error:0.469 Test Error:0.103\n",
      "Epoch:45/50 Training Error:0.329 Test Error:0.106\n",
      "Epoch:46/50 Training Error:0.425 Test Error:0.242\n",
      "Epoch:47/50 Training Error:0.405 Test Error:0.305\n",
      "Epoch:48/50 Training Error:0.520 Test Error:0.104\n",
      "Epoch:49/50 Training Error:0.226 Test Error:0.197\n",
      "Epoch:50/50 Training Error:0.661 Test Error:0.132\n",
      "--------------------------------\n",
      "FOLD 2\n",
      "--------------------------------\n",
      "Epoch:1/50 Training Error:86.738 Test Error:86.026\n",
      "Epoch:2/50 Training Error:0.977 Test Error:0.977\n",
      "Epoch:3/50 Training Error:0.982 Test Error:0.982\n",
      "Epoch:4/50 Training Error:0.813 Test Error:0.788\n",
      "Epoch:5/50 Training Error:0.791 Test Error:1.115\n",
      "Epoch:6/50 Training Error:0.733 Test Error:0.787\n",
      "Epoch:7/50 Training Error:0.753 Test Error:0.720\n",
      "Epoch:8/50 Training Error:0.376 Test Error:0.250\n",
      "Epoch:9/50 Training Error:0.319 Test Error:0.648\n",
      "Epoch:10/50 Training Error:0.747 Test Error:0.681\n",
      "Epoch:11/50 Training Error:0.648 Test Error:0.785\n",
      "Epoch:12/50 Training Error:0.369 Test Error:0.539\n",
      "Epoch:13/50 Training Error:0.384 Test Error:0.247\n",
      "Epoch:14/50 Training Error:0.678 Test Error:0.790\n",
      "Epoch:15/50 Training Error:0.750 Test Error:0.795\n",
      "Epoch:16/50 Training Error:0.606 Test Error:0.723\n",
      "Epoch:17/50 Training Error:0.458 Test Error:0.220\n",
      "Epoch:18/50 Training Error:0.456 Test Error:0.179\n",
      "Epoch:19/50 Training Error:0.690 Test Error:0.676\n",
      "Epoch:20/50 Training Error:0.801 Test Error:0.758\n",
      "Epoch:21/50 Training Error:0.720 Test Error:0.755\n",
      "Epoch:22/50 Training Error:0.502 Test Error:0.563\n",
      "Epoch:23/50 Training Error:1.184 Test Error:1.107\n",
      "Epoch:24/50 Training Error:0.368 Test Error:0.436\n",
      "Epoch:25/50 Training Error:0.577 Test Error:0.430\n",
      "Epoch:26/50 Training Error:0.361 Test Error:0.229\n",
      "Epoch:27/50 Training Error:0.499 Test Error:1.017\n",
      "Epoch:28/50 Training Error:0.658 Test Error:0.214\n",
      "Epoch:29/50 Training Error:0.415 Test Error:0.647\n",
      "Epoch:30/50 Training Error:0.261 Test Error:0.673\n",
      "Epoch:31/50 Training Error:0.559 Test Error:0.840\n",
      "Epoch:32/50 Training Error:0.378 Test Error:0.425\n",
      "Epoch:33/50 Training Error:0.473 Test Error:0.404\n",
      "Epoch:34/50 Training Error:0.351 Test Error:0.195\n",
      "Epoch:35/50 Training Error:0.220 Test Error:0.796\n",
      "Epoch:36/50 Training Error:0.431 Test Error:0.489\n",
      "Epoch:37/50 Training Error:0.486 Test Error:0.480\n",
      "Epoch:38/50 Training Error:0.401 Test Error:0.192\n",
      "Epoch:39/50 Training Error:0.402 Test Error:0.443\n",
      "Epoch:40/50 Training Error:0.487 Test Error:0.174\n",
      "Epoch:41/50 Training Error:0.450 Test Error:0.435\n",
      "Epoch:42/50 Training Error:0.332 Test Error:0.517\n",
      "Epoch:43/50 Training Error:0.337 Test Error:0.180\n",
      "Epoch:44/50 Training Error:0.436 Test Error:0.755\n",
      "Epoch:45/50 Training Error:0.240 Test Error:0.788\n",
      "Epoch:46/50 Training Error:0.471 Test Error:0.463\n",
      "Epoch:47/50 Training Error:0.574 Test Error:0.458\n",
      "Epoch:48/50 Training Error:0.652 Test Error:0.519\n",
      "Epoch:49/50 Training Error:0.301 Test Error:0.186\n",
      "Epoch:50/50 Training Error:0.424 Test Error:0.467\n",
      "--------------------------------\n",
      "FOLD 3\n",
      "--------------------------------\n",
      "Epoch:1/50 Training Error:242.249 Test Error:180.705\n",
      "Epoch:2/50 Training Error:0.980 Test Error:0.983\n",
      "Epoch:3/50 Training Error:0.990 Test Error:0.992\n",
      "Epoch:4/50 Training Error:0.855 Test Error:0.859\n",
      "Epoch:5/50 Training Error:0.504 Test Error:0.495\n",
      "Epoch:6/50 Training Error:0.493 Test Error:0.445\n",
      "Epoch:7/50 Training Error:0.487 Test Error:0.427\n",
      "Epoch:8/50 Training Error:0.433 Test Error:0.185\n",
      "Epoch:9/50 Training Error:0.402 Test Error:0.196\n"
     ]
    },
    {
     "name": "stdout",
     "output_type": "stream",
     "text": [
      "Epoch:10/50 Training Error:0.846 Test Error:0.601\n",
      "Epoch:11/50 Training Error:0.512 Test Error:0.262\n",
      "Epoch:12/50 Training Error:0.428 Test Error:0.441\n",
      "Epoch:13/50 Training Error:0.403 Test Error:0.265\n",
      "Epoch:14/50 Training Error:0.672 Test Error:0.714\n",
      "Epoch:15/50 Training Error:0.635 Test Error:0.627\n",
      "Epoch:16/50 Training Error:0.476 Test Error:0.122\n",
      "Epoch:17/50 Training Error:0.426 Test Error:0.560\n",
      "Epoch:18/50 Training Error:0.520 Test Error:0.509\n",
      "Epoch:19/50 Training Error:0.520 Test Error:0.426\n",
      "Epoch:20/50 Training Error:0.502 Test Error:0.267\n",
      "Epoch:21/50 Training Error:0.760 Test Error:0.806\n",
      "Epoch:22/50 Training Error:0.438 Test Error:0.365\n",
      "Epoch:23/50 Training Error:0.365 Test Error:0.337\n",
      "Epoch:24/50 Training Error:0.476 Test Error:0.330\n",
      "Epoch:25/50 Training Error:0.594 Test Error:0.413\n",
      "Epoch:26/50 Training Error:0.497 Test Error:0.103\n",
      "Epoch:27/50 Training Error:0.376 Test Error:0.270\n",
      "Epoch:28/50 Training Error:0.339 Test Error:0.141\n",
      "Epoch:29/50 Training Error:0.521 Test Error:0.393\n",
      "Epoch:30/50 Training Error:0.292 Test Error:0.489\n",
      "Epoch:31/50 Training Error:0.481 Test Error:0.156\n",
      "Epoch:32/50 Training Error:0.390 Test Error:0.386\n",
      "Epoch:33/50 Training Error:0.244 Test Error:0.466\n",
      "Epoch:34/50 Training Error:0.574 Test Error:0.065\n",
      "Epoch:35/50 Training Error:0.393 Test Error:0.356\n",
      "Epoch:36/50 Training Error:0.440 Test Error:0.289\n",
      "Epoch:37/50 Training Error:0.215 Test Error:0.098\n",
      "Epoch:38/50 Training Error:0.209 Test Error:0.569\n",
      "Epoch:39/50 Training Error:0.488 Test Error:0.288\n",
      "Epoch:40/50 Training Error:0.479 Test Error:0.273\n",
      "Epoch:41/50 Training Error:0.360 Test Error:0.395\n",
      "Epoch:42/50 Training Error:0.539 Test Error:0.129\n",
      "Epoch:43/50 Training Error:0.305 Test Error:0.296\n",
      "Epoch:44/50 Training Error:0.490 Test Error:0.087\n",
      "Epoch:45/50 Training Error:0.333 Test Error:0.388\n",
      "Epoch:46/50 Training Error:0.590 Test Error:0.373\n",
      "Epoch:47/50 Training Error:0.476 Test Error:0.529\n",
      "Epoch:48/50 Training Error:0.552 Test Error:0.285\n",
      "Epoch:49/50 Training Error:0.468 Test Error:0.364\n",
      "Epoch:50/50 Training Error:0.426 Test Error:0.287\n",
      "--------------------------------\n",
      "FOLD 4\n",
      "--------------------------------\n",
      "Epoch:1/50 Training Error:0.972 Test Error:0.978\n",
      "Epoch:2/50 Training Error:0.500 Test Error:0.686\n",
      "Epoch:3/50 Training Error:0.567 Test Error:0.986\n",
      "Epoch:4/50 Training Error:0.503 Test Error:0.482\n",
      "Epoch:5/50 Training Error:0.318 Test Error:0.190\n",
      "Epoch:6/50 Training Error:0.524 Test Error:0.705\n",
      "Epoch:7/50 Training Error:0.321 Test Error:0.344\n",
      "Epoch:8/50 Training Error:0.319 Test Error:0.303\n",
      "Epoch:9/50 Training Error:0.363 Test Error:0.722\n",
      "Epoch:10/50 Training Error:0.406 Test Error:1.032\n",
      "Epoch:11/50 Training Error:0.315 Test Error:0.601\n",
      "Epoch:12/50 Training Error:0.572 Test Error:0.398\n",
      "Epoch:13/50 Training Error:0.227 Test Error:0.884\n",
      "Epoch:14/50 Training Error:0.322 Test Error:0.858\n",
      "Epoch:15/50 Training Error:0.508 Test Error:0.343\n",
      "Epoch:16/50 Training Error:0.497 Test Error:0.551\n",
      "Epoch:17/50 Training Error:0.520 Test Error:0.678\n",
      "Epoch:18/50 Training Error:0.418 Test Error:0.185\n",
      "Epoch:19/50 Training Error:0.302 Test Error:0.767\n",
      "Epoch:20/50 Training Error:0.600 Test Error:0.767\n",
      "Epoch:21/50 Training Error:0.595 Test Error:0.688\n",
      "Epoch:22/50 Training Error:0.349 Test Error:0.188\n",
      "Epoch:23/50 Training Error:0.380 Test Error:0.855\n",
      "Epoch:24/50 Training Error:0.251 Test Error:0.746\n",
      "Epoch:25/50 Training Error:0.223 Test Error:0.775\n",
      "Epoch:26/50 Training Error:0.232 Test Error:0.705\n",
      "Epoch:27/50 Training Error:0.355 Test Error:0.187\n",
      "Epoch:28/50 Training Error:0.365 Test Error:0.571\n",
      "Epoch:29/50 Training Error:0.515 Test Error:0.251\n",
      "Epoch:30/50 Training Error:0.369 Test Error:0.646\n",
      "Epoch:31/50 Training Error:0.234 Test Error:0.448\n",
      "Epoch:32/50 Training Error:0.311 Test Error:0.323\n",
      "Epoch:33/50 Training Error:0.451 Test Error:1.156\n",
      "Epoch:34/50 Training Error:0.370 Test Error:0.782\n",
      "Epoch:35/50 Training Error:0.383 Test Error:0.598\n",
      "Epoch:36/50 Training Error:0.473 Test Error:0.362\n",
      "Epoch:37/50 Training Error:0.485 Test Error:0.344\n",
      "Epoch:38/50 Training Error:0.359 Test Error:0.536\n",
      "Epoch:39/50 Training Error:0.347 Test Error:0.521\n",
      "Epoch:40/50 Training Error:0.373 Test Error:0.754\n",
      "Epoch:41/50 Training Error:0.427 Test Error:0.512\n",
      "Epoch:42/50 Training Error:0.457 Test Error:0.715\n",
      "Epoch:43/50 Training Error:0.415 Test Error:0.624\n",
      "Epoch:44/50 Training Error:0.511 Test Error:0.531\n",
      "Epoch:45/50 Training Error:0.461 Test Error:0.906\n",
      "Epoch:46/50 Training Error:0.391 Test Error:0.606\n",
      "Epoch:47/50 Training Error:0.259 Test Error:0.685\n",
      "Epoch:48/50 Training Error:0.270 Test Error:0.893\n",
      "Epoch:49/50 Training Error:0.424 Test Error:0.970\n",
      "Epoch:50/50 Training Error:0.477 Test Error:0.326\n",
      "Performance of 5 fold cross validation: \n",
      "Average Training Error: 0.491 \t Average Test Error: 0.273\n",
      " \n"
     ]
    },
    {
     "data": {
      "image/png": "[encoded data removed]",
      "text/plain": [
       "<Figure size 720x576 with 1 Axes>"
      ]
     },
     "metadata": {
      "needs_background": "light"
     },
     "output_type": "display_data"
    },
    {
     "data": {
      "text/plain": [
       "0.27309667995673725"
      ]
     },
     "execution_count": 14,
     "metadata": {},
     "output_type": "execute_result"
    }
   ],
   "source": [
    "Kfold(x_train, k_folds, input_size, epochs, criterion, learningRate)"
   ]
  },
  {
   "cell_type": "markdown",
   "metadata": {},
   "source": [
    "#### Parameters tuning"
   ]
  },
  {
   "cell_type": "markdown",
   "metadata": {},
   "source": [
    "Find the best learning rate of our model using cross-validation :"
   ]
  },
  {
   "cell_type": "code",
   "execution_count": 22,
   "metadata": {},
   "outputs": [],
   "source": [
    "# define network parameters\n",
    "learning_rates =[0.1, 0.05, 0.01] #[0.1, 0.05, 0.01, 0.005, 0.001]\n",
    "epochs= 1 #50\n",
    "input_size=x_train.shape[1]\n",
    "k_folds = 5\n",
    "dataset_name = \"very_small\" #Only used to save the plot with the good name\n",
    "\n",
    "# creates a criterion that measures the mean squared error (squared L2 norm) \n",
    "criterion = nn.MSELoss()  "
   ]
  },
  {
   "cell_type": "code",
   "execution_count": 23,
   "metadata": {},
   "outputs": [
    {
     "name": "stdout",
     "output_type": "stream",
     "text": [
      "\u001b[1mLearning rate =  0.1\n",
      "\u001b[0m\n",
      "Performance of 5 fold cross validation: \n",
      "Average Training Error: 1.002 \t Average Test Error: 0.997\n",
      " \n",
      "\u001b[1mLearning rate =  0.05\n",
      "\u001b[0m\n",
      "Performance of 5 fold cross validation: \n",
      "Average Training Error: 0.989 \t Average Test Error: 0.987\n",
      " \n",
      "\u001b[1mLearning rate =  0.01\n",
      "\u001b[0m\n",
      "Performance of 5 fold cross validation: \n",
      "Average Training Error: 127.370 \t Average Test Error: 105.660\n",
      " \n",
      "\u001b[0m\n",
      "Best learning rate is  0.05  with a best error of :  0.9868174701693636\n",
      "\u001b[0m\n"
     ]
    },
    {
     "data": {
      "image/png": "[encoded data removed]",
      "text/plain": [
       "<Figure size 432x288 with 1 Axes>"
      ]
     },
     "metadata": {
      "needs_background": "light"
     },
     "output_type": "display_data"
    }
   ],
   "source": [
    "best_result, best_lr = tuning_lr(x_train, k_folds, input_size, epochs, criterion, learning_rates,  dataset_name_=dataset_name)"
   ]
  },
  {
   "cell_type": "markdown",
   "metadata": {},
   "source": [
    "Find the best number of neurons in the latent space (neurons in the \"middle layer of the auto-encoder\") in the auto-encoder (which is actually the dimension of the compressed data) : "
   ]
  },
  {
   "cell_type": "code",
   "execution_count": 20,
   "metadata": {},
   "outputs": [],
   "source": [
    "# define network parameters\n",
    "lr = best_lr # from above\n",
    "epochs= 1 #50\n",
    "input_size=x_train.shape[1]\n",
    "k_folds = 5\n",
    "number_neurons = [3, 5] #[3, 5, 6, 8, 10]\n",
    "dataset_name = \"very_small\" #Only used to save the plot with the good name\n",
    "\n",
    "# creates a criterion that measures the mean squared error (squared L2 norm) \n",
    "criterion = nn.MSELoss()  "
   ]
  },
  {
   "cell_type": "code",
   "execution_count": 21,
   "metadata": {},
   "outputs": [
    {
     "name": "stdout",
     "output_type": "stream",
     "text": [
      "\u001b[1mNumber of neurons =  3\n",
      "\u001b[0m\n",
      "Performance of 5 fold cross validation: \n",
      "Average Training Error: 0.966 \t Average Test Error: 0.958\n",
      " \n",
      "\u001b[1mNumber of neurons =  5\n",
      "\u001b[0m\n",
      "Performance of 5 fold cross validation: \n",
      "Average Training Error: 0.989 \t Average Test Error: 0.987\n",
      " \n",
      "The results obtained for the number of latent neurons tested are the following : [0.9579114400292873, 0.9868174701693636].\n",
      "The best average test error obtained is 0.9579114400292873, and it is obtained with 3 neurons in the latent layer.\n"
     ]
    },
    {
     "data": {
      "image/png": "[encoded data removed]",
      "text/plain": [
       "<Figure size 432x288 with 1 Axes>"
      ]
     },
     "metadata": {
      "needs_background": "light"
     },
     "output_type": "display_data"
    }
   ],
   "source": [
    "best_result, best_neurons_nb = tuning_latent_layer(x_train, k_folds, input_size, epochs, criterion, lr, number_neurons,  dataset_name_=dataset_name)"
   ]
  },
  {
   "cell_type": "markdown",
   "metadata": {},
   "source": [
    "#### Quality of the compression on the test set using the tuned parameters :"
   ]
  },
  {
   "cell_type": "code",
   "execution_count": null,
   "metadata": {},
   "outputs": [],
   "source": [
    "#Do it for current dataset with nice plot and all"
   ]
  },
  {
   "cell_type": "markdown",
   "metadata": {},
   "source": [
    "The above cell is great for vizualisation, but now we can do it for the different subsamples dataset, see the report to see the nice comparison table :"
   ]
  },
  {
   "cell_type": "code",
   "execution_count": null,
   "metadata": {},
   "outputs": [],
   "source": [
    "import glob\n",
    "import os \n",
    "import _pickle as cPickle\n",
    "\n",
    "file_location = os.path.join('data', 'pickle', 'very_small', '*')\n",
    "\n",
    "filenames = glob.glob(file_location)\n",
    "\n",
    "i=0 \n",
    "for f in filenames:\n",
    "    #Load the data\n",
    "    x  = cPickle.load(open(f, \"rb\"))\n",
    "    \n",
    "    #Split\n",
    "    x_train, x_test = train_test_split(x, test_size=0.1, random_state=seed)\n",
    "    y_train, y_test = x_train, x_test\n",
    "    \n",
    "    #Training\n",
    "    #je vous laisse completer je vous sens plus chaud là dessus mdr\n",
    "    \n",
    "    #Testing\n",
    "    #pareil mdr"
   ]
  },
  {
   "cell_type": "markdown",
   "metadata": {},
   "source": [
    "## 4. Passer en 2D "
   ]
  },
  {
   "cell_type": "markdown",
   "metadata": {},
   "source": [
    "Instead of flattenning our initial dataset into a colummn vector for each simulation, we split it into a 2D matrix for each simulation such as the following:\n",
    "\n",
    "$$\n",
    "\\mathbf{M_{2D}}\n",
    "=\n",
    "\\begin{bmatrix}\n",
    "\\vdots & \\vdots & \\vdots & \\vdots \\\\\n",
    "u_{x}^{(0)} & u_{x}^{(1)} & \\cdots &\n",
    "u_{x}^{(N_t - 1)} \\\\\n",
    "\\vdots & \\vdots & \\ddots & \\vdots \\\\\n",
    "u_{y}^{(0)} & u_{y}^{(1)} & \\cdots &\n",
    "u_{y}^{(N_t - 1)} \\\\\n",
    "\\vdots & \\vdots & \\vdots & \\vdots\n",
    "\\end{bmatrix}\n",
    "$$"
   ]
  },
  {
   "cell_type": "code",
   "execution_count": 16,
   "metadata": {},
   "outputs": [
    {
     "data": {
      "text/plain": [
       "(25, 1100, 110)"
      ]
     },
     "execution_count": 16,
     "metadata": {},
     "output_type": "execute_result"
    }
   ],
   "source": [
    "flattened_array = flatten_2d(new_Ux, new_Uy, ratio_pts)\n",
    "flattened_array.shape"
   ]
  },
  {
   "cell_type": "markdown",
   "metadata": {},
   "source": [
    "## 5. Passer en 4D"
   ]
  },
  {
   "cell_type": "code",
   "execution_count": 11,
   "metadata": {},
   "outputs": [
    {
     "ename": "IndexError",
     "evalue": "index 55 is out of bounds for axis 1 with size 55",
     "output_type": "error",
     "traceback": [
      "\u001b[1;31m---------------------------------------------------------------------------\u001b[0m",
      "\u001b[1;31mIndexError\u001b[0m                                Traceback (most recent call last)",
      "\u001b[1;32m~\\AppData\\Local\\Temp/ipykernel_12324/826318526.py\u001b[0m in \u001b[0;36m<module>\u001b[1;34m\u001b[0m\n\u001b[1;32m----> 1\u001b[1;33m \u001b[0mflattened_array_4d\u001b[0m \u001b[1;33m=\u001b[0m \u001b[0mflatten_4d\u001b[0m\u001b[1;33m(\u001b[0m\u001b[0mnew_Ux\u001b[0m\u001b[1;33m,\u001b[0m \u001b[0mnew_Uy\u001b[0m\u001b[1;33m,\u001b[0m \u001b[0mratio_pts\u001b[0m\u001b[1;33m)\u001b[0m\u001b[1;33m\u001b[0m\u001b[1;33m\u001b[0m\u001b[0m\n\u001b[0m\u001b[0;32m      2\u001b[0m \u001b[0mflattened_array_4d\u001b[0m\u001b[1;33m.\u001b[0m\u001b[0mshape\u001b[0m\u001b[1;33m\u001b[0m\u001b[1;33m\u001b[0m\u001b[0m\n",
      "\u001b[1;32m~\\OneDrive\\Documents\\Théau EPFL\\9.MA1\\Machine learning\\ML_project2\\ml-project-2-thevipers2\\preprocessing.py\u001b[0m in \u001b[0;36mflatten_4d\u001b[1;34m(Ux, Uy, ratios_pts, size)\u001b[0m\n\u001b[0;32m    278\u001b[0m \u001b[1;33m\u001b[0m\u001b[0m\n\u001b[0;32m    279\u001b[0m             \u001b[1;31m# plug the concatenation of the x and y speed coordinate into the column of the final array\u001b[0m\u001b[1;33m\u001b[0m\u001b[1;33m\u001b[0m\u001b[1;33m\u001b[0m\u001b[0m\n\u001b[1;32m--> 280\u001b[1;33m             \u001b[0mflattened_array_all\u001b[0m\u001b[1;33m[\u001b[0m\u001b[0midx_sim\u001b[0m\u001b[1;33m,\u001b[0m \u001b[0mcol\u001b[0m\u001b[1;33m,\u001b[0m \u001b[1;33m:\u001b[0m\u001b[1;33m,\u001b[0m \u001b[1;33m:\u001b[0m\u001b[1;33m]\u001b[0m \u001b[1;33m=\u001b[0m \u001b[0msim_x\u001b[0m\u001b[1;33m\u001b[0m\u001b[1;33m\u001b[0m\u001b[0m\n\u001b[0m\u001b[0;32m    281\u001b[0m             \u001b[0mflattened_array_all\u001b[0m\u001b[1;33m[\u001b[0m\u001b[0midx_sim\u001b[0m\u001b[1;33m,\u001b[0m \u001b[1;33m:\u001b[0m\u001b[1;33m,\u001b[0m \u001b[0mcol\u001b[0m\u001b[1;33m,\u001b[0m \u001b[1;33m:\u001b[0m\u001b[1;33m]\u001b[0m \u001b[1;33m=\u001b[0m \u001b[0msim_y\u001b[0m\u001b[1;33m\u001b[0m\u001b[1;33m\u001b[0m\u001b[0m\n\u001b[0;32m    282\u001b[0m \u001b[1;33m\u001b[0m\u001b[0m\n",
      "\u001b[1;31mIndexError\u001b[0m: index 55 is out of bounds for axis 1 with size 55"
     ]
    }
   ],
   "source": [
    "flattened_array_4d = flatten_4d(new_Ux, new_Uy, ratio_pts)\n",
    "flattened_array_4d.shape"
   ]
  },
  {
   "cell_type": "code",
   "execution_count": null,
   "metadata": {},
   "outputs": [],
   "source": [
    "flattened_array_4d = normalize(flattened_array_4d)"
   ]
  },
  {
   "cell_type": "code",
   "execution_count": null,
   "metadata": {},
   "outputs": [],
   "source": [
    "x_train, x_test = train_test_split(flattened_array_4d, test_size=0.1, random_state=seed)"
   ]
  },
  {
   "cell_type": "code",
   "execution_count": null,
   "metadata": {},
   "outputs": [],
   "source": [
    "import h5py"
   ]
  },
  {
   "cell_type": "code",
   "execution_count": null,
   "metadata": {},
   "outputs": [],
   "source": [
    "hf = h5py.File('trainset.h5', 'w')\n",
    "hf.create_dataset('dataset_1', data=x_train)"
   ]
  },
  {
   "cell_type": "code",
   "execution_count": null,
   "metadata": {},
   "outputs": [],
   "source": [
    "hf = h5py.File('testset.h5', 'w')\n",
    "hf.create_dataset('dataset_1', data=x)"
   ]
  },
  {
   "cell_type": "markdown",
   "metadata": {},
   "source": [
    "## 6. Discussion & conclusion"
   ]
  },
  {
   "cell_type": "code",
   "execution_count": null,
   "metadata": {},
   "outputs": [],
   "source": []
  }
 ],
 "metadata": {
  "kernelspec": {
   "display_name": "Python 3 (ipykernel)",
   "language": "python",
   "name": "python3"
  },
  "language_info": {
   "codemirror_mode": {
    "name": "ipython",
    "version": 3
   },
   "file_extension": ".py",
   "mimetype": "text/x-python",
   "name": "python",
   "nbconvert_exporter": "python",
   "pygments_lexer": "ipython3",
   "version": "3.8.8"
  }
 },
 "nbformat": 4,
 "nbformat_minor": 4
}
