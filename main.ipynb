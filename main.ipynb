{
 "cells": [
  {
   "cell_type": "markdown",
   "metadata": {},
   "source": [
    "# Machine Learning - Project 2:\n",
    "# _Autoencoder for mathematical modeling of blood flow in a stenosis context_"
   ]
  },
  {
   "cell_type": "markdown",
   "metadata": {},
   "source": [
    "## Context"
   ]
  },
  {
   "cell_type": "markdown",
   "metadata": {},
   "source": [
    "In this project, we are going to analyze data derived from..."
   ]
  },
  {
   "cell_type": "markdown",
   "metadata": {},
   "source": [
    "Our goals:\n",
    "1. modeliser mathématiquement l’écoulement sanguin à l’aide de PDE dépendante de 2-3 paramètres physique\n",
    "2. simuler l’écoulement par un code d’éléments fini ou similaire\n",
    "3. générer beaucoup de solutions avec une grande nombre de paramètres différents. (Les 2-3, pris de façon aléatoire)\n",
    "4. a. utiliser les solutions numérique pour établir un auto encoder qui au milieu n’ai que 2-5 hyper-paramètres libres  \n",
    "b. quel erreur on obtient ? Est-ce possible de réduire le nombre d’hyper-paramètres ?\n",
    "5. étudier s’il y a une rélation entre les 2-5 hyper-paramètre et les paramètres physique  \n",
    "a. à l’aide de statistiques\n",
    "5. b. à l’aide d’un DNN (différent de 4a)\n",
    "6. (optionnel) faire un DNN entre l’input de 4a et output les paramêtres physique. Et/ou l’inverse.\n",
    "7. Discussion et conclusions "
   ]
  },
  {
   "cell_type": "markdown",
   "metadata": {},
   "source": [
    "Abbreviations used:\n",
    "- $N_u$ = total number of spatial points per simulation\n",
    "- $N_t$ = total number of time steps per simulation\n",
    "- $N_s$ = total number of simulations"
   ]
  },
  {
   "cell_type": "markdown",
   "metadata": {},
   "source": [
    "## Table of contents"
   ]
  },
  {
   "cell_type": "markdown",
   "metadata": {},
   "source": [
    "[1. Data exploration](#data_exploration) \n",
    "- [Imports](#1imports)\n",
    "- [Pathways](#1pathways)\n",
    "- [Loading](#1load)\n",
    "- [Exploration](#1exploration)\n",
    "\n",
    "[2. Data preprocessing](#preprocessing)\n",
    "\n",
    "[3. Autoencode](#classifier)"
   ]
  },
  {
   "cell_type": "markdown",
   "metadata": {},
   "source": [
    "## 1. Data exploration  <a name=\"data_exploration\"></a>"
   ]
  },
  {
   "cell_type": "markdown",
   "metadata": {},
   "source": [
    "### Imports  <a name=\"1imports\"></a>"
   ]
  },
  {
   "cell_type": "code",
   "execution_count": 1,
   "metadata": {},
   "outputs": [],
   "source": [
    "# Useful starting lines\n",
    "%matplotlib inline\n",
    "import numpy as np\n",
    "import matplotlib.pyplot as plt\n",
    "import pandas as pd\n",
    "from helpers import *\n",
    "from preprocessing import *\n",
    "from sklearn.model_selection import train_test_split\n",
    "%load_ext autoreload\n",
    "%autoreload 2"
   ]
  },
  {
   "cell_type": "markdown",
   "metadata": {},
   "source": [
    "### Pathways <a name=\"1pathways\"></a>"
   ]
  },
  {
   "cell_type": "code",
   "execution_count": 2,
   "metadata": {},
   "outputs": [],
   "source": [
    "DATA_PATH = 'data/'\n",
    "DATA_Ux_PATH = DATA_PATH + 'u1_small.csv.bz2'\n",
    "DATA_Uy_PATH = DATA_PATH + 'u2_small.csv.bz2'"
   ]
  },
  {
   "cell_type": "markdown",
   "metadata": {},
   "source": [
    "### Loading <a name=\"1load\"></a>"
   ]
  },
  {
   "cell_type": "markdown",
   "metadata": {},
   "source": [
    "Let's load the data which consists of 2 matrices Ux, Uy denoting the x and y coordinates of the speed."
   ]
  },
  {
   "cell_type": "code",
   "execution_count": null,
   "metadata": {},
   "outputs": [],
   "source": [
    "# Loading\n",
    "Ux_pd = pd.read_csv(DATA_Ux_PATH, header=None)\n",
    "Uy_pd = pd.read_csv(DATA_Uy_PATH, header=None)\n",
    "# Converting from dataframe to numpy\n",
    "Ux = Ux_pd.to_numpy()\n",
    "Uy = Uy_pd.to_numpy()"
   ]
  },
  {
   "cell_type": "markdown",
   "metadata": {},
   "source": [
    "### Exploration <a name=\"1exploration\"></a>"
   ]
  },
  {
   "cell_type": "markdown",
   "metadata": {},
   "source": [
    "Let's have a closer look at our imported data sets. The columns represent the time steps and the rows represent a point of our blood vessel mesh and each 5509 row a new simulation."
   ]
  },
  {
   "cell_type": "code",
   "execution_count": 5,
   "metadata": {
    "scrolled": false
   },
   "outputs": [
    {
     "name": "stdout",
     "output_type": "stream",
     "text": [
      "Our input array Ux is of shape: (3029950, 110)\n",
      "Our input array Uy is of shape: (3035459, 110)\n",
      "Printing a row of Ux: \n",
      " [0.06417897 0.25470302 0.55885671 0.9493     1.38895813 1.83536662\n",
      " 2.24512906 2.57829978 2.80235851 2.89542637 2.99010086 3.07846599\n",
      " 3.16237576 3.24272178 3.31993687 3.39424293 3.46575844 3.53454851\n",
      " 3.60064961 3.66408252 3.72485926 3.7829869  3.83846969 3.89131023\n",
      " 3.94151015 3.98907053 4.03399206 4.07627523 4.11592037 4.15292772\n",
      " 4.18729746 4.21902971 4.24812457 4.27458211 4.29840238 4.31958542\n",
      " 4.33813127 4.35403995 4.36731148 4.37794586 4.38594311 4.39130324\n",
      " 4.39402626 4.39450555 4.39404578 4.39284058 4.39093435 4.38834725\n",
      " 4.38508917 4.38116522 4.37657817 4.37132956 4.36542029 4.35885087\n",
      " 4.3516216  4.34373269 4.33518425 4.32597635 4.31610906 4.3055824\n",
      " 4.29439639 4.28255106 4.27004643 4.25688248 4.24305925 4.22857672\n",
      " 4.2134349  4.19763381 4.18117343 4.16405377 4.14627483 4.12783661\n",
      " 4.10873912 4.08898235 4.06856631 4.04749099 4.02575639 4.00336252\n",
      " 3.98030938 3.95659696 3.93222526 3.90719429 3.88150404 3.85515452\n",
      " 3.82814573 3.80047766 3.77215032 3.7431637  3.71351781 3.68321264\n",
      " 3.6522482  3.62062448 3.58834149 3.55539922 3.52179768 3.48753686\n",
      " 3.45261677 3.41703741 3.38079877 3.34390086 3.30634367 3.26812721\n",
      " 3.22925147 3.18971646 3.14952217 3.10866861 3.06715577 3.02498366\n",
      " 2.98215227 2.93866161] \n",
      "\n",
      "Printing a row of Uy: \n",
      " [0.06417897 0.25470302 0.55885671 0.9493     1.38895813 1.83536662\n",
      " 2.24512906 2.57829978 2.80235851 2.89542637 2.99010086 3.07846599\n",
      " 3.16237576 3.24272178 3.31993687 3.39424293 3.46575844 3.53454851\n",
      " 3.60064961 3.66408252 3.72485926 3.7829869  3.83846969 3.89131023\n",
      " 3.94151015 3.98907053 4.03399206 4.07627523 4.11592037 4.15292772\n",
      " 4.18729746 4.21902971 4.24812457 4.27458211 4.29840238 4.31958542\n",
      " 4.33813127 4.35403995 4.36731148 4.37794586 4.38594311 4.39130324\n",
      " 4.39402626 4.39450555 4.39404578 4.39284058 4.39093435 4.38834725\n",
      " 4.38508917 4.38116522 4.37657817 4.37132956 4.36542029 4.35885087\n",
      " 4.3516216  4.34373269 4.33518425 4.32597635 4.31610906 4.3055824\n",
      " 4.29439639 4.28255106 4.27004643 4.25688248 4.24305925 4.22857672\n",
      " 4.2134349  4.19763381 4.18117343 4.16405377 4.14627483 4.12783661\n",
      " 4.10873912 4.08898235 4.06856631 4.04749099 4.02575639 4.00336252\n",
      " 3.98030938 3.95659696 3.93222526 3.90719429 3.88150404 3.85515452\n",
      " 3.82814573 3.80047766 3.77215032 3.7431637  3.71351781 3.68321264\n",
      " 3.6522482  3.62062448 3.58834149 3.55539922 3.52179768 3.48753686\n",
      " 3.45261677 3.41703741 3.38079877 3.34390086 3.30634367 3.26812721\n",
      " 3.22925147 3.18971646 3.14952217 3.10866861 3.06715577 3.02498366\n",
      " 2.98215227 2.93866161] \n",
      "\n"
     ]
    }
   ],
   "source": [
    "print(\"Our input array Ux is of shape:\",Ux.shape)\n",
    "print(\"Our input array Uy is of shape:\",Uy.shape)\n",
    "print(\"Printing a row of Ux:\", '\\n', Ux[10,:], '\\n')\n",
    "print(\"Printing a row of Uy:\", '\\n', Uy[10,:], '\\n')"
   ]
  },
  {
   "cell_type": "markdown",
   "metadata": {},
   "source": [
    "For the rest of the analysis, we need to figure out the number of simulation step. As we know that we previsouly generated 25 simulations on Matlab and all the new simulations are appended row-wise, we can deduce it with the following computation."
   ]
  },
  {
   "cell_type": "code",
   "execution_count": 6,
   "metadata": {
    "scrolled": true
   },
   "outputs": [
    {
     "name": "stdout",
     "output_type": "stream",
     "text": [
      "We have run 3029950 simulations with a step of 121198.0\n"
     ]
    }
   ],
   "source": [
    "size = Ux.shape[0]/25\n",
    "print(\"We have run\", Ux.shape[0],\"simulations with a step of\",size)"
   ]
  },
  {
   "cell_type": "markdown",
   "metadata": {},
   "source": [
    "## 2. Data preprocessing  <a name=\"preprocessing\"></a>"
   ]
  },
  {
   "cell_type": "markdown",
   "metadata": {},
   "source": [
    "Let's check if we have any NaN or None values in our dataframe."
   ]
  },
  {
   "cell_type": "code",
   "execution_count": 7,
   "metadata": {
    "scrolled": true
   },
   "outputs": [
    {
     "name": "stdout",
     "output_type": "stream",
     "text": [
      "0\n",
      "0\n"
     ]
    }
   ],
   "source": [
    "print(np.count_nonzero(np.isnan(Ux)))\n",
    "print(np.count_nonzero(np.isnan(Uy)))"
   ]
  },
  {
   "cell_type": "markdown",
   "metadata": {},
   "source": [
    "It seems there are no None values so we can start direclty preprocess our datasets."
   ]
  },
  {
   "cell_type": "markdown",
   "metadata": {},
   "source": [
    "ADDITIONAL IDEAS FOR PREPROCESSING\n",
    "- remove columns with 0 std dev?\n",
    "- standardization?"
   ]
  },
  {
   "cell_type": "markdown",
   "metadata": {},
   "source": [
    "Let's sample our data points into the following ratios : "
   ]
  },
  {
   "cell_type": "code",
   "execution_count": 8,
   "metadata": {},
   "outputs": [
    {
     "name": "stdout",
     "output_type": "stream",
     "text": [
      "(302500, 110) (302500, 110)\n"
     ]
    }
   ],
   "source": [
    "ratio_pts = 0.1\n",
    "ratio_time = 1\n",
    "\n",
    "new_Ux, new_Uy = sample(Ux, Uy, ratio_pts, ratio_time)\n",
    "print(new_Ux.shape, new_Uy.shape )"
   ]
  },
  {
   "cell_type": "code",
   "execution_count": 9,
   "metadata": {},
   "outputs": [
    {
     "name": "stdout",
     "output_type": "stream",
     "text": [
      "With the sampling we got from  5509  positions to  550  positions\n",
      "With the sampling we got from  110  time steps to  110  time steps\n"
     ]
    }
   ],
   "source": [
    "new_Nu, new_Nt = get_Nu_Nt_sampled(Ux, new_Ux)\n",
    "\n",
    "print('With the sampling we got from ', 5509, ' positions to ', new_Nu, ' positions')\n",
    "print('With the sampling we got from ', 110, ' time steps to ', new_Nt, ' time steps')"
   ]
  },
  {
   "cell_type": "markdown",
   "metadata": {},
   "source": [
    "Let's flatten our matrices into a single matrix with dimensions $((2 N_u N_t), N_s)$"
   ]
  },
  {
   "cell_type": "code",
   "execution_count": 10,
   "metadata": {},
   "outputs": [
    {
     "name": "stdout",
     "output_type": "stream",
     "text": [
      "[[2.4669628  2.95609394 2.9131648  ... 2.16528591 2.02004071 2.93534615]\n",
      " [0.32461604 0.39327742 0.38658752 ... 0.29807351 0.26373287 0.39251852]\n",
      " [2.23956366 2.68549092 2.64593838 ... 1.97405694 1.83301461 2.66750225]\n",
      " ...\n",
      " [3.58186483 4.27567226 4.21769347 ... 3.08544866 2.94060993 4.2379438 ]\n",
      " [0.16419236 0.20173798 0.19768457 ... 0.15929658 0.13202943 0.2026274 ]\n",
      " [1.07779084 1.29176932 1.27313156 ... 0.9428681  0.88227332 1.28281555]]\n"
     ]
    }
   ],
   "source": [
    "print(new_Ux)"
   ]
  },
  {
   "cell_type": "code",
   "execution_count": 11,
   "metadata": {
    "scrolled": false
   },
   "outputs": [
    {
     "data": {
      "text/plain": [
       "(550, 121000)"
      ]
     },
     "execution_count": 11,
     "metadata": {},
     "output_type": "execute_result"
    }
   ],
   "source": [
    "flattened_array = flatten(new_Ux, new_Uy, ratio_pts)\n",
    "flattened_array.shape"
   ]
  },
  {
   "cell_type": "markdown",
   "metadata": {},
   "source": [
    "Let's make a sanity check that the dimension of 1 datapoint is indeed ${2 * new_{N_t} * new_{N_u})}$"
   ]
  },
  {
   "cell_type": "code",
   "execution_count": 12,
   "metadata": {},
   "outputs": [
    {
     "name": "stdout",
     "output_type": "stream",
     "text": [
      "121000\n"
     ]
    }
   ],
   "source": [
    "assert flattened_array.shape[1] == 2*new_Nt*new_Nu\n",
    "\n",
    "print(2*new_Nt*new_Nu)"
   ]
  },
  {
   "cell_type": "markdown",
   "metadata": {},
   "source": [
    "## 3. Auto-encoder  <a name=\"autoencoder\"></a>"
   ]
  },
  {
   "cell_type": "markdown",
   "metadata": {},
   "source": [
    "We split the data set into a training a testing set to be able to evaluate our autoencoder."
   ]
  },
  {
   "cell_type": "code",
   "execution_count": 13,
   "metadata": {},
   "outputs": [
    {
     "name": "stdout",
     "output_type": "stream",
     "text": [
      "(495, 121000)\n",
      "(55, 121000)\n"
     ]
    }
   ],
   "source": [
    "# Set seed \n",
    "seed = 123\n",
    "flattened_array_train, flattened_array_test = train_test_split(flattened_array, test_size=0.1, random_state=seed)\n",
    "y_train, y_test = flattened_array_train, flattened_array_test\n",
    "\n",
    "print(flattened_array_train.shape)\n",
    "print(flattened_array_test.shape)"
   ]
  },
  {
   "cell_type": "code",
   "execution_count": 14,
   "metadata": {},
   "outputs": [
    {
     "name": "stdout",
     "output_type": "stream",
     "text": [
      "epoch : 1/100, loss = 58.193390\n",
      "epoch : 2/100, loss = 58.184418\n",
      "epoch : 3/100, loss = 58.206425\n",
      "epoch : 4/100, loss = 58.114281\n",
      "epoch : 5/100, loss = 58.176647\n",
      "epoch : 6/100, loss = 58.243023\n",
      "epoch : 7/100, loss = 58.234535\n",
      "epoch : 8/100, loss = 58.185444\n",
      "epoch : 9/100, loss = 58.164902\n",
      "epoch : 10/100, loss = 58.153805\n",
      "epoch : 11/100, loss = 58.201366\n",
      "epoch : 12/100, loss = 58.186378\n",
      "epoch : 13/100, loss = 58.176662\n",
      "epoch : 14/100, loss = 58.113903\n",
      "epoch : 15/100, loss = 58.176727\n",
      "epoch : 16/100, loss = 58.233944\n",
      "epoch : 17/100, loss = 58.151752\n",
      "epoch : 18/100, loss = 58.188232\n",
      "epoch : 19/100, loss = 58.223103\n",
      "epoch : 20/100, loss = 58.189640\n",
      "epoch : 21/100, loss = 58.203979\n",
      "epoch : 22/100, loss = 58.223717\n",
      "epoch : 23/100, loss = 58.114792\n",
      "epoch : 24/100, loss = 58.167294\n",
      "epoch : 25/100, loss = 58.205078\n",
      "epoch : 26/100, loss = 58.146725\n",
      "epoch : 27/100, loss = 58.180946\n",
      "epoch : 28/100, loss = 58.202721\n",
      "epoch : 29/100, loss = 58.193977\n",
      "epoch : 30/100, loss = 58.155376\n",
      "epoch : 31/100, loss = 58.188663\n",
      "epoch : 32/100, loss = 58.161774\n",
      "epoch : 33/100, loss = 58.219738\n",
      "epoch : 34/100, loss = 58.220490\n",
      "epoch : 35/100, loss = 58.156933\n",
      "epoch : 36/100, loss = 58.171219\n",
      "epoch : 37/100, loss = 58.195076\n",
      "epoch : 38/100, loss = 58.209446\n",
      "epoch : 39/100, loss = 58.200882\n",
      "epoch : 40/100, loss = 58.185024\n",
      "epoch : 41/100, loss = 58.151943\n",
      "epoch : 42/100, loss = 58.182663\n",
      "epoch : 43/100, loss = 58.213482\n",
      "epoch : 44/100, loss = 58.224873\n",
      "epoch : 45/100, loss = 58.208233\n",
      "epoch : 46/100, loss = 58.183613\n",
      "epoch : 47/100, loss = 58.183262\n",
      "epoch : 48/100, loss = 58.107559\n",
      "epoch : 49/100, loss = 58.177444\n",
      "epoch : 50/100, loss = 58.114521\n",
      "epoch : 51/100, loss = 58.178432\n",
      "epoch : 52/100, loss = 58.232773\n",
      "epoch : 53/100, loss = 58.158550\n",
      "epoch : 54/100, loss = 58.169529\n",
      "epoch : 55/100, loss = 58.200893\n",
      "epoch : 56/100, loss = 58.199089\n",
      "epoch : 57/100, loss = 58.185886\n",
      "epoch : 58/100, loss = 58.147533\n",
      "epoch : 59/100, loss = 58.183475\n",
      "epoch : 60/100, loss = 58.199554\n",
      "epoch : 61/100, loss = 58.178604\n",
      "epoch : 62/100, loss = 58.169247\n",
      "epoch : 63/100, loss = 58.159184\n",
      "epoch : 64/100, loss = 58.233517\n",
      "epoch : 65/100, loss = 58.158447\n",
      "epoch : 66/100, loss = 58.151386\n",
      "epoch : 67/100, loss = 58.214706\n",
      "epoch : 68/100, loss = 58.147121\n",
      "epoch : 69/100, loss = 58.168785\n",
      "epoch : 70/100, loss = 58.169743\n",
      "epoch : 71/100, loss = 58.208870\n",
      "epoch : 72/100, loss = 58.182121\n",
      "epoch : 73/100, loss = 58.203026\n",
      "epoch : 74/100, loss = 58.175491\n",
      "epoch : 75/100, loss = 58.178810\n",
      "epoch : 76/100, loss = 58.217682\n",
      "epoch : 77/100, loss = 58.169632\n",
      "epoch : 78/100, loss = 58.211273\n",
      "epoch : 79/100, loss = 58.191521\n",
      "epoch : 80/100, loss = 58.179195\n",
      "epoch : 81/100, loss = 58.154575\n",
      "epoch : 82/100, loss = 58.191265\n",
      "epoch : 83/100, loss = 58.189476\n",
      "epoch : 84/100, loss = 58.214119\n",
      "epoch : 85/100, loss = 58.158230\n",
      "epoch : 86/100, loss = 58.195297\n",
      "epoch : 87/100, loss = 58.155396\n",
      "epoch : 88/100, loss = 58.215355\n",
      "epoch : 89/100, loss = 58.067436\n",
      "epoch : 90/100, loss = 58.197067\n",
      "epoch : 91/100, loss = 58.158813\n",
      "epoch : 92/100, loss = 58.171116\n",
      "epoch : 93/100, loss = 58.204765\n",
      "epoch : 94/100, loss = 58.200104\n",
      "epoch : 95/100, loss = 58.195591\n",
      "epoch : 96/100, loss = 58.172047\n",
      "epoch : 97/100, loss = 58.170837\n",
      "epoch : 98/100, loss = 58.114799\n",
      "epoch : 99/100, loss = 58.079857\n",
      "epoch : 100/100, loss = 58.195770\n"
     ]
    }
   ],
   "source": [
    "from autoencoder import *\n",
    "Autoencoder.train(flattened_array_train)"
   ]
  },
  {
   "cell_type": "markdown",
   "metadata": {},
   "source": [
    "## 4. Passer en 2D "
   ]
  },
  {
   "cell_type": "markdown",
   "metadata": {},
   "source": [
    "## 5. Hyper-parameters and physics parameters relationship"
   ]
  },
  {
   "cell_type": "markdown",
   "metadata": {},
   "source": [
    "## 6. Discussion & conclusion"
   ]
  },
  {
   "cell_type": "code",
   "execution_count": null,
   "metadata": {},
   "outputs": [],
   "source": []
  }
 ],
 "metadata": {
  "kernelspec": {
   "display_name": "Python 3",
   "language": "python",
   "name": "python3"
  },
  "language_info": {
   "codemirror_mode": {
    "name": "ipython",
    "version": 3
   },
   "file_extension": ".py",
   "mimetype": "text/x-python",
   "name": "python",
   "nbconvert_exporter": "python",
   "pygments_lexer": "ipython3",
   "version": "3.8.8"
  }
 },
 "nbformat": 4,
 "nbformat_minor": 4
}
