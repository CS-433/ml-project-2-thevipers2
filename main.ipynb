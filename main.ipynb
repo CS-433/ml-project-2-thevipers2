{
 "cells": [
  {
   "cell_type": "markdown",
   "metadata": {},
   "source": [
    "# Machine Learning - Project 2:\n",
    "# _Unsteady parametrized Stokes equations in a 2D arterial bifurcation with stenosis: design of a Feed-Forward Autoencoder for data compression_"
   ]
  },
  {
   "cell_type": "markdown",
   "metadata": {},
   "source": [
    "## Context"
   ]
  },
  {
   "cell_type": "markdown",
   "metadata": {},
   "source": [
    "Our project aims at investigating the relationship between classical numerical methods and deep-learning techniques, with the final purpose of efficiently providing accurate solutions to parametrized PDE problems, being fully unaware of the values of the characteristic parameters. The professor's Deparis lab has developed efficient numerical methods for the resolution of parametrized time-dependent PDEs. In the following, we develop deep-learning models that take advantage of these numerical methods to solve parametrized unsteady PDEs without any knowledge of the characteristic parameters.\n",
    "\n",
    "In this notebook, we make progress to this end by proposing deep-learning approaches to identify and evolve a low-dimensional representation of a spatiotemporal system. In particular, we employ PyTorch __Feed-Forward AEs__ to learn an optimal low-dimensional representation of the full state of the system. The notebook `lstm_main.ipynb` continues our analysis by focusing on _LSTM AEs_."
   ]
  },
  {
   "cell_type": "markdown",
   "metadata": {},
   "source": [
    "Abbreviations used:\n",
    "- $N_u$ = total number of spatial points per simulation\n",
    "- $N_t$ = total number of time steps per simulation\n",
    "- $N_s$ = total number of simulations"
   ]
  },
  {
   "cell_type": "markdown",
   "metadata": {},
   "source": [
    "## Table of contents"
   ]
  },
  {
   "cell_type": "markdown",
   "metadata": {},
   "source": [
    "[1. Data exploration](#data_exploration) \n",
    "- [Imports](#1imports)\n",
    "- [Pathways](#1pathways)\n",
    "- [Loading](#1load)\n",
    "- [Exploration](#1exploration)\n",
    "\n",
    "[2. Data preprocessing](#preprocessing)\n",
    "\n",
    "[3. Pickle](#pickle)\n",
    "\n",
    "[4. Autoencoder](#autoencoder)\n",
    "\n",
    "[5. Physical interpretation](#physical)\n",
    "\n",
    "[6. Discussion & conclusion](#ccl)"
   ]
  },
  {
   "cell_type": "markdown",
   "metadata": {},
   "source": [
    "## 1. Data exploration  <a name=\"data_exploration\"></a>"
   ]
  },
  {
   "cell_type": "markdown",
   "metadata": {},
   "source": [
    "### Imports  <a name=\"1imports\"></a>"
   ]
  },
  {
   "cell_type": "code",
   "execution_count": 5,
   "metadata": {},
   "outputs": [],
   "source": [
    "# Useful starting lines\n",
    "%matplotlib inline\n",
    "import numpy as np\n",
    "import matplotlib.pyplot as plt\n",
    "import pandas as pd\n",
    "from helpers import *\n",
    "from preprocessing import *\n",
    "from sklearn.model_selection import train_test_split\n",
    "from autoencoder import *\n",
    "from crossvalidation import *\n",
    "import _pickle as cPickle\n",
    "%load_ext autoreload\n",
    "%autoreload 2\n",
    "torch.manual_seed(0)\n",
    "np.random.seed(1)\n",
    "seed = 1"
   ]
  },
  {
   "cell_type": "markdown",
   "metadata": {},
   "source": [
    "If you have already saved the pickle files, you can already jump [here](#start_pickle)!"
   ]
  },
  {
   "cell_type": "markdown",
   "metadata": {},
   "source": [
    "### Pathways <a name=\"1pathways\"></a>"
   ]
  },
  {
   "cell_type": "code",
   "execution_count": 71,
   "metadata": {},
   "outputs": [],
   "source": [
    "DATA_PATH = 'data/'\n",
    "DATA_Ux_PATH = DATA_PATH + 'u1_very_small.csv.bz2'\n",
    "DATA_Uy_PATH = DATA_PATH + 'u2_very_small.csv.bz2'"
   ]
  },
  {
   "cell_type": "markdown",
   "metadata": {},
   "source": [
    "### Loading <a name=\"1load\"></a>"
   ]
  },
  {
   "cell_type": "markdown",
   "metadata": {},
   "source": [
    "Let's load the data which consists of 2 matrices Ux, Uy denoting the x and y coordinates of the speed."
   ]
  },
  {
   "cell_type": "code",
   "execution_count": 72,
   "metadata": {},
   "outputs": [],
   "source": [
    "# Loading\n",
    "Ux_pd = pd.read_csv(DATA_Ux_PATH, header=None)\n",
    "Uy_pd = pd.read_csv(DATA_Uy_PATH, header=None)\n",
    "# Converting from dataframe to numpy\n",
    "Ux = Ux_pd.to_numpy()\n",
    "Uy = Uy_pd.to_numpy()"
   ]
  },
  {
   "cell_type": "markdown",
   "metadata": {},
   "source": [
    "### Exploration <a name=\"1exploration\"></a>"
   ]
  },
  {
   "cell_type": "markdown",
   "metadata": {},
   "source": [
    "Let's have a closer look at our imported data sets. The columns represent the time steps and the rows represent a point of our blood vessel mesh and each 5509 row a new simulation."
   ]
  },
  {
   "cell_type": "code",
   "execution_count": 73,
   "metadata": {
    "scrolled": false
   },
   "outputs": [
    {
     "name": "stdout",
     "output_type": "stream",
     "text": [
      "Our input array Ux is of shape: (137725, 110)\n",
      "Our input array Uy is of shape: (137725, 110)\n",
      "Printing a row of Ux: \n",
      " [0.0694243  0.27537487 0.60389834 1.02538242 1.49979277 1.9813229\n",
      " 2.42318455 2.78232553 3.02371067 3.12378595 3.22605803 3.32166836\n",
      " 3.41249686 3.49946177 3.58301614 3.66339786 3.74073801 3.81511138\n",
      " 3.88656184 3.95511576 4.02078945 4.08359325 4.14353388 4.20061589\n",
      " 4.2548424  4.30621561 4.35473712 4.40040807 4.44322934 4.48320158\n",
      " 4.52032526 4.55460075 4.58602833 4.61460821 4.64034055 4.66322547\n",
      " 4.68326307 4.70045341 4.71479655 4.72629252 4.73494137 4.7407431\n",
      " 4.74369775 4.74423086 4.74375285 4.74246986 4.74042825 4.73764939\n",
      " 4.73414407 4.72991811 4.7249748  4.71931611 4.71294324 4.70585693\n",
      " 4.6980577  4.68954587 4.68032167 4.67038525 4.65973675 4.64837623\n",
      " 4.63630377 4.6235194  4.61002317 4.5958151  4.5808952  4.5652635\n",
      " 4.54892001 4.53186473 4.51409767 4.49561883 4.47642823 4.45652585\n",
      " 4.43591171 4.41458581 4.39254814 4.36979872 4.34633752 4.32216457\n",
      " 4.29727986 4.27168339 4.24537516 4.21835516 4.19062341 4.1621799\n",
      " 4.13302463 4.1031576  4.07257881 4.04128826 4.00928595 3.97657188\n",
      " 3.94314606 3.90900847 3.87415912 3.83859802 3.80232515 3.76534053\n",
      " 3.72764415 3.689236   3.6501161  3.61028444 3.56974102 3.52848584\n",
      " 3.4865189  3.4438402  3.40044974 3.35634752 3.31153355 3.26600781\n",
      " 3.21977031 3.17282106] \n",
      "\n",
      "Printing a row of Uy: \n",
      " [0.00067075 0.00314395 0.0081191  0.01585384 0.02617912 0.0385416\n",
      " 0.05208035 0.06573238 0.07835575 0.08885756 0.09779466 0.10544569\n",
      " 0.1120431  0.11779068 0.12286148 0.12739624 0.13150532 0.13527295\n",
      " 0.13876218 0.14201954 0.14507906 0.14796547 0.15069666 0.15328552\n",
      " 0.15574136 0.15807087 0.16027887 0.16236883 0.16434326 0.16620397\n",
      " 0.16795225 0.16958906 0.17111508 0.1725308  0.17383659 0.1750327\n",
      " 0.17611934 0.17709663 0.17796468 0.17872356 0.17937332 0.17991401\n",
      " 0.18034566 0.1806724  0.18091083 0.18107502 0.18117609 0.18122281\n",
      " 0.18122208 0.18117917 0.18109807 0.18098175 0.1808324  0.18065161\n",
      " 0.18044053 0.18020003 0.17993069 0.17963297 0.17930717 0.17895353\n",
      " 0.17857222 0.17816334 0.177727   0.17726324 0.17677213 0.17625368\n",
      " 0.17570793 0.17513488 0.17453457 0.17390698 0.17325214 0.17257004\n",
      " 0.17186069 0.17112409 0.17036024 0.16956915 0.16875082 0.16790524\n",
      " 0.16703242 0.16613236 0.16520505 0.16425051 0.16326872 0.16225969\n",
      " 0.16122342 0.1601599  0.15906915 0.15795116 0.15680592 0.15563344\n",
      " 0.15443372 0.15320676 0.15195256 0.15067112 0.14936244 0.14802651\n",
      " 0.14666335 0.14527294 0.14385529 0.14241041 0.14093828 0.1394389\n",
      " 0.13791229 0.13635844 0.13477734 0.13316901 0.13153343 0.12987061\n",
      " 0.12818056 0.12646326] \n",
      "\n"
     ]
    }
   ],
   "source": [
    "print(\"Our input array Ux is of shape:\",Ux.shape)\n",
    "print(\"Our input array Uy is of shape:\",Uy.shape)\n",
    "print(\"Printing a row of Ux:\", '\\n', Ux[10,:], '\\n')\n",
    "print(\"Printing a row of Uy:\", '\\n', Uy[10,:], '\\n')"
   ]
  },
  {
   "cell_type": "markdown",
   "metadata": {},
   "source": [
    "For the rest of the analysis, we need to figure out the number of simulation step. As we know that we previsouly generated the number of simulations on Matlab and all the new simulations are appended row-wise, we can deduce it with the following computation."
   ]
  },
  {
   "cell_type": "code",
   "execution_count": 74,
   "metadata": {
    "scrolled": true
   },
   "outputs": [
    {
     "name": "stdout",
     "output_type": "stream",
     "text": [
      "We ran  25 simulations with different parameters for each simulation (parameters of the stenosis and resistance of the blood flow in the bifurcations)\n",
      "1 simulation calculate the velocities of the blood flow at  5509  different positions and at  110  different times\n"
     ]
    }
   ],
   "source": [
    "positions =5509 #We know it from the matlab code\n",
    "times = Ux.shape[1]\n",
    "simulations = int(Ux.shape[0]/positions)\n",
    "print(\"We ran\", simulations, \"simulations with different parameters for each simulation (parameters of the stenosis and resistance of the blood flow in the bifurcations)\")\n",
    "print(\"1 simulation calculate the velocities of the blood flow at\", positions, \"different positions and at\", times, \"different times\")"
   ]
  },
  {
   "cell_type": "markdown",
   "metadata": {},
   "source": [
    "## 2. Data preprocessing  <a name=\"preprocessing\"></a>"
   ]
  },
  {
   "cell_type": "markdown",
   "metadata": {},
   "source": [
    "Let's check if we have any NaN or None values in our dataframe."
   ]
  },
  {
   "cell_type": "code",
   "execution_count": 75,
   "metadata": {
    "scrolled": true
   },
   "outputs": [
    {
     "name": "stdout",
     "output_type": "stream",
     "text": [
      "0\n",
      "0\n"
     ]
    }
   ],
   "source": [
    "print(np.count_nonzero(np.isnan(Ux)))\n",
    "print(np.count_nonzero(np.isnan(Uy)))"
   ]
  },
  {
   "cell_type": "markdown",
   "metadata": {},
   "source": [
    "It seems there are no None values so we can start direclty preprocess our datasets."
   ]
  },
  {
   "cell_type": "markdown",
   "metadata": {},
   "source": [
    "Let's sample our data points into the following ratio. "
   ]
  },
  {
   "cell_type": "code",
   "execution_count": 76,
   "metadata": {},
   "outputs": [
    {
     "name": "stdout",
     "output_type": "stream",
     "text": [
      "(13750, 55) (13750, 55)\n"
     ]
    }
   ],
   "source": [
    "ratio_pts = 0.1\n",
    "ratio_time = 0.5\n",
    "\n",
    "new_Ux, new_Uy, new_inds = sample(Ux, Uy, ratio_pts, ratio_time)\n",
    "print(new_Ux.shape, new_Uy.shape)"
   ]
  },
  {
   "cell_type": "code",
   "execution_count": 77,
   "metadata": {},
   "outputs": [
    {
     "name": "stdout",
     "output_type": "stream",
     "text": [
      "With the sampling we got from  5509  positions to  550  positions\n",
      "With the sampling we got from  110  time steps to  55  time steps\n"
     ]
    }
   ],
   "source": [
    "new_Nu, new_Nt = get_Nu_Nt_sampled(Ux, new_Ux)\n",
    "\n",
    "print('With the sampling we got from', 5509, 'positions to', new_Nu, 'positions')\n",
    "print('With the sampling we got from', 110, 'time steps to', new_Nt, 'time steps')"
   ]
  },
  {
   "cell_type": "markdown",
   "metadata": {},
   "source": [
    "We can look at the positions of the sampled positions to make sure that we cover mostly all the important parts of the geometry of the artery."
   ]
  },
  {
   "cell_type": "code",
   "execution_count": 78,
   "metadata": {
    "scrolled": true
   },
   "outputs": [
    {
     "data": {
      "image/png": "[encoded data removed]",
      "text/plain": [
       "<Figure size 648x360 with 1 Axes>"
      ]
     },
     "metadata": {
      "needs_background": "light"
     },
     "output_type": "display_data"
    }
   ],
   "source": [
    "plot_sampled_coord(new_inds) "
   ]
  },
  {
   "cell_type": "markdown",
   "metadata": {},
   "source": [
    "Let's flatten our matrices into a single matrix with dimensions $(N_s, (2 N_u N_t))$. For each simulation, the x and y speed coordinates are compressed to the following 1D matrix:\n",
    "\n",
    "$$\n",
    "\\mathbf{M_{1D}}\n",
    "=\n",
    "\\begin{bmatrix}\n",
    "\\vdots \\\\\n",
    "u_{x}^{(0)} \\\\\n",
    "\\vdots \\\\\n",
    "u_{y}^{(0)} \\\\\n",
    "\\vdots \\\\\n",
    "u_{x}^{(1)} \\\\\n",
    "\\vdots \\\\\n",
    "u_{y}^{(1)} \\\\\n",
    "\\vdots \\\\\n",
    "u_{x}^{(N_t - 1)} \\\\\n",
    "\\vdots \\\\\n",
    "u_{y}^{(N_t - 1)} \\\\\n",
    "\\vdots \n",
    "\\end{bmatrix}\n",
    "$$\n",
    "\n"
   ]
  },
  {
   "cell_type": "code",
   "execution_count": 80,
   "metadata": {
    "scrolled": false
   },
   "outputs": [
    {
     "data": {
      "text/plain": [
       "(25, 60500)"
      ]
     },
     "execution_count": 80,
     "metadata": {},
     "output_type": "execute_result"
    }
   ],
   "source": [
    "flattened_array = flatten(new_Ux, new_Uy, ratio_pts)\n",
    "flattened_array.shape"
   ]
  },
  {
   "cell_type": "markdown",
   "metadata": {},
   "source": [
    "Let's make a sanity check that the dimension of 1 datapoint is indeed ${2 * new_{N_t} * new_{N_u}}$."
   ]
  },
  {
   "cell_type": "code",
   "execution_count": 81,
   "metadata": {},
   "outputs": [
    {
     "name": "stdout",
     "output_type": "stream",
     "text": [
      "60500\n"
     ]
    }
   ],
   "source": [
    "assert flattened_array.shape[1] == 2*new_Nt*new_Nu\n",
    "\n",
    "print(2*new_Nt*new_Nu)"
   ]
  },
  {
   "cell_type": "markdown",
   "metadata": {},
   "source": [
    "## 3. Pickle  <a name=\"pickle\"></a>"
   ]
  },
  {
   "cell_type": "markdown",
   "metadata": {},
   "source": [
    "To avoid the loading and processing steps each time we open the notebook, we will save the processed matrix \"flattened_array\" using pickle. "
   ]
  },
  {
   "cell_type": "markdown",
   "metadata": {},
   "source": [
    "In the following cell, we will create pickles for every subsampled data according to the ratios_pts and the ratios_t."
   ]
  },
  {
   "cell_type": "code",
   "execution_count": 14,
   "metadata": {},
   "outputs": [],
   "source": [
    "'''\n",
    "ratios_pts = [0.1, 0.05, 0.02]\n",
    "ratios_t = [0.5, 0.25, 0.1]\n",
    "\n",
    "create_subsamples(Ux, Uy, ratios_pts, ratios_t, name_file='middle_small')\n",
    "'''"
   ]
  },
  {
   "cell_type": "markdown",
   "metadata": {},
   "source": [
    "The cell above is only intented to be run __once__."
   ]
  },
  {
   "cell_type": "markdown",
   "metadata": {},
   "source": [
    "#### Start from here if you the pickle file already exist in your data folder <a name=\"start_pickle\"></a>"
   ]
  },
  {
   "cell_type": "markdown",
   "metadata": {},
   "source": [
    "Change only the following cell to change the name of the file you want to open."
   ]
  },
  {
   "cell_type": "code",
   "execution_count": 93,
   "metadata": {},
   "outputs": [
    {
     "name": "stdout",
     "output_type": "stream",
     "text": [
      "name of the file you want to read :  processed_middle_small_0.1_0.5\n"
     ]
    }
   ],
   "source": [
    "ratios = [0.1, 0.5]\n",
    "size = ['very_small', 'middle_small', 'small']\n",
    "\n",
    "name = 'processed_'+str(size[1])+'_'+str(ratios[0])+'_'+str(ratios[1])\n",
    "\n",
    "print('name of the file you want to read:', name)"
   ]
  },
  {
   "cell_type": "code",
   "execution_count": 94,
   "metadata": {},
   "outputs": [],
   "source": [
    "flattened_array  = cPickle.load(open(\"data/pickle/\"+str(size[1])+\"/\"+name, \"rb\"))"
   ]
  },
  {
   "cell_type": "code",
   "execution_count": 95,
   "metadata": {},
   "outputs": [
    {
     "name": "stdout",
     "output_type": "stream",
     "text": [
      "[[ 6.59818698e-02  1.82234920e-02  6.44159502e-02 ...  1.03034493e+00\n",
      "  -9.73947264e-03 -1.67477632e-02]\n",
      " [ 5.29771523e-02  1.32216300e-02  4.90189335e-02 ...  9.93200215e-01\n",
      "   5.02639122e-03  1.41599883e-03]\n",
      " [ 8.25671280e-02  2.32952726e-02  6.87771891e-02 ...  1.77500861e+00\n",
      "   3.44533164e-04  1.81417079e-02]\n",
      " ...\n",
      " [ 2.19606656e-01  2.55903473e-02  2.29397872e-01 ...  1.46759534e+00\n",
      "   7.42708226e-02 -1.34336791e-02]\n",
      " [ 2.41341112e-01  5.06083120e-02  2.15209040e-01 ...  4.44840207e+00\n",
      "   4.35858394e-02  2.36892166e-02]\n",
      " [ 6.98710694e-02  1.96083000e-02  6.43463295e-02 ...  1.38366628e+00\n",
      "  -1.23426650e-03  1.73919218e-03]]\n"
     ]
    }
   ],
   "source": [
    "print(flattened_array.shape)"
   ]
  },
  {
   "cell_type": "markdown",
   "metadata": {},
   "source": [
    "##### Final step : split train/test\n",
    "\n",
    "We split the data set into a training a testing set to be able to evaluate our autoencoder."
   ]
  },
  {
   "cell_type": "code",
   "execution_count": 96,
   "metadata": {},
   "outputs": [
    {
     "name": "stdout",
     "output_type": "stream",
     "text": [
      "(157, 60500)\n",
      "(18, 60500)\n"
     ]
    }
   ],
   "source": [
    "x_train, x_test = train_test_split(flattened_array, test_size=0.1, random_state=seed)\n",
    "y_train, y_test = x_train, x_test\n",
    "\n",
    "print(x_train.shape)\n",
    "print(x_test.shape)"
   ]
  },
  {
   "cell_type": "markdown",
   "metadata": {},
   "source": [
    "## 4. Feed-forward auto-encoder  <a name=\"autoencoder\"></a>"
   ]
  },
  {
   "cell_type": "markdown",
   "metadata": {},
   "source": [
    "Let's have a first look at our model."
   ]
  },
  {
   "cell_type": "code",
   "execution_count": 97,
   "metadata": {},
   "outputs": [
    {
     "name": "stdout",
     "output_type": "stream",
     "text": [
      "--------------------------------\n",
      "FOLD 0\n",
      "--------------------------------\n",
      "Epoch:1/10 Training Error:0.908 Test Error:0.913\n",
      "Epoch:2/10 Training Error:0.402 Test Error:0.390\n",
      "Epoch:3/10 Training Error:0.397 Test Error:0.406\n",
      "Epoch:4/10 Training Error:0.403 Test Error:0.435\n",
      "Epoch:5/10 Training Error:0.368 Test Error:0.582\n",
      "Epoch:6/10 Training Error:0.402 Test Error:0.433\n",
      "Epoch:7/10 Training Error:0.417 Test Error:0.542\n",
      "Epoch:8/10 Training Error:0.330 Test Error:0.447\n",
      "Epoch:9/10 Training Error:0.467 Test Error:0.325\n",
      "Epoch:10/10 Training Error:0.356 Test Error:0.412\n",
      "--------------------------------\n",
      "FOLD 1\n",
      "--------------------------------\n",
      "Epoch:1/10 Training Error:0.741 Test Error:0.723\n",
      "Epoch:2/10 Training Error:0.341 Test Error:0.336\n",
      "Epoch:3/10 Training Error:0.308 Test Error:0.293\n",
      "Epoch:4/10 Training Error:0.311 Test Error:0.350\n",
      "Epoch:5/10 Training Error:0.402 Test Error:0.387\n",
      "Epoch:6/10 Training Error:0.354 Test Error:0.318\n",
      "Epoch:7/10 Training Error:0.415 Test Error:0.357\n",
      "Epoch:8/10 Training Error:0.456 Test Error:0.252\n",
      "Epoch:9/10 Training Error:0.357 Test Error:0.374\n",
      "Epoch:10/10 Training Error:0.428 Test Error:0.341\n",
      "--------------------------------\n",
      "FOLD 2\n",
      "--------------------------------\n",
      "Epoch:1/10 Training Error:0.931 Test Error:0.934\n",
      "Epoch:2/10 Training Error:0.419 Test Error:0.334\n",
      "Epoch:3/10 Training Error:0.319 Test Error:0.334\n",
      "Epoch:4/10 Training Error:0.499 Test Error:0.515\n",
      "Epoch:5/10 Training Error:0.472 Test Error:0.303\n",
      "Epoch:6/10 Training Error:0.415 Test Error:0.457\n",
      "Epoch:7/10 Training Error:0.482 Test Error:0.226\n",
      "Epoch:8/10 Training Error:0.339 Test Error:0.333\n",
      "Epoch:9/10 Training Error:0.492 Test Error:0.366\n",
      "Epoch:10/10 Training Error:0.430 Test Error:0.241\n",
      "--------------------------------\n",
      "FOLD 3\n",
      "--------------------------------\n",
      "Epoch:1/10 Training Error:0.844 Test Error:0.847\n",
      "Epoch:2/10 Training Error:0.375 Test Error:0.383\n",
      "Epoch:3/10 Training Error:0.365 Test Error:0.379\n",
      "Epoch:4/10 Training Error:0.373 Test Error:0.357\n",
      "Epoch:5/10 Training Error:0.321 Test Error:0.445\n",
      "Epoch:6/10 Training Error:0.271 Test Error:0.367\n",
      "Epoch:7/10 Training Error:0.363 Test Error:0.431\n",
      "Epoch:8/10 Training Error:0.375 Test Error:0.367\n",
      "Epoch:9/10 Training Error:0.436 Test Error:0.302\n",
      "Epoch:10/10 Training Error:0.349 Test Error:0.554\n",
      "--------------------------------\n",
      "FOLD 4\n",
      "--------------------------------\n",
      "Epoch:1/10 Training Error:0.972 Test Error:0.973\n",
      "Epoch:2/10 Training Error:0.391 Test Error:0.312\n",
      "Epoch:3/10 Training Error:0.863 Test Error:0.549\n",
      "Epoch:4/10 Training Error:0.534 Test Error:0.361\n",
      "Epoch:5/10 Training Error:0.397 Test Error:0.351\n",
      "Epoch:6/10 Training Error:0.373 Test Error:0.307\n",
      "Epoch:7/10 Training Error:0.377 Test Error:0.391\n",
      "Epoch:8/10 Training Error:0.330 Test Error:0.441\n",
      "Epoch:9/10 Training Error:0.343 Test Error:0.417\n",
      "Epoch:10/10 Training Error:0.396 Test Error:0.352\n",
      "Performance of 5 fold cross validation: \n",
      "Average Training Error: 0.392 \t Average Test Error: 0.380\n",
      " \n"
     ]
    },
    {
     "data": {
      "image/png": "[encoded data removed]",
      "text/plain": [
       "<Figure size 720x576 with 1 Axes>"
      ]
     },
     "metadata": {
      "needs_background": "light"
     },
     "output_type": "display_data"
    },
    {
     "data": {
      "text/plain": [
       "0.3800161567133314"
      ]
     },
     "execution_count": 97,
     "metadata": {},
     "output_type": "execute_result"
    }
   ],
   "source": [
    "learningRate = 1e-3\n",
    "epochs= 10\n",
    "input_size=x_train.shape[1]\n",
    "k_folds = 5\n",
    "criterion = nn.MSELoss()  \n",
    "dataset_name = \"middle_small\" #Only used to save the plot with the good name\n",
    "Kfold(x_train, k_folds, input_size, epochs, criterion, learningRate, neuron=5, momentum=0.9, comment = True)"
   ]
  },
  {
   "cell_type": "markdown",
   "metadata": {},
   "source": [
    "#### Parameters tuning"
   ]
  },
  {
   "cell_type": "markdown",
   "metadata": {},
   "source": [
    "Find the best learning rate of our model using cross-validation."
   ]
  },
  {
   "cell_type": "code",
   "execution_count": 86,
   "metadata": {},
   "outputs": [],
   "source": [
    "# define network parameters\n",
    "learning_rates =[1e-2, 1e-3, 1e-4, 1e-5]\n",
    "epochs= 50\n",
    "input_size=x_train.shape[1]\n",
    "k_folds = 5\n",
    "dataset_name = \"middle_small\" #Only used to save the plot with the good name\n",
    "\n",
    "# creates a criterion that measures the mean squared error (squared L2 norm) \n",
    "criterion = nn.MSELoss()  "
   ]
  },
  {
   "cell_type": "code",
   "execution_count": 98,
   "metadata": {},
   "outputs": [
    {
     "name": "stdout",
     "output_type": "stream",
     "text": [
      "\u001b[1mLearning rate =  0.01\n",
      "\u001b[0m\n",
      "Performance of 5 fold cross validation: \n",
      "Average Training Error: 10512.464 \t Average Test Error: 10685.136\n",
      " \n",
      "\u001b[1mLearning rate =  0.001\n",
      "\u001b[0m\n",
      "Performance of 5 fold cross validation: \n",
      "Average Training Error: 0.392 \t Average Test Error: 0.380\n",
      " \n",
      "\u001b[1mLearning rate =  0.0001\n",
      "\u001b[0m\n",
      "Performance of 5 fold cross validation: \n",
      "Average Training Error: 0.389 \t Average Test Error: 0.380\n",
      " \n",
      "\u001b[1mLearning rate =  1e-05\n",
      "\u001b[0m\n",
      "Performance of 5 fold cross validation: \n",
      "Average Training Error: 0.948 \t Average Test Error: 0.947\n",
      " \n",
      "\u001b[0m\n",
      "Best learning rate is  0.0001  with a best error of :  0.3797835463868534\n",
      "\u001b[0m\n"
     ]
    },
    {
     "data": {
      "image/png": "[encoded data removed]",
      "text/plain": [
       "<Figure size 432x288 with 1 Axes>"
      ]
     },
     "metadata": {
      "needs_background": "light"
     },
     "output_type": "display_data"
    }
   ],
   "source": [
    "best_result, best_lr = tuning_lr(x_train, k_folds, input_size, epochs, criterion, learning_rates,  dataset_name_=dataset_name)"
   ]
  },
  {
   "cell_type": "markdown",
   "metadata": {},
   "source": [
    "Find the best number of neurons in the latent space (neurons in the \"middle layer of the auto-encoder\") in the auto-encoder (which is actually the dimension of the compressed data)."
   ]
  },
  {
   "cell_type": "code",
   "execution_count": 99,
   "metadata": {},
   "outputs": [],
   "source": [
    "# define network parameters\n",
    "lr = best_lr # from above\n",
    "epochs= 50\n",
    "input_size=x_train.shape[1]\n",
    "k_folds = 5\n",
    "number_neurons = [3, 4, 5, 6, 7, 8, 9, 10]\n",
    "dataset_name = \"middle_small\" #Only used to save the plot with the good name\n",
    "\n",
    "# creates a criterion that measures the mean squared error (squared L2 norm) \n",
    "criterion = nn.MSELoss()  "
   ]
  },
  {
   "cell_type": "code",
   "execution_count": 100,
   "metadata": {},
   "outputs": [
    {
     "name": "stdout",
     "output_type": "stream",
     "text": [
      "\u001b[1mNumber of neurons =  3\n",
      "\u001b[0m\n",
      "Performance of 5 fold cross validation: \n",
      "Average Training Error: 0.414 \t Average Test Error: 0.397\n",
      " \n",
      "\u001b[1mNumber of neurons =  4\n",
      "\u001b[0m\n",
      "Performance of 5 fold cross validation: \n",
      "Average Training Error: 0.379 \t Average Test Error: 0.471\n",
      " \n",
      "\u001b[1mNumber of neurons =  5\n",
      "\u001b[0m\n",
      "Performance of 5 fold cross validation: \n",
      "Average Training Error: 0.413 \t Average Test Error: 0.367\n",
      " \n",
      "\u001b[1mNumber of neurons =  6\n",
      "\u001b[0m\n",
      "Performance of 5 fold cross validation: \n",
      "Average Training Error: 0.389 \t Average Test Error: 0.392\n",
      " \n",
      "\u001b[1mNumber of neurons =  7\n",
      "\u001b[0m\n",
      "Performance of 5 fold cross validation: \n",
      "Average Training Error: 0.456 \t Average Test Error: 0.397\n",
      " \n",
      "\u001b[1mNumber of neurons =  8\n",
      "\u001b[0m\n",
      "Performance of 5 fold cross validation: \n",
      "Average Training Error: 0.375 \t Average Test Error: 0.349\n",
      " \n",
      "\u001b[1mNumber of neurons =  9\n",
      "\u001b[0m\n",
      "Performance of 5 fold cross validation: \n",
      "Average Training Error: 0.393 \t Average Test Error: 0.421\n",
      " \n",
      "\u001b[1mNumber of neurons =  10\n",
      "\u001b[0m\n",
      "Performance of 5 fold cross validation: \n",
      "Average Training Error: 0.455 \t Average Test Error: 0.462\n",
      " \n",
      "The results obtained for the number of latent neurons tested are the following : [0.3971173501602135, 0.47100008299620316, 0.36685535982275624, 0.3915793749459967, 0.3974154740670129, 0.34856887735155706, 0.4207551853371513, 0.46189651285803546].\n",
      "The best average test error obtained is 0.34856887735155706, and it is obtained with 8 neurons in the latent layer.\n"
     ]
    },
    {
     "data": {
      "image/png": "[encoded data removed]",
      "text/plain": [
       "<Figure size 432x288 with 1 Axes>"
      ]
     },
     "metadata": {
      "needs_background": "light"
     },
     "output_type": "display_data"
    }
   ],
   "source": [
    "best_result, best_neurons_nb = tuning_latent_layer(x_train, k_folds, input_size, epochs, criterion, lr, number_neurons,  dataset_name_=dataset_name)"
   ]
  },
  {
   "cell_type": "markdown",
   "metadata": {},
   "source": [
    "#### Let's try with the tuned parameters and see how it goes along the epochs"
   ]
  },
  {
   "cell_type": "code",
   "execution_count": 101,
   "metadata": {},
   "outputs": [],
   "source": [
    "# define network parameters\n",
    "learningRate= best_lr\n",
    "epochs=50\n",
    "input_size=x_train.shape[1]\n",
    "k_folds = 3\n",
    "neuron_ = best_neurons_nb\n",
    "\n",
    "# creates a criterion that measures the mean squared error (squared L2 norm) \n",
    "criterion = nn.MSELoss() "
   ]
  },
  {
   "cell_type": "code",
   "execution_count": 102,
   "metadata": {},
   "outputs": [
    {
     "name": "stdout",
     "output_type": "stream",
     "text": [
      "--------------------------------\n",
      "FOLD 0\n",
      "--------------------------------\n",
      "Epoch:1/50 Training Error:0.991 Test Error:0.990\n",
      "Epoch:2/50 Training Error:0.939 Test Error:0.940\n",
      "Epoch:3/50 Training Error:0.837 Test Error:0.840\n",
      "Epoch:4/50 Training Error:0.697 Test Error:0.680\n",
      "Epoch:5/50 Training Error:0.558 Test Error:0.529\n",
      "Epoch:6/50 Training Error:0.390 Test Error:0.507\n",
      "Epoch:7/50 Training Error:0.294 Test Error:0.366\n",
      "Epoch:8/50 Training Error:0.340 Test Error:0.316\n",
      "Epoch:9/50 Training Error:0.628 Test Error:0.433\n",
      "Epoch:10/50 Training Error:0.428 Test Error:0.453\n",
      "Epoch:11/50 Training Error:0.454 Test Error:0.391\n",
      "Epoch:12/50 Training Error:0.539 Test Error:0.366\n",
      "Epoch:13/50 Training Error:0.339 Test Error:0.345\n",
      "Epoch:14/50 Training Error:0.393 Test Error:0.318\n",
      "Epoch:15/50 Training Error:0.342 Test Error:0.463\n",
      "Epoch:16/50 Training Error:0.338 Test Error:0.364\n",
      "Epoch:17/50 Training Error:0.291 Test Error:0.387\n",
      "Epoch:18/50 Training Error:0.453 Test Error:0.418\n",
      "Epoch:19/50 Training Error:0.330 Test Error:0.470\n",
      "Epoch:20/50 Training Error:0.319 Test Error:0.356\n",
      "Epoch:21/50 Training Error:0.468 Test Error:0.405\n",
      "Epoch:22/50 Training Error:0.451 Test Error:0.346\n",
      "Epoch:23/50 Training Error:0.374 Test Error:0.353\n",
      "Epoch:24/50 Training Error:0.432 Test Error:0.468\n",
      "Epoch:25/50 Training Error:0.344 Test Error:0.477\n",
      "Epoch:26/50 Training Error:0.336 Test Error:0.392\n",
      "Epoch:27/50 Training Error:0.341 Test Error:0.417\n",
      "Epoch:28/50 Training Error:0.359 Test Error:0.334\n",
      "Epoch:29/50 Training Error:0.299 Test Error:0.290\n",
      "Epoch:30/50 Training Error:0.364 Test Error:0.402\n",
      "Epoch:31/50 Training Error:0.358 Test Error:0.357\n",
      "Epoch:32/50 Training Error:0.440 Test Error:0.277\n",
      "Epoch:33/50 Training Error:0.376 Test Error:0.468\n",
      "Epoch:34/50 Training Error:0.305 Test Error:0.223\n",
      "Epoch:35/50 Training Error:0.382 Test Error:0.290\n",
      "Epoch:36/50 Training Error:0.394 Test Error:0.327\n",
      "Epoch:37/50 Training Error:0.460 Test Error:0.325\n",
      "Epoch:38/50 Training Error:0.580 Test Error:0.373\n",
      "Epoch:39/50 Training Error:0.333 Test Error:0.435\n",
      "Epoch:40/50 Training Error:0.388 Test Error:0.368\n",
      "Epoch:41/50 Training Error:0.362 Test Error:0.421\n",
      "Epoch:42/50 Training Error:0.412 Test Error:0.311\n",
      "Epoch:43/50 Training Error:0.311 Test Error:0.466\n",
      "Epoch:44/50 Training Error:0.472 Test Error:0.382\n",
      "Epoch:45/50 Training Error:0.385 Test Error:0.313\n",
      "Epoch:46/50 Training Error:0.384 Test Error:0.379\n",
      "Epoch:47/50 Training Error:0.393 Test Error:0.414\n",
      "Epoch:48/50 Training Error:0.555 Test Error:0.355\n",
      "Epoch:49/50 Training Error:0.407 Test Error:0.371\n",
      "Epoch:50/50 Training Error:0.697 Test Error:0.450\n",
      "--------------------------------\n",
      "FOLD 1\n",
      "--------------------------------\n",
      "Epoch:1/50 Training Error:0.996 Test Error:0.996\n",
      "Epoch:2/50 Training Error:0.964 Test Error:0.961\n",
      "Epoch:3/50 Training Error:0.881 Test Error:0.881\n",
      "Epoch:4/50 Training Error:0.755 Test Error:0.742\n",
      "Epoch:5/50 Training Error:0.603 Test Error:0.588\n",
      "Epoch:6/50 Training Error:0.494 Test Error:0.426\n",
      "Epoch:7/50 Training Error:0.419 Test Error:0.360\n",
      "Epoch:8/50 Training Error:0.409 Test Error:0.298\n",
      "Epoch:9/50 Training Error:0.381 Test Error:0.239\n",
      "Epoch:10/50 Training Error:0.404 Test Error:0.289\n",
      "Epoch:11/50 Training Error:0.378 Test Error:0.320\n",
      "Epoch:12/50 Training Error:0.445 Test Error:0.269\n",
      "Epoch:13/50 Training Error:0.402 Test Error:0.344\n",
      "Epoch:14/50 Training Error:0.379 Test Error:0.297\n",
      "Epoch:15/50 Training Error:0.432 Test Error:0.335\n",
      "Epoch:16/50 Training Error:0.344 Test Error:0.320\n",
      "Epoch:17/50 Training Error:0.508 Test Error:0.299\n",
      "Epoch:18/50 Training Error:0.385 Test Error:0.244\n",
      "Epoch:19/50 Training Error:0.440 Test Error:0.352\n",
      "Epoch:20/50 Training Error:0.451 Test Error:0.292\n",
      "Epoch:21/50 Training Error:0.383 Test Error:0.330\n",
      "Epoch:22/50 Training Error:0.467 Test Error:0.395\n",
      "Epoch:23/50 Training Error:0.502 Test Error:0.328\n",
      "Epoch:24/50 Training Error:0.372 Test Error:0.365\n",
      "Epoch:25/50 Training Error:0.370 Test Error:0.285\n",
      "Epoch:26/50 Training Error:0.401 Test Error:0.344\n",
      "Epoch:27/50 Training Error:0.345 Test Error:0.243\n",
      "Epoch:28/50 Training Error:0.463 Test Error:0.293\n",
      "Epoch:29/50 Training Error:0.429 Test Error:0.382\n",
      "Epoch:30/50 Training Error:0.471 Test Error:0.376\n",
      "Epoch:31/50 Training Error:0.396 Test Error:0.336\n",
      "Epoch:32/50 Training Error:0.364 Test Error:0.339\n",
      "Epoch:33/50 Training Error:0.361 Test Error:0.406\n",
      "Epoch:34/50 Training Error:0.416 Test Error:0.270\n",
      "Epoch:35/50 Training Error:0.395 Test Error:0.353\n",
      "Epoch:36/50 Training Error:0.403 Test Error:0.261\n",
      "Epoch:37/50 Training Error:0.384 Test Error:0.281\n",
      "Epoch:38/50 Training Error:0.453 Test Error:0.271\n",
      "Epoch:39/50 Training Error:0.296 Test Error:0.312\n",
      "Epoch:40/50 Training Error:0.476 Test Error:0.287\n",
      "Epoch:41/50 Training Error:0.404 Test Error:0.248\n",
      "Epoch:42/50 Training Error:0.349 Test Error:0.285\n",
      "Epoch:43/50 Training Error:0.499 Test Error:0.317\n",
      "Epoch:44/50 Training Error:0.388 Test Error:0.338\n",
      "Epoch:45/50 Training Error:0.497 Test Error:0.354\n",
      "Epoch:46/50 Training Error:0.370 Test Error:0.372\n",
      "Epoch:47/50 Training Error:0.360 Test Error:0.298\n",
      "Epoch:48/50 Training Error:0.470 Test Error:0.290\n",
      "Epoch:49/50 Training Error:0.415 Test Error:0.291\n",
      "Epoch:50/50 Training Error:0.459 Test Error:0.311\n",
      "--------------------------------\n",
      "FOLD 2\n",
      "--------------------------------\n",
      "Epoch:1/50 Training Error:0.993 Test Error:0.993\n",
      "Epoch:2/50 Training Error:0.955 Test Error:0.957\n",
      "Epoch:3/50 Training Error:0.858 Test Error:0.864\n",
      "Epoch:4/50 Training Error:0.711 Test Error:0.737\n",
      "Epoch:5/50 Training Error:0.533 Test Error:0.547\n",
      "Epoch:6/50 Training Error:0.395 Test Error:0.454\n",
      "Epoch:7/50 Training Error:0.326 Test Error:0.307\n",
      "Epoch:8/50 Training Error:0.329 Test Error:0.396\n",
      "Epoch:9/50 Training Error:0.322 Test Error:0.428\n",
      "Epoch:10/50 Training Error:0.374 Test Error:0.425\n",
      "Epoch:11/50 Training Error:0.362 Test Error:0.509\n",
      "Epoch:12/50 Training Error:0.318 Test Error:0.291\n",
      "Epoch:13/50 Training Error:0.296 Test Error:0.417\n",
      "Epoch:14/50 Training Error:0.353 Test Error:0.432\n",
      "Epoch:15/50 Training Error:0.482 Test Error:0.430\n",
      "Epoch:16/50 Training Error:0.355 Test Error:0.338\n",
      "Epoch:17/50 Training Error:0.425 Test Error:0.428\n",
      "Epoch:18/50 Training Error:0.391 Test Error:0.451\n",
      "Epoch:19/50 Training Error:0.348 Test Error:0.378\n",
      "Epoch:20/50 Training Error:0.274 Test Error:0.406\n",
      "Epoch:21/50 Training Error:0.450 Test Error:0.372\n",
      "Epoch:22/50 Training Error:0.332 Test Error:0.373\n",
      "Epoch:23/50 Training Error:0.312 Test Error:0.509\n",
      "Epoch:24/50 Training Error:0.355 Test Error:0.428\n",
      "Epoch:25/50 Training Error:0.393 Test Error:0.605\n",
      "Epoch:26/50 Training Error:0.354 Test Error:0.435\n",
      "Epoch:27/50 Training Error:0.359 Test Error:0.535\n",
      "Epoch:28/50 Training Error:0.321 Test Error:0.481\n",
      "Epoch:29/50 Training Error:0.316 Test Error:0.443\n",
      "Epoch:30/50 Training Error:0.343 Test Error:0.473\n",
      "Epoch:31/50 Training Error:0.328 Test Error:0.413\n",
      "Epoch:32/50 Training Error:0.302 Test Error:0.426\n",
      "Epoch:33/50 Training Error:0.591 Test Error:0.368\n",
      "Epoch:34/50 Training Error:0.379 Test Error:0.412\n",
      "Epoch:35/50 Training Error:0.390 Test Error:0.448\n",
      "Epoch:36/50 Training Error:0.329 Test Error:0.401\n",
      "Epoch:37/50 Training Error:0.412 Test Error:0.500\n",
      "Epoch:38/50 Training Error:0.348 Test Error:0.480\n",
      "Epoch:39/50 Training Error:0.322 Test Error:0.339\n",
      "Epoch:40/50 Training Error:0.333 Test Error:0.384\n",
      "Epoch:41/50 Training Error:0.352 Test Error:0.306\n",
      "Epoch:42/50 Training Error:0.343 Test Error:0.442\n",
      "Epoch:43/50 Training Error:0.384 Test Error:0.438\n",
      "Epoch:44/50 Training Error:0.283 Test Error:0.388\n",
      "Epoch:45/50 Training Error:0.398 Test Error:0.353\n",
      "Epoch:46/50 Training Error:0.369 Test Error:0.527\n",
      "Epoch:47/50 Training Error:0.377 Test Error:0.495\n",
      "Epoch:48/50 Training Error:0.418 Test Error:0.624\n",
      "Epoch:49/50 Training Error:0.349 Test Error:0.464\n",
      "Epoch:50/50 Training Error:0.363 Test Error:0.409\n",
      "Performance of 3 fold cross validation: \n",
      "Average Training Error: 0.506 \t Average Test Error: 0.390\n",
      " \n"
     ]
    },
    {
     "data": {
      "image/png": "[encoded data removed]",
      "text/plain": [
       "<Figure size 720x576 with 1 Axes>"
      ]
     },
     "metadata": {
      "needs_background": "light"
     },
     "output_type": "display_data"
    },
    {
     "data": {
      "text/plain": [
       "0.38999193462642817"
      ]
     },
     "execution_count": 102,
     "metadata": {},
     "output_type": "execute_result"
    }
   ],
   "source": [
    "Kfold(x_train, k_folds, input_size, epochs, criterion, learningRate, neuron=neuron_)"
   ]
  },
  {
   "cell_type": "markdown",
   "metadata": {},
   "source": [
    "#### Quality of the compression on the test set using the tuned parameters"
   ]
  },
  {
   "cell_type": "markdown",
   "metadata": {},
   "source": [
    "We will now train and test our auto-encoder for different sample size of our initial dataset. To do so we will do a batch processing and store the final train and test errors. See the report to see the nice comparison table."
   ]
  },
  {
   "cell_type": "code",
   "execution_count": 106,
   "metadata": {},
   "outputs": [
    {
     "name": "stdout",
     "output_type": "stream",
     "text": [
      "\u001b[1mTrain/Test of the sub-dataset data/pickle/middle_small/processed_middle_small_0.02_0.5\u001b[0m\n",
      "Epoch:1/50 Training Error:0.076 Test Error:0.081\n",
      "Epoch:2/50 Training Error:0.076 Test Error:0.081\n",
      "Epoch:3/50 Training Error:0.069 Test Error:0.074\n",
      "Epoch:4/50 Training Error:0.017 Test Error:0.017\n",
      "Epoch:5/50 Training Error:0.015 Test Error:0.015\n",
      "Epoch:6/50 Training Error:0.015 Test Error:0.015\n",
      "Epoch:7/50 Training Error:0.015 Test Error:0.015\n",
      "Epoch:8/50 Training Error:0.015 Test Error:0.015\n",
      "Epoch:9/50 Training Error:0.015 Test Error:0.015\n",
      "Epoch:10/50 Training Error:0.015 Test Error:0.015\n",
      "Epoch:11/50 Training Error:0.015 Test Error:0.015\n",
      "Epoch:12/50 Training Error:0.015 Test Error:0.015\n",
      "Epoch:13/50 Training Error:0.015 Test Error:0.015\n",
      "Epoch:14/50 Training Error:0.015 Test Error:0.015\n",
      "Epoch:15/50 Training Error:0.015 Test Error:0.015\n",
      "Epoch:16/50 Training Error:0.015 Test Error:0.015\n",
      "Epoch:17/50 Training Error:0.015 Test Error:0.015\n",
      "Epoch:18/50 Training Error:0.015 Test Error:0.015\n",
      "Epoch:19/50 Training Error:0.015 Test Error:0.015\n",
      "Epoch:20/50 Training Error:0.015 Test Error:0.015\n",
      "Epoch:21/50 Training Error:0.015 Test Error:0.015\n",
      "Epoch:22/50 Training Error:0.015 Test Error:0.015\n",
      "Epoch:23/50 Training Error:0.016 Test Error:0.016\n",
      "Epoch:24/50 Training Error:0.015 Test Error:0.015\n",
      "Epoch:25/50 Training Error:0.015 Test Error:0.015\n",
      "Epoch:26/50 Training Error:0.015 Test Error:0.015\n",
      "Epoch:27/50 Training Error:0.015 Test Error:0.015\n",
      "Epoch:28/50 Training Error:0.014 Test Error:0.014\n",
      "Epoch:29/50 Training Error:0.016 Test Error:0.016\n",
      "Epoch:30/50 Training Error:0.014 Test Error:0.014\n",
      "Epoch:31/50 Training Error:0.016 Test Error:0.017\n",
      "Epoch:32/50 Training Error:0.013 Test Error:0.014\n",
      "Epoch:33/50 Training Error:0.010 Test Error:0.011\n",
      "Epoch:34/50 Training Error:0.008 Test Error:0.009\n",
      "Epoch:35/50 Training Error:0.007 Test Error:0.008\n",
      "Epoch:36/50 Training Error:0.007 Test Error:0.008\n",
      "Epoch:37/50 Training Error:0.006 Test Error:0.007\n",
      "Epoch:38/50 Training Error:0.008 Test Error:0.008\n",
      "Epoch:39/50 Training Error:0.007 Test Error:0.007\n",
      "Epoch:40/50 Training Error:0.007 Test Error:0.008\n",
      "Epoch:41/50 Training Error:0.007 Test Error:0.007\n",
      "Epoch:42/50 Training Error:0.006 Test Error:0.007\n",
      "Epoch:43/50 Training Error:0.006 Test Error:0.007\n",
      "Epoch:44/50 Training Error:0.007 Test Error:0.008\n",
      "Epoch:45/50 Training Error:0.007 Test Error:0.007\n",
      "Epoch:46/50 Training Error:0.008 Test Error:0.008\n",
      "Epoch:47/50 Training Error:0.006 Test Error:0.007\n",
      "Epoch:48/50 Training Error:0.007 Test Error:0.007\n",
      "Epoch:49/50 Training Error:0.008 Test Error:0.009\n",
      "Epoch:50/50 Training Error:0.008 Test Error:0.009\n",
      "\u001b[1mTrain/Test of the sub-dataset data/pickle/middle_small/processed_middle_small_0.05_0.5\u001b[0m\n",
      "Epoch:1/50 Training Error:0.069 Test Error:0.078\n",
      "Epoch:2/50 Training Error:0.069 Test Error:0.077\n",
      "Epoch:3/50 Training Error:0.044 Test Error:0.048\n",
      "Epoch:4/50 Training Error:0.022 Test Error:0.022\n",
      "Epoch:5/50 Training Error:0.019 Test Error:0.019\n",
      "Epoch:6/50 Training Error:0.019 Test Error:0.018\n",
      "Epoch:7/50 Training Error:0.019 Test Error:0.018\n",
      "Epoch:8/50 Training Error:0.020 Test Error:0.020\n",
      "Epoch:9/50 Training Error:0.019 Test Error:0.019\n",
      "Epoch:10/50 Training Error:0.019 Test Error:0.019\n",
      "Epoch:11/50 Training Error:0.019 Test Error:0.019\n",
      "Epoch:12/50 Training Error:0.019 Test Error:0.019\n",
      "Epoch:13/50 Training Error:0.019 Test Error:0.018\n",
      "Epoch:14/50 Training Error:0.019 Test Error:0.019\n",
      "Epoch:15/50 Training Error:0.019 Test Error:0.019\n",
      "Epoch:16/50 Training Error:0.019 Test Error:0.019\n",
      "Epoch:17/50 Training Error:0.019 Test Error:0.019\n",
      "Epoch:18/50 Training Error:0.019 Test Error:0.019\n",
      "Epoch:19/50 Training Error:0.018 Test Error:0.018\n",
      "Epoch:20/50 Training Error:0.018 Test Error:0.018\n",
      "Epoch:21/50 Training Error:0.017 Test Error:0.017\n",
      "Epoch:22/50 Training Error:0.014 Test Error:0.014\n",
      "Epoch:23/50 Training Error:0.021 Test Error:0.022\n",
      "Epoch:24/50 Training Error:0.012 Test Error:0.012\n",
      "Epoch:25/50 Training Error:0.009 Test Error:0.009\n",
      "Epoch:26/50 Training Error:0.009 Test Error:0.010\n",
      "Epoch:27/50 Training Error:0.009 Test Error:0.009\n",
      "Epoch:28/50 Training Error:0.009 Test Error:0.009\n",
      "Epoch:29/50 Training Error:0.008 Test Error:0.008\n",
      "Epoch:30/50 Training Error:0.008 Test Error:0.009\n",
      "Epoch:31/50 Training Error:0.008 Test Error:0.008\n",
      "Epoch:32/50 Training Error:0.012 Test Error:0.012\n",
      "Epoch:33/50 Training Error:0.008 Test Error:0.008\n",
      "Epoch:34/50 Training Error:0.015 Test Error:0.016\n",
      "Epoch:35/50 Training Error:0.010 Test Error:0.009\n",
      "Epoch:36/50 Training Error:0.010 Test Error:0.010\n",
      "Epoch:37/50 Training Error:0.008 Test Error:0.009\n",
      "Epoch:38/50 Training Error:0.008 Test Error:0.009\n",
      "Epoch:39/50 Training Error:0.008 Test Error:0.009\n",
      "Epoch:40/50 Training Error:0.008 Test Error:0.008\n",
      "Epoch:41/50 Training Error:0.008 Test Error:0.008\n",
      "Epoch:42/50 Training Error:0.011 Test Error:0.012\n",
      "Epoch:43/50 Training Error:0.006 Test Error:0.007\n",
      "Epoch:44/50 Training Error:0.006 Test Error:0.007\n",
      "Epoch:45/50 Training Error:0.005 Test Error:0.006\n",
      "Epoch:46/50 Training Error:0.005 Test Error:0.006\n",
      "Epoch:47/50 Training Error:0.023 Test Error:0.027\n",
      "Epoch:48/50 Training Error:0.007 Test Error:0.009\n",
      "Epoch:49/50 Training Error:0.004 Test Error:0.007\n",
      "Epoch:50/50 Training Error:0.004 Test Error:0.006\n",
      "\u001b[1mTrain/Test of the sub-dataset data/pickle/middle_small/processed_middle_small_0.1_0.25\u001b[0m\n",
      "Epoch:1/50 Training Error:0.066 Test Error:0.073\n",
      "Epoch:2/50 Training Error:0.066 Test Error:0.074\n",
      "Epoch:3/50 Training Error:0.066 Test Error:0.074\n",
      "Epoch:4/50 Training Error:0.066 Test Error:0.073\n",
      "Epoch:5/50 Training Error:0.051 Test Error:0.057\n",
      "Epoch:6/50 Training Error:0.020 Test Error:0.021\n",
      "Epoch:7/50 Training Error:0.016 Test Error:0.017\n",
      "Epoch:8/50 Training Error:0.017 Test Error:0.018\n",
      "Epoch:9/50 Training Error:0.016 Test Error:0.016\n",
      "Epoch:10/50 Training Error:0.016 Test Error:0.016\n",
      "Epoch:11/50 Training Error:0.016 Test Error:0.016\n",
      "Epoch:12/50 Training Error:0.016 Test Error:0.016\n",
      "Epoch:13/50 Training Error:0.016 Test Error:0.016\n",
      "Epoch:14/50 Training Error:0.016 Test Error:0.017\n",
      "Epoch:15/50 Training Error:0.016 Test Error:0.016\n",
      "Epoch:16/50 Training Error:0.016 Test Error:0.017\n",
      "Epoch:17/50 Training Error:0.016 Test Error:0.016\n",
      "Epoch:18/50 Training Error:0.016 Test Error:0.016\n",
      "Epoch:19/50 Training Error:0.017 Test Error:0.017\n",
      "Epoch:20/50 Training Error:0.016 Test Error:0.016\n",
      "Epoch:21/50 Training Error:0.016 Test Error:0.016\n",
      "Epoch:22/50 Training Error:0.016 Test Error:0.016\n",
      "Epoch:23/50 Training Error:0.017 Test Error:0.017\n",
      "Epoch:24/50 Training Error:0.015 Test Error:0.016\n",
      "Epoch:25/50 Training Error:0.013 Test Error:0.014\n",
      "Epoch:26/50 Training Error:0.011 Test Error:0.011\n",
      "Epoch:27/50 Training Error:0.009 Test Error:0.009\n",
      "Epoch:28/50 Training Error:0.009 Test Error:0.009\n",
      "Epoch:29/50 Training Error:0.010 Test Error:0.009\n",
      "Epoch:30/50 Training Error:0.010 Test Error:0.009\n",
      "Epoch:31/50 Training Error:0.008 Test Error:0.008\n",
      "Epoch:32/50 Training Error:0.007 Test Error:0.008\n",
      "Epoch:33/50 Training Error:0.007 Test Error:0.007\n",
      "Epoch:34/50 Training Error:0.009 Test Error:0.009\n",
      "Epoch:35/50 Training Error:0.011 Test Error:0.012\n",
      "Epoch:36/50 Training Error:0.007 Test Error:0.008\n",
      "Epoch:37/50 Training Error:0.007 Test Error:0.007\n",
      "Epoch:38/50 Training Error:0.007 Test Error:0.007\n",
      "Epoch:39/50 Training Error:0.007 Test Error:0.007\n",
      "Epoch:40/50 Training Error:0.007 Test Error:0.007\n",
      "Epoch:41/50 Training Error:0.008 Test Error:0.008\n",
      "Epoch:42/50 Training Error:0.008 Test Error:0.008\n",
      "Epoch:43/50 Training Error:0.028 Test Error:0.030\n",
      "Epoch:44/50 Training Error:0.007 Test Error:0.007\n",
      "Epoch:45/50 Training Error:0.007 Test Error:0.007\n",
      "Epoch:46/50 Training Error:0.007 Test Error:0.007\n",
      "Epoch:47/50 Training Error:0.007 Test Error:0.007\n",
      "Epoch:48/50 Training Error:0.007 Test Error:0.008\n",
      "Epoch:49/50 Training Error:0.007 Test Error:0.007\n",
      "Epoch:50/50 Training Error:0.007 Test Error:0.007\n",
      "\u001b[1mTrain/Test of the sub-dataset data/pickle/middle_small/processed_middle_small_0.1_0.5\u001b[0m\n",
      "Epoch:1/50 Training Error:0.068 Test Error:0.075\n",
      "Epoch:2/50 Training Error:0.066 Test Error:0.073\n",
      "Epoch:3/50 Training Error:0.066 Test Error:0.073\n",
      "Epoch:4/50 Training Error:0.055 Test Error:0.061\n",
      "Epoch:5/50 Training Error:0.020 Test Error:0.021\n",
      "Epoch:6/50 Training Error:0.016 Test Error:0.017\n",
      "Epoch:7/50 Training Error:0.016 Test Error:0.017\n"
     ]
    },
    {
     "name": "stdout",
     "output_type": "stream",
     "text": [
      "Epoch:8/50 Training Error:0.016 Test Error:0.017\n",
      "Epoch:9/50 Training Error:0.016 Test Error:0.017\n",
      "Epoch:10/50 Training Error:0.017 Test Error:0.017\n",
      "Epoch:11/50 Training Error:0.016 Test Error:0.017\n",
      "Epoch:12/50 Training Error:0.016 Test Error:0.016\n",
      "Epoch:13/50 Training Error:0.016 Test Error:0.017\n",
      "Epoch:14/50 Training Error:0.016 Test Error:0.017\n",
      "Epoch:15/50 Training Error:0.016 Test Error:0.017\n",
      "Epoch:16/50 Training Error:0.016 Test Error:0.017\n",
      "Epoch:17/50 Training Error:0.016 Test Error:0.017\n",
      "Epoch:18/50 Training Error:0.017 Test Error:0.018\n",
      "Epoch:19/50 Training Error:0.021 Test Error:0.023\n",
      "Epoch:20/50 Training Error:0.017 Test Error:0.017\n",
      "Epoch:21/50 Training Error:0.017 Test Error:0.018\n",
      "Epoch:22/50 Training Error:0.016 Test Error:0.016\n",
      "Epoch:23/50 Training Error:0.016 Test Error:0.016\n",
      "Epoch:24/50 Training Error:0.015 Test Error:0.016\n",
      "Epoch:25/50 Training Error:0.015 Test Error:0.015\n",
      "Epoch:26/50 Training Error:0.014 Test Error:0.015\n",
      "Epoch:27/50 Training Error:0.012 Test Error:0.013\n",
      "Epoch:28/50 Training Error:0.019 Test Error:0.022\n",
      "Epoch:29/50 Training Error:0.010 Test Error:0.010\n",
      "Epoch:30/50 Training Error:0.009 Test Error:0.009\n",
      "Epoch:31/50 Training Error:0.009 Test Error:0.008\n",
      "Epoch:32/50 Training Error:0.013 Test Error:0.013\n",
      "Epoch:33/50 Training Error:0.007 Test Error:0.008\n",
      "Epoch:34/50 Training Error:0.007 Test Error:0.008\n",
      "Epoch:35/50 Training Error:0.007 Test Error:0.007\n",
      "Epoch:36/50 Training Error:0.007 Test Error:0.007\n",
      "Epoch:37/50 Training Error:0.007 Test Error:0.007\n",
      "Epoch:38/50 Training Error:0.007 Test Error:0.007\n",
      "Epoch:39/50 Training Error:0.007 Test Error:0.007\n",
      "Epoch:40/50 Training Error:0.009 Test Error:0.009\n",
      "Epoch:41/50 Training Error:0.013 Test Error:0.014\n",
      "Epoch:42/50 Training Error:0.008 Test Error:0.008\n",
      "Epoch:43/50 Training Error:0.008 Test Error:0.008\n",
      "Epoch:44/50 Training Error:0.008 Test Error:0.008\n",
      "Epoch:45/50 Training Error:0.008 Test Error:0.008\n",
      "Epoch:46/50 Training Error:0.007 Test Error:0.008\n",
      "Epoch:47/50 Training Error:0.007 Test Error:0.007\n",
      "Epoch:48/50 Training Error:0.007 Test Error:0.008\n",
      "Epoch:49/50 Training Error:0.007 Test Error:0.007\n",
      "Epoch:50/50 Training Error:0.008 Test Error:0.008\n",
      "\u001b[1mTrain/Test of the sub-dataset data/pickle/middle_small/processed_middle_small_0.02_0.1\u001b[0m\n",
      "Epoch:1/50 Training Error:0.075 Test Error:0.081\n",
      "Epoch:2/50 Training Error:0.075 Test Error:0.081\n",
      "Epoch:3/50 Training Error:0.075 Test Error:0.081\n",
      "Epoch:4/50 Training Error:0.075 Test Error:0.081\n",
      "Epoch:5/50 Training Error:0.074 Test Error:0.079\n",
      "Epoch:6/50 Training Error:0.021 Test Error:0.020\n",
      "Epoch:7/50 Training Error:0.017 Test Error:0.017\n",
      "Epoch:8/50 Training Error:0.015 Test Error:0.014\n",
      "Epoch:9/50 Training Error:0.015 Test Error:0.015\n",
      "Epoch:10/50 Training Error:0.015 Test Error:0.015\n",
      "Epoch:11/50 Training Error:0.015 Test Error:0.015\n",
      "Epoch:12/50 Training Error:0.015 Test Error:0.015\n",
      "Epoch:13/50 Training Error:0.015 Test Error:0.015\n",
      "Epoch:14/50 Training Error:0.015 Test Error:0.014\n",
      "Epoch:15/50 Training Error:0.015 Test Error:0.014\n",
      "Epoch:16/50 Training Error:0.015 Test Error:0.014\n",
      "Epoch:17/50 Training Error:0.015 Test Error:0.015\n",
      "Epoch:18/50 Training Error:0.015 Test Error:0.015\n",
      "Epoch:19/50 Training Error:0.015 Test Error:0.015\n",
      "Epoch:20/50 Training Error:0.015 Test Error:0.015\n",
      "Epoch:21/50 Training Error:0.015 Test Error:0.015\n",
      "Epoch:22/50 Training Error:0.015 Test Error:0.015\n",
      "Epoch:23/50 Training Error:0.015 Test Error:0.015\n",
      "Epoch:24/50 Training Error:0.015 Test Error:0.014\n",
      "Epoch:25/50 Training Error:0.015 Test Error:0.016\n",
      "Epoch:26/50 Training Error:0.015 Test Error:0.015\n",
      "Epoch:27/50 Training Error:0.015 Test Error:0.015\n",
      "Epoch:28/50 Training Error:0.015 Test Error:0.015\n",
      "Epoch:29/50 Training Error:0.014 Test Error:0.014\n",
      "Epoch:30/50 Training Error:0.014 Test Error:0.014\n",
      "Epoch:31/50 Training Error:0.016 Test Error:0.017\n",
      "Epoch:32/50 Training Error:0.015 Test Error:0.015\n",
      "Epoch:33/50 Training Error:0.015 Test Error:0.014\n",
      "Epoch:34/50 Training Error:0.014 Test Error:0.014\n",
      "Epoch:35/50 Training Error:0.015 Test Error:0.014\n",
      "Epoch:36/50 Training Error:0.014 Test Error:0.014\n",
      "Epoch:37/50 Training Error:0.015 Test Error:0.015\n",
      "Epoch:38/50 Training Error:0.016 Test Error:0.017\n",
      "Epoch:39/50 Training Error:0.015 Test Error:0.014\n",
      "Epoch:40/50 Training Error:0.015 Test Error:0.015\n",
      "Epoch:41/50 Training Error:0.015 Test Error:0.015\n",
      "Epoch:42/50 Training Error:0.015 Test Error:0.014\n",
      "Epoch:43/50 Training Error:0.014 Test Error:0.014\n",
      "Epoch:44/50 Training Error:0.014 Test Error:0.014\n",
      "Epoch:45/50 Training Error:0.016 Test Error:0.016\n",
      "Epoch:46/50 Training Error:0.015 Test Error:0.015\n",
      "Epoch:47/50 Training Error:0.015 Test Error:0.015\n",
      "Epoch:48/50 Training Error:0.014 Test Error:0.014\n",
      "Epoch:49/50 Training Error:0.014 Test Error:0.014\n",
      "Epoch:50/50 Training Error:0.014 Test Error:0.014\n",
      "\u001b[1mTrain/Test of the sub-dataset data/pickle/middle_small/processed_middle_small_0.05_0.1\u001b[0m\n",
      "Epoch:1/50 Training Error:0.069 Test Error:0.077\n",
      "Epoch:2/50 Training Error:0.069 Test Error:0.077\n",
      "Epoch:3/50 Training Error:0.069 Test Error:0.077\n",
      "Epoch:4/50 Training Error:0.068 Test Error:0.077\n",
      "Epoch:5/50 Training Error:0.049 Test Error:0.053\n",
      "Epoch:6/50 Training Error:0.020 Test Error:0.019\n",
      "Epoch:7/50 Training Error:0.019 Test Error:0.019\n",
      "Epoch:8/50 Training Error:0.019 Test Error:0.018\n",
      "Epoch:9/50 Training Error:0.019 Test Error:0.019\n",
      "Epoch:10/50 Training Error:0.019 Test Error:0.018\n",
      "Epoch:11/50 Training Error:0.019 Test Error:0.018\n",
      "Epoch:12/50 Training Error:0.019 Test Error:0.018\n",
      "Epoch:13/50 Training Error:0.019 Test Error:0.018\n",
      "Epoch:14/50 Training Error:0.019 Test Error:0.018\n",
      "Epoch:15/50 Training Error:0.019 Test Error:0.018\n",
      "Epoch:16/50 Training Error:0.019 Test Error:0.018\n",
      "Epoch:17/50 Training Error:0.019 Test Error:0.018\n",
      "Epoch:18/50 Training Error:0.019 Test Error:0.018\n",
      "Epoch:19/50 Training Error:0.018 Test Error:0.018\n",
      "Epoch:20/50 Training Error:0.019 Test Error:0.018\n",
      "Epoch:21/50 Training Error:0.019 Test Error:0.018\n",
      "Epoch:22/50 Training Error:0.018 Test Error:0.018\n",
      "Epoch:23/50 Training Error:0.018 Test Error:0.018\n",
      "Epoch:24/50 Training Error:0.019 Test Error:0.018\n",
      "Epoch:25/50 Training Error:0.019 Test Error:0.018\n",
      "Epoch:26/50 Training Error:0.018 Test Error:0.018\n",
      "Epoch:27/50 Training Error:0.018 Test Error:0.018\n",
      "Epoch:28/50 Training Error:0.019 Test Error:0.018\n",
      "Epoch:29/50 Training Error:0.018 Test Error:0.018\n",
      "Epoch:30/50 Training Error:0.018 Test Error:0.017\n",
      "Epoch:31/50 Training Error:0.016 Test Error:0.016\n",
      "Epoch:32/50 Training Error:0.014 Test Error:0.013\n",
      "Epoch:33/50 Training Error:0.011 Test Error:0.010\n",
      "Epoch:34/50 Training Error:0.012 Test Error:0.011\n",
      "Epoch:35/50 Training Error:0.010 Test Error:0.010\n",
      "Epoch:36/50 Training Error:0.009 Test Error:0.009\n",
      "Epoch:37/50 Training Error:0.008 Test Error:0.008\n",
      "Epoch:38/50 Training Error:0.009 Test Error:0.009\n",
      "Epoch:39/50 Training Error:0.009 Test Error:0.009\n",
      "Epoch:40/50 Training Error:0.008 Test Error:0.009\n",
      "Epoch:41/50 Training Error:0.008 Test Error:0.008\n",
      "Epoch:42/50 Training Error:0.008 Test Error:0.008\n",
      "Epoch:43/50 Training Error:0.008 Test Error:0.008\n",
      "Epoch:44/50 Training Error:0.008 Test Error:0.008\n",
      "Epoch:45/50 Training Error:0.008 Test Error:0.008\n",
      "Epoch:46/50 Training Error:0.008 Test Error:0.009\n",
      "Epoch:47/50 Training Error:0.013 Test Error:0.013\n",
      "Epoch:48/50 Training Error:0.008 Test Error:0.009\n",
      "Epoch:49/50 Training Error:0.009 Test Error:0.009\n",
      "Epoch:50/50 Training Error:0.008 Test Error:0.008\n",
      "\u001b[1mTrain/Test of the sub-dataset data/pickle/middle_small/processed_middle_small_0.02_0.25\u001b[0m\n",
      "Epoch:1/50 Training Error:0.076 Test Error:0.081\n",
      "Epoch:2/50 Training Error:0.076 Test Error:0.081\n",
      "Epoch:3/50 Training Error:0.076 Test Error:0.081\n",
      "Epoch:4/50 Training Error:0.065 Test Error:0.069\n",
      "Epoch:5/50 Training Error:0.018 Test Error:0.019\n",
      "Epoch:6/50 Training Error:0.015 Test Error:0.015\n",
      "Epoch:7/50 Training Error:0.015 Test Error:0.015\n",
      "Epoch:8/50 Training Error:0.015 Test Error:0.015\n",
      "Epoch:9/50 Training Error:0.015 Test Error:0.015\n",
      "Epoch:10/50 Training Error:0.015 Test Error:0.015\n",
      "Epoch:11/50 Training Error:0.015 Test Error:0.015\n",
      "Epoch:12/50 Training Error:0.015 Test Error:0.015\n",
      "Epoch:13/50 Training Error:0.015 Test Error:0.015\n",
      "Epoch:14/50 Training Error:0.016 Test Error:0.016\n",
      "Epoch:15/50 Training Error:0.017 Test Error:0.018\n",
      "Epoch:16/50 Training Error:0.015 Test Error:0.015\n"
     ]
    },
    {
     "name": "stdout",
     "output_type": "stream",
     "text": [
      "Epoch:17/50 Training Error:0.015 Test Error:0.015\n",
      "Epoch:18/50 Training Error:0.015 Test Error:0.015\n",
      "Epoch:19/50 Training Error:0.015 Test Error:0.015\n",
      "Epoch:20/50 Training Error:0.015 Test Error:0.015\n",
      "Epoch:21/50 Training Error:0.015 Test Error:0.015\n",
      "Epoch:22/50 Training Error:0.018 Test Error:0.019\n",
      "Epoch:23/50 Training Error:0.015 Test Error:0.015\n",
      "Epoch:24/50 Training Error:0.016 Test Error:0.017\n",
      "Epoch:25/50 Training Error:0.015 Test Error:0.015\n",
      "Epoch:26/50 Training Error:0.015 Test Error:0.015\n",
      "Epoch:27/50 Training Error:0.015 Test Error:0.015\n",
      "Epoch:28/50 Training Error:0.015 Test Error:0.015\n",
      "Epoch:29/50 Training Error:0.014 Test Error:0.014\n",
      "Epoch:30/50 Training Error:0.015 Test Error:0.015\n",
      "Epoch:31/50 Training Error:0.014 Test Error:0.014\n",
      "Epoch:32/50 Training Error:0.015 Test Error:0.015\n",
      "Epoch:33/50 Training Error:0.014 Test Error:0.014\n",
      "Epoch:34/50 Training Error:0.016 Test Error:0.016\n",
      "Epoch:35/50 Training Error:0.015 Test Error:0.015\n",
      "Epoch:36/50 Training Error:0.015 Test Error:0.015\n",
      "Epoch:37/50 Training Error:0.015 Test Error:0.015\n",
      "Epoch:38/50 Training Error:0.015 Test Error:0.015\n",
      "Epoch:39/50 Training Error:0.014 Test Error:0.014\n",
      "Epoch:40/50 Training Error:0.015 Test Error:0.015\n",
      "Epoch:41/50 Training Error:0.018 Test Error:0.019\n",
      "Epoch:42/50 Training Error:0.014 Test Error:0.014\n",
      "Epoch:43/50 Training Error:0.015 Test Error:0.015\n",
      "Epoch:44/50 Training Error:0.015 Test Error:0.015\n",
      "Epoch:45/50 Training Error:0.014 Test Error:0.014\n",
      "Epoch:46/50 Training Error:0.014 Test Error:0.014\n",
      "Epoch:47/50 Training Error:0.014 Test Error:0.014\n",
      "Epoch:48/50 Training Error:0.013 Test Error:0.013\n",
      "Epoch:49/50 Training Error:0.013 Test Error:0.014\n",
      "Epoch:50/50 Training Error:0.007 Test Error:0.008\n",
      "\u001b[1mTrain/Test of the sub-dataset data/pickle/middle_small/processed_middle_small_0.05_0.25\u001b[0m\n",
      "Epoch:1/50 Training Error:0.069 Test Error:0.078\n",
      "Epoch:2/50 Training Error:0.069 Test Error:0.078\n",
      "Epoch:3/50 Training Error:0.068 Test Error:0.076\n",
      "Epoch:4/50 Training Error:0.042 Test Error:0.046\n",
      "Epoch:5/50 Training Error:0.020 Test Error:0.020\n",
      "Epoch:6/50 Training Error:0.019 Test Error:0.019\n",
      "Epoch:7/50 Training Error:0.019 Test Error:0.019\n",
      "Epoch:8/50 Training Error:0.019 Test Error:0.019\n",
      "Epoch:9/50 Training Error:0.019 Test Error:0.019\n",
      "Epoch:10/50 Training Error:0.019 Test Error:0.019\n",
      "Epoch:11/50 Training Error:0.019 Test Error:0.019\n",
      "Epoch:12/50 Training Error:0.019 Test Error:0.019\n",
      "Epoch:13/50 Training Error:0.020 Test Error:0.020\n",
      "Epoch:14/50 Training Error:0.019 Test Error:0.019\n",
      "Epoch:15/50 Training Error:0.019 Test Error:0.019\n",
      "Epoch:16/50 Training Error:0.019 Test Error:0.018\n",
      "Epoch:17/50 Training Error:0.019 Test Error:0.018\n",
      "Epoch:18/50 Training Error:0.019 Test Error:0.019\n",
      "Epoch:19/50 Training Error:0.019 Test Error:0.018\n",
      "Epoch:20/50 Training Error:0.019 Test Error:0.018\n",
      "Epoch:21/50 Training Error:0.019 Test Error:0.018\n",
      "Epoch:22/50 Training Error:0.019 Test Error:0.018\n",
      "Epoch:23/50 Training Error:0.019 Test Error:0.019\n",
      "Epoch:24/50 Training Error:0.019 Test Error:0.019\n",
      "Epoch:25/50 Training Error:0.018 Test Error:0.018\n",
      "Epoch:26/50 Training Error:0.018 Test Error:0.018\n",
      "Epoch:27/50 Training Error:0.018 Test Error:0.018\n",
      "Epoch:28/50 Training Error:0.017 Test Error:0.017\n",
      "Epoch:29/50 Training Error:0.018 Test Error:0.019\n",
      "Epoch:30/50 Training Error:0.013 Test Error:0.013\n",
      "Epoch:31/50 Training Error:0.019 Test Error:0.019\n",
      "Epoch:32/50 Training Error:0.010 Test Error:0.009\n",
      "Epoch:33/50 Training Error:0.009 Test Error:0.009\n",
      "Epoch:34/50 Training Error:0.010 Test Error:0.009\n",
      "Epoch:35/50 Training Error:0.010 Test Error:0.010\n",
      "Epoch:36/50 Training Error:0.010 Test Error:0.009\n",
      "Epoch:37/50 Training Error:0.009 Test Error:0.009\n",
      "Epoch:38/50 Training Error:0.008 Test Error:0.008\n",
      "Epoch:39/50 Training Error:0.008 Test Error:0.008\n",
      "Epoch:40/50 Training Error:0.008 Test Error:0.008\n",
      "Epoch:41/50 Training Error:0.008 Test Error:0.008\n",
      "Epoch:42/50 Training Error:0.008 Test Error:0.009\n",
      "Epoch:43/50 Training Error:0.020 Test Error:0.020\n",
      "Epoch:44/50 Training Error:0.008 Test Error:0.008\n",
      "Epoch:45/50 Training Error:0.008 Test Error:0.009\n",
      "Epoch:46/50 Training Error:0.009 Test Error:0.009\n",
      "Epoch:47/50 Training Error:0.008 Test Error:0.008\n",
      "Epoch:48/50 Training Error:0.008 Test Error:0.009\n",
      "Epoch:49/50 Training Error:0.007 Test Error:0.008\n",
      "Epoch:50/50 Training Error:0.007 Test Error:0.008\n",
      "\u001b[1mTrain/Test of the sub-dataset data/pickle/middle_small/processed_middle_small_0.1_0.1\u001b[0m\n",
      "Epoch:1/50 Training Error:0.069 Test Error:0.077\n",
      "Epoch:2/50 Training Error:0.066 Test Error:0.073\n",
      "Epoch:3/50 Training Error:0.066 Test Error:0.074\n",
      "Epoch:4/50 Training Error:0.066 Test Error:0.074\n",
      "Epoch:5/50 Training Error:0.061 Test Error:0.068\n",
      "Epoch:6/50 Training Error:0.020 Test Error:0.022\n",
      "Epoch:7/50 Training Error:0.018 Test Error:0.019\n",
      "Epoch:8/50 Training Error:0.017 Test Error:0.017\n",
      "Epoch:9/50 Training Error:0.018 Test Error:0.019\n",
      "Epoch:10/50 Training Error:0.016 Test Error:0.016\n",
      "Epoch:11/50 Training Error:0.016 Test Error:0.016\n",
      "Epoch:12/50 Training Error:0.016 Test Error:0.016\n",
      "Epoch:13/50 Training Error:0.016 Test Error:0.016\n",
      "Epoch:14/50 Training Error:0.016 Test Error:0.016\n",
      "Epoch:15/50 Training Error:0.016 Test Error:0.016\n",
      "Epoch:16/50 Training Error:0.016 Test Error:0.016\n",
      "Epoch:17/50 Training Error:0.016 Test Error:0.017\n",
      "Epoch:18/50 Training Error:0.016 Test Error:0.017\n",
      "Epoch:19/50 Training Error:0.016 Test Error:0.016\n",
      "Epoch:20/50 Training Error:0.016 Test Error:0.016\n",
      "Epoch:21/50 Training Error:0.016 Test Error:0.016\n",
      "Epoch:22/50 Training Error:0.017 Test Error:0.017\n",
      "Epoch:23/50 Training Error:0.016 Test Error:0.017\n",
      "Epoch:24/50 Training Error:0.016 Test Error:0.016\n",
      "Epoch:25/50 Training Error:0.016 Test Error:0.017\n",
      "Epoch:26/50 Training Error:0.016 Test Error:0.016\n",
      "Epoch:27/50 Training Error:0.016 Test Error:0.016\n",
      "Epoch:28/50 Training Error:0.016 Test Error:0.016\n",
      "Epoch:29/50 Training Error:0.016 Test Error:0.016\n",
      "Epoch:30/50 Training Error:0.016 Test Error:0.016\n",
      "Epoch:31/50 Training Error:0.017 Test Error:0.017\n",
      "Epoch:32/50 Training Error:0.016 Test Error:0.016\n",
      "Epoch:33/50 Training Error:0.016 Test Error:0.016\n",
      "Epoch:34/50 Training Error:0.015 Test Error:0.016\n",
      "Epoch:35/50 Training Error:0.015 Test Error:0.015\n",
      "Epoch:36/50 Training Error:0.015 Test Error:0.015\n",
      "Epoch:37/50 Training Error:0.012 Test Error:0.012\n",
      "Epoch:38/50 Training Error:0.009 Test Error:0.009\n",
      "Epoch:39/50 Training Error:0.013 Test Error:0.012\n",
      "Epoch:40/50 Training Error:0.010 Test Error:0.010\n",
      "Epoch:41/50 Training Error:0.008 Test Error:0.008\n",
      "Epoch:42/50 Training Error:0.008 Test Error:0.008\n",
      "Epoch:43/50 Training Error:0.007 Test Error:0.007\n",
      "Epoch:44/50 Training Error:0.008 Test Error:0.008\n",
      "Epoch:45/50 Training Error:0.008 Test Error:0.008\n",
      "Epoch:46/50 Training Error:0.007 Test Error:0.007\n",
      "Epoch:47/50 Training Error:0.007 Test Error:0.008\n",
      "Epoch:48/50 Training Error:0.007 Test Error:0.007\n",
      "Epoch:49/50 Training Error:0.007 Test Error:0.007\n",
      "Epoch:50/50 Training Error:0.007 Test Error:0.008\n"
     ]
    }
   ],
   "source": [
    "import glob\n",
    "import os \n",
    "import _pickle as cPickle\n",
    "\n",
    "dataset = 'middle_small'\n",
    "file_location = os.path.join('data', 'pickle', dataset, '*')\n",
    "filenames = glob.glob(file_location)\n",
    "i=0 \n",
    "\n",
    "\n",
    "# define the parameters of the model\n",
    "learningRate= best_lr\n",
    "neuron_ = best_neurons_nb\n",
    "\n",
    "epochs=50\n",
    "criterion = nn.MSELoss() \n",
    "\n",
    "test_errors = []\n",
    "train_errors = []\n",
    "names = [] #Just to be sure of which error corresponds to which sub-dataset\n",
    "\n",
    "for f in filenames:\n",
    "    \n",
    "    print(\"\\033[1m\" +'Train/Test of the sub-dataset ' + f + \"\\033[0m\")\n",
    "    \n",
    "    #Load the data\n",
    "    x  = cPickle.load(open(f, \"rb\"))\n",
    "    \n",
    "    #Split\n",
    "    x_train, x_test = train_test_split(x, test_size=0.1, random_state=seed)\n",
    "    y_train, y_test = x_train, x_test\n",
    "    \n",
    "    #Declare the model\n",
    "    input_size=x_train.shape[1]\n",
    "    model = Autoencoder(input_size, neuron_)\n",
    "    optimizer = torch.optim.Adam(model.parameters(), lr=learningRate, weight_decay=1e-5)\n",
    "    \n",
    "    #Dataloader\n",
    "    train_loader = DataLoader(x_train)\n",
    "    test_loader = DataLoader(x_test)\n",
    "    \n",
    "    #Training and testing over the epochs\n",
    "    for epoch in range(epochs):\n",
    "        # train the model \n",
    "        train_loss=train_epoch(train_loader, model, criterion, optimizer)\n",
    "        # compute the relative training error\n",
    "        train_error = valid_epoch(train_loader, model)\n",
    "        # compute the relative test error\n",
    "        test_error=valid_epoch(test_loader, model)\n",
    "        \n",
    "        print(\"Epoch:{}/{} Training Error:{:.3f} Test Error:{:.3f}\".format(epoch + 1,epochs,train_error,test_error))\n",
    "    \n",
    "    #Save the last epoch train and test errors\n",
    "    test_errors.append(test_error)\n",
    "    train_errors.append(train_error)\n",
    "    names.append(f)"
   ]
  },
  {
   "cell_type": "code",
   "execution_count": 107,
   "metadata": {},
   "outputs": [
    {
     "data": {
      "text/html": [
       "<div>\n",
       "<style scoped>\n",
       "    .dataframe tbody tr th:only-of-type {\n",
       "        vertical-align: middle;\n",
       "    }\n",
       "\n",
       "    .dataframe tbody tr th {\n",
       "        vertical-align: top;\n",
       "    }\n",
       "\n",
       "    .dataframe thead th {\n",
       "        text-align: right;\n",
       "    }\n",
       "</style>\n",
       "<table border=\"1\" class=\"dataframe\">\n",
       "  <thead>\n",
       "    <tr style=\"text-align: right;\">\n",
       "      <th></th>\n",
       "      <th>10%</th>\n",
       "      <th>5%</th>\n",
       "      <th>2%</th>\n",
       "    </tr>\n",
       "    <tr>\n",
       "      <th></th>\n",
       "      <th></th>\n",
       "      <th></th>\n",
       "      <th></th>\n",
       "    </tr>\n",
       "  </thead>\n",
       "  <tbody>\n",
       "    <tr>\n",
       "      <th>50%</th>\n",
       "      <td>0.007399</td>\n",
       "      <td>0.008211</td>\n",
       "      <td>0.007557</td>\n",
       "    </tr>\n",
       "    <tr>\n",
       "      <th>25%</th>\n",
       "      <td>0.006007</td>\n",
       "      <td>0.013739</td>\n",
       "      <td>0.008072</td>\n",
       "    </tr>\n",
       "    <tr>\n",
       "      <th>10%</th>\n",
       "      <td>0.008849</td>\n",
       "      <td>0.007709</td>\n",
       "      <td>0.007796</td>\n",
       "    </tr>\n",
       "  </tbody>\n",
       "</table>\n",
       "</div>"
      ],
      "text/plain": [
       "          10%        5%        2%\n",
       "                                 \n",
       "50%  0.007399  0.008211  0.007557\n",
       "25%  0.006007  0.013739  0.008072\n",
       "10%  0.008849  0.007709  0.007796"
      ]
     },
     "metadata": {},
     "output_type": "display_data"
    },
    {
     "name": "stdout",
     "output_type": "stream",
     "text": [
      "\u001b[1mTable of relative error depending on the sampling of the dataset\u001b[0m\n",
      "x : sampling of times\n",
      "y : sampling of positions\n"
     ]
    }
   ],
   "source": [
    "from pandas import *\n",
    "\n",
    "#If you want to load the test and train errors from the saved pickles files, uncomment following lines :\n",
    "'''\n",
    "dataset = \"middle_small\"\n",
    "train_errors  = cPickle.load(open(\"data/pickle/results/\"+\"train_errors_\" + dataset, \"rb\"))\n",
    "test_errors  = cPickle.load(open(\"data/pickle/results/\"+\"test_errors_\" + dataset, \"rb\"))\n",
    "'''\n",
    "\n",
    "results = DataFrame({'' : ['50%', '25%', '10%'],\n",
    "                   '10%' : test_errors[:3][::-1],\n",
    "                   '5%' : test_errors[3:6][::-1],\n",
    "                   '2%' : test_errors[6:9][::-1]})\n",
    "\n",
    "results = results.set_index('')\n",
    "\n",
    "display(results)\n",
    "print(\"\\033[1m\" + 'Table of relative error depending on the sampling of the dataset' + \"\\033[0m\")\n",
    "print('x : sampling of times')\n",
    "print('y : sampling of positions')"
   ]
  },
  {
   "cell_type": "code",
   "execution_count": 108,
   "metadata": {},
   "outputs": [],
   "source": [
    "#Save in pickles\n",
    "name = \"train_errors_\" + dataset\n",
    "cPickle.dump( train_errors , open( name, \"wb\" ) )\n",
    "name = \"test_errors_\" + dataset\n",
    "cPickle.dump( test_errors , open( name, \"wb\" ) )"
   ]
  },
  {
   "cell_type": "markdown",
   "metadata": {},
   "source": [
    "## 5. Physical interpretation <a name=\"physical\"></a>"
   ]
  },
  {
   "cell_type": "markdown",
   "metadata": {},
   "source": [
    "After compressing our data with the help of the feed-forward encoder, we can investigate if there exists a relationship between the latent neurons and the initial physical parameters."
   ]
  },
  {
   "cell_type": "markdown",
   "metadata": {},
   "source": [
    "##### Extract the output of the encoder (X_compressed)"
   ]
  },
  {
   "cell_type": "code",
   "execution_count": 126,
   "metadata": {
    "scrolled": true
   },
   "outputs": [
    {
     "name": "stdout",
     "output_type": "stream",
     "text": [
      "Epoch:1/50 Training Error:0.967 Test Error:0.966\n",
      "Epoch:2/50 Training Error:0.818 Test Error:0.817\n",
      "Epoch:3/50 Training Error:0.592 Test Error:0.589\n",
      "Epoch:4/50 Training Error:0.368 Test Error:0.363\n",
      "Epoch:5/50 Training Error:0.204 Test Error:0.197\n",
      "Epoch:6/50 Training Error:0.118 Test Error:0.102\n",
      "Epoch:7/50 Training Error:0.097 Test Error:0.065\n",
      "Epoch:8/50 Training Error:0.092 Test Error:0.061\n",
      "Epoch:9/50 Training Error:0.091 Test Error:0.060\n",
      "Epoch:10/50 Training Error:0.091 Test Error:0.060\n",
      "Epoch:11/50 Training Error:0.091 Test Error:0.060\n",
      "Epoch:12/50 Training Error:0.091 Test Error:0.060\n",
      "Epoch:13/50 Training Error:0.090 Test Error:0.060\n",
      "Epoch:14/50 Training Error:0.090 Test Error:0.060\n",
      "Epoch:15/50 Training Error:0.090 Test Error:0.060\n",
      "Epoch:16/50 Training Error:0.090 Test Error:0.060\n",
      "Epoch:17/50 Training Error:0.090 Test Error:0.060\n",
      "Epoch:18/50 Training Error:0.090 Test Error:0.059\n",
      "Epoch:19/50 Training Error:0.090 Test Error:0.059\n",
      "Epoch:20/50 Training Error:0.090 Test Error:0.059\n",
      "Epoch:21/50 Training Error:0.090 Test Error:0.059\n",
      "Epoch:22/50 Training Error:0.089 Test Error:0.059\n",
      "Epoch:23/50 Training Error:0.089 Test Error:0.059\n",
      "Epoch:24/50 Training Error:0.088 Test Error:0.058\n",
      "Epoch:25/50 Training Error:0.088 Test Error:0.058\n",
      "Epoch:26/50 Training Error:0.086 Test Error:0.057\n",
      "Epoch:27/50 Training Error:0.084 Test Error:0.056\n",
      "Epoch:28/50 Training Error:0.082 Test Error:0.054\n",
      "Epoch:29/50 Training Error:0.077 Test Error:0.051\n",
      "Epoch:30/50 Training Error:0.071 Test Error:0.047\n",
      "Epoch:31/50 Training Error:0.063 Test Error:0.041\n",
      "Epoch:32/50 Training Error:0.052 Test Error:0.034\n",
      "Epoch:33/50 Training Error:0.041 Test Error:0.026\n",
      "Epoch:34/50 Training Error:0.031 Test Error:0.019\n",
      "Epoch:35/50 Training Error:0.022 Test Error:0.013\n",
      "Epoch:36/50 Training Error:0.017 Test Error:0.010\n",
      "Epoch:37/50 Training Error:0.014 Test Error:0.010\n",
      "Epoch:38/50 Training Error:0.013 Test Error:0.009\n",
      "Epoch:39/50 Training Error:0.013 Test Error:0.009\n",
      "Epoch:40/50 Training Error:0.012 Test Error:0.009\n",
      "Epoch:41/50 Training Error:0.012 Test Error:0.009\n",
      "Epoch:42/50 Training Error:0.012 Test Error:0.009\n",
      "Epoch:43/50 Training Error:0.012 Test Error:0.009\n",
      "Epoch:44/50 Training Error:0.012 Test Error:0.009\n",
      "Epoch:45/50 Training Error:0.012 Test Error:0.009\n",
      "Epoch:46/50 Training Error:0.012 Test Error:0.009\n",
      "Epoch:47/50 Training Error:0.012 Test Error:0.009\n",
      "Epoch:48/50 Training Error:0.012 Test Error:0.009\n",
      "Epoch:49/50 Training Error:0.012 Test Error:0.009\n",
      "Epoch:50/50 Training Error:0.012 Test Error:0.009\n"
     ]
    }
   ],
   "source": [
    "import _pickle as cPickle\n",
    "\n",
    "# define the parameters of the model\n",
    "learningRate= 0.0001 #best_lr\n",
    "neuron_ = 8 #best_neurons_nb\n",
    "epochs= 50\n",
    "criterion = nn.MSELoss() \n",
    "\n",
    "\n",
    "#Load the data\n",
    "x  = cPickle.load(open('data/pickle/middle_small/processed_middle_small_0.05_0.1', \"rb\"))\n",
    "\n",
    "#Split\n",
    "x_train, x_test = train_test_split(x, test_size=0.1, random_state=seed, shuffle=False)\n",
    "y_train, y_test = x_train, x_test\n",
    "\n",
    "#Declare the model\n",
    "input_size=x_train.shape[1]\n",
    "model = Autoencoder(input_size, neuron_)\n",
    "optimizer = torch.optim.Adam(model.parameters(), lr=learningRate, weight_decay=1e-5)\n",
    "\n",
    "#Dataloader\n",
    "train_loader = DataLoader(x_train, batch_size=20)\n",
    "test_loader = DataLoader(x_test, batch_size=20)\n",
    "\n",
    "#Training and testing over the epochs\n",
    "for epoch in range(epochs):\n",
    "    # train the model \n",
    "    train_loss=train_epoch(train_loader, model, criterion, optimizer)\n",
    "    # compute the relative training error\n",
    "    train_error = valid_epoch(train_loader, model)\n",
    "    # compute the relative test error\n",
    "    test_error=valid_epoch(test_loader, model)\n",
    "\n",
    "    print(\"Epoch:{}/{} Training Error:{:.3f} Test Error:{:.3f}\".format(epoch + 1,epochs,train_error,test_error))\n",
    "\n",
    "#Look at the compression\n",
    "compressed_X = []\n",
    "for train in train_loader :\n",
    "    train = train.float()\n",
    "    compressed_x = model.forward(x=train, show_compression=True)\n",
    "    compressed_X.append(compressed_x.detach().numpy())\n",
    "\n",
    "for test in test_loader :\n",
    "    test = test.float()\n",
    "    compressed_x = model.forward(x=test, show_compression=True)\n",
    "    compressed_X.append(compressed_x.detach().numpy())    "
   ]
  },
  {
   "cell_type": "code",
   "execution_count": 127,
   "metadata": {},
   "outputs": [
    {
     "name": "stdout",
     "output_type": "stream",
     "text": [
      "(175, 8)\n"
     ]
    }
   ],
   "source": [
    "comp_X = np.concatenate(np.squeeze(np.array(compressed_X)))\n",
    "print(comp_X.shape)"
   ]
  },
  {
   "cell_type": "markdown",
   "metadata": {},
   "source": [
    "##### Scatterplots to have a glimpse on their distribution in space"
   ]
  },
  {
   "cell_type": "markdown",
   "metadata": {},
   "source": [
    "3 first neurons"
   ]
  },
  {
   "cell_type": "code",
   "execution_count": 128,
   "metadata": {},
   "outputs": [
    {
     "data": {
      "image/png": "[encoded data removed]",
      "text/plain": [
       "<Figure size 432x288 with 1 Axes>"
      ]
     },
     "metadata": {
      "needs_background": "light"
     },
     "output_type": "display_data"
    }
   ],
   "source": [
    "fig = plt.figure()\n",
    "ax = fig.add_subplot(111, projection='3d')\n",
    "\n",
    "ax.scatter(comp_X[:,0], comp_X[:,1], comp_X[:,2], c = 'b', marker='o')\n",
    "plt.show()"
   ]
  },
  {
   "cell_type": "markdown",
   "metadata": {},
   "source": [
    "2 first neurons"
   ]
  },
  {
   "cell_type": "code",
   "execution_count": 129,
   "metadata": {},
   "outputs": [
    {
     "data": {
      "image/png": "[encoded data removed]",
      "text/plain": [
       "<Figure size 432x288 with 1 Axes>"
      ]
     },
     "metadata": {
      "needs_background": "light"
     },
     "output_type": "display_data"
    }
   ],
   "source": [
    "plt.scatter(comp_X[:,0], comp_X[:,2], c = 'b', marker='o')\n",
    "plt.show()"
   ]
  },
  {
   "cell_type": "markdown",
   "metadata": {},
   "source": [
    "##### Load the real parameters that generated the solutions of the heamodynamic equation"
   ]
  },
  {
   "cell_type": "code",
   "execution_count": 130,
   "metadata": {},
   "outputs": [],
   "source": [
    "compressed_Y_pd = pd.read_csv(\"Data/params_middle_small.csv.bz2\", header=None)\n",
    "compressed_Y = compressed_Y_pd.to_numpy()"
   ]
  },
  {
   "cell_type": "code",
   "execution_count": 131,
   "metadata": {},
   "outputs": [
    {
     "data": {
      "text/plain": [
       "(175, 5)"
      ]
     },
     "execution_count": 131,
     "metadata": {},
     "output_type": "execute_result"
    }
   ],
   "source": [
    "compressed_Y.shape"
   ]
  },
  {
   "cell_type": "code",
   "execution_count": 132,
   "metadata": {},
   "outputs": [
    {
     "data": {
      "text/plain": [
       "(18, 5)"
      ]
     },
     "execution_count": 132,
     "metadata": {},
     "output_type": "execute_result"
    }
   ],
   "source": [
    "compressed_Y_train, compressed_Y_test = train_test_split(compressed_Y, test_size=0.1, random_state=seed, shuffle=False)\n",
    "compressed_Y_test.shape"
   ]
  },
  {
   "cell_type": "markdown",
   "metadata": {},
   "source": [
    "##### Correlation"
   ]
  },
  {
   "cell_type": "code",
   "execution_count": 133,
   "metadata": {},
   "outputs": [
    {
     "data": {
      "image/png": "[encoded data removed]",
      "text/plain": [
       "<Figure size 432x288 with 2 Axes>"
      ]
     },
     "metadata": {
      "needs_background": "light"
     },
     "output_type": "display_data"
    }
   ],
   "source": [
    "import seaborn as sns\n",
    "\n",
    "corr = np.cov(comp_X.T)\n",
    "\n",
    "# plot the heatmap\n",
    "plt.imshow(corr,cmap='hot',interpolation='nearest')\n",
    "plt.colorbar()\n",
    "plt.show()"
   ]
  },
  {
   "cell_type": "markdown",
   "metadata": {},
   "source": [
    "##### Regression model"
   ]
  },
  {
   "cell_type": "code",
   "execution_count": 134,
   "metadata": {
    "scrolled": true
   },
   "outputs": [
    {
     "name": "stdout",
     "output_type": "stream",
     "text": [
      "0.6342430999819623\n",
      "[[ 9.33596802e+00 -3.58767509e+00 -6.83194685e+00 -1.24001098e+00\n",
      "  -5.31740999e+00  1.32319391e+00 -3.52432990e+00  1.51721401e+01]\n",
      " [-2.69443417e+00  6.62663519e-01  2.72394156e+00  5.20594299e-01\n",
      "   3.85174441e+00 -1.97040141e-01 -3.24154902e+00 -3.13997358e-01]\n",
      " [ 6.81651163e+00 -1.72003374e-01 -3.05609751e+00 -5.94833136e+00\n",
      "  -8.50782514e-01  9.41639960e-01  2.70131159e+00 -8.18331182e-01]\n",
      " [ 7.37423812e+05  4.59063324e+02 -2.93435719e+05 -6.56675562e+05\n",
      "  -1.73532715e+04  1.44688125e+05  2.71129219e+05 -5.09101914e+04]\n",
      " [ 5.60316875e+05 -2.06950859e+04 -1.92146859e+05 -5.07091781e+05\n",
      "   3.26804492e+04  1.00614742e+05  1.16484625e+05  5.83828086e+04]]\n",
      "[-3.9639622e-02  2.5059578e-01 -1.7940058e+00 -1.4924378e+05\n",
      " -9.0980359e+04]\n"
     ]
    }
   ],
   "source": [
    "from sklearn.linear_model import LinearRegression\n",
    "\n",
    "reg = LinearRegression().fit(comp_X, compressed_Y)\n",
    "\n",
    "print(reg.score(comp_X, compressed_Y))\n",
    "print(reg.coef_)\n",
    "print(reg.intercept_)"
   ]
  },
  {
   "cell_type": "markdown",
   "metadata": {},
   "source": [
    "## 6. Discussion & conclusion <a name=\"ccl\"></a>"
   ]
  },
  {
   "cell_type": "code",
   "execution_count": null,
   "metadata": {},
   "outputs": [],
   "source": []
  }
 ],
 "metadata": {
  "kernelspec": {
   "display_name": "Python 3 (ipykernel)",
   "language": "python",
   "name": "python3"
  },
  "language_info": {
   "codemirror_mode": {
    "name": "ipython",
    "version": 3
   },
   "file_extension": ".py",
   "mimetype": "text/x-python",
   "name": "python",
   "nbconvert_exporter": "python",
   "pygments_lexer": "ipython3",
   "version": "3.8.8"
  }
 },
 "nbformat": 4,
 "nbformat_minor": 4
}
