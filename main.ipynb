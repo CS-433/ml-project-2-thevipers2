{
 "cells": [
  {
   "cell_type": "markdown",
   "metadata": {},
   "source": [
    "# Machine Learning - Project 2:\n",
    "# _Unsteady parametrized Stokes equations in a 2D arterial bifurcation with stenosis: design of a Feed-Forward Autoencoder for data compression_"
   ]
  },
  {
   "cell_type": "markdown",
   "metadata": {},
   "source": [
    "## Context"
   ]
  },
  {
   "cell_type": "markdown",
   "metadata": {},
   "source": [
    "Our project aims at investigating the relationship between classical numerical methods and deep-learning techniques, with the final purpose of efficiently providing accurate solutions to parametrized PDE problems, being fully unaware of the values of the characteristic parameters. The professor's Deparis lab has developed efficient numerical methods for the resolution of parametrized time-dependent PDEs. In the following, we develop deep-learning models that take advantage of these numerical methods to solve parametrized unsteady PDEs without any knowledge of the characteristic parameters.\n",
    "\n",
    "In this notebook, we make progress to this end by proposing deep-learning approaches to identify and evolve a low-dimensional representation of a spatiotemporal system. In particular, we employ PyTorch __Feed-Forward AEs__ to learn an optimal low-dimensional representation of the full state of the system. The notebook `lstm_main.ipynb` continues our analysis by focusing on _LSTM AEs_."
   ]
  },
  {
   "cell_type": "markdown",
   "metadata": {},
   "source": [
    "Abbreviations used:\n",
    "- $N_u$ = total number of spatial points per simulation\n",
    "- $N_t$ = total number of time steps per simulation\n",
    "- $N_s$ = total number of simulations"
   ]
  },
  {
   "cell_type": "markdown",
   "metadata": {},
   "source": [
    "## Table of contents"
   ]
  },
  {
   "cell_type": "markdown",
   "metadata": {},
   "source": [
    "[1. Data exploration](#data_exploration) \n",
    "- [Imports](#1imports)\n",
    "- [Pathways](#1pathways)\n",
    "- [Loading](#1load)\n",
    "- [Exploration](#1exploration)\n",
    "\n",
    "[2. Data preprocessing](#preprocessing)\n",
    "\n",
    "[3. Pickle](#pickle)\n",
    "\n",
    "[4. Autoencoder](#autoencoder)\n",
    "\n",
    "[5. Physical interpretation](#physical)\n",
    "\n",
    "[6. Discussion & conclusion](#ccl)"
   ]
  },
  {
   "cell_type": "markdown",
   "metadata": {},
   "source": [
    "## 1. Data exploration  <a name=\"data_exploration\"></a>"
   ]
  },
  {
   "cell_type": "markdown",
   "metadata": {},
   "source": [
    "### Imports  <a name=\"1imports\"></a>"
   ]
  },
  {
   "cell_type": "code",
   "execution_count": 1,
   "metadata": {},
   "outputs": [],
   "source": [
    "# Useful starting lines\n",
    "%matplotlib inline\n",
    "import numpy as np\n",
    "import matplotlib.pyplot as plt\n",
    "import pandas as pd\n",
    "from helpers import *\n",
    "from preprocessing import *\n",
    "from sklearn.model_selection import train_test_split\n",
    "from autoencoder import *\n",
    "from crossvalidation import *\n",
    "import _pickle as cPickle\n",
    "%load_ext autoreload\n",
    "%autoreload 2\n",
    "torch.manual_seed(0)\n",
    "np.random.seed(1)\n",
    "seed = 1"
   ]
  },
  {
   "cell_type": "markdown",
   "metadata": {},
   "source": [
    "If you have already saved the pickle files, you can already jump [here](#start_pickle)!"
   ]
  },
  {
   "cell_type": "markdown",
   "metadata": {},
   "source": [
    "### Pathways <a name=\"1pathways\"></a>"
   ]
  },
  {
   "cell_type": "code",
   "execution_count": 71,
   "metadata": {},
   "outputs": [],
   "source": [
    "DATA_PATH = 'data/'\n",
    "DATA_Ux_PATH = DATA_PATH + 'u1_very_small.csv.bz2'\n",
    "DATA_Uy_PATH = DATA_PATH + 'u2_very_small.csv.bz2'"
   ]
  },
  {
   "cell_type": "markdown",
   "metadata": {},
   "source": [
    "### Loading <a name=\"1load\"></a>"
   ]
  },
  {
   "cell_type": "markdown",
   "metadata": {},
   "source": [
    "Let's load the data which consists of 2 matrices Ux, Uy denoting the x and y coordinates of the speed."
   ]
  },
  {
   "cell_type": "code",
   "execution_count": 72,
   "metadata": {},
   "outputs": [],
   "source": [
    "# Loading\n",
    "Ux_pd = pd.read_csv(DATA_Ux_PATH, header=None)\n",
    "Uy_pd = pd.read_csv(DATA_Uy_PATH, header=None)\n",
    "# Converting from dataframe to numpy\n",
    "Ux = Ux_pd.to_numpy()\n",
    "Uy = Uy_pd.to_numpy()"
   ]
  },
  {
   "cell_type": "markdown",
   "metadata": {},
   "source": [
    "### Exploration <a name=\"1exploration\"></a>"
   ]
  },
  {
   "cell_type": "markdown",
   "metadata": {},
   "source": [
    "Let's have a closer look at our imported data sets. The columns represent the time steps and the rows represent a point of our blood vessel mesh and each 5509 row a new simulation."
   ]
  },
  {
   "cell_type": "code",
   "execution_count": 73,
   "metadata": {
    "scrolled": false
   },
   "outputs": [
    {
     "name": "stdout",
     "output_type": "stream",
     "text": [
      "Our input array Ux is of shape: (137725, 110)\n",
      "Our input array Uy is of shape: (137725, 110)\n",
      "Printing a row of Ux: \n",
      " [0.0694243  0.27537487 0.60389834 1.02538242 1.49979277 1.9813229\n",
      " 2.42318455 2.78232553 3.02371067 3.12378595 3.22605803 3.32166836\n",
      " 3.41249686 3.49946177 3.58301614 3.66339786 3.74073801 3.81511138\n",
      " 3.88656184 3.95511576 4.02078945 4.08359325 4.14353388 4.20061589\n",
      " 4.2548424  4.30621561 4.35473712 4.40040807 4.44322934 4.48320158\n",
      " 4.52032526 4.55460075 4.58602833 4.61460821 4.64034055 4.66322547\n",
      " 4.68326307 4.70045341 4.71479655 4.72629252 4.73494137 4.7407431\n",
      " 4.74369775 4.74423086 4.74375285 4.74246986 4.74042825 4.73764939\n",
      " 4.73414407 4.72991811 4.7249748  4.71931611 4.71294324 4.70585693\n",
      " 4.6980577  4.68954587 4.68032167 4.67038525 4.65973675 4.64837623\n",
      " 4.63630377 4.6235194  4.61002317 4.5958151  4.5808952  4.5652635\n",
      " 4.54892001 4.53186473 4.51409767 4.49561883 4.47642823 4.45652585\n",
      " 4.43591171 4.41458581 4.39254814 4.36979872 4.34633752 4.32216457\n",
      " 4.29727986 4.27168339 4.24537516 4.21835516 4.19062341 4.1621799\n",
      " 4.13302463 4.1031576  4.07257881 4.04128826 4.00928595 3.97657188\n",
      " 3.94314606 3.90900847 3.87415912 3.83859802 3.80232515 3.76534053\n",
      " 3.72764415 3.689236   3.6501161  3.61028444 3.56974102 3.52848584\n",
      " 3.4865189  3.4438402  3.40044974 3.35634752 3.31153355 3.26600781\n",
      " 3.21977031 3.17282106] \n",
      "\n",
      "Printing a row of Uy: \n",
      " [0.00067075 0.00314395 0.0081191  0.01585384 0.02617912 0.0385416\n",
      " 0.05208035 0.06573238 0.07835575 0.08885756 0.09779466 0.10544569\n",
      " 0.1120431  0.11779068 0.12286148 0.12739624 0.13150532 0.13527295\n",
      " 0.13876218 0.14201954 0.14507906 0.14796547 0.15069666 0.15328552\n",
      " 0.15574136 0.15807087 0.16027887 0.16236883 0.16434326 0.16620397\n",
      " 0.16795225 0.16958906 0.17111508 0.1725308  0.17383659 0.1750327\n",
      " 0.17611934 0.17709663 0.17796468 0.17872356 0.17937332 0.17991401\n",
      " 0.18034566 0.1806724  0.18091083 0.18107502 0.18117609 0.18122281\n",
      " 0.18122208 0.18117917 0.18109807 0.18098175 0.1808324  0.18065161\n",
      " 0.18044053 0.18020003 0.17993069 0.17963297 0.17930717 0.17895353\n",
      " 0.17857222 0.17816334 0.177727   0.17726324 0.17677213 0.17625368\n",
      " 0.17570793 0.17513488 0.17453457 0.17390698 0.17325214 0.17257004\n",
      " 0.17186069 0.17112409 0.17036024 0.16956915 0.16875082 0.16790524\n",
      " 0.16703242 0.16613236 0.16520505 0.16425051 0.16326872 0.16225969\n",
      " 0.16122342 0.1601599  0.15906915 0.15795116 0.15680592 0.15563344\n",
      " 0.15443372 0.15320676 0.15195256 0.15067112 0.14936244 0.14802651\n",
      " 0.14666335 0.14527294 0.14385529 0.14241041 0.14093828 0.1394389\n",
      " 0.13791229 0.13635844 0.13477734 0.13316901 0.13153343 0.12987061\n",
      " 0.12818056 0.12646326] \n",
      "\n"
     ]
    }
   ],
   "source": [
    "print(\"Our input array Ux is of shape:\",Ux.shape)\n",
    "print(\"Our input array Uy is of shape:\",Uy.shape)\n",
    "print(\"Printing a row of Ux:\", '\\n', Ux[10,:], '\\n')\n",
    "print(\"Printing a row of Uy:\", '\\n', Uy[10,:], '\\n')"
   ]
  },
  {
   "cell_type": "markdown",
   "metadata": {},
   "source": [
    "For the rest of the analysis, we need to figure out the number of simulation step. As we know that we previsouly generated the number of simulations on Matlab and all the new simulations are appended row-wise, we can deduce it with the following computation."
   ]
  },
  {
   "cell_type": "code",
   "execution_count": 74,
   "metadata": {
    "scrolled": true
   },
   "outputs": [
    {
     "name": "stdout",
     "output_type": "stream",
     "text": [
      "We ran  25 simulations with different parameters for each simulation (parameters of the stenosis and resistance of the blood flow in the bifurcations)\n",
      "1 simulation calculate the velocities of the blood flow at  5509  different positions and at  110  different times\n"
     ]
    }
   ],
   "source": [
    "positions =5509 #We know it from the matlab code\n",
    "times = Ux.shape[1]\n",
    "simulations = int(Ux.shape[0]/positions)\n",
    "print(\"We ran\", simulations, \"simulations with different parameters for each simulation (parameters of the stenosis and resistance of the blood flow in the bifurcations)\")\n",
    "print(\"1 simulation calculate the velocities of the blood flow at\", positions, \"different positions and at\", times, \"different times\")"
   ]
  },
  {
   "cell_type": "markdown",
   "metadata": {},
   "source": [
    "## 2. Data preprocessing  <a name=\"preprocessing\"></a>"
   ]
  },
  {
   "cell_type": "markdown",
   "metadata": {},
   "source": [
    "Let's check if we have any NaN or None values in our dataframe."
   ]
  },
  {
   "cell_type": "code",
   "execution_count": 75,
   "metadata": {
    "scrolled": true
   },
   "outputs": [
    {
     "name": "stdout",
     "output_type": "stream",
     "text": [
      "0\n",
      "0\n"
     ]
    }
   ],
   "source": [
    "print(np.count_nonzero(np.isnan(Ux)))\n",
    "print(np.count_nonzero(np.isnan(Uy)))"
   ]
  },
  {
   "cell_type": "markdown",
   "metadata": {},
   "source": [
    "It seems there are no None values so we can start direclty preprocess our datasets."
   ]
  },
  {
   "cell_type": "markdown",
   "metadata": {},
   "source": [
    "Let's sample our data points into the following ratio. "
   ]
  },
  {
   "cell_type": "code",
   "execution_count": 76,
   "metadata": {},
   "outputs": [
    {
     "name": "stdout",
     "output_type": "stream",
     "text": [
      "(13750, 55) (13750, 55)\n"
     ]
    }
   ],
   "source": [
    "ratio_pts = 0.1\n",
    "ratio_time = 0.5\n",
    "\n",
    "new_Ux, new_Uy, new_inds = sample(Ux, Uy, ratio_pts, ratio_time)\n",
    "print(new_Ux.shape, new_Uy.shape)"
   ]
  },
  {
   "cell_type": "code",
   "execution_count": 77,
   "metadata": {},
   "outputs": [
    {
     "name": "stdout",
     "output_type": "stream",
     "text": [
      "With the sampling we got from  5509  positions to  550  positions\n",
      "With the sampling we got from  110  time steps to  55  time steps\n"
     ]
    }
   ],
   "source": [
    "new_Nu, new_Nt = get_Nu_Nt_sampled(Ux, new_Ux)\n",
    "\n",
    "print('With the sampling we got from', 5509, 'positions to', new_Nu, 'positions')\n",
    "print('With the sampling we got from', 110, 'time steps to', new_Nt, 'time steps')"
   ]
  },
  {
   "cell_type": "markdown",
   "metadata": {},
   "source": [
    "We can look at the positions of the sampled positions to make sure that we cover mostly all the important parts of the geometry of the artery."
   ]
  },
  {
   "cell_type": "code",
   "execution_count": 78,
   "metadata": {
    "scrolled": true
   },
   "outputs": [
    {
     "data": {
      "image/png": "[encoded data removed]",
      "text/plain": [
       "<Figure size 648x360 with 1 Axes>"
      ]
     },
     "metadata": {
      "needs_background": "light"
     },
     "output_type": "display_data"
    }
   ],
   "source": [
    "plot_sampled_coord(new_inds) "
   ]
  },
  {
   "cell_type": "markdown",
   "metadata": {},
   "source": [
    "Let's flatten our matrices into a single matrix with dimensions $(N_s, (2 N_u N_t))$. For each simulation, the x and y speed coordinates are compressed to the following 1D matrix:\n",
    "\n",
    "$$\n",
    "\\mathbf{M_{1D}}\n",
    "=\n",
    "\\begin{bmatrix}\n",
    "\\vdots \\\\\n",
    "u_{x}^{(0)} \\\\\n",
    "\\vdots \\\\\n",
    "u_{y}^{(0)} \\\\\n",
    "\\vdots \\\\\n",
    "u_{x}^{(1)} \\\\\n",
    "\\vdots \\\\\n",
    "u_{y}^{(1)} \\\\\n",
    "\\vdots \\\\\n",
    "u_{x}^{(N_t - 1)} \\\\\n",
    "\\vdots \\\\\n",
    "u_{y}^{(N_t - 1)} \\\\\n",
    "\\vdots \n",
    "\\end{bmatrix}\n",
    "$$\n",
    "\n"
   ]
  },
  {
   "cell_type": "code",
   "execution_count": 80,
   "metadata": {
    "scrolled": false
   },
   "outputs": [
    {
     "data": {
      "text/plain": [
       "(25, 60500)"
      ]
     },
     "execution_count": 80,
     "metadata": {},
     "output_type": "execute_result"
    }
   ],
   "source": [
    "flattened_array = flatten(new_Ux, new_Uy, ratio_pts)\n",
    "flattened_array.shape"
   ]
  },
  {
   "cell_type": "markdown",
   "metadata": {},
   "source": [
    "Let's make a sanity check that the dimension of 1 datapoint is indeed ${2 * new_{N_t} * new_{N_u}}$."
   ]
  },
  {
   "cell_type": "code",
   "execution_count": 81,
   "metadata": {},
   "outputs": [
    {
     "name": "stdout",
     "output_type": "stream",
     "text": [
      "60500\n"
     ]
    }
   ],
   "source": [
    "assert flattened_array.shape[1] == 2*new_Nt*new_Nu\n",
    "\n",
    "print(2*new_Nt*new_Nu)"
   ]
  },
  {
   "cell_type": "markdown",
   "metadata": {},
   "source": [
    "## 3. Pickle  <a name=\"pickle\"></a>"
   ]
  },
  {
   "cell_type": "markdown",
   "metadata": {},
   "source": [
    "To avoid the loading and processing steps each time we open the notebook, we will save the processed matrix \"flattened_array\" using pickle. "
   ]
  },
  {
   "cell_type": "markdown",
   "metadata": {},
   "source": [
    "In the following cell, we will create pickles for every subsampled data according to the ratios_pts and the ratios_t."
   ]
  },
  {
   "cell_type": "code",
   "execution_count": 14,
   "metadata": {},
   "outputs": [],
   "source": [
    "'''\n",
    "ratios_pts = [0.1, 0.05, 0.02]\n",
    "ratios_t = [0.5, 0.25, 0.1]\n",
    "\n",
    "create_subsamples(Ux, Uy, ratios_pts, ratios_t, name_file='middle_small')\n",
    "'''"
   ]
  },
  {
   "cell_type": "markdown",
   "metadata": {},
   "source": [
    "The cell above is only intented to be run __once__."
   ]
  },
  {
   "cell_type": "markdown",
   "metadata": {},
   "source": [
    "#### Start from here if you the pickle file already exist in your data folder <a name=\"start_pickle\"></a>"
   ]
  },
  {
   "cell_type": "markdown",
   "metadata": {},
   "source": [
    "Change only the following cell to change the name of the file you want to open."
   ]
  },
  {
   "cell_type": "code",
   "execution_count": 3,
   "metadata": {},
   "outputs": [
    {
     "name": "stdout",
     "output_type": "stream",
     "text": [
      "name of the file you want to read: processed_middle_small_0.1_0.5\n"
     ]
    }
   ],
   "source": [
    "ratios = [0.1, 0.5]\n",
    "size = ['very_small', 'middle_small', 'small']\n",
    "\n",
    "name = 'processed_'+str(size[1])+'_'+str(ratios[0])+'_'+str(ratios[1])\n",
    "\n",
    "print('name of the file you want to read:', name)"
   ]
  },
  {
   "cell_type": "code",
   "execution_count": 4,
   "metadata": {},
   "outputs": [],
   "source": [
    "flattened_array  = cPickle.load(open(\"data/pickle/\"+str(size[1])+\"/\"+name, \"rb\"))"
   ]
  },
  {
   "cell_type": "code",
   "execution_count": 6,
   "metadata": {},
   "outputs": [
    {
     "name": "stdout",
     "output_type": "stream",
     "text": [
      "[[ 6.59818698e-02  1.82234920e-02  6.44159502e-02 ...  1.03034493e+00\n",
      "  -9.73947264e-03 -1.67477632e-02]\n",
      " [ 5.29771523e-02  1.32216300e-02  4.90189335e-02 ...  9.93200215e-01\n",
      "   5.02639122e-03  1.41599883e-03]\n",
      " [ 8.25671280e-02  2.32952726e-02  6.87771891e-02 ...  1.77500861e+00\n",
      "   3.44533164e-04  1.81417079e-02]\n",
      " ...\n",
      " [ 2.19606656e-01  2.55903473e-02  2.29397872e-01 ...  1.46759534e+00\n",
      "   7.42708226e-02 -1.34336791e-02]\n",
      " [ 2.41341112e-01  5.06083120e-02  2.15209040e-01 ...  4.44840207e+00\n",
      "   4.35858394e-02  2.36892166e-02]\n",
      " [ 6.98710694e-02  1.96083000e-02  6.43463295e-02 ...  1.38366628e+00\n",
      "  -1.23426650e-03  1.73919218e-03]]\n"
     ]
    }
   ],
   "source": [
    "print(flattened_array)"
   ]
  },
  {
   "cell_type": "markdown",
   "metadata": {},
   "source": [
    "##### Final step : split train/test\n",
    "\n",
    "We split the data set into a training a testing set to be able to evaluate our autoencoder."
   ]
  },
  {
   "cell_type": "code",
   "execution_count": 7,
   "metadata": {},
   "outputs": [
    {
     "name": "stdout",
     "output_type": "stream",
     "text": [
      "(157, 60500)\n",
      "(18, 60500)\n"
     ]
    }
   ],
   "source": [
    "x_train, x_test = train_test_split(flattened_array, test_size=0.1, random_state=seed)\n",
    "y_train, y_test = x_train, x_test\n",
    "\n",
    "print(x_train.shape)\n",
    "print(x_test.shape)"
   ]
  },
  {
   "cell_type": "markdown",
   "metadata": {},
   "source": [
    "## 4. Feed-forward auto-encoder  <a name=\"autoencoder\"></a>"
   ]
  },
  {
   "cell_type": "markdown",
   "metadata": {},
   "source": [
    "Let's have a first look at our model."
   ]
  },
  {
   "cell_type": "code",
   "execution_count": 8,
   "metadata": {
    "scrolled": true
   },
   "outputs": [
    {
     "name": "stdout",
     "output_type": "stream",
     "text": [
      "--------------------------------\n",
      "FOLD 0\n",
      "--------------------------------\n",
      "Epoch:1/50 Training Error:0.996 Test Error:0.996\n",
      "Epoch:2/50 Training Error:0.964 Test Error:0.963\n",
      "Epoch:3/50 Training Error:0.858 Test Error:0.854\n",
      "Epoch:4/50 Training Error:0.678 Test Error:0.671\n",
      "Epoch:5/50 Training Error:0.470 Test Error:0.459\n",
      "Epoch:6/50 Training Error:0.293 Test Error:0.281\n",
      "Epoch:7/50 Training Error:0.176 Test Error:0.164\n",
      "Epoch:8/50 Training Error:0.116 Test Error:0.107\n",
      "Epoch:9/50 Training Error:0.093 Test Error:0.085\n",
      "Epoch:10/50 Training Error:0.088 Test Error:0.075\n",
      "Epoch:11/50 Training Error:0.086 Test Error:0.070\n",
      "Epoch:12/50 Training Error:0.085 Test Error:0.068\n",
      "Epoch:13/50 Training Error:0.084 Test Error:0.067\n",
      "Epoch:14/50 Training Error:0.084 Test Error:0.066\n",
      "Epoch:15/50 Training Error:0.084 Test Error:0.065\n",
      "Epoch:16/50 Training Error:0.083 Test Error:0.065\n",
      "Epoch:17/50 Training Error:0.083 Test Error:0.065\n",
      "Epoch:18/50 Training Error:0.083 Test Error:0.065\n",
      "Epoch:19/50 Training Error:0.083 Test Error:0.064\n",
      "Epoch:20/50 Training Error:0.082 Test Error:0.064\n",
      "Epoch:21/50 Training Error:0.082 Test Error:0.064\n",
      "Epoch:22/50 Training Error:0.081 Test Error:0.065\n",
      "Epoch:23/50 Training Error:0.080 Test Error:0.063\n",
      "Epoch:24/50 Training Error:0.078 Test Error:0.061\n",
      "Epoch:25/50 Training Error:0.076 Test Error:0.059\n",
      "Epoch:26/50 Training Error:0.074 Test Error:0.058\n",
      "Epoch:27/50 Training Error:0.070 Test Error:0.055\n",
      "Epoch:28/50 Training Error:0.066 Test Error:0.052\n",
      "Epoch:29/50 Training Error:0.061 Test Error:0.048\n",
      "Epoch:30/50 Training Error:0.055 Test Error:0.043\n",
      "Epoch:31/50 Training Error:0.048 Test Error:0.038\n",
      "Epoch:32/50 Training Error:0.041 Test Error:0.033\n",
      "Epoch:33/50 Training Error:0.035 Test Error:0.029\n",
      "Epoch:34/50 Training Error:0.029 Test Error:0.024\n",
      "Epoch:35/50 Training Error:0.023 Test Error:0.021\n",
      "Epoch:36/50 Training Error:0.019 Test Error:0.018\n",
      "Epoch:37/50 Training Error:0.016 Test Error:0.016\n",
      "Epoch:38/50 Training Error:0.014 Test Error:0.014\n",
      "Epoch:39/50 Training Error:0.013 Test Error:0.013\n",
      "Epoch:40/50 Training Error:0.012 Test Error:0.012\n",
      "Epoch:41/50 Training Error:0.012 Test Error:0.011\n",
      "Epoch:42/50 Training Error:0.012 Test Error:0.011\n",
      "Epoch:43/50 Training Error:0.011 Test Error:0.011\n",
      "Epoch:44/50 Training Error:0.011 Test Error:0.011\n",
      "Epoch:45/50 Training Error:0.011 Test Error:0.011\n",
      "Epoch:46/50 Training Error:0.011 Test Error:0.010\n",
      "Epoch:47/50 Training Error:0.011 Test Error:0.010\n",
      "Epoch:48/50 Training Error:0.011 Test Error:0.010\n",
      "Epoch:49/50 Training Error:0.011 Test Error:0.010\n",
      "Epoch:50/50 Training Error:0.011 Test Error:0.010\n",
      "--------------------------------\n",
      "FOLD 1\n",
      "--------------------------------\n",
      "Epoch:1/50 Training Error:0.989 Test Error:0.989\n",
      "Epoch:2/50 Training Error:0.926 Test Error:0.925\n",
      "Epoch:3/50 Training Error:0.787 Test Error:0.784\n",
      "Epoch:4/50 Training Error:0.593 Test Error:0.588\n",
      "Epoch:5/50 Training Error:0.400 Test Error:0.391\n",
      "Epoch:6/50 Training Error:0.251 Test Error:0.237\n",
      "Epoch:7/50 Training Error:0.158 Test Error:0.138\n",
      "Epoch:8/50 Training Error:0.116 Test Error:0.087\n",
      "Epoch:9/50 Training Error:0.099 Test Error:0.069\n",
      "Epoch:10/50 Training Error:0.094 Test Error:0.068\n",
      "Epoch:11/50 Training Error:0.092 Test Error:0.067\n",
      "Epoch:12/50 Training Error:0.092 Test Error:0.067\n",
      "Epoch:13/50 Training Error:0.091 Test Error:0.067\n",
      "Epoch:14/50 Training Error:0.091 Test Error:0.067\n",
      "Epoch:15/50 Training Error:0.091 Test Error:0.067\n",
      "Epoch:16/50 Training Error:0.090 Test Error:0.067\n",
      "Epoch:17/50 Training Error:0.090 Test Error:0.067\n",
      "Epoch:18/50 Training Error:0.090 Test Error:0.067\n",
      "Epoch:19/50 Training Error:0.090 Test Error:0.067\n",
      "Epoch:20/50 Training Error:0.090 Test Error:0.066\n",
      "Epoch:21/50 Training Error:0.090 Test Error:0.066\n",
      "Epoch:22/50 Training Error:0.089 Test Error:0.066\n",
      "Epoch:23/50 Training Error:0.089 Test Error:0.066\n",
      "Epoch:24/50 Training Error:0.089 Test Error:0.066\n",
      "Epoch:25/50 Training Error:0.088 Test Error:0.065\n",
      "Epoch:26/50 Training Error:0.087 Test Error:0.065\n",
      "Epoch:27/50 Training Error:0.086 Test Error:0.064\n",
      "Epoch:28/50 Training Error:0.085 Test Error:0.063\n",
      "Epoch:29/50 Training Error:0.084 Test Error:0.062\n",
      "Epoch:30/50 Training Error:0.082 Test Error:0.061\n",
      "Epoch:31/50 Training Error:0.079 Test Error:0.059\n",
      "Epoch:32/50 Training Error:0.076 Test Error:0.056\n",
      "Epoch:33/50 Training Error:0.072 Test Error:0.053\n",
      "Epoch:34/50 Training Error:0.067 Test Error:0.050\n",
      "Epoch:35/50 Training Error:0.061 Test Error:0.046\n",
      "Epoch:36/50 Training Error:0.055 Test Error:0.041\n",
      "Epoch:37/50 Training Error:0.048 Test Error:0.036\n",
      "Epoch:38/50 Training Error:0.041 Test Error:0.030\n",
      "Epoch:39/50 Training Error:0.034 Test Error:0.025\n",
      "Epoch:40/50 Training Error:0.028 Test Error:0.021\n",
      "Epoch:41/50 Training Error:0.023 Test Error:0.018\n",
      "Epoch:42/50 Training Error:0.019 Test Error:0.015\n",
      "Epoch:43/50 Training Error:0.016 Test Error:0.013\n",
      "Epoch:44/50 Training Error:0.015 Test Error:0.012\n",
      "Epoch:45/50 Training Error:0.013 Test Error:0.011\n",
      "Epoch:46/50 Training Error:0.013 Test Error:0.011\n",
      "Epoch:47/50 Training Error:0.012 Test Error:0.010\n",
      "Epoch:48/50 Training Error:0.012 Test Error:0.010\n",
      "Epoch:49/50 Training Error:0.012 Test Error:0.010\n",
      "Epoch:50/50 Training Error:0.012 Test Error:0.009\n",
      "--------------------------------\n",
      "FOLD 2\n",
      "--------------------------------\n",
      "Epoch:1/50 Training Error:0.994 Test Error:0.994\n",
      "Epoch:2/50 Training Error:0.948 Test Error:0.948\n",
      "Epoch:3/50 Training Error:0.821 Test Error:0.821\n",
      "Epoch:4/50 Training Error:0.628 Test Error:0.627\n",
      "Epoch:5/50 Training Error:0.426 Test Error:0.423\n",
      "Epoch:6/50 Training Error:0.266 Test Error:0.261\n",
      "Epoch:7/50 Training Error:0.162 Test Error:0.154\n",
      "Epoch:8/50 Training Error:0.111 Test Error:0.094\n",
      "Epoch:9/50 Training Error:0.093 Test Error:0.074\n",
      "Epoch:10/50 Training Error:0.088 Test Error:0.069\n",
      "Epoch:11/50 Training Error:0.086 Test Error:0.067\n",
      "Epoch:12/50 Training Error:0.086 Test Error:0.066\n",
      "Epoch:13/50 Training Error:0.085 Test Error:0.066\n",
      "Epoch:14/50 Training Error:0.085 Test Error:0.066\n",
      "Epoch:15/50 Training Error:0.085 Test Error:0.065\n",
      "Epoch:16/50 Training Error:0.085 Test Error:0.065\n",
      "Epoch:17/50 Training Error:0.085 Test Error:0.065\n",
      "Epoch:18/50 Training Error:0.085 Test Error:0.065\n",
      "Epoch:19/50 Training Error:0.085 Test Error:0.065\n",
      "Epoch:20/50 Training Error:0.085 Test Error:0.065\n",
      "Epoch:21/50 Training Error:0.085 Test Error:0.065\n",
      "Epoch:22/50 Training Error:0.085 Test Error:0.066\n",
      "Epoch:23/50 Training Error:0.085 Test Error:0.066\n",
      "Epoch:24/50 Training Error:0.085 Test Error:0.065\n",
      "Epoch:25/50 Training Error:0.085 Test Error:0.065\n",
      "Epoch:26/50 Training Error:0.085 Test Error:0.065\n",
      "Epoch:27/50 Training Error:0.085 Test Error:0.065\n",
      "Epoch:28/50 Training Error:0.085 Test Error:0.065\n",
      "Epoch:29/50 Training Error:0.085 Test Error:0.065\n",
      "Epoch:30/50 Training Error:0.085 Test Error:0.065\n",
      "Epoch:31/50 Training Error:0.084 Test Error:0.065\n",
      "Epoch:32/50 Training Error:0.084 Test Error:0.065\n",
      "Epoch:33/50 Training Error:0.084 Test Error:0.065\n",
      "Epoch:34/50 Training Error:0.084 Test Error:0.065\n",
      "Epoch:35/50 Training Error:0.084 Test Error:0.065\n",
      "Epoch:36/50 Training Error:0.084 Test Error:0.064\n",
      "Epoch:37/50 Training Error:0.083 Test Error:0.064\n",
      "Epoch:38/50 Training Error:0.083 Test Error:0.064\n",
      "Epoch:39/50 Training Error:0.082 Test Error:0.063\n",
      "Epoch:40/50 Training Error:0.081 Test Error:0.063\n",
      "Epoch:41/50 Training Error:0.080 Test Error:0.062\n",
      "Epoch:42/50 Training Error:0.078 Test Error:0.060\n",
      "Epoch:43/50 Training Error:0.076 Test Error:0.059\n",
      "Epoch:44/50 Training Error:0.073 Test Error:0.056\n",
      "Epoch:45/50 Training Error:0.070 Test Error:0.053\n",
      "Epoch:46/50 Training Error:0.065 Test Error:0.049\n",
      "Epoch:47/50 Training Error:0.059 Test Error:0.045\n",
      "Epoch:48/50 Training Error:0.052 Test Error:0.039\n",
      "Epoch:49/50 Training Error:0.044 Test Error:0.033\n",
      "Epoch:50/50 Training Error:0.037 Test Error:0.027\n",
      "--------------------------------\n",
      "FOLD 3\n",
      "--------------------------------\n",
      "Epoch:1/50 Training Error:0.990 Test Error:0.990\n",
      "Epoch:2/50 Training Error:0.926 Test Error:0.926\n",
      "Epoch:3/50 Training Error:0.788 Test Error:0.790\n",
      "Epoch:4/50 Training Error:0.591 Test Error:0.596\n",
      "Epoch:5/50 Training Error:0.391 Test Error:0.400\n",
      "Epoch:6/50 Training Error:0.236 Test Error:0.246\n",
      "Epoch:7/50 Training Error:0.136 Test Error:0.162\n",
      "Epoch:8/50 Training Error:0.087 Test Error:0.135\n",
      "Epoch:9/50 Training Error:0.074 Test Error:0.129\n"
     ]
    },
    {
     "name": "stdout",
     "output_type": "stream",
     "text": [
      "Epoch:10/50 Training Error:0.071 Test Error:0.129\n",
      "Epoch:11/50 Training Error:0.071 Test Error:0.128\n",
      "Epoch:12/50 Training Error:0.070 Test Error:0.128\n",
      "Epoch:13/50 Training Error:0.070 Test Error:0.128\n",
      "Epoch:14/50 Training Error:0.070 Test Error:0.128\n",
      "Epoch:15/50 Training Error:0.070 Test Error:0.128\n",
      "Epoch:16/50 Training Error:0.070 Test Error:0.128\n",
      "Epoch:17/50 Training Error:0.070 Test Error:0.128\n",
      "Epoch:18/50 Training Error:0.070 Test Error:0.128\n",
      "Epoch:19/50 Training Error:0.070 Test Error:0.128\n",
      "Epoch:20/50 Training Error:0.070 Test Error:0.128\n",
      "Epoch:21/50 Training Error:0.070 Test Error:0.128\n",
      "Epoch:22/50 Training Error:0.070 Test Error:0.128\n",
      "Epoch:23/50 Training Error:0.070 Test Error:0.128\n",
      "Epoch:24/50 Training Error:0.070 Test Error:0.128\n",
      "Epoch:25/50 Training Error:0.070 Test Error:0.127\n",
      "Epoch:26/50 Training Error:0.069 Test Error:0.127\n",
      "Epoch:27/50 Training Error:0.069 Test Error:0.126\n",
      "Epoch:28/50 Training Error:0.069 Test Error:0.126\n",
      "Epoch:29/50 Training Error:0.068 Test Error:0.125\n",
      "Epoch:30/50 Training Error:0.068 Test Error:0.124\n",
      "Epoch:31/50 Training Error:0.067 Test Error:0.122\n",
      "Epoch:32/50 Training Error:0.065 Test Error:0.120\n",
      "Epoch:33/50 Training Error:0.063 Test Error:0.116\n",
      "Epoch:34/50 Training Error:0.061 Test Error:0.112\n",
      "Epoch:35/50 Training Error:0.057 Test Error:0.105\n",
      "Epoch:36/50 Training Error:0.053 Test Error:0.097\n",
      "Epoch:37/50 Training Error:0.048 Test Error:0.088\n",
      "Epoch:38/50 Training Error:0.041 Test Error:0.077\n",
      "Epoch:39/50 Training Error:0.035 Test Error:0.066\n",
      "Epoch:40/50 Training Error:0.029 Test Error:0.055\n",
      "Epoch:41/50 Training Error:0.023 Test Error:0.045\n",
      "Epoch:42/50 Training Error:0.019 Test Error:0.037\n",
      "Epoch:43/50 Training Error:0.015 Test Error:0.031\n",
      "Epoch:44/50 Training Error:0.012 Test Error:0.026\n",
      "Epoch:45/50 Training Error:0.010 Test Error:0.024\n",
      "Epoch:46/50 Training Error:0.009 Test Error:0.023\n",
      "Epoch:47/50 Training Error:0.009 Test Error:0.022\n",
      "Epoch:48/50 Training Error:0.008 Test Error:0.021\n",
      "Epoch:49/50 Training Error:0.008 Test Error:0.021\n",
      "Epoch:50/50 Training Error:0.008 Test Error:0.021\n",
      "--------------------------------\n",
      "FOLD 4\n",
      "--------------------------------\n",
      "Epoch:1/50 Training Error:0.993 Test Error:0.993\n",
      "Epoch:2/50 Training Error:0.938 Test Error:0.938\n",
      "Epoch:3/50 Training Error:0.806 Test Error:0.806\n",
      "Epoch:4/50 Training Error:0.613 Test Error:0.613\n",
      "Epoch:5/50 Training Error:0.414 Test Error:0.414\n",
      "Epoch:6/50 Training Error:0.257 Test Error:0.255\n",
      "Epoch:7/50 Training Error:0.156 Test Error:0.150\n",
      "Epoch:8/50 Training Error:0.106 Test Error:0.105\n",
      "Epoch:9/50 Training Error:0.088 Test Error:0.092\n",
      "Epoch:10/50 Training Error:0.084 Test Error:0.089\n",
      "Epoch:11/50 Training Error:0.082 Test Error:0.088\n",
      "Epoch:12/50 Training Error:0.081 Test Error:0.087\n",
      "Epoch:13/50 Training Error:0.081 Test Error:0.087\n",
      "Epoch:14/50 Training Error:0.080 Test Error:0.087\n",
      "Epoch:15/50 Training Error:0.080 Test Error:0.087\n",
      "Epoch:16/50 Training Error:0.080 Test Error:0.087\n",
      "Epoch:17/50 Training Error:0.080 Test Error:0.087\n",
      "Epoch:18/50 Training Error:0.080 Test Error:0.086\n",
      "Epoch:19/50 Training Error:0.080 Test Error:0.086\n",
      "Epoch:20/50 Training Error:0.080 Test Error:0.086\n",
      "Epoch:21/50 Training Error:0.080 Test Error:0.086\n",
      "Epoch:22/50 Training Error:0.080 Test Error:0.086\n",
      "Epoch:23/50 Training Error:0.080 Test Error:0.086\n",
      "Epoch:24/50 Training Error:0.080 Test Error:0.086\n",
      "Epoch:25/50 Training Error:0.079 Test Error:0.086\n",
      "Epoch:26/50 Training Error:0.079 Test Error:0.086\n",
      "Epoch:27/50 Training Error:0.080 Test Error:0.086\n",
      "Epoch:28/50 Training Error:0.079 Test Error:0.086\n",
      "Epoch:29/50 Training Error:0.079 Test Error:0.085\n",
      "Epoch:30/50 Training Error:0.078 Test Error:0.085\n",
      "Epoch:31/50 Training Error:0.078 Test Error:0.084\n",
      "Epoch:32/50 Training Error:0.077 Test Error:0.083\n",
      "Epoch:33/50 Training Error:0.076 Test Error:0.082\n",
      "Epoch:34/50 Training Error:0.075 Test Error:0.081\n",
      "Epoch:35/50 Training Error:0.074 Test Error:0.080\n",
      "Epoch:36/50 Training Error:0.072 Test Error:0.078\n",
      "Epoch:37/50 Training Error:0.070 Test Error:0.075\n",
      "Epoch:38/50 Training Error:0.067 Test Error:0.072\n",
      "Epoch:39/50 Training Error:0.063 Test Error:0.068\n",
      "Epoch:40/50 Training Error:0.059 Test Error:0.063\n",
      "Epoch:41/50 Training Error:0.054 Test Error:0.057\n",
      "Epoch:42/50 Training Error:0.048 Test Error:0.051\n",
      "Epoch:43/50 Training Error:0.041 Test Error:0.044\n",
      "Epoch:44/50 Training Error:0.035 Test Error:0.037\n",
      "Epoch:45/50 Training Error:0.029 Test Error:0.030\n",
      "Epoch:46/50 Training Error:0.024 Test Error:0.024\n",
      "Epoch:47/50 Training Error:0.019 Test Error:0.019\n",
      "Epoch:48/50 Training Error:0.016 Test Error:0.015\n",
      "Epoch:49/50 Training Error:0.014 Test Error:0.011\n",
      "Epoch:50/50 Training Error:0.013 Test Error:0.009\n",
      "Performance of 5 fold cross validation: \n",
      "Average Training Error: 0.016 \t Average Test Error: 0.015\n",
      " \n"
     ]
    },
    {
     "data": {
      "image/png": "[encoded data removed]",
      "text/plain": [
       "<Figure size 720x576 with 1 Axes>"
      ]
     },
     "metadata": {
      "needs_background": "light"
     },
     "output_type": "display_data"
    },
    {
     "data": {
      "text/plain": [
       "0.01542405583583156"
      ]
     },
     "execution_count": 8,
     "metadata": {},
     "output_type": "execute_result"
    }
   ],
   "source": [
    "learningRate = 1e-4\n",
    "epochs= 50\n",
    "input_size=x_train.shape[1]\n",
    "k_folds = 5\n",
    "criterion = nn.MSELoss()  \n",
    "dataset_name = \"middle_small\" #Only used to save the plot with the good name\n",
    "Kfold(x_train, k_folds, input_size, epochs, criterion, learningRate, neuron=5, momentum=0.9, comment = True)"
   ]
  },
  {
   "cell_type": "markdown",
   "metadata": {},
   "source": [
    "#### Parameters tuning"
   ]
  },
  {
   "cell_type": "markdown",
   "metadata": {},
   "source": [
    "Find the best learning rate of our model using cross-validation."
   ]
  },
  {
   "cell_type": "code",
   "execution_count": 23,
   "metadata": {},
   "outputs": [],
   "source": [
    "# define network parameters\n",
    "learning_rates =[1e-3, 1e-4, 1e-5, 1e-6]\n",
    "epochs= 50\n",
    "input_size=x_train.shape[1]\n",
    "k_folds = 5\n",
    "dataset_name = \"middle_small\" #Only used to save the plot with the good name\n",
    "\n",
    "# creates a criterion that measures the mean squared error (squared L2 norm) \n",
    "criterion = nn.MSELoss()  "
   ]
  },
  {
   "cell_type": "code",
   "execution_count": 24,
   "metadata": {},
   "outputs": [
    {
     "name": "stdout",
     "output_type": "stream",
     "text": [
      "\u001b[1mLearning rate =  0.001\n",
      "\u001b[0m\n",
      "Performance of 5 fold cross validation: \n",
      "Average Training Error: 0.011 \t Average Test Error: 0.013\n",
      " \n",
      "\u001b[1mLearning rate =  0.0001\n",
      "\u001b[0m\n",
      "Performance of 5 fold cross validation: \n",
      "Average Training Error: 0.011 \t Average Test Error: 0.011\n",
      " \n",
      "\u001b[1mLearning rate =  1e-05\n",
      "\u001b[0m\n",
      "Performance of 5 fold cross validation: \n",
      "Average Training Error: 0.105 \t Average Test Error: 0.104\n",
      " \n",
      "\u001b[1mLearning rate =  1e-06\n",
      "\u001b[0m\n",
      "Performance of 5 fold cross validation: \n",
      "Average Training Error: 0.978 \t Average Test Error: 0.978\n",
      " \n",
      "\u001b[0m\n",
      "Best learning rate is  0.0001  with a best error of :  0.011392209873615052\n",
      "\u001b[0m\n"
     ]
    },
    {
     "data": {
      "image/png": "[encoded data removed]",
      "text/plain": [
       "<Figure size 432x288 with 1 Axes>"
      ]
     },
     "metadata": {
      "needs_background": "light"
     },
     "output_type": "display_data"
    }
   ],
   "source": [
    "best_result, best_lr = tuning_lr(x_train, k_folds, input_size, epochs, criterion, learning_rates,  dataset_name_=dataset_name)"
   ]
  },
  {
   "cell_type": "markdown",
   "metadata": {},
   "source": [
    "Find the best number of neurons in the latent space (neurons in the \"middle layer of the auto-encoder\") in the auto-encoder (which is actually the dimension of the compressed data)."
   ]
  },
  {
   "cell_type": "code",
   "execution_count": 25,
   "metadata": {},
   "outputs": [],
   "source": [
    "# define network parameters\n",
    "lr = best_lr # from above\n",
    "epochs= 50\n",
    "input_size=x_train.shape[1]\n",
    "k_folds = 5\n",
    "number_neurons = [3, 4, 5, 6, 7, 8, 9, 10]\n",
    "dataset_name = \"middle_small\" #Only used to save the plot with the good name\n",
    "\n",
    "# creates a criterion that measures the mean squared error (squared L2 norm) \n",
    "criterion = nn.MSELoss()  "
   ]
  },
  {
   "cell_type": "code",
   "execution_count": 26,
   "metadata": {},
   "outputs": [
    {
     "name": "stdout",
     "output_type": "stream",
     "text": [
      "\u001b[1mNumber of neurons =  3\n",
      "\u001b[0m\n",
      "Performance of 5 fold cross validation: \n",
      "Average Training Error: 0.011 \t Average Test Error: 0.011\n",
      " \n",
      "\u001b[1mNumber of neurons =  4\n",
      "\u001b[0m\n",
      "Performance of 5 fold cross validation: \n",
      "Average Training Error: 0.011 \t Average Test Error: 0.012\n",
      " \n",
      "\u001b[1mNumber of neurons =  5\n",
      "\u001b[0m\n",
      "Performance of 5 fold cross validation: \n",
      "Average Training Error: 0.011 \t Average Test Error: 0.011\n",
      " \n",
      "\u001b[1mNumber of neurons =  6\n",
      "\u001b[0m\n",
      "Performance of 5 fold cross validation: \n",
      "Average Training Error: 0.011 \t Average Test Error: 0.011\n",
      " \n",
      "\u001b[1mNumber of neurons =  7\n",
      "\u001b[0m\n",
      "Performance of 5 fold cross validation: \n",
      "Average Training Error: 0.011 \t Average Test Error: 0.011\n",
      " \n",
      "\u001b[1mNumber of neurons =  8\n",
      "\u001b[0m\n",
      "Performance of 5 fold cross validation: \n",
      "Average Training Error: 0.011 \t Average Test Error: 0.011\n",
      " \n",
      "\u001b[1mNumber of neurons =  9\n",
      "\u001b[0m\n",
      "Performance of 5 fold cross validation: \n",
      "Average Training Error: 0.011 \t Average Test Error: 0.011\n",
      " \n",
      "\u001b[1mNumber of neurons =  10\n",
      "\u001b[0m\n",
      "Performance of 5 fold cross validation: \n",
      "Average Training Error: 0.010 \t Average Test Error: 0.011\n",
      " \n",
      "The results obtained for the number of latent neurons tested are the following : [0.011402898967945867, 0.011640876617795169, 0.011392209873615052, 0.011332720279408808, 0.011352784854902353, 0.011378137044186982, 0.011310903419273379, 0.01125421934209768].\n",
      "The best average test error obtained is 0.01125421934209768, and it is obtained with 10 neurons in the latent layer.\n"
     ]
    },
    {
     "data": {
      "image/png": "[encoded data removed]",
      "text/plain": [
       "<Figure size 432x288 with 1 Axes>"
      ]
     },
     "metadata": {
      "needs_background": "light"
     },
     "output_type": "display_data"
    }
   ],
   "source": [
    "best_result, best_neurons_nb = tuning_latent_layer(x_train, k_folds, input_size, epochs, criterion, lr, number_neurons,  dataset_name_=dataset_name)"
   ]
  },
  {
   "cell_type": "markdown",
   "metadata": {},
   "source": [
    "#### Let's try with the tuned parameters and see how it goes along the epochs"
   ]
  },
  {
   "cell_type": "code",
   "execution_count": 27,
   "metadata": {},
   "outputs": [],
   "source": [
    "# define network parameters\n",
    "learningRate= best_lr\n",
    "epochs=50\n",
    "input_size=x_train.shape[1]\n",
    "k_folds = 5\n",
    "neuron_ = best_neurons_nb\n",
    "\n",
    "# creates a criterion that measures the mean squared error (squared L2 norm) \n",
    "criterion = nn.MSELoss() "
   ]
  },
  {
   "cell_type": "code",
   "execution_count": 28,
   "metadata": {},
   "outputs": [
    {
     "name": "stdout",
     "output_type": "stream",
     "text": [
      "--------------------------------\n",
      "FOLD 0\n",
      "--------------------------------\n",
      "Epoch:1/50 Training Error:0.980 Test Error:0.980\n",
      "Epoch:2/50 Training Error:0.893 Test Error:0.891\n",
      "Epoch:3/50 Training Error:0.737 Test Error:0.732\n",
      "Epoch:4/50 Training Error:0.539 Test Error:0.531\n",
      "Epoch:5/50 Training Error:0.355 Test Error:0.344\n",
      "Epoch:6/50 Training Error:0.218 Test Error:0.207\n",
      "Epoch:7/50 Training Error:0.136 Test Error:0.127\n",
      "Epoch:8/50 Training Error:0.100 Test Error:0.093\n",
      "Epoch:9/50 Training Error:0.090 Test Error:0.078\n",
      "Epoch:10/50 Training Error:0.087 Test Error:0.072\n",
      "Epoch:11/50 Training Error:0.085 Test Error:0.068\n",
      "Epoch:12/50 Training Error:0.085 Test Error:0.067\n",
      "Epoch:13/50 Training Error:0.084 Test Error:0.066\n",
      "Epoch:14/50 Training Error:0.084 Test Error:0.065\n",
      "Epoch:15/50 Training Error:0.084 Test Error:0.065\n",
      "Epoch:16/50 Training Error:0.084 Test Error:0.065\n",
      "Epoch:17/50 Training Error:0.084 Test Error:0.065\n",
      "Epoch:18/50 Training Error:0.084 Test Error:0.065\n",
      "Epoch:19/50 Training Error:0.084 Test Error:0.065\n",
      "Epoch:20/50 Training Error:0.083 Test Error:0.065\n",
      "Epoch:21/50 Training Error:0.083 Test Error:0.065\n",
      "Epoch:22/50 Training Error:0.083 Test Error:0.065\n",
      "Epoch:23/50 Training Error:0.083 Test Error:0.064\n",
      "Epoch:24/50 Training Error:0.083 Test Error:0.064\n",
      "Epoch:25/50 Training Error:0.082 Test Error:0.064\n",
      "Epoch:26/50 Training Error:0.082 Test Error:0.064\n",
      "Epoch:27/50 Training Error:0.081 Test Error:0.063\n",
      "Epoch:28/50 Training Error:0.081 Test Error:0.063\n",
      "Epoch:29/50 Training Error:0.079 Test Error:0.062\n",
      "Epoch:30/50 Training Error:0.078 Test Error:0.060\n",
      "Epoch:31/50 Training Error:0.075 Test Error:0.059\n",
      "Epoch:32/50 Training Error:0.072 Test Error:0.056\n",
      "Epoch:33/50 Training Error:0.068 Test Error:0.053\n",
      "Epoch:34/50 Training Error:0.063 Test Error:0.049\n",
      "Epoch:35/50 Training Error:0.056 Test Error:0.044\n",
      "Epoch:36/50 Training Error:0.049 Test Error:0.038\n",
      "Epoch:37/50 Training Error:0.041 Test Error:0.033\n",
      "Epoch:38/50 Training Error:0.034 Test Error:0.028\n",
      "Epoch:39/50 Training Error:0.027 Test Error:0.023\n",
      "Epoch:40/50 Training Error:0.022 Test Error:0.020\n",
      "Epoch:41/50 Training Error:0.018 Test Error:0.017\n",
      "Epoch:42/50 Training Error:0.015 Test Error:0.015\n",
      "Epoch:43/50 Training Error:0.014 Test Error:0.013\n",
      "Epoch:44/50 Training Error:0.013 Test Error:0.012\n",
      "Epoch:45/50 Training Error:0.012 Test Error:0.011\n",
      "Epoch:46/50 Training Error:0.012 Test Error:0.011\n",
      "Epoch:47/50 Training Error:0.011 Test Error:0.011\n",
      "Epoch:48/50 Training Error:0.011 Test Error:0.011\n",
      "Epoch:49/50 Training Error:0.011 Test Error:0.010\n",
      "Epoch:50/50 Training Error:0.011 Test Error:0.010\n",
      "--------------------------------\n",
      "FOLD 1\n",
      "--------------------------------\n",
      "Epoch:1/50 Training Error:0.974 Test Error:0.973\n",
      "Epoch:2/50 Training Error:0.878 Test Error:0.876\n",
      "Epoch:3/50 Training Error:0.711 Test Error:0.707\n",
      "Epoch:4/50 Training Error:0.509 Test Error:0.502\n",
      "Epoch:5/50 Training Error:0.331 Test Error:0.320\n",
      "Epoch:6/50 Training Error:0.206 Test Error:0.190\n",
      "Epoch:7/50 Training Error:0.135 Test Error:0.111\n",
      "Epoch:8/50 Training Error:0.106 Test Error:0.077\n",
      "Epoch:9/50 Training Error:0.096 Test Error:0.068\n",
      "Epoch:10/50 Training Error:0.093 Test Error:0.067\n",
      "Epoch:11/50 Training Error:0.092 Test Error:0.067\n",
      "Epoch:12/50 Training Error:0.091 Test Error:0.067\n",
      "Epoch:13/50 Training Error:0.091 Test Error:0.067\n",
      "Epoch:14/50 Training Error:0.090 Test Error:0.067\n",
      "Epoch:15/50 Training Error:0.090 Test Error:0.067\n",
      "Epoch:16/50 Training Error:0.090 Test Error:0.067\n",
      "Epoch:17/50 Training Error:0.090 Test Error:0.066\n",
      "Epoch:18/50 Training Error:0.090 Test Error:0.066\n",
      "Epoch:19/50 Training Error:0.089 Test Error:0.066\n",
      "Epoch:20/50 Training Error:0.089 Test Error:0.066\n",
      "Epoch:21/50 Training Error:0.089 Test Error:0.065\n",
      "Epoch:22/50 Training Error:0.088 Test Error:0.065\n",
      "Epoch:23/50 Training Error:0.087 Test Error:0.065\n",
      "Epoch:24/50 Training Error:0.086 Test Error:0.064\n",
      "Epoch:25/50 Training Error:0.085 Test Error:0.063\n",
      "Epoch:26/50 Training Error:0.083 Test Error:0.062\n",
      "Epoch:27/50 Training Error:0.081 Test Error:0.060\n",
      "Epoch:28/50 Training Error:0.078 Test Error:0.058\n",
      "Epoch:29/50 Training Error:0.075 Test Error:0.055\n",
      "Epoch:30/50 Training Error:0.070 Test Error:0.052\n",
      "Epoch:31/50 Training Error:0.064 Test Error:0.047\n",
      "Epoch:32/50 Training Error:0.057 Test Error:0.042\n",
      "Epoch:33/50 Training Error:0.049 Test Error:0.036\n",
      "Epoch:34/50 Training Error:0.041 Test Error:0.031\n",
      "Epoch:35/50 Training Error:0.034 Test Error:0.025\n",
      "Epoch:36/50 Training Error:0.027 Test Error:0.021\n",
      "Epoch:37/50 Training Error:0.022 Test Error:0.017\n",
      "Epoch:38/50 Training Error:0.018 Test Error:0.015\n",
      "Epoch:39/50 Training Error:0.016 Test Error:0.013\n",
      "Epoch:40/50 Training Error:0.014 Test Error:0.012\n",
      "Epoch:41/50 Training Error:0.013 Test Error:0.011\n",
      "Epoch:42/50 Training Error:0.012 Test Error:0.010\n",
      "Epoch:43/50 Training Error:0.012 Test Error:0.010\n",
      "Epoch:44/50 Training Error:0.012 Test Error:0.010\n",
      "Epoch:45/50 Training Error:0.012 Test Error:0.009\n",
      "Epoch:46/50 Training Error:0.012 Test Error:0.009\n",
      "Epoch:47/50 Training Error:0.011 Test Error:0.009\n",
      "Epoch:48/50 Training Error:0.011 Test Error:0.009\n",
      "Epoch:49/50 Training Error:0.011 Test Error:0.009\n",
      "Epoch:50/50 Training Error:0.011 Test Error:0.009\n",
      "--------------------------------\n",
      "FOLD 2\n",
      "--------------------------------\n",
      "Epoch:1/50 Training Error:0.986 Test Error:0.986\n",
      "Epoch:2/50 Training Error:0.909 Test Error:0.908\n",
      "Epoch:3/50 Training Error:0.762 Test Error:0.760\n",
      "Epoch:4/50 Training Error:0.571 Test Error:0.568\n",
      "Epoch:5/50 Training Error:0.383 Test Error:0.377\n",
      "Epoch:6/50 Training Error:0.239 Test Error:0.231\n",
      "Epoch:7/50 Training Error:0.149 Test Error:0.137\n",
      "Epoch:8/50 Training Error:0.106 Test Error:0.086\n",
      "Epoch:9/50 Training Error:0.092 Test Error:0.071\n",
      "Epoch:10/50 Training Error:0.088 Test Error:0.068\n",
      "Epoch:11/50 Training Error:0.086 Test Error:0.066\n",
      "Epoch:12/50 Training Error:0.085 Test Error:0.066\n",
      "Epoch:13/50 Training Error:0.085 Test Error:0.065\n",
      "Epoch:14/50 Training Error:0.085 Test Error:0.065\n",
      "Epoch:15/50 Training Error:0.084 Test Error:0.065\n",
      "Epoch:16/50 Training Error:0.084 Test Error:0.065\n",
      "Epoch:17/50 Training Error:0.084 Test Error:0.064\n",
      "Epoch:18/50 Training Error:0.083 Test Error:0.064\n",
      "Epoch:19/50 Training Error:0.083 Test Error:0.064\n",
      "Epoch:20/50 Training Error:0.082 Test Error:0.063\n",
      "Epoch:21/50 Training Error:0.080 Test Error:0.062\n",
      "Epoch:22/50 Training Error:0.079 Test Error:0.061\n",
      "Epoch:23/50 Training Error:0.076 Test Error:0.059\n",
      "Epoch:24/50 Training Error:0.073 Test Error:0.056\n",
      "Epoch:25/50 Training Error:0.068 Test Error:0.052\n",
      "Epoch:26/50 Training Error:0.063 Test Error:0.048\n",
      "Epoch:27/50 Training Error:0.056 Test Error:0.042\n",
      "Epoch:28/50 Training Error:0.048 Test Error:0.036\n",
      "Epoch:29/50 Training Error:0.041 Test Error:0.030\n",
      "Epoch:30/50 Training Error:0.034 Test Error:0.025\n",
      "Epoch:31/50 Training Error:0.028 Test Error:0.020\n",
      "Epoch:32/50 Training Error:0.023 Test Error:0.016\n",
      "Epoch:33/50 Training Error:0.019 Test Error:0.013\n",
      "Epoch:34/50 Training Error:0.016 Test Error:0.010\n",
      "Epoch:35/50 Training Error:0.015 Test Error:0.010\n",
      "Epoch:36/50 Training Error:0.013 Test Error:0.010\n",
      "Epoch:37/50 Training Error:0.013 Test Error:0.010\n",
      "Epoch:38/50 Training Error:0.012 Test Error:0.009\n",
      "Epoch:39/50 Training Error:0.012 Test Error:0.009\n",
      "Epoch:40/50 Training Error:0.012 Test Error:0.009\n",
      "Epoch:41/50 Training Error:0.012 Test Error:0.009\n",
      "Epoch:42/50 Training Error:0.012 Test Error:0.009\n",
      "Epoch:43/50 Training Error:0.011 Test Error:0.009\n",
      "Epoch:44/50 Training Error:0.011 Test Error:0.009\n",
      "Epoch:45/50 Training Error:0.011 Test Error:0.009\n",
      "Epoch:46/50 Training Error:0.011 Test Error:0.009\n",
      "Epoch:47/50 Training Error:0.011 Test Error:0.009\n",
      "Epoch:48/50 Training Error:0.011 Test Error:0.009\n",
      "Epoch:49/50 Training Error:0.011 Test Error:0.009\n",
      "Epoch:50/50 Training Error:0.011 Test Error:0.009\n",
      "--------------------------------\n",
      "FOLD 3\n",
      "--------------------------------\n",
      "Epoch:1/50 Training Error:0.988 Test Error:0.988\n",
      "Epoch:2/50 Training Error:0.921 Test Error:0.922\n",
      "Epoch:3/50 Training Error:0.770 Test Error:0.772\n",
      "Epoch:4/50 Training Error:0.572 Test Error:0.577\n",
      "Epoch:5/50 Training Error:0.375 Test Error:0.383\n",
      "Epoch:6/50 Training Error:0.222 Test Error:0.232\n",
      "Epoch:7/50 Training Error:0.126 Test Error:0.157\n",
      "Epoch:8/50 Training Error:0.083 Test Error:0.133\n",
      "Epoch:9/50 Training Error:0.073 Test Error:0.129\n"
     ]
    },
    {
     "name": "stdout",
     "output_type": "stream",
     "text": [
      "Epoch:10/50 Training Error:0.071 Test Error:0.129\n",
      "Epoch:11/50 Training Error:0.071 Test Error:0.128\n",
      "Epoch:12/50 Training Error:0.070 Test Error:0.128\n",
      "Epoch:13/50 Training Error:0.070 Test Error:0.128\n",
      "Epoch:14/50 Training Error:0.070 Test Error:0.128\n",
      "Epoch:15/50 Training Error:0.070 Test Error:0.128\n",
      "Epoch:16/50 Training Error:0.070 Test Error:0.128\n",
      "Epoch:17/50 Training Error:0.070 Test Error:0.128\n",
      "Epoch:18/50 Training Error:0.070 Test Error:0.128\n",
      "Epoch:19/50 Training Error:0.070 Test Error:0.128\n",
      "Epoch:20/50 Training Error:0.070 Test Error:0.127\n",
      "Epoch:21/50 Training Error:0.069 Test Error:0.127\n",
      "Epoch:22/50 Training Error:0.069 Test Error:0.127\n",
      "Epoch:23/50 Training Error:0.069 Test Error:0.126\n",
      "Epoch:24/50 Training Error:0.069 Test Error:0.126\n",
      "Epoch:25/50 Training Error:0.068 Test Error:0.125\n",
      "Epoch:26/50 Training Error:0.067 Test Error:0.124\n",
      "Epoch:27/50 Training Error:0.066 Test Error:0.122\n",
      "Epoch:28/50 Training Error:0.065 Test Error:0.119\n",
      "Epoch:29/50 Training Error:0.063 Test Error:0.116\n",
      "Epoch:30/50 Training Error:0.060 Test Error:0.110\n",
      "Epoch:31/50 Training Error:0.056 Test Error:0.103\n",
      "Epoch:32/50 Training Error:0.051 Test Error:0.094\n",
      "Epoch:33/50 Training Error:0.044 Test Error:0.083\n",
      "Epoch:34/50 Training Error:0.037 Test Error:0.070\n",
      "Epoch:35/50 Training Error:0.030 Test Error:0.058\n",
      "Epoch:36/50 Training Error:0.024 Test Error:0.047\n",
      "Epoch:37/50 Training Error:0.019 Test Error:0.037\n",
      "Epoch:38/50 Training Error:0.014 Test Error:0.030\n",
      "Epoch:39/50 Training Error:0.012 Test Error:0.026\n",
      "Epoch:40/50 Training Error:0.010 Test Error:0.023\n",
      "Epoch:41/50 Training Error:0.009 Test Error:0.022\n",
      "Epoch:42/50 Training Error:0.008 Test Error:0.022\n",
      "Epoch:43/50 Training Error:0.008 Test Error:0.021\n",
      "Epoch:44/50 Training Error:0.008 Test Error:0.021\n",
      "Epoch:45/50 Training Error:0.008 Test Error:0.021\n",
      "Epoch:46/50 Training Error:0.008 Test Error:0.021\n",
      "Epoch:47/50 Training Error:0.008 Test Error:0.021\n",
      "Epoch:48/50 Training Error:0.008 Test Error:0.021\n",
      "Epoch:49/50 Training Error:0.008 Test Error:0.021\n",
      "Epoch:50/50 Training Error:0.008 Test Error:0.021\n",
      "--------------------------------\n",
      "FOLD 4\n",
      "--------------------------------\n",
      "Epoch:1/50 Training Error:0.980 Test Error:0.980\n",
      "Epoch:2/50 Training Error:0.890 Test Error:0.890\n",
      "Epoch:3/50 Training Error:0.733 Test Error:0.733\n",
      "Epoch:4/50 Training Error:0.535 Test Error:0.534\n",
      "Epoch:5/50 Training Error:0.349 Test Error:0.348\n",
      "Epoch:6/50 Training Error:0.214 Test Error:0.210\n",
      "Epoch:7/50 Training Error:0.133 Test Error:0.127\n",
      "Epoch:8/50 Training Error:0.097 Test Error:0.099\n",
      "Epoch:9/50 Training Error:0.086 Test Error:0.090\n",
      "Epoch:10/50 Training Error:0.083 Test Error:0.088\n",
      "Epoch:11/50 Training Error:0.081 Test Error:0.087\n",
      "Epoch:12/50 Training Error:0.081 Test Error:0.087\n",
      "Epoch:13/50 Training Error:0.080 Test Error:0.086\n",
      "Epoch:14/50 Training Error:0.080 Test Error:0.086\n",
      "Epoch:15/50 Training Error:0.080 Test Error:0.086\n",
      "Epoch:16/50 Training Error:0.080 Test Error:0.086\n",
      "Epoch:17/50 Training Error:0.079 Test Error:0.086\n",
      "Epoch:18/50 Training Error:0.079 Test Error:0.086\n",
      "Epoch:19/50 Training Error:0.079 Test Error:0.086\n",
      "Epoch:20/50 Training Error:0.079 Test Error:0.085\n",
      "Epoch:21/50 Training Error:0.078 Test Error:0.085\n",
      "Epoch:22/50 Training Error:0.078 Test Error:0.084\n",
      "Epoch:23/50 Training Error:0.077 Test Error:0.084\n",
      "Epoch:24/50 Training Error:0.077 Test Error:0.083\n",
      "Epoch:25/50 Training Error:0.076 Test Error:0.082\n",
      "Epoch:26/50 Training Error:0.075 Test Error:0.081\n",
      "Epoch:27/50 Training Error:0.073 Test Error:0.079\n",
      "Epoch:28/50 Training Error:0.071 Test Error:0.077\n",
      "Epoch:29/50 Training Error:0.068 Test Error:0.074\n",
      "Epoch:30/50 Training Error:0.065 Test Error:0.070\n",
      "Epoch:31/50 Training Error:0.061 Test Error:0.066\n",
      "Epoch:32/50 Training Error:0.056 Test Error:0.060\n",
      "Epoch:33/50 Training Error:0.050 Test Error:0.053\n",
      "Epoch:34/50 Training Error:0.043 Test Error:0.046\n",
      "Epoch:35/50 Training Error:0.036 Test Error:0.039\n",
      "Epoch:36/50 Training Error:0.030 Test Error:0.031\n",
      "Epoch:37/50 Training Error:0.024 Test Error:0.025\n",
      "Epoch:38/50 Training Error:0.019 Test Error:0.019\n",
      "Epoch:39/50 Training Error:0.016 Test Error:0.015\n",
      "Epoch:40/50 Training Error:0.014 Test Error:0.011\n",
      "Epoch:41/50 Training Error:0.012 Test Error:0.009\n",
      "Epoch:42/50 Training Error:0.012 Test Error:0.007\n",
      "Epoch:43/50 Training Error:0.011 Test Error:0.007\n",
      "Epoch:44/50 Training Error:0.011 Test Error:0.007\n",
      "Epoch:45/50 Training Error:0.011 Test Error:0.007\n",
      "Epoch:46/50 Training Error:0.011 Test Error:0.007\n",
      "Epoch:47/50 Training Error:0.011 Test Error:0.007\n",
      "Epoch:48/50 Training Error:0.011 Test Error:0.007\n",
      "Epoch:49/50 Training Error:0.011 Test Error:0.007\n",
      "Epoch:50/50 Training Error:0.011 Test Error:0.007\n",
      "Performance of 5 fold cross validation: \n",
      "Average Training Error: 0.010 \t Average Test Error: 0.011\n",
      " \n"
     ]
    },
    {
     "data": {
      "image/png": "[encoded data removed]",
      "text/plain": [
       "<Figure size 720x576 with 1 Axes>"
      ]
     },
     "metadata": {
      "needs_background": "light"
     },
     "output_type": "display_data"
    },
    {
     "data": {
      "text/plain": [
       "0.01125421934209768"
      ]
     },
     "execution_count": 28,
     "metadata": {},
     "output_type": "execute_result"
    }
   ],
   "source": [
    "Kfold(x_train, k_folds, input_size, epochs, criterion, learningRate, neuron=neuron_)"
   ]
  },
  {
   "cell_type": "markdown",
   "metadata": {},
   "source": [
    "#### Quality of the compression on the test set using the tuned parameters"
   ]
  },
  {
   "cell_type": "markdown",
   "metadata": {},
   "source": [
    "We will now train and test our auto-encoder for different sample size of our initial dataset. To do so we will do a batch processing and store the final train and test errors. See the report to see the nice comparison table."
   ]
  },
  {
   "cell_type": "code",
   "execution_count": 29,
   "metadata": {},
   "outputs": [
    {
     "name": "stdout",
     "output_type": "stream",
     "text": [
      "\u001b[1mTrain/Test of the sub-dataset data/pickle/middle_small/processed_middle_small_0.02_0.5\u001b[0m\n",
      "Epoch:1/50 Training Error:0.076 Test Error:0.081\n",
      "Epoch:2/50 Training Error:0.076 Test Error:0.081\n",
      "Epoch:3/50 Training Error:0.076 Test Error:0.082\n",
      "Epoch:4/50 Training Error:0.075 Test Error:0.081\n",
      "Epoch:5/50 Training Error:0.037 Test Error:0.039\n",
      "Epoch:6/50 Training Error:0.016 Test Error:0.016\n",
      "Epoch:7/50 Training Error:0.015 Test Error:0.015\n",
      "Epoch:8/50 Training Error:0.015 Test Error:0.015\n",
      "Epoch:9/50 Training Error:0.015 Test Error:0.015\n",
      "Epoch:10/50 Training Error:0.015 Test Error:0.015\n",
      "Epoch:11/50 Training Error:0.015 Test Error:0.015\n",
      "Epoch:12/50 Training Error:0.015 Test Error:0.015\n",
      "Epoch:13/50 Training Error:0.015 Test Error:0.015\n",
      "Epoch:14/50 Training Error:0.015 Test Error:0.015\n",
      "Epoch:15/50 Training Error:0.017 Test Error:0.017\n",
      "Epoch:16/50 Training Error:0.015 Test Error:0.015\n",
      "Epoch:17/50 Training Error:0.015 Test Error:0.015\n",
      "Epoch:18/50 Training Error:0.015 Test Error:0.015\n",
      "Epoch:19/50 Training Error:0.015 Test Error:0.015\n",
      "Epoch:20/50 Training Error:0.014 Test Error:0.014\n",
      "Epoch:21/50 Training Error:0.014 Test Error:0.014\n",
      "Epoch:22/50 Training Error:0.014 Test Error:0.014\n",
      "Epoch:23/50 Training Error:0.015 Test Error:0.014\n",
      "Epoch:24/50 Training Error:0.015 Test Error:0.015\n",
      "Epoch:25/50 Training Error:0.014 Test Error:0.015\n",
      "Epoch:26/50 Training Error:0.014 Test Error:0.014\n",
      "Epoch:27/50 Training Error:0.012 Test Error:0.012\n",
      "Epoch:28/50 Training Error:0.010 Test Error:0.010\n",
      "Epoch:29/50 Training Error:0.008 Test Error:0.008\n",
      "Epoch:30/50 Training Error:0.014 Test Error:0.016\n",
      "Epoch:31/50 Training Error:0.007 Test Error:0.007\n",
      "Epoch:32/50 Training Error:0.007 Test Error:0.007\n",
      "Epoch:33/50 Training Error:0.007 Test Error:0.007\n",
      "Epoch:34/50 Training Error:0.007 Test Error:0.007\n",
      "Epoch:35/50 Training Error:0.007 Test Error:0.007\n",
      "Epoch:36/50 Training Error:0.007 Test Error:0.008\n",
      "Epoch:37/50 Training Error:0.007 Test Error:0.008\n",
      "Epoch:38/50 Training Error:0.007 Test Error:0.008\n",
      "Epoch:39/50 Training Error:0.007 Test Error:0.008\n",
      "Epoch:40/50 Training Error:0.006 Test Error:0.007\n",
      "Epoch:41/50 Training Error:0.008 Test Error:0.008\n",
      "Epoch:42/50 Training Error:0.006 Test Error:0.007\n",
      "Epoch:43/50 Training Error:0.006 Test Error:0.007\n",
      "Epoch:44/50 Training Error:0.010 Test Error:0.012\n",
      "Epoch:45/50 Training Error:0.006 Test Error:0.007\n",
      "Epoch:46/50 Training Error:0.006 Test Error:0.007\n",
      "Epoch:47/50 Training Error:0.006 Test Error:0.007\n",
      "Epoch:48/50 Training Error:0.008 Test Error:0.009\n",
      "Epoch:49/50 Training Error:0.017 Test Error:0.018\n",
      "Epoch:50/50 Training Error:0.006 Test Error:0.007\n",
      "\u001b[1mTrain/Test of the sub-dataset data/pickle/middle_small/processed_middle_small_0.05_0.5\u001b[0m\n",
      "Epoch:1/50 Training Error:0.069 Test Error:0.077\n",
      "Epoch:2/50 Training Error:0.069 Test Error:0.077\n",
      "Epoch:3/50 Training Error:0.069 Test Error:0.078\n",
      "Epoch:4/50 Training Error:0.068 Test Error:0.077\n",
      "Epoch:5/50 Training Error:0.045 Test Error:0.049\n",
      "Epoch:6/50 Training Error:0.020 Test Error:0.020\n",
      "Epoch:7/50 Training Error:0.019 Test Error:0.019\n",
      "Epoch:8/50 Training Error:0.020 Test Error:0.019\n",
      "Epoch:9/50 Training Error:0.019 Test Error:0.018\n",
      "Epoch:10/50 Training Error:0.019 Test Error:0.018\n",
      "Epoch:11/50 Training Error:0.019 Test Error:0.019\n",
      "Epoch:12/50 Training Error:0.019 Test Error:0.019\n",
      "Epoch:13/50 Training Error:0.019 Test Error:0.018\n",
      "Epoch:14/50 Training Error:0.019 Test Error:0.019\n",
      "Epoch:15/50 Training Error:0.020 Test Error:0.020\n",
      "Epoch:16/50 Training Error:0.019 Test Error:0.019\n",
      "Epoch:17/50 Training Error:0.019 Test Error:0.018\n",
      "Epoch:18/50 Training Error:0.019 Test Error:0.019\n",
      "Epoch:19/50 Training Error:0.019 Test Error:0.019\n",
      "Epoch:20/50 Training Error:0.018 Test Error:0.018\n",
      "Epoch:21/50 Training Error:0.018 Test Error:0.018\n",
      "Epoch:22/50 Training Error:0.017 Test Error:0.017\n",
      "Epoch:23/50 Training Error:0.017 Test Error:0.017\n",
      "Epoch:24/50 Training Error:0.018 Test Error:0.018\n",
      "Epoch:25/50 Training Error:0.011 Test Error:0.011\n",
      "Epoch:26/50 Training Error:0.011 Test Error:0.010\n",
      "Epoch:27/50 Training Error:0.009 Test Error:0.009\n",
      "Epoch:28/50 Training Error:0.009 Test Error:0.010\n",
      "Epoch:29/50 Training Error:0.008 Test Error:0.008\n",
      "Epoch:30/50 Training Error:0.008 Test Error:0.008\n",
      "Epoch:31/50 Training Error:0.008 Test Error:0.009\n",
      "Epoch:32/50 Training Error:0.008 Test Error:0.009\n",
      "Epoch:33/50 Training Error:0.021 Test Error:0.025\n",
      "Epoch:34/50 Training Error:0.020 Test Error:0.023\n",
      "Epoch:35/50 Training Error:0.007 Test Error:0.008\n",
      "Epoch:36/50 Training Error:0.006 Test Error:0.008\n",
      "Epoch:37/50 Training Error:0.005 Test Error:0.007\n",
      "Epoch:38/50 Training Error:0.004 Test Error:0.006\n",
      "Epoch:39/50 Training Error:0.004 Test Error:0.006\n",
      "Epoch:40/50 Training Error:0.004 Test Error:0.006\n",
      "Epoch:41/50 Training Error:0.004 Test Error:0.006\n",
      "Epoch:42/50 Training Error:0.004 Test Error:0.006\n",
      "Epoch:43/50 Training Error:0.004 Test Error:0.006\n",
      "Epoch:44/50 Training Error:0.004 Test Error:0.006\n",
      "Epoch:45/50 Training Error:0.004 Test Error:0.006\n",
      "Epoch:46/50 Training Error:0.004 Test Error:0.006\n",
      "Epoch:47/50 Training Error:0.004 Test Error:0.006\n",
      "Epoch:48/50 Training Error:0.011 Test Error:0.013\n",
      "Epoch:49/50 Training Error:0.003 Test Error:0.005\n",
      "Epoch:50/50 Training Error:0.004 Test Error:0.006\n",
      "\u001b[1mTrain/Test of the sub-dataset data/pickle/middle_small/processed_middle_small_0.1_0.25\u001b[0m\n",
      "Epoch:1/50 Training Error:0.067 Test Error:0.074\n",
      "Epoch:2/50 Training Error:0.067 Test Error:0.074\n",
      "Epoch:3/50 Training Error:0.067 Test Error:0.074\n",
      "Epoch:4/50 Training Error:0.066 Test Error:0.074\n",
      "Epoch:5/50 Training Error:0.054 Test Error:0.060\n",
      "Epoch:6/50 Training Error:0.022 Test Error:0.023\n",
      "Epoch:7/50 Training Error:0.017 Test Error:0.017\n",
      "Epoch:8/50 Training Error:0.017 Test Error:0.017\n",
      "Epoch:9/50 Training Error:0.016 Test Error:0.016\n",
      "Epoch:10/50 Training Error:0.016 Test Error:0.016\n",
      "Epoch:11/50 Training Error:0.016 Test Error:0.016\n",
      "Epoch:12/50 Training Error:0.016 Test Error:0.017\n",
      "Epoch:13/50 Training Error:0.016 Test Error:0.016\n",
      "Epoch:14/50 Training Error:0.016 Test Error:0.016\n",
      "Epoch:15/50 Training Error:0.016 Test Error:0.017\n",
      "Epoch:16/50 Training Error:0.016 Test Error:0.016\n",
      "Epoch:17/50 Training Error:0.016 Test Error:0.017\n",
      "Epoch:18/50 Training Error:0.018 Test Error:0.019\n",
      "Epoch:19/50 Training Error:0.016 Test Error:0.017\n",
      "Epoch:20/50 Training Error:0.016 Test Error:0.016\n",
      "Epoch:21/50 Training Error:0.016 Test Error:0.016\n",
      "Epoch:22/50 Training Error:0.016 Test Error:0.016\n",
      "Epoch:23/50 Training Error:0.015 Test Error:0.016\n",
      "Epoch:24/50 Training Error:0.017 Test Error:0.017\n",
      "Epoch:25/50 Training Error:0.015 Test Error:0.015\n",
      "Epoch:26/50 Training Error:0.017 Test Error:0.018\n",
      "Epoch:27/50 Training Error:0.014 Test Error:0.015\n",
      "Epoch:28/50 Training Error:0.011 Test Error:0.012\n",
      "Epoch:29/50 Training Error:0.009 Test Error:0.009\n",
      "Epoch:30/50 Training Error:0.011 Test Error:0.011\n",
      "Epoch:31/50 Training Error:0.009 Test Error:0.008\n",
      "Epoch:32/50 Training Error:0.008 Test Error:0.008\n",
      "Epoch:33/50 Training Error:0.008 Test Error:0.008\n",
      "Epoch:34/50 Training Error:0.007 Test Error:0.007\n",
      "Epoch:35/50 Training Error:0.007 Test Error:0.008\n",
      "Epoch:36/50 Training Error:0.007 Test Error:0.007\n",
      "Epoch:37/50 Training Error:0.012 Test Error:0.011\n",
      "Epoch:38/50 Training Error:0.007 Test Error:0.007\n",
      "Epoch:39/50 Training Error:0.006 Test Error:0.007\n",
      "Epoch:40/50 Training Error:0.006 Test Error:0.007\n",
      "Epoch:41/50 Training Error:0.006 Test Error:0.007\n",
      "Epoch:42/50 Training Error:0.006 Test Error:0.007\n",
      "Epoch:43/50 Training Error:0.007 Test Error:0.008\n",
      "Epoch:44/50 Training Error:0.004 Test Error:0.006\n",
      "Epoch:45/50 Training Error:0.004 Test Error:0.005\n",
      "Epoch:46/50 Training Error:0.004 Test Error:0.005\n",
      "Epoch:47/50 Training Error:0.004 Test Error:0.005\n",
      "Epoch:48/50 Training Error:0.009 Test Error:0.011\n",
      "Epoch:49/50 Training Error:0.003 Test Error:0.005\n",
      "Epoch:50/50 Training Error:0.003 Test Error:0.005\n",
      "\u001b[1mTrain/Test of the sub-dataset data/pickle/middle_small/processed_middle_small_0.1_0.5\u001b[0m\n",
      "Epoch:1/50 Training Error:0.070 Test Error:0.077\n",
      "Epoch:2/50 Training Error:0.066 Test Error:0.074\n",
      "Epoch:3/50 Training Error:0.059 Test Error:0.066\n",
      "Epoch:4/50 Training Error:0.022 Test Error:0.023\n",
      "Epoch:5/50 Training Error:0.016 Test Error:0.017\n",
      "Epoch:6/50 Training Error:0.016 Test Error:0.017\n",
      "Epoch:7/50 Training Error:0.017 Test Error:0.018\n"
     ]
    },
    {
     "name": "stdout",
     "output_type": "stream",
     "text": [
      "Epoch:8/50 Training Error:0.019 Test Error:0.019\n",
      "Epoch:9/50 Training Error:0.016 Test Error:0.017\n",
      "Epoch:10/50 Training Error:0.016 Test Error:0.017\n",
      "Epoch:11/50 Training Error:0.016 Test Error:0.016\n",
      "Epoch:12/50 Training Error:0.016 Test Error:0.017\n",
      "Epoch:13/50 Training Error:0.016 Test Error:0.016\n",
      "Epoch:14/50 Training Error:0.016 Test Error:0.017\n",
      "Epoch:15/50 Training Error:0.016 Test Error:0.016\n",
      "Epoch:16/50 Training Error:0.016 Test Error:0.017\n",
      "Epoch:17/50 Training Error:0.016 Test Error:0.016\n",
      "Epoch:18/50 Training Error:0.016 Test Error:0.016\n",
      "Epoch:19/50 Training Error:0.016 Test Error:0.016\n",
      "Epoch:20/50 Training Error:0.016 Test Error:0.017\n",
      "Epoch:21/50 Training Error:0.016 Test Error:0.017\n",
      "Epoch:22/50 Training Error:0.017 Test Error:0.018\n",
      "Epoch:23/50 Training Error:0.034 Test Error:0.038\n",
      "Epoch:24/50 Training Error:0.015 Test Error:0.016\n",
      "Epoch:25/50 Training Error:0.015 Test Error:0.015\n",
      "Epoch:26/50 Training Error:0.014 Test Error:0.014\n",
      "Epoch:27/50 Training Error:0.013 Test Error:0.013\n",
      "Epoch:28/50 Training Error:0.011 Test Error:0.011\n",
      "Epoch:29/50 Training Error:0.008 Test Error:0.009\n",
      "Epoch:30/50 Training Error:0.008 Test Error:0.008\n",
      "Epoch:31/50 Training Error:0.011 Test Error:0.011\n",
      "Epoch:32/50 Training Error:0.020 Test Error:0.018\n",
      "Epoch:33/50 Training Error:0.013 Test Error:0.011\n",
      "Epoch:34/50 Training Error:0.007 Test Error:0.007\n",
      "Epoch:35/50 Training Error:0.008 Test Error:0.008\n",
      "Epoch:36/50 Training Error:0.007 Test Error:0.007\n",
      "Epoch:37/50 Training Error:0.008 Test Error:0.008\n",
      "Epoch:38/50 Training Error:0.007 Test Error:0.007\n",
      "Epoch:39/50 Training Error:0.007 Test Error:0.008\n",
      "Epoch:40/50 Training Error:0.007 Test Error:0.007\n",
      "Epoch:41/50 Training Error:0.008 Test Error:0.008\n",
      "Epoch:42/50 Training Error:0.011 Test Error:0.013\n",
      "Epoch:43/50 Training Error:0.007 Test Error:0.007\n",
      "Epoch:44/50 Training Error:0.007 Test Error:0.007\n",
      "Epoch:45/50 Training Error:0.006 Test Error:0.007\n",
      "Epoch:46/50 Training Error:0.008 Test Error:0.009\n",
      "Epoch:47/50 Training Error:0.006 Test Error:0.007\n",
      "Epoch:48/50 Training Error:0.004 Test Error:0.006\n",
      "Epoch:49/50 Training Error:0.011 Test Error:0.014\n",
      "Epoch:50/50 Training Error:0.004 Test Error:0.006\n",
      "\u001b[1mTrain/Test of the sub-dataset data/pickle/middle_small/processed_middle_small_0.02_0.1\u001b[0m\n",
      "Epoch:1/50 Training Error:0.076 Test Error:0.081\n",
      "Epoch:2/50 Training Error:0.075 Test Error:0.081\n",
      "Epoch:3/50 Training Error:0.075 Test Error:0.081\n",
      "Epoch:4/50 Training Error:0.075 Test Error:0.081\n",
      "Epoch:5/50 Training Error:0.075 Test Error:0.081\n",
      "Epoch:6/50 Training Error:0.075 Test Error:0.081\n",
      "Epoch:7/50 Training Error:0.038 Test Error:0.039\n",
      "Epoch:8/50 Training Error:0.016 Test Error:0.015\n",
      "Epoch:9/50 Training Error:0.016 Test Error:0.016\n",
      "Epoch:10/50 Training Error:0.015 Test Error:0.016\n",
      "Epoch:11/50 Training Error:0.015 Test Error:0.015\n",
      "Epoch:12/50 Training Error:0.015 Test Error:0.015\n",
      "Epoch:13/50 Training Error:0.015 Test Error:0.015\n",
      "Epoch:14/50 Training Error:0.015 Test Error:0.015\n",
      "Epoch:15/50 Training Error:0.015 Test Error:0.015\n",
      "Epoch:16/50 Training Error:0.015 Test Error:0.014\n",
      "Epoch:17/50 Training Error:0.014 Test Error:0.014\n",
      "Epoch:18/50 Training Error:0.015 Test Error:0.014\n",
      "Epoch:19/50 Training Error:0.014 Test Error:0.014\n",
      "Epoch:20/50 Training Error:0.015 Test Error:0.015\n",
      "Epoch:21/50 Training Error:0.015 Test Error:0.015\n",
      "Epoch:22/50 Training Error:0.015 Test Error:0.015\n",
      "Epoch:23/50 Training Error:0.015 Test Error:0.014\n",
      "Epoch:24/50 Training Error:0.015 Test Error:0.015\n",
      "Epoch:25/50 Training Error:0.014 Test Error:0.014\n",
      "Epoch:26/50 Training Error:0.015 Test Error:0.015\n",
      "Epoch:27/50 Training Error:0.015 Test Error:0.014\n",
      "Epoch:28/50 Training Error:0.014 Test Error:0.014\n",
      "Epoch:29/50 Training Error:0.015 Test Error:0.015\n",
      "Epoch:30/50 Training Error:0.016 Test Error:0.016\n",
      "Epoch:31/50 Training Error:0.014 Test Error:0.014\n",
      "Epoch:32/50 Training Error:0.015 Test Error:0.015\n",
      "Epoch:33/50 Training Error:0.015 Test Error:0.015\n",
      "Epoch:34/50 Training Error:0.014 Test Error:0.014\n",
      "Epoch:35/50 Training Error:0.014 Test Error:0.014\n",
      "Epoch:36/50 Training Error:0.014 Test Error:0.014\n",
      "Epoch:37/50 Training Error:0.014 Test Error:0.014\n",
      "Epoch:38/50 Training Error:0.015 Test Error:0.015\n",
      "Epoch:39/50 Training Error:0.015 Test Error:0.015\n",
      "Epoch:40/50 Training Error:0.014 Test Error:0.014\n",
      "Epoch:41/50 Training Error:0.014 Test Error:0.014\n",
      "Epoch:42/50 Training Error:0.014 Test Error:0.014\n",
      "Epoch:43/50 Training Error:0.014 Test Error:0.014\n",
      "Epoch:44/50 Training Error:0.016 Test Error:0.017\n",
      "Epoch:45/50 Training Error:0.014 Test Error:0.014\n",
      "Epoch:46/50 Training Error:0.014 Test Error:0.014\n",
      "Epoch:47/50 Training Error:0.014 Test Error:0.014\n",
      "Epoch:48/50 Training Error:0.014 Test Error:0.014\n",
      "Epoch:49/50 Training Error:0.015 Test Error:0.015\n",
      "Epoch:50/50 Training Error:0.014 Test Error:0.015\n",
      "\u001b[1mTrain/Test of the sub-dataset data/pickle/middle_small/processed_middle_small_0.05_0.1\u001b[0m\n",
      "Epoch:1/50 Training Error:0.070 Test Error:0.078\n",
      "Epoch:2/50 Training Error:0.069 Test Error:0.078\n",
      "Epoch:3/50 Training Error:0.069 Test Error:0.078\n",
      "Epoch:4/50 Training Error:0.069 Test Error:0.078\n",
      "Epoch:5/50 Training Error:0.068 Test Error:0.076\n",
      "Epoch:6/50 Training Error:0.026 Test Error:0.027\n",
      "Epoch:7/50 Training Error:0.019 Test Error:0.019\n",
      "Epoch:8/50 Training Error:0.028 Test Error:0.029\n",
      "Epoch:9/50 Training Error:0.020 Test Error:0.020\n",
      "Epoch:10/50 Training Error:0.019 Test Error:0.019\n",
      "Epoch:11/50 Training Error:0.019 Test Error:0.018\n",
      "Epoch:12/50 Training Error:0.019 Test Error:0.018\n",
      "Epoch:13/50 Training Error:0.019 Test Error:0.018\n",
      "Epoch:14/50 Training Error:0.019 Test Error:0.019\n",
      "Epoch:15/50 Training Error:0.019 Test Error:0.018\n",
      "Epoch:16/50 Training Error:0.019 Test Error:0.018\n",
      "Epoch:17/50 Training Error:0.019 Test Error:0.019\n",
      "Epoch:18/50 Training Error:0.019 Test Error:0.019\n",
      "Epoch:19/50 Training Error:0.019 Test Error:0.018\n",
      "Epoch:20/50 Training Error:0.019 Test Error:0.018\n",
      "Epoch:21/50 Training Error:0.019 Test Error:0.018\n",
      "Epoch:22/50 Training Error:0.019 Test Error:0.018\n",
      "Epoch:23/50 Training Error:0.018 Test Error:0.018\n",
      "Epoch:24/50 Training Error:0.019 Test Error:0.019\n",
      "Epoch:25/50 Training Error:0.018 Test Error:0.018\n",
      "Epoch:26/50 Training Error:0.018 Test Error:0.018\n",
      "Epoch:27/50 Training Error:0.018 Test Error:0.018\n",
      "Epoch:28/50 Training Error:0.018 Test Error:0.018\n",
      "Epoch:29/50 Training Error:0.018 Test Error:0.018\n",
      "Epoch:30/50 Training Error:0.017 Test Error:0.017\n",
      "Epoch:31/50 Training Error:0.016 Test Error:0.016\n",
      "Epoch:32/50 Training Error:0.012 Test Error:0.012\n",
      "Epoch:33/50 Training Error:0.008 Test Error:0.009\n",
      "Epoch:34/50 Training Error:0.008 Test Error:0.008\n",
      "Epoch:35/50 Training Error:0.008 Test Error:0.008\n",
      "Epoch:36/50 Training Error:0.008 Test Error:0.008\n",
      "Epoch:37/50 Training Error:0.010 Test Error:0.010\n",
      "Epoch:38/50 Training Error:0.009 Test Error:0.009\n",
      "Epoch:39/50 Training Error:0.008 Test Error:0.009\n",
      "Epoch:40/50 Training Error:0.008 Test Error:0.008\n",
      "Epoch:41/50 Training Error:0.008 Test Error:0.008\n",
      "Epoch:42/50 Training Error:0.008 Test Error:0.008\n",
      "Epoch:43/50 Training Error:0.010 Test Error:0.010\n",
      "Epoch:44/50 Training Error:0.008 Test Error:0.008\n",
      "Epoch:45/50 Training Error:0.008 Test Error:0.009\n",
      "Epoch:46/50 Training Error:0.008 Test Error:0.008\n",
      "Epoch:47/50 Training Error:0.008 Test Error:0.008\n",
      "Epoch:48/50 Training Error:0.008 Test Error:0.009\n",
      "Epoch:49/50 Training Error:0.012 Test Error:0.012\n",
      "Epoch:50/50 Training Error:0.007 Test Error:0.008\n",
      "\u001b[1mTrain/Test of the sub-dataset data/pickle/middle_small/processed_middle_small_0.02_0.25\u001b[0m\n",
      "Epoch:1/50 Training Error:0.076 Test Error:0.081\n",
      "Epoch:2/50 Training Error:0.076 Test Error:0.081\n",
      "Epoch:3/50 Training Error:0.076 Test Error:0.081\n",
      "Epoch:4/50 Training Error:0.076 Test Error:0.082\n",
      "Epoch:5/50 Training Error:0.075 Test Error:0.081\n",
      "Epoch:6/50 Training Error:0.018 Test Error:0.018\n",
      "Epoch:7/50 Training Error:0.015 Test Error:0.015\n",
      "Epoch:8/50 Training Error:0.015 Test Error:0.015\n",
      "Epoch:9/50 Training Error:0.015 Test Error:0.015\n",
      "Epoch:10/50 Training Error:0.015 Test Error:0.015\n",
      "Epoch:11/50 Training Error:0.015 Test Error:0.015\n",
      "Epoch:12/50 Training Error:0.015 Test Error:0.015\n",
      "Epoch:13/50 Training Error:0.015 Test Error:0.015\n",
      "Epoch:14/50 Training Error:0.015 Test Error:0.015\n",
      "Epoch:15/50 Training Error:0.015 Test Error:0.015\n",
      "Epoch:16/50 Training Error:0.015 Test Error:0.015\n"
     ]
    },
    {
     "name": "stdout",
     "output_type": "stream",
     "text": [
      "Epoch:17/50 Training Error:0.015 Test Error:0.015\n",
      "Epoch:18/50 Training Error:0.015 Test Error:0.016\n",
      "Epoch:19/50 Training Error:0.015 Test Error:0.015\n",
      "Epoch:20/50 Training Error:0.015 Test Error:0.015\n",
      "Epoch:21/50 Training Error:0.015 Test Error:0.015\n",
      "Epoch:22/50 Training Error:0.014 Test Error:0.014\n",
      "Epoch:23/50 Training Error:0.014 Test Error:0.014\n",
      "Epoch:24/50 Training Error:0.014 Test Error:0.014\n",
      "Epoch:25/50 Training Error:0.022 Test Error:0.024\n",
      "Epoch:26/50 Training Error:0.015 Test Error:0.015\n",
      "Epoch:27/50 Training Error:0.015 Test Error:0.015\n",
      "Epoch:28/50 Training Error:0.015 Test Error:0.015\n",
      "Epoch:29/50 Training Error:0.015 Test Error:0.015\n",
      "Epoch:30/50 Training Error:0.015 Test Error:0.015\n",
      "Epoch:31/50 Training Error:0.015 Test Error:0.015\n",
      "Epoch:32/50 Training Error:0.015 Test Error:0.015\n",
      "Epoch:33/50 Training Error:0.014 Test Error:0.014\n",
      "Epoch:34/50 Training Error:0.014 Test Error:0.014\n",
      "Epoch:35/50 Training Error:0.014 Test Error:0.014\n",
      "Epoch:36/50 Training Error:0.015 Test Error:0.014\n",
      "Epoch:37/50 Training Error:0.014 Test Error:0.014\n",
      "Epoch:38/50 Training Error:0.015 Test Error:0.016\n",
      "Epoch:39/50 Training Error:0.018 Test Error:0.019\n",
      "Epoch:40/50 Training Error:0.014 Test Error:0.014\n",
      "Epoch:41/50 Training Error:0.014 Test Error:0.014\n",
      "Epoch:42/50 Training Error:0.013 Test Error:0.013\n",
      "Epoch:43/50 Training Error:0.010 Test Error:0.010\n",
      "Epoch:44/50 Training Error:0.007 Test Error:0.008\n",
      "Epoch:45/50 Training Error:0.017 Test Error:0.016\n",
      "Epoch:46/50 Training Error:0.006 Test Error:0.007\n",
      "Epoch:47/50 Training Error:0.007 Test Error:0.007\n",
      "Epoch:48/50 Training Error:0.007 Test Error:0.007\n",
      "Epoch:49/50 Training Error:0.006 Test Error:0.007\n",
      "Epoch:50/50 Training Error:0.006 Test Error:0.007\n",
      "\u001b[1mTrain/Test of the sub-dataset data/pickle/middle_small/processed_middle_small_0.05_0.25\u001b[0m\n",
      "Epoch:1/50 Training Error:0.070 Test Error:0.078\n",
      "Epoch:2/50 Training Error:0.069 Test Error:0.078\n",
      "Epoch:3/50 Training Error:0.069 Test Error:0.078\n",
      "Epoch:4/50 Training Error:0.068 Test Error:0.076\n",
      "Epoch:5/50 Training Error:0.040 Test Error:0.044\n",
      "Epoch:6/50 Training Error:0.020 Test Error:0.020\n",
      "Epoch:7/50 Training Error:0.020 Test Error:0.020\n",
      "Epoch:8/50 Training Error:0.021 Test Error:0.021\n",
      "Epoch:9/50 Training Error:0.019 Test Error:0.018\n",
      "Epoch:10/50 Training Error:0.019 Test Error:0.018\n",
      "Epoch:11/50 Training Error:0.019 Test Error:0.018\n",
      "Epoch:12/50 Training Error:0.019 Test Error:0.019\n",
      "Epoch:13/50 Training Error:0.019 Test Error:0.018\n",
      "Epoch:14/50 Training Error:0.019 Test Error:0.018\n",
      "Epoch:15/50 Training Error:0.019 Test Error:0.018\n",
      "Epoch:16/50 Training Error:0.019 Test Error:0.018\n",
      "Epoch:17/50 Training Error:0.019 Test Error:0.018\n",
      "Epoch:18/50 Training Error:0.019 Test Error:0.018\n",
      "Epoch:19/50 Training Error:0.019 Test Error:0.018\n",
      "Epoch:20/50 Training Error:0.018 Test Error:0.018\n",
      "Epoch:21/50 Training Error:0.020 Test Error:0.020\n",
      "Epoch:22/50 Training Error:0.022 Test Error:0.022\n",
      "Epoch:23/50 Training Error:0.019 Test Error:0.019\n",
      "Epoch:24/50 Training Error:0.018 Test Error:0.018\n",
      "Epoch:25/50 Training Error:0.018 Test Error:0.018\n",
      "Epoch:26/50 Training Error:0.018 Test Error:0.018\n",
      "Epoch:27/50 Training Error:0.018 Test Error:0.018\n",
      "Epoch:28/50 Training Error:0.019 Test Error:0.020\n",
      "Epoch:29/50 Training Error:0.017 Test Error:0.018\n",
      "Epoch:30/50 Training Error:0.014 Test Error:0.014\n",
      "Epoch:31/50 Training Error:0.010 Test Error:0.010\n",
      "Epoch:32/50 Training Error:0.008 Test Error:0.009\n",
      "Epoch:33/50 Training Error:0.008 Test Error:0.008\n",
      "Epoch:34/50 Training Error:0.008 Test Error:0.008\n",
      "Epoch:35/50 Training Error:0.009 Test Error:0.009\n",
      "Epoch:36/50 Training Error:0.010 Test Error:0.010\n",
      "Epoch:37/50 Training Error:0.008 Test Error:0.009\n",
      "Epoch:38/50 Training Error:0.013 Test Error:0.012\n",
      "Epoch:39/50 Training Error:0.008 Test Error:0.008\n",
      "Epoch:40/50 Training Error:0.008 Test Error:0.008\n",
      "Epoch:41/50 Training Error:0.008 Test Error:0.008\n",
      "Epoch:42/50 Training Error:0.008 Test Error:0.008\n",
      "Epoch:43/50 Training Error:0.008 Test Error:0.009\n",
      "Epoch:44/50 Training Error:0.008 Test Error:0.008\n",
      "Epoch:45/50 Training Error:0.009 Test Error:0.010\n",
      "Epoch:46/50 Training Error:0.018 Test Error:0.020\n",
      "Epoch:47/50 Training Error:0.009 Test Error:0.010\n",
      "Epoch:48/50 Training Error:0.008 Test Error:0.009\n",
      "Epoch:49/50 Training Error:0.007 Test Error:0.008\n",
      "Epoch:50/50 Training Error:0.007 Test Error:0.008\n",
      "\u001b[1mTrain/Test of the sub-dataset data/pickle/middle_small/processed_middle_small_0.1_0.1\u001b[0m\n",
      "Epoch:1/50 Training Error:0.066 Test Error:0.074\n",
      "Epoch:2/50 Training Error:0.066 Test Error:0.074\n",
      "Epoch:3/50 Training Error:0.066 Test Error:0.074\n",
      "Epoch:4/50 Training Error:0.064 Test Error:0.071\n",
      "Epoch:5/50 Training Error:0.021 Test Error:0.022\n",
      "Epoch:6/50 Training Error:0.016 Test Error:0.017\n",
      "Epoch:7/50 Training Error:0.016 Test Error:0.016\n",
      "Epoch:8/50 Training Error:0.016 Test Error:0.017\n",
      "Epoch:9/50 Training Error:0.016 Test Error:0.016\n",
      "Epoch:10/50 Training Error:0.016 Test Error:0.016\n",
      "Epoch:11/50 Training Error:0.016 Test Error:0.017\n",
      "Epoch:12/50 Training Error:0.016 Test Error:0.016\n",
      "Epoch:13/50 Training Error:0.016 Test Error:0.016\n",
      "Epoch:14/50 Training Error:0.016 Test Error:0.016\n",
      "Epoch:15/50 Training Error:0.016 Test Error:0.016\n",
      "Epoch:16/50 Training Error:0.016 Test Error:0.016\n",
      "Epoch:17/50 Training Error:0.016 Test Error:0.016\n",
      "Epoch:18/50 Training Error:0.016 Test Error:0.017\n",
      "Epoch:19/50 Training Error:0.016 Test Error:0.017\n",
      "Epoch:20/50 Training Error:0.016 Test Error:0.016\n",
      "Epoch:21/50 Training Error:0.016 Test Error:0.016\n",
      "Epoch:22/50 Training Error:0.015 Test Error:0.016\n",
      "Epoch:23/50 Training Error:0.015 Test Error:0.016\n",
      "Epoch:24/50 Training Error:0.016 Test Error:0.017\n",
      "Epoch:25/50 Training Error:0.014 Test Error:0.015\n",
      "Epoch:26/50 Training Error:0.013 Test Error:0.013\n",
      "Epoch:27/50 Training Error:0.010 Test Error:0.011\n",
      "Epoch:28/50 Training Error:0.008 Test Error:0.008\n",
      "Epoch:29/50 Training Error:0.009 Test Error:0.009\n",
      "Epoch:30/50 Training Error:0.008 Test Error:0.009\n",
      "Epoch:31/50 Training Error:0.007 Test Error:0.008\n",
      "Epoch:32/50 Training Error:0.007 Test Error:0.007\n",
      "Epoch:33/50 Training Error:0.007 Test Error:0.007\n",
      "Epoch:34/50 Training Error:0.007 Test Error:0.007\n",
      "Epoch:35/50 Training Error:0.008 Test Error:0.008\n",
      "Epoch:36/50 Training Error:0.007 Test Error:0.007\n",
      "Epoch:37/50 Training Error:0.009 Test Error:0.010\n",
      "Epoch:38/50 Training Error:0.011 Test Error:0.012\n",
      "Epoch:39/50 Training Error:0.007 Test Error:0.007\n",
      "Epoch:40/50 Training Error:0.007 Test Error:0.007\n",
      "Epoch:41/50 Training Error:0.007 Test Error:0.007\n",
      "Epoch:42/50 Training Error:0.007 Test Error:0.007\n",
      "Epoch:43/50 Training Error:0.007 Test Error:0.007\n",
      "Epoch:44/50 Training Error:0.007 Test Error:0.008\n",
      "Epoch:45/50 Training Error:0.008 Test Error:0.008\n",
      "Epoch:46/50 Training Error:0.007 Test Error:0.007\n",
      "Epoch:47/50 Training Error:0.007 Test Error:0.007\n",
      "Epoch:48/50 Training Error:0.007 Test Error:0.007\n",
      "Epoch:49/50 Training Error:0.015 Test Error:0.015\n",
      "Epoch:50/50 Training Error:0.008 Test Error:0.008\n"
     ]
    }
   ],
   "source": [
    "import glob\n",
    "import os \n",
    "import _pickle as cPickle\n",
    "\n",
    "dataset = 'middle_small'\n",
    "file_location = os.path.join('data', 'pickle', dataset, '*')\n",
    "filenames = glob.glob(file_location)\n",
    "i=0 \n",
    "\n",
    "\n",
    "# define the parameters of the model\n",
    "learningRate= best_lr\n",
    "neuron_ = best_neurons_nb\n",
    "\n",
    "epochs=50\n",
    "criterion = nn.MSELoss() \n",
    "\n",
    "test_errors = []\n",
    "train_errors = []\n",
    "names = [] #Just to be sure of which error corresponds to which sub-dataset\n",
    "\n",
    "for f in filenames:\n",
    "    \n",
    "    print(\"\\033[1m\" +'Train/Test of the sub-dataset ' + f + \"\\033[0m\")\n",
    "    \n",
    "    #Load the data\n",
    "    x  = cPickle.load(open(f, \"rb\"))\n",
    "    \n",
    "    #Split\n",
    "    x_train, x_test = train_test_split(x, test_size=0.1, random_state=seed)\n",
    "    y_train, y_test = x_train, x_test\n",
    "    \n",
    "    #Declare the model\n",
    "    input_size=x_train.shape[1]\n",
    "    model = Autoencoder(input_size, neuron_)\n",
    "    optimizer = torch.optim.Adam(model.parameters(), lr=learningRate, weight_decay=1e-5)\n",
    "    \n",
    "    #Dataloader\n",
    "    train_loader = DataLoader(x_train)\n",
    "    test_loader = DataLoader(x_test)\n",
    "    \n",
    "    #Training and testing over the epochs\n",
    "    for epoch in range(epochs):\n",
    "        # train the model \n",
    "        train_loss=train_epoch(train_loader, model, criterion, optimizer)\n",
    "        # compute the relative training error\n",
    "        train_error = valid_epoch(train_loader, model)\n",
    "        # compute the relative test error\n",
    "        test_error=valid_epoch(test_loader, model)\n",
    "        \n",
    "        print(\"Epoch:{}/{} Training Error:{:.3f} Test Error:{:.3f}\".format(epoch + 1,epochs,train_error,test_error))\n",
    "    \n",
    "    #Save the last epoch train and test errors\n",
    "    test_errors.append(test_error)\n",
    "    train_errors.append(train_error)\n",
    "    names.append(f)"
   ]
  },
  {
   "cell_type": "code",
   "execution_count": 30,
   "metadata": {},
   "outputs": [
    {
     "data": {
      "text/html": [
       "<div>\n",
       "<style scoped>\n",
       "    .dataframe tbody tr th:only-of-type {\n",
       "        vertical-align: middle;\n",
       "    }\n",
       "\n",
       "    .dataframe tbody tr th {\n",
       "        vertical-align: top;\n",
       "    }\n",
       "\n",
       "    .dataframe thead th {\n",
       "        text-align: right;\n",
       "    }\n",
       "</style>\n",
       "<table border=\"1\" class=\"dataframe\">\n",
       "  <thead>\n",
       "    <tr style=\"text-align: right;\">\n",
       "      <th></th>\n",
       "      <th>10%</th>\n",
       "      <th>5%</th>\n",
       "      <th>2%</th>\n",
       "    </tr>\n",
       "    <tr>\n",
       "      <th></th>\n",
       "      <th></th>\n",
       "      <th></th>\n",
       "      <th></th>\n",
       "    </tr>\n",
       "  </thead>\n",
       "  <tbody>\n",
       "    <tr>\n",
       "      <th>50%</th>\n",
       "      <td>0.004858</td>\n",
       "      <td>0.007889</td>\n",
       "      <td>0.008484</td>\n",
       "    </tr>\n",
       "    <tr>\n",
       "      <th>25%</th>\n",
       "      <td>0.005781</td>\n",
       "      <td>0.014525</td>\n",
       "      <td>0.007564</td>\n",
       "    </tr>\n",
       "    <tr>\n",
       "      <th>10%</th>\n",
       "      <td>0.006972</td>\n",
       "      <td>0.005566</td>\n",
       "      <td>0.007189</td>\n",
       "    </tr>\n",
       "  </tbody>\n",
       "</table>\n",
       "</div>"
      ],
      "text/plain": [
       "          10%        5%        2%\n",
       "                                 \n",
       "50%  0.004858  0.007889  0.008484\n",
       "25%  0.005781  0.014525  0.007564\n",
       "10%  0.006972  0.005566  0.007189"
      ]
     },
     "metadata": {},
     "output_type": "display_data"
    },
    {
     "name": "stdout",
     "output_type": "stream",
     "text": [
      "\u001b[1mTable of relative error depending on the sampling of the dataset\u001b[0m\n",
      "x : sampling of times\n",
      "y : sampling of positions\n"
     ]
    }
   ],
   "source": [
    "from pandas import *\n",
    "\n",
    "#If you want to load the test and train errors from the saved pickles files, uncomment following lines :\n",
    "'''\n",
    "dataset = \"middle_small\"\n",
    "train_errors  = cPickle.load(open(\"data/pickle/results/\"+\"train_errors_\" + dataset, \"rb\"))\n",
    "test_errors  = cPickle.load(open(\"data/pickle/results/\"+\"test_errors_\" + dataset, \"rb\"))\n",
    "'''\n",
    "\n",
    "results = DataFrame({'' : ['50%', '25%', '10%'],\n",
    "                   '10%' : test_errors[:3][::-1],\n",
    "                   '5%' : test_errors[3:6][::-1],\n",
    "                   '2%' : test_errors[6:9][::-1]})\n",
    "\n",
    "results = results.set_index('')\n",
    "\n",
    "display(results)\n",
    "print(\"\\033[1m\" + 'Table of relative error depending on the sampling of the dataset' + \"\\033[0m\")\n",
    "print('x : sampling of times')\n",
    "print('y : sampling of positions')"
   ]
  },
  {
   "cell_type": "code",
   "execution_count": 31,
   "metadata": {},
   "outputs": [],
   "source": [
    "#Save in pickles\n",
    "name = \"train_errors_\" + dataset\n",
    "cPickle.dump( train_errors , open( name, \"wb\" ) )\n",
    "name = \"test_errors_\" + dataset\n",
    "cPickle.dump( test_errors , open( name, \"wb\" ) )"
   ]
  },
  {
   "cell_type": "markdown",
   "metadata": {},
   "source": [
    "## 5. Physical interpretation <a name=\"physical\"></a>"
   ]
  },
  {
   "cell_type": "markdown",
   "metadata": {},
   "source": [
    "After compressing our data with the help of the feed-forward encoder, we can investigate if there exists a relationship between the latent neurons and the initial physical parameters."
   ]
  },
  {
   "cell_type": "markdown",
   "metadata": {},
   "source": [
    "##### Extract the output of the encoder (X_compressed)"
   ]
  },
  {
   "cell_type": "code",
   "execution_count": 2,
   "metadata": {
    "scrolled": true
   },
   "outputs": [
    {
     "name": "stdout",
     "output_type": "stream",
     "text": [
      "Epoch:1/10 Training Error:0.970 Test Error:0.969\n",
      "Epoch:2/10 Training Error:0.833 Test Error:0.832\n",
      "Epoch:3/10 Training Error:0.616 Test Error:0.612\n",
      "Epoch:4/10 Training Error:0.388 Test Error:0.382\n",
      "Epoch:5/10 Training Error:0.220 Test Error:0.211\n",
      "Epoch:6/10 Training Error:0.124 Test Error:0.108\n",
      "Epoch:7/10 Training Error:0.098 Test Error:0.065\n",
      "Epoch:8/10 Training Error:0.093 Test Error:0.061\n",
      "Epoch:9/10 Training Error:0.091 Test Error:0.060\n",
      "Epoch:10/10 Training Error:0.091 Test Error:0.060\n"
     ]
    }
   ],
   "source": [
    "import _pickle as cPickle\n",
    "\n",
    "# define the parameters of the model\n",
    "learningRate= 1e-4\n",
    "neuron_ = 8\n",
    "epochs=10\n",
    "criterion = nn.MSELoss() \n",
    "\n",
    "\n",
    "#Load the data\n",
    "x  = cPickle.load(open('data/pickle/middle_small/processed_middle_small_0.05_0.1', \"rb\"))\n",
    "\n",
    "#Split\n",
    "x_train, x_test = train_test_split(x, test_size=0.1, random_state=seed, shuffle=False)\n",
    "y_train, y_test = x_train, x_test\n",
    "\n",
    "#Declare the model\n",
    "input_size=x_train.shape[1]\n",
    "model = Autoencoder(input_size, neuron_)\n",
    "optimizer = torch.optim.Adam(model.parameters(), lr=learningRate, weight_decay=1e-5)\n",
    "\n",
    "#Dataloader\n",
    "train_loader = DataLoader(x_train, batch_size=20)\n",
    "test_loader = DataLoader(x_test, batch_size=20)\n",
    "\n",
    "#Training and testing over the epochs\n",
    "for epoch in range(epochs):\n",
    "    # train the model \n",
    "    train_loss=train_epoch(train_loader, model, criterion, optimizer)\n",
    "    # compute the relative training error\n",
    "    train_error = valid_epoch(train_loader, model)\n",
    "    # compute the relative test error\n",
    "    test_error=valid_epoch(test_loader, model)\n",
    "\n",
    "    print(\"Epoch:{}/{} Training Error:{:.3f} Test Error:{:.3f}\".format(epoch + 1,epochs,train_error,test_error))\n",
    "\n",
    "#Look at the compression\n",
    "compressed_X_train = []\n",
    "for train in train_loader :\n",
    "    train = train.float()\n",
    "    compressed_x_train = model.forward(x=train, show_compression=True)\n",
    "    compressed_X_train.append(compressed_x_train.detach().numpy())\n",
    "\n",
    "compressed_X_test = []    \n",
    "for test in test_loader :\n",
    "    test = test.float()\n",
    "    compressed_x_test = model.forward(x=test, show_compression=True)\n",
    "    compressed_X_test.append(compressed_x_test.detach().numpy())       "
   ]
  },
  {
   "cell_type": "code",
   "execution_count": 11,
   "metadata": {},
   "outputs": [],
   "source": [
    "comp_X_train = np.concatenate(np.squeeze(np.array(compressed_X_train)))\n",
    "comp_X_test = (np.squeeze(np.array(compressed_X_test)))"
   ]
  },
  {
   "cell_type": "code",
   "execution_count": 12,
   "metadata": {},
   "outputs": [
    {
     "name": "stdout",
     "output_type": "stream",
     "text": [
      "(157, 8)\n",
      "(18, 8)\n"
     ]
    }
   ],
   "source": [
    "print(comp_X_train.shape)\n",
    "print(comp_X_test.shape)"
   ]
  },
  {
   "cell_type": "markdown",
   "metadata": {},
   "source": [
    "##### Correlation between the neurons"
   ]
  },
  {
   "cell_type": "code",
   "execution_count": 13,
   "metadata": {},
   "outputs": [
    {
     "data": {
      "image/png": "[encoded data removed]",
      "text/plain": [
       "<Figure size 432x288 with 2 Axes>"
      ]
     },
     "metadata": {
      "needs_background": "light"
     },
     "output_type": "display_data"
    }
   ],
   "source": [
    "import seaborn as sns\n",
    "\n",
    "corr = np.cov(comp_X_train.T)\n",
    "\n",
    "# plot the heatmap\n",
    "plt.imshow(corr,cmap='hot',interpolation='nearest')\n",
    "plt.colorbar()\n",
    "plt.show()"
   ]
  },
  {
   "cell_type": "markdown",
   "metadata": {},
   "source": [
    "##### Load the real parameters that generated the solutions of the heamodynamic equation"
   ]
  },
  {
   "cell_type": "code",
   "execution_count": 22,
   "metadata": {},
   "outputs": [],
   "source": [
    "compressed_Y_pd = pd.read_csv(\"Data/params_middle_small.csv.bz2\", header=None)\n",
    "comp_Y = compressed_Y_pd.to_numpy()"
   ]
  },
  {
   "cell_type": "code",
   "execution_count": 23,
   "metadata": {},
   "outputs": [
    {
     "data": {
      "text/plain": [
       "(175, 5)"
      ]
     },
     "execution_count": 23,
     "metadata": {},
     "output_type": "execute_result"
    }
   ],
   "source": [
    "comp_Y.shape"
   ]
  },
  {
   "cell_type": "code",
   "execution_count": 24,
   "metadata": {},
   "outputs": [
    {
     "data": {
      "text/plain": [
       "(18, 5)"
      ]
     },
     "execution_count": 24,
     "metadata": {},
     "output_type": "execute_result"
    }
   ],
   "source": [
    "comp_Y_train, comp_Y_test = train_test_split(comp_Y, test_size=0.1, random_state=seed, shuffle=False)\n",
    "comp_Y_test.shape"
   ]
  },
  {
   "cell_type": "markdown",
   "metadata": {},
   "source": [
    "##### Regression model"
   ]
  },
  {
   "cell_type": "markdown",
   "metadata": {},
   "source": [
    "Feature engineering : Polynomial extension "
   ]
  },
  {
   "cell_type": "code",
   "execution_count": 25,
   "metadata": {},
   "outputs": [
    {
     "data": {
      "text/plain": [
       "[array([-6.33671522e+00, -1.37680176e+02,  2.27910461e+01,  4.07060661e+01,\n",
       "        -1.11317604e+02,  1.29095825e+02, -1.63903244e+02,  1.92927811e+02,\n",
       "         4.01539598e+01,  1.89558308e+04,  5.19431784e+02,  1.65698382e+03,\n",
       "         1.23916090e+04,  1.66657321e+04,  2.68642734e+04,  3.72211401e+04,\n",
       "        -2.54444208e+02, -2.60984212e+06,  1.18383938e+04,  6.74492930e+04,\n",
       "        -1.37940422e+06,  2.15147644e+06, -4.40314156e+06,  7.18099308e+06]),\n",
       " array([-1.78503811e+00, -3.57773743e+01,  5.98507738e+00,  1.03514414e+01,\n",
       "        -2.89691067e+01,  3.36399269e+01, -4.27748299e+01,  5.02779846e+01,\n",
       "         3.18636107e+00,  1.28002051e+03,  3.58211513e+01,  1.07152339e+02,\n",
       "         8.39209142e+02,  1.13164468e+03,  1.82968607e+03,  2.52787574e+03,\n",
       "        -5.68777595e+00, -4.57957728e+04,  2.14392362e+02,  1.10918115e+03,\n",
       "        -2.43111391e+04,  3.80684444e+04, -7.82645103e+04,  1.27096497e+05]),\n",
       " array([-1.75585377e+00, -3.07942276e+01,  5.20443583e+00,  9.12964058e+00,\n",
       "        -2.48501396e+01,  2.90632477e+01, -3.71158066e+01,  4.35623665e+01,\n",
       "         3.08302247e+00,  9.48284453e+02,  2.70861523e+01,  8.33503371e+01,\n",
       "         6.17529439e+02,  8.44672366e+02,  1.37758310e+03,  1.89767977e+03,\n",
       "        -5.41333663e+00, -2.92016873e+04,  1.40968141e+02,  7.60958620e+02,\n",
       "        -1.53456928e+04,  2.45489222e+04, -5.11301078e+04,  8.26674218e+04]),\n",
       " array([-5.90968657e+00, -1.35445053e+02,  2.22614250e+01,  3.94283829e+01,\n",
       "        -1.09663185e+02,  1.26896324e+02, -1.60851349e+02,  1.89403412e+02,\n",
       "         3.49243953e+01,  1.83453624e+04,  4.95571044e+02,  1.55459738e+03,\n",
       "         1.20260142e+04,  1.61026771e+04,  2.58731564e+04,  3.58736524e+04,\n",
       "        -2.06392230e+02, -2.48478859e+06,  1.10321176e+04,  6.12952606e+04,\n",
       "        -1.31881102e+06,  2.04337053e+06, -4.16173211e+06,  6.79459217e+06]),\n",
       " array([-1.78770888e+00, -4.04553566e+01,  6.68769932e+00,  1.14232101e+01,\n",
       "        -3.28456879e+01,  3.79441528e+01, -4.80722733e+01,  5.65668221e+01,\n",
       "         3.19590303e+00,  1.63663588e+03,  4.47253222e+01,  1.30489730e+02,\n",
       "         1.07883921e+03,  1.43975873e+03,  2.31094346e+03,  3.19980536e+03,\n",
       "        -5.71334423e+00, -6.62106880e+04,  2.99109507e+02,  1.49061161e+03,\n",
       "        -3.54352160e+04,  5.46304254e+04, -1.11092305e+05,  1.81002820e+05]),\n",
       " array([-1.52178633e+00, -2.99571419e+01,  5.01781511e+00,  8.59931755e+00,\n",
       "        -2.42668476e+01,  2.81891098e+01, -3.58571281e+01,  4.21277580e+01,\n",
       "         2.31583364e+00,  8.97430349e+02,  2.51784685e+01,  7.39482623e+01,\n",
       "         5.88879893e+02,  7.94625911e+02,  1.28573364e+03,  1.77474800e+03,\n",
       "        -3.52420398e+00, -2.68844483e+04,  1.26340900e+02,  6.35904590e+02,\n",
       "        -1.42902586e+04,  2.23997971e+04, -4.61027158e+04,  7.47661541e+04]),\n",
       " array([-1.90176451e+00, -4.09303932e+01,  6.78630257e+00,  1.16847916e+01,\n",
       "        -3.31880417e+01,  3.84392662e+01, -4.87647362e+01,  5.73617935e+01,\n",
       "         3.61670826e+00,  1.67529709e+03,  4.60539025e+01,  1.36534354e+02,\n",
       "         1.10144611e+03,  1.47757719e+03,  2.37799949e+03,  3.29037536e+03,\n",
       "        -6.87812742e+00, -6.85705686e+04,  3.12535717e+02,  1.59537547e+03,\n",
       "        -3.65548394e+04,  5.67969828e+04, -1.15962518e+05,  1.88741832e+05]),\n",
       " array([-7.35640669e+00, -9.25318985e+01,  1.62362823e+01,  3.17081490e+01,\n",
       "        -7.34011383e+01,  8.80320892e+01, -1.14223679e+02,  1.33602783e+02,\n",
       "         5.41167194e+01,  8.56215224e+03,  2.63616865e+02,  1.00540671e+03,\n",
       "         5.38772710e+03,  7.74964873e+03,  1.30470488e+04,  1.78497037e+04,\n",
       "        -3.98104596e+02, -7.92272202e+05,  4.28015784e+03,  3.18795857e+04,\n",
       "        -3.95465302e+05,  6.82217769e+05, -1.49028190e+06,  2.38477009e+06]),\n",
       " array([-4.36391115e+00, -6.47510529e+01,  1.11293154e+01,  2.08321781e+01,\n",
       "        -5.17791290e+01,  6.13047752e+01, -7.88913193e+01,  9.24748383e+01,\n",
       "         1.90437205e+01,  4.19269885e+03,  1.23861661e+02,  4.33979645e+02,\n",
       "         2.68107820e+03,  3.75827547e+03,  6.22384026e+03,  8.55159571e+03,\n",
       "        -8.31051044e+01, -2.71481665e+05,  1.37849549e+03,  9.04074126e+03,\n",
       "        -1.38823894e+05,  2.30400233e+05, -4.91006969e+05,  7.90807430e+05]),\n",
       " array([-6.62398863e+00, -1.08232468e+02,  1.83633347e+01,  3.42038040e+01,\n",
       "        -8.67635345e+01,  1.02166573e+02, -1.31004395e+02,  1.53751663e+02,\n",
       "         4.38772253e+01,  1.17142671e+04,  3.37212060e+02,  1.16990021e+03,\n",
       "         7.52791093e+03,  1.04380086e+04,  1.71621514e+04,  2.36395739e+04,\n",
       "        -2.90642242e+02, -1.26786403e+06,  6.19233790e+03,  4.00150375e+04,\n",
       "        -6.53148160e+05,  1.06641556e+06, -2.24831725e+06,  3.63462381e+06]),\n",
       " array([-2.13050795e+00, -1.02614891e+02,  1.62010918e+01,  2.63071594e+01,\n",
       "        -8.42324524e+01,  9.52758713e+01, -1.18867348e+02,  1.40567001e+02,\n",
       "         4.53906411e+00,  1.05298159e+04,  2.62475374e+02,  6.92066637e+02,\n",
       "         7.09510604e+03,  9.07749165e+03,  1.41294464e+04,  1.97590819e+04,\n",
       "        -9.67051215e+00, -1.08051591e+06,  4.25238763e+03,  1.82063074e+04,\n",
       "        -5.97638181e+05,  8.64865926e+05, -1.67952981e+06,  2.77747489e+06]),\n",
       " array([-2.22066927e+00, -3.57850037e+01,  6.11728907e+00,  1.10208292e+01,\n",
       "        -2.87645836e+01,  3.38296165e+01, -4.33715973e+01,  5.08502388e+01,\n",
       "         4.93137200e+00,  1.28056649e+03,  3.74212255e+01,  1.21458676e+02,\n",
       "         8.27401269e+02,  1.14444296e+03,  1.88109545e+03,  2.58574679e+03,\n",
       "        -1.09509463e+01, -4.58250764e+04,  2.28916454e+02,  1.33857533e+03,\n",
       "        -2.37998530e+04,  3.87160664e+04, -8.15861144e+04,  1.31485842e+05]),\n",
       " array([-2.86872339e+00, -4.93575363e+01,  8.37703037e+00,  1.51384230e+01,\n",
       "        -3.97112541e+01,  4.65393677e+01, -5.95348778e+01,  6.98817444e+01,\n",
       "         8.22957390e+00,  2.43616639e+03,  7.01746379e+01,  2.29171850e+02,\n",
       "         1.57698370e+03,  2.16591274e+03,  3.54440167e+03,  4.88345820e+03,\n",
       "        -2.36083712e+01, -1.20243171e+05,  5.87855073e+02,  3.46930040e+03,\n",
       "        -6.26240006e+04,  1.00800210e+05, -2.11015520e+05,  3.41264578e+05]),\n",
       " array([-3.94573069e+00, -5.66422920e+01,  9.77910709e+00,  1.84244785e+01,\n",
       "        -4.52310410e+01,  5.36831245e+01, -6.92147751e+01,  8.10530777e+01,\n",
       "         1.55687906e+01,  3.20834925e+03,  9.56309356e+01,  3.39461409e+02,\n",
       "         2.04584707e+03,  2.88187786e+03,  4.79068509e+03,  6.56960140e+03,\n",
       "        -6.14302550e+01, -1.81728255e+05,  9.35185160e+02,  6.25439944e+03,\n",
       "        -9.25357924e+04,  1.54708208e+05, -3.31586191e+05,  5.32486413e+05]),\n",
       " array([-2.73682547e+00, -1.48422867e+02,  2.33595161e+01,  3.80547256e+01,\n",
       "        -1.21882500e+02,  1.37557068e+02, -1.71489548e+02,  2.02825928e+02,\n",
       "         7.49021363e+00,  2.20293474e+04,  5.45666994e+02,  1.44816214e+03,\n",
       "         1.48553437e+04,  1.89219469e+04,  2.94086650e+04,  4.11383570e+04,\n",
       "        -2.04994074e+01, -3.26965889e+06,  1.27465170e+04,  5.51094131e+04,\n",
       "        -1.81060643e+06,  2.60284754e+06, -5.04327866e+06,  8.34392542e+06]),\n",
       " array([-1.16496432e+00, -1.15407936e+02,  1.78537178e+01,  2.78598423e+01,\n",
       "        -9.52874603e+01,  1.06609680e+02, -1.32042664e+02,  1.56486191e+02,\n",
       "         1.35714186e+00,  1.33189917e+04,  3.18755239e+02,  7.76170813e+02,\n",
       "         9.07970010e+03,  1.13656239e+04,  1.74352650e+04,  2.44879279e+04,\n",
       "        -1.58102185e+00, -1.53711734e+06,  5.69096609e+03,  2.16239964e+04,\n",
       "        -8.65181563e+05,  1.21168553e+06, -2.30219883e+06,  3.83202256e+06]),\n",
       " array([-5.84796095e+00, -1.32130997e+02,  2.18129559e+01,  3.87868347e+01,\n",
       "        -1.06909828e+02,  1.23752884e+02, -1.56972366e+02,  1.84791229e+02,\n",
       "         3.41986473e+01,  1.74586003e+04,  4.75805043e+02,  1.50441855e+03,\n",
       "         1.14297114e+04,  1.53147763e+04,  2.46403238e+04,  3.41477984e+04,\n",
       "        -1.99992354e+02, -2.30682226e+06,  1.03787144e+04,  5.83516335e+04,\n",
       "        -1.22194848e+06,  1.89524773e+06, -3.86784993e+06,  6.31021364e+06]),\n",
       " array([-1.98950970e+00, -3.77184067e+01,  6.31687546e+00,  1.10733643e+01,\n",
       "        -3.04788227e+01,  3.55204201e+01, -4.52487411e+01,  5.31593056e+01,\n",
       "         3.95814885e+00,  1.42267820e+03,  3.99029155e+01,  1.22619396e+02,\n",
       "         9.28958634e+02,  1.26170024e+03,  2.04744858e+03,  2.82591177e+03,\n",
       "        -7.87477554e+00, -5.36611550e+04,  2.52061748e+02,  1.35780924e+03,\n",
       "        -2.83135655e+04,  4.48161226e+04, -9.26444706e+04,  1.50223507e+05])]"
      ]
     },
     "execution_count": 25,
     "metadata": {},
     "output_type": "execute_result"
    }
   ],
   "source": [
    "exponents = np.arange(3) + 1\n",
    "\n",
    "comp_X_train_pol = []\n",
    "for row in comp_X_train: \n",
    "    comp_X_train_pol.append((row**exponents[:,None]).ravel())\n",
    "    \n",
    "comp_X_test_pol = []\n",
    "for row in comp_X_test: \n",
    "    comp_X_test_pol.append((row**exponents[:,None]).ravel())    \n",
    "\n",
    "comp_X_test_pol    "
   ]
  },
  {
   "cell_type": "code",
   "execution_count": 26,
   "metadata": {},
   "outputs": [
    {
     "name": "stdout",
     "output_type": "stream",
     "text": [
      "The train score is:  0.6952233388903237\n",
      "The test score is:  0.5716626222763972\n"
     ]
    }
   ],
   "source": [
    "from sklearn.linear_model import LinearRegression\n",
    "reg_pol = LinearRegression().fit(comp_X_train_, comp_Y_train)\n",
    "train_score = (reg_pol.score(comp_X_train_, comp_Y_train))\n",
    "test_score = (reg_pol.score(comp_X_test_, comp_Y_test))\n",
    "print('The train score is: ', train_score)\n",
    "print('The test score is: ', test_score)"
   ]
  },
  {
   "cell_type": "code",
   "execution_count": 28,
   "metadata": {},
   "outputs": [
    {
     "name": "stdout",
     "output_type": "stream",
     "text": [
      "The train score is:  0.76330553992475\n",
      "The test score is:  0.4808506948278106\n"
     ]
    }
   ],
   "source": [
    "from sklearn.linear_model import Ridge\n",
    "ridge_pol = Ridge(alpha=1).fit(comp_X_train_pol, comp_Y_train)\n",
    "train_score_ridge = (ridge_pol.score(comp_X_train_pol, comp_Y_train))\n",
    "test_score_ridge = (ridge_pol.score(comp_X_test_pol, comp_Y_test))\n",
    "print('The train score is: ', train_score_ridge)\n",
    "print('The test score is: ', test_score_ridge)"
   ]
  },
  {
   "cell_type": "code",
   "execution_count": 29,
   "metadata": {},
   "outputs": [
    {
     "name": "stdout",
     "output_type": "stream",
     "text": [
      "The train score is:  0.29434217856550865\n",
      "The test score is:  0.28919528557432805\n"
     ]
    }
   ],
   "source": [
    "from sklearn.linear_model import ElasticNet\n",
    "regr = ElasticNet(random_state=0, alpha=1).fit(comp_X_train, comp_Y_train)\n",
    "train_score_elast = (regr.score(comp_X_train, comp_Y_train))\n",
    "test_score_elast = (regr.score(comp_X_test, comp_Y_test))\n",
    "print('The train score is: ', train_score_elast)\n",
    "print('The test score is: ', test_score_elast)"
   ]
  },
  {
   "cell_type": "markdown",
   "metadata": {},
   "source": [
    "## 6. Discussion & conclusion <a name=\"ccl\"></a>"
   ]
  },
  {
   "cell_type": "code",
   "execution_count": null,
   "metadata": {},
   "outputs": [],
   "source": []
  }
 ],
 "metadata": {
  "kernelspec": {
   "display_name": "Python 3",
   "language": "python",
   "name": "python3"
  },
  "language_info": {
   "codemirror_mode": {
    "name": "ipython",
    "version": 3
   },
   "file_extension": ".py",
   "mimetype": "text/x-python",
   "name": "python",
   "nbconvert_exporter": "python",
   "pygments_lexer": "ipython3",
   "version": "3.8.8"
  }
 },
 "nbformat": 4,
 "nbformat_minor": 4
}
