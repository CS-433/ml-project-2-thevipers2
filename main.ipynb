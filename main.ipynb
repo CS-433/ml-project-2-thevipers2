{
 "cells": [
  {
   "cell_type": "markdown",
   "metadata": {},
   "source": [
    "# Machine Learning - Project 2:\n",
    "# _Autoencoder for mathematical modeling of blood flow in a stenosis context_"
   ]
  },
  {
   "cell_type": "markdown",
   "metadata": {},
   "source": [
    "## Context"
   ]
  },
  {
   "cell_type": "markdown",
   "metadata": {},
   "source": [
    "In this project, we are going to analyze data derived from..."
   ]
  },
  {
   "cell_type": "markdown",
   "metadata": {},
   "source": [
    "Our goals:\n",
    "1. modeliser mathématiquement l’écoulement sanguin à l’aide de PDE dépendante de 2-3 paramètres physique\n",
    "2. simuler l’écoulement par un code d’éléments fini ou similaire\n",
    "3. générer beaucoup de solutions avec une grande nombre de paramètres différents. (Les 2-3, pris de façon aléatoire)\n",
    "4. a. utiliser les solutions numérique pour établir un auto encoder qui au milieu n’ai que 2-5 hyper-paramètres libres  \n",
    "b. quel erreur on obtient ? Est-ce possible de réduire le nombre d’hyper-paramètres ?\n",
    "5. étudier s’il y a une rélation entre les 2-5 hyper-paramètre et les paramètres physique  \n",
    "a. à l’aide de statistiques\n",
    "5. b. à l’aide d’un DNN (différent de 4a)\n",
    "6. (optionnel) faire un DNN entre l’input de 4a et output les paramêtres physique. Et/ou l’inverse.\n",
    "7. Discussion et conclusions "
   ]
  },
  {
   "cell_type": "markdown",
   "metadata": {},
   "source": [
    "Abbreviations used:\n",
    "- $N_u$ = total number of spatial points per simulation\n",
    "- $N_t$ = total number of time steps per simulation\n",
    "- $N_s$ = total number of simulations"
   ]
  },
  {
   "cell_type": "markdown",
   "metadata": {},
   "source": [
    "## Table of contents"
   ]
  },
  {
   "cell_type": "markdown",
   "metadata": {},
   "source": [
    "[1. Data exploration](#data_exploration) \n",
    "- [Imports](#1imports)\n",
    "- [Pathways](#1pathways)\n",
    "- [Loading](#1load)\n",
    "- [Exploration](#1exploration)\n",
    "\n",
    "[2. Data preprocessing](#preprocessing)\n",
    "\n",
    "[3. Pickle](#pickle)\n",
    "\n",
    "[4. Autoencoder](#autoencoder)"
   ]
  },
  {
   "cell_type": "markdown",
   "metadata": {},
   "source": [
    "### Imports  <a name=\"1imports\"></a>"
   ]
  },
  {
   "cell_type": "code",
   "execution_count": 4,
   "metadata": {},
   "outputs": [],
   "source": [
    "# Useful starting lines\n",
    "%matplotlib inline\n",
    "import numpy as np\n",
    "import matplotlib.pyplot as plt\n",
    "import pandas as pd\n",
    "from helpers import *\n",
    "from preprocessing import *\n",
    "from sklearn.model_selection import train_test_split\n",
    "from autoencoder import *\n",
    "from crossvalidation import *\n",
    "import _pickle as cPickle\n",
    "%load_ext autoreload\n",
    "%autoreload 2"
   ]
  },
  {
   "cell_type": "markdown",
   "metadata": {},
   "source": [
    "## 1. Data exploration  <a name=\"data_exploration\"></a>"
   ]
  },
  {
   "cell_type": "markdown",
   "metadata": {},
   "source": [
    "### Pathways <a name=\"1pathways\"></a>"
   ]
  },
  {
   "cell_type": "code",
   "execution_count": 2,
   "metadata": {},
   "outputs": [],
   "source": [
    "DATA_PATH = 'data/'\n",
    "DATA_Ux_PATH = DATA_PATH + 'u1_very_small.csv.bz2'\n",
    "DATA_Uy_PATH = DATA_PATH + 'u2_very_small.csv.bz2'"
   ]
  },
  {
   "cell_type": "markdown",
   "metadata": {},
   "source": [
    "### Loading <a name=\"1load\"></a>"
   ]
  },
  {
   "cell_type": "markdown",
   "metadata": {},
   "source": [
    "Let's load the data which consists of 2 matrices Ux, Uy denoting the x and y coordinates of the speed."
   ]
  },
  {
   "cell_type": "code",
   "execution_count": 3,
   "metadata": {},
   "outputs": [],
   "source": [
    "# Loading\n",
    "Ux_pd = pd.read_csv(DATA_Ux_PATH, header=None)\n",
    "Uy_pd = pd.read_csv(DATA_Uy_PATH, header=None)\n",
    "# Converting from dataframe to numpy\n",
    "Ux = Ux_pd.to_numpy()\n",
    "Uy = Uy_pd.to_numpy()"
   ]
  },
  {
   "cell_type": "markdown",
   "metadata": {},
   "source": [
    "### Exploration <a name=\"1exploration\"></a>"
   ]
  },
  {
   "cell_type": "markdown",
   "metadata": {},
   "source": [
    "Let's have a closer look at our imported data sets. The columns represent the time steps and the rows represent a point of our blood vessel mesh and each 5509 row a new simulation."
   ]
  },
  {
   "cell_type": "code",
   "execution_count": 4,
   "metadata": {
    "scrolled": false
   },
   "outputs": [
    {
     "name": "stdout",
     "output_type": "stream",
     "text": [
      "Our input array Ux is of shape: (137725, 110)\n",
      "Our input array Uy is of shape: (143234, 110)\n",
      "Printing a row of Ux: \n",
      " [0.07843621 0.31118352 0.68245424 1.15863002 1.69435217 2.2377946\n",
      " 2.73607737 3.14059293 3.41183529 3.52330289 3.63726074 3.7439734\n",
      " 3.84549407 3.94281205 4.03640323 4.12650964 4.2132592  4.29672103\n",
      " 4.37693287 4.45391539 4.52767992 4.59823263 4.6655769  4.72971455\n",
      " 4.79064658 4.84837353 4.90289569 4.95421322 5.00232621 5.04723472\n",
      " 5.08893877 5.12743839 5.16273359 5.19482437 5.22371075 5.24939272\n",
      " 5.2718703  5.29114348 5.30721227 5.32007667 5.32973668 5.33619229\n",
      " 5.33944353 5.33997115 5.33936904 5.33787084 5.33552701 5.33235975\n",
      " 5.32837974 5.3235924  5.31800058 5.31160582 5.30440894 5.29641041\n",
      " 5.28761047 5.27800926 5.26760686 5.25640331 5.24439864 5.23159284\n",
      " 5.21798594 5.20357794 5.18836883 5.17235862 5.15554731 5.13793491\n",
      " 5.1195214  5.1003068  5.0802911  5.05947431 5.03785642 5.01543743\n",
      " 4.99221734 4.96819616 4.94337388 4.9177505  4.89132603 4.86410046\n",
      " 4.8360738  4.80724604 4.77761718 4.74718722 4.71595617 4.68392403\n",
      " 4.65109078 4.61745644 4.583021   4.54778447 4.51174684 4.47490812\n",
      " 4.43726829 4.39882737 4.35958536 4.31954225 4.27869804 4.23705274\n",
      " 4.19460633 4.15135884 4.10731024 4.06246055 4.01680977 3.97035788\n",
      " 3.9231049  3.87505083 3.82619566 3.77653939 3.72608202 3.67482356\n",
      " 3.622764   3.56990335] \n",
      "\n",
      "Printing a row of Uy: \n",
      " [0.07843621 0.31118352 0.68245424 1.15863002 1.69435217 2.2377946\n",
      " 2.73607737 3.14059293 3.41183529 3.52330289 3.63726074 3.7439734\n",
      " 3.84549407 3.94281205 4.03640323 4.12650964 4.2132592  4.29672103\n",
      " 4.37693287 4.45391539 4.52767992 4.59823263 4.6655769  4.72971455\n",
      " 4.79064658 4.84837353 4.90289569 4.95421322 5.00232621 5.04723472\n",
      " 5.08893877 5.12743839 5.16273359 5.19482437 5.22371075 5.24939272\n",
      " 5.2718703  5.29114348 5.30721227 5.32007667 5.32973668 5.33619229\n",
      " 5.33944353 5.33997115 5.33936904 5.33787084 5.33552701 5.33235975\n",
      " 5.32837974 5.3235924  5.31800058 5.31160582 5.30440894 5.29641041\n",
      " 5.28761047 5.27800926 5.26760686 5.25640331 5.24439864 5.23159284\n",
      " 5.21798594 5.20357794 5.18836883 5.17235862 5.15554731 5.13793491\n",
      " 5.1195214  5.1003068  5.0802911  5.05947431 5.03785642 5.01543743\n",
      " 4.99221734 4.96819616 4.94337388 4.9177505  4.89132603 4.86410046\n",
      " 4.8360738  4.80724604 4.77761718 4.74718722 4.71595617 4.68392403\n",
      " 4.65109078 4.61745644 4.583021   4.54778447 4.51174684 4.47490812\n",
      " 4.43726829 4.39882737 4.35958536 4.31954225 4.27869804 4.23705274\n",
      " 4.19460633 4.15135884 4.10731024 4.06246055 4.01680977 3.97035788\n",
      " 3.9231049  3.87505083 3.82619566 3.77653939 3.72608202 3.67482356\n",
      " 3.622764   3.56990335] \n",
      "\n"
     ]
    }
   ],
   "source": [
    "print(\"Our input array Ux is of shape:\",Ux.shape)\n",
    "print(\"Our input array Uy is of shape:\",Uy.shape)\n",
    "print(\"Printing a row of Ux:\", '\\n', Ux[10,:], '\\n')\n",
    "print(\"Printing a row of Uy:\", '\\n', Uy[10,:], '\\n')"
   ]
  },
  {
   "cell_type": "markdown",
   "metadata": {},
   "source": [
    "For the rest of the analysis, we need to figure out the number of simulation step. As we know that we previsouly generated 25 simulations on Matlab and all the new simulations are appended row-wise, we can deduce it with the following computation."
   ]
  },
  {
   "cell_type": "code",
   "execution_count": 5,
   "metadata": {
    "scrolled": true
   },
   "outputs": [
    {
     "name": "stdout",
     "output_type": "stream",
     "text": [
      "We ran  25 simulations with different parameters for each simulation (parameters of the stenosis and resistance of the blood flow in the bifurcations)\n",
      "1 simulation calculate the velocities of the blood flow at  5509  different positions and at  110  different times\n"
     ]
    }
   ],
   "source": [
    "positions =5509 #We know it from the matlab code\n",
    "times = Ux.shape[1]\n",
    "simulations = int(Ux.shape[0]/positions)\n",
    "print(\"We ran \", simulations, \"simulations with different parameters for each simulation (parameters of the stenosis and resistance of the blood flow in the bifurcations)\")\n",
    "print(\"1 simulation calculate the velocities of the blood flow at \", positions, \" different positions and at \", times, \" different times\")"
   ]
  },
  {
   "cell_type": "markdown",
   "metadata": {},
   "source": [
    "## 2. Data preprocessing  <a name=\"preprocessing\"></a>"
   ]
  },
  {
   "cell_type": "markdown",
   "metadata": {},
   "source": [
    "Let's check if we have any NaN or None values in our dataframe."
   ]
  },
  {
   "cell_type": "code",
   "execution_count": 6,
   "metadata": {
    "scrolled": true
   },
   "outputs": [
    {
     "name": "stdout",
     "output_type": "stream",
     "text": [
      "0\n",
      "0\n"
     ]
    }
   ],
   "source": [
    "print(np.count_nonzero(np.isnan(Ux)))\n",
    "print(np.count_nonzero(np.isnan(Uy)))"
   ]
  },
  {
   "cell_type": "markdown",
   "metadata": {},
   "source": [
    "It seems there are no None values so we can start direclty preprocess our datasets."
   ]
  },
  {
   "cell_type": "markdown",
   "metadata": {},
   "source": [
    "ADDITIONAL IDEAS FOR PREPROCESSING\n",
    "- remove columns with 0 std dev?\n",
    "- standardization?"
   ]
  },
  {
   "cell_type": "markdown",
   "metadata": {},
   "source": [
    "Let's sample our data points into the following ratios : "
   ]
  },
  {
   "cell_type": "code",
   "execution_count": 7,
   "metadata": {},
   "outputs": [
    {
     "name": "stdout",
     "output_type": "stream",
     "text": [
      "(13750, 110) (13750, 110)\n"
     ]
    }
   ],
   "source": [
    "ratio_pts = 0.1\n",
    "ratio_time = 1\n",
    "\n",
    "new_Ux, new_Uy, new_inds = sample(Ux, Uy, ratio_pts, ratio_time)\n",
    "print(new_Ux.shape, new_Uy.shape)"
   ]
  },
  {
   "cell_type": "code",
   "execution_count": 8,
   "metadata": {},
   "outputs": [
    {
     "name": "stdout",
     "output_type": "stream",
     "text": [
      "With the sampling we got from  5509  positions to  550  positions\n",
      "With the sampling we got from  110  time steps to  110  time steps\n"
     ]
    }
   ],
   "source": [
    "new_Nu, new_Nt = get_Nu_Nt_sampled(Ux, new_Ux)\n",
    "\n",
    "print('With the sampling we got from ', 5509, ' positions to ', new_Nu, ' positions')\n",
    "print('With the sampling we got from ', 110, ' time steps to ', new_Nt, ' time steps')"
   ]
  },
  {
   "cell_type": "markdown",
   "metadata": {},
   "source": [
    "We can look at the positions of the sampled positions to make sure that we cover mostly all the important parts of the geometry of the artery :"
   ]
  },
  {
   "cell_type": "code",
   "execution_count": 9,
   "metadata": {},
   "outputs": [
    {
     "data": {
      "image/png": "[encoded data removed]",
      "text/plain": [
       "<Figure size 432x288 with 1 Axes>"
      ]
     },
     "metadata": {
      "needs_background": "light"
     },
     "output_type": "display_data"
    }
   ],
   "source": [
    "plot_sampled_coord(new_inds) "
   ]
  },
  {
   "cell_type": "markdown",
   "metadata": {},
   "source": [
    "Let's flatten our matrices into a single matrix with dimensions $((2 N_u N_t), N_s)$"
   ]
  },
  {
   "cell_type": "code",
   "execution_count": 10,
   "metadata": {},
   "outputs": [
    {
     "name": "stdout",
     "output_type": "stream",
     "text": [
      "[[0.06598187 0.25670229 0.55084151 ... 2.51511171 2.47896831 2.44227292]\n",
      " [0.01822349 0.06614118 0.13306091 ... 0.49577011 0.48856679 0.48125408]\n",
      " [0.06441595 0.25109322 0.5398679  ... 2.481933   2.44626963 2.41006156]\n",
      " ...\n",
      " [0.06643176 0.26403555 0.57958814 ... 3.08212344 3.0383942  2.99399259]\n",
      " [0.02092091 0.07525409 0.1493795  ... 0.45401539 0.44725713 0.44039752]\n",
      " [0.02068076 0.07446069 0.14793325 ... 0.45138163 0.44466495 0.43784753]]\n"
     ]
    }
   ],
   "source": [
    "print(new_Ux)"
   ]
  },
  {
   "cell_type": "code",
   "execution_count": 11,
   "metadata": {
    "scrolled": false
   },
   "outputs": [
    {
     "data": {
      "text/plain": [
       "(25, 121000)"
      ]
     },
     "execution_count": 11,
     "metadata": {},
     "output_type": "execute_result"
    }
   ],
   "source": [
    "flattened_array = flatten(new_Ux, new_Uy, ratio_pts)\n",
    "flattened_array.shape"
   ]
  },
  {
   "cell_type": "markdown",
   "metadata": {},
   "source": [
    "Let's make a sanity check that the dimension of 1 datapoint is indeed ${2 * new_{N_t} * new_{N_u})}$"
   ]
  },
  {
   "cell_type": "code",
   "execution_count": 12,
   "metadata": {},
   "outputs": [
    {
     "name": "stdout",
     "output_type": "stream",
     "text": [
      "121000\n"
     ]
    }
   ],
   "source": [
    "assert flattened_array.shape[1] == 2*new_Nt*new_Nu\n",
    "\n",
    "print(2*new_Nt*new_Nu)"
   ]
  },
  {
   "cell_type": "markdown",
   "metadata": {},
   "source": [
    "## 3. Pickle  <a name=\"pickle\"></a>"
   ]
  },
  {
   "cell_type": "markdown",
   "metadata": {},
   "source": [
    "To avoid the loading and processing steps each time we open the notebook, we will save the processed matrix \"flattened_array\" using pickle : "
   ]
  },
  {
   "cell_type": "markdown",
   "metadata": {},
   "source": [
    "Only change the following cell to change the name you want to give to the file :"
   ]
  },
  {
   "cell_type": "code",
   "execution_count": 14,
   "metadata": {},
   "outputs": [
    {
     "name": "stdout",
     "output_type": "stream",
     "text": [
      "name of the file :  processed_very_small_0.1_1\n"
     ]
    }
   ],
   "source": [
    "ratios = [0.1, 1]\n",
    "size = ['very_small', 'small', 'large']\n",
    "\n",
    "name = 'processed_'+str(size[0])+'_'+str(ratios[0])+'_'+str(ratios[1])\n",
    "\n",
    "print('name of the file : ', name)"
   ]
  },
  {
   "cell_type": "code",
   "execution_count": 15,
   "metadata": {},
   "outputs": [],
   "source": [
    "cPickle.dump( flattened_array , open( \"data/pickle/\"+name, \"wb\" ) )"
   ]
  },
  {
   "cell_type": "markdown",
   "metadata": {},
   "source": [
    "#### Start from here if you the pickle file already exist in your data folder"
   ]
  },
  {
   "cell_type": "markdown",
   "metadata": {},
   "source": [
    "Change only the following cell to change the name of the file you want to open :"
   ]
  },
  {
   "cell_type": "code",
   "execution_count": 5,
   "metadata": {},
   "outputs": [
    {
     "name": "stdout",
     "output_type": "stream",
     "text": [
      "name of the file you want to read :  processed_very_small_0.1_1\n"
     ]
    }
   ],
   "source": [
    "ratios = [0.1, 1]\n",
    "size = ['very_small', 'small', 'large']\n",
    "\n",
    "name = 'processed_'+str(size[0])+'_'+str(ratios[0])+'_'+str(ratios[1])\n",
    "\n",
    "print('name of the file you want to read : ', name)"
   ]
  },
  {
   "cell_type": "code",
   "execution_count": 6,
   "metadata": {},
   "outputs": [],
   "source": [
    "flattened_array  = cPickle.load(open(\"data/pickle/\"+name, \"rb\"))"
   ]
  },
  {
   "cell_type": "code",
   "execution_count": 7,
   "metadata": {},
   "outputs": [
    {
     "name": "stdout",
     "output_type": "stream",
     "text": [
      "[[6.59818698e-02 1.82234920e-02 6.44159502e-02 ... 2.58112106e+00\n",
      "  2.11533611e-01 3.16620553e-01]\n",
      " [5.29771523e-02 1.32216300e-02 4.90189335e-02 ... 2.48800880e+00\n",
      "  3.42929345e-01 4.11511611e-01]\n",
      " [8.25671280e-02 2.32952726e-02 6.87771891e-02 ... 4.44640887e+00\n",
      "  2.10600093e-01 1.00067820e+00]\n",
      " ...\n",
      " [1.43603561e-01 2.09712342e-02 1.51362940e-01 ... 2.59390877e+00\n",
      "  9.68726866e-01 1.00897109e+00]\n",
      " [1.99450061e-01 2.49426895e-02 1.53457337e-01 ... 1.39288807e+01\n",
      "  2.20450871e-01 1.99714008e+00]\n",
      " [6.15112608e-02 1.69973304e-02 5.70614888e-02 ... 2.99399259e+00\n",
      "  4.40397522e-01 4.37847533e-01]]\n"
     ]
    }
   ],
   "source": [
    "print(flattened_array)"
   ]
  },
  {
   "cell_type": "markdown",
   "metadata": {},
   "source": [
    "## 4. Auto-encoder  <a name=\"autoencoder\"></a>"
   ]
  },
  {
   "cell_type": "markdown",
   "metadata": {},
   "source": [
    "We split the data set into a training a testing set to be able to evaluate our autoencoder."
   ]
  },
  {
   "cell_type": "code",
   "execution_count": 20,
   "metadata": {},
   "outputs": [
    {
     "name": "stdout",
     "output_type": "stream",
     "text": [
      "(22, 121000)\n",
      "(3, 121000)\n"
     ]
    }
   ],
   "source": [
    "# Set seed \n",
    "seed = 123\n",
    "flattened_array_train, flattened_array_test = train_test_split(flattened_array, test_size=0.1, random_state=seed)\n",
    "y_train, y_test = flattened_array_train, flattened_array_test\n",
    "\n",
    "print(flattened_array_train.shape)\n",
    "print(flattened_array_test.shape)"
   ]
  },
  {
   "cell_type": "code",
   "execution_count": 21,
   "metadata": {},
   "outputs": [],
   "source": [
    "# define network parameters\n",
    "learningRate=1e-2\n",
    "epochs=50\n",
    "input_size=flattened_array_train.shape[1]\n",
    "k_folds = 5\n",
    "# Set fixed random number seed\n",
    "torch.manual_seed(42)\n",
    "# creates a criterion that measures the mean squared error (squared L2 norm) \n",
    "criterion = nn.MSELoss() "
   ]
  },
  {
   "cell_type": "code",
   "execution_count": 22,
   "metadata": {},
   "outputs": [
    {
     "name": "stdout",
     "output_type": "stream",
     "text": [
      "--------------------------------\n",
      "FOLD 0\n",
      "--------------------------------\n",
      "Epoch:1/50 Training Error:3954.720 Test Error:3380.605\n",
      "Epoch:2/50 Training Error:440.500 Test Error:386.857\n",
      "Epoch:3/50 Training Error:192.203 Test Error:116.115\n",
      "Epoch:4/50 Training Error:119.484 Test Error:132.963\n",
      "Epoch:5/50 Training Error:148.071 Test Error:99.031\n",
      "Epoch:6/50 Training Error:46.398 Test Error:47.120\n",
      "Epoch:7/50 Training Error:24.331 Test Error:16.929\n",
      "Epoch:8/50 Training Error:16.767 Test Error:10.997\n",
      "Epoch:9/50 Training Error:15.339 Test Error:7.992\n",
      "Epoch:10/50 Training Error:7.900 Test Error:4.692\n",
      "Epoch:11/50 Training Error:3.593 Test Error:2.342\n",
      "Epoch:12/50 Training Error:2.136 Test Error:1.560\n",
      "Epoch:13/50 Training Error:1.024 Test Error:1.144\n",
      "Epoch:14/50 Training Error:1.009 Test Error:1.004\n",
      "Epoch:15/50 Training Error:0.935 Test Error:0.995\n",
      "Epoch:16/50 Training Error:0.902 Test Error:1.025\n",
      "Epoch:17/50 Training Error:0.878 Test Error:0.986\n",
      "Epoch:18/50 Training Error:0.898 Test Error:0.915\n",
      "Epoch:19/50 Training Error:0.877 Test Error:0.904\n",
      "Epoch:20/50 Training Error:0.880 Test Error:0.889\n",
      "Epoch:21/50 Training Error:0.881 Test Error:0.891\n",
      "Epoch:22/50 Training Error:0.888 Test Error:0.890\n",
      "Epoch:23/50 Training Error:0.882 Test Error:0.888\n",
      "Epoch:24/50 Training Error:0.876 Test Error:0.880\n",
      "Epoch:25/50 Training Error:0.877 Test Error:0.877\n",
      "Epoch:26/50 Training Error:0.858 Test Error:0.871\n",
      "Epoch:27/50 Training Error:0.882 Test Error:0.866\n",
      "Epoch:28/50 Training Error:0.876 Test Error:0.860\n",
      "Epoch:29/50 Training Error:0.861 Test Error:0.864\n",
      "Epoch:30/50 Training Error:0.863 Test Error:0.855\n",
      "Epoch:31/50 Training Error:0.866 Test Error:0.852\n",
      "Epoch:32/50 Training Error:0.852 Test Error:0.848\n",
      "Epoch:33/50 Training Error:0.857 Test Error:0.849\n",
      "Epoch:34/50 Training Error:0.854 Test Error:0.843\n",
      "Epoch:35/50 Training Error:0.860 Test Error:0.850\n",
      "Epoch:36/50 Training Error:0.861 Test Error:0.844\n",
      "Epoch:37/50 Training Error:0.855 Test Error:0.839\n",
      "Epoch:38/50 Training Error:0.849 Test Error:0.843\n",
      "Epoch:39/50 Training Error:0.855 Test Error:0.834\n",
      "Epoch:40/50 Training Error:0.847 Test Error:0.835\n",
      "Epoch:41/50 Training Error:0.858 Test Error:0.837\n",
      "Epoch:42/50 Training Error:0.842 Test Error:0.827\n",
      "Epoch:43/50 Training Error:0.850 Test Error:0.833\n",
      "Epoch:44/50 Training Error:0.845 Test Error:0.826\n",
      "Epoch:45/50 Training Error:0.862 Test Error:0.832\n",
      "Epoch:46/50 Training Error:0.827 Test Error:0.821\n",
      "Epoch:47/50 Training Error:0.837 Test Error:0.826\n",
      "Epoch:48/50 Training Error:0.835 Test Error:0.825\n",
      "Epoch:49/50 Training Error:0.825 Test Error:0.820\n",
      "Epoch:50/50 Training Error:0.832 Test Error:0.825\n",
      "--------------------------------\n",
      "FOLD 1\n",
      "--------------------------------\n",
      "Epoch:1/50 Training Error:5984.162 Test Error:5551.932\n",
      "Epoch:2/50 Training Error:157.011 Test Error:208.324\n",
      "Epoch:3/50 Training Error:833.497 Test Error:985.047\n",
      "Epoch:4/50 Training Error:198.054 Test Error:266.098\n",
      "Epoch:5/50 Training Error:29.508 Test Error:40.530\n",
      "Epoch:6/50 Training Error:22.976 Test Error:32.952\n",
      "Epoch:7/50 Training Error:14.031 Test Error:17.854\n",
      "Epoch:8/50 Training Error:5.217 Test Error:8.629\n",
      "Epoch:9/50 Training Error:3.038 Test Error:4.153\n",
      "Epoch:10/50 Training Error:1.186 Test Error:2.168\n",
      "Epoch:11/50 Training Error:0.900 Test Error:0.948\n",
      "Epoch:12/50 Training Error:0.924 Test Error:0.946\n",
      "Epoch:13/50 Training Error:0.946 Test Error:0.961\n",
      "Epoch:14/50 Training Error:0.968 Test Error:0.971\n",
      "Epoch:15/50 Training Error:0.974 Test Error:0.894\n",
      "Epoch:16/50 Training Error:0.978 Test Error:0.964\n",
      "Epoch:17/50 Training Error:0.987 Test Error:0.925\n",
      "Epoch:18/50 Training Error:0.984 Test Error:0.943\n",
      "Epoch:19/50 Training Error:0.986 Test Error:0.963\n",
      "Epoch:20/50 Training Error:0.986 Test Error:0.984\n",
      "Epoch:21/50 Training Error:0.982 Test Error:0.989\n",
      "Epoch:22/50 Training Error:0.984 Test Error:0.989\n",
      "Epoch:23/50 Training Error:0.983 Test Error:0.988\n",
      "Epoch:24/50 Training Error:0.981 Test Error:0.987\n",
      "Epoch:25/50 Training Error:0.977 Test Error:0.986\n",
      "Epoch:26/50 Training Error:0.976 Test Error:0.985\n",
      "Epoch:27/50 Training Error:0.978 Test Error:0.984\n",
      "Epoch:28/50 Training Error:0.978 Test Error:0.984\n",
      "Epoch:29/50 Training Error:0.975 Test Error:0.983\n",
      "Epoch:30/50 Training Error:0.973 Test Error:0.982\n",
      "Epoch:31/50 Training Error:0.974 Test Error:0.981\n",
      "Epoch:32/50 Training Error:0.972 Test Error:0.980\n",
      "Epoch:33/50 Training Error:0.972 Test Error:0.980\n",
      "Epoch:34/50 Training Error:0.970 Test Error:0.979\n",
      "Epoch:35/50 Training Error:0.969 Test Error:0.978\n",
      "Epoch:36/50 Training Error:0.969 Test Error:0.977\n",
      "Epoch:37/50 Training Error:0.967 Test Error:0.977\n",
      "Epoch:38/50 Training Error:0.967 Test Error:0.976\n",
      "Epoch:39/50 Training Error:0.965 Test Error:0.975\n",
      "Epoch:40/50 Training Error:0.963 Test Error:0.974\n",
      "Epoch:41/50 Training Error:0.959 Test Error:0.974\n",
      "Epoch:42/50 Training Error:0.962 Test Error:0.973\n",
      "Epoch:43/50 Training Error:0.962 Test Error:0.972\n",
      "Epoch:44/50 Training Error:0.959 Test Error:0.971\n",
      "Epoch:45/50 Training Error:0.957 Test Error:0.971\n",
      "Epoch:46/50 Training Error:0.955 Test Error:0.970\n",
      "Epoch:47/50 Training Error:0.955 Test Error:0.969\n",
      "Epoch:48/50 Training Error:0.956 Test Error:0.968\n",
      "Epoch:49/50 Training Error:0.949 Test Error:0.968\n",
      "Epoch:50/50 Training Error:0.955 Test Error:0.967\n",
      "--------------------------------\n",
      "FOLD 2\n",
      "--------------------------------\n",
      "Epoch:1/50 Training Error:1492.069 Test Error:1490.970\n",
      "Epoch:2/50 Training Error:3909.984 Test Error:2560.737\n",
      "Epoch:3/50 Training Error:1112.973 Test Error:1219.758\n",
      "Epoch:4/50 Training Error:480.702 Test Error:422.011\n",
      "Epoch:5/50 Training Error:120.577 Test Error:138.952\n",
      "Epoch:6/50 Training Error:40.018 Test Error:43.091\n",
      "Epoch:7/50 Training Error:10.833 Test Error:14.499\n",
      "Epoch:8/50 Training Error:4.011 Test Error:5.525\n",
      "Epoch:9/50 Training Error:1.815 Test Error:2.630\n",
      "Epoch:10/50 Training Error:1.187 Test Error:1.503\n",
      "Epoch:11/50 Training Error:0.872 Test Error:1.040\n",
      "Epoch:12/50 Training Error:0.830 Test Error:0.905\n",
      "Epoch:13/50 Training Error:0.817 Test Error:0.803\n",
      "Epoch:14/50 Training Error:0.771 Test Error:0.785\n",
      "Epoch:15/50 Training Error:0.717 Test Error:0.730\n",
      "Epoch:16/50 Training Error:0.707 Test Error:0.716\n",
      "Epoch:17/50 Training Error:0.712 Test Error:0.672\n",
      "Epoch:18/50 Training Error:0.691 Test Error:0.655\n",
      "Epoch:19/50 Training Error:0.665 Test Error:0.641\n",
      "Epoch:20/50 Training Error:0.667 Test Error:0.631\n",
      "Epoch:21/50 Training Error:0.664 Test Error:0.652\n",
      "Epoch:22/50 Training Error:0.644 Test Error:0.618\n",
      "Epoch:23/50 Training Error:0.634 Test Error:0.619\n",
      "Epoch:24/50 Training Error:0.645 Test Error:0.630\n",
      "Epoch:25/50 Training Error:0.641 Test Error:0.618\n",
      "Epoch:26/50 Training Error:0.622 Test Error:0.628\n",
      "Epoch:27/50 Training Error:0.719 Test Error:0.584\n",
      "Epoch:28/50 Training Error:0.622 Test Error:0.604\n",
      "Epoch:29/50 Training Error:0.638 Test Error:0.582\n",
      "Epoch:30/50 Training Error:0.628 Test Error:0.591\n",
      "Epoch:31/50 Training Error:0.589 Test Error:0.602\n",
      "Epoch:32/50 Training Error:0.637 Test Error:0.591\n",
      "Epoch:33/50 Training Error:0.613 Test Error:0.592\n",
      "Epoch:34/50 Training Error:0.629 Test Error:0.586\n",
      "Epoch:35/50 Training Error:0.631 Test Error:0.577\n",
      "Epoch:36/50 Training Error:0.596 Test Error:0.595\n",
      "Epoch:37/50 Training Error:0.635 Test Error:0.583\n",
      "Epoch:38/50 Training Error:0.616 Test Error:0.583\n",
      "Epoch:39/50 Training Error:0.604 Test Error:0.611\n",
      "Epoch:40/50 Training Error:0.602 Test Error:0.600\n",
      "Epoch:41/50 Training Error:0.620 Test Error:0.587\n",
      "Epoch:42/50 Training Error:0.582 Test Error:0.590\n",
      "Epoch:43/50 Training Error:0.649 Test Error:0.607\n",
      "Epoch:44/50 Training Error:0.585 Test Error:0.580\n",
      "Epoch:45/50 Training Error:0.590 Test Error:0.609\n",
      "Epoch:46/50 Training Error:0.623 Test Error:0.563\n",
      "Epoch:47/50 Training Error:0.591 Test Error:0.561\n",
      "Epoch:48/50 Training Error:0.613 Test Error:0.572\n",
      "Epoch:49/50 Training Error:0.601 Test Error:0.564\n",
      "Epoch:50/50 Training Error:0.616 Test Error:0.573\n",
      "--------------------------------\n",
      "FOLD 3\n",
      "--------------------------------\n",
      "Epoch:1/50 Training Error:705.280 Test Error:736.516\n",
      "Epoch:2/50 Training Error:823.984 Test Error:773.145\n",
      "Epoch:3/50 Training Error:305.450 Test Error:295.143\n",
      "Epoch:4/50 Training Error:79.346 Test Error:78.412\n",
      "Epoch:5/50 Training Error:16.309 Test Error:15.666\n",
      "Epoch:6/50 Training Error:3.197 Test Error:2.335\n",
      "Epoch:7/50 Training Error:0.933 Test Error:0.844\n"
     ]
    },
    {
     "name": "stdout",
     "output_type": "stream",
     "text": [
      "Epoch:8/50 Training Error:0.848 Test Error:0.850\n",
      "Epoch:9/50 Training Error:0.854 Test Error:0.797\n",
      "Epoch:10/50 Training Error:0.822 Test Error:0.864\n",
      "Epoch:11/50 Training Error:0.742 Test Error:0.733\n",
      "Epoch:12/50 Training Error:0.711 Test Error:0.700\n",
      "Epoch:13/50 Training Error:1.043 Test Error:0.689\n",
      "Epoch:14/50 Training Error:0.687 Test Error:0.673\n",
      "Epoch:15/50 Training Error:0.660 Test Error:0.681\n",
      "Epoch:16/50 Training Error:0.645 Test Error:0.653\n",
      "Epoch:17/50 Training Error:0.624 Test Error:0.641\n",
      "Epoch:18/50 Training Error:0.590 Test Error:0.639\n",
      "Epoch:19/50 Training Error:0.652 Test Error:0.611\n",
      "Epoch:20/50 Training Error:0.606 Test Error:0.561\n",
      "Epoch:21/50 Training Error:0.596 Test Error:0.548\n",
      "Epoch:22/50 Training Error:0.570 Test Error:0.539\n",
      "Epoch:23/50 Training Error:0.587 Test Error:0.604\n",
      "Epoch:24/50 Training Error:0.649 Test Error:0.639\n",
      "Epoch:25/50 Training Error:0.607 Test Error:0.648\n",
      "Epoch:26/50 Training Error:0.589 Test Error:0.619\n",
      "Epoch:27/50 Training Error:0.608 Test Error:0.642\n",
      "Epoch:28/50 Training Error:0.753 Test Error:0.643\n",
      "Epoch:29/50 Training Error:0.608 Test Error:0.639\n",
      "Epoch:30/50 Training Error:0.570 Test Error:0.577\n",
      "Epoch:31/50 Training Error:0.497 Test Error:0.611\n",
      "Epoch:32/50 Training Error:0.600 Test Error:0.505\n",
      "Epoch:33/50 Training Error:0.602 Test Error:0.646\n",
      "Epoch:34/50 Training Error:0.631 Test Error:0.600\n",
      "Epoch:35/50 Training Error:0.527 Test Error:0.500\n",
      "Epoch:36/50 Training Error:0.575 Test Error:0.589\n",
      "Epoch:37/50 Training Error:0.525 Test Error:0.593\n",
      "Epoch:38/50 Training Error:0.620 Test Error:0.495\n",
      "Epoch:39/50 Training Error:0.607 Test Error:0.585\n",
      "Epoch:40/50 Training Error:0.555 Test Error:0.576\n",
      "Epoch:41/50 Training Error:0.602 Test Error:0.583\n",
      "Epoch:42/50 Training Error:0.582 Test Error:0.602\n",
      "Epoch:43/50 Training Error:0.558 Test Error:0.573\n",
      "Epoch:44/50 Training Error:0.529 Test Error:0.626\n",
      "Epoch:45/50 Training Error:0.573 Test Error:0.486\n",
      "Epoch:46/50 Training Error:0.585 Test Error:0.586\n",
      "Epoch:47/50 Training Error:0.631 Test Error:0.584\n",
      "Epoch:48/50 Training Error:0.709 Test Error:0.560\n",
      "Epoch:49/50 Training Error:0.564 Test Error:0.619\n",
      "Epoch:50/50 Training Error:0.574 Test Error:0.484\n",
      "--------------------------------\n",
      "FOLD 4\n",
      "--------------------------------\n",
      "Epoch:1/50 Training Error:1372.137 Test Error:1233.098\n",
      "Epoch:2/50 Training Error:1240.738 Test Error:1048.177\n",
      "Epoch:3/50 Training Error:156.965 Test Error:153.228\n",
      "Epoch:4/50 Training Error:227.352 Test Error:211.843\n",
      "Epoch:5/50 Training Error:57.782 Test Error:58.397\n",
      "Epoch:6/50 Training Error:25.285 Test Error:23.247\n",
      "Epoch:7/50 Training Error:53.789 Test Error:39.710\n",
      "Epoch:8/50 Training Error:40.317 Test Error:30.057\n",
      "Epoch:9/50 Training Error:9.315 Test Error:8.379\n",
      "Epoch:10/50 Training Error:7.269 Test Error:7.237\n",
      "Epoch:11/50 Training Error:0.915 Test Error:1.006\n",
      "Epoch:12/50 Training Error:1.543 Test Error:1.872\n",
      "Epoch:13/50 Training Error:6.798 Test Error:6.093\n",
      "Epoch:14/50 Training Error:6.143 Test Error:6.015\n",
      "Epoch:15/50 Training Error:2.866 Test Error:2.900\n",
      "Epoch:16/50 Training Error:0.769 Test Error:0.781\n",
      "Epoch:17/50 Training Error:0.918 Test Error:0.972\n",
      "Epoch:18/50 Training Error:0.893 Test Error:0.821\n",
      "Epoch:19/50 Training Error:1.172 Test Error:0.926\n",
      "Epoch:20/50 Training Error:0.974 Test Error:0.798\n",
      "Epoch:21/50 Training Error:0.804 Test Error:0.802\n",
      "Epoch:22/50 Training Error:0.861 Test Error:0.885\n",
      "Epoch:23/50 Training Error:0.843 Test Error:0.803\n",
      "Epoch:24/50 Training Error:0.772 Test Error:0.754\n",
      "Epoch:25/50 Training Error:0.788 Test Error:0.756\n",
      "Epoch:26/50 Training Error:0.697 Test Error:0.812\n",
      "Epoch:27/50 Training Error:0.812 Test Error:0.809\n",
      "Epoch:28/50 Training Error:0.755 Test Error:0.756\n",
      "Epoch:29/50 Training Error:0.735 Test Error:0.690\n",
      "Epoch:30/50 Training Error:0.742 Test Error:0.700\n",
      "Epoch:31/50 Training Error:0.716 Test Error:0.683\n",
      "Epoch:32/50 Training Error:0.726 Test Error:0.687\n",
      "Epoch:33/50 Training Error:0.702 Test Error:0.675\n",
      "Epoch:34/50 Training Error:0.660 Test Error:0.683\n",
      "Epoch:35/50 Training Error:0.686 Test Error:0.674\n",
      "Epoch:36/50 Training Error:0.699 Test Error:0.674\n",
      "Epoch:37/50 Training Error:0.701 Test Error:0.675\n",
      "Epoch:38/50 Training Error:0.697 Test Error:0.693\n",
      "Epoch:39/50 Training Error:0.668 Test Error:0.685\n",
      "Epoch:40/50 Training Error:0.689 Test Error:0.666\n",
      "Epoch:41/50 Training Error:0.695 Test Error:0.669\n",
      "Epoch:42/50 Training Error:0.667 Test Error:0.670\n",
      "Epoch:43/50 Training Error:0.693 Test Error:0.677\n",
      "Epoch:44/50 Training Error:0.665 Test Error:0.672\n",
      "Epoch:45/50 Training Error:0.697 Test Error:0.670\n",
      "Epoch:46/50 Training Error:0.666 Test Error:0.667\n",
      "Epoch:47/50 Training Error:0.697 Test Error:0.663\n",
      "Epoch:48/50 Training Error:0.646 Test Error:0.667\n",
      "Epoch:49/50 Training Error:0.648 Test Error:0.664\n",
      "Epoch:50/50 Training Error:0.682 Test Error:0.660\n",
      "Performance of 5 fold cross validation: \n",
      "Average Training Error: 98.758 \t Average Test Error: 88.430\n"
     ]
    },
    {
     "data": {
      "image/png": "[encoded data removed]",
      "text/plain": [
       "<Figure size 720x576 with 1 Axes>"
      ]
     },
     "metadata": {
      "needs_background": "light"
     },
     "output_type": "display_data"
    },
    {
     "data": {
      "text/plain": [
       "88.43040351160401"
      ]
     },
     "execution_count": 22,
     "metadata": {},
     "output_type": "execute_result"
    }
   ],
   "source": [
    "Kfold(flattened_array, k_folds, input_size, epochs, criterion, learningRate)"
   ]
  },
  {
   "cell_type": "code",
   "execution_count": 23,
   "metadata": {},
   "outputs": [],
   "source": [
    "np.save(\"flattened_array_train.npy\", flattened_array_train)\n",
    "np.save(\"flattened_array_test.npy\", flattened_array_test)"
   ]
  },
  {
   "cell_type": "code",
   "execution_count": 24,
   "metadata": {},
   "outputs": [
    {
     "data": {
      "text/plain": [
       "array([[5.79374944e-02, 1.61304883e-02, 5.27979201e-02, ...,\n",
       "        2.98580413e+00, 4.37942717e-01, 4.43880082e-01],\n",
       "       [8.80562527e-02, 1.32214595e-02, 8.39758116e-02, ...,\n",
       "        3.65340704e+00, 6.00585421e-01, 6.54305037e-01],\n",
       "       [1.36961365e-01, 2.46560219e-02, 1.39393686e-01, ...,\n",
       "        2.93035498e+00, 3.52908163e-01, 1.08243822e+00],\n",
       "       ...,\n",
       "       [1.99450061e-01, 2.49426895e-02, 1.53457337e-01, ...,\n",
       "        1.39288807e+01, 2.20450871e-01, 1.99714008e+00],\n",
       "       [8.25671280e-02, 2.32952726e-02, 6.87771891e-02, ...,\n",
       "        4.44640887e+00, 2.10600093e-01, 1.00067820e+00],\n",
       "       [1.72451476e-01, 2.55041098e-02, 1.55721933e-01, ...,\n",
       "        1.01351448e+01, 2.53001035e-01, 6.69328491e-01]])"
      ]
     },
     "execution_count": 24,
     "metadata": {},
     "output_type": "execute_result"
    }
   ],
   "source": [
    "flattened_array_train"
   ]
  },
  {
   "cell_type": "code",
   "execution_count": 25,
   "metadata": {},
   "outputs": [
    {
     "data": {
      "text/plain": [
       "array([[5.79374944e-02, 1.61304883e-02, 5.27979201e-02, ...,\n",
       "        2.98580413e+00, 4.37942717e-01, 4.43880082e-01],\n",
       "       [8.80562527e-02, 1.32214595e-02, 8.39758116e-02, ...,\n",
       "        3.65340704e+00, 6.00585421e-01, 6.54305037e-01],\n",
       "       [1.36961365e-01, 2.46560219e-02, 1.39393686e-01, ...,\n",
       "        2.93035498e+00, 3.52908163e-01, 1.08243822e+00],\n",
       "       ...,\n",
       "       [1.99450061e-01, 2.49426895e-02, 1.53457337e-01, ...,\n",
       "        1.39288807e+01, 2.20450871e-01, 1.99714008e+00],\n",
       "       [8.25671280e-02, 2.32952726e-02, 6.87771891e-02, ...,\n",
       "        4.44640887e+00, 2.10600093e-01, 1.00067820e+00],\n",
       "       [1.72451476e-01, 2.55041098e-02, 1.55721933e-01, ...,\n",
       "        1.01351448e+01, 2.53001035e-01, 6.69328491e-01]])"
      ]
     },
     "execution_count": 25,
     "metadata": {},
     "output_type": "execute_result"
    }
   ],
   "source": [
    "flattened_array_train = np.load(\"flattened_array_train.npy\")\n",
    "flattened_array_train"
   ]
  },
  {
   "cell_type": "code",
   "execution_count": 27,
   "metadata": {},
   "outputs": [
    {
     "ename": "ModuleNotFoundError",
     "evalue": "No module named 'ray'",
     "output_type": "error",
     "traceback": [
      "\u001b[1;31m---------------------------------------------------------------------------\u001b[0m",
      "\u001b[1;31mModuleNotFoundError\u001b[0m                       Traceback (most recent call last)",
      "\u001b[1;32m~\\AppData\\Local\\Temp/ipykernel_10816/1694345351.py\u001b[0m in \u001b[0;36m<module>\u001b[1;34m\u001b[0m\n\u001b[0;32m      5\u001b[0m \u001b[1;32mfrom\u001b[0m \u001b[0mtorchvision\u001b[0m \u001b[1;32mimport\u001b[0m \u001b[0mdatasets\u001b[0m\u001b[1;33m,\u001b[0m \u001b[0mtransforms\u001b[0m\u001b[1;33m\u001b[0m\u001b[1;33m\u001b[0m\u001b[0m\n\u001b[0;32m      6\u001b[0m \u001b[1;33m\u001b[0m\u001b[0m\n\u001b[1;32m----> 7\u001b[1;33m \u001b[1;32mfrom\u001b[0m \u001b[0mray\u001b[0m \u001b[1;32mimport\u001b[0m \u001b[0mtune\u001b[0m\u001b[1;33m\u001b[0m\u001b[1;33m\u001b[0m\u001b[0m\n\u001b[0m\u001b[0;32m      8\u001b[0m \u001b[1;32mfrom\u001b[0m \u001b[0mray\u001b[0m\u001b[1;33m.\u001b[0m\u001b[0mtune\u001b[0m\u001b[1;33m.\u001b[0m\u001b[0mschedulers\u001b[0m \u001b[1;32mimport\u001b[0m \u001b[0mASHAScheduler\u001b[0m\u001b[1;33m\u001b[0m\u001b[1;33m\u001b[0m\u001b[0m\n\u001b[0;32m      9\u001b[0m \u001b[1;33m\u001b[0m\u001b[0m\n",
      "\u001b[1;31mModuleNotFoundError\u001b[0m: No module named 'ray'"
     ]
    }
   ],
   "source": [
    "import torch.optim as optim\n",
    "import torch.nn as nn\n",
    "from torch.utils.data import DataLoader\n",
    "import torch.nn.functional as F\n",
    "from torchvision import datasets, transforms\n",
    "\n",
    "from ray import tune\n",
    "from ray.tune.schedulers import ASHAScheduler\n",
    "\n",
    "search_space = {\n",
    "    \"lr\": tune.sample_from(lambda spec: 10**(-10 * np.random.rand())),\n",
    "    \"epochs\": tune.uniform(1, 9)\n",
    "}\n",
    "\n",
    "# Uncomment this to enable distributed execution\n",
    "# `ray.init(address=\"auto\")`\n",
    "\n",
    "# Download the dataset first\n",
    "analysis = tune.run(tuning, config=search_space, fail_fast=\"raise\", stop={\"training_iteration\": 10})\n",
    "\n",
    "# Obtain a trial dataframe from all run trials of this `tune.run` call.\n",
    "dfs = analysis.trial_dataframes"
   ]
  },
  {
   "cell_type": "markdown",
   "metadata": {},
   "source": [
    "## 4. Passer en 2D "
   ]
  },
  {
   "cell_type": "markdown",
   "metadata": {},
   "source": [
    "## 5. Hyper-parameters and physics parameters relationship"
   ]
  },
  {
   "cell_type": "markdown",
   "metadata": {},
   "source": [
    "## 6. Discussion & conclusion"
   ]
  },
  {
   "cell_type": "code",
   "execution_count": null,
   "metadata": {},
   "outputs": [],
   "source": []
  }
 ],
 "metadata": {
  "kernelspec": {
   "display_name": "Python 3 (ipykernel)",
   "language": "python",
   "name": "python3"
  },
  "language_info": {
   "codemirror_mode": {
    "name": "ipython",
    "version": 3
   },
   "file_extension": ".py",
   "mimetype": "text/x-python",
   "name": "python",
   "nbconvert_exporter": "python",
   "pygments_lexer": "ipython3",
   "version": "3.8.8"
  }
 },
 "nbformat": 4,
 "nbformat_minor": 4
}
