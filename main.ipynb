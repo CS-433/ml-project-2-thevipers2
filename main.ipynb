{
 "cells": [
  {
   "cell_type": "markdown",
   "metadata": {},
   "source": [
    "# Machine Learning - Project 2:\n",
    "# _Autoencoder for mathematical modeling of blood flow in a stenosis context_"
   ]
  },
  {
   "cell_type": "markdown",
   "metadata": {},
   "source": [
    "## Context"
   ]
  },
  {
   "cell_type": "markdown",
   "metadata": {},
   "source": [
    "In this project, we are going to analyze data derived from..."
   ]
  },
  {
   "cell_type": "markdown",
   "metadata": {},
   "source": [
    "Our goals:\n",
    "1. modeliser mathématiquement l’écoulement sanguin à l’aide de PDE dépendante de 2-3 paramètres physique\n",
    "2. simuler l’écoulement par un code d’éléments fini ou similaire\n",
    "3. générer beaucoup de solutions avec une grande nombre de paramètres différents. (Les 2-3, pris de façon aléatoire)\n",
    "4. a. utiliser les solutions numérique pour établir un auto encoder qui au milieu n’ai que 2-5 hyper-paramètres libres  \n",
    "b. quel erreur on obtient ? Est-ce possible de réduire le nombre d’hyper-paramètres ?\n",
    "5. étudier s’il y a une rélation entre les 2-5 hyper-paramètre et les paramètres physique  \n",
    "a. à l’aide de statistiques\n",
    "5. b. à l’aide d’un DNN (différent de 4a)\n",
    "6. (optionnel) faire un DNN entre l’input de 4a et output les paramêtres physique. Et/ou l’inverse.\n",
    "7. Discussion et conclusions "
   ]
  },
  {
   "cell_type": "markdown",
   "metadata": {},
   "source": [
    "Abbreviations used:\n",
    "- $N_u$ = total number of spatial points per simulation\n",
    "- $N_t$ = total number of time steps per simulation\n",
    "- $N_s$ = total number of simulations"
   ]
  },
  {
   "cell_type": "markdown",
   "metadata": {},
   "source": [
    "## Table of contents"
   ]
  },
  {
   "cell_type": "markdown",
   "metadata": {},
   "source": [
    "[1. Data exploration](#data_exploration) \n",
    "- [Imports](#1imports)\n",
    "- [Pathways](#1pathways)\n",
    "- [Loading](#1load)\n",
    "- [Exploration](#1exploration)\n",
    "\n",
    "[2. Data preprocessing](#preprocessing)\n",
    "\n",
    "[3. Pickle](#pickle)\n",
    "\n",
    "[4. Autoencoder](#autoencoder)"
   ]
  },
  {
   "cell_type": "markdown",
   "metadata": {},
   "source": [
    "### Imports  <a name=\"1imports\"></a>"
   ]
  },
  {
   "cell_type": "code",
   "execution_count": 1,
   "metadata": {},
   "outputs": [],
   "source": [
    "# Useful starting lines\n",
    "%matplotlib inline\n",
    "import numpy as np\n",
    "import matplotlib.pyplot as plt\n",
    "import pandas as pd\n",
    "from helpers import *\n",
    "from preprocessing import *\n",
    "from sklearn.model_selection import train_test_split\n",
    "from autoencoder import *\n",
    "from crossvalidation import *\n",
    "import _pickle as cPickle\n",
    "%load_ext autoreload\n",
    "%autoreload 2\n",
    "torch.manual_seed(0)\n",
    "np.random.seed(1)\n",
    "seed = 1"
   ]
  },
  {
   "cell_type": "markdown",
   "metadata": {},
   "source": [
    "## 1. Data exploration  <a name=\"data_exploration\"></a>"
   ]
  },
  {
   "cell_type": "markdown",
   "metadata": {},
   "source": [
    "### Pathways <a name=\"1pathways\"></a>"
   ]
  },
  {
   "cell_type": "code",
   "execution_count": 18,
   "metadata": {},
   "outputs": [],
   "source": [
    "DATA_PATH = 'data/'\n",
    "DATA_Ux_PATH = DATA_PATH + 'u1_very_small.csv.bz2'\n",
    "DATA_Uy_PATH = DATA_PATH + 'u2_very_small.csv.bz2'"
   ]
  },
  {
   "cell_type": "markdown",
   "metadata": {},
   "source": [
    "### Loading <a name=\"1load\"></a>"
   ]
  },
  {
   "cell_type": "markdown",
   "metadata": {},
   "source": [
    "Let's load the data which consists of 2 matrices Ux, Uy denoting the x and y coordinates of the speed."
   ]
  },
  {
   "cell_type": "code",
   "execution_count": 19,
   "metadata": {},
   "outputs": [],
   "source": [
    "# Loading\n",
    "Ux_pd = pd.read_csv(DATA_Ux_PATH, header=None)\n",
    "Uy_pd = pd.read_csv(DATA_Uy_PATH, header=None)\n",
    "# Converting from dataframe to numpy\n",
    "Ux = Ux_pd.to_numpy()\n",
    "Uy = Uy_pd.to_numpy()"
   ]
  },
  {
   "cell_type": "markdown",
   "metadata": {},
   "source": [
    "### Exploration <a name=\"1exploration\"></a>"
   ]
  },
  {
   "cell_type": "markdown",
   "metadata": {},
   "source": [
    "Let's have a closer look at our imported data sets. The columns represent the time steps and the rows represent a point of our blood vessel mesh and each 5509 row a new simulation."
   ]
  },
  {
   "cell_type": "code",
   "execution_count": 20,
   "metadata": {
    "scrolled": false
   },
   "outputs": [
    {
     "name": "stdout",
     "output_type": "stream",
     "text": [
      "Our input array Ux is of shape: (137725, 110)\n",
      "Our input array Uy is of shape: (137725, 110)\n",
      "Printing a row of Ux: \n",
      " [0.0694243  0.27537487 0.60389834 1.02538242 1.49979277 1.9813229\n",
      " 2.42318455 2.78232553 3.02371067 3.12378595 3.22605803 3.32166836\n",
      " 3.41249686 3.49946177 3.58301614 3.66339786 3.74073801 3.81511138\n",
      " 3.88656184 3.95511576 4.02078945 4.08359325 4.14353388 4.20061589\n",
      " 4.2548424  4.30621561 4.35473712 4.40040807 4.44322934 4.48320158\n",
      " 4.52032526 4.55460075 4.58602833 4.61460821 4.64034055 4.66322547\n",
      " 4.68326307 4.70045341 4.71479655 4.72629252 4.73494137 4.7407431\n",
      " 4.74369775 4.74423086 4.74375285 4.74246986 4.74042825 4.73764939\n",
      " 4.73414407 4.72991811 4.7249748  4.71931611 4.71294324 4.70585693\n",
      " 4.6980577  4.68954587 4.68032167 4.67038525 4.65973675 4.64837623\n",
      " 4.63630377 4.6235194  4.61002317 4.5958151  4.5808952  4.5652635\n",
      " 4.54892001 4.53186473 4.51409767 4.49561883 4.47642823 4.45652585\n",
      " 4.43591171 4.41458581 4.39254814 4.36979872 4.34633752 4.32216457\n",
      " 4.29727986 4.27168339 4.24537516 4.21835516 4.19062341 4.1621799\n",
      " 4.13302463 4.1031576  4.07257881 4.04128826 4.00928595 3.97657188\n",
      " 3.94314606 3.90900847 3.87415912 3.83859802 3.80232515 3.76534053\n",
      " 3.72764415 3.689236   3.6501161  3.61028444 3.56974102 3.52848584\n",
      " 3.4865189  3.4438402  3.40044974 3.35634752 3.31153355 3.26600781\n",
      " 3.21977031 3.17282106] \n",
      "\n",
      "Printing a row of Uy: \n",
      " [0.00067075 0.00314395 0.0081191  0.01585384 0.02617912 0.0385416\n",
      " 0.05208035 0.06573238 0.07835575 0.08885756 0.09779466 0.10544569\n",
      " 0.1120431  0.11779068 0.12286148 0.12739624 0.13150532 0.13527295\n",
      " 0.13876218 0.14201954 0.14507906 0.14796547 0.15069666 0.15328552\n",
      " 0.15574136 0.15807087 0.16027887 0.16236883 0.16434326 0.16620397\n",
      " 0.16795225 0.16958906 0.17111508 0.1725308  0.17383659 0.1750327\n",
      " 0.17611934 0.17709663 0.17796468 0.17872356 0.17937332 0.17991401\n",
      " 0.18034566 0.1806724  0.18091083 0.18107502 0.18117609 0.18122281\n",
      " 0.18122208 0.18117917 0.18109807 0.18098175 0.1808324  0.18065161\n",
      " 0.18044053 0.18020003 0.17993069 0.17963297 0.17930717 0.17895353\n",
      " 0.17857222 0.17816334 0.177727   0.17726324 0.17677213 0.17625368\n",
      " 0.17570793 0.17513488 0.17453457 0.17390698 0.17325214 0.17257004\n",
      " 0.17186069 0.17112409 0.17036024 0.16956915 0.16875082 0.16790524\n",
      " 0.16703242 0.16613236 0.16520505 0.16425051 0.16326872 0.16225969\n",
      " 0.16122342 0.1601599  0.15906915 0.15795116 0.15680592 0.15563344\n",
      " 0.15443372 0.15320676 0.15195256 0.15067112 0.14936244 0.14802651\n",
      " 0.14666335 0.14527294 0.14385529 0.14241041 0.14093828 0.1394389\n",
      " 0.13791229 0.13635844 0.13477734 0.13316901 0.13153343 0.12987061\n",
      " 0.12818056 0.12646326] \n",
      "\n"
     ]
    }
   ],
   "source": [
    "print(\"Our input array Ux is of shape:\",Ux.shape)\n",
    "print(\"Our input array Uy is of shape:\",Uy.shape)\n",
    "print(\"Printing a row of Ux:\", '\\n', Ux[10,:], '\\n')\n",
    "print(\"Printing a row of Uy:\", '\\n', Uy[10,:], '\\n')"
   ]
  },
  {
   "cell_type": "markdown",
   "metadata": {},
   "source": [
    "For the rest of the analysis, we need to figure out the number of simulation step. As we know that we previsouly generated 25 simulations on Matlab and all the new simulations are appended row-wise, we can deduce it with the following computation."
   ]
  },
  {
   "cell_type": "code",
   "execution_count": 21,
   "metadata": {
    "scrolled": true
   },
   "outputs": [
    {
     "name": "stdout",
     "output_type": "stream",
     "text": [
      "We ran  25 simulations with different parameters for each simulation (parameters of the stenosis and resistance of the blood flow in the bifurcations)\n",
      "1 simulation calculate the velocities of the blood flow at  5509  different positions and at  110  different times\n"
     ]
    }
   ],
   "source": [
    "positions =5509 #We know it from the matlab code\n",
    "times = Ux.shape[1]\n",
    "simulations = int(Ux.shape[0]/positions)\n",
    "print(\"We ran \", simulations, \"simulations with different parameters for each simulation (parameters of the stenosis and resistance of the blood flow in the bifurcations)\")\n",
    "print(\"1 simulation calculate the velocities of the blood flow at \", positions, \" different positions and at \", times, \" different times\")"
   ]
  },
  {
   "cell_type": "markdown",
   "metadata": {},
   "source": [
    "## 2. Data preprocessing  <a name=\"preprocessing\"></a>"
   ]
  },
  {
   "cell_type": "markdown",
   "metadata": {},
   "source": [
    "Let's check if we have any NaN or None values in our dataframe."
   ]
  },
  {
   "cell_type": "code",
   "execution_count": 22,
   "metadata": {
    "scrolled": true
   },
   "outputs": [
    {
     "name": "stdout",
     "output_type": "stream",
     "text": [
      "0\n",
      "0\n"
     ]
    }
   ],
   "source": [
    "print(np.count_nonzero(np.isnan(Ux)))\n",
    "print(np.count_nonzero(np.isnan(Uy)))"
   ]
  },
  {
   "cell_type": "markdown",
   "metadata": {},
   "source": [
    "It seems there are no None values so we can start direclty preprocess our datasets."
   ]
  },
  {
   "cell_type": "markdown",
   "metadata": {},
   "source": [
    "ADDITIONAL IDEAS FOR PREPROCESSING\n",
    "- remove columns with 0 std dev?\n",
    "- standardization?"
   ]
  },
  {
   "cell_type": "markdown",
   "metadata": {},
   "source": [
    "Let's sample our data points into the following ratios : "
   ]
  },
  {
   "cell_type": "code",
   "execution_count": 53,
   "metadata": {},
   "outputs": [
    {
     "name": "stdout",
     "output_type": "stream",
     "text": [
      "(13750, 55) (13750, 55)\n"
     ]
    }
   ],
   "source": [
    "ratio_pts = 0.1\n",
    "ratio_time = 0.5\n",
    "\n",
    "new_Ux, new_Uy, new_inds = sample(Ux, Uy, ratio_pts, ratio_time)\n",
    "print(new_Ux.shape, new_Uy.shape)"
   ]
  },
  {
   "cell_type": "code",
   "execution_count": 54,
   "metadata": {},
   "outputs": [
    {
     "name": "stdout",
     "output_type": "stream",
     "text": [
      "With the sampling we got from  5509  positions to  550  positions\n",
      "With the sampling we got from  110  time steps to  55  time steps\n"
     ]
    }
   ],
   "source": [
    "new_Nu, new_Nt = get_Nu_Nt_sampled(Ux, new_Ux)\n",
    "\n",
    "print('With the sampling we got from ', 5509, ' positions to ', new_Nu, ' positions')\n",
    "print('With the sampling we got from ', 110, ' time steps to ', new_Nt, ' time steps')"
   ]
  },
  {
   "cell_type": "markdown",
   "metadata": {},
   "source": [
    "We can look at the positions of the sampled positions to make sure that we cover mostly all the important parts of the geometry of the artery :"
   ]
  },
  {
   "cell_type": "code",
   "execution_count": 55,
   "metadata": {
    "scrolled": true
   },
   "outputs": [
    {
     "data": {
      "image/png": "[encoded data removed]",
      "text/plain": [
       "<Figure size 648x360 with 1 Axes>"
      ]
     },
     "metadata": {
      "needs_background": "light"
     },
     "output_type": "display_data"
    }
   ],
   "source": [
    "plot_sampled_coord(new_inds) "
   ]
  },
  {
   "cell_type": "code",
   "execution_count": 26,
   "metadata": {},
   "outputs": [
    {
     "name": "stdout",
     "output_type": "stream",
     "text": [
      "[[0.05835955 0.49017009 1.1771073  ... 2.3972929  2.33386954 2.26842866]\n",
      " [0.01521457 0.10728349 0.22658085 ... 0.34120634 0.33186228 0.32222659]\n",
      " [0.05227898 0.43588769 1.03893716 ... 2.03544675 1.98129714 1.92543036]\n",
      " ...\n",
      " [0.08793295 0.77062365 1.91659264 ... 4.29471327 4.18221467 4.06611756]\n",
      " [0.04154516 0.28052928 0.56214566 ... 0.6288614  0.61074307 0.59207462]\n",
      " [0.05565444 0.41835948 0.93252481 ... 1.679056   1.63414775 1.58781946]]\n"
     ]
    }
   ],
   "source": [
    "print(new_Ux)"
   ]
  },
  {
   "cell_type": "markdown",
   "metadata": {},
   "source": [
    "Let's flatten our matrices into a single matrix with dimensions $(N_s, (2 N_u N_t))$. For each simulation, the x and y speed coordinates are compressed to the following 1D matrix:\n",
    "\n",
    "$$\n",
    "\\mathbf{M_{1D}}\n",
    "=\n",
    "\\begin{bmatrix}\n",
    "\\vdots \\\\\n",
    "u_{x}^{(0)} \\\\\n",
    "\\vdots \\\\\n",
    "u_{y}^{(0)} \\\\\n",
    "\\vdots \\\\\n",
    "u_{x}^{(1)} \\\\\n",
    "\\vdots \\\\\n",
    "u_{y}^{(1)} \\\\\n",
    "\\vdots \\\\\n",
    "u_{x}^{(N_t - 1)} \\\\\n",
    "\\vdots \\\\\n",
    "u_{y}^{(N_t - 1)} \\\\\n",
    "\\vdots \n",
    "\\end{bmatrix}\n",
    "$$\n",
    "\n"
   ]
  },
  {
   "cell_type": "code",
   "execution_count": 27,
   "metadata": {
    "scrolled": false
   },
   "outputs": [
    {
     "data": {
      "text/plain": [
       "(25, 60500)"
      ]
     },
     "execution_count": 27,
     "metadata": {},
     "output_type": "execute_result"
    }
   ],
   "source": [
    "flattened_array = flatten(new_Ux, new_Uy, ratio_pts)\n",
    "flattened_array.shape"
   ]
  },
  {
   "cell_type": "markdown",
   "metadata": {},
   "source": [
    "Let's make a sanity check that the dimension of 1 datapoint is indeed ${2 * new_{N_t} * new_{N_u}}$."
   ]
  },
  {
   "cell_type": "code",
   "execution_count": 28,
   "metadata": {},
   "outputs": [
    {
     "name": "stdout",
     "output_type": "stream",
     "text": [
      "60500\n"
     ]
    }
   ],
   "source": [
    "assert flattened_array.shape[1] == 2*new_Nt*new_Nu\n",
    "\n",
    "print(2*new_Nt*new_Nu)"
   ]
  },
  {
   "cell_type": "markdown",
   "metadata": {},
   "source": [
    "## 3. Pickle  <a name=\"pickle\"></a>"
   ]
  },
  {
   "cell_type": "markdown",
   "metadata": {},
   "source": [
    "To avoid the loading and processing steps each time we open the notebook, we will save the processed matrix \"flattened_array\" using pickle : "
   ]
  },
  {
   "cell_type": "markdown",
   "metadata": {},
   "source": [
    "In the following cell, we will create pickles for every subsampled data according to the ratios_pts and the ratios_t :"
   ]
  },
  {
   "cell_type": "code",
   "execution_count": 14,
   "metadata": {},
   "outputs": [],
   "source": [
    "'''\n",
    "ratios_pts = [0.1, 0.05, 0.02]\n",
    "ratios_t = [0.5, 0.25, 0.1]\n",
    "\n",
    "create_subsamples(Ux, Uy, ratios_pts, ratios_t, name_file='middle_small')\n",
    "'''"
   ]
  },
  {
   "cell_type": "markdown",
   "metadata": {},
   "source": [
    "#### Start from here if you the pickle file already exist in your data folder"
   ]
  },
  {
   "cell_type": "markdown",
   "metadata": {},
   "source": [
    "Change only the following cell to change the name of the file you want to open :"
   ]
  },
  {
   "cell_type": "code",
   "execution_count": 78,
   "metadata": {},
   "outputs": [
    {
     "name": "stdout",
     "output_type": "stream",
     "text": [
      "name of the file you want to read :  processed_middle_small_0.1_0.5\n"
     ]
    }
   ],
   "source": [
    "ratios = [0.1, 0.5]\n",
    "size = ['very_small', 'middle_small', 'small']\n",
    "\n",
    "name = 'processed_'+str(size[1])+'_'+str(ratios[0])+'_'+str(ratios[1])\n",
    "\n",
    "print('name of the file you want to read : ', name)"
   ]
  },
  {
   "cell_type": "code",
   "execution_count": 79,
   "metadata": {},
   "outputs": [],
   "source": [
    "flattened_array  = cPickle.load(open(\"data/pickle/\"+str(size[1])+\"/\"+name, \"rb\"))"
   ]
  },
  {
   "cell_type": "code",
   "execution_count": 80,
   "metadata": {},
   "outputs": [
    {
     "name": "stdout",
     "output_type": "stream",
     "text": [
      "[[ 6.59818698e-02  1.82234920e-02  6.44159502e-02 ...  1.03034493e+00\n",
      "  -9.73947264e-03 -1.67477632e-02]\n",
      " [ 5.29771523e-02  1.32216300e-02  4.90189335e-02 ...  9.93200215e-01\n",
      "   5.02639122e-03  1.41599883e-03]\n",
      " [ 8.25671280e-02  2.32952726e-02  6.87771891e-02 ...  1.77500861e+00\n",
      "   3.44533164e-04  1.81417079e-02]\n",
      " ...\n",
      " [ 2.19606656e-01  2.55903473e-02  2.29397872e-01 ...  1.46759534e+00\n",
      "   7.42708226e-02 -1.34336791e-02]\n",
      " [ 2.41341112e-01  5.06083120e-02  2.15209040e-01 ...  4.44840207e+00\n",
      "   4.35858394e-02  2.36892166e-02]\n",
      " [ 6.98710694e-02  1.96083000e-02  6.43463295e-02 ...  1.38366628e+00\n",
      "  -1.23426650e-03  1.73919218e-03]]\n"
     ]
    }
   ],
   "source": [
    "print(flattened_array)"
   ]
  },
  {
   "cell_type": "markdown",
   "metadata": {},
   "source": [
    "##### Final step : split train/test\n",
    "\n",
    "We split the data set into a training a testing set to be able to evaluate our autoencoder."
   ]
  },
  {
   "cell_type": "code",
   "execution_count": 81,
   "metadata": {},
   "outputs": [
    {
     "name": "stdout",
     "output_type": "stream",
     "text": [
      "(157, 60500)\n",
      "(18, 60500)\n"
     ]
    }
   ],
   "source": [
    "x_train, x_test = train_test_split(flattened_array, test_size=0.1, random_state=seed)\n",
    "y_train, y_test = x_train, x_test\n",
    "\n",
    "print(x_train.shape)\n",
    "print(x_test.shape)"
   ]
  },
  {
   "cell_type": "markdown",
   "metadata": {},
   "source": [
    "## 4. Feed-forward auto-encoder  <a name=\"autoencoder\"></a>"
   ]
  },
  {
   "cell_type": "markdown",
   "metadata": {},
   "source": [
    "#### Parameters tuning"
   ]
  },
  {
   "cell_type": "markdown",
   "metadata": {},
   "source": [
    "Find the best learning rate of our model using cross-validation :"
   ]
  },
  {
   "cell_type": "code",
   "execution_count": null,
   "metadata": {},
   "outputs": [],
   "source": []
  },
  {
   "cell_type": "code",
   "execution_count": null,
   "metadata": {},
   "outputs": [],
   "source": [
    "plt.plot(learning_rates, results, 'bo')\n",
    "plt.plot(best_learning_rate, best_result, 'ro', markersize=8, label = 'Best learning rate :'+str(best_learning_rate)+ endl +'error : ' + str(round(best_result, 3)))\n",
    "plt.xlabel('Learning rate') ; plt.ylabel('Test error')\n",
    "title = 'Average test error on the ' + str(k_folds) + '-fold for different learning rates'\n",
    "plt.title(title)\n",
    "plt.legend()\n",
    "plt.savefig(\"Learning_rate_tuning_\"+dataset_name_)\n",
    "plt.show()"
   ]
  },
  {
   "cell_type": "code",
   "execution_count": 82,
   "metadata": {},
   "outputs": [],
   "source": [
    "# define network parameters\n",
    "learning_rates =[1e-2, 1e-3, 1e-4, 1e-5]\n",
    "epochs= 50\n",
    "input_size=x_train.shape[1]\n",
    "k_folds = 5\n",
    "dataset_name = \"middle_small\" #Only used to save the plot with the good name\n",
    "\n",
    "# creates a criterion that measures the mean squared error (squared L2 norm) \n",
    "criterion = nn.MSELoss()  "
   ]
  },
  {
   "cell_type": "code",
   "execution_count": 83,
   "metadata": {},
   "outputs": [
    {
     "name": "stdout",
     "output_type": "stream",
     "text": [
      "\u001b[1mLearning rate =  0.01\n",
      "\u001b[0m\n",
      "Performance of 5 fold cross validation: \n",
      "Average Training Error: 0.440 \t Average Test Error: 0.384\n",
      " \n",
      "\u001b[1mLearning rate =  0.001\n",
      "\u001b[0m\n",
      "Performance of 5 fold cross validation: \n",
      "Average Training Error: 0.405 \t Average Test Error: 0.337\n",
      " \n",
      "\u001b[1mLearning rate =  0.0001\n",
      "\u001b[0m\n",
      "Performance of 5 fold cross validation: \n",
      "Average Training Error: 0.412 \t Average Test Error: 0.374\n",
      " \n",
      "\u001b[1mLearning rate =  1e-05\n",
      "\u001b[0m\n",
      "Performance of 5 fold cross validation: \n",
      "Average Training Error: 0.630 \t Average Test Error: 0.623\n",
      " \n",
      "\u001b[0m\n",
      "Best learning rate is  0.001  with a best error of :  0.3365137743885207\n",
      "\u001b[0m\n"
     ]
    },
    {
     "data": {
      "image/png": "[encoded data removed]",
      "text/plain": [
       "<Figure size 432x288 with 1 Axes>"
      ]
     },
     "metadata": {
      "needs_background": "light"
     },
     "output_type": "display_data"
    }
   ],
   "source": [
    "best_result, best_lr = tuning_lr(x_train, k_folds, input_size, epochs, criterion, learning_rates,  dataset_name_=dataset_name)"
   ]
  },
  {
   "cell_type": "markdown",
   "metadata": {},
   "source": [
    "Find the best number of neurons in the latent space (neurons in the \"middle layer of the auto-encoder\") in the auto-encoder (which is actually the dimension of the compressed data) : "
   ]
  },
  {
   "cell_type": "code",
   "execution_count": 85,
   "metadata": {},
   "outputs": [],
   "source": [
    "# define network parameters\n",
    "lr = best_lr # from above\n",
    "epochs= 50\n",
    "input_size=x_train.shape[1]\n",
    "k_folds = 5\n",
    "number_neurons = [3, 4, 5, 6, 7, 8, 9, 10]\n",
    "dataset_name = \"middle_small\" #Only used to save the plot with the good name\n",
    "\n",
    "# creates a criterion that measures the mean squared error (squared L2 norm) \n",
    "criterion = nn.MSELoss()  "
   ]
  },
  {
   "cell_type": "code",
   "execution_count": 86,
   "metadata": {},
   "outputs": [
    {
     "name": "stdout",
     "output_type": "stream",
     "text": [
      "\u001b[1mNumber of neurons =  3\n",
      "\u001b[0m\n",
      "Performance of 5 fold cross validation: \n",
      "Average Training Error: 0.325 \t Average Test Error: 0.299\n",
      " \n",
      "\u001b[1mNumber of neurons =  4\n",
      "\u001b[0m\n",
      "Performance of 5 fold cross validation: \n",
      "Average Training Error: 0.359 \t Average Test Error: 0.446\n",
      " \n",
      "\u001b[1mNumber of neurons =  5\n",
      "\u001b[0m\n",
      "Performance of 5 fold cross validation: \n",
      "Average Training Error: 0.405 \t Average Test Error: 0.337\n",
      " \n",
      "\u001b[1mNumber of neurons =  6\n",
      "\u001b[0m\n",
      "Performance of 5 fold cross validation: \n",
      "Average Training Error: 0.367 \t Average Test Error: 0.354\n",
      " \n",
      "\u001b[1mNumber of neurons =  7\n",
      "\u001b[0m\n",
      "Performance of 5 fold cross validation: \n",
      "Average Training Error: 0.442 \t Average Test Error: 0.384\n",
      " \n",
      "\u001b[1mNumber of neurons =  8\n",
      "\u001b[0m\n",
      "Performance of 5 fold cross validation: \n",
      "Average Training Error: 0.382 \t Average Test Error: 0.352\n",
      " \n",
      "\u001b[1mNumber of neurons =  9\n",
      "\u001b[0m\n",
      "Performance of 5 fold cross validation: \n",
      "Average Training Error: 0.367 \t Average Test Error: 0.389\n",
      " \n",
      "\u001b[1mNumber of neurons =  10\n",
      "\u001b[0m\n",
      "Performance of 5 fold cross validation: \n",
      "Average Training Error: 0.421 \t Average Test Error: 0.424\n",
      " \n",
      "The results obtained for the number of latent neurons tested are the following : [0.2990264595279274, 0.44611387895312193, 0.3365137743885207, 0.35449889616077296, 0.38354117606993643, 0.35214343139316145, 0.38886198664536337, 0.42387013788043115].\n",
      "The best average test error obtained is 0.2990264595279274, and it is obtained with 3 neurons in the latent layer.\n"
     ]
    },
    {
     "data": {
      "image/png": "[encoded data removed]",
      "text/plain": [
       "<Figure size 432x288 with 1 Axes>"
      ]
     },
     "metadata": {
      "needs_background": "light"
     },
     "output_type": "display_data"
    }
   ],
   "source": [
    "best_result, best_neurons_nb = tuning_latent_layer(x_train, k_folds, input_size, epochs, criterion, lr, number_neurons,  dataset_name_=dataset_name)"
   ]
  },
  {
   "cell_type": "markdown",
   "metadata": {},
   "source": [
    "#### Let's try with the tuned parameters and see how it goes along the epochs"
   ]
  },
  {
   "cell_type": "code",
   "execution_count": 87,
   "metadata": {},
   "outputs": [],
   "source": [
    "# define network parameters\n",
    "learningRate= best_lr\n",
    "epochs=50\n",
    "input_size=x_train.shape[1]\n",
    "k_folds = 3\n",
    "neuron_ = 3\n",
    "\n",
    "# creates a criterion that measures the mean squared error (squared L2 norm) \n",
    "criterion = nn.MSELoss() "
   ]
  },
  {
   "cell_type": "code",
   "execution_count": 88,
   "metadata": {},
   "outputs": [
    {
     "name": "stdout",
     "output_type": "stream",
     "text": [
      "--------------------------------\n",
      "FOLD 0\n",
      "--------------------------------\n",
      "Epoch:1/50 Training Error:0.926 Test Error:0.928\n",
      "Epoch:2/50 Training Error:0.630 Test Error:0.480\n",
      "Epoch:3/50 Training Error:0.465 Test Error:0.438\n",
      "Epoch:4/50 Training Error:0.429 Test Error:0.394\n",
      "Epoch:5/50 Training Error:0.436 Test Error:0.442\n",
      "Epoch:6/50 Training Error:0.455 Test Error:0.405\n",
      "Epoch:7/50 Training Error:0.383 Test Error:0.373\n",
      "Epoch:8/50 Training Error:0.409 Test Error:0.385\n",
      "Epoch:9/50 Training Error:0.357 Test Error:0.407\n",
      "Epoch:10/50 Training Error:0.364 Test Error:0.415\n",
      "Epoch:11/50 Training Error:0.389 Test Error:0.367\n",
      "Epoch:12/50 Training Error:0.352 Test Error:0.364\n",
      "Epoch:13/50 Training Error:0.349 Test Error:0.388\n",
      "Epoch:14/50 Training Error:0.329 Test Error:0.356\n",
      "Epoch:15/50 Training Error:0.389 Test Error:0.371\n",
      "Epoch:16/50 Training Error:0.417 Test Error:0.363\n",
      "Epoch:17/50 Training Error:0.330 Test Error:0.532\n",
      "Epoch:18/50 Training Error:0.340 Test Error:0.340\n",
      "Epoch:19/50 Training Error:0.304 Test Error:0.336\n",
      "Epoch:20/50 Training Error:0.332 Test Error:0.368\n",
      "Epoch:21/50 Training Error:0.325 Test Error:0.359\n",
      "Epoch:22/50 Training Error:0.400 Test Error:0.344\n",
      "Epoch:23/50 Training Error:0.338 Test Error:0.440\n",
      "Epoch:24/50 Training Error:0.432 Test Error:0.343\n",
      "Epoch:25/50 Training Error:0.251 Test Error:0.430\n",
      "Epoch:26/50 Training Error:0.333 Test Error:0.294\n",
      "Epoch:27/50 Training Error:0.365 Test Error:0.337\n",
      "Epoch:28/50 Training Error:0.312 Test Error:0.414\n",
      "Epoch:29/50 Training Error:0.302 Test Error:0.340\n",
      "Epoch:30/50 Training Error:0.347 Test Error:0.253\n",
      "Epoch:31/50 Training Error:0.461 Test Error:0.395\n",
      "Epoch:32/50 Training Error:0.432 Test Error:0.330\n",
      "Epoch:33/50 Training Error:0.368 Test Error:0.347\n",
      "Epoch:34/50 Training Error:0.417 Test Error:0.396\n",
      "Epoch:35/50 Training Error:0.303 Test Error:0.678\n",
      "Epoch:36/50 Training Error:0.339 Test Error:0.278\n",
      "Epoch:37/50 Training Error:0.410 Test Error:0.370\n",
      "Epoch:38/50 Training Error:0.383 Test Error:0.389\n",
      "Epoch:39/50 Training Error:0.334 Test Error:0.386\n",
      "Epoch:40/50 Training Error:0.398 Test Error:0.288\n",
      "Epoch:41/50 Training Error:0.338 Test Error:0.376\n",
      "Epoch:42/50 Training Error:0.375 Test Error:0.400\n",
      "Epoch:43/50 Training Error:0.350 Test Error:0.396\n",
      "Epoch:44/50 Training Error:0.431 Test Error:0.340\n",
      "Epoch:45/50 Training Error:0.387 Test Error:0.273\n",
      "Epoch:46/50 Training Error:0.331 Test Error:0.491\n",
      "Epoch:47/50 Training Error:0.390 Test Error:0.356\n",
      "Epoch:48/50 Training Error:0.345 Test Error:0.424\n",
      "Epoch:49/50 Training Error:0.339 Test Error:0.429\n",
      "Epoch:50/50 Training Error:0.477 Test Error:0.430\n",
      "--------------------------------\n",
      "FOLD 1\n",
      "--------------------------------\n",
      "Epoch:1/50 Training Error:0.914 Test Error:0.920\n",
      "Epoch:2/50 Training Error:0.482 Test Error:0.482\n",
      "Epoch:3/50 Training Error:0.412 Test Error:0.367\n",
      "Epoch:4/50 Training Error:0.460 Test Error:0.369\n",
      "Epoch:5/50 Training Error:0.400 Test Error:0.379\n",
      "Epoch:6/50 Training Error:0.421 Test Error:0.341\n",
      "Epoch:7/50 Training Error:0.385 Test Error:0.350\n",
      "Epoch:8/50 Training Error:0.453 Test Error:0.358\n",
      "Epoch:9/50 Training Error:0.396 Test Error:0.346\n",
      "Epoch:10/50 Training Error:0.384 Test Error:0.355\n",
      "Epoch:11/50 Training Error:0.360 Test Error:0.310\n",
      "Epoch:12/50 Training Error:0.434 Test Error:0.339\n",
      "Epoch:13/50 Training Error:0.363 Test Error:0.332\n",
      "Epoch:14/50 Training Error:0.347 Test Error:0.341\n",
      "Epoch:15/50 Training Error:0.417 Test Error:0.396\n",
      "Epoch:16/50 Training Error:0.369 Test Error:0.299\n",
      "Epoch:17/50 Training Error:0.408 Test Error:0.336\n",
      "Epoch:18/50 Training Error:0.383 Test Error:0.307\n",
      "Epoch:19/50 Training Error:0.330 Test Error:0.303\n",
      "Epoch:20/50 Training Error:0.372 Test Error:0.276\n",
      "Epoch:21/50 Training Error:0.411 Test Error:0.245\n",
      "Epoch:22/50 Training Error:0.417 Test Error:0.332\n",
      "Epoch:23/50 Training Error:0.406 Test Error:0.267\n",
      "Epoch:24/50 Training Error:0.428 Test Error:0.318\n",
      "Epoch:25/50 Training Error:0.340 Test Error:0.298\n",
      "Epoch:26/50 Training Error:0.346 Test Error:0.291\n",
      "Epoch:27/50 Training Error:0.415 Test Error:0.323\n",
      "Epoch:28/50 Training Error:0.442 Test Error:0.335\n",
      "Epoch:29/50 Training Error:0.462 Test Error:0.268\n",
      "Epoch:30/50 Training Error:0.428 Test Error:0.230\n",
      "Epoch:31/50 Training Error:0.428 Test Error:0.360\n",
      "Epoch:32/50 Training Error:0.440 Test Error:0.340\n",
      "Epoch:33/50 Training Error:0.405 Test Error:0.286\n",
      "Epoch:34/50 Training Error:0.343 Test Error:0.261\n",
      "Epoch:35/50 Training Error:0.411 Test Error:0.274\n",
      "Epoch:36/50 Training Error:0.364 Test Error:0.328\n",
      "Epoch:37/50 Training Error:0.360 Test Error:0.284\n",
      "Epoch:38/50 Training Error:0.392 Test Error:0.269\n",
      "Epoch:39/50 Training Error:0.364 Test Error:0.294\n",
      "Epoch:40/50 Training Error:0.460 Test Error:0.236\n",
      "Epoch:41/50 Training Error:0.407 Test Error:0.299\n",
      "Epoch:42/50 Training Error:0.436 Test Error:0.256\n",
      "Epoch:43/50 Training Error:0.375 Test Error:0.247\n",
      "Epoch:44/50 Training Error:0.370 Test Error:0.376\n",
      "Epoch:45/50 Training Error:0.345 Test Error:0.266\n",
      "Epoch:46/50 Training Error:0.323 Test Error:0.269\n",
      "Epoch:47/50 Training Error:0.358 Test Error:0.321\n",
      "Epoch:48/50 Training Error:0.400 Test Error:0.229\n",
      "Epoch:49/50 Training Error:0.411 Test Error:0.254\n",
      "Epoch:50/50 Training Error:0.648 Test Error:0.296\n",
      "--------------------------------\n",
      "FOLD 2\n",
      "--------------------------------\n",
      "Epoch:1/50 Training Error:0.774 Test Error:0.778\n",
      "Epoch:2/50 Training Error:0.469 Test Error:0.491\n",
      "Epoch:3/50 Training Error:0.368 Test Error:0.457\n",
      "Epoch:4/50 Training Error:0.373 Test Error:0.396\n",
      "Epoch:5/50 Training Error:0.388 Test Error:0.421\n",
      "Epoch:6/50 Training Error:0.417 Test Error:0.427\n",
      "Epoch:7/50 Training Error:0.357 Test Error:0.392\n",
      "Epoch:8/50 Training Error:0.377 Test Error:0.371\n",
      "Epoch:9/50 Training Error:0.348 Test Error:0.360\n",
      "Epoch:10/50 Training Error:0.337 Test Error:0.414\n",
      "Epoch:11/50 Training Error:0.401 Test Error:0.385\n",
      "Epoch:12/50 Training Error:0.358 Test Error:0.420\n",
      "Epoch:13/50 Training Error:0.317 Test Error:0.393\n",
      "Epoch:14/50 Training Error:0.343 Test Error:0.460\n",
      "Epoch:15/50 Training Error:0.328 Test Error:0.361\n",
      "Epoch:16/50 Training Error:0.333 Test Error:0.423\n",
      "Epoch:17/50 Training Error:0.309 Test Error:0.388\n",
      "Epoch:18/50 Training Error:0.332 Test Error:0.423\n",
      "Epoch:19/50 Training Error:0.306 Test Error:0.458\n",
      "Epoch:20/50 Training Error:0.318 Test Error:0.351\n",
      "Epoch:21/50 Training Error:0.283 Test Error:0.401\n",
      "Epoch:22/50 Training Error:0.420 Test Error:0.460\n",
      "Epoch:23/50 Training Error:0.308 Test Error:0.357\n",
      "Epoch:24/50 Training Error:0.407 Test Error:0.388\n",
      "Epoch:25/50 Training Error:0.322 Test Error:0.216\n",
      "Epoch:26/50 Training Error:0.346 Test Error:0.418\n",
      "Epoch:27/50 Training Error:0.517 Test Error:0.472\n",
      "Epoch:28/50 Training Error:0.364 Test Error:0.424\n",
      "Epoch:29/50 Training Error:0.292 Test Error:0.414\n",
      "Epoch:30/50 Training Error:0.372 Test Error:0.395\n",
      "Epoch:31/50 Training Error:0.306 Test Error:0.515\n",
      "Epoch:32/50 Training Error:0.421 Test Error:0.480\n",
      "Epoch:33/50 Training Error:0.332 Test Error:0.435\n",
      "Epoch:34/50 Training Error:0.326 Test Error:0.263\n",
      "Epoch:35/50 Training Error:0.326 Test Error:0.454\n",
      "Epoch:36/50 Training Error:0.340 Test Error:0.432\n",
      "Epoch:37/50 Training Error:0.306 Test Error:0.462\n",
      "Epoch:38/50 Training Error:0.371 Test Error:0.439\n",
      "Epoch:39/50 Training Error:0.332 Test Error:0.472\n",
      "Epoch:40/50 Training Error:0.342 Test Error:0.304\n",
      "Epoch:41/50 Training Error:0.336 Test Error:0.449\n",
      "Epoch:42/50 Training Error:0.413 Test Error:0.401\n",
      "Epoch:43/50 Training Error:0.329 Test Error:0.350\n",
      "Epoch:44/50 Training Error:0.333 Test Error:0.432\n",
      "Epoch:45/50 Training Error:0.353 Test Error:0.451\n",
      "Epoch:46/50 Training Error:0.359 Test Error:0.389\n",
      "Epoch:47/50 Training Error:0.322 Test Error:0.421\n",
      "Epoch:48/50 Training Error:0.333 Test Error:0.464\n",
      "Epoch:49/50 Training Error:0.439 Test Error:0.371\n",
      "Epoch:50/50 Training Error:0.324 Test Error:0.447\n",
      "Performance of 3 fold cross validation: \n",
      "Average Training Error: 0.483 \t Average Test Error: 0.391\n",
      " \n"
     ]
    },
    {
     "data": {
      "image/png": "[encoded data removed]",
      "text/plain": [
       "<Figure size 720x576 with 1 Axes>"
      ]
     },
     "metadata": {
      "needs_background": "light"
     },
     "output_type": "display_data"
    },
    {
     "data": {
      "text/plain": [
       "0.39110623576203246"
      ]
     },
     "execution_count": 88,
     "metadata": {},
     "output_type": "execute_result"
    }
   ],
   "source": [
    "Kfold(x_train, k_folds, input_size, epochs, criterion, learningRate, neuron=neuron_)"
   ]
  },
  {
   "cell_type": "markdown",
   "metadata": {},
   "source": [
    "#### Quality of the compression on the test set using the tuned parameters :"
   ]
  },
  {
   "cell_type": "markdown",
   "metadata": {},
   "source": [
    "We will now train and test our auto-encoder for different sample size of our initial dataset. To do so we will do a batch processing and store the final train and test errors. See the report to see the nice comparison table :"
   ]
  },
  {
   "cell_type": "code",
   "execution_count": 89,
   "metadata": {},
   "outputs": [
    {
     "name": "stdout",
     "output_type": "stream",
     "text": [
      "\u001b[1mTrain/Test of the sub-dataset data\\pickle\\middle_small\\processed_middle_small_0.02_0.1\u001b[0m\n",
      "Epoch:1/50 Training Error:0.167 Test Error:0.167\n",
      "Epoch:2/50 Training Error:0.130 Test Error:0.127\n",
      "Epoch:3/50 Training Error:0.122 Test Error:0.117\n",
      "Epoch:4/50 Training Error:0.117 Test Error:0.112\n",
      "Epoch:5/50 Training Error:0.116 Test Error:0.111\n",
      "Epoch:6/50 Training Error:0.116 Test Error:0.111\n",
      "Epoch:7/50 Training Error:0.116 Test Error:0.112\n",
      "Epoch:8/50 Training Error:0.117 Test Error:0.112\n",
      "Epoch:9/50 Training Error:0.122 Test Error:0.118\n",
      "Epoch:10/50 Training Error:0.117 Test Error:0.113\n",
      "Epoch:11/50 Training Error:0.116 Test Error:0.112\n",
      "Epoch:12/50 Training Error:0.116 Test Error:0.112\n",
      "Epoch:13/50 Training Error:0.115 Test Error:0.112\n",
      "Epoch:14/50 Training Error:0.117 Test Error:0.113\n",
      "Epoch:15/50 Training Error:0.119 Test Error:0.115\n",
      "Epoch:16/50 Training Error:0.116 Test Error:0.112\n",
      "Epoch:17/50 Training Error:0.116 Test Error:0.112\n",
      "Epoch:18/50 Training Error:0.116 Test Error:0.112\n",
      "Epoch:19/50 Training Error:0.116 Test Error:0.112\n",
      "Epoch:20/50 Training Error:0.115 Test Error:0.112\n",
      "Epoch:21/50 Training Error:0.116 Test Error:0.112\n",
      "Epoch:22/50 Training Error:0.117 Test Error:0.114\n",
      "Epoch:23/50 Training Error:0.119 Test Error:0.115\n",
      "Epoch:24/50 Training Error:0.119 Test Error:0.116\n",
      "Epoch:25/50 Training Error:0.118 Test Error:0.115\n",
      "Epoch:26/50 Training Error:0.119 Test Error:0.117\n",
      "Epoch:27/50 Training Error:0.116 Test Error:0.112\n",
      "Epoch:28/50 Training Error:0.115 Test Error:0.112\n",
      "Epoch:29/50 Training Error:0.116 Test Error:0.112\n",
      "Epoch:30/50 Training Error:0.115 Test Error:0.112\n",
      "Epoch:31/50 Training Error:0.116 Test Error:0.113\n",
      "Epoch:32/50 Training Error:0.117 Test Error:0.115\n",
      "Epoch:33/50 Training Error:0.116 Test Error:0.113\n",
      "Epoch:34/50 Training Error:0.121 Test Error:0.121\n",
      "Epoch:35/50 Training Error:0.115 Test Error:0.113\n",
      "Epoch:36/50 Training Error:0.116 Test Error:0.113\n",
      "Epoch:37/50 Training Error:0.116 Test Error:0.113\n",
      "Epoch:38/50 Training Error:0.115 Test Error:0.113\n",
      "Epoch:39/50 Training Error:0.121 Test Error:0.120\n",
      "Epoch:40/50 Training Error:0.116 Test Error:0.113\n",
      "Epoch:41/50 Training Error:0.116 Test Error:0.113\n",
      "Epoch:42/50 Training Error:0.117 Test Error:0.114\n",
      "Epoch:43/50 Training Error:0.121 Test Error:0.120\n",
      "Epoch:44/50 Training Error:0.115 Test Error:0.113\n",
      "Epoch:45/50 Training Error:0.116 Test Error:0.113\n",
      "Epoch:46/50 Training Error:0.116 Test Error:0.113\n",
      "Epoch:47/50 Training Error:0.117 Test Error:0.114\n",
      "Epoch:48/50 Training Error:0.116 Test Error:0.114\n",
      "Epoch:49/50 Training Error:0.117 Test Error:0.116\n",
      "Epoch:50/50 Training Error:0.116 Test Error:0.114\n",
      "\u001b[1mTrain/Test of the sub-dataset data\\pickle\\middle_small\\processed_middle_small_0.02_0.25\u001b[0m\n",
      "Epoch:1/50 Training Error:0.126 Test Error:0.121\n",
      "Epoch:2/50 Training Error:0.122 Test Error:0.117\n",
      "Epoch:3/50 Training Error:0.130 Test Error:0.129\n",
      "Epoch:4/50 Training Error:0.123 Test Error:0.120\n",
      "Epoch:5/50 Training Error:0.121 Test Error:0.117\n",
      "Epoch:6/50 Training Error:0.121 Test Error:0.117\n",
      "Epoch:7/50 Training Error:0.120 Test Error:0.116\n",
      "Epoch:8/50 Training Error:0.148 Test Error:0.152\n",
      "Epoch:9/50 Training Error:0.123 Test Error:0.119\n",
      "Epoch:10/50 Training Error:0.121 Test Error:0.117\n",
      "Epoch:11/50 Training Error:0.120 Test Error:0.116\n",
      "Epoch:12/50 Training Error:0.120 Test Error:0.116\n",
      "Epoch:13/50 Training Error:0.120 Test Error:0.116\n",
      "Epoch:14/50 Training Error:0.120 Test Error:0.116\n",
      "Epoch:15/50 Training Error:0.120 Test Error:0.117\n",
      "Epoch:16/50 Training Error:0.120 Test Error:0.116\n",
      "Epoch:17/50 Training Error:0.120 Test Error:0.117\n",
      "Epoch:18/50 Training Error:0.120 Test Error:0.117\n",
      "Epoch:19/50 Training Error:0.120 Test Error:0.117\n",
      "Epoch:20/50 Training Error:0.120 Test Error:0.117\n",
      "Epoch:21/50 Training Error:0.120 Test Error:0.117\n",
      "Epoch:22/50 Training Error:0.121 Test Error:0.118\n",
      "Epoch:23/50 Training Error:0.121 Test Error:0.118\n",
      "Epoch:24/50 Training Error:0.124 Test Error:0.121\n",
      "Epoch:25/50 Training Error:0.123 Test Error:0.120\n",
      "Epoch:26/50 Training Error:0.127 Test Error:0.125\n",
      "Epoch:27/50 Training Error:0.122 Test Error:0.120\n",
      "Epoch:28/50 Training Error:0.120 Test Error:0.117\n",
      "Epoch:29/50 Training Error:0.120 Test Error:0.117\n",
      "Epoch:30/50 Training Error:0.120 Test Error:0.117\n",
      "Epoch:31/50 Training Error:0.120 Test Error:0.117\n",
      "Epoch:32/50 Training Error:0.120 Test Error:0.117\n",
      "Epoch:33/50 Training Error:0.120 Test Error:0.117\n",
      "Epoch:34/50 Training Error:0.120 Test Error:0.117\n",
      "Epoch:35/50 Training Error:0.121 Test Error:0.118\n",
      "Epoch:36/50 Training Error:0.119 Test Error:0.117\n",
      "Epoch:37/50 Training Error:0.120 Test Error:0.117\n",
      "Epoch:38/50 Training Error:0.119 Test Error:0.117\n",
      "Epoch:39/50 Training Error:0.120 Test Error:0.117\n",
      "Epoch:40/50 Training Error:0.119 Test Error:0.117\n",
      "Epoch:41/50 Training Error:0.122 Test Error:0.120\n",
      "Epoch:42/50 Training Error:0.119 Test Error:0.118\n",
      "Epoch:43/50 Training Error:0.120 Test Error:0.117\n",
      "Epoch:44/50 Training Error:0.119 Test Error:0.117\n",
      "Epoch:45/50 Training Error:0.119 Test Error:0.117\n",
      "Epoch:46/50 Training Error:0.120 Test Error:0.118\n",
      "Epoch:47/50 Training Error:0.119 Test Error:0.118\n",
      "Epoch:48/50 Training Error:0.120 Test Error:0.118\n",
      "Epoch:49/50 Training Error:0.121 Test Error:0.119\n",
      "Epoch:50/50 Training Error:0.121 Test Error:0.120\n",
      "\u001b[1mTrain/Test of the sub-dataset data\\pickle\\middle_small\\processed_middle_small_0.02_0.5\u001b[0m\n",
      "Epoch:1/50 Training Error:0.130 Test Error:0.124\n",
      "Epoch:2/50 Training Error:0.120 Test Error:0.117\n",
      "Epoch:3/50 Training Error:0.121 Test Error:0.118\n",
      "Epoch:4/50 Training Error:0.119 Test Error:0.114\n",
      "Epoch:5/50 Training Error:0.119 Test Error:0.114\n",
      "Epoch:6/50 Training Error:0.119 Test Error:0.115\n",
      "Epoch:7/50 Training Error:0.120 Test Error:0.118\n",
      "Epoch:8/50 Training Error:0.119 Test Error:0.114\n",
      "Epoch:9/50 Training Error:0.119 Test Error:0.115\n",
      "Epoch:10/50 Training Error:0.118 Test Error:0.115\n",
      "Epoch:11/50 Training Error:0.118 Test Error:0.114\n",
      "Epoch:12/50 Training Error:0.119 Test Error:0.115\n",
      "Epoch:13/50 Training Error:0.123 Test Error:0.122\n",
      "Epoch:14/50 Training Error:0.120 Test Error:0.118\n",
      "Epoch:15/50 Training Error:0.118 Test Error:0.114\n",
      "Epoch:16/50 Training Error:0.119 Test Error:0.115\n",
      "Epoch:17/50 Training Error:0.118 Test Error:0.115\n",
      "Epoch:18/50 Training Error:0.118 Test Error:0.115\n",
      "Epoch:19/50 Training Error:0.119 Test Error:0.115\n",
      "Epoch:20/50 Training Error:0.119 Test Error:0.115\n",
      "Epoch:21/50 Training Error:0.118 Test Error:0.114\n",
      "Epoch:22/50 Training Error:0.118 Test Error:0.114\n",
      "Epoch:23/50 Training Error:0.118 Test Error:0.115\n",
      "Epoch:24/50 Training Error:0.118 Test Error:0.115\n",
      "Epoch:25/50 Training Error:0.118 Test Error:0.114\n",
      "Epoch:26/50 Training Error:0.118 Test Error:0.114\n",
      "Epoch:27/50 Training Error:0.125 Test Error:0.124\n",
      "Epoch:28/50 Training Error:0.118 Test Error:0.115\n",
      "Epoch:29/50 Training Error:0.117 Test Error:0.115\n",
      "Epoch:30/50 Training Error:0.117 Test Error:0.115\n",
      "Epoch:31/50 Training Error:0.118 Test Error:0.116\n",
      "Epoch:32/50 Training Error:0.118 Test Error:0.115\n",
      "Epoch:33/50 Training Error:0.118 Test Error:0.115\n",
      "Epoch:34/50 Training Error:0.118 Test Error:0.115\n",
      "Epoch:35/50 Training Error:0.117 Test Error:0.115\n",
      "Epoch:36/50 Training Error:0.119 Test Error:0.116\n",
      "Epoch:37/50 Training Error:0.119 Test Error:0.117\n",
      "Epoch:38/50 Training Error:0.118 Test Error:0.116\n",
      "Epoch:39/50 Training Error:0.118 Test Error:0.115\n",
      "Epoch:40/50 Training Error:0.118 Test Error:0.116\n",
      "Epoch:41/50 Training Error:0.118 Test Error:0.115\n",
      "Epoch:42/50 Training Error:0.118 Test Error:0.116\n",
      "Epoch:43/50 Training Error:0.118 Test Error:0.115\n",
      "Epoch:44/50 Training Error:0.118 Test Error:0.115\n",
      "Epoch:45/50 Training Error:0.122 Test Error:0.121\n",
      "Epoch:46/50 Training Error:0.118 Test Error:0.116\n",
      "Epoch:47/50 Training Error:0.117 Test Error:0.115\n",
      "Epoch:48/50 Training Error:0.118 Test Error:0.116\n",
      "Epoch:49/50 Training Error:0.118 Test Error:0.116\n",
      "Epoch:50/50 Training Error:0.118 Test Error:0.116\n",
      "\u001b[1mTrain/Test of the sub-dataset data\\pickle\\middle_small\\processed_middle_small_0.05_0.1\u001b[0m\n",
      "Epoch:1/50 Training Error:0.120 Test Error:0.119\n",
      "Epoch:2/50 Training Error:0.115 Test Error:0.117\n",
      "Epoch:3/50 Training Error:0.112 Test Error:0.112\n",
      "Epoch:4/50 Training Error:0.112 Test Error:0.113\n",
      "Epoch:5/50 Training Error:0.111 Test Error:0.112\n",
      "Epoch:6/50 Training Error:0.110 Test Error:0.111\n",
      "Epoch:7/50 Training Error:0.110 Test Error:0.111\n"
     ]
    },
    {
     "name": "stdout",
     "output_type": "stream",
     "text": [
      "Epoch:8/50 Training Error:0.109 Test Error:0.110\n",
      "Epoch:9/50 Training Error:0.109 Test Error:0.109\n",
      "Epoch:10/50 Training Error:0.109 Test Error:0.110\n",
      "Epoch:11/50 Training Error:0.116 Test Error:0.118\n",
      "Epoch:12/50 Training Error:0.110 Test Error:0.111\n",
      "Epoch:13/50 Training Error:0.109 Test Error:0.111\n",
      "Epoch:14/50 Training Error:0.110 Test Error:0.111\n",
      "Epoch:15/50 Training Error:0.110 Test Error:0.112\n",
      "Epoch:16/50 Training Error:0.113 Test Error:0.116\n",
      "Epoch:17/50 Training Error:0.116 Test Error:0.119\n",
      "Epoch:18/50 Training Error:0.111 Test Error:0.113\n",
      "Epoch:19/50 Training Error:0.109 Test Error:0.110\n",
      "Epoch:20/50 Training Error:0.109 Test Error:0.110\n",
      "Epoch:21/50 Training Error:0.108 Test Error:0.110\n",
      "Epoch:22/50 Training Error:0.109 Test Error:0.110\n",
      "Epoch:23/50 Training Error:0.109 Test Error:0.111\n",
      "Epoch:24/50 Training Error:0.109 Test Error:0.110\n",
      "Epoch:25/50 Training Error:0.108 Test Error:0.110\n",
      "Epoch:26/50 Training Error:0.108 Test Error:0.110\n",
      "Epoch:27/50 Training Error:0.111 Test Error:0.113\n",
      "Epoch:28/50 Training Error:0.108 Test Error:0.110\n",
      "Epoch:29/50 Training Error:0.108 Test Error:0.110\n",
      "Epoch:30/50 Training Error:0.110 Test Error:0.112\n",
      "Epoch:31/50 Training Error:0.108 Test Error:0.110\n",
      "Epoch:32/50 Training Error:0.109 Test Error:0.110\n",
      "Epoch:33/50 Training Error:0.110 Test Error:0.112\n",
      "Epoch:34/50 Training Error:0.109 Test Error:0.110\n",
      "Epoch:35/50 Training Error:0.109 Test Error:0.110\n",
      "Epoch:36/50 Training Error:0.109 Test Error:0.110\n",
      "Epoch:37/50 Training Error:0.108 Test Error:0.110\n",
      "Epoch:38/50 Training Error:0.108 Test Error:0.110\n",
      "Epoch:39/50 Training Error:0.109 Test Error:0.111\n",
      "Epoch:40/50 Training Error:0.110 Test Error:0.112\n",
      "Epoch:41/50 Training Error:0.109 Test Error:0.110\n",
      "Epoch:42/50 Training Error:0.109 Test Error:0.110\n",
      "Epoch:43/50 Training Error:0.109 Test Error:0.111\n",
      "Epoch:44/50 Training Error:0.109 Test Error:0.110\n",
      "Epoch:45/50 Training Error:0.108 Test Error:0.110\n",
      "Epoch:46/50 Training Error:0.109 Test Error:0.111\n",
      "Epoch:47/50 Training Error:0.113 Test Error:0.115\n",
      "Epoch:48/50 Training Error:0.108 Test Error:0.110\n",
      "Epoch:49/50 Training Error:0.108 Test Error:0.110\n",
      "Epoch:50/50 Training Error:0.109 Test Error:0.111\n",
      "\u001b[1mTrain/Test of the sub-dataset data\\pickle\\middle_small\\processed_middle_small_0.05_0.25\u001b[0m\n",
      "Epoch:1/50 Training Error:0.120 Test Error:0.121\n",
      "Epoch:2/50 Training Error:0.117 Test Error:0.118\n",
      "Epoch:3/50 Training Error:0.111 Test Error:0.113\n",
      "Epoch:4/50 Training Error:0.111 Test Error:0.112\n",
      "Epoch:5/50 Training Error:0.111 Test Error:0.112\n",
      "Epoch:6/50 Training Error:0.114 Test Error:0.117\n",
      "Epoch:7/50 Training Error:0.111 Test Error:0.112\n",
      "Epoch:8/50 Training Error:0.111 Test Error:0.113\n",
      "Epoch:9/50 Training Error:0.111 Test Error:0.112\n",
      "Epoch:10/50 Training Error:0.110 Test Error:0.111\n",
      "Epoch:11/50 Training Error:0.110 Test Error:0.112\n",
      "Epoch:12/50 Training Error:0.114 Test Error:0.116\n",
      "Epoch:13/50 Training Error:0.113 Test Error:0.114\n",
      "Epoch:14/50 Training Error:0.111 Test Error:0.112\n",
      "Epoch:15/50 Training Error:0.111 Test Error:0.112\n",
      "Epoch:16/50 Training Error:0.110 Test Error:0.111\n",
      "Epoch:17/50 Training Error:0.110 Test Error:0.112\n",
      "Epoch:18/50 Training Error:0.110 Test Error:0.112\n",
      "Epoch:19/50 Training Error:0.110 Test Error:0.112\n",
      "Epoch:20/50 Training Error:0.110 Test Error:0.112\n",
      "Epoch:21/50 Training Error:0.110 Test Error:0.112\n",
      "Epoch:22/50 Training Error:0.111 Test Error:0.113\n",
      "Epoch:23/50 Training Error:0.110 Test Error:0.112\n",
      "Epoch:24/50 Training Error:0.111 Test Error:0.112\n",
      "Epoch:25/50 Training Error:0.118 Test Error:0.120\n",
      "Epoch:26/50 Training Error:0.111 Test Error:0.113\n",
      "Epoch:27/50 Training Error:0.110 Test Error:0.112\n",
      "Epoch:28/50 Training Error:0.110 Test Error:0.112\n",
      "Epoch:29/50 Training Error:0.112 Test Error:0.114\n",
      "Epoch:30/50 Training Error:0.111 Test Error:0.114\n",
      "Epoch:31/50 Training Error:0.111 Test Error:0.113\n",
      "Epoch:32/50 Training Error:0.110 Test Error:0.113\n",
      "Epoch:33/50 Training Error:0.110 Test Error:0.112\n",
      "Epoch:34/50 Training Error:0.110 Test Error:0.112\n",
      "Epoch:35/50 Training Error:0.111 Test Error:0.113\n",
      "Epoch:36/50 Training Error:0.118 Test Error:0.121\n",
      "Epoch:37/50 Training Error:0.110 Test Error:0.112\n",
      "Epoch:38/50 Training Error:0.110 Test Error:0.112\n",
      "Epoch:39/50 Training Error:0.110 Test Error:0.112\n",
      "Epoch:40/50 Training Error:0.115 Test Error:0.118\n",
      "Epoch:41/50 Training Error:0.110 Test Error:0.113\n",
      "Epoch:42/50 Training Error:0.110 Test Error:0.112\n",
      "Epoch:43/50 Training Error:0.110 Test Error:0.112\n",
      "Epoch:44/50 Training Error:0.113 Test Error:0.116\n",
      "Epoch:45/50 Training Error:0.111 Test Error:0.113\n",
      "Epoch:46/50 Training Error:0.110 Test Error:0.112\n",
      "Epoch:47/50 Training Error:0.110 Test Error:0.112\n",
      "Epoch:48/50 Training Error:0.111 Test Error:0.113\n",
      "Epoch:49/50 Training Error:0.110 Test Error:0.113\n",
      "Epoch:50/50 Training Error:0.112 Test Error:0.115\n",
      "\u001b[1mTrain/Test of the sub-dataset data\\pickle\\middle_small\\processed_middle_small_0.05_0.5\u001b[0m\n",
      "Epoch:1/50 Training Error:0.122 Test Error:0.122\n",
      "Epoch:2/50 Training Error:0.118 Test Error:0.119\n",
      "Epoch:3/50 Training Error:0.115 Test Error:0.117\n",
      "Epoch:4/50 Training Error:0.114 Test Error:0.115\n",
      "Epoch:5/50 Training Error:0.114 Test Error:0.115\n",
      "Epoch:6/50 Training Error:0.115 Test Error:0.116\n",
      "Epoch:7/50 Training Error:0.114 Test Error:0.115\n",
      "Epoch:8/50 Training Error:0.113 Test Error:0.114\n",
      "Epoch:9/50 Training Error:0.113 Test Error:0.115\n",
      "Epoch:10/50 Training Error:0.113 Test Error:0.115\n",
      "Epoch:11/50 Training Error:0.114 Test Error:0.115\n",
      "Epoch:12/50 Training Error:0.116 Test Error:0.118\n",
      "Epoch:13/50 Training Error:0.113 Test Error:0.115\n",
      "Epoch:14/50 Training Error:0.114 Test Error:0.117\n",
      "Epoch:15/50 Training Error:0.113 Test Error:0.115\n",
      "Epoch:16/50 Training Error:0.113 Test Error:0.115\n",
      "Epoch:17/50 Training Error:0.113 Test Error:0.115\n",
      "Epoch:18/50 Training Error:0.124 Test Error:0.128\n",
      "Epoch:19/50 Training Error:0.114 Test Error:0.116\n",
      "Epoch:20/50 Training Error:0.113 Test Error:0.115\n",
      "Epoch:21/50 Training Error:0.113 Test Error:0.115\n",
      "Epoch:22/50 Training Error:0.113 Test Error:0.115\n",
      "Epoch:23/50 Training Error:0.119 Test Error:0.122\n",
      "Epoch:24/50 Training Error:0.113 Test Error:0.116\n",
      "Epoch:25/50 Training Error:0.113 Test Error:0.115\n",
      "Epoch:26/50 Training Error:0.113 Test Error:0.115\n",
      "Epoch:27/50 Training Error:0.114 Test Error:0.116\n",
      "Epoch:28/50 Training Error:0.118 Test Error:0.121\n",
      "Epoch:29/50 Training Error:0.113 Test Error:0.115\n",
      "Epoch:30/50 Training Error:0.113 Test Error:0.115\n",
      "Epoch:31/50 Training Error:0.113 Test Error:0.115\n",
      "Epoch:32/50 Training Error:0.116 Test Error:0.120\n",
      "Epoch:33/50 Training Error:0.113 Test Error:0.115\n",
      "Epoch:34/50 Training Error:0.113 Test Error:0.115\n",
      "Epoch:35/50 Training Error:0.113 Test Error:0.115\n",
      "Epoch:36/50 Training Error:0.114 Test Error:0.117\n",
      "Epoch:37/50 Training Error:0.113 Test Error:0.115\n",
      "Epoch:38/50 Training Error:0.113 Test Error:0.115\n",
      "Epoch:39/50 Training Error:0.113 Test Error:0.115\n",
      "Epoch:40/50 Training Error:0.113 Test Error:0.116\n",
      "Epoch:41/50 Training Error:0.112 Test Error:0.115\n",
      "Epoch:42/50 Training Error:0.113 Test Error:0.117\n",
      "Epoch:43/50 Training Error:0.113 Test Error:0.116\n",
      "Epoch:44/50 Training Error:0.113 Test Error:0.115\n",
      "Epoch:45/50 Training Error:0.113 Test Error:0.115\n",
      "Epoch:46/50 Training Error:0.113 Test Error:0.115\n",
      "Epoch:47/50 Training Error:0.112 Test Error:0.115\n",
      "Epoch:48/50 Training Error:0.112 Test Error:0.115\n",
      "Epoch:49/50 Training Error:0.113 Test Error:0.115\n",
      "Epoch:50/50 Training Error:0.116 Test Error:0.119\n",
      "\u001b[1mTrain/Test of the sub-dataset data\\pickle\\middle_small\\processed_middle_small_0.1_0.1\u001b[0m\n",
      "Epoch:1/50 Training Error:0.126 Test Error:0.129\n",
      "Epoch:2/50 Training Error:0.116 Test Error:0.115\n",
      "Epoch:3/50 Training Error:0.107 Test Error:0.105\n",
      "Epoch:4/50 Training Error:0.107 Test Error:0.107\n",
      "Epoch:5/50 Training Error:0.106 Test Error:0.105\n",
      "Epoch:6/50 Training Error:0.104 Test Error:0.104\n",
      "Epoch:7/50 Training Error:0.107 Test Error:0.107\n",
      "Epoch:8/50 Training Error:0.105 Test Error:0.104\n",
      "Epoch:9/50 Training Error:0.104 Test Error:0.104\n",
      "Epoch:10/50 Training Error:0.105 Test Error:0.104\n",
      "Epoch:11/50 Training Error:0.106 Test Error:0.105\n",
      "Epoch:12/50 Training Error:0.116 Test Error:0.119\n",
      "Epoch:13/50 Training Error:0.108 Test Error:0.108\n",
      "Epoch:14/50 Training Error:0.104 Test Error:0.105\n",
      "Epoch:15/50 Training Error:0.104 Test Error:0.104\n",
      "Epoch:16/50 Training Error:0.104 Test Error:0.104\n"
     ]
    },
    {
     "name": "stdout",
     "output_type": "stream",
     "text": [
      "Epoch:17/50 Training Error:0.109 Test Error:0.109\n",
      "Epoch:18/50 Training Error:0.104 Test Error:0.105\n",
      "Epoch:19/50 Training Error:0.104 Test Error:0.104\n",
      "Epoch:20/50 Training Error:0.104 Test Error:0.105\n",
      "Epoch:21/50 Training Error:0.104 Test Error:0.104\n",
      "Epoch:22/50 Training Error:0.116 Test Error:0.113\n",
      "Epoch:23/50 Training Error:0.114 Test Error:0.116\n",
      "Epoch:24/50 Training Error:0.107 Test Error:0.107\n",
      "Epoch:25/50 Training Error:0.105 Test Error:0.105\n",
      "Epoch:26/50 Training Error:0.104 Test Error:0.104\n",
      "Epoch:27/50 Training Error:0.104 Test Error:0.104\n",
      "Epoch:28/50 Training Error:0.104 Test Error:0.104\n",
      "Epoch:29/50 Training Error:0.104 Test Error:0.104\n",
      "Epoch:30/50 Training Error:0.104 Test Error:0.104\n",
      "Epoch:31/50 Training Error:0.104 Test Error:0.104\n",
      "Epoch:32/50 Training Error:0.104 Test Error:0.104\n",
      "Epoch:33/50 Training Error:0.105 Test Error:0.106\n",
      "Epoch:34/50 Training Error:0.104 Test Error:0.104\n",
      "Epoch:35/50 Training Error:0.105 Test Error:0.106\n",
      "Epoch:36/50 Training Error:0.104 Test Error:0.105\n",
      "Epoch:37/50 Training Error:0.104 Test Error:0.105\n",
      "Epoch:38/50 Training Error:0.105 Test Error:0.107\n",
      "Epoch:39/50 Training Error:0.104 Test Error:0.104\n",
      "Epoch:40/50 Training Error:0.104 Test Error:0.104\n",
      "Epoch:41/50 Training Error:0.104 Test Error:0.105\n",
      "Epoch:42/50 Training Error:0.107 Test Error:0.108\n",
      "Epoch:43/50 Training Error:0.104 Test Error:0.105\n",
      "Epoch:44/50 Training Error:0.104 Test Error:0.105\n",
      "Epoch:45/50 Training Error:0.103 Test Error:0.104\n",
      "Epoch:46/50 Training Error:0.104 Test Error:0.105\n",
      "Epoch:47/50 Training Error:0.109 Test Error:0.111\n",
      "Epoch:48/50 Training Error:0.104 Test Error:0.105\n",
      "Epoch:49/50 Training Error:0.103 Test Error:0.105\n",
      "Epoch:50/50 Training Error:0.104 Test Error:0.105\n",
      "\u001b[1mTrain/Test of the sub-dataset data\\pickle\\middle_small\\processed_middle_small_0.1_0.25\u001b[0m\n",
      "Epoch:1/50 Training Error:0.684 Test Error:0.724\n",
      "Epoch:2/50 Training Error:0.730 Test Error:0.777\n",
      "Epoch:3/50 Training Error:0.751 Test Error:0.800\n",
      "Epoch:4/50 Training Error:0.760 Test Error:0.810\n",
      "Epoch:5/50 Training Error:0.764 Test Error:0.815\n",
      "Epoch:6/50 Training Error:0.762 Test Error:0.813\n",
      "Epoch:7/50 Training Error:0.763 Test Error:0.814\n",
      "Epoch:8/50 Training Error:0.761 Test Error:0.812\n",
      "Epoch:9/50 Training Error:0.757 Test Error:0.807\n",
      "Epoch:10/50 Training Error:0.752 Test Error:0.802\n",
      "Epoch:11/50 Training Error:0.747 Test Error:0.796\n",
      "Epoch:12/50 Training Error:0.740 Test Error:0.788\n",
      "Epoch:13/50 Training Error:0.734 Test Error:0.781\n",
      "Epoch:14/50 Training Error:0.727 Test Error:0.773\n",
      "Epoch:15/50 Training Error:0.719 Test Error:0.765\n",
      "Epoch:16/50 Training Error:0.712 Test Error:0.757\n",
      "Epoch:17/50 Training Error:0.705 Test Error:0.749\n",
      "Epoch:18/50 Training Error:0.698 Test Error:0.741\n",
      "Epoch:19/50 Training Error:0.691 Test Error:0.733\n",
      "Epoch:20/50 Training Error:0.686 Test Error:0.727\n",
      "Epoch:21/50 Training Error:0.678 Test Error:0.719\n",
      "Epoch:22/50 Training Error:0.672 Test Error:0.712\n",
      "Epoch:23/50 Training Error:0.666 Test Error:0.705\n",
      "Epoch:24/50 Training Error:0.660 Test Error:0.699\n",
      "Epoch:25/50 Training Error:0.655 Test Error:0.693\n",
      "Epoch:26/50 Training Error:0.650 Test Error:0.687\n",
      "Epoch:27/50 Training Error:0.645 Test Error:0.682\n",
      "Epoch:28/50 Training Error:0.641 Test Error:0.677\n",
      "Epoch:29/50 Training Error:0.637 Test Error:0.672\n",
      "Epoch:30/50 Training Error:0.633 Test Error:0.668\n",
      "Epoch:31/50 Training Error:0.629 Test Error:0.663\n",
      "Epoch:32/50 Training Error:0.625 Test Error:0.659\n",
      "Epoch:33/50 Training Error:0.622 Test Error:0.656\n",
      "Epoch:34/50 Training Error:0.619 Test Error:0.652\n",
      "Epoch:35/50 Training Error:0.615 Test Error:0.648\n",
      "Epoch:36/50 Training Error:0.612 Test Error:0.645\n",
      "Epoch:37/50 Training Error:0.610 Test Error:0.642\n",
      "Epoch:38/50 Training Error:0.607 Test Error:0.639\n",
      "Epoch:39/50 Training Error:0.604 Test Error:0.636\n",
      "Epoch:40/50 Training Error:0.602 Test Error:0.633\n",
      "Epoch:41/50 Training Error:0.599 Test Error:0.630\n",
      "Epoch:42/50 Training Error:0.597 Test Error:0.627\n",
      "Epoch:43/50 Training Error:0.594 Test Error:0.625\n",
      "Epoch:44/50 Training Error:0.592 Test Error:0.622\n",
      "Epoch:45/50 Training Error:0.590 Test Error:0.620\n",
      "Epoch:46/50 Training Error:0.588 Test Error:0.618\n",
      "Epoch:47/50 Training Error:0.586 Test Error:0.615\n",
      "Epoch:48/50 Training Error:0.585 Test Error:0.613\n",
      "Epoch:49/50 Training Error:0.583 Test Error:0.612\n",
      "Epoch:50/50 Training Error:0.581 Test Error:0.610\n",
      "\u001b[1mTrain/Test of the sub-dataset data\\pickle\\middle_small\\processed_middle_small_0.1_0.5\u001b[0m\n",
      "Epoch:1/50 Training Error:0.124 Test Error:0.124\n",
      "Epoch:2/50 Training Error:0.115 Test Error:0.114\n",
      "Epoch:3/50 Training Error:0.115 Test Error:0.117\n",
      "Epoch:4/50 Training Error:0.110 Test Error:0.110\n",
      "Epoch:5/50 Training Error:0.110 Test Error:0.110\n",
      "Epoch:6/50 Training Error:0.110 Test Error:0.110\n",
      "Epoch:7/50 Training Error:0.134 Test Error:0.142\n",
      "Epoch:8/50 Training Error:0.112 Test Error:0.112\n",
      "Epoch:9/50 Training Error:0.111 Test Error:0.112\n",
      "Epoch:10/50 Training Error:0.110 Test Error:0.111\n",
      "Epoch:11/50 Training Error:0.110 Test Error:0.111\n",
      "Epoch:12/50 Training Error:0.109 Test Error:0.110\n",
      "Epoch:13/50 Training Error:0.110 Test Error:0.111\n",
      "Epoch:14/50 Training Error:0.110 Test Error:0.111\n",
      "Epoch:15/50 Training Error:0.110 Test Error:0.111\n",
      "Epoch:16/50 Training Error:0.109 Test Error:0.110\n",
      "Epoch:17/50 Training Error:0.109 Test Error:0.110\n",
      "Epoch:18/50 Training Error:0.109 Test Error:0.110\n",
      "Epoch:19/50 Training Error:0.110 Test Error:0.111\n",
      "Epoch:20/50 Training Error:0.110 Test Error:0.112\n",
      "Epoch:21/50 Training Error:0.109 Test Error:0.110\n",
      "Epoch:22/50 Training Error:0.109 Test Error:0.110\n",
      "Epoch:23/50 Training Error:0.109 Test Error:0.110\n",
      "Epoch:24/50 Training Error:0.110 Test Error:0.111\n",
      "Epoch:25/50 Training Error:0.123 Test Error:0.128\n",
      "Epoch:26/50 Training Error:0.111 Test Error:0.112\n",
      "Epoch:27/50 Training Error:0.110 Test Error:0.112\n",
      "Epoch:28/50 Training Error:0.110 Test Error:0.111\n",
      "Epoch:29/50 Training Error:0.110 Test Error:0.111\n",
      "Epoch:30/50 Training Error:0.109 Test Error:0.111\n",
      "Epoch:31/50 Training Error:0.109 Test Error:0.110\n",
      "Epoch:32/50 Training Error:0.109 Test Error:0.110\n",
      "Epoch:33/50 Training Error:0.109 Test Error:0.111\n",
      "Epoch:34/50 Training Error:0.109 Test Error:0.110\n",
      "Epoch:35/50 Training Error:0.109 Test Error:0.110\n",
      "Epoch:36/50 Training Error:0.109 Test Error:0.110\n",
      "Epoch:37/50 Training Error:0.110 Test Error:0.112\n",
      "Epoch:38/50 Training Error:0.108 Test Error:0.110\n",
      "Epoch:39/50 Training Error:0.109 Test Error:0.110\n",
      "Epoch:40/50 Training Error:0.112 Test Error:0.113\n",
      "Epoch:41/50 Training Error:0.109 Test Error:0.111\n",
      "Epoch:42/50 Training Error:0.109 Test Error:0.110\n",
      "Epoch:43/50 Training Error:0.108 Test Error:0.110\n",
      "Epoch:44/50 Training Error:0.109 Test Error:0.110\n",
      "Epoch:45/50 Training Error:0.108 Test Error:0.110\n",
      "Epoch:46/50 Training Error:0.109 Test Error:0.111\n",
      "Epoch:47/50 Training Error:0.109 Test Error:0.111\n",
      "Epoch:48/50 Training Error:0.108 Test Error:0.110\n",
      "Epoch:49/50 Training Error:0.108 Test Error:0.110\n",
      "Epoch:50/50 Training Error:0.108 Test Error:0.110\n"
     ]
    }
   ],
   "source": [
    "import glob\n",
    "import os \n",
    "import _pickle as cPickle\n",
    "\n",
    "dataset = 'middle_small'\n",
    "file_location = os.path.join('data', 'pickle', dataset, '*')\n",
    "filenames = glob.glob(file_location)\n",
    "i=0 \n",
    "\n",
    "\n",
    "# define the parameters of the model\n",
    "learningRate= 0.001\n",
    "neuron_ = 3\n",
    "\n",
    "epochs=50\n",
    "criterion = nn.MSELoss() \n",
    "\n",
    "test_errors = []\n",
    "train_errors = []\n",
    "names = [] #Just to be sure of which error corresponds to which sub-dataset\n",
    "\n",
    "for f in filenames:\n",
    "    \n",
    "    print(\"\\033[1m\" +'Train/Test of the sub-dataset ' + f + \"\\033[0m\")\n",
    "    \n",
    "    #Load the data\n",
    "    x  = cPickle.load(open(f, \"rb\"))\n",
    "    \n",
    "    #Split\n",
    "    x_train, x_test = train_test_split(x, test_size=0.1, random_state=seed)\n",
    "    y_train, y_test = x_train, x_test\n",
    "    \n",
    "    #Declare the model\n",
    "    input_size=x_train.shape[1]\n",
    "    model = Autoencoder(input_size, neuron_)\n",
    "    optimizer = torch.optim.Adam(model.parameters(), lr=learningRate, weight_decay=1e-5)\n",
    "    \n",
    "    #Dataloader\n",
    "    train_loader = DataLoader(x_train)\n",
    "    test_loader = DataLoader(x_test)\n",
    "    \n",
    "    #Training and testing over the epochs\n",
    "    for epoch in range(epochs):\n",
    "        # train the model \n",
    "        train_loss=train_epoch(train_loader, model, criterion, optimizer)\n",
    "        # compute the relative training error\n",
    "        train_error = valid_epoch(train_loader, model)\n",
    "        # compute the relative test error\n",
    "        test_error=valid_epoch(test_loader, model)\n",
    "        \n",
    "        print(\"Epoch:{}/{} Training Error:{:.3f} Test Error:{:.3f}\".format(epoch + 1,epochs,train_error,test_error))\n",
    "    \n",
    "    #Save the last epoch train and test errors\n",
    "    test_errors.append(test_error)\n",
    "    train_errors.append(train_error)\n",
    "    names.append(f)"
   ]
  },
  {
   "cell_type": "code",
   "execution_count": 90,
   "metadata": {},
   "outputs": [
    {
     "data": {
      "text/html": [
       "<div>\n",
       "<style scoped>\n",
       "    .dataframe tbody tr th:only-of-type {\n",
       "        vertical-align: middle;\n",
       "    }\n",
       "\n",
       "    .dataframe tbody tr th {\n",
       "        vertical-align: top;\n",
       "    }\n",
       "\n",
       "    .dataframe thead th {\n",
       "        text-align: right;\n",
       "    }\n",
       "</style>\n",
       "<table border=\"1\" class=\"dataframe\">\n",
       "  <thead>\n",
       "    <tr style=\"text-align: right;\">\n",
       "      <th></th>\n",
       "      <th>10%</th>\n",
       "      <th>5%</th>\n",
       "      <th>2%</th>\n",
       "    </tr>\n",
       "    <tr>\n",
       "      <th></th>\n",
       "      <th></th>\n",
       "      <th></th>\n",
       "      <th></th>\n",
       "    </tr>\n",
       "  </thead>\n",
       "  <tbody>\n",
       "    <tr>\n",
       "      <th>50%</th>\n",
       "      <td>0.115779</td>\n",
       "      <td>0.119474</td>\n",
       "      <td>0.109854</td>\n",
       "    </tr>\n",
       "    <tr>\n",
       "      <th>25%</th>\n",
       "      <td>0.120044</td>\n",
       "      <td>0.115242</td>\n",
       "      <td>0.609663</td>\n",
       "    </tr>\n",
       "    <tr>\n",
       "      <th>10%</th>\n",
       "      <td>0.113816</td>\n",
       "      <td>0.111220</td>\n",
       "      <td>0.105020</td>\n",
       "    </tr>\n",
       "  </tbody>\n",
       "</table>\n",
       "</div>"
      ],
      "text/plain": [
       "          10%        5%        2%\n",
       "                                 \n",
       "50%  0.115779  0.119474  0.109854\n",
       "25%  0.120044  0.115242  0.609663\n",
       "10%  0.113816  0.111220  0.105020"
      ]
     },
     "metadata": {},
     "output_type": "display_data"
    },
    {
     "name": "stdout",
     "output_type": "stream",
     "text": [
      "\u001b[1mTable of relative error depending on the sampling of the dataset\u001b[0m\n",
      "x : sampling of times\n",
      "y : sampling of positions\n"
     ]
    }
   ],
   "source": [
    "from pandas import *\n",
    "\n",
    "#If you want to load the test and train errors from the saved pickles files, uncomment following lines :\n",
    "'''\n",
    "dataset = \"middle_small\"\n",
    "train_errors  = cPickle.load(open(\"data/pickle/results/\"+\"train_errors_\" + dataset, \"rb\"))\n",
    "test_errors  = cPickle.load(open(\"data/pickle/results/\"+\"test_errors_\" + dataset, \"rb\"))\n",
    "'''\n",
    "\n",
    "results = DataFrame({'' : ['50%', '25%', '10%'],\n",
    "                   '10%' : test_errors[:3][::-1],\n",
    "                   '5%' : test_errors[3:6][::-1],\n",
    "                   '2%' : test_errors[6:9][::-1]})\n",
    "\n",
    "results = results.set_index('')\n",
    "\n",
    "display(results)\n",
    "print(\"\\033[1m\" + 'Table of relative error depending on the sampling of the dataset' + \"\\033[0m\")\n",
    "print('x : sampling of times')\n",
    "print('y : sampling of positions')"
   ]
  },
  {
   "cell_type": "code",
   "execution_count": 92,
   "metadata": {},
   "outputs": [],
   "source": [
    "#Save in pickles\n",
    "name = \"train_errors_\" + dataset\n",
    "cPickle.dump( train_errors , open( name, \"wb\" ) )\n",
    "name = \"test_errors_\" + dataset\n",
    "cPickle.dump( test_errors , open( name, \"wb\" ) )"
   ]
  },
  {
   "cell_type": "markdown",
   "metadata": {},
   "source": [
    "## 4. Passer en 2D "
   ]
  },
  {
   "cell_type": "markdown",
   "metadata": {},
   "source": [
    "Instead of flattenning our initial dataset into a colummn vector for each simulation, we split it into a 2D matrix for each simulation such as the following:\n",
    "\n",
    "$$\n",
    "\\mathbf{M_{2D}}\n",
    "=\n",
    "\\begin{bmatrix}\n",
    "\\vdots & \\vdots & \\vdots & \\vdots \\\\\n",
    "u_{x}^{(0)} & u_{x}^{(1)} & \\cdots &\n",
    "u_{x}^{(N_t - 1)} \\\\\n",
    "\\vdots & \\vdots & \\ddots & \\vdots \\\\\n",
    "u_{y}^{(0)} & u_{y}^{(1)} & \\cdots &\n",
    "u_{y}^{(N_t - 1)} \\\\\n",
    "\\vdots & \\vdots & \\vdots & \\vdots\n",
    "\\end{bmatrix}\n",
    "$$"
   ]
  },
  {
   "cell_type": "code",
   "execution_count": 16,
   "metadata": {},
   "outputs": [
    {
     "data": {
      "text/plain": [
       "(25, 1100, 110)"
      ]
     },
     "execution_count": 16,
     "metadata": {},
     "output_type": "execute_result"
    }
   ],
   "source": [
    "flattened_array = flatten_2d(new_Ux, new_Uy, ratio_pts)\n",
    "flattened_array.shape"
   ]
  },
  {
   "cell_type": "markdown",
   "metadata": {},
   "source": [
    "## 5. Passer en 4D"
   ]
  },
  {
   "cell_type": "code",
   "execution_count": 11,
   "metadata": {},
   "outputs": [
    {
     "ename": "IndexError",
     "evalue": "index 55 is out of bounds for axis 1 with size 55",
     "output_type": "error",
     "traceback": [
      "\u001b[1;31m---------------------------------------------------------------------------\u001b[0m",
      "\u001b[1;31mIndexError\u001b[0m                                Traceback (most recent call last)",
      "\u001b[1;32m~\\AppData\\Local\\Temp/ipykernel_12324/826318526.py\u001b[0m in \u001b[0;36m<module>\u001b[1;34m\u001b[0m\n\u001b[1;32m----> 1\u001b[1;33m \u001b[0mflattened_array_4d\u001b[0m \u001b[1;33m=\u001b[0m \u001b[0mflatten_4d\u001b[0m\u001b[1;33m(\u001b[0m\u001b[0mnew_Ux\u001b[0m\u001b[1;33m,\u001b[0m \u001b[0mnew_Uy\u001b[0m\u001b[1;33m,\u001b[0m \u001b[0mratio_pts\u001b[0m\u001b[1;33m)\u001b[0m\u001b[1;33m\u001b[0m\u001b[1;33m\u001b[0m\u001b[0m\n\u001b[0m\u001b[0;32m      2\u001b[0m \u001b[0mflattened_array_4d\u001b[0m\u001b[1;33m.\u001b[0m\u001b[0mshape\u001b[0m\u001b[1;33m\u001b[0m\u001b[1;33m\u001b[0m\u001b[0m\n",
      "\u001b[1;32m~\\OneDrive\\Documents\\Théau EPFL\\9.MA1\\Machine learning\\ML_project2\\ml-project-2-thevipers2\\preprocessing.py\u001b[0m in \u001b[0;36mflatten_4d\u001b[1;34m(Ux, Uy, ratios_pts, size)\u001b[0m\n\u001b[0;32m    278\u001b[0m \u001b[1;33m\u001b[0m\u001b[0m\n\u001b[0;32m    279\u001b[0m             \u001b[1;31m# plug the concatenation of the x and y speed coordinate into the column of the final array\u001b[0m\u001b[1;33m\u001b[0m\u001b[1;33m\u001b[0m\u001b[1;33m\u001b[0m\u001b[0m\n\u001b[1;32m--> 280\u001b[1;33m             \u001b[0mflattened_array_all\u001b[0m\u001b[1;33m[\u001b[0m\u001b[0midx_sim\u001b[0m\u001b[1;33m,\u001b[0m \u001b[0mcol\u001b[0m\u001b[1;33m,\u001b[0m \u001b[1;33m:\u001b[0m\u001b[1;33m,\u001b[0m \u001b[1;33m:\u001b[0m\u001b[1;33m]\u001b[0m \u001b[1;33m=\u001b[0m \u001b[0msim_x\u001b[0m\u001b[1;33m\u001b[0m\u001b[1;33m\u001b[0m\u001b[0m\n\u001b[0m\u001b[0;32m    281\u001b[0m             \u001b[0mflattened_array_all\u001b[0m\u001b[1;33m[\u001b[0m\u001b[0midx_sim\u001b[0m\u001b[1;33m,\u001b[0m \u001b[1;33m:\u001b[0m\u001b[1;33m,\u001b[0m \u001b[0mcol\u001b[0m\u001b[1;33m,\u001b[0m \u001b[1;33m:\u001b[0m\u001b[1;33m]\u001b[0m \u001b[1;33m=\u001b[0m \u001b[0msim_y\u001b[0m\u001b[1;33m\u001b[0m\u001b[1;33m\u001b[0m\u001b[0m\n\u001b[0;32m    282\u001b[0m \u001b[1;33m\u001b[0m\u001b[0m\n",
      "\u001b[1;31mIndexError\u001b[0m: index 55 is out of bounds for axis 1 with size 55"
     ]
    }
   ],
   "source": [
    "flattened_array_4d = flatten_4d(new_Ux, new_Uy, ratio_pts)\n",
    "flattened_array_4d.shape"
   ]
  },
  {
   "cell_type": "code",
   "execution_count": null,
   "metadata": {},
   "outputs": [],
   "source": [
    "flattened_array_4d = normalize(flattened_array_4d)"
   ]
  },
  {
   "cell_type": "code",
   "execution_count": null,
   "metadata": {},
   "outputs": [],
   "source": [
    "x_train, x_test = train_test_split(flattened_array_4d, test_size=0.1, random_state=seed)"
   ]
  },
  {
   "cell_type": "code",
   "execution_count": null,
   "metadata": {},
   "outputs": [],
   "source": [
    "import h5py"
   ]
  },
  {
   "cell_type": "code",
   "execution_count": null,
   "metadata": {},
   "outputs": [],
   "source": [
    "hf = h5py.File('trainset.h5', 'w')\n",
    "hf.create_dataset('dataset_1', data=x_train)"
   ]
  },
  {
   "cell_type": "code",
   "execution_count": null,
   "metadata": {},
   "outputs": [],
   "source": [
    "hf = h5py.File('testset.h5', 'w')\n",
    "hf.create_dataset('dataset_1', data=x)"
   ]
  },
  {
   "cell_type": "markdown",
   "metadata": {},
   "source": [
    "## 6. Discussion & conclusion"
   ]
  },
  {
   "cell_type": "code",
   "execution_count": null,
   "metadata": {},
   "outputs": [],
   "source": []
  }
 ],
 "metadata": {
  "kernelspec": {
   "display_name": "Python 3 (ipykernel)",
   "language": "python",
   "name": "python3"
  },
  "language_info": {
   "codemirror_mode": {
    "name": "ipython",
    "version": 3
   },
   "file_extension": ".py",
   "mimetype": "text/x-python",
   "name": "python",
   "nbconvert_exporter": "python",
   "pygments_lexer": "ipython3",
   "version": "3.8.8"
  }
 },
 "nbformat": 4,
 "nbformat_minor": 4
}
