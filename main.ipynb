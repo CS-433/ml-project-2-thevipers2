{
 "cells": [
  {
   "cell_type": "markdown",
   "metadata": {},
   "source": [
    "# Machine Learning - Project 2:\n",
    "# _Autoencoder for mathematical modeling of blood flow in a stenosis context_"
   ]
  },
  {
   "cell_type": "markdown",
   "metadata": {},
   "source": [
    "## Context"
   ]
  },
  {
   "cell_type": "markdown",
   "metadata": {},
   "source": [
    "In this project, we are going to analyze data derived from..."
   ]
  },
  {
   "cell_type": "markdown",
   "metadata": {},
   "source": [
    "Our goals:\n",
    "1. modeliser mathématiquement l’écoulement sanguin à l’aide de PDE dépendante de 2-3 paramètres physique\n",
    "2. simuler l’écoulement par un code d’éléments fini ou similaire\n",
    "3. générer beaucoup de solutions avec une grande nombre de paramètres différents. (Les 2-3, pris de façon aléatoire)\n",
    "4. a. utiliser les solutions numérique pour établir un auto encoder qui au milieu n’ai que 2-5 hyper-paramètres libres  \n",
    "b. quel erreur on obtient ? Est-ce possible de réduire le nombre d’hyper-paramètres ?\n",
    "5. étudier s’il y a une rélation entre les 2-5 hyper-paramètre et les paramètres physique  \n",
    "a. à l’aide de statistiques\n",
    "5. b. à l’aide d’un DNN (différent de 4a)\n",
    "6. (optionnel) faire un DNN entre l’input de 4a et output les paramêtres physique. Et/ou l’inverse.\n",
    "7. Discussion et conclusions "
   ]
  },
  {
   "cell_type": "markdown",
   "metadata": {},
   "source": [
    "Abbreviations used:\n",
    "- $N_u$ = total number of spatial points per simulation\n",
    "- $N_t$ = total number of time steps per simulation\n",
    "- $N_s$ = total number of simulations"
   ]
  },
  {
   "cell_type": "markdown",
   "metadata": {},
   "source": [
    "## Table of contents"
   ]
  },
  {
   "cell_type": "markdown",
   "metadata": {},
   "source": [
    "[1. Data exploration](#data_exploration) \n",
    "- [Imports](#1imports)\n",
    "- [Pathways](#1pathways)\n",
    "- [Loading](#1load)\n",
    "- [Exploration](#1exploration)\n",
    "\n",
    "[2. Data preprocessing](#preprocessing)\n",
    "\n",
    "[3. Pickle](#pickle)\n",
    "\n",
    "[4. Autoencoder](#autoencoder)"
   ]
  },
  {
   "cell_type": "markdown",
   "metadata": {},
   "source": [
    "### Imports  <a name=\"1imports\"></a>"
   ]
  },
  {
   "cell_type": "code",
   "execution_count": 1,
   "metadata": {},
   "outputs": [],
   "source": [
    "# Useful starting lines\n",
    "%matplotlib inline\n",
    "import numpy as np\n",
    "import matplotlib.pyplot as plt\n",
    "import pandas as pd\n",
    "from helpers import *\n",
    "from preprocessing import *\n",
    "from sklearn.model_selection import train_test_split\n",
    "from autoencoder import *\n",
    "from crossvalidation import *\n",
    "import _pickle as cPickle\n",
    "%load_ext autoreload\n",
    "%autoreload 2\n",
    "torch.manual_seed(0)\n",
    "np.random.seed(1)\n",
    "seed = 1"
   ]
  },
  {
   "cell_type": "markdown",
   "metadata": {},
   "source": [
    "## 1. Data exploration  <a name=\"data_exploration\"></a>"
   ]
  },
  {
   "cell_type": "markdown",
   "metadata": {},
   "source": [
    "### Pathways <a name=\"1pathways\"></a>"
   ]
  },
  {
   "cell_type": "code",
   "execution_count": 2,
   "metadata": {},
   "outputs": [],
   "source": [
    "DATA_PATH = 'data/'\n",
    "DATA_Ux_PATH = DATA_PATH + 'u1_middle_small.csv.bz2'\n",
    "DATA_Uy_PATH = DATA_PATH + 'u2_middle_small.csv.bz2'"
   ]
  },
  {
   "cell_type": "markdown",
   "metadata": {},
   "source": [
    "### Loading <a name=\"1load\"></a>"
   ]
  },
  {
   "cell_type": "markdown",
   "metadata": {},
   "source": [
    "Let's load the data which consists of 2 matrices Ux, Uy denoting the x and y coordinates of the speed."
   ]
  },
  {
   "cell_type": "code",
   "execution_count": 3,
   "metadata": {},
   "outputs": [],
   "source": [
    "# Loading\n",
    "Ux_pd = pd.read_csv(DATA_Ux_PATH, header=None)\n",
    "Uy_pd = pd.read_csv(DATA_Uy_PATH, header=None)\n",
    "# Converting from dataframe to numpy\n",
    "Ux = Ux_pd.to_numpy()\n",
    "Uy = Uy_pd.to_numpy()"
   ]
  },
  {
   "cell_type": "markdown",
   "metadata": {},
   "source": [
    "### Exploration <a name=\"1exploration\"></a>"
   ]
  },
  {
   "cell_type": "markdown",
   "metadata": {},
   "source": [
    "Let's have a closer look at our imported data sets. The columns represent the time steps and the rows represent a point of our blood vessel mesh and each 5509 row a new simulation."
   ]
  },
  {
   "cell_type": "code",
   "execution_count": 4,
   "metadata": {
    "scrolled": false
   },
   "outputs": [
    {
     "name": "stdout",
     "output_type": "stream",
     "text": [
      "Our input array Ux is of shape: (964075, 110)\n",
      "Our input array Uy is of shape: (964075, 110)\n",
      "Printing a row of Ux: \n",
      " [0.07843621 0.31118352 0.68245424 1.15863002 1.69435217 2.2377946\n",
      " 2.73607737 3.14059293 3.41183529 3.52330289 3.63726074 3.7439734\n",
      " 3.84549407 3.94281205 4.03640323 4.12650964 4.2132592  4.29672103\n",
      " 4.37693287 4.45391539 4.52767992 4.59823263 4.6655769  4.72971455\n",
      " 4.79064658 4.84837353 4.90289569 4.95421322 5.00232621 5.04723472\n",
      " 5.08893877 5.12743839 5.16273359 5.19482437 5.22371075 5.24939272\n",
      " 5.2718703  5.29114348 5.30721227 5.32007667 5.32973668 5.33619229\n",
      " 5.33944353 5.33997115 5.33936904 5.33787084 5.33552701 5.33235975\n",
      " 5.32837974 5.3235924  5.31800058 5.31160582 5.30440894 5.29641041\n",
      " 5.28761047 5.27800926 5.26760686 5.25640331 5.24439864 5.23159284\n",
      " 5.21798594 5.20357794 5.18836883 5.17235862 5.15554731 5.13793491\n",
      " 5.1195214  5.1003068  5.0802911  5.05947431 5.03785642 5.01543743\n",
      " 4.99221734 4.96819616 4.94337388 4.9177505  4.89132603 4.86410046\n",
      " 4.8360738  4.80724604 4.77761718 4.74718722 4.71595617 4.68392403\n",
      " 4.65109078 4.61745644 4.583021   4.54778447 4.51174684 4.47490812\n",
      " 4.43726829 4.39882737 4.35958536 4.31954225 4.27869804 4.23705274\n",
      " 4.19460633 4.15135884 4.10731024 4.06246055 4.01680977 3.97035788\n",
      " 3.9231049  3.87505083 3.82619566 3.77653939 3.72608202 3.67482356\n",
      " 3.622764   3.56990335] \n",
      "\n",
      "Printing a row of Uy: \n",
      " [0.00126932 0.00582193 0.01465639 0.02786106 0.04476485 0.06411077\n",
      " 0.08425551 0.10338346 0.1197197  0.13172626 0.14106864 0.14861522\n",
      " 0.15494926 0.16046333 0.16541345 0.16996138 0.17420722 0.17821237\n",
      " 0.18201453 0.18563704 0.18909456 0.19239641 0.1955486  0.19855507\n",
      " 0.20141839 0.20414029 0.20672191 0.20916402 0.21146713 0.2136316\n",
      " 0.21565766 0.21754545 0.2192951  0.22090667 0.22238021 0.22371575\n",
      " 0.22491332 0.22597293 0.22689459 0.22767831 0.22832409 0.22883194\n",
      " 0.22920186 0.22944164 0.22958187 0.22964535 0.22964719 0.22959728\n",
      " 0.22950201 0.2293654  0.22918999 0.22897733 0.22872842 0.22844388\n",
      " 0.22812409 0.22776933 0.22737975 0.22695547 0.22649656 0.22600307\n",
      " 0.22547502 0.22491245 0.22431537 0.22368378 0.2230177  0.22231713\n",
      " 0.22158207 0.22081253 0.2200085  0.21916998 0.21829699 0.21738951\n",
      " 0.21644755 0.2154711  0.21446018 0.21341477 0.21233489 0.21122052\n",
      " 0.21007167 0.20888834 0.20767052 0.20641823 0.20513145 0.2038102\n",
      " 0.20245446 0.20106424 0.19963954 0.19818035 0.19668669 0.19515855\n",
      " 0.19359592 0.19199881 0.19036722 0.18870115 0.1870006  0.18526557\n",
      " 0.18349606 0.18169206 0.17985358 0.17798062 0.17607319 0.17413126\n",
      " 0.17215486 0.17014398 0.16809861 0.16601877 0.16390444 0.16175563\n",
      " 0.15957234 0.15735457] \n",
      "\n"
     ]
    }
   ],
   "source": [
    "print(\"Our input array Ux is of shape:\",Ux.shape)\n",
    "print(\"Our input array Uy is of shape:\",Uy.shape)\n",
    "print(\"Printing a row of Ux:\", '\\n', Ux[10,:], '\\n')\n",
    "print(\"Printing a row of Uy:\", '\\n', Uy[10,:], '\\n')"
   ]
  },
  {
   "cell_type": "markdown",
   "metadata": {},
   "source": [
    "For the rest of the analysis, we need to figure out the number of simulation step. As we know that we previsouly generated 25 simulations on Matlab and all the new simulations are appended row-wise, we can deduce it with the following computation."
   ]
  },
  {
   "cell_type": "code",
   "execution_count": 5,
   "metadata": {
    "scrolled": true
   },
   "outputs": [
    {
     "name": "stdout",
     "output_type": "stream",
     "text": [
      "We ran  175 simulations with different parameters for each simulation (parameters of the stenosis and resistance of the blood flow in the bifurcations)\n",
      "1 simulation calculate the velocities of the blood flow at  5509  different positions and at  110  different times\n"
     ]
    }
   ],
   "source": [
    "positions =5509 #We know it from the matlab code\n",
    "times = Ux.shape[1]\n",
    "simulations = int(Ux.shape[0]/positions)\n",
    "print(\"We ran \", simulations, \"simulations with different parameters for each simulation (parameters of the stenosis and resistance of the blood flow in the bifurcations)\")\n",
    "print(\"1 simulation calculate the velocities of the blood flow at \", positions, \" different positions and at \", times, \" different times\")"
   ]
  },
  {
   "cell_type": "markdown",
   "metadata": {},
   "source": [
    "## 2. Data preprocessing  <a name=\"preprocessing\"></a>"
   ]
  },
  {
   "cell_type": "markdown",
   "metadata": {},
   "source": [
    "Let's check if we have any NaN or None values in our dataframe."
   ]
  },
  {
   "cell_type": "code",
   "execution_count": 6,
   "metadata": {
    "scrolled": true
   },
   "outputs": [
    {
     "name": "stdout",
     "output_type": "stream",
     "text": [
      "0\n",
      "0\n"
     ]
    }
   ],
   "source": [
    "print(np.count_nonzero(np.isnan(Ux)))\n",
    "print(np.count_nonzero(np.isnan(Uy)))"
   ]
  },
  {
   "cell_type": "markdown",
   "metadata": {},
   "source": [
    "It seems there are no None values so we can start direclty preprocess our datasets."
   ]
  },
  {
   "cell_type": "markdown",
   "metadata": {},
   "source": [
    "ADDITIONAL IDEAS FOR PREPROCESSING\n",
    "- remove columns with 0 std dev?\n",
    "- standardization?"
   ]
  },
  {
   "cell_type": "markdown",
   "metadata": {},
   "source": [
    "Let's sample our data points into the following ratios : "
   ]
  },
  {
   "cell_type": "code",
   "execution_count": 7,
   "metadata": {},
   "outputs": [
    {
     "name": "stdout",
     "output_type": "stream",
     "text": [
      "(9625, 110) (9625, 110)\n"
     ]
    }
   ],
   "source": [
    "ratio_pts = 0.01\n",
    "ratio_time = 1\n",
    "\n",
    "new_Ux, new_Uy, new_inds = sample(Ux, Uy, ratio_pts, ratio_time)\n",
    "print(new_Ux.shape, new_Uy.shape)"
   ]
  },
  {
   "cell_type": "code",
   "execution_count": 8,
   "metadata": {},
   "outputs": [
    {
     "name": "stdout",
     "output_type": "stream",
     "text": [
      "With the sampling we got from  5509  positions to  55  positions\n",
      "With the sampling we got from  110  time steps to  110  time steps\n"
     ]
    }
   ],
   "source": [
    "new_Nu, new_Nt = get_Nu_Nt_sampled(Ux, new_Ux)\n",
    "\n",
    "print('With the sampling we got from ', 5509, ' positions to ', new_Nu, ' positions')\n",
    "print('With the sampling we got from ', 110, ' time steps to ', new_Nt, ' time steps')"
   ]
  },
  {
   "cell_type": "markdown",
   "metadata": {},
   "source": [
    "We can look at the positions of the sampled positions to make sure that we cover mostly all the important parts of the geometry of the artery :"
   ]
  },
  {
   "cell_type": "code",
   "execution_count": 9,
   "metadata": {
    "scrolled": true
   },
   "outputs": [
    {
     "data": {
      "image/png": "[encoded data removed]",
      "text/plain": [
       "<Figure size 432x288 with 1 Axes>"
      ]
     },
     "metadata": {
      "needs_background": "light"
     },
     "output_type": "display_data"
    }
   ],
   "source": [
    "plot_sampled_coord(new_inds) "
   ]
  },
  {
   "cell_type": "code",
   "execution_count": 10,
   "metadata": {},
   "outputs": [
    {
     "name": "stdout",
     "output_type": "stream",
     "text": [
      "[[0.06598187 0.25670229 0.55084151 ... 2.51511171 2.47896831 2.44227292]\n",
      " [0.01822349 0.06614118 0.13306091 ... 0.49577011 0.48856679 0.48125408]\n",
      " [0.06441595 0.25109322 0.5398679  ... 2.481933   2.44626963 2.41006156]\n",
      " ...\n",
      " [0.0680136  0.26761562 0.58127622 ... 2.85725826 2.8164228  2.77496189]\n",
      " [0.06685035 0.26296953 0.57104399 ... 2.80158018 2.76153202 2.72087054]\n",
      " [0.07571559 0.29995296 0.65629618 ... 3.4415466  3.39267592 3.34305416]]\n"
     ]
    }
   ],
   "source": [
    "print(new_Ux)"
   ]
  },
  {
   "cell_type": "markdown",
   "metadata": {},
   "source": [
    "Let's flatten our matrices into a single matrix with dimensions $(N_s, (2 N_u N_t))$. For each simulation, the x and y speed coordinates are compressed to the following 1D matrix:\n",
    "\n",
    "$$\n",
    "\\mathbf{M_{1D}}\n",
    "=\n",
    "\\begin{bmatrix}\n",
    "\\vdots \\\\\n",
    "u_{x}^{(0)} \\\\\n",
    "\\vdots \\\\\n",
    "u_{y}^{(0)} \\\\\n",
    "\\vdots \\\\\n",
    "u_{x}^{(1)} \\\\\n",
    "\\vdots \\\\\n",
    "u_{y}^{(1)} \\\\\n",
    "\\vdots \\\\\n",
    "u_{x}^{(N_t - 1)} \\\\\n",
    "\\vdots \\\\\n",
    "u_{y}^{(N_t - 1)} \\\\\n",
    "\\vdots \n",
    "\\end{bmatrix}\n",
    "$$\n",
    "\n"
   ]
  },
  {
   "cell_type": "code",
   "execution_count": 11,
   "metadata": {
    "scrolled": false
   },
   "outputs": [
    {
     "data": {
      "text/plain": [
       "(175, 12100)"
      ]
     },
     "execution_count": 11,
     "metadata": {},
     "output_type": "execute_result"
    }
   ],
   "source": [
    "flattened_array = flatten(new_Ux, new_Uy, ratio_pts)\n",
    "flattened_array.shape"
   ]
  },
  {
   "cell_type": "markdown",
   "metadata": {},
   "source": [
    "Let's make a sanity check that the dimension of 1 datapoint is indeed ${2 * new_{N_t} * new_{N_u}}$."
   ]
  },
  {
   "cell_type": "code",
   "execution_count": 12,
   "metadata": {},
   "outputs": [
    {
     "name": "stdout",
     "output_type": "stream",
     "text": [
      "12100\n"
     ]
    }
   ],
   "source": [
    "assert flattened_array.shape[1] == 2*new_Nt*new_Nu\n",
    "\n",
    "print(2*new_Nt*new_Nu)"
   ]
  },
  {
   "cell_type": "markdown",
   "metadata": {},
   "source": [
    "## 3. Pickle  <a name=\"pickle\"></a>"
   ]
  },
  {
   "cell_type": "markdown",
   "metadata": {},
   "source": [
    "To avoid the loading and processing steps each time we open the notebook, we will save the processed matrix \"flattened_array\" using pickle : "
   ]
  },
  {
   "cell_type": "markdown",
   "metadata": {},
   "source": [
    "In the following cell, we will create pickles for every subsampled data according to the ratios_pts and the ratios_t :"
   ]
  },
  {
   "cell_type": "code",
   "execution_count": 14,
   "metadata": {},
   "outputs": [],
   "source": [
    "ratios_pts = [0.1, 0.05, 0.02]\n",
    "ratios_t = [0.5, 0.25, 0.1]\n",
    "\n",
    "create_subsamples(Ux, Uy, ratios_pts, ratios_t, name_file='middle_small')"
   ]
  },
  {
   "cell_type": "markdown",
   "metadata": {},
   "source": [
    "#### Start from here if you the pickle file already exist in your data folder"
   ]
  },
  {
   "cell_type": "markdown",
   "metadata": {},
   "source": [
    "Change only the following cell to change the name of the file you want to open :"
   ]
  },
  {
   "cell_type": "code",
   "execution_count": 2,
   "metadata": {},
   "outputs": [
    {
     "name": "stdout",
     "output_type": "stream",
     "text": [
      "name of the file you want to read :  processed_very_small_0.1_0.1\n"
     ]
    }
   ],
   "source": [
    "ratios = [0.1, 0.1]\n",
    "size = ['very_small', 'small', 'large']\n",
    "\n",
    "name = 'processed_'+str(size[0])+'_'+str(ratios[0])+'_'+str(ratios[1])\n",
    "\n",
    "print('name of the file you want to read : ', name)"
   ]
  },
  {
   "cell_type": "code",
   "execution_count": 3,
   "metadata": {},
   "outputs": [],
   "source": [
    "flattened_array  = cPickle.load(open(\"data/pickle/\"+str(size[0])+\"/\"+name, \"rb\"))"
   ]
  },
  {
   "cell_type": "code",
   "execution_count": 4,
   "metadata": {},
   "outputs": [
    {
     "name": "stdout",
     "output_type": "stream",
     "text": [
      "[[ 5.83595480e-02  1.52145667e-02  5.22789790e-02 ...  1.30250813e+00\n",
      "   1.75962902e-02  3.29361219e-03]\n",
      " [ 6.44804449e-02  1.52124591e-02  6.16749165e-02 ...  1.12612391e+00\n",
      "   2.15122489e-02  1.69013092e-03]\n",
      " [ 1.48231783e-01  2.60291062e-02  1.49105089e-01 ...  1.52711420e+00\n",
      "  -1.40045143e-02 -3.46626137e-02]\n",
      " ...\n",
      " [ 9.96757422e-02  1.29199047e-02  8.22345984e-02 ...  3.16453290e+00\n",
      "   5.01625470e-02 -2.68016815e-03]\n",
      " [ 1.85973493e-01  4.85260306e-02  1.79182342e-01 ...  3.10024150e+00\n",
      "   3.40756151e-02 -1.95397704e-02]\n",
      " [ 1.65302611e-01  3.80143624e-02  1.64879092e-01 ...  1.77349641e+00\n",
      "   2.60974691e-02  2.09641184e-02]]\n"
     ]
    }
   ],
   "source": [
    "print(flattened_array)"
   ]
  },
  {
   "cell_type": "markdown",
   "metadata": {},
   "source": [
    "##### Final step : split train/test\n",
    "\n",
    "We split the data set into a training a testing set to be able to evaluate our autoencoder."
   ]
  },
  {
   "cell_type": "code",
   "execution_count": 5,
   "metadata": {},
   "outputs": [
    {
     "name": "stdout",
     "output_type": "stream",
     "text": [
      "(22, 12100)\n",
      "(3, 12100)\n"
     ]
    }
   ],
   "source": [
    "x_train, x_test = train_test_split(flattened_array, test_size=0.1, random_state=seed)\n",
    "y_train, y_test = x_train, x_test\n",
    "\n",
    "print(x_train.shape)\n",
    "print(x_test.shape)"
   ]
  },
  {
   "cell_type": "markdown",
   "metadata": {},
   "source": [
    "## 4. Feed-forward auto-encoder  <a name=\"autoencoder\"></a>"
   ]
  },
  {
   "cell_type": "markdown",
   "metadata": {},
   "source": [
    "#### Parameters tuning"
   ]
  },
  {
   "cell_type": "markdown",
   "metadata": {},
   "source": [
    "Find the best learning rate of our model using cross-validation :"
   ]
  },
  {
   "cell_type": "code",
   "execution_count": 31,
   "metadata": {},
   "outputs": [],
   "source": [
    "# define network parameters\n",
    "learning_rates =[0.1, 0.05, 0.01, 0.005, 0.001]\n",
    "epochs= 2 #50\n",
    "input_size=x_train.shape[1]\n",
    "k_folds = 5\n",
    "dataset_name = \"very_small\" #Only used to save the plot with the good name\n",
    "\n",
    "# creates a criterion that measures the mean squared error (squared L2 norm) \n",
    "criterion = nn.MSELoss()  "
   ]
  },
  {
   "cell_type": "code",
   "execution_count": 32,
   "metadata": {},
   "outputs": [
    {
     "name": "stdout",
     "output_type": "stream",
     "text": [
      "\u001b[1mLearning rate =  0.1\n",
      "\u001b[0m\n",
      "Performance of 5 fold cross validation: \n",
      "Average Training Error: 275634.460 \t Average Test Error: 280156.391\n",
      " \n",
      "\u001b[1mLearning rate =  0.05\n",
      "\u001b[0m\n",
      "Performance of 5 fold cross validation: \n",
      "Average Training Error: 1.009 \t Average Test Error: 0.996\n",
      " \n",
      "\u001b[1mLearning rate =  0.01\n",
      "\u001b[0m\n",
      "Performance of 5 fold cross validation: \n",
      "Average Training Error: 0.976 \t Average Test Error: 0.975\n",
      " \n",
      "\u001b[1mLearning rate =  0.005\n",
      "\u001b[0m\n",
      "Performance of 5 fold cross validation: \n",
      "Average Training Error: 0.603 \t Average Test Error: 0.571\n",
      " \n",
      "\u001b[1mLearning rate =  0.001\n",
      "\u001b[0m\n",
      "Performance of 5 fold cross validation: \n",
      "Average Training Error: 0.988 \t Average Test Error: 0.987\n",
      " \n",
      "\u001b[0m\n",
      "Best learning rate is  0.005  with a best error of :  0.5706693245346489\n",
      "\u001b[0m\n"
     ]
    },
    {
     "data": {
      "image/png": "[encoded data removed]",
      "text/plain": [
       "<Figure size 432x288 with 1 Axes>"
      ]
     },
     "metadata": {
      "needs_background": "light"
     },
     "output_type": "display_data"
    }
   ],
   "source": [
    "best_result, best_lr = tuning_lr(x_train, k_folds, input_size, epochs, criterion, learning_rates,  dataset_name_=dataset_name)"
   ]
  },
  {
   "cell_type": "markdown",
   "metadata": {},
   "source": [
    "Find the best number of neurons in the latent space (neurons in the \"middle layer of the auto-encoder\") in the auto-encoder (which is actually the dimension of the compressed data) : "
   ]
  },
  {
   "cell_type": "code",
   "execution_count": 33,
   "metadata": {},
   "outputs": [],
   "source": [
    "# define network parameters\n",
    "lr = best_lr # from above\n",
    "epochs= 1 #50\n",
    "input_size=x_train.shape[1]\n",
    "k_folds = 5\n",
    "number_neurons = [3, 5] #[3, 5, 6, 8, 10]\n",
    "dataset_name = \"very_small\" #Only used to save the plot with the good name\n",
    "\n",
    "# creates a criterion that measures the mean squared error (squared L2 norm) \n",
    "criterion = nn.MSELoss()  "
   ]
  },
  {
   "cell_type": "code",
   "execution_count": 34,
   "metadata": {},
   "outputs": [
    {
     "name": "stdout",
     "output_type": "stream",
     "text": [
      "\u001b[1mNumber of neurons =  3\n",
      "\u001b[0m\n",
      "Performance of 5 fold cross validation: \n",
      "Average Training Error: 0.857 \t Average Test Error: 0.849\n",
      " \n",
      "\u001b[1mNumber of neurons =  5\n",
      "\u001b[0m\n",
      "Performance of 5 fold cross validation: \n",
      "Average Training Error: 0.889 \t Average Test Error: 0.891\n",
      " \n",
      "The results obtained for the number of latent neurons tested are the following : [0.8485467306247962, 0.8906018940955327].\n",
      "The best average test error obtained is 0.8485467306247962, and it is obtained with 3 neurons in the latent layer.\n"
     ]
    },
    {
     "data": {
      "image/png": "[encoded data removed]",
      "text/plain": [
       "<Figure size 432x288 with 1 Axes>"
      ]
     },
     "metadata": {
      "needs_background": "light"
     },
     "output_type": "display_data"
    }
   ],
   "source": [
    "best_result, best_neurons_nb = tuning_latent_layer(x_train, k_folds, input_size, epochs, criterion, lr, number_neurons,  dataset_name_=dataset_name)"
   ]
  },
  {
   "cell_type": "markdown",
   "metadata": {},
   "source": [
    "#### Let's try with the tuned parameters and see how it goes along the epochs"
   ]
  },
  {
   "cell_type": "code",
   "execution_count": null,
   "metadata": {},
   "outputs": [],
   "source": [
    "# define network parameters\n",
    "learningRate= best_lr\n",
    "epochs=50\n",
    "input_size=x_train.shape[1]\n",
    "k_folds = 5\n",
    "neuron_ = best_neurons_nb\n",
    "\n",
    "# creates a criterion that measures the mean squared error (squared L2 norm) \n",
    "criterion = nn.MSELoss() "
   ]
  },
  {
   "cell_type": "code",
   "execution_count": null,
   "metadata": {},
   "outputs": [],
   "source": [
    "Kfold(x_train, k_folds, input_size, epochs, criterion, learningRate, neuron=neuron_)"
   ]
  },
  {
   "cell_type": "markdown",
   "metadata": {},
   "source": [
    "#### Quality of the compression on the test set using the tuned parameters :"
   ]
  },
  {
   "cell_type": "markdown",
   "metadata": {},
   "source": [
    "We will now train and test our auto-encoder for different sample size of our initial dataset. To do so we will do a batch processing and store the final train and test errors. See the report to see the nice comparison table :"
   ]
  },
  {
   "cell_type": "code",
   "execution_count": null,
   "metadata": {},
   "outputs": [],
   "source": [
    "import glob\n",
    "import os \n",
    "import _pickle as cPickle\n",
    "\n",
    "dataset = 'very_small'\n",
    "file_location = os.path.join('data', 'pickle', dataset, '*')\n",
    "filenames = glob.glob(file_location)\n",
    "i=0 \n",
    "\n",
    "\n",
    "# define the model\n",
    "best_lr = 0.1\n",
    "best_neurons = 5\n",
    "epochs=50\n",
    "input_size=filenames[0].shape[1]\n",
    "criterion = nn.MSELoss() \n",
    "\n",
    "model = Autoencoder(input_size, best_neurons)\n",
    "optimizer = torch.optim.Adam(model.parameters(), lr=best_lr, weight_decay=1e-5)\n",
    "\n",
    "test_errors = []\n",
    "train_errors = []\n",
    "\n",
    "for f in filenames:\n",
    "    #Load the data\n",
    "    x  = cPickle.load(open(f, \"rb\"))\n",
    "    \n",
    "    #Split\n",
    "    x_train, x_test = train_test_split(x, test_size=0.1, random_state=seed)\n",
    "    y_train, y_test = x_train, x_test\n",
    "    \n",
    "    #Training\n",
    "\n",
    "    # loop over the epochs\n",
    "    for epoch in range(epochs):\n",
    "        # train the model \n",
    "        train_loss=train_epoch(x_train, model, criterion, optimizer)\n",
    "        # compute the relative training error\n",
    "        train_error = valid_epoch(x_train, model)\n",
    "        # compute the relative test error\n",
    "        test_error=valid_epoch(x_test, model)\n",
    "    \n",
    "    #Save the last epoch train and test errors\n",
    "    test_errors.append(test_error)\n",
    "    train_errors.appedn(train_error)"
   ]
  },
  {
   "cell_type": "code",
   "execution_count": null,
   "metadata": {},
   "outputs": [],
   "source": [
    "#Save in pickles\n",
    "\n",
    "name = \"train_errors_\" + dataset\n",
    "cPickle.dump( train_errors , open( name, \"wb\" ) )\n",
    "name = \"test_errors_\" + dataset\n",
    "cPickle.dump( test_errors , open( name, \"wb\" ) )"
   ]
  },
  {
   "cell_type": "markdown",
   "metadata": {},
   "source": [
    "## 4. Passer en 2D "
   ]
  },
  {
   "cell_type": "markdown",
   "metadata": {},
   "source": [
    "Instead of flattenning our initial dataset into a colummn vector for each simulation, we split it into a 2D matrix for each simulation such as the following:\n",
    "\n",
    "$$\n",
    "\\mathbf{M_{2D}}\n",
    "=\n",
    "\\begin{bmatrix}\n",
    "\\vdots & \\vdots & \\vdots & \\vdots \\\\\n",
    "u_{x}^{(0)} & u_{x}^{(1)} & \\cdots &\n",
    "u_{x}^{(N_t - 1)} \\\\\n",
    "\\vdots & \\vdots & \\ddots & \\vdots \\\\\n",
    "u_{y}^{(0)} & u_{y}^{(1)} & \\cdots &\n",
    "u_{y}^{(N_t - 1)} \\\\\n",
    "\\vdots & \\vdots & \\vdots & \\vdots\n",
    "\\end{bmatrix}\n",
    "$$"
   ]
  },
  {
   "cell_type": "code",
   "execution_count": 16,
   "metadata": {},
   "outputs": [
    {
     "data": {
      "text/plain": [
       "(25, 1100, 110)"
      ]
     },
     "execution_count": 16,
     "metadata": {},
     "output_type": "execute_result"
    }
   ],
   "source": [
    "flattened_array = flatten_2d(new_Ux, new_Uy, ratio_pts)\n",
    "flattened_array.shape"
   ]
  },
  {
   "cell_type": "markdown",
   "metadata": {},
   "source": [
    "## 5. Passer en 4D"
   ]
  },
  {
   "cell_type": "code",
   "execution_count": 11,
   "metadata": {},
   "outputs": [
    {
     "ename": "IndexError",
     "evalue": "index 55 is out of bounds for axis 1 with size 55",
     "output_type": "error",
     "traceback": [
      "\u001b[1;31m---------------------------------------------------------------------------\u001b[0m",
      "\u001b[1;31mIndexError\u001b[0m                                Traceback (most recent call last)",
      "\u001b[1;32m~\\AppData\\Local\\Temp/ipykernel_12324/826318526.py\u001b[0m in \u001b[0;36m<module>\u001b[1;34m\u001b[0m\n\u001b[1;32m----> 1\u001b[1;33m \u001b[0mflattened_array_4d\u001b[0m \u001b[1;33m=\u001b[0m \u001b[0mflatten_4d\u001b[0m\u001b[1;33m(\u001b[0m\u001b[0mnew_Ux\u001b[0m\u001b[1;33m,\u001b[0m \u001b[0mnew_Uy\u001b[0m\u001b[1;33m,\u001b[0m \u001b[0mratio_pts\u001b[0m\u001b[1;33m)\u001b[0m\u001b[1;33m\u001b[0m\u001b[1;33m\u001b[0m\u001b[0m\n\u001b[0m\u001b[0;32m      2\u001b[0m \u001b[0mflattened_array_4d\u001b[0m\u001b[1;33m.\u001b[0m\u001b[0mshape\u001b[0m\u001b[1;33m\u001b[0m\u001b[1;33m\u001b[0m\u001b[0m\n",
      "\u001b[1;32m~\\OneDrive\\Documents\\Théau EPFL\\9.MA1\\Machine learning\\ML_project2\\ml-project-2-thevipers2\\preprocessing.py\u001b[0m in \u001b[0;36mflatten_4d\u001b[1;34m(Ux, Uy, ratios_pts, size)\u001b[0m\n\u001b[0;32m    278\u001b[0m \u001b[1;33m\u001b[0m\u001b[0m\n\u001b[0;32m    279\u001b[0m             \u001b[1;31m# plug the concatenation of the x and y speed coordinate into the column of the final array\u001b[0m\u001b[1;33m\u001b[0m\u001b[1;33m\u001b[0m\u001b[1;33m\u001b[0m\u001b[0m\n\u001b[1;32m--> 280\u001b[1;33m             \u001b[0mflattened_array_all\u001b[0m\u001b[1;33m[\u001b[0m\u001b[0midx_sim\u001b[0m\u001b[1;33m,\u001b[0m \u001b[0mcol\u001b[0m\u001b[1;33m,\u001b[0m \u001b[1;33m:\u001b[0m\u001b[1;33m,\u001b[0m \u001b[1;33m:\u001b[0m\u001b[1;33m]\u001b[0m \u001b[1;33m=\u001b[0m \u001b[0msim_x\u001b[0m\u001b[1;33m\u001b[0m\u001b[1;33m\u001b[0m\u001b[0m\n\u001b[0m\u001b[0;32m    281\u001b[0m             \u001b[0mflattened_array_all\u001b[0m\u001b[1;33m[\u001b[0m\u001b[0midx_sim\u001b[0m\u001b[1;33m,\u001b[0m \u001b[1;33m:\u001b[0m\u001b[1;33m,\u001b[0m \u001b[0mcol\u001b[0m\u001b[1;33m,\u001b[0m \u001b[1;33m:\u001b[0m\u001b[1;33m]\u001b[0m \u001b[1;33m=\u001b[0m \u001b[0msim_y\u001b[0m\u001b[1;33m\u001b[0m\u001b[1;33m\u001b[0m\u001b[0m\n\u001b[0;32m    282\u001b[0m \u001b[1;33m\u001b[0m\u001b[0m\n",
      "\u001b[1;31mIndexError\u001b[0m: index 55 is out of bounds for axis 1 with size 55"
     ]
    }
   ],
   "source": [
    "flattened_array_4d = flatten_4d(new_Ux, new_Uy, ratio_pts)\n",
    "flattened_array_4d.shape"
   ]
  },
  {
   "cell_type": "code",
   "execution_count": null,
   "metadata": {},
   "outputs": [],
   "source": [
    "flattened_array_4d = normalize(flattened_array_4d)"
   ]
  },
  {
   "cell_type": "code",
   "execution_count": null,
   "metadata": {},
   "outputs": [],
   "source": [
    "x_train, x_test = train_test_split(flattened_array_4d, test_size=0.1, random_state=seed)"
   ]
  },
  {
   "cell_type": "code",
   "execution_count": null,
   "metadata": {},
   "outputs": [],
   "source": [
    "import h5py"
   ]
  },
  {
   "cell_type": "code",
   "execution_count": null,
   "metadata": {},
   "outputs": [],
   "source": [
    "hf = h5py.File('trainset.h5', 'w')\n",
    "hf.create_dataset('dataset_1', data=x_train)"
   ]
  },
  {
   "cell_type": "code",
   "execution_count": null,
   "metadata": {},
   "outputs": [],
   "source": [
    "hf = h5py.File('testset.h5', 'w')\n",
    "hf.create_dataset('dataset_1', data=x)"
   ]
  },
  {
   "cell_type": "markdown",
   "metadata": {},
   "source": [
    "## 6. Discussion & conclusion"
   ]
  },
  {
   "cell_type": "code",
   "execution_count": null,
   "metadata": {},
   "outputs": [],
   "source": []
  }
 ],
 "metadata": {
  "kernelspec": {
   "display_name": "Python 3 (ipykernel)",
   "language": "python",
   "name": "python3"
  },
  "language_info": {
   "codemirror_mode": {
    "name": "ipython",
    "version": 3
   },
   "file_extension": ".py",
   "mimetype": "text/x-python",
   "name": "python",
   "nbconvert_exporter": "python",
   "pygments_lexer": "ipython3",
   "version": "3.8.8"
  }
 },
 "nbformat": 4,
 "nbformat_minor": 4
}
