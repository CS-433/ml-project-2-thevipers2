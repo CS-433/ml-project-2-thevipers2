{
 "cells": [
  {
   "cell_type": "markdown",
   "metadata": {},
   "source": [
    "# Machine Learning - Project 2:\n",
    "# _Autoencoder for mathematical modeling of blood flow in a stenosis context_"
   ]
  },
  {
   "cell_type": "markdown",
   "metadata": {},
   "source": [
    "## Context"
   ]
  },
  {
   "cell_type": "markdown",
   "metadata": {},
   "source": [
    "In this project, we are going to analyze data derived from..."
   ]
  },
  {
   "cell_type": "markdown",
   "metadata": {},
   "source": [
    "Our goals:\n",
    "1. modeliser mathématiquement l’écoulement sanguin à l’aide de PDE dépendante de 2-3 paramètres physique\n",
    "2. simuler l’écoulement par un code d’éléments fini ou similaire\n",
    "3. générer beaucoup de solutions avec une grande nombre de paramètres différents. (Les 2-3, pris de façon aléatoire)\n",
    "4. a. utiliser les solutions numérique pour établir un auto encoder qui au milieu n’ai que 2-5 hyper-paramètres libres  \n",
    "b. quel erreur on obtient ? Est-ce possible de réduire le nombre d’hyper-paramètres ?\n",
    "5. étudier s’il y a une rélation entre les 2-5 hyper-paramètre et les paramètres physique  \n",
    "a. à l’aide de statistiques\n",
    "5. b. à l’aide d’un DNN (différent de 4a)\n",
    "6. (optionnel) faire un DNN entre l’input de 4a et output les paramêtres physique. Et/ou l’inverse.\n",
    "7. Discussion et conclusions "
   ]
  },
  {
   "cell_type": "markdown",
   "metadata": {},
   "source": [
    "Abbreviations used:\n",
    "- $N_u$ = total number of spatial points per simulation\n",
    "- $N_t$ = total number of time steps per simulation\n",
    "- $N_s$ = total number of simulations"
   ]
  },
  {
   "cell_type": "markdown",
   "metadata": {},
   "source": [
    "## Table of contents"
   ]
  },
  {
   "cell_type": "markdown",
   "metadata": {},
   "source": [
    "[1. Data exploration](#data_exploration) \n",
    "- [Imports](#1imports)\n",
    "- [Pathways](#1pathways)\n",
    "- [Loading](#1load)\n",
    "- [Exploration](#1exploration)\n",
    "\n",
    "[2. Data preprocessing](#preprocessing)\n",
    "\n",
    "[3. Autoencode](#classifier)"
   ]
  },
  {
   "cell_type": "markdown",
   "metadata": {},
   "source": [
    "## 1. Data exploration  <a name=\"data_exploration\"></a>"
   ]
  },
  {
   "cell_type": "markdown",
   "metadata": {},
   "source": [
    "### Imports  <a name=\"1imports\"></a>"
   ]
  },
  {
   "cell_type": "code",
   "execution_count": 4,
   "metadata": {},
   "outputs": [
    {
     "name": "stdout",
     "output_type": "stream",
     "text": [
      "The autoreload extension is already loaded. To reload it, use:\n",
      "  %reload_ext autoreload\n"
     ]
    }
   ],
   "source": [
    "# Useful starting lines\n",
    "%matplotlib inline\n",
    "import numpy as np\n",
    "import matplotlib.pyplot as plt\n",
    "import pandas as pd\n",
    "from helpers import *\n",
    "from preprocessing import *\n",
    "from sklearn.model_selection import train_test_split\n",
    "from autoencoder import *\n",
    "%load_ext autoreload\n",
    "%autoreload 2"
   ]
  },
  {
   "cell_type": "markdown",
   "metadata": {},
   "source": [
    "### Pathways <a name=\"1pathways\"></a>"
   ]
  },
  {
   "cell_type": "code",
   "execution_count": 77,
   "metadata": {},
   "outputs": [],
   "source": [
    "DATA_PATH = 'data/'\n",
    "DATA_Ux_PATH = DATA_PATH + 'u1_small.csv.bz2'\n",
    "DATA_Uy_PATH = DATA_PATH + 'u2_small.csv.bz2'"
   ]
  },
  {
   "cell_type": "markdown",
   "metadata": {},
   "source": [
    "### Loading <a name=\"1load\"></a>"
   ]
  },
  {
   "cell_type": "markdown",
   "metadata": {},
   "source": [
    "Let's load the data which consists of 2 matrices Ux, Uy denoting the x and y coordinates of the speed."
   ]
  },
  {
   "cell_type": "code",
   "execution_count": 78,
   "metadata": {},
   "outputs": [],
   "source": [
    "# Loading\n",
    "Ux_pd = pd.read_csv(DATA_Ux_PATH, header=None)\n",
    "Uy_pd = pd.read_csv(DATA_Uy_PATH, header=None)\n",
    "# Converting from dataframe to numpy\n",
    "Ux = Ux_pd.to_numpy()\n",
    "Uy = Uy_pd.to_numpy()"
   ]
  },
  {
   "cell_type": "markdown",
   "metadata": {},
   "source": [
    "### Exploration <a name=\"1exploration\"></a>"
   ]
  },
  {
   "cell_type": "markdown",
   "metadata": {},
   "source": [
    "Let's have a closer look at our imported data sets. The columns represent the time steps and the rows represent a point of our blood vessel mesh and each 5509 row a new simulation."
   ]
  },
  {
   "cell_type": "code",
   "execution_count": 79,
   "metadata": {
    "scrolled": false
   },
   "outputs": [
    {
     "name": "stdout",
     "output_type": "stream",
     "text": [
      "Our input array Ux is of shape: (3029950, 110)\n",
      "Our input array Uy is of shape: (3035459, 110)\n",
      "Printing a row of Ux: \n",
      " [0.06417897 0.25470302 0.55885671 0.9493     1.38895813 1.83536662\n",
      " 2.24512906 2.57829978 2.80235851 2.89542637 2.99010086 3.07846599\n",
      " 3.16237576 3.24272178 3.31993687 3.39424293 3.46575844 3.53454851\n",
      " 3.60064961 3.66408252 3.72485926 3.7829869  3.83846969 3.89131023\n",
      " 3.94151015 3.98907053 4.03399206 4.07627523 4.11592037 4.15292772\n",
      " 4.18729746 4.21902971 4.24812457 4.27458211 4.29840238 4.31958542\n",
      " 4.33813127 4.35403995 4.36731148 4.37794586 4.38594311 4.39130324\n",
      " 4.39402626 4.39450555 4.39404578 4.39284058 4.39093435 4.38834725\n",
      " 4.38508917 4.38116522 4.37657817 4.37132956 4.36542029 4.35885087\n",
      " 4.3516216  4.34373269 4.33518425 4.32597635 4.31610906 4.3055824\n",
      " 4.29439639 4.28255106 4.27004643 4.25688248 4.24305925 4.22857672\n",
      " 4.2134349  4.19763381 4.18117343 4.16405377 4.14627483 4.12783661\n",
      " 4.10873912 4.08898235 4.06856631 4.04749099 4.02575639 4.00336252\n",
      " 3.98030938 3.95659696 3.93222526 3.90719429 3.88150404 3.85515452\n",
      " 3.82814573 3.80047766 3.77215032 3.7431637  3.71351781 3.68321264\n",
      " 3.6522482  3.62062448 3.58834149 3.55539922 3.52179768 3.48753686\n",
      " 3.45261677 3.41703741 3.38079877 3.34390086 3.30634367 3.26812721\n",
      " 3.22925147 3.18971646 3.14952217 3.10866861 3.06715577 3.02498366\n",
      " 2.98215227 2.93866161] \n",
      "\n",
      "Printing a row of Uy: \n",
      " [0.06417897 0.25470302 0.55885671 0.9493     1.38895813 1.83536662\n",
      " 2.24512906 2.57829978 2.80235851 2.89542637 2.99010086 3.07846599\n",
      " 3.16237576 3.24272178 3.31993687 3.39424293 3.46575844 3.53454851\n",
      " 3.60064961 3.66408252 3.72485926 3.7829869  3.83846969 3.89131023\n",
      " 3.94151015 3.98907053 4.03399206 4.07627523 4.11592037 4.15292772\n",
      " 4.18729746 4.21902971 4.24812457 4.27458211 4.29840238 4.31958542\n",
      " 4.33813127 4.35403995 4.36731148 4.37794586 4.38594311 4.39130324\n",
      " 4.39402626 4.39450555 4.39404578 4.39284058 4.39093435 4.38834725\n",
      " 4.38508917 4.38116522 4.37657817 4.37132956 4.36542029 4.35885087\n",
      " 4.3516216  4.34373269 4.33518425 4.32597635 4.31610906 4.3055824\n",
      " 4.29439639 4.28255106 4.27004643 4.25688248 4.24305925 4.22857672\n",
      " 4.2134349  4.19763381 4.18117343 4.16405377 4.14627483 4.12783661\n",
      " 4.10873912 4.08898235 4.06856631 4.04749099 4.02575639 4.00336252\n",
      " 3.98030938 3.95659696 3.93222526 3.90719429 3.88150404 3.85515452\n",
      " 3.82814573 3.80047766 3.77215032 3.7431637  3.71351781 3.68321264\n",
      " 3.6522482  3.62062448 3.58834149 3.55539922 3.52179768 3.48753686\n",
      " 3.45261677 3.41703741 3.38079877 3.34390086 3.30634367 3.26812721\n",
      " 3.22925147 3.18971646 3.14952217 3.10866861 3.06715577 3.02498366\n",
      " 2.98215227 2.93866161] \n",
      "\n"
     ]
    }
   ],
   "source": [
    "print(\"Our input array Ux is of shape:\",Ux.shape)\n",
    "print(\"Our input array Uy is of shape:\",Uy.shape)\n",
    "print(\"Printing a row of Ux:\", '\\n', Ux[10,:], '\\n')\n",
    "print(\"Printing a row of Uy:\", '\\n', Uy[10,:], '\\n')"
   ]
  },
  {
   "cell_type": "markdown",
   "metadata": {},
   "source": [
    "For the rest of the analysis, we need to figure out the number of simulation step. As we know that we previsouly generated 25 simulations on Matlab and all the new simulations are appended row-wise, we can deduce it with the following computation."
   ]
  },
  {
   "cell_type": "code",
   "execution_count": 80,
   "metadata": {
    "scrolled": true
   },
   "outputs": [
    {
     "name": "stdout",
     "output_type": "stream",
     "text": [
      "We have run 3029950 simulations with a step of 121198.0\n"
     ]
    }
   ],
   "source": [
    "size = Ux.shape[0]/25\n",
    "print(\"We have run\", Ux.shape[0],\"simulations with a step of\",size)"
   ]
  },
  {
   "cell_type": "markdown",
   "metadata": {},
   "source": [
    "## 2. Data preprocessing  <a name=\"preprocessing\"></a>"
   ]
  },
  {
   "cell_type": "markdown",
   "metadata": {},
   "source": [
    "Let's check if we have any NaN or None values in our dataframe."
   ]
  },
  {
   "cell_type": "code",
   "execution_count": 81,
   "metadata": {
    "scrolled": true
   },
   "outputs": [
    {
     "name": "stdout",
     "output_type": "stream",
     "text": [
      "0\n",
      "0\n"
     ]
    }
   ],
   "source": [
    "print(np.count_nonzero(np.isnan(Ux)))\n",
    "print(np.count_nonzero(np.isnan(Uy)))"
   ]
  },
  {
   "cell_type": "markdown",
   "metadata": {},
   "source": [
    "It seems there are no None values so we can start direclty preprocess our datasets."
   ]
  },
  {
   "cell_type": "markdown",
   "metadata": {},
   "source": [
    "ADDITIONAL IDEAS FOR PREPROCESSING\n",
    "- remove columns with 0 std dev?\n",
    "- standardization?"
   ]
  },
  {
   "cell_type": "markdown",
   "metadata": {},
   "source": [
    "Let's sample our data points into the following ratios : "
   ]
  },
  {
   "cell_type": "code",
   "execution_count": 82,
   "metadata": {},
   "outputs": [
    {
     "name": "stdout",
     "output_type": "stream",
     "text": [
      "(302500, 110) (302500, 110)\n"
     ]
    }
   ],
   "source": [
    "ratio_pts = 0.1\n",
    "ratio_time = 1\n",
    "\n",
    "new_Ux, new_Uy, new_inds = sample(Ux, Uy, ratio_pts, ratio_time)\n",
    "print(new_Ux.shape, new_Uy.shape)"
   ]
  },
  {
   "cell_type": "code",
   "execution_count": 83,
   "metadata": {},
   "outputs": [
    {
     "name": "stdout",
     "output_type": "stream",
     "text": [
      "With the sampling we got from  5509  positions to  550  positions\n",
      "With the sampling we got from  110  time steps to  110  time steps\n"
     ]
    }
   ],
   "source": [
    "new_Nu, new_Nt = get_Nu_Nt_sampled(Ux, new_Ux)\n",
    "\n",
    "print('With the sampling we got from ', 5509, ' positions to ', new_Nu, ' positions')\n",
    "print('With the sampling we got from ', 110, ' time steps to ', new_Nt, ' time steps')"
   ]
  },
  {
   "cell_type": "markdown",
   "metadata": {},
   "source": [
    "We can look at the positions of the sampled positions to make sure that we cover mostly all the important parts of the geometry of the artery :"
   ]
  },
  {
   "cell_type": "code",
   "execution_count": 84,
   "metadata": {},
   "outputs": [
    {
     "data": {
      "image/png": "[encoded data removed]",
      "text/plain": [
       "<Figure size 432x288 with 1 Axes>"
      ]
     },
     "metadata": {},
     "output_type": "display_data"
    }
   ],
   "source": [
    "plot_sampled_coord(new_inds) "
   ]
  },
  {
   "cell_type": "markdown",
   "metadata": {},
   "source": [
    "Let's flatten our matrices into a single matrix with dimensions $((2 N_u N_t), N_s)$"
   ]
  },
  {
   "cell_type": "code",
   "execution_count": 85,
   "metadata": {},
   "outputs": [
    {
     "name": "stdout",
     "output_type": "stream",
     "text": [
      "[[0.05297715 0.2061886  0.44266392 ... 2.02004071 1.99099906 1.96151397]\n",
      " [0.01322163 0.04695252 0.09198472 ... 0.26373287 0.25978999 0.2557881 ]\n",
      " [0.04901893 0.19057232 0.40862265 ... 1.83301461 1.80660185 1.77978629]\n",
      " ...\n",
      " [0.06329908 0.25164429 0.55250989 ... 2.94060993 2.8988906  2.85652978]\n",
      " [0.01160936 0.03880894 0.07115106 ... 0.13202943 0.12995503 0.12785035]\n",
      " [0.02760381 0.10274274 0.21184031 ... 0.88227332 0.86956985 0.85667256]]\n"
     ]
    }
   ],
   "source": [
    "print(new_Ux)"
   ]
  },
  {
   "cell_type": "code",
   "execution_count": 86,
   "metadata": {
    "scrolled": false
   },
   "outputs": [
    {
     "data": {
      "text/plain": [
       "(550, 121000)"
      ]
     },
     "execution_count": 86,
     "metadata": {},
     "output_type": "execute_result"
    }
   ],
   "source": [
    "flattened_array = flatten(new_Ux, new_Uy, ratio_pts)\n",
    "flattened_array.shape"
   ]
  },
  {
   "cell_type": "markdown",
   "metadata": {},
   "source": [
    "Let's make a sanity check that the dimension of 1 datapoint is indeed ${2 * new_{N_t} * new_{N_u})}$"
   ]
  },
  {
   "cell_type": "code",
   "execution_count": 87,
   "metadata": {},
   "outputs": [
    {
     "name": "stdout",
     "output_type": "stream",
     "text": [
      "121000\n"
     ]
    }
   ],
   "source": [
    "assert flattened_array.shape[1] == 2*new_Nt*new_Nu\n",
    "\n",
    "print(2*new_Nt*new_Nu)"
   ]
  },
  {
   "cell_type": "markdown",
   "metadata": {},
   "source": [
    "## 3. Auto-encoder  <a name=\"autoencoder\"></a>"
   ]
  },
  {
   "cell_type": "markdown",
   "metadata": {},
   "source": [
    "We split the data set into a training a testing set to be able to evaluate our autoencoder."
   ]
  },
  {
   "cell_type": "code",
   "execution_count": 88,
   "metadata": {},
   "outputs": [
    {
     "name": "stdout",
     "output_type": "stream",
     "text": [
      "(495, 121000)\n",
      "(55, 121000)\n"
     ]
    }
   ],
   "source": [
    "# Set seed \n",
    "seed = 123\n",
    "flattened_array_train, flattened_array_test = train_test_split(flattened_array, test_size=0.1, random_state=seed)\n",
    "y_train, y_test = flattened_array_train, flattened_array_test\n",
    "\n",
    "print(flattened_array_train.shape)\n",
    "print(flattened_array_test.shape)"
   ]
  },
  {
   "cell_type": "code",
   "execution_count": 89,
   "metadata": {},
   "outputs": [],
   "source": [
    "# define network parameters\n",
    "learningRate=1e-2\n",
    "epochs=50\n",
    "input_size=flattened_array_train.shape[1]\n",
    "k_folds = 5\n",
    "# Set fixed random number seed\n",
    "torch.manual_seed(42)\n",
    "\n",
    "net = Autoencoder(input_size)\n",
    "optimizer = torch.optim.Adam(net.parameters(), lr=learningRate, weight_decay=1e-5)\n",
    "# creates a criterion that measures the mean squared error (squared L2 norm) \n",
    "criterion = nn.MSELoss() "
   ]
  },
  {
   "cell_type": "code",
   "execution_count": 90,
   "metadata": {},
   "outputs": [
    {
     "name": "stdout",
     "output_type": "stream",
     "text": [
      "FOLD 0\n",
      "--------------------------------\n",
      "epoch : 1/50, loss = 11.777614\n",
      "epoch : 2/50, loss = 11.829932\n",
      "epoch : 3/50, loss = 11.806046\n",
      "epoch : 4/50, loss = 11.728207\n",
      "epoch : 5/50, loss = 11.599147\n",
      "epoch : 6/50, loss = 11.438289\n",
      "epoch : 7/50, loss = 11.282928\n",
      "epoch : 8/50, loss = 10.968486\n",
      "epoch : 9/50, loss = 10.119913\n",
      "epoch : 10/50, loss = 11.167444\n",
      "epoch : 11/50, loss = 9.005278\n",
      "epoch : 12/50, loss = 8.973442\n",
      "epoch : 13/50, loss = 8.946441\n",
      "epoch : 14/50, loss = 8.940672\n",
      "epoch : 15/50, loss = 8.927617\n",
      "epoch : 16/50, loss = 8.898455\n",
      "epoch : 17/50, loss = 9.690073\n",
      "epoch : 18/50, loss = 8.157663\n",
      "epoch : 19/50, loss = 8.641799\n",
      "epoch : 20/50, loss = 5.684822\n",
      "epoch : 21/50, loss = 7.059631\n",
      "epoch : 22/50, loss = 8.019503\n",
      "epoch : 23/50, loss = 8.834670\n",
      "epoch : 24/50, loss = 9.237714\n",
      "epoch : 25/50, loss = 11.682246\n",
      "epoch : 26/50, loss = 11.577346\n",
      "epoch : 27/50, loss = 11.108529\n",
      "epoch : 28/50, loss = 4.889892\n",
      "epoch : 29/50, loss = 3.711779\n",
      "epoch : 30/50, loss = 3.267744\n",
      "epoch : 31/50, loss = 3.330385\n",
      "epoch : 32/50, loss = 3.749276\n",
      "epoch : 33/50, loss = 4.370888\n",
      "epoch : 34/50, loss = 5.121335\n",
      "epoch : 35/50, loss = 5.864495\n",
      "epoch : 36/50, loss = 6.522102\n",
      "epoch : 37/50, loss = 7.079334\n",
      "epoch : 38/50, loss = 7.532777\n",
      "epoch : 39/50, loss = 8.013644\n",
      "epoch : 40/50, loss = 8.161269\n",
      "epoch : 41/50, loss = 8.198152\n",
      "epoch : 42/50, loss = 10.249660\n",
      "epoch : 43/50, loss = 9.213622\n",
      "epoch : 44/50, loss = 7.272618\n",
      "epoch : 45/50, loss = 6.431667\n",
      "epoch : 46/50, loss = 6.152101\n",
      "epoch : 47/50, loss = 6.233134\n",
      "epoch : 48/50, loss = 6.483666\n",
      "epoch : 49/50, loss = 6.734096\n",
      "epoch : 50/50, loss = 5.669132\n",
      "{'train_loss': [0.4834395312329444], 'test_loss': [0.48715983637492405]}\n",
      "FOLD 1\n",
      "--------------------------------\n",
      "epoch : 1/50, loss = 9.570542\n",
      "epoch : 2/50, loss = 9.654605\n",
      "epoch : 3/50, loss = 9.685137\n",
      "epoch : 4/50, loss = 9.731889\n",
      "epoch : 5/50, loss = 9.775615\n",
      "epoch : 6/50, loss = 9.793241\n",
      "epoch : 7/50, loss = 9.810516\n",
      "epoch : 8/50, loss = 9.776856\n",
      "epoch : 9/50, loss = 9.831100\n",
      "epoch : 10/50, loss = 9.840250\n",
      "epoch : 11/50, loss = 9.843996\n",
      "epoch : 12/50, loss = 9.847009\n",
      "epoch : 13/50, loss = 9.847080\n",
      "epoch : 14/50, loss = 9.843961\n",
      "epoch : 15/50, loss = 9.791553\n",
      "epoch : 16/50, loss = 9.836263\n",
      "epoch : 17/50, loss = 9.828942\n",
      "epoch : 18/50, loss = 9.827750\n",
      "epoch : 19/50, loss = 7.864360\n",
      "epoch : 20/50, loss = 6.793113\n",
      "epoch : 21/50, loss = 6.263054\n",
      "epoch : 22/50, loss = 6.111554\n",
      "epoch : 23/50, loss = 6.162711\n",
      "epoch : 24/50, loss = 6.345374\n",
      "epoch : 25/50, loss = 6.590659\n",
      "epoch : 26/50, loss = 6.868470\n",
      "epoch : 27/50, loss = 7.155226\n",
      "epoch : 28/50, loss = 7.446961\n",
      "epoch : 29/50, loss = 7.746689\n",
      "epoch : 30/50, loss = 8.073697\n",
      "epoch : 31/50, loss = 8.360593\n",
      "epoch : 32/50, loss = 8.688440\n",
      "epoch : 33/50, loss = 8.993563\n",
      "epoch : 34/50, loss = 9.312328\n",
      "epoch : 35/50, loss = 9.588724\n",
      "epoch : 36/50, loss = 9.807582\n",
      "epoch : 37/50, loss = 10.011048\n",
      "epoch : 38/50, loss = 9.836269\n",
      "epoch : 39/50, loss = 10.322966\n",
      "epoch : 40/50, loss = 10.427521\n",
      "epoch : 41/50, loss = 10.503474\n",
      "epoch : 42/50, loss = 10.562436\n",
      "epoch : 43/50, loss = 11.388764\n",
      "epoch : 44/50, loss = 10.692320\n",
      "epoch : 45/50, loss = 10.561769\n",
      "epoch : 46/50, loss = 10.206125\n",
      "epoch : 47/50, loss = 10.253434\n",
      "epoch : 48/50, loss = 10.238684\n",
      "epoch : 49/50, loss = 10.234117\n",
      "epoch : 50/50, loss = 10.149419\n",
      "{'train_loss': [0.4623304073791597], 'test_loss': [0.46386747655560645]}\n",
      "FOLD 2\n",
      "--------------------------------\n",
      "epoch : 1/50, loss = 6.496083\n",
      "epoch : 2/50, loss = 6.527101\n",
      "epoch : 3/50, loss = 6.556702\n",
      "epoch : 4/50, loss = 6.588525\n",
      "epoch : 5/50, loss = 6.607538\n",
      "epoch : 6/50, loss = 15.381692\n",
      "epoch : 7/50, loss = 15.240290\n",
      "epoch : 8/50, loss = 15.187225\n",
      "epoch : 9/50, loss = 15.158516\n",
      "epoch : 10/50, loss = 15.138498\n",
      "epoch : 11/50, loss = 15.110713\n",
      "epoch : 12/50, loss = 15.077019\n",
      "epoch : 13/50, loss = 15.036571\n",
      "epoch : 14/50, loss = 14.986217\n",
      "epoch : 15/50, loss = 14.916311\n",
      "epoch : 16/50, loss = 35.513248\n",
      "epoch : 17/50, loss = 34.455231\n",
      "epoch : 18/50, loss = 34.335224\n",
      "epoch : 19/50, loss = 34.166718\n",
      "epoch : 20/50, loss = 33.939255\n",
      "epoch : 21/50, loss = 33.486195\n",
      "epoch : 22/50, loss = 32.894794\n",
      "epoch : 23/50, loss = 32.253410\n",
      "epoch : 24/50, loss = 31.816233\n",
      "epoch : 25/50, loss = 31.519335\n",
      "epoch : 26/50, loss = 31.316896\n",
      "epoch : 27/50, loss = 31.048368\n",
      "epoch : 28/50, loss = 30.720093\n",
      "epoch : 29/50, loss = 30.268463\n",
      "epoch : 30/50, loss = 29.423388\n",
      "epoch : 31/50, loss = 24.350454\n",
      "epoch : 32/50, loss = 23.339025\n",
      "epoch : 33/50, loss = 22.870975\n",
      "epoch : 34/50, loss = 22.502329\n",
      "epoch : 35/50, loss = 22.367386\n",
      "epoch : 36/50, loss = 31.258120\n",
      "epoch : 37/50, loss = 29.262852\n",
      "epoch : 38/50, loss = 27.993204\n",
      "epoch : 39/50, loss = 26.674847\n",
      "epoch : 40/50, loss = 26.251356\n",
      "epoch : 41/50, loss = 26.176161\n",
      "epoch : 42/50, loss = 26.132088\n",
      "epoch : 43/50, loss = 26.101076\n",
      "epoch : 44/50, loss = 26.073257\n",
      "epoch : 45/50, loss = 34.151466\n",
      "epoch : 46/50, loss = 32.815914\n",
      "epoch : 47/50, loss = 31.758362\n",
      "epoch : 48/50, loss = 30.950455\n",
      "epoch : 49/50, loss = 30.364780\n",
      "epoch : 50/50, loss = 29.959208\n",
      "{'train_loss': [0.7761100828087595], 'test_loss': [0.779065104912834]}\n",
      "FOLD 3\n",
      "--------------------------------\n",
      "epoch : 1/50, loss = 9.890159\n",
      "epoch : 2/50, loss = 10.131562\n",
      "epoch : 3/50, loss = 10.321254\n",
      "epoch : 4/50, loss = 10.752011\n",
      "epoch : 5/50, loss = 10.819873\n",
      "epoch : 6/50, loss = 11.156899\n",
      "epoch : 7/50, loss = 11.277991\n",
      "epoch : 8/50, loss = 11.481492\n",
      "epoch : 9/50, loss = 11.784064\n",
      "epoch : 10/50, loss = 11.528177\n",
      "epoch : 11/50, loss = 10.982713\n",
      "epoch : 12/50, loss = 10.813961\n",
      "epoch : 13/50, loss = 10.849661\n",
      "epoch : 14/50, loss = 10.889787\n",
      "epoch : 15/50, loss = 10.928725\n",
      "epoch : 16/50, loss = 10.949522\n",
      "epoch : 17/50, loss = 10.955161\n",
      "epoch : 18/50, loss = 10.929708\n",
      "epoch : 19/50, loss = 8.106982\n",
      "epoch : 20/50, loss = 5.616436\n",
      "epoch : 21/50, loss = 10.214500\n",
      "epoch : 22/50, loss = 10.228520\n",
      "epoch : 23/50, loss = 10.223718\n",
      "epoch : 24/50, loss = 10.273547\n",
      "epoch : 25/50, loss = 10.287680\n",
      "epoch : 26/50, loss = 10.234841\n",
      "epoch : 27/50, loss = 10.188510\n",
      "epoch : 28/50, loss = 10.079167\n",
      "epoch : 29/50, loss = 10.121162\n",
      "epoch : 30/50, loss = 10.089348\n",
      "epoch : 31/50, loss = 10.063660\n",
      "epoch : 32/50, loss = 10.046495\n",
      "epoch : 33/50, loss = 10.027299\n",
      "epoch : 34/50, loss = 10.004589\n",
      "epoch : 35/50, loss = 9.979124\n",
      "epoch : 36/50, loss = 9.921334\n",
      "epoch : 37/50, loss = 9.616070\n",
      "epoch : 38/50, loss = 9.552525\n",
      "epoch : 39/50, loss = 9.587498\n",
      "epoch : 40/50, loss = 9.589222\n",
      "epoch : 41/50, loss = 9.487748\n",
      "epoch : 42/50, loss = 9.427633\n",
      "epoch : 43/50, loss = 9.381866\n",
      "epoch : 44/50, loss = 9.287632\n",
      "epoch : 45/50, loss = 9.271319\n",
      "epoch : 46/50, loss = 9.275748\n",
      "epoch : 47/50, loss = 9.301310\n",
      "epoch : 48/50, loss = 9.328653\n",
      "epoch : 49/50, loss = 9.361896\n",
      "epoch : 50/50, loss = 9.344825\n",
      "{'train_loss': [0.4071724162901882], 'test_loss': [0.38632898194785714]}\n",
      "FOLD 4\n",
      "--------------------------------\n",
      "epoch : 1/50, loss = 10.551068\n",
      "epoch : 2/50, loss = 10.550781\n",
      "epoch : 3/50, loss = 10.553011\n",
      "epoch : 4/50, loss = 10.555676\n",
      "epoch : 5/50, loss = 10.556041\n",
      "epoch : 6/50, loss = 10.561227\n",
      "epoch : 7/50, loss = 10.564392\n",
      "epoch : 8/50, loss = 10.569074\n",
      "epoch : 9/50, loss = 10.573834\n",
      "epoch : 10/50, loss = 10.580174\n",
      "epoch : 11/50, loss = 10.587298\n",
      "epoch : 12/50, loss = 10.594617\n",
      "epoch : 13/50, loss = 10.601930\n",
      "epoch : 14/50, loss = 10.609020\n",
      "epoch : 15/50, loss = 10.615468\n",
      "epoch : 16/50, loss = 10.620758\n",
      "epoch : 17/50, loss = 10.624192\n",
      "epoch : 18/50, loss = 10.634583\n",
      "epoch : 19/50, loss = 10.637944\n",
      "epoch : 20/50, loss = 10.640102\n",
      "epoch : 21/50, loss = 10.639814\n",
      "epoch : 22/50, loss = 10.634398\n",
      "epoch : 23/50, loss = 10.640775\n",
      "epoch : 24/50, loss = 10.643313\n",
      "epoch : 25/50, loss = 10.646092\n",
      "epoch : 26/50, loss = 10.649314\n",
      "epoch : 27/50, loss = 10.652727\n",
      "epoch : 28/50, loss = 10.793797\n",
      "epoch : 29/50, loss = 10.660313\n",
      "epoch : 30/50, loss = 10.664833\n",
      "epoch : 31/50, loss = 10.670317\n",
      "epoch : 32/50, loss = 10.675197\n",
      "epoch : 33/50, loss = 10.681366\n",
      "epoch : 34/50, loss = 10.687033\n",
      "epoch : 35/50, loss = 10.692054\n",
      "epoch : 36/50, loss = 10.695366\n",
      "epoch : 37/50, loss = 10.698126\n",
      "epoch : 38/50, loss = 6.885054\n",
      "epoch : 39/50, loss = 9.695992\n",
      "epoch : 40/50, loss = 7.754669\n",
      "epoch : 41/50, loss = 9.091044\n",
      "epoch : 42/50, loss = 9.883445\n",
      "epoch : 43/50, loss = 10.217278\n",
      "epoch : 44/50, loss = 10.407775\n",
      "epoch : 45/50, loss = 10.554317\n",
      "epoch : 46/50, loss = 10.674657\n"
     ]
    },
    {
     "name": "stdout",
     "output_type": "stream",
     "text": [
      "epoch : 47/50, loss = 10.673260\n",
      "epoch : 48/50, loss = 10.822606\n",
      "epoch : 49/50, loss = 10.877980\n",
      "epoch : 50/50, loss = 10.916448\n",
      "{'train_loss': [0.5327784911508282], 'test_loss': [0.536513494459377]}\n",
      "Performance of 5 fold cross validation\n",
      "Average Training Loss: 0.532 \t Average Test Loss: 0.531\n"
     ]
    },
    {
     "data": {
      "image/png": "[encoded data removed]",
      "text/plain": [
       "<Figure size 432x288 with 1 Axes>"
      ]
     },
     "metadata": {},
     "output_type": "display_data"
    }
   ],
   "source": [
    "from crossvalidation import *\n",
    "Kfold_2(flattened_array, k_folds, net, epochs, criterion, optimizer)"
   ]
  },
  {
   "cell_type": "code",
   "execution_count": 38,
   "metadata": {},
   "outputs": [
    {
     "name": "stdout",
     "output_type": "stream",
     "text": [
      "epoch : 1/20, loss = 89.976379\n",
      "epoch : 2/20, loss = 89.117630\n",
      "epoch : 3/20, loss = 88.207451\n",
      "epoch : 4/20, loss = 87.249901\n",
      "epoch : 5/20, loss = 86.244148\n",
      "epoch : 6/20, loss = 85.189156\n",
      "epoch : 7/20, loss = 84.085228\n",
      "epoch : 8/20, loss = 82.935043\n",
      "epoch : 9/20, loss = 81.741646\n",
      "epoch : 10/20, loss = 80.509277\n",
      "epoch : 11/20, loss = 79.240044\n",
      "epoch : 12/20, loss = 77.939369\n",
      "epoch : 13/20, loss = 76.614403\n",
      "epoch : 14/20, loss = 75.272675\n",
      "epoch : 15/20, loss = 73.917183\n",
      "epoch : 16/20, loss = 72.556717\n",
      "epoch : 17/20, loss = 71.198273\n",
      "epoch : 18/20, loss = 69.846786\n",
      "epoch : 19/20, loss = 68.506615\n",
      "epoch : 20/20, loss = 67.184853\n"
     ]
    },
    {
     "data": {
      "image/png": "[encoded data removed]",
      "text/plain": [
       "<Figure size 432x288 with 1 Axes>"
      ]
     },
     "metadata": {},
     "output_type": "display_data"
    }
   ],
   "source": [
    "train(flattened_array_train, net, epochs, criterion, optimizer)"
   ]
  },
  {
   "cell_type": "code",
   "execution_count": 41,
   "metadata": {},
   "outputs": [
    {
     "data": {
      "text/plain": [
       "0.5143844414558748"
      ]
     },
     "execution_count": 41,
     "metadata": {},
     "output_type": "execute_result"
    }
   ],
   "source": [
    "test(flattened_array_test, net, epochs, criterion, optimizer)"
   ]
  },
  {
   "cell_type": "code",
   "execution_count": 42,
   "metadata": {},
   "outputs": [
    {
     "data": {
      "text/plain": [
       "0.6944974394473606"
      ]
     },
     "execution_count": 42,
     "metadata": {},
     "output_type": "execute_result"
    }
   ],
   "source": [
    "test(flattened_array_train, net, epochs, criterion, optimizer)"
   ]
  },
  {
   "cell_type": "markdown",
   "metadata": {},
   "source": [
    "## 4. Passer en 2D "
   ]
  },
  {
   "cell_type": "markdown",
   "metadata": {},
   "source": [
    "## 5. Hyper-parameters and physics parameters relationship"
   ]
  },
  {
   "cell_type": "markdown",
   "metadata": {},
   "source": [
    "## 6. Discussion & conclusion"
   ]
  },
  {
   "cell_type": "code",
   "execution_count": null,
   "metadata": {},
   "outputs": [],
   "source": []
  }
 ],
 "metadata": {
  "kernelspec": {
   "display_name": "Python 3",
   "language": "python",
   "name": "python3"
  },
  "language_info": {
   "codemirror_mode": {
    "name": "ipython",
    "version": 3
   },
   "file_extension": ".py",
   "mimetype": "text/x-python",
   "name": "python",
   "nbconvert_exporter": "python",
   "pygments_lexer": "ipython3",
   "version": "3.8.8"
  }
 },
 "nbformat": 4,
 "nbformat_minor": 4
}
