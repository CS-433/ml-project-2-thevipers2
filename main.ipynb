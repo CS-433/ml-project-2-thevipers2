{
 "cells": [
  {
   "cell_type": "markdown",
   "metadata": {},
   "source": [
    "# Machine Learning - Project 2:\n",
    "# _Autoencoder for mathematical modeling of blood flow in a stenosis context_"
   ]
  },
  {
   "cell_type": "markdown",
   "metadata": {},
   "source": [
    "## Context"
   ]
  },
  {
   "cell_type": "markdown",
   "metadata": {},
   "source": [
    "In this project, we are going to analyze data derived from..."
   ]
  },
  {
   "cell_type": "markdown",
   "metadata": {},
   "source": [
    "Our goals:\n",
    "1. modeliser mathématiquement l’écoulement sanguin à l’aide de PDE dépendante de 2-3 paramètres physique\n",
    "2. simuler l’écoulement par un code d’éléments fini ou similaire\n",
    "3. générer beaucoup de solutions avec une grande nombre de paramètres différents. (Les 2-3, pris de façon aléatoire)\n",
    "4. a. utiliser les solutions numérique pour établir un auto encoder qui au milieu n’ai que 2-5 hyper-paramètres libres  \n",
    "b. quel erreur on obtient ? Est-ce possible de réduire le nombre d’hyper-paramètres ?\n",
    "5. étudier s’il y a une rélation entre les 2-5 hyper-paramètre et les paramètres physique  \n",
    "a. à l’aide de statistiques\n",
    "5. b. à l’aide d’un DNN (différent de 4a)\n",
    "6. (optionnel) faire un DNN entre l’input de 4a et output les paramêtres physique. Et/ou l’inverse.\n",
    "7. Discussion et conclusions "
   ]
  },
  {
   "cell_type": "markdown",
   "metadata": {},
   "source": [
    "Abbreviations used:\n",
    "- $N_u$ = total number of spatial points per simulation\n",
    "- $N_t$ = total number of time steps per simulation\n",
    "- $N_s$ = total number of simulations"
   ]
  },
  {
   "cell_type": "markdown",
   "metadata": {},
   "source": [
    "## Table of contents"
   ]
  },
  {
   "cell_type": "markdown",
   "metadata": {},
   "source": [
    "[1. Data exploration](#data_exploration) \n",
    "- [Imports](#1imports)\n",
    "- [Pathways](#1pathways)\n",
    "- [Loading](#1load)\n",
    "- [Exploration](#1exploration)\n",
    "\n",
    "[2. Data preprocessing](#preprocessing)\n",
    "\n",
    "[3. Pickle](#pickle)\n",
    "\n",
    "[4. Autoencoder](#autoencoder)"
   ]
  },
  {
   "cell_type": "markdown",
   "metadata": {},
   "source": [
    "### Imports  <a name=\"1imports\"></a>"
   ]
  },
  {
   "cell_type": "code",
   "execution_count": 1,
   "metadata": {},
   "outputs": [],
   "source": [
    "# Useful starting lines\n",
    "%matplotlib inline\n",
    "import numpy as np\n",
    "import matplotlib.pyplot as plt\n",
    "import pandas as pd\n",
    "from helpers import *\n",
    "from preprocessing import *\n",
    "from sklearn.model_selection import train_test_split\n",
    "from autoencoder import *\n",
    "from crossvalidation import *\n",
    "import _pickle as cPickle\n",
    "%load_ext autoreload\n",
    "%autoreload 2\n",
    "torch.manual_seed(0)\n",
    "np.random.seed(1)\n",
    "seed = 1"
   ]
  },
  {
   "cell_type": "markdown",
   "metadata": {},
   "source": [
    "## 1. Data exploration  <a name=\"data_exploration\"></a>"
   ]
  },
  {
   "cell_type": "markdown",
   "metadata": {},
   "source": [
    "### Pathways <a name=\"1pathways\"></a>"
   ]
  },
  {
   "cell_type": "code",
   "execution_count": 2,
   "metadata": {},
   "outputs": [],
   "source": [
    "DATA_PATH = 'data/'\n",
    "DATA_Ux_PATH = DATA_PATH + 'u1_middle_small.csv.bz2'\n",
    "DATA_Uy_PATH = DATA_PATH + 'u2_middle_small.csv.bz2'"
   ]
  },
  {
   "cell_type": "markdown",
   "metadata": {},
   "source": [
    "### Loading <a name=\"1load\"></a>"
   ]
  },
  {
   "cell_type": "markdown",
   "metadata": {},
   "source": [
    "Let's load the data which consists of 2 matrices Ux, Uy denoting the x and y coordinates of the speed."
   ]
  },
  {
   "cell_type": "code",
   "execution_count": 3,
   "metadata": {},
   "outputs": [],
   "source": [
    "# Loading\n",
    "Ux_pd = pd.read_csv(DATA_Ux_PATH, header=None)\n",
    "Uy_pd = pd.read_csv(DATA_Uy_PATH, header=None)\n",
    "# Converting from dataframe to numpy\n",
    "Ux = Ux_pd.to_numpy()\n",
    "Uy = Uy_pd.to_numpy()"
   ]
  },
  {
   "cell_type": "markdown",
   "metadata": {},
   "source": [
    "### Exploration <a name=\"1exploration\"></a>"
   ]
  },
  {
   "cell_type": "markdown",
   "metadata": {},
   "source": [
    "Let's have a closer look at our imported data sets. The columns represent the time steps and the rows represent a point of our blood vessel mesh and each 5509 row a new simulation."
   ]
  },
  {
   "cell_type": "code",
   "execution_count": 4,
   "metadata": {
    "scrolled": false
   },
   "outputs": [
    {
     "name": "stdout",
     "output_type": "stream",
     "text": [
      "Our input array Ux is of shape: (964075, 110)\n",
      "Our input array Uy is of shape: (964075, 110)\n",
      "Printing a row of Ux: \n",
      " [0.07843621 0.31118352 0.68245424 1.15863002 1.69435217 2.2377946\n",
      " 2.73607737 3.14059293 3.41183529 3.52330289 3.63726074 3.7439734\n",
      " 3.84549407 3.94281205 4.03640323 4.12650964 4.2132592  4.29672103\n",
      " 4.37693287 4.45391539 4.52767992 4.59823263 4.6655769  4.72971455\n",
      " 4.79064658 4.84837353 4.90289569 4.95421322 5.00232621 5.04723472\n",
      " 5.08893877 5.12743839 5.16273359 5.19482437 5.22371075 5.24939272\n",
      " 5.2718703  5.29114348 5.30721227 5.32007667 5.32973668 5.33619229\n",
      " 5.33944353 5.33997115 5.33936904 5.33787084 5.33552701 5.33235975\n",
      " 5.32837974 5.3235924  5.31800058 5.31160582 5.30440894 5.29641041\n",
      " 5.28761047 5.27800926 5.26760686 5.25640331 5.24439864 5.23159284\n",
      " 5.21798594 5.20357794 5.18836883 5.17235862 5.15554731 5.13793491\n",
      " 5.1195214  5.1003068  5.0802911  5.05947431 5.03785642 5.01543743\n",
      " 4.99221734 4.96819616 4.94337388 4.9177505  4.89132603 4.86410046\n",
      " 4.8360738  4.80724604 4.77761718 4.74718722 4.71595617 4.68392403\n",
      " 4.65109078 4.61745644 4.583021   4.54778447 4.51174684 4.47490812\n",
      " 4.43726829 4.39882737 4.35958536 4.31954225 4.27869804 4.23705274\n",
      " 4.19460633 4.15135884 4.10731024 4.06246055 4.01680977 3.97035788\n",
      " 3.9231049  3.87505083 3.82619566 3.77653939 3.72608202 3.67482356\n",
      " 3.622764   3.56990335] \n",
      "\n",
      "Printing a row of Uy: \n",
      " [0.00126932 0.00582193 0.01465639 0.02786106 0.04476485 0.06411077\n",
      " 0.08425551 0.10338346 0.1197197  0.13172626 0.14106864 0.14861522\n",
      " 0.15494926 0.16046333 0.16541345 0.16996138 0.17420722 0.17821237\n",
      " 0.18201453 0.18563704 0.18909456 0.19239641 0.1955486  0.19855507\n",
      " 0.20141839 0.20414029 0.20672191 0.20916402 0.21146713 0.2136316\n",
      " 0.21565766 0.21754545 0.2192951  0.22090667 0.22238021 0.22371575\n",
      " 0.22491332 0.22597293 0.22689459 0.22767831 0.22832409 0.22883194\n",
      " 0.22920186 0.22944164 0.22958187 0.22964535 0.22964719 0.22959728\n",
      " 0.22950201 0.2293654  0.22918999 0.22897733 0.22872842 0.22844388\n",
      " 0.22812409 0.22776933 0.22737975 0.22695547 0.22649656 0.22600307\n",
      " 0.22547502 0.22491245 0.22431537 0.22368378 0.2230177  0.22231713\n",
      " 0.22158207 0.22081253 0.2200085  0.21916998 0.21829699 0.21738951\n",
      " 0.21644755 0.2154711  0.21446018 0.21341477 0.21233489 0.21122052\n",
      " 0.21007167 0.20888834 0.20767052 0.20641823 0.20513145 0.2038102\n",
      " 0.20245446 0.20106424 0.19963954 0.19818035 0.19668669 0.19515855\n",
      " 0.19359592 0.19199881 0.19036722 0.18870115 0.1870006  0.18526557\n",
      " 0.18349606 0.18169206 0.17985358 0.17798062 0.17607319 0.17413126\n",
      " 0.17215486 0.17014398 0.16809861 0.16601877 0.16390444 0.16175563\n",
      " 0.15957234 0.15735457] \n",
      "\n"
     ]
    }
   ],
   "source": [
    "print(\"Our input array Ux is of shape:\",Ux.shape)\n",
    "print(\"Our input array Uy is of shape:\",Uy.shape)\n",
    "print(\"Printing a row of Ux:\", '\\n', Ux[10,:], '\\n')\n",
    "print(\"Printing a row of Uy:\", '\\n', Uy[10,:], '\\n')"
   ]
  },
  {
   "cell_type": "markdown",
   "metadata": {},
   "source": [
    "For the rest of the analysis, we need to figure out the number of simulation step. As we know that we previsouly generated 25 simulations on Matlab and all the new simulations are appended row-wise, we can deduce it with the following computation."
   ]
  },
  {
   "cell_type": "code",
   "execution_count": 5,
   "metadata": {
    "scrolled": true
   },
   "outputs": [
    {
     "name": "stdout",
     "output_type": "stream",
     "text": [
      "We ran  175 simulations with different parameters for each simulation (parameters of the stenosis and resistance of the blood flow in the bifurcations)\n",
      "1 simulation calculate the velocities of the blood flow at  5509  different positions and at  110  different times\n"
     ]
    }
   ],
   "source": [
    "positions =5509 #We know it from the matlab code\n",
    "times = Ux.shape[1]\n",
    "simulations = int(Ux.shape[0]/positions)\n",
    "print(\"We ran \", simulations, \"simulations with different parameters for each simulation (parameters of the stenosis and resistance of the blood flow in the bifurcations)\")\n",
    "print(\"1 simulation calculate the velocities of the blood flow at \", positions, \" different positions and at \", times, \" different times\")"
   ]
  },
  {
   "cell_type": "markdown",
   "metadata": {},
   "source": [
    "## 2. Data preprocessing  <a name=\"preprocessing\"></a>"
   ]
  },
  {
   "cell_type": "markdown",
   "metadata": {},
   "source": [
    "Let's check if we have any NaN or None values in our dataframe."
   ]
  },
  {
   "cell_type": "code",
   "execution_count": 6,
   "metadata": {
    "scrolled": true
   },
   "outputs": [
    {
     "name": "stdout",
     "output_type": "stream",
     "text": [
      "0\n",
      "0\n"
     ]
    }
   ],
   "source": [
    "print(np.count_nonzero(np.isnan(Ux)))\n",
    "print(np.count_nonzero(np.isnan(Uy)))"
   ]
  },
  {
   "cell_type": "markdown",
   "metadata": {},
   "source": [
    "It seems there are no None values so we can start direclty preprocess our datasets."
   ]
  },
  {
   "cell_type": "markdown",
   "metadata": {},
   "source": [
    "ADDITIONAL IDEAS FOR PREPROCESSING\n",
    "- remove columns with 0 std dev?\n",
    "- standardization?"
   ]
  },
  {
   "cell_type": "markdown",
   "metadata": {},
   "source": [
    "Let's sample our data points into the following ratios : "
   ]
  },
  {
   "cell_type": "code",
   "execution_count": 7,
   "metadata": {},
   "outputs": [
    {
     "name": "stdout",
     "output_type": "stream",
     "text": [
      "(9625, 110) (9625, 110)\n"
     ]
    }
   ],
   "source": [
    "ratio_pts = 0.01\n",
    "ratio_time = 1\n",
    "\n",
    "new_Ux, new_Uy, new_inds = sample(Ux, Uy, ratio_pts, ratio_time)\n",
    "print(new_Ux.shape, new_Uy.shape)"
   ]
  },
  {
   "cell_type": "code",
   "execution_count": 8,
   "metadata": {},
   "outputs": [
    {
     "name": "stdout",
     "output_type": "stream",
     "text": [
      "With the sampling we got from  5509  positions to  55  positions\n",
      "With the sampling we got from  110  time steps to  110  time steps\n"
     ]
    }
   ],
   "source": [
    "new_Nu, new_Nt = get_Nu_Nt_sampled(Ux, new_Ux)\n",
    "\n",
    "print('With the sampling we got from ', 5509, ' positions to ', new_Nu, ' positions')\n",
    "print('With the sampling we got from ', 110, ' time steps to ', new_Nt, ' time steps')"
   ]
  },
  {
   "cell_type": "markdown",
   "metadata": {},
   "source": [
    "We can look at the positions of the sampled positions to make sure that we cover mostly all the important parts of the geometry of the artery :"
   ]
  },
  {
   "cell_type": "code",
   "execution_count": 9,
   "metadata": {
    "scrolled": true
   },
   "outputs": [
    {
     "data": {
      "image/png": "[encoded data removed]",
      "text/plain": [
       "<Figure size 432x288 with 1 Axes>"
      ]
     },
     "metadata": {
      "needs_background": "light"
     },
     "output_type": "display_data"
    }
   ],
   "source": [
    "plot_sampled_coord(new_inds) "
   ]
  },
  {
   "cell_type": "code",
   "execution_count": 10,
   "metadata": {},
   "outputs": [
    {
     "name": "stdout",
     "output_type": "stream",
     "text": [
      "[[0.06598187 0.25670229 0.55084151 ... 2.51511171 2.47896831 2.44227292]\n",
      " [0.01822349 0.06614118 0.13306091 ... 0.49577011 0.48856679 0.48125408]\n",
      " [0.06441595 0.25109322 0.5398679  ... 2.481933   2.44626963 2.41006156]\n",
      " ...\n",
      " [0.0680136  0.26761562 0.58127622 ... 2.85725826 2.8164228  2.77496189]\n",
      " [0.06685035 0.26296953 0.57104399 ... 2.80158018 2.76153202 2.72087054]\n",
      " [0.07571559 0.29995296 0.65629618 ... 3.4415466  3.39267592 3.34305416]]\n"
     ]
    }
   ],
   "source": [
    "print(new_Ux)"
   ]
  },
  {
   "cell_type": "markdown",
   "metadata": {},
   "source": [
    "Let's flatten our matrices into a single matrix with dimensions $(N_s, (2 N_u N_t))$. For each simulation, the x and y speed coordinates are compressed to the following 1D matrix:\n",
    "\n",
    "$$\n",
    "\\mathbf{M_{1D}}\n",
    "=\n",
    "\\begin{bmatrix}\n",
    "\\vdots \\\\\n",
    "u_{x}^{(0)} \\\\\n",
    "\\vdots \\\\\n",
    "u_{y}^{(0)} \\\\\n",
    "\\vdots \\\\\n",
    "u_{x}^{(1)} \\\\\n",
    "\\vdots \\\\\n",
    "u_{y}^{(1)} \\\\\n",
    "\\vdots \\\\\n",
    "u_{x}^{(N_t - 1)} \\\\\n",
    "\\vdots \\\\\n",
    "u_{y}^{(N_t - 1)} \\\\\n",
    "\\vdots \n",
    "\\end{bmatrix}\n",
    "$$\n",
    "\n"
   ]
  },
  {
   "cell_type": "code",
   "execution_count": 11,
   "metadata": {
    "scrolled": false
   },
   "outputs": [
    {
     "data": {
      "text/plain": [
       "(175, 12100)"
      ]
     },
     "execution_count": 11,
     "metadata": {},
     "output_type": "execute_result"
    }
   ],
   "source": [
    "flattened_array = flatten(new_Ux, new_Uy, ratio_pts)\n",
    "flattened_array.shape"
   ]
  },
  {
   "cell_type": "markdown",
   "metadata": {},
   "source": [
    "Let's make a sanity check that the dimension of 1 datapoint is indeed ${2 * new_{N_t} * new_{N_u}}$."
   ]
  },
  {
   "cell_type": "code",
   "execution_count": 12,
   "metadata": {},
   "outputs": [
    {
     "name": "stdout",
     "output_type": "stream",
     "text": [
      "12100\n"
     ]
    }
   ],
   "source": [
    "assert flattened_array.shape[1] == 2*new_Nt*new_Nu\n",
    "\n",
    "print(2*new_Nt*new_Nu)"
   ]
  },
  {
   "cell_type": "markdown",
   "metadata": {},
   "source": [
    "## 3. Pickle  <a name=\"pickle\"></a>"
   ]
  },
  {
   "cell_type": "markdown",
   "metadata": {},
   "source": [
    "To avoid the loading and processing steps each time we open the notebook, we will save the processed matrix \"flattened_array\" using pickle : "
   ]
  },
  {
   "cell_type": "markdown",
   "metadata": {},
   "source": [
    "In the following cell, we will create pickles for every subsampled data according to the ratios_pts and the ratios_t :"
   ]
  },
  {
   "cell_type": "code",
   "execution_count": 14,
   "metadata": {},
   "outputs": [],
   "source": [
    "ratios_pts = [0.1, 0.05, 0.02]\n",
    "ratios_t = [0.5, 0.25, 0.1]\n",
    "\n",
    "create_subsamples(Ux, Uy, ratios_pts, ratios_t, name_file='middle_small')"
   ]
  },
  {
   "cell_type": "markdown",
   "metadata": {},
   "source": [
    "#### Start from here if you the pickle file already exist in your data folder"
   ]
  },
  {
   "cell_type": "markdown",
   "metadata": {},
   "source": [
    "Change only the following cell to change the name of the file you want to open :"
   ]
  },
  {
   "cell_type": "code",
   "execution_count": 2,
   "metadata": {},
   "outputs": [
    {
     "name": "stdout",
     "output_type": "stream",
     "text": [
      "name of the file you want to read :  processed_middle_small_0.1_0.5\n"
     ]
    }
   ],
   "source": [
    "ratios = [0.1, 0.5]\n",
    "size = ['very_small', 'middle_small', 'small']\n",
    "\n",
    "name = 'processed_'+str(size[1])+'_'+str(ratios[0])+'_'+str(ratios[1])\n",
    "\n",
    "print('name of the file you want to read : ', name)"
   ]
  },
  {
   "cell_type": "code",
   "execution_count": 3,
   "metadata": {},
   "outputs": [],
   "source": [
    "flattened_array  = cPickle.load(open(\"data/pickle/\"+str(size[1])+\"/\"+name, \"rb\"))"
   ]
  },
  {
   "cell_type": "code",
   "execution_count": 4,
   "metadata": {},
   "outputs": [
    {
     "name": "stdout",
     "output_type": "stream",
     "text": [
      "[[ 6.59818698e-02  1.82234920e-02  6.44159502e-02 ...  1.03034493e+00\n",
      "  -9.73947264e-03 -1.67477632e-02]\n",
      " [ 5.29771523e-02  1.32216300e-02  4.90189335e-02 ...  9.93200215e-01\n",
      "   5.02639122e-03  1.41599883e-03]\n",
      " [ 8.25671280e-02  2.32952726e-02  6.87771891e-02 ...  1.77500861e+00\n",
      "   3.44533164e-04  1.81417079e-02]\n",
      " ...\n",
      " [ 2.19606656e-01  2.55903473e-02  2.29397872e-01 ...  1.46759534e+00\n",
      "   7.42708226e-02 -1.34336791e-02]\n",
      " [ 2.41341112e-01  5.06083120e-02  2.15209040e-01 ...  4.44840207e+00\n",
      "   4.35858394e-02  2.36892166e-02]\n",
      " [ 6.98710694e-02  1.96083000e-02  6.43463295e-02 ...  1.38366628e+00\n",
      "  -1.23426650e-03  1.73919218e-03]]\n"
     ]
    }
   ],
   "source": [
    "print(flattened_array)"
   ]
  },
  {
   "cell_type": "markdown",
   "metadata": {},
   "source": [
    "##### Final step : split train/test\n",
    "\n",
    "We split the data set into a training a testing set to be able to evaluate our autoencoder."
   ]
  },
  {
   "cell_type": "code",
   "execution_count": 5,
   "metadata": {},
   "outputs": [
    {
     "name": "stdout",
     "output_type": "stream",
     "text": [
      "(157, 60500)\n",
      "(18, 60500)\n"
     ]
    }
   ],
   "source": [
    "x_train, x_test = train_test_split(flattened_array, test_size=0.1, random_state=seed)\n",
    "y_train, y_test = x_train, x_test\n",
    "\n",
    "print(x_train.shape)\n",
    "print(x_test.shape)"
   ]
  },
  {
   "cell_type": "markdown",
   "metadata": {},
   "source": [
    "## 4. Feed-forward auto-encoder  <a name=\"autoencoder\"></a>"
   ]
  },
  {
   "cell_type": "markdown",
   "metadata": {},
   "source": [
    "#### Parameters tuning"
   ]
  },
  {
   "cell_type": "markdown",
   "metadata": {},
   "source": [
    "Find the best learning rate of our model using cross-validation :"
   ]
  },
  {
   "cell_type": "code",
   "execution_count": 6,
   "metadata": {},
   "outputs": [],
   "source": [
    "# define network parameters\n",
    "learning_rates =[0.1, 0.05, 0.01, 0.005, 0.001]\n",
    "epochs= 50\n",
    "input_size=x_train.shape[1]\n",
    "k_folds = 5\n",
    "dataset_name = \"middle_small\" #Only used to save the plot with the good name\n",
    "\n",
    "# creates a criterion that measures the mean squared error (squared L2 norm) \n",
    "criterion = nn.MSELoss()  "
   ]
  },
  {
   "cell_type": "code",
   "execution_count": 7,
   "metadata": {},
   "outputs": [
    {
     "name": "stdout",
     "output_type": "stream",
     "text": [
      "\u001b[1mLearning rate =  0.1\n",
      "\u001b[0m\n",
      "Performance of 5 fold cross validation: \n",
      "Average Training Error: 0.872 \t Average Test Error: 0.879\n",
      " \n",
      "\u001b[1mLearning rate =  0.05\n",
      "\u001b[0m\n",
      "Performance of 5 fold cross validation: \n",
      "Average Training Error: 0.971 \t Average Test Error: 0.972\n",
      " \n",
      "\u001b[1mLearning rate =  0.01\n",
      "\u001b[0m\n",
      "Performance of 5 fold cross validation: \n",
      "Average Training Error: 0.388 \t Average Test Error: 0.303\n",
      " \n",
      "\u001b[1mLearning rate =  0.005\n",
      "\u001b[0m\n",
      "Performance of 5 fold cross validation: \n",
      "Average Training Error: 0.429 \t Average Test Error: 0.329\n",
      " \n",
      "\u001b[1mLearning rate =  0.001\n",
      "\u001b[0m\n",
      "Performance of 5 fold cross validation: \n",
      "Average Training Error: 0.398 \t Average Test Error: 0.320\n",
      " \n",
      "\u001b[0m\n",
      "Best learning rate is  0.01  with a best error of :  0.30325559044845574\n",
      "\u001b[0m\n"
     ]
    },
    {
     "data": {
      "image/png": "[encoded data removed]",
      "text/plain": [
       "<Figure size 432x288 with 1 Axes>"
      ]
     },
     "metadata": {
      "needs_background": "light"
     },
     "output_type": "display_data"
    }
   ],
   "source": [
    "best_result, best_lr = tuning_lr(x_train, k_folds, input_size, epochs, criterion, learning_rates,  dataset_name_=dataset_name)"
   ]
  },
  {
   "cell_type": "markdown",
   "metadata": {},
   "source": [
    "Find the best number of neurons in the latent space (neurons in the \"middle layer of the auto-encoder\") in the auto-encoder (which is actually the dimension of the compressed data) : "
   ]
  },
  {
   "cell_type": "code",
   "execution_count": 8,
   "metadata": {},
   "outputs": [],
   "source": [
    "# define network parameters\n",
    "lr = best_lr # from above\n",
    "epochs= 50\n",
    "input_size=x_train.shape[1]\n",
    "k_folds = 5\n",
    "number_neurons = [3, 4, 5, 6, 7, 8, 9, 10]\n",
    "dataset_name = \"middle_small\" #Only used to save the plot with the good name\n",
    "\n",
    "# creates a criterion that measures the mean squared error (squared L2 norm) \n",
    "criterion = nn.MSELoss()  "
   ]
  },
  {
   "cell_type": "code",
   "execution_count": 9,
   "metadata": {},
   "outputs": [
    {
     "name": "stdout",
     "output_type": "stream",
     "text": [
      "\u001b[1mNumber of neurons =  3\n",
      "\u001b[0m\n",
      "Performance of 5 fold cross validation: \n",
      "Average Training Error: 0.336 \t Average Test Error: 0.327\n",
      " \n",
      "\u001b[1mNumber of neurons =  4\n",
      "\u001b[0m\n",
      "Performance of 5 fold cross validation: \n",
      "Average Training Error: 0.290 \t Average Test Error: 0.412\n",
      " \n",
      "\u001b[1mNumber of neurons =  5\n",
      "\u001b[0m\n",
      "Performance of 5 fold cross validation: \n",
      "Average Training Error: 0.388 \t Average Test Error: 0.303\n",
      " \n",
      "\u001b[1mNumber of neurons =  6\n",
      "\u001b[0m\n",
      "Performance of 5 fold cross validation: \n",
      "Average Training Error: 0.414 \t Average Test Error: 0.368\n",
      " \n",
      "\u001b[1mNumber of neurons =  7\n",
      "\u001b[0m\n",
      "Performance of 5 fold cross validation: \n",
      "Average Training Error: 0.438 \t Average Test Error: 0.395\n",
      " \n",
      "\u001b[1mNumber of neurons =  8\n",
      "\u001b[0m\n",
      "Performance of 5 fold cross validation: \n",
      "Average Training Error: 0.326 \t Average Test Error: 0.302\n",
      " \n",
      "\u001b[1mNumber of neurons =  9\n",
      "\u001b[0m\n",
      "Performance of 5 fold cross validation: \n",
      "Average Training Error: 0.391 \t Average Test Error: 0.395\n",
      " \n",
      "\u001b[1mNumber of neurons =  10\n",
      "\u001b[0m\n",
      "Performance of 5 fold cross validation: \n",
      "Average Training Error: 0.480 \t Average Test Error: 0.467\n",
      " \n",
      "The results obtained for the number of latent neurons tested are the following : [0.3265429807408256, 0.4123768761163089, 0.30325559044845574, 0.36779412673155776, 0.3945051541294916, 0.30247953916517567, 0.3948087605268923, 0.4666702277630411].\n",
      "The best average test error obtained is 0.30247953916517567, and it is obtained with 8 neurons in the latent layer.\n"
     ]
    },
    {
     "data": {
      "image/png": "[encoded data removed]",
      "text/plain": [
       "<Figure size 432x288 with 1 Axes>"
      ]
     },
     "metadata": {
      "needs_background": "light"
     },
     "output_type": "display_data"
    }
   ],
   "source": [
    "best_result, best_neurons_nb = tuning_latent_layer(x_train, k_folds, input_size, epochs, criterion, lr, number_neurons,  dataset_name_=dataset_name)"
   ]
  },
  {
   "cell_type": "markdown",
   "metadata": {},
   "source": [
    "#### Let's try with the tuned parameters and see how it goes along the epochs"
   ]
  },
  {
   "cell_type": "code",
   "execution_count": 6,
   "metadata": {},
   "outputs": [],
   "source": [
    "# define network parameters\n",
    "learningRate= 0.01\n",
    "epochs=50\n",
    "input_size=x_train.shape[1]\n",
    "k_folds = 5\n",
    "neuron_ = 8\n",
    "\n",
    "# creates a criterion that measures the mean squared error (squared L2 norm) \n",
    "criterion = nn.MSELoss() "
   ]
  },
  {
   "cell_type": "code",
   "execution_count": 7,
   "metadata": {},
   "outputs": [
    {
     "name": "stdout",
     "output_type": "stream",
     "text": [
      "--------------------------------\n",
      "FOLD 0\n",
      "--------------------------------\n",
      "Epoch:1/50 Training Error:0.562 Test Error:0.567\n",
      "Epoch:2/50 Training Error:1.147 Test Error:1.130\n",
      "Epoch:3/50 Training Error:0.372 Test Error:0.573\n",
      "Epoch:4/50 Training Error:0.308 Test Error:0.350\n",
      "Epoch:5/50 Training Error:0.278 Test Error:0.393\n",
      "Epoch:6/50 Training Error:0.328 Test Error:0.747\n",
      "Epoch:7/50 Training Error:0.322 Test Error:0.410\n",
      "Epoch:8/50 Training Error:0.355 Test Error:0.402\n",
      "Epoch:9/50 Training Error:0.322 Test Error:0.372\n",
      "Epoch:10/50 Training Error:0.302 Test Error:0.382\n",
      "Epoch:11/50 Training Error:0.369 Test Error:0.501\n",
      "Epoch:12/50 Training Error:0.339 Test Error:0.401\n",
      "Epoch:13/50 Training Error:0.339 Test Error:0.335\n",
      "Epoch:14/50 Training Error:0.300 Test Error:1.055\n",
      "Epoch:15/50 Training Error:0.432 Test Error:0.925\n",
      "Epoch:16/50 Training Error:0.329 Test Error:0.412\n",
      "Epoch:17/50 Training Error:0.344 Test Error:0.301\n",
      "Epoch:18/50 Training Error:0.371 Test Error:0.402\n",
      "Epoch:19/50 Training Error:0.335 Test Error:0.364\n",
      "Epoch:20/50 Training Error:0.353 Test Error:0.300\n",
      "Epoch:21/50 Training Error:0.368 Test Error:0.457\n",
      "Epoch:22/50 Training Error:0.418 Test Error:0.447\n",
      "Epoch:23/50 Training Error:0.355 Test Error:0.511\n",
      "Epoch:24/50 Training Error:0.339 Test Error:0.391\n",
      "Epoch:25/50 Training Error:0.321 Test Error:0.402\n",
      "Epoch:26/50 Training Error:0.353 Test Error:0.354\n",
      "Epoch:27/50 Training Error:0.337 Test Error:0.386\n",
      "Epoch:28/50 Training Error:0.361 Test Error:0.501\n",
      "Epoch:29/50 Training Error:0.433 Test Error:0.798\n",
      "Epoch:30/50 Training Error:0.321 Test Error:0.340\n",
      "Epoch:31/50 Training Error:0.327 Test Error:0.425\n",
      "Epoch:32/50 Training Error:0.306 Test Error:0.453\n",
      "Epoch:33/50 Training Error:0.357 Test Error:0.303\n",
      "Epoch:34/50 Training Error:0.418 Test Error:0.410\n",
      "Epoch:35/50 Training Error:0.340 Test Error:0.410\n",
      "Epoch:36/50 Training Error:0.386 Test Error:0.430\n",
      "Epoch:37/50 Training Error:0.330 Test Error:0.336\n",
      "Epoch:38/50 Training Error:0.401 Test Error:0.422\n",
      "Epoch:39/50 Training Error:0.358 Test Error:0.338\n",
      "Epoch:40/50 Training Error:0.342 Test Error:0.410\n",
      "Epoch:41/50 Training Error:0.358 Test Error:0.305\n",
      "Epoch:42/50 Training Error:0.343 Test Error:0.971\n",
      "Epoch:43/50 Training Error:0.402 Test Error:0.430\n",
      "Epoch:44/50 Training Error:0.332 Test Error:0.323\n",
      "Epoch:45/50 Training Error:0.361 Test Error:0.333\n",
      "Epoch:46/50 Training Error:0.477 Test Error:0.286\n",
      "Epoch:47/50 Training Error:0.462 Test Error:0.365\n",
      "Epoch:48/50 Training Error:0.353 Test Error:0.407\n",
      "Epoch:49/50 Training Error:0.402 Test Error:0.431\n",
      "Epoch:50/50 Training Error:0.292 Test Error:0.346\n",
      "--------------------------------\n",
      "FOLD 1\n",
      "--------------------------------\n",
      "Epoch:1/50 Training Error:0.762 Test Error:0.742\n",
      "Epoch:2/50 Training Error:0.300 Test Error:0.268\n",
      "Epoch:3/50 Training Error:0.227 Test Error:0.231\n",
      "Epoch:4/50 Training Error:0.233 Test Error:0.242\n",
      "Epoch:5/50 Training Error:0.221 Test Error:0.212\n",
      "Epoch:6/50 Training Error:0.212 Test Error:0.205\n",
      "Epoch:7/50 Training Error:0.220 Test Error:0.182\n",
      "Epoch:8/50 Training Error:0.220 Test Error:0.340\n",
      "Epoch:9/50 Training Error:0.232 Test Error:0.192\n",
      "Epoch:10/50 Training Error:0.242 Test Error:0.234\n",
      "Epoch:11/50 Training Error:0.227 Test Error:0.198\n",
      "Epoch:12/50 Training Error:0.215 Test Error:0.189\n",
      "Epoch:13/50 Training Error:0.259 Test Error:0.217\n",
      "Epoch:14/50 Training Error:0.254 Test Error:0.211\n",
      "Epoch:15/50 Training Error:0.210 Test Error:0.196\n",
      "Epoch:16/50 Training Error:0.213 Test Error:0.201\n",
      "Epoch:17/50 Training Error:0.243 Test Error:0.193\n",
      "Epoch:18/50 Training Error:0.222 Test Error:0.193\n",
      "Epoch:19/50 Training Error:0.211 Test Error:0.210\n",
      "Epoch:20/50 Training Error:0.219 Test Error:0.201\n",
      "Epoch:21/50 Training Error:0.223 Test Error:0.199\n",
      "Epoch:22/50 Training Error:0.229 Test Error:0.223\n",
      "Epoch:23/50 Training Error:0.215 Test Error:0.239\n",
      "Epoch:24/50 Training Error:0.239 Test Error:0.436\n",
      "Epoch:25/50 Training Error:0.217 Test Error:0.177\n",
      "Epoch:26/50 Training Error:0.215 Test Error:0.180\n",
      "Epoch:27/50 Training Error:0.218 Test Error:0.231\n",
      "Epoch:28/50 Training Error:0.205 Test Error:0.200\n",
      "Epoch:29/50 Training Error:0.269 Test Error:0.274\n",
      "Epoch:30/50 Training Error:0.230 Test Error:0.194\n",
      "Epoch:31/50 Training Error:0.357 Test Error:0.298\n",
      "Epoch:32/50 Training Error:0.307 Test Error:0.257\n",
      "Epoch:33/50 Training Error:0.217 Test Error:0.203\n",
      "Epoch:34/50 Training Error:0.230 Test Error:0.411\n",
      "Epoch:35/50 Training Error:0.211 Test Error:0.218\n",
      "Epoch:36/50 Training Error:0.212 Test Error:0.205\n",
      "Epoch:37/50 Training Error:0.224 Test Error:0.223\n",
      "Epoch:38/50 Training Error:0.225 Test Error:0.225\n",
      "Epoch:39/50 Training Error:0.211 Test Error:0.176\n",
      "Epoch:40/50 Training Error:0.238 Test Error:0.232\n",
      "Epoch:41/50 Training Error:0.218 Test Error:0.209\n",
      "Epoch:42/50 Training Error:0.226 Test Error:0.216\n",
      "Epoch:43/50 Training Error:0.242 Test Error:0.230\n",
      "Epoch:44/50 Training Error:0.219 Test Error:0.192\n",
      "Epoch:45/50 Training Error:0.231 Test Error:0.187\n",
      "Epoch:46/50 Training Error:0.196 Test Error:0.201\n",
      "Epoch:47/50 Training Error:0.217 Test Error:0.264\n",
      "Epoch:48/50 Training Error:0.246 Test Error:0.190\n",
      "Epoch:49/50 Training Error:0.255 Test Error:0.224\n",
      "Epoch:50/50 Training Error:0.220 Test Error:0.188\n",
      "--------------------------------\n",
      "FOLD 2\n",
      "--------------------------------\n",
      "Epoch:1/50 Training Error:0.859 Test Error:0.820\n",
      "Epoch:2/50 Training Error:0.781 Test Error:0.761\n",
      "Epoch:3/50 Training Error:0.725 Test Error:0.707\n",
      "Epoch:4/50 Training Error:0.687 Test Error:0.674\n",
      "Epoch:5/50 Training Error:0.305 Test Error:0.275\n",
      "Epoch:6/50 Training Error:0.354 Test Error:0.481\n",
      "Epoch:7/50 Training Error:0.305 Test Error:0.374\n",
      "Epoch:8/50 Training Error:0.384 Test Error:0.488\n",
      "Epoch:9/50 Training Error:0.533 Test Error:0.295\n",
      "Epoch:10/50 Training Error:0.355 Test Error:0.394\n",
      "Epoch:11/50 Training Error:0.424 Test Error:0.335\n",
      "Epoch:12/50 Training Error:0.419 Test Error:0.416\n",
      "Epoch:13/50 Training Error:0.397 Test Error:0.825\n",
      "Epoch:14/50 Training Error:0.376 Test Error:0.440\n",
      "Epoch:15/50 Training Error:0.392 Test Error:0.294\n",
      "Epoch:16/50 Training Error:0.417 Test Error:0.362\n",
      "Epoch:17/50 Training Error:0.409 Test Error:0.759\n",
      "Epoch:18/50 Training Error:0.378 Test Error:0.313\n",
      "Epoch:19/50 Training Error:0.716 Test Error:0.545\n",
      "Epoch:20/50 Training Error:0.427 Test Error:0.369\n",
      "Epoch:21/50 Training Error:0.437 Test Error:0.311\n",
      "Epoch:22/50 Training Error:0.350 Test Error:0.314\n",
      "Epoch:23/50 Training Error:0.408 Test Error:0.261\n",
      "Epoch:24/50 Training Error:0.445 Test Error:0.264\n",
      "Epoch:25/50 Training Error:0.397 Test Error:0.319\n",
      "Epoch:26/50 Training Error:0.418 Test Error:0.262\n",
      "Epoch:27/50 Training Error:0.405 Test Error:0.403\n",
      "Epoch:28/50 Training Error:0.397 Test Error:0.400\n",
      "Epoch:29/50 Training Error:0.380 Test Error:0.380\n",
      "Epoch:30/50 Training Error:0.419 Test Error:0.431\n",
      "Epoch:31/50 Training Error:0.403 Test Error:0.307\n",
      "Epoch:32/50 Training Error:0.325 Test Error:0.350\n",
      "Epoch:33/50 Training Error:0.455 Test Error:0.476\n",
      "Epoch:34/50 Training Error:0.338 Test Error:0.266\n",
      "Epoch:35/50 Training Error:0.407 Test Error:0.335\n",
      "Epoch:36/50 Training Error:0.383 Test Error:0.353\n",
      "Epoch:37/50 Training Error:0.470 Test Error:0.326\n",
      "Epoch:38/50 Training Error:0.429 Test Error:0.210\n",
      "Epoch:39/50 Training Error:0.377 Test Error:0.299\n",
      "Epoch:40/50 Training Error:0.486 Test Error:0.850\n",
      "Epoch:41/50 Training Error:0.411 Test Error:0.357\n",
      "Epoch:42/50 Training Error:0.522 Test Error:0.329\n",
      "Epoch:43/50 Training Error:0.647 Test Error:1.218\n",
      "Epoch:44/50 Training Error:0.415 Test Error:0.348\n",
      "Epoch:45/50 Training Error:0.372 Test Error:0.346\n",
      "Epoch:46/50 Training Error:0.447 Test Error:0.359\n",
      "Epoch:47/50 Training Error:0.353 Test Error:0.280\n",
      "Epoch:48/50 Training Error:0.546 Test Error:0.515\n",
      "Epoch:49/50 Training Error:0.406 Test Error:0.395\n",
      "Epoch:50/50 Training Error:0.451 Test Error:0.264\n",
      "--------------------------------\n",
      "FOLD 3\n",
      "--------------------------------\n",
      "Epoch:1/50 Training Error:0.428 Test Error:0.453\n",
      "Epoch:2/50 Training Error:0.371 Test Error:0.472\n",
      "Epoch:3/50 Training Error:0.318 Test Error:0.303\n",
      "Epoch:4/50 Training Error:0.342 Test Error:0.406\n",
      "Epoch:5/50 Training Error:0.395 Test Error:0.583\n",
      "Epoch:6/50 Training Error:0.471 Test Error:1.946\n",
      "Epoch:7/50 Training Error:0.379 Test Error:0.332\n",
      "Epoch:8/50 Training Error:0.303 Test Error:0.365\n",
      "Epoch:9/50 Training Error:0.359 Test Error:0.400\n"
     ]
    },
    {
     "name": "stdout",
     "output_type": "stream",
     "text": [
      "Epoch:10/50 Training Error:0.380 Test Error:0.346\n",
      "Epoch:11/50 Training Error:0.419 Test Error:0.315\n",
      "Epoch:12/50 Training Error:0.346 Test Error:0.212\n",
      "Epoch:13/50 Training Error:0.366 Test Error:0.395\n",
      "Epoch:14/50 Training Error:0.356 Test Error:4.063\n",
      "Epoch:15/50 Training Error:0.388 Test Error:0.940\n",
      "Epoch:16/50 Training Error:0.305 Test Error:0.437\n",
      "Epoch:17/50 Training Error:0.482 Test Error:0.400\n",
      "Epoch:18/50 Training Error:0.376 Test Error:0.398\n",
      "Epoch:19/50 Training Error:0.382 Test Error:0.547\n",
      "Epoch:20/50 Training Error:0.356 Test Error:1.578\n",
      "Epoch:21/50 Training Error:0.408 Test Error:0.373\n",
      "Epoch:22/50 Training Error:0.411 Test Error:0.363\n",
      "Epoch:23/50 Training Error:0.402 Test Error:0.233\n",
      "Epoch:24/50 Training Error:0.407 Test Error:0.333\n",
      "Epoch:25/50 Training Error:0.363 Test Error:0.350\n",
      "Epoch:26/50 Training Error:0.333 Test Error:0.468\n",
      "Epoch:27/50 Training Error:0.350 Test Error:0.273\n",
      "Epoch:28/50 Training Error:0.369 Test Error:0.711\n",
      "Epoch:29/50 Training Error:0.448 Test Error:0.536\n",
      "Epoch:30/50 Training Error:0.318 Test Error:0.309\n",
      "Epoch:31/50 Training Error:0.378 Test Error:1.435\n",
      "Epoch:32/50 Training Error:0.341 Test Error:0.393\n",
      "Epoch:33/50 Training Error:0.347 Test Error:0.396\n",
      "Epoch:34/50 Training Error:0.390 Test Error:0.540\n",
      "Epoch:35/50 Training Error:0.430 Test Error:0.393\n",
      "Epoch:36/50 Training Error:0.452 Test Error:0.334\n",
      "Epoch:37/50 Training Error:0.336 Test Error:0.360\n",
      "Epoch:38/50 Training Error:0.366 Test Error:0.448\n",
      "Epoch:39/50 Training Error:0.322 Test Error:0.372\n",
      "Epoch:40/50 Training Error:0.331 Test Error:0.466\n",
      "Epoch:41/50 Training Error:0.325 Test Error:0.574\n",
      "Epoch:42/50 Training Error:0.386 Test Error:0.422\n",
      "Epoch:43/50 Training Error:0.383 Test Error:0.495\n",
      "Epoch:44/50 Training Error:0.372 Test Error:0.428\n",
      "Epoch:45/50 Training Error:0.268 Test Error:0.313\n",
      "Epoch:46/50 Training Error:0.337 Test Error:0.280\n",
      "Epoch:47/50 Training Error:0.243 Test Error:0.504\n",
      "Epoch:48/50 Training Error:0.356 Test Error:0.328\n",
      "Epoch:49/50 Training Error:0.344 Test Error:0.424\n",
      "Epoch:50/50 Training Error:0.364 Test Error:0.437\n",
      "--------------------------------\n",
      "FOLD 4\n",
      "--------------------------------\n",
      "Epoch:1/50 Training Error:0.572 Test Error:0.598\n",
      "Epoch:2/50 Training Error:0.414 Test Error:0.344\n",
      "Epoch:3/50 Training Error:0.391 Test Error:0.290\n",
      "Epoch:4/50 Training Error:0.311 Test Error:1.093\n",
      "Epoch:5/50 Training Error:0.383 Test Error:0.934\n",
      "Epoch:6/50 Training Error:0.404 Test Error:0.390\n",
      "Epoch:7/50 Training Error:0.323 Test Error:1.024\n",
      "Epoch:8/50 Training Error:0.380 Test Error:0.255\n",
      "Epoch:9/50 Training Error:0.379 Test Error:0.443\n",
      "Epoch:10/50 Training Error:0.393 Test Error:0.315\n",
      "Epoch:11/50 Training Error:0.409 Test Error:0.313\n",
      "Epoch:12/50 Training Error:0.421 Test Error:0.266\n",
      "Epoch:13/50 Training Error:0.389 Test Error:0.920\n",
      "Epoch:14/50 Training Error:0.360 Test Error:0.694\n",
      "Epoch:15/50 Training Error:0.436 Test Error:0.307\n",
      "Epoch:16/50 Training Error:0.343 Test Error:0.358\n",
      "Epoch:17/50 Training Error:0.282 Test Error:0.333\n",
      "Epoch:18/50 Training Error:0.378 Test Error:0.397\n",
      "Epoch:19/50 Training Error:0.395 Test Error:0.277\n",
      "Epoch:20/50 Training Error:0.440 Test Error:0.311\n",
      "Epoch:21/50 Training Error:0.382 Test Error:0.351\n",
      "Epoch:22/50 Training Error:0.368 Test Error:0.500\n",
      "Epoch:23/50 Training Error:0.422 Test Error:0.400\n",
      "Epoch:24/50 Training Error:0.401 Test Error:0.269\n",
      "Epoch:25/50 Training Error:0.343 Test Error:0.321\n",
      "Epoch:26/50 Training Error:0.387 Test Error:0.326\n",
      "Epoch:27/50 Training Error:0.414 Test Error:0.307\n",
      "Epoch:28/50 Training Error:0.455 Test Error:0.273\n",
      "Epoch:29/50 Training Error:0.358 Test Error:0.240\n",
      "Epoch:30/50 Training Error:0.432 Test Error:0.431\n",
      "Epoch:31/50 Training Error:0.332 Test Error:0.353\n",
      "Epoch:32/50 Training Error:0.355 Test Error:0.283\n",
      "Epoch:33/50 Training Error:0.442 Test Error:0.310\n",
      "Epoch:34/50 Training Error:0.391 Test Error:1.032\n",
      "Epoch:35/50 Training Error:0.311 Test Error:0.364\n",
      "Epoch:36/50 Training Error:0.474 Test Error:0.419\n",
      "Epoch:37/50 Training Error:0.393 Test Error:0.456\n",
      "Epoch:38/50 Training Error:0.357 Test Error:0.319\n",
      "Epoch:39/50 Training Error:0.361 Test Error:0.236\n",
      "Epoch:40/50 Training Error:0.419 Test Error:0.407\n",
      "Epoch:41/50 Training Error:0.411 Test Error:0.247\n",
      "Epoch:42/50 Training Error:0.387 Test Error:0.536\n",
      "Epoch:43/50 Training Error:0.399 Test Error:0.361\n",
      "Epoch:44/50 Training Error:0.435 Test Error:0.762\n",
      "Epoch:45/50 Training Error:0.388 Test Error:0.486\n",
      "Epoch:46/50 Training Error:0.397 Test Error:0.307\n",
      "Epoch:47/50 Training Error:0.403 Test Error:0.417\n",
      "Epoch:48/50 Training Error:0.442 Test Error:0.362\n",
      "Epoch:49/50 Training Error:0.414 Test Error:1.989\n",
      "Epoch:50/50 Training Error:0.321 Test Error:0.306\n",
      "Performance of 5 fold cross validation: \n",
      "Average Training Error: 0.330 \t Average Test Error: 0.308\n",
      " \n"
     ]
    },
    {
     "data": {
      "image/png": "[encoded data removed]",
      "text/plain": [
       "<Figure size 720x576 with 1 Axes>"
      ]
     },
     "metadata": {
      "needs_background": "light"
     },
     "output_type": "display_data"
    },
    {
     "data": {
      "text/plain": [
       "0.30832868070334596"
      ]
     },
     "execution_count": 7,
     "metadata": {},
     "output_type": "execute_result"
    }
   ],
   "source": [
    "Kfold(x_train, k_folds, input_size, epochs, criterion, learningRate, neuron=neuron_)"
   ]
  },
  {
   "cell_type": "markdown",
   "metadata": {},
   "source": [
    "#### Quality of the compression on the test set using the tuned parameters :"
   ]
  },
  {
   "cell_type": "markdown",
   "metadata": {},
   "source": [
    "We will now train and test our auto-encoder for different sample size of our initial dataset. To do so we will do a batch processing and store the final train and test errors. See the report to see the nice comparison table :"
   ]
  },
  {
   "cell_type": "code",
   "execution_count": 10,
   "metadata": {},
   "outputs": [],
   "source": [
    "import glob\n",
    "import os \n",
    "import _pickle as cPickle\n",
    "\n",
    "dataset = 'very_small'\n",
    "file_location = os.path.join('data', 'pickle', dataset, '*')\n",
    "filenames = glob.glob(file_location)\n",
    "i=0 \n",
    "\n",
    "\n",
    "# define the parameters of the model\n",
    "learningRate= 0.01\n",
    "neuron_ = 8\n",
    "\n",
    "epochs=50\n",
    "criterion = nn.MSELoss() \n",
    "\n",
    "test_errors = []\n",
    "train_errors = []\n",
    "\n",
    "for f in filenames:\n",
    "    #Load the data\n",
    "    x  = cPickle.load(open(f, \"rb\"))\n",
    "    \n",
    "    #Split\n",
    "    x_train, x_test = train_test_split(x, test_size=0.1, random_state=seed)\n",
    "    y_train, y_test = x_train, x_test\n",
    "    \n",
    "    #Declare the model\n",
    "    input_size=x_train.shape[1]\n",
    "    model = Autoencoder(input_size, neuron_)\n",
    "    optimizer = torch.optim.Adam(model.parameters(), lr=learningRate, weight_decay=1e-5)\n",
    "    \n",
    "    #Dataloader\n",
    "    train_loader = DataLoader(x_train)\n",
    "    test_loader = DataLoader(x_test)\n",
    "    \n",
    "    #Training and testing over the epochs\n",
    "    for epoch in range(epochs):\n",
    "        # train the model \n",
    "        train_loss=train_epoch(train_loader, model, criterion, optimizer)\n",
    "        # compute the relative training error\n",
    "        train_error = valid_epoch(train_loader, model)\n",
    "        # compute the relative test error\n",
    "        test_error=valid_epoch(test_loader, model)\n",
    "    \n",
    "    #Save the last epoch train and test errors\n",
    "    test_errors.append(test_error)\n",
    "    train_errors.append(train_error)"
   ]
  },
  {
   "cell_type": "code",
   "execution_count": 11,
   "metadata": {},
   "outputs": [
    {
     "data": {
      "text/html": [
       "<div>\n",
       "<style scoped>\n",
       "    .dataframe tbody tr th:only-of-type {\n",
       "        vertical-align: middle;\n",
       "    }\n",
       "\n",
       "    .dataframe tbody tr th {\n",
       "        vertical-align: top;\n",
       "    }\n",
       "\n",
       "    .dataframe thead th {\n",
       "        text-align: right;\n",
       "    }\n",
       "</style>\n",
       "<table border=\"1\" class=\"dataframe\">\n",
       "  <thead>\n",
       "    <tr style=\"text-align: right;\">\n",
       "      <th></th>\n",
       "      <th>10%</th>\n",
       "      <th>5%</th>\n",
       "      <th>2%</th>\n",
       "    </tr>\n",
       "    <tr>\n",
       "      <th></th>\n",
       "      <th></th>\n",
       "      <th></th>\n",
       "      <th></th>\n",
       "    </tr>\n",
       "  </thead>\n",
       "  <tbody>\n",
       "    <tr>\n",
       "      <th>50%</th>\n",
       "      <td>0.143501</td>\n",
       "      <td>0.384466</td>\n",
       "      <td>0.116569</td>\n",
       "    </tr>\n",
       "    <tr>\n",
       "      <th>25%</th>\n",
       "      <td>0.229321</td>\n",
       "      <td>0.353863</td>\n",
       "      <td>0.340060</td>\n",
       "    </tr>\n",
       "    <tr>\n",
       "      <th>10%</th>\n",
       "      <td>0.381651</td>\n",
       "      <td>0.152666</td>\n",
       "      <td>0.348041</td>\n",
       "    </tr>\n",
       "  </tbody>\n",
       "</table>\n",
       "</div>"
      ],
      "text/plain": [
       "          10%        5%        2%\n",
       "                                 \n",
       "50%  0.143501  0.384466  0.116569\n",
       "25%  0.229321  0.353863  0.340060\n",
       "10%  0.381651  0.152666  0.348041"
      ]
     },
     "metadata": {},
     "output_type": "display_data"
    },
    {
     "name": "stdout",
     "output_type": "stream",
     "text": [
      "\u001b[1mTable of relative error depending on the sampling of the dataset\u001b[0m\n",
      "x : sampling of times\n",
      "y : sampling of positions\n"
     ]
    }
   ],
   "source": [
    "from pandas import *\n",
    "\n",
    "results = DataFrame({'' : ['50%', '25%', '10%'],\n",
    "                   '10%' : test_errors[:3],\n",
    "                   '5%' : test_errors[3:6],\n",
    "                   '2%' : test_errors[6:9]})\n",
    "\n",
    "results = results.set_index('')\n",
    "\n",
    "display(results)\n",
    "print(\"\\033[1m\" + 'Table of relative error depending on the sampling of the dataset' + \"\\033[0m\")\n",
    "print('x : sampling of times')\n",
    "print('y : sampling of positions')"
   ]
  },
  {
   "cell_type": "code",
   "execution_count": 12,
   "metadata": {},
   "outputs": [],
   "source": [
    "#Save in pickles\n",
    "\n",
    "name = \"train_errors_\" + dataset\n",
    "cPickle.dump( train_errors , open( name, \"wb\" ) )\n",
    "name = \"test_errors_\" + dataset\n",
    "cPickle.dump( test_errors , open( name, \"wb\" ) )"
   ]
  },
  {
   "cell_type": "markdown",
   "metadata": {},
   "source": [
    "## 4. Passer en 2D "
   ]
  },
  {
   "cell_type": "markdown",
   "metadata": {},
   "source": [
    "Instead of flattenning our initial dataset into a colummn vector for each simulation, we split it into a 2D matrix for each simulation such as the following:\n",
    "\n",
    "$$\n",
    "\\mathbf{M_{2D}}\n",
    "=\n",
    "\\begin{bmatrix}\n",
    "\\vdots & \\vdots & \\vdots & \\vdots \\\\\n",
    "u_{x}^{(0)} & u_{x}^{(1)} & \\cdots &\n",
    "u_{x}^{(N_t - 1)} \\\\\n",
    "\\vdots & \\vdots & \\ddots & \\vdots \\\\\n",
    "u_{y}^{(0)} & u_{y}^{(1)} & \\cdots &\n",
    "u_{y}^{(N_t - 1)} \\\\\n",
    "\\vdots & \\vdots & \\vdots & \\vdots\n",
    "\\end{bmatrix}\n",
    "$$"
   ]
  },
  {
   "cell_type": "code",
   "execution_count": 16,
   "metadata": {},
   "outputs": [
    {
     "data": {
      "text/plain": [
       "(25, 1100, 110)"
      ]
     },
     "execution_count": 16,
     "metadata": {},
     "output_type": "execute_result"
    }
   ],
   "source": [
    "flattened_array = flatten_2d(new_Ux, new_Uy, ratio_pts)\n",
    "flattened_array.shape"
   ]
  },
  {
   "cell_type": "markdown",
   "metadata": {},
   "source": [
    "## 5. Passer en 4D"
   ]
  },
  {
   "cell_type": "code",
   "execution_count": 11,
   "metadata": {},
   "outputs": [
    {
     "ename": "IndexError",
     "evalue": "index 55 is out of bounds for axis 1 with size 55",
     "output_type": "error",
     "traceback": [
      "\u001b[1;31m---------------------------------------------------------------------------\u001b[0m",
      "\u001b[1;31mIndexError\u001b[0m                                Traceback (most recent call last)",
      "\u001b[1;32m~\\AppData\\Local\\Temp/ipykernel_12324/826318526.py\u001b[0m in \u001b[0;36m<module>\u001b[1;34m\u001b[0m\n\u001b[1;32m----> 1\u001b[1;33m \u001b[0mflattened_array_4d\u001b[0m \u001b[1;33m=\u001b[0m \u001b[0mflatten_4d\u001b[0m\u001b[1;33m(\u001b[0m\u001b[0mnew_Ux\u001b[0m\u001b[1;33m,\u001b[0m \u001b[0mnew_Uy\u001b[0m\u001b[1;33m,\u001b[0m \u001b[0mratio_pts\u001b[0m\u001b[1;33m)\u001b[0m\u001b[1;33m\u001b[0m\u001b[1;33m\u001b[0m\u001b[0m\n\u001b[0m\u001b[0;32m      2\u001b[0m \u001b[0mflattened_array_4d\u001b[0m\u001b[1;33m.\u001b[0m\u001b[0mshape\u001b[0m\u001b[1;33m\u001b[0m\u001b[1;33m\u001b[0m\u001b[0m\n",
      "\u001b[1;32m~\\OneDrive\\Documents\\Théau EPFL\\9.MA1\\Machine learning\\ML_project2\\ml-project-2-thevipers2\\preprocessing.py\u001b[0m in \u001b[0;36mflatten_4d\u001b[1;34m(Ux, Uy, ratios_pts, size)\u001b[0m\n\u001b[0;32m    278\u001b[0m \u001b[1;33m\u001b[0m\u001b[0m\n\u001b[0;32m    279\u001b[0m             \u001b[1;31m# plug the concatenation of the x and y speed coordinate into the column of the final array\u001b[0m\u001b[1;33m\u001b[0m\u001b[1;33m\u001b[0m\u001b[1;33m\u001b[0m\u001b[0m\n\u001b[1;32m--> 280\u001b[1;33m             \u001b[0mflattened_array_all\u001b[0m\u001b[1;33m[\u001b[0m\u001b[0midx_sim\u001b[0m\u001b[1;33m,\u001b[0m \u001b[0mcol\u001b[0m\u001b[1;33m,\u001b[0m \u001b[1;33m:\u001b[0m\u001b[1;33m,\u001b[0m \u001b[1;33m:\u001b[0m\u001b[1;33m]\u001b[0m \u001b[1;33m=\u001b[0m \u001b[0msim_x\u001b[0m\u001b[1;33m\u001b[0m\u001b[1;33m\u001b[0m\u001b[0m\n\u001b[0m\u001b[0;32m    281\u001b[0m             \u001b[0mflattened_array_all\u001b[0m\u001b[1;33m[\u001b[0m\u001b[0midx_sim\u001b[0m\u001b[1;33m,\u001b[0m \u001b[1;33m:\u001b[0m\u001b[1;33m,\u001b[0m \u001b[0mcol\u001b[0m\u001b[1;33m,\u001b[0m \u001b[1;33m:\u001b[0m\u001b[1;33m]\u001b[0m \u001b[1;33m=\u001b[0m \u001b[0msim_y\u001b[0m\u001b[1;33m\u001b[0m\u001b[1;33m\u001b[0m\u001b[0m\n\u001b[0;32m    282\u001b[0m \u001b[1;33m\u001b[0m\u001b[0m\n",
      "\u001b[1;31mIndexError\u001b[0m: index 55 is out of bounds for axis 1 with size 55"
     ]
    }
   ],
   "source": [
    "flattened_array_4d = flatten_4d(new_Ux, new_Uy, ratio_pts)\n",
    "flattened_array_4d.shape"
   ]
  },
  {
   "cell_type": "code",
   "execution_count": null,
   "metadata": {},
   "outputs": [],
   "source": [
    "flattened_array_4d = normalize(flattened_array_4d)"
   ]
  },
  {
   "cell_type": "code",
   "execution_count": null,
   "metadata": {},
   "outputs": [],
   "source": [
    "x_train, x_test = train_test_split(flattened_array_4d, test_size=0.1, random_state=seed)"
   ]
  },
  {
   "cell_type": "code",
   "execution_count": null,
   "metadata": {},
   "outputs": [],
   "source": [
    "import h5py"
   ]
  },
  {
   "cell_type": "code",
   "execution_count": null,
   "metadata": {},
   "outputs": [],
   "source": [
    "hf = h5py.File('trainset.h5', 'w')\n",
    "hf.create_dataset('dataset_1', data=x_train)"
   ]
  },
  {
   "cell_type": "code",
   "execution_count": null,
   "metadata": {},
   "outputs": [],
   "source": [
    "hf = h5py.File('testset.h5', 'w')\n",
    "hf.create_dataset('dataset_1', data=x)"
   ]
  },
  {
   "cell_type": "markdown",
   "metadata": {},
   "source": [
    "## 6. Discussion & conclusion"
   ]
  },
  {
   "cell_type": "code",
   "execution_count": null,
   "metadata": {},
   "outputs": [],
   "source": []
  }
 ],
 "metadata": {
  "kernelspec": {
   "display_name": "Python 3 (ipykernel)",
   "language": "python",
   "name": "python3"
  },
  "language_info": {
   "codemirror_mode": {
    "name": "ipython",
    "version": 3
   },
   "file_extension": ".py",
   "mimetype": "text/x-python",
   "name": "python",
   "nbconvert_exporter": "python",
   "pygments_lexer": "ipython3",
   "version": "3.8.8"
  }
 },
 "nbformat": 4,
 "nbformat_minor": 4
}
