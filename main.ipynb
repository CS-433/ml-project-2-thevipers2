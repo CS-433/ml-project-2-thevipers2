{
 "cells": [
  {
   "cell_type": "markdown",
   "metadata": {},
   "source": [
    "# Machine Learning - Project 2:\n",
    "# _Autoencoder for mathematical modeling of blood flow in a stenosis context_"
   ]
  },
  {
   "cell_type": "markdown",
   "metadata": {},
   "source": [
    "## Context"
   ]
  },
  {
   "cell_type": "markdown",
   "metadata": {},
   "source": [
    "In this project, we are going to analyze data derived from..."
   ]
  },
  {
   "cell_type": "markdown",
   "metadata": {},
   "source": [
    "Our goals:\n",
    "1. modeliser mathématiquement l’écoulement sanguin à l’aide de PDE dépendante de 2-3 paramètres physique\n",
    "2. simuler l’écoulement par un code d’éléments fini ou similaire\n",
    "3. générer beaucoup de solutions avec une grande nombre de paramètres différents. (Les 2-3, pris de façon aléatoire)\n",
    "4. a. utiliser les solutions numérique pour établir un auto encoder qui au milieu n’ai que 2-5 hyper-paramètres libres  \n",
    "b. quel erreur on obtient ? Est-ce possible de réduire le nombre d’hyper-paramètres ?\n",
    "5. étudier s’il y a une rélation entre les 2-5 hyper-paramètre et les paramètres physique  \n",
    "a. à l’aide de statistiques\n",
    "5. b. à l’aide d’un DNN (différent de 4a)\n",
    "6. (optionnel) faire un DNN entre l’input de 4a et output les paramêtres physique. Et/ou l’inverse.\n",
    "7. Discussion et conclusions "
   ]
  },
  {
   "cell_type": "markdown",
   "metadata": {},
   "source": [
    "Abbreviations used:\n",
    "- $N_u$ = total number of spatial points per simulation\n",
    "- $N_t$ = total number of time steps per simulation\n",
    "- $N_s$ = total number of simulations"
   ]
  },
  {
   "cell_type": "markdown",
   "metadata": {},
   "source": [
    "## Table of contents"
   ]
  },
  {
   "cell_type": "markdown",
   "metadata": {},
   "source": [
    "[1. Data exploration](#data_exploration) \n",
    "- [Imports](#1imports)\n",
    "- [Pathways](#1pathways)\n",
    "- [Loading](#1load)\n",
    "- [Exploration](#1exploration)\n",
    "\n",
    "[2. Data preprocessing](#preprocessing)\n",
    "\n",
    "[3. Autoencode](#classifier)"
   ]
  },
  {
   "cell_type": "markdown",
   "metadata": {},
   "source": [
    "## 1. Data exploration  <a name=\"data_exploration\"></a>"
   ]
  },
  {
   "cell_type": "markdown",
   "metadata": {},
   "source": [
    "### Imports  <a name=\"1imports\"></a>"
   ]
  },
  {
   "cell_type": "code",
   "execution_count": 1,
   "metadata": {},
   "outputs": [],
   "source": [
    "# Useful starting lines\n",
    "%matplotlib inline\n",
    "import numpy as np\n",
    "import matplotlib.pyplot as plt\n",
    "import pandas as pd\n",
    "from helpers import *\n",
    "from preprocessing import *\n",
    "from sklearn.model_selection import train_test_split\n",
    "from autoencoder import *\n",
    "%load_ext autoreload\n",
    "%autoreload 2"
   ]
  },
  {
   "cell_type": "markdown",
   "metadata": {},
   "source": [
    "### Pathways <a name=\"1pathways\"></a>"
   ]
  },
  {
   "cell_type": "code",
   "execution_count": 2,
   "metadata": {},
   "outputs": [],
   "source": [
    "DATA_PATH = 'data/'\n",
    "DATA_Ux_PATH = DATA_PATH + 'u1_small.csv.bz2'\n",
    "DATA_Uy_PATH = DATA_PATH + 'u2_small.csv.bz2'"
   ]
  },
  {
   "cell_type": "markdown",
   "metadata": {},
   "source": [
    "### Loading <a name=\"1load\"></a>"
   ]
  },
  {
   "cell_type": "markdown",
   "metadata": {},
   "source": [
    "Let's load the data which consists of 2 matrices Ux, Uy denoting the x and y coordinates of the speed."
   ]
  },
  {
   "cell_type": "code",
   "execution_count": 3,
   "metadata": {},
   "outputs": [],
   "source": [
    "# Loading\n",
    "Ux_pd = pd.read_csv(DATA_Ux_PATH, header=None)\n",
    "Uy_pd = pd.read_csv(DATA_Uy_PATH, header=None)\n",
    "# Converting from dataframe to numpy\n",
    "Ux = Ux_pd.to_numpy()\n",
    "Uy = Uy_pd.to_numpy()"
   ]
  },
  {
   "cell_type": "markdown",
   "metadata": {},
   "source": [
    "### Exploration <a name=\"1exploration\"></a>"
   ]
  },
  {
   "cell_type": "markdown",
   "metadata": {},
   "source": [
    "Let's have a closer look at our imported data sets. The columns represent the time steps and the rows represent a point of our blood vessel mesh and each 5509 row a new simulation."
   ]
  },
  {
   "cell_type": "code",
   "execution_count": 4,
   "metadata": {
    "scrolled": false
   },
   "outputs": [
    {
     "name": "stdout",
     "output_type": "stream",
     "text": [
      "Our input array Ux is of shape: (3029950, 110)\n",
      "Our input array Uy is of shape: (3035459, 110)\n",
      "Printing a row of Ux: \n",
      " [0.06417897 0.25470302 0.55885671 0.9493     1.38895813 1.83536662\n",
      " 2.24512906 2.57829978 2.80235851 2.89542637 2.99010086 3.07846599\n",
      " 3.16237576 3.24272178 3.31993687 3.39424293 3.46575844 3.53454851\n",
      " 3.60064961 3.66408252 3.72485926 3.7829869  3.83846969 3.89131023\n",
      " 3.94151015 3.98907053 4.03399206 4.07627523 4.11592037 4.15292772\n",
      " 4.18729746 4.21902971 4.24812457 4.27458211 4.29840238 4.31958542\n",
      " 4.33813127 4.35403995 4.36731148 4.37794586 4.38594311 4.39130324\n",
      " 4.39402626 4.39450555 4.39404578 4.39284058 4.39093435 4.38834725\n",
      " 4.38508917 4.38116522 4.37657817 4.37132956 4.36542029 4.35885087\n",
      " 4.3516216  4.34373269 4.33518425 4.32597635 4.31610906 4.3055824\n",
      " 4.29439639 4.28255106 4.27004643 4.25688248 4.24305925 4.22857672\n",
      " 4.2134349  4.19763381 4.18117343 4.16405377 4.14627483 4.12783661\n",
      " 4.10873912 4.08898235 4.06856631 4.04749099 4.02575639 4.00336252\n",
      " 3.98030938 3.95659696 3.93222526 3.90719429 3.88150404 3.85515452\n",
      " 3.82814573 3.80047766 3.77215032 3.7431637  3.71351781 3.68321264\n",
      " 3.6522482  3.62062448 3.58834149 3.55539922 3.52179768 3.48753686\n",
      " 3.45261677 3.41703741 3.38079877 3.34390086 3.30634367 3.26812721\n",
      " 3.22925147 3.18971646 3.14952217 3.10866861 3.06715577 3.02498366\n",
      " 2.98215227 2.93866161] \n",
      "\n",
      "Printing a row of Uy: \n",
      " [0.06417897 0.25470302 0.55885671 0.9493     1.38895813 1.83536662\n",
      " 2.24512906 2.57829978 2.80235851 2.89542637 2.99010086 3.07846599\n",
      " 3.16237576 3.24272178 3.31993687 3.39424293 3.46575844 3.53454851\n",
      " 3.60064961 3.66408252 3.72485926 3.7829869  3.83846969 3.89131023\n",
      " 3.94151015 3.98907053 4.03399206 4.07627523 4.11592037 4.15292772\n",
      " 4.18729746 4.21902971 4.24812457 4.27458211 4.29840238 4.31958542\n",
      " 4.33813127 4.35403995 4.36731148 4.37794586 4.38594311 4.39130324\n",
      " 4.39402626 4.39450555 4.39404578 4.39284058 4.39093435 4.38834725\n",
      " 4.38508917 4.38116522 4.37657817 4.37132956 4.36542029 4.35885087\n",
      " 4.3516216  4.34373269 4.33518425 4.32597635 4.31610906 4.3055824\n",
      " 4.29439639 4.28255106 4.27004643 4.25688248 4.24305925 4.22857672\n",
      " 4.2134349  4.19763381 4.18117343 4.16405377 4.14627483 4.12783661\n",
      " 4.10873912 4.08898235 4.06856631 4.04749099 4.02575639 4.00336252\n",
      " 3.98030938 3.95659696 3.93222526 3.90719429 3.88150404 3.85515452\n",
      " 3.82814573 3.80047766 3.77215032 3.7431637  3.71351781 3.68321264\n",
      " 3.6522482  3.62062448 3.58834149 3.55539922 3.52179768 3.48753686\n",
      " 3.45261677 3.41703741 3.38079877 3.34390086 3.30634367 3.26812721\n",
      " 3.22925147 3.18971646 3.14952217 3.10866861 3.06715577 3.02498366\n",
      " 2.98215227 2.93866161] \n",
      "\n"
     ]
    }
   ],
   "source": [
    "print(\"Our input array Ux is of shape:\",Ux.shape)\n",
    "print(\"Our input array Uy is of shape:\",Uy.shape)\n",
    "print(\"Printing a row of Ux:\", '\\n', Ux[10,:], '\\n')\n",
    "print(\"Printing a row of Uy:\", '\\n', Uy[10,:], '\\n')"
   ]
  },
  {
   "cell_type": "markdown",
   "metadata": {},
   "source": [
    "For the rest of the analysis, we need to figure out the number of simulation step. As we know that we previsouly generated 25 simulations on Matlab and all the new simulations are appended row-wise, we can deduce it with the following computation."
   ]
  },
  {
   "cell_type": "code",
   "execution_count": 5,
   "metadata": {
    "scrolled": true
   },
   "outputs": [
    {
     "name": "stdout",
     "output_type": "stream",
     "text": [
      "We have run 3029950 simulations with a step of 121198.0\n"
     ]
    }
   ],
   "source": [
    "size = Ux.shape[0]/25\n",
    "print(\"We have run\", Ux.shape[0],\"simulations with a step of\",size)"
   ]
  },
  {
   "cell_type": "markdown",
   "metadata": {},
   "source": [
    "## 2. Data preprocessing  <a name=\"preprocessing\"></a>"
   ]
  },
  {
   "cell_type": "markdown",
   "metadata": {},
   "source": [
    "Let's check if we have any NaN or None values in our dataframe."
   ]
  },
  {
   "cell_type": "code",
   "execution_count": 6,
   "metadata": {
    "scrolled": true
   },
   "outputs": [
    {
     "name": "stdout",
     "output_type": "stream",
     "text": [
      "0\n",
      "0\n"
     ]
    }
   ],
   "source": [
    "print(np.count_nonzero(np.isnan(Ux)))\n",
    "print(np.count_nonzero(np.isnan(Uy)))"
   ]
  },
  {
   "cell_type": "markdown",
   "metadata": {},
   "source": [
    "It seems there are no None values so we can start direclty preprocess our datasets."
   ]
  },
  {
   "cell_type": "markdown",
   "metadata": {},
   "source": [
    "ADDITIONAL IDEAS FOR PREPROCESSING\n",
    "- remove columns with 0 std dev?\n",
    "- standardization?"
   ]
  },
  {
   "cell_type": "markdown",
   "metadata": {},
   "source": [
    "Let's sample our data points into the following ratios : "
   ]
  },
  {
   "cell_type": "code",
   "execution_count": 7,
   "metadata": {},
   "outputs": [
    {
     "name": "stdout",
     "output_type": "stream",
     "text": [
      "(302500, 110) (302500, 110)\n"
     ]
    }
   ],
   "source": [
    "ratio_pts = 0.1\n",
    "ratio_time = 1\n",
    "\n",
    "new_Ux, new_Uy, new_inds = sample(Ux, Uy, ratio_pts, ratio_time)\n",
    "print(new_Ux.shape, new_Uy.shape)"
   ]
  },
  {
   "cell_type": "code",
   "execution_count": 8,
   "metadata": {},
   "outputs": [
    {
     "name": "stdout",
     "output_type": "stream",
     "text": [
      "With the sampling we got from  5509  positions to  550  positions\n",
      "With the sampling we got from  110  time steps to  110  time steps\n"
     ]
    }
   ],
   "source": [
    "new_Nu, new_Nt = get_Nu_Nt_sampled(Ux, new_Ux)\n",
    "\n",
    "print('With the sampling we got from ', 5509, ' positions to ', new_Nu, ' positions')\n",
    "print('With the sampling we got from ', 110, ' time steps to ', new_Nt, ' time steps')"
   ]
  },
  {
   "cell_type": "markdown",
   "metadata": {},
   "source": [
    "We can look at the positions of the sampled positions to make sure that we cover mostly all the important parts of the geometry of the artery :"
   ]
  },
  {
   "cell_type": "code",
   "execution_count": 9,
   "metadata": {},
   "outputs": [
    {
     "data": {
      "image/png": "[encoded data removed]",
      "text/plain": [
       "<Figure size 432x288 with 1 Axes>"
      ]
     },
     "metadata": {
      "needs_background": "light"
     },
     "output_type": "display_data"
    }
   ],
   "source": [
    "plot_sampled_coord(new_inds) "
   ]
  },
  {
   "cell_type": "markdown",
   "metadata": {},
   "source": [
    "Let's flatten our matrices into a single matrix with dimensions $((2 N_u N_t), N_s)$"
   ]
  },
  {
   "cell_type": "code",
   "execution_count": 10,
   "metadata": {},
   "outputs": [
    {
     "name": "stdout",
     "output_type": "stream",
     "text": [
      "[[0.05297715 0.2061886  0.44266392 ... 2.02004071 1.99099906 1.96151397]\n",
      " [0.01322163 0.04695252 0.09198472 ... 0.26373287 0.25978999 0.2557881 ]\n",
      " [0.04901893 0.19057232 0.40862265 ... 1.83301461 1.80660185 1.77978629]\n",
      " ...\n",
      " [0.06329908 0.25164429 0.55250989 ... 2.94060993 2.8988906  2.85652978]\n",
      " [0.01160936 0.03880894 0.07115106 ... 0.13202943 0.12995503 0.12785035]\n",
      " [0.02760381 0.10274274 0.21184031 ... 0.88227332 0.86956985 0.85667256]]\n"
     ]
    }
   ],
   "source": [
    "print(new_Ux)"
   ]
  },
  {
   "cell_type": "code",
   "execution_count": 11,
   "metadata": {
    "scrolled": false
   },
   "outputs": [
    {
     "data": {
      "text/plain": [
       "(550, 121000)"
      ]
     },
     "execution_count": 11,
     "metadata": {},
     "output_type": "execute_result"
    }
   ],
   "source": [
    "flattened_array = flatten(new_Ux, new_Uy, ratio_pts)\n",
    "flattened_array.shape"
   ]
  },
  {
   "cell_type": "markdown",
   "metadata": {},
   "source": [
    "Let's make a sanity check that the dimension of 1 datapoint is indeed ${2 * new_{N_t} * new_{N_u})}$"
   ]
  },
  {
   "cell_type": "code",
   "execution_count": 12,
   "metadata": {},
   "outputs": [
    {
     "name": "stdout",
     "output_type": "stream",
     "text": [
      "121000\n"
     ]
    }
   ],
   "source": [
    "assert flattened_array.shape[1] == 2*new_Nt*new_Nu\n",
    "\n",
    "print(2*new_Nt*new_Nu)"
   ]
  },
  {
   "cell_type": "markdown",
   "metadata": {},
   "source": [
    "## 3. Auto-encoder  <a name=\"autoencoder\"></a>"
   ]
  },
  {
   "cell_type": "markdown",
   "metadata": {},
   "source": [
    "We split the data set into a training a testing set to be able to evaluate our autoencoder."
   ]
  },
  {
   "cell_type": "code",
   "execution_count": 13,
   "metadata": {},
   "outputs": [
    {
     "name": "stdout",
     "output_type": "stream",
     "text": [
      "(495, 121000)\n",
      "(55, 121000)\n"
     ]
    }
   ],
   "source": [
    "# Set seed \n",
    "seed = 123\n",
    "flattened_array_train, flattened_array_test = train_test_split(flattened_array, test_size=0.1, random_state=seed)\n",
    "y_train, y_test = flattened_array_train, flattened_array_test\n",
    "\n",
    "print(flattened_array_train.shape)\n",
    "print(flattened_array_test.shape)"
   ]
  },
  {
   "cell_type": "code",
   "execution_count": 14,
   "metadata": {},
   "outputs": [
    {
     "name": "stdout",
     "output_type": "stream",
     "text": [
      "epoch : 1/30, loss = 10.227451\n",
      "epoch : 2/30, loss = 10.185932\n",
      "epoch : 3/30, loss = 10.125174\n",
      "epoch : 4/30, loss = 10.000943\n",
      "epoch : 5/30, loss = 9.816714\n",
      "epoch : 6/30, loss = 9.550444\n",
      "epoch : 7/30, loss = 9.203073\n",
      "epoch : 8/30, loss = 8.585593\n",
      "epoch : 9/30, loss = 7.860481\n",
      "epoch : 10/30, loss = 7.302458\n",
      "epoch : 11/30, loss = 6.786944\n",
      "epoch : 12/30, loss = 6.379237\n",
      "epoch : 13/30, loss = 6.261069\n",
      "epoch : 14/30, loss = 6.165189\n",
      "epoch : 15/30, loss = 6.067967\n",
      "epoch : 16/30, loss = 5.962169\n",
      "epoch : 17/30, loss = 5.859931\n",
      "epoch : 18/30, loss = 5.757855\n",
      "epoch : 19/30, loss = 5.673641\n",
      "epoch : 20/30, loss = 5.608814\n",
      "epoch : 21/30, loss = 5.495934\n",
      "epoch : 22/30, loss = 5.161887\n",
      "epoch : 23/30, loss = 4.396667\n",
      "epoch : 24/30, loss = 3.199801\n",
      "epoch : 25/30, loss = 1.939162\n",
      "epoch : 26/30, loss = 1.104422\n",
      "epoch : 27/30, loss = 0.905134\n",
      "epoch : 28/30, loss = 0.902117\n",
      "epoch : 29/30, loss = 0.901401\n",
      "epoch : 30/30, loss = 0.900915\n"
     ]
    },
    {
     "data": {
      "image/png": "[encoded data removed]",
      "text/plain": [
       "<Figure size 432x288 with 1 Axes>"
      ]
     },
     "metadata": {},
     "output_type": "display_data"
    }
   ],
   "source": [
    "train(flattened_array_train)"
   ]
  },
  {
   "cell_type": "code",
   "execution_count": 15,
   "metadata": {},
   "outputs": [
    {
     "data": {
      "text/plain": [
       "0.25071517234593654"
      ]
     },
     "execution_count": 15,
     "metadata": {},
     "output_type": "execute_result"
    }
   ],
   "source": [
    "test(flattened_array_test)"
   ]
  },
  {
   "cell_type": "code",
   "execution_count": 16,
   "metadata": {},
   "outputs": [
    {
     "data": {
      "text/plain": [
       "0.23140969663917668"
      ]
     },
     "execution_count": 16,
     "metadata": {},
     "output_type": "execute_result"
    }
   ],
   "source": [
    "test(flattened_array_train)"
   ]
  },
  {
   "cell_type": "markdown",
   "metadata": {},
   "source": [
    "## 4. Passer en 2D "
   ]
  },
  {
   "cell_type": "markdown",
   "metadata": {},
   "source": [
    "## 5. Hyper-parameters and physics parameters relationship"
   ]
  },
  {
   "cell_type": "markdown",
   "metadata": {},
   "source": [
    "## 6. Discussion & conclusion"
   ]
  },
  {
   "cell_type": "code",
   "execution_count": null,
   "metadata": {},
   "outputs": [],
   "source": []
  }
 ],
 "metadata": {
  "kernelspec": {
   "display_name": "Python 3",
   "language": "python",
   "name": "python3"
  },
  "language_info": {
   "codemirror_mode": {
    "name": "ipython",
    "version": 3
   },
   "file_extension": ".py",
   "mimetype": "text/x-python",
   "name": "python",
   "nbconvert_exporter": "python",
   "pygments_lexer": "ipython3",
   "version": "3.8.8"
  }
 },
 "nbformat": 4,
 "nbformat_minor": 4
}
