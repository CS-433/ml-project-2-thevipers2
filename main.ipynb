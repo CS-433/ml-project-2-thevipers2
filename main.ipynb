{
 "cells": [
  {
   "cell_type": "markdown",
   "metadata": {},
   "source": [
    "# Machine Learning - Project 2:\n",
    "# _Autoencoder for mathematical modeling of blood flow in a stenosis context_"
   ]
  },
  {
   "cell_type": "markdown",
   "metadata": {},
   "source": [
    "## Context"
   ]
  },
  {
   "cell_type": "markdown",
   "metadata": {},
   "source": [
    "In this project, we are going to analyze data derived from..."
   ]
  },
  {
   "cell_type": "markdown",
   "metadata": {},
   "source": [
    "Our goals:\n",
    "1. modeliser mathématiquement l’écoulement sanguin à l’aide de PDE dépendante de 2-3 paramètres physique\n",
    "2. simuler l’écoulement par un code d’éléments fini ou similaire\n",
    "3. générer beaucoup de solutions avec une grande nombre de paramètres différents. (Les 2-3, pris de façon aléatoire)\n",
    "4. a. utiliser les solutions numérique pour établir un auto encoder qui au milieu n’ai que 2-5 hyper-paramètres libres  \n",
    "b. quel erreur on obtient ? Est-ce possible de réduire le nombre d’hyper-paramètres ?\n",
    "5. étudier s’il y a une rélation entre les 2-5 hyper-paramètre et les paramètres physique  \n",
    "a. à l’aide de statistiques\n",
    "5. b. à l’aide d’un DNN (différent de 4a)\n",
    "6. (optionnel) faire un DNN entre l’input de 4a et output les paramêtres physique. Et/ou l’inverse.\n",
    "7. Discussion et conclusions "
   ]
  },
  {
   "cell_type": "markdown",
   "metadata": {},
   "source": [
    "Abbreviations used:\n",
    "- $N_u$ = total number of spatial points per simulation\n",
    "- $N_t$ = total number of time steps per simulation\n",
    "- $N_s$ = total number of simulations"
   ]
  },
  {
   "cell_type": "markdown",
   "metadata": {},
   "source": [
    "## Table of contents"
   ]
  },
  {
   "cell_type": "markdown",
   "metadata": {},
   "source": [
    "[1. Data exploration](#data_exploration) \n",
    "- [Imports](#1imports)\n",
    "- [Pathways](#1pathways)\n",
    "- [Loading](#1load)\n",
    "- [Exploration](#1exploration)\n",
    "\n",
    "[2. Data preprocessing](#preprocessing)\n",
    "\n",
    "[3. Autoencode](#classifier)"
   ]
  },
  {
   "cell_type": "markdown",
   "metadata": {},
   "source": [
    "## 1. Data exploration  <a name=\"data_exploration\"></a>"
   ]
  },
  {
   "cell_type": "markdown",
   "metadata": {},
   "source": [
    "### Imports  <a name=\"1imports\"></a>"
   ]
  },
  {
   "cell_type": "code",
   "execution_count": 36,
   "metadata": {},
   "outputs": [
    {
     "name": "stdout",
     "output_type": "stream",
     "text": [
      "The autoreload extension is already loaded. To reload it, use:\n",
      "  %reload_ext autoreload\n"
     ]
    }
   ],
   "source": [
    "# Useful starting lines\n",
    "%matplotlib inline\n",
    "import numpy as np\n",
    "import matplotlib.pyplot as plt\n",
    "import pandas as pd\n",
    "from helpers import *\n",
    "from preprocessing import *\n",
    "from sklearn.model_selection import train_test_split\n",
    "from autoencoder import *\n",
    "from crossvalidation import *\n",
    "%load_ext autoreload\n",
    "%autoreload 2"
   ]
  },
  {
   "cell_type": "markdown",
   "metadata": {},
   "source": [
    "### Pathways <a name=\"1pathways\"></a>"
   ]
  },
  {
   "cell_type": "code",
   "execution_count": 15,
   "metadata": {},
   "outputs": [],
   "source": [
    "DATA_PATH = 'data/'\n",
    "DATA_Ux_PATH = DATA_PATH + 'u1_very_small.csv.bz2'\n",
    "DATA_Uy_PATH = DATA_PATH + 'u2_very_small.csv.bz2'"
   ]
  },
  {
   "cell_type": "markdown",
   "metadata": {},
   "source": [
    "### Loading <a name=\"1load\"></a>"
   ]
  },
  {
   "cell_type": "markdown",
   "metadata": {},
   "source": [
    "Let's load the data which consists of 2 matrices Ux, Uy denoting the x and y coordinates of the speed."
   ]
  },
  {
   "cell_type": "code",
   "execution_count": 16,
   "metadata": {},
   "outputs": [],
   "source": [
    "# Loading\n",
    "Ux_pd = pd.read_csv(DATA_Ux_PATH, header=None)\n",
    "Uy_pd = pd.read_csv(DATA_Uy_PATH, header=None)\n",
    "# Converting from dataframe to numpy\n",
    "Ux = Ux_pd.to_numpy()\n",
    "Uy = Uy_pd.to_numpy()"
   ]
  },
  {
   "cell_type": "markdown",
   "metadata": {},
   "source": [
    "### Exploration <a name=\"1exploration\"></a>"
   ]
  },
  {
   "cell_type": "markdown",
   "metadata": {},
   "source": [
    "Let's have a closer look at our imported data sets. The columns represent the time steps and the rows represent a point of our blood vessel mesh and each 5509 row a new simulation."
   ]
  },
  {
   "cell_type": "code",
   "execution_count": 17,
   "metadata": {
    "scrolled": false
   },
   "outputs": [
    {
     "name": "stdout",
     "output_type": "stream",
     "text": [
      "Our input array Ux is of shape: (137725, 110)\n",
      "Our input array Uy is of shape: (143234, 110)\n",
      "Printing a row of Ux: \n",
      " [0.07843621 0.31118352 0.68245424 1.15863002 1.69435217 2.2377946\n",
      " 2.73607737 3.14059293 3.41183529 3.52330289 3.63726074 3.7439734\n",
      " 3.84549407 3.94281205 4.03640323 4.12650964 4.2132592  4.29672103\n",
      " 4.37693287 4.45391539 4.52767992 4.59823263 4.6655769  4.72971455\n",
      " 4.79064658 4.84837353 4.90289569 4.95421322 5.00232621 5.04723472\n",
      " 5.08893877 5.12743839 5.16273359 5.19482437 5.22371075 5.24939272\n",
      " 5.2718703  5.29114348 5.30721227 5.32007667 5.32973668 5.33619229\n",
      " 5.33944353 5.33997115 5.33936904 5.33787084 5.33552701 5.33235975\n",
      " 5.32837974 5.3235924  5.31800058 5.31160582 5.30440894 5.29641041\n",
      " 5.28761047 5.27800926 5.26760686 5.25640331 5.24439864 5.23159284\n",
      " 5.21798594 5.20357794 5.18836883 5.17235862 5.15554731 5.13793491\n",
      " 5.1195214  5.1003068  5.0802911  5.05947431 5.03785642 5.01543743\n",
      " 4.99221734 4.96819616 4.94337388 4.9177505  4.89132603 4.86410046\n",
      " 4.8360738  4.80724604 4.77761718 4.74718722 4.71595617 4.68392403\n",
      " 4.65109078 4.61745644 4.583021   4.54778447 4.51174684 4.47490812\n",
      " 4.43726829 4.39882737 4.35958536 4.31954225 4.27869804 4.23705274\n",
      " 4.19460633 4.15135884 4.10731024 4.06246055 4.01680977 3.97035788\n",
      " 3.9231049  3.87505083 3.82619566 3.77653939 3.72608202 3.67482356\n",
      " 3.622764   3.56990335] \n",
      "\n",
      "Printing a row of Uy: \n",
      " [0.07843621 0.31118352 0.68245424 1.15863002 1.69435217 2.2377946\n",
      " 2.73607737 3.14059293 3.41183529 3.52330289 3.63726074 3.7439734\n",
      " 3.84549407 3.94281205 4.03640323 4.12650964 4.2132592  4.29672103\n",
      " 4.37693287 4.45391539 4.52767992 4.59823263 4.6655769  4.72971455\n",
      " 4.79064658 4.84837353 4.90289569 4.95421322 5.00232621 5.04723472\n",
      " 5.08893877 5.12743839 5.16273359 5.19482437 5.22371075 5.24939272\n",
      " 5.2718703  5.29114348 5.30721227 5.32007667 5.32973668 5.33619229\n",
      " 5.33944353 5.33997115 5.33936904 5.33787084 5.33552701 5.33235975\n",
      " 5.32837974 5.3235924  5.31800058 5.31160582 5.30440894 5.29641041\n",
      " 5.28761047 5.27800926 5.26760686 5.25640331 5.24439864 5.23159284\n",
      " 5.21798594 5.20357794 5.18836883 5.17235862 5.15554731 5.13793491\n",
      " 5.1195214  5.1003068  5.0802911  5.05947431 5.03785642 5.01543743\n",
      " 4.99221734 4.96819616 4.94337388 4.9177505  4.89132603 4.86410046\n",
      " 4.8360738  4.80724604 4.77761718 4.74718722 4.71595617 4.68392403\n",
      " 4.65109078 4.61745644 4.583021   4.54778447 4.51174684 4.47490812\n",
      " 4.43726829 4.39882737 4.35958536 4.31954225 4.27869804 4.23705274\n",
      " 4.19460633 4.15135884 4.10731024 4.06246055 4.01680977 3.97035788\n",
      " 3.9231049  3.87505083 3.82619566 3.77653939 3.72608202 3.67482356\n",
      " 3.622764   3.56990335] \n",
      "\n"
     ]
    }
   ],
   "source": [
    "print(\"Our input array Ux is of shape:\",Ux.shape)\n",
    "print(\"Our input array Uy is of shape:\",Uy.shape)\n",
    "print(\"Printing a row of Ux:\", '\\n', Ux[10,:], '\\n')\n",
    "print(\"Printing a row of Uy:\", '\\n', Uy[10,:], '\\n')"
   ]
  },
  {
   "cell_type": "markdown",
   "metadata": {},
   "source": [
    "For the rest of the analysis, we need to figure out the number of simulation step. As we know that we previsouly generated 25 simulations on Matlab and all the new simulations are appended row-wise, we can deduce it with the following computation."
   ]
  },
  {
   "cell_type": "code",
   "execution_count": 18,
   "metadata": {
    "scrolled": true
   },
   "outputs": [
    {
     "name": "stdout",
     "output_type": "stream",
     "text": [
      "We have run 137725 simulations with a step of 5509.0\n"
     ]
    }
   ],
   "source": [
    "size = Ux.shape[0]/25\n",
    "print(\"We have run\", Ux.shape[0],\"simulations with a step of\",size)"
   ]
  },
  {
   "cell_type": "markdown",
   "metadata": {},
   "source": [
    "## 2. Data preprocessing  <a name=\"preprocessing\"></a>"
   ]
  },
  {
   "cell_type": "markdown",
   "metadata": {},
   "source": [
    "Let's check if we have any NaN or None values in our dataframe."
   ]
  },
  {
   "cell_type": "code",
   "execution_count": 19,
   "metadata": {
    "scrolled": true
   },
   "outputs": [
    {
     "name": "stdout",
     "output_type": "stream",
     "text": [
      "0\n",
      "0\n"
     ]
    }
   ],
   "source": [
    "print(np.count_nonzero(np.isnan(Ux)))\n",
    "print(np.count_nonzero(np.isnan(Uy)))"
   ]
  },
  {
   "cell_type": "markdown",
   "metadata": {},
   "source": [
    "It seems there are no None values so we can start direclty preprocess our datasets."
   ]
  },
  {
   "cell_type": "markdown",
   "metadata": {},
   "source": [
    "ADDITIONAL IDEAS FOR PREPROCESSING\n",
    "- remove columns with 0 std dev?\n",
    "- standardization?"
   ]
  },
  {
   "cell_type": "markdown",
   "metadata": {},
   "source": [
    "Let's sample our data points into the following ratios : "
   ]
  },
  {
   "cell_type": "code",
   "execution_count": 20,
   "metadata": {},
   "outputs": [
    {
     "name": "stdout",
     "output_type": "stream",
     "text": [
      "(13750, 110) (13750, 110)\n"
     ]
    }
   ],
   "source": [
    "ratio_pts = 0.1\n",
    "ratio_time = 1\n",
    "\n",
    "new_Ux, new_Uy, new_inds = sample(Ux, Uy, ratio_pts, ratio_time)\n",
    "print(new_Ux.shape, new_Uy.shape)"
   ]
  },
  {
   "cell_type": "code",
   "execution_count": 21,
   "metadata": {},
   "outputs": [
    {
     "name": "stdout",
     "output_type": "stream",
     "text": [
      "With the sampling we got from  5509  positions to  550  positions\n",
      "With the sampling we got from  110  time steps to  110  time steps\n"
     ]
    }
   ],
   "source": [
    "new_Nu, new_Nt = get_Nu_Nt_sampled(Ux, new_Ux)\n",
    "\n",
    "print('With the sampling we got from ', 5509, ' positions to ', new_Nu, ' positions')\n",
    "print('With the sampling we got from ', 110, ' time steps to ', new_Nt, ' time steps')"
   ]
  },
  {
   "cell_type": "markdown",
   "metadata": {},
   "source": [
    "We can look at the positions of the sampled positions to make sure that we cover mostly all the important parts of the geometry of the artery :"
   ]
  },
  {
   "cell_type": "code",
   "execution_count": 22,
   "metadata": {},
   "outputs": [
    {
     "data": {
      "image/png": "[encoded data removed]",
      "text/plain": [
       "<Figure size 432x288 with 1 Axes>"
      ]
     },
     "metadata": {
      "needs_background": "light"
     },
     "output_type": "display_data"
    }
   ],
   "source": [
    "plot_sampled_coord(new_inds) "
   ]
  },
  {
   "cell_type": "markdown",
   "metadata": {},
   "source": [
    "Let's flatten our matrices into a single matrix with dimensions $((2 N_u N_t), N_s)$"
   ]
  },
  {
   "cell_type": "code",
   "execution_count": 23,
   "metadata": {},
   "outputs": [
    {
     "name": "stdout",
     "output_type": "stream",
     "text": [
      "[[0.06598187 0.25670229 0.55084151 ... 2.51511171 2.47896831 2.44227292]\n",
      " [0.01822349 0.06614118 0.13306091 ... 0.49577011 0.48856679 0.48125408]\n",
      " [0.06441595 0.25109322 0.5398679  ... 2.481933   2.44626963 2.41006156]\n",
      " ...\n",
      " [0.06643176 0.26403555 0.57958814 ... 3.08212344 3.0383942  2.99399259]\n",
      " [0.02092091 0.07525409 0.1493795  ... 0.45401539 0.44725713 0.44039752]\n",
      " [0.02068076 0.07446069 0.14793325 ... 0.45138163 0.44466495 0.43784753]]\n"
     ]
    }
   ],
   "source": [
    "print(new_Ux)"
   ]
  },
  {
   "cell_type": "code",
   "execution_count": 24,
   "metadata": {
    "scrolled": false
   },
   "outputs": [
    {
     "data": {
      "text/plain": [
       "(25, 121000)"
      ]
     },
     "execution_count": 24,
     "metadata": {},
     "output_type": "execute_result"
    }
   ],
   "source": [
    "flattened_array = flatten(new_Ux, new_Uy, ratio_pts)\n",
    "flattened_array.shape"
   ]
  },
  {
   "cell_type": "markdown",
   "metadata": {},
   "source": [
    "Let's make a sanity check that the dimension of 1 datapoint is indeed ${2 * new_{N_t} * new_{N_u})}$"
   ]
  },
  {
   "cell_type": "code",
   "execution_count": 25,
   "metadata": {},
   "outputs": [
    {
     "name": "stdout",
     "output_type": "stream",
     "text": [
      "121000\n"
     ]
    }
   ],
   "source": [
    "assert flattened_array.shape[1] == 2*new_Nt*new_Nu\n",
    "\n",
    "print(2*new_Nt*new_Nu)"
   ]
  },
  {
   "cell_type": "markdown",
   "metadata": {},
   "source": [
    "## 3. Auto-encoder  <a name=\"autoencoder\"></a>"
   ]
  },
  {
   "cell_type": "markdown",
   "metadata": {},
   "source": [
    "We split the data set into a training a testing set to be able to evaluate our autoencoder."
   ]
  },
  {
   "cell_type": "code",
   "execution_count": 26,
   "metadata": {},
   "outputs": [
    {
     "name": "stdout",
     "output_type": "stream",
     "text": [
      "(22, 121000)\n",
      "(3, 121000)\n"
     ]
    }
   ],
   "source": [
    "# Set seed \n",
    "seed = 123\n",
    "flattened_array_train, flattened_array_test = train_test_split(flattened_array, test_size=0.1, random_state=seed)\n",
    "y_train, y_test = flattened_array_train, flattened_array_test\n",
    "\n",
    "print(flattened_array_train.shape)\n",
    "print(flattened_array_test.shape)"
   ]
  },
  {
   "cell_type": "code",
   "execution_count": 27,
   "metadata": {},
   "outputs": [],
   "source": [
    "# define network parameters\n",
    "learningRate=1e-2\n",
    "epochs=50\n",
    "input_size=flattened_array_train.shape[1]\n",
    "k_folds = 5\n",
    "# Set fixed random number seed\n",
    "torch.manual_seed(42)\n",
    "\n",
    "net = Autoencoder(input_size)\n",
    "optimizer = torch.optim.Adam(net.parameters(), lr=learningRate, weight_decay=1e-5)\n",
    "# creates a criterion that measures the mean squared error (squared L2 norm) \n",
    "criterion = nn.MSELoss() "
   ]
  },
  {
   "cell_type": "code",
   "execution_count": 90,
   "metadata": {},
   "outputs": [
    {
     "name": "stdout",
     "output_type": "stream",
     "text": [
      "FOLD 0\n",
      "--------------------------------\n",
      "epoch : 1/50, loss = 11.777614\n",
      "epoch : 2/50, loss = 11.829932\n",
      "epoch : 3/50, loss = 11.806046\n",
      "epoch : 4/50, loss = 11.728207\n",
      "epoch : 5/50, loss = 11.599147\n",
      "epoch : 6/50, loss = 11.438289\n",
      "epoch : 7/50, loss = 11.282928\n",
      "epoch : 8/50, loss = 10.968486\n",
      "epoch : 9/50, loss = 10.119913\n",
      "epoch : 10/50, loss = 11.167444\n",
      "epoch : 11/50, loss = 9.005278\n",
      "epoch : 12/50, loss = 8.973442\n",
      "epoch : 13/50, loss = 8.946441\n",
      "epoch : 14/50, loss = 8.940672\n",
      "epoch : 15/50, loss = 8.927617\n",
      "epoch : 16/50, loss = 8.898455\n",
      "epoch : 17/50, loss = 9.690073\n",
      "epoch : 18/50, loss = 8.157663\n",
      "epoch : 19/50, loss = 8.641799\n",
      "epoch : 20/50, loss = 5.684822\n",
      "epoch : 21/50, loss = 7.059631\n",
      "epoch : 22/50, loss = 8.019503\n",
      "epoch : 23/50, loss = 8.834670\n",
      "epoch : 24/50, loss = 9.237714\n",
      "epoch : 25/50, loss = 11.682246\n",
      "epoch : 26/50, loss = 11.577346\n",
      "epoch : 27/50, loss = 11.108529\n",
      "epoch : 28/50, loss = 4.889892\n",
      "epoch : 29/50, loss = 3.711779\n",
      "epoch : 30/50, loss = 3.267744\n",
      "epoch : 31/50, loss = 3.330385\n",
      "epoch : 32/50, loss = 3.749276\n",
      "epoch : 33/50, loss = 4.370888\n",
      "epoch : 34/50, loss = 5.121335\n",
      "epoch : 35/50, loss = 5.864495\n",
      "epoch : 36/50, loss = 6.522102\n",
      "epoch : 37/50, loss = 7.079334\n",
      "epoch : 38/50, loss = 7.532777\n",
      "epoch : 39/50, loss = 8.013644\n",
      "epoch : 40/50, loss = 8.161269\n",
      "epoch : 41/50, loss = 8.198152\n",
      "epoch : 42/50, loss = 10.249660\n",
      "epoch : 43/50, loss = 9.213622\n",
      "epoch : 44/50, loss = 7.272618\n",
      "epoch : 45/50, loss = 6.431667\n",
      "epoch : 46/50, loss = 6.152101\n",
      "epoch : 47/50, loss = 6.233134\n",
      "epoch : 48/50, loss = 6.483666\n",
      "epoch : 49/50, loss = 6.734096\n",
      "epoch : 50/50, loss = 5.669132\n",
      "{'train_loss': [0.4834395312329444], 'test_loss': [0.48715983637492405]}\n",
      "FOLD 1\n",
      "--------------------------------\n",
      "epoch : 1/50, loss = 9.570542\n",
      "epoch : 2/50, loss = 9.654605\n",
      "epoch : 3/50, loss = 9.685137\n",
      "epoch : 4/50, loss = 9.731889\n",
      "epoch : 5/50, loss = 9.775615\n",
      "epoch : 6/50, loss = 9.793241\n",
      "epoch : 7/50, loss = 9.810516\n",
      "epoch : 8/50, loss = 9.776856\n",
      "epoch : 9/50, loss = 9.831100\n",
      "epoch : 10/50, loss = 9.840250\n",
      "epoch : 11/50, loss = 9.843996\n",
      "epoch : 12/50, loss = 9.847009\n",
      "epoch : 13/50, loss = 9.847080\n",
      "epoch : 14/50, loss = 9.843961\n",
      "epoch : 15/50, loss = 9.791553\n",
      "epoch : 16/50, loss = 9.836263\n",
      "epoch : 17/50, loss = 9.828942\n",
      "epoch : 18/50, loss = 9.827750\n",
      "epoch : 19/50, loss = 7.864360\n",
      "epoch : 20/50, loss = 6.793113\n",
      "epoch : 21/50, loss = 6.263054\n",
      "epoch : 22/50, loss = 6.111554\n",
      "epoch : 23/50, loss = 6.162711\n",
      "epoch : 24/50, loss = 6.345374\n",
      "epoch : 25/50, loss = 6.590659\n",
      "epoch : 26/50, loss = 6.868470\n",
      "epoch : 27/50, loss = 7.155226\n",
      "epoch : 28/50, loss = 7.446961\n",
      "epoch : 29/50, loss = 7.746689\n",
      "epoch : 30/50, loss = 8.073697\n",
      "epoch : 31/50, loss = 8.360593\n",
      "epoch : 32/50, loss = 8.688440\n",
      "epoch : 33/50, loss = 8.993563\n",
      "epoch : 34/50, loss = 9.312328\n",
      "epoch : 35/50, loss = 9.588724\n",
      "epoch : 36/50, loss = 9.807582\n",
      "epoch : 37/50, loss = 10.011048\n",
      "epoch : 38/50, loss = 9.836269\n",
      "epoch : 39/50, loss = 10.322966\n",
      "epoch : 40/50, loss = 10.427521\n",
      "epoch : 41/50, loss = 10.503474\n",
      "epoch : 42/50, loss = 10.562436\n",
      "epoch : 43/50, loss = 11.388764\n",
      "epoch : 44/50, loss = 10.692320\n",
      "epoch : 45/50, loss = 10.561769\n",
      "epoch : 46/50, loss = 10.206125\n",
      "epoch : 47/50, loss = 10.253434\n",
      "epoch : 48/50, loss = 10.238684\n",
      "epoch : 49/50, loss = 10.234117\n",
      "epoch : 50/50, loss = 10.149419\n",
      "{'train_loss': [0.4623304073791597], 'test_loss': [0.46386747655560645]}\n",
      "FOLD 2\n",
      "--------------------------------\n",
      "epoch : 1/50, loss = 6.496083\n",
      "epoch : 2/50, loss = 6.527101\n",
      "epoch : 3/50, loss = 6.556702\n",
      "epoch : 4/50, loss = 6.588525\n",
      "epoch : 5/50, loss = 6.607538\n",
      "epoch : 6/50, loss = 15.381692\n",
      "epoch : 7/50, loss = 15.240290\n",
      "epoch : 8/50, loss = 15.187225\n",
      "epoch : 9/50, loss = 15.158516\n",
      "epoch : 10/50, loss = 15.138498\n",
      "epoch : 11/50, loss = 15.110713\n",
      "epoch : 12/50, loss = 15.077019\n",
      "epoch : 13/50, loss = 15.036571\n",
      "epoch : 14/50, loss = 14.986217\n",
      "epoch : 15/50, loss = 14.916311\n",
      "epoch : 16/50, loss = 35.513248\n",
      "epoch : 17/50, loss = 34.455231\n",
      "epoch : 18/50, loss = 34.335224\n",
      "epoch : 19/50, loss = 34.166718\n",
      "epoch : 20/50, loss = 33.939255\n",
      "epoch : 21/50, loss = 33.486195\n",
      "epoch : 22/50, loss = 32.894794\n",
      "epoch : 23/50, loss = 32.253410\n",
      "epoch : 24/50, loss = 31.816233\n",
      "epoch : 25/50, loss = 31.519335\n",
      "epoch : 26/50, loss = 31.316896\n",
      "epoch : 27/50, loss = 31.048368\n",
      "epoch : 28/50, loss = 30.720093\n",
      "epoch : 29/50, loss = 30.268463\n",
      "epoch : 30/50, loss = 29.423388\n",
      "epoch : 31/50, loss = 24.350454\n",
      "epoch : 32/50, loss = 23.339025\n",
      "epoch : 33/50, loss = 22.870975\n",
      "epoch : 34/50, loss = 22.502329\n",
      "epoch : 35/50, loss = 22.367386\n",
      "epoch : 36/50, loss = 31.258120\n",
      "epoch : 37/50, loss = 29.262852\n",
      "epoch : 38/50, loss = 27.993204\n",
      "epoch : 39/50, loss = 26.674847\n",
      "epoch : 40/50, loss = 26.251356\n",
      "epoch : 41/50, loss = 26.176161\n",
      "epoch : 42/50, loss = 26.132088\n",
      "epoch : 43/50, loss = 26.101076\n",
      "epoch : 44/50, loss = 26.073257\n",
      "epoch : 45/50, loss = 34.151466\n",
      "epoch : 46/50, loss = 32.815914\n",
      "epoch : 47/50, loss = 31.758362\n",
      "epoch : 48/50, loss = 30.950455\n",
      "epoch : 49/50, loss = 30.364780\n",
      "epoch : 50/50, loss = 29.959208\n",
      "{'train_loss': [0.7761100828087595], 'test_loss': [0.779065104912834]}\n",
      "FOLD 3\n",
      "--------------------------------\n",
      "epoch : 1/50, loss = 9.890159\n",
      "epoch : 2/50, loss = 10.131562\n",
      "epoch : 3/50, loss = 10.321254\n",
      "epoch : 4/50, loss = 10.752011\n",
      "epoch : 5/50, loss = 10.819873\n",
      "epoch : 6/50, loss = 11.156899\n",
      "epoch : 7/50, loss = 11.277991\n",
      "epoch : 8/50, loss = 11.481492\n",
      "epoch : 9/50, loss = 11.784064\n",
      "epoch : 10/50, loss = 11.528177\n",
      "epoch : 11/50, loss = 10.982713\n",
      "epoch : 12/50, loss = 10.813961\n",
      "epoch : 13/50, loss = 10.849661\n",
      "epoch : 14/50, loss = 10.889787\n",
      "epoch : 15/50, loss = 10.928725\n",
      "epoch : 16/50, loss = 10.949522\n",
      "epoch : 17/50, loss = 10.955161\n",
      "epoch : 18/50, loss = 10.929708\n",
      "epoch : 19/50, loss = 8.106982\n",
      "epoch : 20/50, loss = 5.616436\n",
      "epoch : 21/50, loss = 10.214500\n",
      "epoch : 22/50, loss = 10.228520\n",
      "epoch : 23/50, loss = 10.223718\n",
      "epoch : 24/50, loss = 10.273547\n",
      "epoch : 25/50, loss = 10.287680\n",
      "epoch : 26/50, loss = 10.234841\n",
      "epoch : 27/50, loss = 10.188510\n",
      "epoch : 28/50, loss = 10.079167\n",
      "epoch : 29/50, loss = 10.121162\n",
      "epoch : 30/50, loss = 10.089348\n",
      "epoch : 31/50, loss = 10.063660\n",
      "epoch : 32/50, loss = 10.046495\n",
      "epoch : 33/50, loss = 10.027299\n",
      "epoch : 34/50, loss = 10.004589\n",
      "epoch : 35/50, loss = 9.979124\n",
      "epoch : 36/50, loss = 9.921334\n",
      "epoch : 37/50, loss = 9.616070\n",
      "epoch : 38/50, loss = 9.552525\n",
      "epoch : 39/50, loss = 9.587498\n",
      "epoch : 40/50, loss = 9.589222\n",
      "epoch : 41/50, loss = 9.487748\n",
      "epoch : 42/50, loss = 9.427633\n",
      "epoch : 43/50, loss = 9.381866\n",
      "epoch : 44/50, loss = 9.287632\n",
      "epoch : 45/50, loss = 9.271319\n",
      "epoch : 46/50, loss = 9.275748\n",
      "epoch : 47/50, loss = 9.301310\n",
      "epoch : 48/50, loss = 9.328653\n",
      "epoch : 49/50, loss = 9.361896\n",
      "epoch : 50/50, loss = 9.344825\n",
      "{'train_loss': [0.4071724162901882], 'test_loss': [0.38632898194785714]}\n",
      "FOLD 4\n",
      "--------------------------------\n",
      "epoch : 1/50, loss = 10.551068\n",
      "epoch : 2/50, loss = 10.550781\n",
      "epoch : 3/50, loss = 10.553011\n",
      "epoch : 4/50, loss = 10.555676\n",
      "epoch : 5/50, loss = 10.556041\n",
      "epoch : 6/50, loss = 10.561227\n",
      "epoch : 7/50, loss = 10.564392\n",
      "epoch : 8/50, loss = 10.569074\n",
      "epoch : 9/50, loss = 10.573834\n",
      "epoch : 10/50, loss = 10.580174\n",
      "epoch : 11/50, loss = 10.587298\n",
      "epoch : 12/50, loss = 10.594617\n",
      "epoch : 13/50, loss = 10.601930\n",
      "epoch : 14/50, loss = 10.609020\n",
      "epoch : 15/50, loss = 10.615468\n",
      "epoch : 16/50, loss = 10.620758\n",
      "epoch : 17/50, loss = 10.624192\n",
      "epoch : 18/50, loss = 10.634583\n",
      "epoch : 19/50, loss = 10.637944\n",
      "epoch : 20/50, loss = 10.640102\n",
      "epoch : 21/50, loss = 10.639814\n",
      "epoch : 22/50, loss = 10.634398\n",
      "epoch : 23/50, loss = 10.640775\n",
      "epoch : 24/50, loss = 10.643313\n",
      "epoch : 25/50, loss = 10.646092\n",
      "epoch : 26/50, loss = 10.649314\n",
      "epoch : 27/50, loss = 10.652727\n",
      "epoch : 28/50, loss = 10.793797\n",
      "epoch : 29/50, loss = 10.660313\n",
      "epoch : 30/50, loss = 10.664833\n",
      "epoch : 31/50, loss = 10.670317\n",
      "epoch : 32/50, loss = 10.675197\n",
      "epoch : 33/50, loss = 10.681366\n",
      "epoch : 34/50, loss = 10.687033\n",
      "epoch : 35/50, loss = 10.692054\n",
      "epoch : 36/50, loss = 10.695366\n",
      "epoch : 37/50, loss = 10.698126\n",
      "epoch : 38/50, loss = 6.885054\n",
      "epoch : 39/50, loss = 9.695992\n",
      "epoch : 40/50, loss = 7.754669\n",
      "epoch : 41/50, loss = 9.091044\n",
      "epoch : 42/50, loss = 9.883445\n",
      "epoch : 43/50, loss = 10.217278\n",
      "epoch : 44/50, loss = 10.407775\n",
      "epoch : 45/50, loss = 10.554317\n",
      "epoch : 46/50, loss = 10.674657\n"
     ]
    },
    {
     "name": "stdout",
     "output_type": "stream",
     "text": [
      "epoch : 47/50, loss = 10.673260\n",
      "epoch : 48/50, loss = 10.822606\n",
      "epoch : 49/50, loss = 10.877980\n",
      "epoch : 50/50, loss = 10.916448\n",
      "{'train_loss': [0.5327784911508282], 'test_loss': [0.536513494459377]}\n",
      "Performance of 5 fold cross validation\n",
      "Average Training Loss: 0.532 \t Average Test Loss: 0.531\n"
     ]
    },
    {
     "data": {
      "image/png": "[encoded data removed]",
      "text/plain": [
       "<Figure size 432x288 with 1 Axes>"
      ]
     },
     "metadata": {},
     "output_type": "display_data"
    }
   ],
   "source": [
    "from crossvalidation import *\n",
    "Kfold_2(flattened_array, k_folds, net, epochs, criterion, optimizer)"
   ]
  },
  {
   "cell_type": "code",
   "execution_count": 38,
   "metadata": {},
   "outputs": [
    {
     "name": "stdout",
     "output_type": "stream",
     "text": [
      "epoch : 1/20, loss = 89.976379\n",
      "epoch : 2/20, loss = 89.117630\n",
      "epoch : 3/20, loss = 88.207451\n",
      "epoch : 4/20, loss = 87.249901\n",
      "epoch : 5/20, loss = 86.244148\n",
      "epoch : 6/20, loss = 85.189156\n",
      "epoch : 7/20, loss = 84.085228\n",
      "epoch : 8/20, loss = 82.935043\n",
      "epoch : 9/20, loss = 81.741646\n",
      "epoch : 10/20, loss = 80.509277\n",
      "epoch : 11/20, loss = 79.240044\n",
      "epoch : 12/20, loss = 77.939369\n",
      "epoch : 13/20, loss = 76.614403\n",
      "epoch : 14/20, loss = 75.272675\n",
      "epoch : 15/20, loss = 73.917183\n",
      "epoch : 16/20, loss = 72.556717\n",
      "epoch : 17/20, loss = 71.198273\n",
      "epoch : 18/20, loss = 69.846786\n",
      "epoch : 19/20, loss = 68.506615\n",
      "epoch : 20/20, loss = 67.184853\n"
     ]
    },
    {
     "data": {
      "image/png": "[encoded data removed]",
      "text/plain": [
       "<Figure size 432x288 with 1 Axes>"
      ]
     },
     "metadata": {},
     "output_type": "display_data"
    }
   ],
   "source": [
    "train(flattened_array_train, net, epochs, criterion, optimizer)"
   ]
  },
  {
   "cell_type": "code",
   "execution_count": 41,
   "metadata": {},
   "outputs": [
    {
     "data": {
      "text/plain": [
       "0.5143844414558748"
      ]
     },
     "execution_count": 41,
     "metadata": {},
     "output_type": "execute_result"
    }
   ],
   "source": [
    "test(flattened_array_test, net, epochs, criterion, optimizer)"
   ]
  },
  {
   "cell_type": "code",
   "execution_count": 42,
   "metadata": {},
   "outputs": [
    {
     "data": {
      "text/plain": [
       "0.6944974394473606"
      ]
     },
     "execution_count": 42,
     "metadata": {},
     "output_type": "execute_result"
    }
   ],
   "source": [
    "test(flattened_array_train, net, epochs, criterion, optimizer)"
   ]
  },
  {
   "cell_type": "code",
   "execution_count": 48,
   "metadata": {},
   "outputs": [],
   "source": [
    "np.save(\"flattened_array_train.npy\", flattened_array_train)\n",
    "np.save(\"flattened_array_test.npy\", flattened_array_test)"
   ]
  },
  {
   "cell_type": "code",
   "execution_count": 64,
   "metadata": {},
   "outputs": [
    {
     "data": {
      "text/plain": [
       "array([[5.79374944e-02, 1.61304883e-02, 5.27979201e-02, ...,\n",
       "        2.98580413e+00, 4.37942717e-01, 4.43880082e-01],\n",
       "       [8.80562527e-02, 1.32214595e-02, 8.39758116e-02, ...,\n",
       "        3.65340704e+00, 6.00585421e-01, 6.54305037e-01],\n",
       "       [1.36961365e-01, 2.46560219e-02, 1.39393686e-01, ...,\n",
       "        2.93035498e+00, 3.52908163e-01, 1.08243822e+00],\n",
       "       ...,\n",
       "       [1.99450061e-01, 2.49426895e-02, 1.53457337e-01, ...,\n",
       "        1.39288807e+01, 2.20450871e-01, 1.99714008e+00],\n",
       "       [8.25671280e-02, 2.32952726e-02, 6.87771891e-02, ...,\n",
       "        4.44640887e+00, 2.10600093e-01, 1.00067820e+00],\n",
       "       [1.72451476e-01, 2.55041098e-02, 1.55721933e-01, ...,\n",
       "        1.01351448e+01, 2.53001035e-01, 6.69328491e-01]])"
      ]
     },
     "execution_count": 64,
     "metadata": {},
     "output_type": "execute_result"
    }
   ],
   "source": [
    "flattened_array_train"
   ]
  },
  {
   "cell_type": "code",
   "execution_count": 68,
   "metadata": {},
   "outputs": [
    {
     "data": {
      "text/plain": [
       "array([[5.79374944e-02, 1.61304883e-02, 5.27979201e-02, ...,\n",
       "        2.98580413e+00, 4.37942717e-01, 4.43880082e-01],\n",
       "       [8.80562527e-02, 1.32214595e-02, 8.39758116e-02, ...,\n",
       "        3.65340704e+00, 6.00585421e-01, 6.54305037e-01],\n",
       "       [1.36961365e-01, 2.46560219e-02, 1.39393686e-01, ...,\n",
       "        2.93035498e+00, 3.52908163e-01, 1.08243822e+00],\n",
       "       ...,\n",
       "       [1.99450061e-01, 2.49426895e-02, 1.53457337e-01, ...,\n",
       "        1.39288807e+01, 2.20450871e-01, 1.99714008e+00],\n",
       "       [8.25671280e-02, 2.32952726e-02, 6.87771891e-02, ...,\n",
       "        4.44640887e+00, 2.10600093e-01, 1.00067820e+00],\n",
       "       [1.72451476e-01, 2.55041098e-02, 1.55721933e-01, ...,\n",
       "        1.01351448e+01, 2.53001035e-01, 6.69328491e-01]])"
      ]
     },
     "execution_count": 68,
     "metadata": {},
     "output_type": "execute_result"
    }
   ],
   "source": [
    "flattened_array_train = np.load(\"flattened_array_train.npy\")\n",
    "flattened_array_train"
   ]
  },
  {
   "cell_type": "code",
   "execution_count": 80,
   "metadata": {},
   "outputs": [
    {
     "data": {
      "text/html": [
       "== Status ==<br>Current time: 2021-12-05 15:54:49 (running for 00:00:00.13)<br>Memory usage on this node: 5.7/8.0 GiB<br>Using FIFO scheduling algorithm.<br>Resources requested: 0/4 CPUs, 0/0 GPUs, 0.0/2.35 GiB heap, 0.0/1.17 GiB objects<br>Result logdir: /Users/assiaouanaya/ray_results/tuning_2021-12-05_15-54-49<br>Number of trials: 1/1 (1 PENDING)<br><table>\n",
       "<thead>\n",
       "<tr><th>Trial name        </th><th>status  </th><th>loc  </th><th style=\"text-align: right;\">  epochs</th><th style=\"text-align: right;\">         lr</th></tr>\n",
       "</thead>\n",
       "<tbody>\n",
       "<tr><td>tuning_4b491_00000</td><td>PENDING </td><td>     </td><td style=\"text-align: right;\"> 7.25344</td><td style=\"text-align: right;\">2.25279e-09</td></tr>\n",
       "</tbody>\n",
       "</table><br><br>"
      ],
      "text/plain": [
       "<IPython.core.display.HTML object>"
      ]
     },
     "metadata": {},
     "output_type": "display_data"
    },
    {
     "data": {
      "text/html": [
       "== Status ==<br>Current time: 2021-12-05 15:54:57 (running for 00:00:08.58)<br>Memory usage on this node: 5.7/8.0 GiB<br>Using FIFO scheduling algorithm.<br>Resources requested: 1.0/4 CPUs, 0/0 GPUs, 0.0/2.35 GiB heap, 0.0/1.17 GiB objects<br>Result logdir: /Users/assiaouanaya/ray_results/tuning_2021-12-05_15-54-49<br>Number of trials: 1/1 (1 RUNNING)<br><table>\n",
       "<thead>\n",
       "<tr><th>Trial name        </th><th>status  </th><th>loc            </th><th style=\"text-align: right;\">  epochs</th><th style=\"text-align: right;\">         lr</th></tr>\n",
       "</thead>\n",
       "<tbody>\n",
       "<tr><td>tuning_4b491_00000</td><td>RUNNING </td><td>127.0.0.1:44837</td><td style=\"text-align: right;\"> 7.25344</td><td style=\"text-align: right;\">2.25279e-09</td></tr>\n",
       "</tbody>\n",
       "</table><br><br>"
      ],
      "text/plain": [
       "<IPython.core.display.HTML object>"
      ]
     },
     "metadata": {},
     "output_type": "display_data"
    },
    {
     "name": "stderr",
     "output_type": "stream",
     "text": [
      "\u001b[2m\u001b[36m(ImplicitFunc pid=44837)\u001b[0m 2021-12-05 15:54:57,678\tERROR function_runner.py:268 -- Runner Thread raised error.\n",
      "\u001b[2m\u001b[36m(ImplicitFunc pid=44837)\u001b[0m Traceback (most recent call last):\n",
      "\u001b[2m\u001b[36m(ImplicitFunc pid=44837)\u001b[0m   File \"/Users/assiaouanaya/opt/anaconda3/envs/ada/lib/python3.8/site-packages/ray/tune/function_runner.py\", line 262, in run\n",
      "\u001b[2m\u001b[36m(ImplicitFunc pid=44837)\u001b[0m     self._entrypoint()\n",
      "\u001b[2m\u001b[36m(ImplicitFunc pid=44837)\u001b[0m   File \"/Users/assiaouanaya/opt/anaconda3/envs/ada/lib/python3.8/site-packages/ray/tune/function_runner.py\", line 330, in entrypoint\n",
      "\u001b[2m\u001b[36m(ImplicitFunc pid=44837)\u001b[0m     return self._trainable_func(self.config, self._status_reporter,\n",
      "\u001b[2m\u001b[36m(ImplicitFunc pid=44837)\u001b[0m   File \"/Users/assiaouanaya/opt/anaconda3/envs/ada/lib/python3.8/site-packages/ray/util/tracing/tracing_helper.py\", line 451, in _resume_span\n",
      "\u001b[2m\u001b[36m(ImplicitFunc pid=44837)\u001b[0m     return method(self, *_args, **_kwargs)\n",
      "\u001b[2m\u001b[36m(ImplicitFunc pid=44837)\u001b[0m   File \"/Users/assiaouanaya/opt/anaconda3/envs/ada/lib/python3.8/site-packages/ray/tune/function_runner.py\", line 597, in _trainable_func\n",
      "\u001b[2m\u001b[36m(ImplicitFunc pid=44837)\u001b[0m     output = fn()\n",
      "\u001b[2m\u001b[36m(ImplicitFunc pid=44837)\u001b[0m   File \"/Users/assiaouanaya/ml-project-2-thevipers2/crossvalidation.py\", line 219, in tuning\n",
      "\u001b[2m\u001b[36m(ImplicitFunc pid=44837)\u001b[0m     datasets(\n",
      "\u001b[2m\u001b[36m(ImplicitFunc pid=44837)\u001b[0m TypeError: 'module' object is not callable\n",
      "\u001b[2m\u001b[36m(ImplicitFunc pid=44837)\u001b[0m Exception in thread Thread-2:\n",
      "\u001b[2m\u001b[36m(ImplicitFunc pid=44837)\u001b[0m Traceback (most recent call last):\n",
      "\u001b[2m\u001b[36m(ImplicitFunc pid=44837)\u001b[0m   File \"/Users/assiaouanaya/opt/anaconda3/envs/ada/lib/python3.8/threading.py\", line 932, in _bootstrap_inner\n",
      "\u001b[2m\u001b[36m(ImplicitFunc pid=44837)\u001b[0m     self.run()\n",
      "\u001b[2m\u001b[36m(ImplicitFunc pid=44837)\u001b[0m   File \"/Users/assiaouanaya/opt/anaconda3/envs/ada/lib/python3.8/site-packages/ray/tune/function_runner.py\", line 281, in run\n",
      "\u001b[2m\u001b[36m(ImplicitFunc pid=44837)\u001b[0m     raise e\n",
      "\u001b[2m\u001b[36m(ImplicitFunc pid=44837)\u001b[0m   File \"/Users/assiaouanaya/opt/anaconda3/envs/ada/lib/python3.8/site-packages/ray/tune/function_runner.py\", line 262, in run\n",
      "\u001b[2m\u001b[36m(ImplicitFunc pid=44837)\u001b[0m     self._entrypoint()\n",
      "\u001b[2m\u001b[36m(ImplicitFunc pid=44837)\u001b[0m   File \"/Users/assiaouanaya/opt/anaconda3/envs/ada/lib/python3.8/site-packages/ray/tune/function_runner.py\", line 330, in entrypoint\n",
      "\u001b[2m\u001b[36m(ImplicitFunc pid=44837)\u001b[0m     return self._trainable_func(self.config, self._status_reporter,\n",
      "\u001b[2m\u001b[36m(ImplicitFunc pid=44837)\u001b[0m   File \"/Users/assiaouanaya/opt/anaconda3/envs/ada/lib/python3.8/site-packages/ray/util/tracing/tracing_helper.py\", line 451, in _resume_span\n",
      "\u001b[2m\u001b[36m(ImplicitFunc pid=44837)\u001b[0m     return method(self, *_args, **_kwargs)\n",
      "\u001b[2m\u001b[36m(ImplicitFunc pid=44837)\u001b[0m   File \"/Users/assiaouanaya/opt/anaconda3/envs/ada/lib/python3.8/site-packages/ray/tune/function_runner.py\", line 597, in _trainable_func\n",
      "\u001b[2m\u001b[36m(ImplicitFunc pid=44837)\u001b[0m     output = fn()\n",
      "\u001b[2m\u001b[36m(ImplicitFunc pid=44837)\u001b[0m   File \"/Users/assiaouanaya/ml-project-2-thevipers2/crossvalidation.py\", line 219, in tuning\n",
      "\u001b[2m\u001b[36m(ImplicitFunc pid=44837)\u001b[0m     datasets(\n",
      "\u001b[2m\u001b[36m(ImplicitFunc pid=44837)\u001b[0m TypeError: 'module' object is not callable\n",
      "2021-12-05 15:54:57,889\tERROR trial_runner.py:955 -- Trial tuning_4b491_00000: Error processing event.\n"
     ]
    },
    {
     "ename": "RayTaskError(TuneError)",
     "evalue": "\u001b[36mray::ImplicitFunc.train_buffered()\u001b[39m (pid=44837, ip=127.0.0.1, repr=<types.ImplicitFunc object at 0x7fa7cb3e66a0>)\n  File \"/Users/assiaouanaya/opt/anaconda3/envs/ada/lib/python3.8/site-packages/ray/tune/trainable.py\", line 255, in train_buffered\n    result = self.train()\n  File \"/Users/assiaouanaya/opt/anaconda3/envs/ada/lib/python3.8/site-packages/ray/tune/trainable.py\", line 314, in train\n    result = self.step()\n  File \"/Users/assiaouanaya/opt/anaconda3/envs/ada/lib/python3.8/site-packages/ray/tune/function_runner.py\", line 381, in step\n    self._report_thread_runner_error(block=True)\n  File \"/Users/assiaouanaya/opt/anaconda3/envs/ada/lib/python3.8/site-packages/ray/tune/function_runner.py\", line 531, in _report_thread_runner_error\n    raise TuneError(\nray.tune.error.TuneError: Trial raised an exception. Traceback:\n\u001b[36mray::ImplicitFunc.train_buffered()\u001b[39m (pid=44837, ip=127.0.0.1, repr=<types.ImplicitFunc object at 0x7fa7cb3e66a0>)\n  File \"/Users/assiaouanaya/opt/anaconda3/envs/ada/lib/python3.8/site-packages/ray/tune/function_runner.py\", line 262, in run\n    self._entrypoint()\n  File \"/Users/assiaouanaya/opt/anaconda3/envs/ada/lib/python3.8/site-packages/ray/tune/function_runner.py\", line 330, in entrypoint\n    return self._trainable_func(self.config, self._status_reporter,\n  File \"/Users/assiaouanaya/opt/anaconda3/envs/ada/lib/python3.8/site-packages/ray/tune/function_runner.py\", line 597, in _trainable_func\n    output = fn()\n  File \"/Users/assiaouanaya/ml-project-2-thevipers2/crossvalidation.py\", line 219, in tuning\n    datasets(\nTypeError: 'module' object is not callable",
     "output_type": "error",
     "traceback": [
      "\u001b[0;31m---------------------------------------------------------------------------\u001b[0m",
      "\u001b[0;31mRayTaskError(TuneError)\u001b[0m                   Traceback (most recent call last)",
      "\u001b[0;32m/var/folders/ls/v46b_70d2fv4_19mn0f_4ht80000gn/T/ipykernel_43137/1694345351.py\u001b[0m in \u001b[0;36m<module>\u001b[0;34m\u001b[0m\n\u001b[1;32m     17\u001b[0m \u001b[0;34m\u001b[0m\u001b[0m\n\u001b[1;32m     18\u001b[0m \u001b[0;31m# Download the dataset first\u001b[0m\u001b[0;34m\u001b[0m\u001b[0;34m\u001b[0m\u001b[0;34m\u001b[0m\u001b[0m\n\u001b[0;32m---> 19\u001b[0;31m \u001b[0manalysis\u001b[0m \u001b[0;34m=\u001b[0m \u001b[0mtune\u001b[0m\u001b[0;34m.\u001b[0m\u001b[0mrun\u001b[0m\u001b[0;34m(\u001b[0m\u001b[0mtuning\u001b[0m\u001b[0;34m,\u001b[0m \u001b[0mconfig\u001b[0m\u001b[0;34m=\u001b[0m\u001b[0msearch_space\u001b[0m\u001b[0;34m,\u001b[0m \u001b[0mfail_fast\u001b[0m\u001b[0;34m=\u001b[0m\u001b[0;34m\"raise\"\u001b[0m\u001b[0;34m,\u001b[0m \u001b[0mstop\u001b[0m\u001b[0;34m=\u001b[0m\u001b[0;34m{\u001b[0m\u001b[0;34m\"training_iteration\"\u001b[0m\u001b[0;34m:\u001b[0m \u001b[0;36m10\u001b[0m\u001b[0;34m}\u001b[0m\u001b[0;34m)\u001b[0m\u001b[0;34m\u001b[0m\u001b[0;34m\u001b[0m\u001b[0m\n\u001b[0m\u001b[1;32m     20\u001b[0m \u001b[0;34m\u001b[0m\u001b[0m\n\u001b[1;32m     21\u001b[0m \u001b[0;31m# Obtain a trial dataframe from all run trials of this `tune.run` call.\u001b[0m\u001b[0;34m\u001b[0m\u001b[0;34m\u001b[0m\u001b[0;34m\u001b[0m\u001b[0m\n",
      "\u001b[0;32m~/opt/anaconda3/envs/ada/lib/python3.8/site-packages/ray/tune/tune.py\u001b[0m in \u001b[0;36mrun\u001b[0;34m(run_or_experiment, name, metric, mode, stop, time_budget_s, config, resources_per_trial, num_samples, local_dir, search_alg, scheduler, keep_checkpoints_num, checkpoint_score_attr, checkpoint_freq, checkpoint_at_end, verbose, progress_reporter, log_to_file, trial_name_creator, trial_dirname_creator, sync_config, export_formats, max_failures, fail_fast, restore, server_port, resume, reuse_actors, trial_executor, raise_on_failed_trial, callbacks, max_concurrent_trials, queue_trials, loggers, _remote)\u001b[0m\n\u001b[1;32m    595\u001b[0m     \u001b[0mprogress_reporter\u001b[0m\u001b[0;34m.\u001b[0m\u001b[0mset_start_time\u001b[0m\u001b[0;34m(\u001b[0m\u001b[0mtune_start\u001b[0m\u001b[0;34m)\u001b[0m\u001b[0;34m\u001b[0m\u001b[0;34m\u001b[0m\u001b[0m\n\u001b[1;32m    596\u001b[0m     \u001b[0;32mwhile\u001b[0m \u001b[0;32mnot\u001b[0m \u001b[0mrunner\u001b[0m\u001b[0;34m.\u001b[0m\u001b[0mis_finished\u001b[0m\u001b[0;34m(\u001b[0m\u001b[0;34m)\u001b[0m \u001b[0;32mand\u001b[0m \u001b[0;32mnot\u001b[0m \u001b[0mstate\u001b[0m\u001b[0;34m[\u001b[0m\u001b[0msignal\u001b[0m\u001b[0;34m.\u001b[0m\u001b[0mSIGINT\u001b[0m\u001b[0;34m]\u001b[0m\u001b[0;34m:\u001b[0m\u001b[0;34m\u001b[0m\u001b[0;34m\u001b[0m\u001b[0m\n\u001b[0;32m--> 597\u001b[0;31m         \u001b[0mrunner\u001b[0m\u001b[0;34m.\u001b[0m\u001b[0mstep\u001b[0m\u001b[0;34m(\u001b[0m\u001b[0;34m)\u001b[0m\u001b[0;34m\u001b[0m\u001b[0;34m\u001b[0m\u001b[0m\n\u001b[0m\u001b[1;32m    598\u001b[0m         \u001b[0;32mif\u001b[0m \u001b[0mhas_verbosity\u001b[0m\u001b[0;34m(\u001b[0m\u001b[0mVerbosity\u001b[0m\u001b[0;34m.\u001b[0m\u001b[0mV1_EXPERIMENT\u001b[0m\u001b[0;34m)\u001b[0m\u001b[0;34m:\u001b[0m\u001b[0;34m\u001b[0m\u001b[0;34m\u001b[0m\u001b[0m\n\u001b[1;32m    599\u001b[0m             \u001b[0m_report_progress\u001b[0m\u001b[0;34m(\u001b[0m\u001b[0mrunner\u001b[0m\u001b[0;34m,\u001b[0m \u001b[0mprogress_reporter\u001b[0m\u001b[0;34m)\u001b[0m\u001b[0;34m\u001b[0m\u001b[0;34m\u001b[0m\u001b[0m\n",
      "\u001b[0;32m~/opt/anaconda3/envs/ada/lib/python3.8/site-packages/ray/tune/trial_runner.py\u001b[0m in \u001b[0;36mstep\u001b[0;34m(self)\u001b[0m\n\u001b[1;32m    737\u001b[0m                 \u001b[0;32mif\u001b[0m \u001b[0mself\u001b[0m\u001b[0;34m.\u001b[0m\u001b[0mtrial_executor\u001b[0m\u001b[0;34m.\u001b[0m\u001b[0min_staging_grace_period\u001b[0m\u001b[0;34m(\u001b[0m\u001b[0;34m)\u001b[0m\u001b[0;34m:\u001b[0m\u001b[0;34m\u001b[0m\u001b[0;34m\u001b[0m\u001b[0m\n\u001b[1;32m    738\u001b[0m                     \u001b[0mtimeout\u001b[0m \u001b[0;34m=\u001b[0m \u001b[0;36m0.1\u001b[0m\u001b[0;34m\u001b[0m\u001b[0;34m\u001b[0m\u001b[0m\n\u001b[0;32m--> 739\u001b[0;31m                 \u001b[0mself\u001b[0m\u001b[0;34m.\u001b[0m\u001b[0m_process_events\u001b[0m\u001b[0;34m(\u001b[0m\u001b[0mtimeout\u001b[0m\u001b[0;34m=\u001b[0m\u001b[0mtimeout\u001b[0m\u001b[0;34m)\u001b[0m\u001b[0;34m\u001b[0m\u001b[0;34m\u001b[0m\u001b[0m\n\u001b[0m\u001b[1;32m    740\u001b[0m             \u001b[0;32melse\u001b[0m\u001b[0;34m:\u001b[0m\u001b[0;34m\u001b[0m\u001b[0;34m\u001b[0m\u001b[0m\n\u001b[1;32m    741\u001b[0m                 \u001b[0mself\u001b[0m\u001b[0;34m.\u001b[0m\u001b[0m_run_and_catch\u001b[0m\u001b[0;34m(\u001b[0m\u001b[0mself\u001b[0m\u001b[0;34m.\u001b[0m\u001b[0mtrial_executor\u001b[0m\u001b[0;34m.\u001b[0m\u001b[0mon_no_available_trials\u001b[0m\u001b[0;34m)\u001b[0m\u001b[0;34m\u001b[0m\u001b[0;34m\u001b[0m\u001b[0m\n",
      "\u001b[0;32m~/opt/anaconda3/envs/ada/lib/python3.8/site-packages/ray/tune/trial_runner.py\u001b[0m in \u001b[0;36m_process_events\u001b[0;34m(self, timeout)\u001b[0m\n\u001b[1;32m    895\u001b[0m             \u001b[0;32melse\u001b[0m\u001b[0;34m:\u001b[0m\u001b[0;34m\u001b[0m\u001b[0;34m\u001b[0m\u001b[0m\n\u001b[1;32m    896\u001b[0m                 \u001b[0;32mwith\u001b[0m \u001b[0mwarn_if_slow\u001b[0m\u001b[0;34m(\u001b[0m\u001b[0;34m\"process_trial\"\u001b[0m\u001b[0;34m)\u001b[0m\u001b[0;34m:\u001b[0m\u001b[0;34m\u001b[0m\u001b[0;34m\u001b[0m\u001b[0m\n\u001b[0;32m--> 897\u001b[0;31m                     \u001b[0mself\u001b[0m\u001b[0;34m.\u001b[0m\u001b[0m_process_trial\u001b[0m\u001b[0;34m(\u001b[0m\u001b[0mtrial\u001b[0m\u001b[0;34m)\u001b[0m\u001b[0;34m\u001b[0m\u001b[0;34m\u001b[0m\u001b[0m\n\u001b[0m\u001b[1;32m    898\u001b[0m \u001b[0;34m\u001b[0m\u001b[0m\n\u001b[1;32m    899\u001b[0m             \u001b[0;31m# `self._queued_trial_decisions` now contains a final decision\u001b[0m\u001b[0;34m\u001b[0m\u001b[0;34m\u001b[0m\u001b[0;34m\u001b[0m\u001b[0m\n",
      "\u001b[0;32m~/opt/anaconda3/envs/ada/lib/python3.8/site-packages/ray/tune/trial_runner.py\u001b[0m in \u001b[0;36m_process_trial\u001b[0;34m(self, trial)\u001b[0m\n\u001b[1;32m    922\u001b[0m         \"\"\"\n\u001b[1;32m    923\u001b[0m         \u001b[0;32mtry\u001b[0m\u001b[0;34m:\u001b[0m\u001b[0;34m\u001b[0m\u001b[0;34m\u001b[0m\u001b[0m\n\u001b[0;32m--> 924\u001b[0;31m             \u001b[0mresults\u001b[0m \u001b[0;34m=\u001b[0m \u001b[0mself\u001b[0m\u001b[0;34m.\u001b[0m\u001b[0mtrial_executor\u001b[0m\u001b[0;34m.\u001b[0m\u001b[0mfetch_result\u001b[0m\u001b[0;34m(\u001b[0m\u001b[0mtrial\u001b[0m\u001b[0;34m)\u001b[0m\u001b[0;34m\u001b[0m\u001b[0;34m\u001b[0m\u001b[0m\n\u001b[0m\u001b[1;32m    925\u001b[0m             with warn_if_slow(\n\u001b[1;32m    926\u001b[0m                     \u001b[0;34m\"process_trial_results\"\u001b[0m\u001b[0;34m,\u001b[0m\u001b[0;34m\u001b[0m\u001b[0;34m\u001b[0m\u001b[0m\n",
      "\u001b[0;32m~/opt/anaconda3/envs/ada/lib/python3.8/site-packages/ray/tune/ray_trial_executor.py\u001b[0m in \u001b[0;36mfetch_result\u001b[0;34m(self, trial)\u001b[0m\n\u001b[1;32m    785\u001b[0m         \u001b[0mself\u001b[0m\u001b[0;34m.\u001b[0m\u001b[0m_running\u001b[0m\u001b[0;34m.\u001b[0m\u001b[0mpop\u001b[0m\u001b[0;34m(\u001b[0m\u001b[0mtrial_future\u001b[0m\u001b[0;34m[\u001b[0m\u001b[0;36m0\u001b[0m\u001b[0;34m]\u001b[0m\u001b[0;34m)\u001b[0m\u001b[0;34m\u001b[0m\u001b[0;34m\u001b[0m\u001b[0m\n\u001b[1;32m    786\u001b[0m         \u001b[0;32mwith\u001b[0m \u001b[0mwarn_if_slow\u001b[0m\u001b[0;34m(\u001b[0m\u001b[0;34m\"fetch_result\"\u001b[0m\u001b[0;34m)\u001b[0m\u001b[0;34m:\u001b[0m\u001b[0;34m\u001b[0m\u001b[0;34m\u001b[0m\u001b[0m\n\u001b[0;32m--> 787\u001b[0;31m             \u001b[0mresult\u001b[0m \u001b[0;34m=\u001b[0m \u001b[0mray\u001b[0m\u001b[0;34m.\u001b[0m\u001b[0mget\u001b[0m\u001b[0;34m(\u001b[0m\u001b[0mtrial_future\u001b[0m\u001b[0;34m[\u001b[0m\u001b[0;36m0\u001b[0m\u001b[0;34m]\u001b[0m\u001b[0;34m,\u001b[0m \u001b[0mtimeout\u001b[0m\u001b[0;34m=\u001b[0m\u001b[0mDEFAULT_GET_TIMEOUT\u001b[0m\u001b[0;34m)\u001b[0m\u001b[0;34m\u001b[0m\u001b[0;34m\u001b[0m\u001b[0m\n\u001b[0m\u001b[1;32m    788\u001b[0m \u001b[0;34m\u001b[0m\u001b[0m\n\u001b[1;32m    789\u001b[0m         \u001b[0;31m# For local mode\u001b[0m\u001b[0;34m\u001b[0m\u001b[0;34m\u001b[0m\u001b[0;34m\u001b[0m\u001b[0m\n",
      "\u001b[0;32m~/opt/anaconda3/envs/ada/lib/python3.8/site-packages/ray/_private/client_mode_hook.py\u001b[0m in \u001b[0;36mwrapper\u001b[0;34m(*args, **kwargs)\u001b[0m\n\u001b[1;32m    103\u001b[0m             \u001b[0;32mif\u001b[0m \u001b[0mfunc\u001b[0m\u001b[0;34m.\u001b[0m\u001b[0m__name__\u001b[0m \u001b[0;34m!=\u001b[0m \u001b[0;34m\"init\"\u001b[0m \u001b[0;32mor\u001b[0m \u001b[0mis_client_mode_enabled_by_default\u001b[0m\u001b[0;34m:\u001b[0m\u001b[0;34m\u001b[0m\u001b[0;34m\u001b[0m\u001b[0m\n\u001b[1;32m    104\u001b[0m                 \u001b[0;32mreturn\u001b[0m \u001b[0mgetattr\u001b[0m\u001b[0;34m(\u001b[0m\u001b[0mray\u001b[0m\u001b[0;34m,\u001b[0m \u001b[0mfunc\u001b[0m\u001b[0;34m.\u001b[0m\u001b[0m__name__\u001b[0m\u001b[0;34m)\u001b[0m\u001b[0;34m(\u001b[0m\u001b[0;34m*\u001b[0m\u001b[0margs\u001b[0m\u001b[0;34m,\u001b[0m \u001b[0;34m**\u001b[0m\u001b[0mkwargs\u001b[0m\u001b[0;34m)\u001b[0m\u001b[0;34m\u001b[0m\u001b[0;34m\u001b[0m\u001b[0m\n\u001b[0;32m--> 105\u001b[0;31m         \u001b[0;32mreturn\u001b[0m \u001b[0mfunc\u001b[0m\u001b[0;34m(\u001b[0m\u001b[0;34m*\u001b[0m\u001b[0margs\u001b[0m\u001b[0;34m,\u001b[0m \u001b[0;34m**\u001b[0m\u001b[0mkwargs\u001b[0m\u001b[0;34m)\u001b[0m\u001b[0;34m\u001b[0m\u001b[0;34m\u001b[0m\u001b[0m\n\u001b[0m\u001b[1;32m    106\u001b[0m \u001b[0;34m\u001b[0m\u001b[0m\n\u001b[1;32m    107\u001b[0m     \u001b[0;32mreturn\u001b[0m \u001b[0mwrapper\u001b[0m\u001b[0;34m\u001b[0m\u001b[0;34m\u001b[0m\u001b[0m\n",
      "\u001b[0;32m~/opt/anaconda3/envs/ada/lib/python3.8/site-packages/ray/worker.py\u001b[0m in \u001b[0;36mget\u001b[0;34m(object_refs, timeout)\u001b[0m\n\u001b[1;32m   1711\u001b[0m                     \u001b[0mworker\u001b[0m\u001b[0;34m.\u001b[0m\u001b[0mcore_worker\u001b[0m\u001b[0;34m.\u001b[0m\u001b[0mdump_object_store_memory_usage\u001b[0m\u001b[0;34m(\u001b[0m\u001b[0;34m)\u001b[0m\u001b[0;34m\u001b[0m\u001b[0;34m\u001b[0m\u001b[0m\n\u001b[1;32m   1712\u001b[0m                 \u001b[0;32mif\u001b[0m \u001b[0misinstance\u001b[0m\u001b[0;34m(\u001b[0m\u001b[0mvalue\u001b[0m\u001b[0;34m,\u001b[0m \u001b[0mRayTaskError\u001b[0m\u001b[0;34m)\u001b[0m\u001b[0;34m:\u001b[0m\u001b[0;34m\u001b[0m\u001b[0;34m\u001b[0m\u001b[0m\n\u001b[0;32m-> 1713\u001b[0;31m                     \u001b[0;32mraise\u001b[0m \u001b[0mvalue\u001b[0m\u001b[0;34m.\u001b[0m\u001b[0mas_instanceof_cause\u001b[0m\u001b[0;34m(\u001b[0m\u001b[0;34m)\u001b[0m\u001b[0;34m\u001b[0m\u001b[0;34m\u001b[0m\u001b[0m\n\u001b[0m\u001b[1;32m   1714\u001b[0m                 \u001b[0;32melse\u001b[0m\u001b[0;34m:\u001b[0m\u001b[0;34m\u001b[0m\u001b[0;34m\u001b[0m\u001b[0m\n\u001b[1;32m   1715\u001b[0m                     \u001b[0;32mraise\u001b[0m \u001b[0mvalue\u001b[0m\u001b[0;34m\u001b[0m\u001b[0;34m\u001b[0m\u001b[0m\n",
      "\u001b[0;31mRayTaskError(TuneError)\u001b[0m: \u001b[36mray::ImplicitFunc.train_buffered()\u001b[39m (pid=44837, ip=127.0.0.1, repr=<types.ImplicitFunc object at 0x7fa7cb3e66a0>)\n  File \"/Users/assiaouanaya/opt/anaconda3/envs/ada/lib/python3.8/site-packages/ray/tune/trainable.py\", line 255, in train_buffered\n    result = self.train()\n  File \"/Users/assiaouanaya/opt/anaconda3/envs/ada/lib/python3.8/site-packages/ray/tune/trainable.py\", line 314, in train\n    result = self.step()\n  File \"/Users/assiaouanaya/opt/anaconda3/envs/ada/lib/python3.8/site-packages/ray/tune/function_runner.py\", line 381, in step\n    self._report_thread_runner_error(block=True)\n  File \"/Users/assiaouanaya/opt/anaconda3/envs/ada/lib/python3.8/site-packages/ray/tune/function_runner.py\", line 531, in _report_thread_runner_error\n    raise TuneError(\nray.tune.error.TuneError: Trial raised an exception. Traceback:\n\u001b[36mray::ImplicitFunc.train_buffered()\u001b[39m (pid=44837, ip=127.0.0.1, repr=<types.ImplicitFunc object at 0x7fa7cb3e66a0>)\n  File \"/Users/assiaouanaya/opt/anaconda3/envs/ada/lib/python3.8/site-packages/ray/tune/function_runner.py\", line 262, in run\n    self._entrypoint()\n  File \"/Users/assiaouanaya/opt/anaconda3/envs/ada/lib/python3.8/site-packages/ray/tune/function_runner.py\", line 330, in entrypoint\n    return self._trainable_func(self.config, self._status_reporter,\n  File \"/Users/assiaouanaya/opt/anaconda3/envs/ada/lib/python3.8/site-packages/ray/tune/function_runner.py\", line 597, in _trainable_func\n    output = fn()\n  File \"/Users/assiaouanaya/ml-project-2-thevipers2/crossvalidation.py\", line 219, in tuning\n    datasets(\nTypeError: 'module' object is not callable"
     ]
    }
   ],
   "source": [
    "import torch.optim as optim\n",
    "import torch.nn as nn\n",
    "from torch.utils.data import DataLoader\n",
    "import torch.nn.functional as F\n",
    "from torchvision import datasets, transforms\n",
    "\n",
    "from ray import tune\n",
    "from ray.tune.schedulers import ASHAScheduler\n",
    "\n",
    "search_space = {\n",
    "    \"lr\": tune.sample_from(lambda spec: 10**(-10 * np.random.rand())),\n",
    "    \"epochs\": tune.uniform(1, 9)\n",
    "}\n",
    "\n",
    "# Uncomment this to enable distributed execution\n",
    "# `ray.init(address=\"auto\")`\n",
    "\n",
    "# Download the dataset first\n",
    "analysis = tune.run(tuning, config=search_space, fail_fast=\"raise\", stop={\"training_iteration\": 10})\n",
    "\n",
    "# Obtain a trial dataframe from all run trials of this `tune.run` call.\n",
    "dfs = analysis.trial_dataframes"
   ]
  },
  {
   "cell_type": "markdown",
   "metadata": {},
   "source": [
    "## 4. Passer en 2D "
   ]
  },
  {
   "cell_type": "markdown",
   "metadata": {},
   "source": [
    "## 5. Hyper-parameters and physics parameters relationship"
   ]
  },
  {
   "cell_type": "markdown",
   "metadata": {},
   "source": [
    "## 6. Discussion & conclusion"
   ]
  },
  {
   "cell_type": "code",
   "execution_count": null,
   "metadata": {},
   "outputs": [],
   "source": []
  }
 ],
 "metadata": {
  "kernelspec": {
   "display_name": "Python 3 (ipykernel)",
   "language": "python",
   "name": "python3"
  },
  "language_info": {
   "codemirror_mode": {
    "name": "ipython",
    "version": 3
   },
   "file_extension": ".py",
   "mimetype": "text/x-python",
   "name": "python",
   "nbconvert_exporter": "python",
   "pygments_lexer": "ipython3",
   "version": "3.8.11"
  }
 },
 "nbformat": 4,
 "nbformat_minor": 4
}
