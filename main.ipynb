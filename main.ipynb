{
 "cells": [
  {
   "cell_type": "markdown",
   "metadata": {},
   "source": [
    "# Machine Learning - Project 2:\n",
    "# _Autoencoder for mathematical modeling of blood flow in a stenosis context_"
   ]
  },
  {
   "cell_type": "markdown",
   "metadata": {},
   "source": [
    "## Context"
   ]
  },
  {
   "cell_type": "markdown",
   "metadata": {},
   "source": [
    "In this project, we are going to analyze data derived from..."
   ]
  },
  {
   "cell_type": "markdown",
   "metadata": {},
   "source": [
    "Our goals:\n",
    "1. modeliser mathématiquement l’écoulement sanguin à l’aide de PDE dépendante de 2-3 paramètres physique\n",
    "2. simuler l’écoulement par un code d’éléments fini ou similaire\n",
    "3. générer beaucoup de solutions avec une grande nombre de paramètres différents. (Les 2-3, pris de façon aléatoire)\n",
    "4. a. utiliser les solutions numérique pour établir un auto encoder qui au milieu n’ai que 2-5 hyper-paramètres libres  \n",
    "b. quel erreur on obtient ? Est-ce possible de réduire le nombre d’hyper-paramètres ?\n",
    "5. étudier s’il y a une rélation entre les 2-5 hyper-paramètre et les paramètres physique  \n",
    "a. à l’aide de statistiques\n",
    "5. b. à l’aide d’un DNN (différent de 4a)\n",
    "6. (optionnel) faire un DNN entre l’input de 4a et output les paramêtres physique. Et/ou l’inverse.\n",
    "7. Discussion et conclusions "
   ]
  },
  {
   "cell_type": "markdown",
   "metadata": {},
   "source": [
    "Abbreviations used:\n",
    "- $N_u$ = total number of spatial points per simulation\n",
    "- $N_t$ = total number of time steps per simulation\n",
    "- $N_s$ = total number of simulations"
   ]
  },
  {
   "cell_type": "markdown",
   "metadata": {},
   "source": [
    "## Table of contents"
   ]
  },
  {
   "cell_type": "markdown",
   "metadata": {},
   "source": [
    "[1. Data exploration](#data_exploration) \n",
    "- [Imports](#1imports)\n",
    "- [Pathways](#1pathways)\n",
    "- [Loading](#1load)\n",
    "- [Exploration](#1exploration)\n",
    "\n",
    "[2. Data preprocessing](#preprocessing)\n",
    "\n",
    "[3. Autoencoder](#classifier)"
   ]
  },
  {
   "cell_type": "markdown",
   "metadata": {},
   "source": [
    "## 1. Data exploration  <a name=\"data_exploration\"></a>"
   ]
  },
  {
   "cell_type": "markdown",
   "metadata": {},
   "source": [
    "### Imports  <a name=\"1imports\"></a>"
   ]
  },
  {
   "cell_type": "code",
   "execution_count": 1,
   "metadata": {},
   "outputs": [],
   "source": [
    "# Useful starting lines\n",
    "%matplotlib inline\n",
    "import numpy as np\n",
    "import matplotlib.pyplot as plt\n",
    "import pandas as pd\n",
    "from helpers import *\n",
    "from preprocessing import *\n",
    "from sklearn.model_selection import train_test_split\n",
    "from autoencoder import *\n",
    "from crossvalidation import *\n",
    "%load_ext autoreload\n",
    "%autoreload 2"
   ]
  },
  {
   "cell_type": "markdown",
   "metadata": {},
   "source": [
    "### Pathways <a name=\"1pathways\"></a>"
   ]
  },
  {
   "cell_type": "code",
   "execution_count": 2,
   "metadata": {},
   "outputs": [],
   "source": [
    "DATA_PATH = 'data/'\n",
    "DATA_Ux_PATH = DATA_PATH + 'u1_very_small.csv'\n",
    "DATA_Uy_PATH = DATA_PATH + 'u2_very_small.csv'"
   ]
  },
  {
   "cell_type": "markdown",
   "metadata": {},
   "source": [
    "### Loading <a name=\"1load\"></a>"
   ]
  },
  {
   "cell_type": "markdown",
   "metadata": {},
   "source": [
    "Let's load the data which consists of 2 matrices Ux, Uy denoting the x and y coordinates of the speed."
   ]
  },
  {
   "cell_type": "code",
   "execution_count": 3,
   "metadata": {},
   "outputs": [],
   "source": [
    "# Loading\n",
    "Ux_pd = pd.read_csv(DATA_Ux_PATH, header=None)\n",
    "Uy_pd = pd.read_csv(DATA_Uy_PATH, header=None)\n",
    "# Converting from dataframe to numpy\n",
    "Ux = Ux_pd.to_numpy()\n",
    "Uy = Uy_pd.to_numpy()"
   ]
  },
  {
   "cell_type": "markdown",
   "metadata": {},
   "source": [
    "### Exploration <a name=\"1exploration\"></a>"
   ]
  },
  {
   "cell_type": "markdown",
   "metadata": {},
   "source": [
    "Let's have a closer look at our imported data sets. The columns represent the time steps and the rows represent a point of our blood vessel mesh and each 5509 row a new simulation."
   ]
  },
  {
   "cell_type": "code",
   "execution_count": 4,
   "metadata": {
    "scrolled": false
   },
   "outputs": [
    {
     "name": "stdout",
     "output_type": "stream",
     "text": [
      "Our input array Ux is of shape: (137725, 110)\n",
      "Our input array Uy is of shape: (143234, 110)\n",
      "Printing a row of Ux: \n",
      " [0.07843621 0.31118352 0.68245424 1.15863002 1.69435217 2.2377946\n",
      " 2.73607737 3.14059293 3.41183529 3.52330289 3.63726074 3.7439734\n",
      " 3.84549407 3.94281205 4.03640323 4.12650964 4.2132592  4.29672103\n",
      " 4.37693287 4.45391539 4.52767992 4.59823263 4.6655769  4.72971455\n",
      " 4.79064658 4.84837353 4.90289569 4.95421322 5.00232621 5.04723472\n",
      " 5.08893877 5.12743839 5.16273359 5.19482437 5.22371075 5.24939272\n",
      " 5.2718703  5.29114348 5.30721227 5.32007667 5.32973668 5.33619229\n",
      " 5.33944353 5.33997115 5.33936904 5.33787084 5.33552701 5.33235975\n",
      " 5.32837974 5.3235924  5.31800058 5.31160582 5.30440894 5.29641041\n",
      " 5.28761047 5.27800926 5.26760686 5.25640331 5.24439864 5.23159284\n",
      " 5.21798594 5.20357794 5.18836883 5.17235862 5.15554731 5.13793491\n",
      " 5.1195214  5.1003068  5.0802911  5.05947431 5.03785642 5.01543743\n",
      " 4.99221734 4.96819616 4.94337388 4.9177505  4.89132603 4.86410046\n",
      " 4.8360738  4.80724604 4.77761718 4.74718722 4.71595617 4.68392403\n",
      " 4.65109078 4.61745644 4.583021   4.54778447 4.51174684 4.47490812\n",
      " 4.43726829 4.39882737 4.35958536 4.31954225 4.27869804 4.23705274\n",
      " 4.19460633 4.15135884 4.10731024 4.06246055 4.01680977 3.97035788\n",
      " 3.9231049  3.87505083 3.82619566 3.77653939 3.72608202 3.67482356\n",
      " 3.622764   3.56990335] \n",
      "\n",
      "Printing a row of Uy: \n",
      " [0.07843621 0.31118352 0.68245424 1.15863002 1.69435217 2.2377946\n",
      " 2.73607737 3.14059293 3.41183529 3.52330289 3.63726074 3.7439734\n",
      " 3.84549407 3.94281205 4.03640323 4.12650964 4.2132592  4.29672103\n",
      " 4.37693287 4.45391539 4.52767992 4.59823263 4.6655769  4.72971455\n",
      " 4.79064658 4.84837353 4.90289569 4.95421322 5.00232621 5.04723472\n",
      " 5.08893877 5.12743839 5.16273359 5.19482437 5.22371075 5.24939272\n",
      " 5.2718703  5.29114348 5.30721227 5.32007667 5.32973668 5.33619229\n",
      " 5.33944353 5.33997115 5.33936904 5.33787084 5.33552701 5.33235975\n",
      " 5.32837974 5.3235924  5.31800058 5.31160582 5.30440894 5.29641041\n",
      " 5.28761047 5.27800926 5.26760686 5.25640331 5.24439864 5.23159284\n",
      " 5.21798594 5.20357794 5.18836883 5.17235862 5.15554731 5.13793491\n",
      " 5.1195214  5.1003068  5.0802911  5.05947431 5.03785642 5.01543743\n",
      " 4.99221734 4.96819616 4.94337388 4.9177505  4.89132603 4.86410046\n",
      " 4.8360738  4.80724604 4.77761718 4.74718722 4.71595617 4.68392403\n",
      " 4.65109078 4.61745644 4.583021   4.54778447 4.51174684 4.47490812\n",
      " 4.43726829 4.39882737 4.35958536 4.31954225 4.27869804 4.23705274\n",
      " 4.19460633 4.15135884 4.10731024 4.06246055 4.01680977 3.97035788\n",
      " 3.9231049  3.87505083 3.82619566 3.77653939 3.72608202 3.67482356\n",
      " 3.622764   3.56990335] \n",
      "\n"
     ]
    }
   ],
   "source": [
    "print(\"Our input array Ux is of shape:\",Ux.shape)\n",
    "print(\"Our input array Uy is of shape:\",Uy.shape)\n",
    "print(\"Printing a row of Ux:\", '\\n', Ux[10,:], '\\n')\n",
    "print(\"Printing a row of Uy:\", '\\n', Uy[10,:], '\\n')"
   ]
  },
  {
   "cell_type": "markdown",
   "metadata": {},
   "source": [
    "For the rest of the analysis, we need to figure out the number of simulation step. As we know that we previsouly generated 25 simulations on Matlab and all the new simulations are appended row-wise, we can deduce it with the following computation."
   ]
  },
  {
   "cell_type": "code",
   "execution_count": 5,
   "metadata": {
    "scrolled": true
   },
   "outputs": [
    {
     "name": "stdout",
     "output_type": "stream",
     "text": [
      "We ran  25 simulations with different parameters for each simulation (parameters of the stenosis and resistance of the blood flow in the bifurcations)\n",
      "1 simulation calculate the velocities of the blood flow at  5509  different positions and at  110  different times\n"
     ]
    }
   ],
   "source": [
    "positions =5509 #We know it from the matlab code\n",
    "times = Ux.shape[1]\n",
    "simulations = int(Ux.shape[0]/positions)\n",
    "print(\"We ran \", simulations, \"simulations with different parameters for each simulation (parameters of the stenosis and resistance of the blood flow in the bifurcations)\")\n",
    "print(\"1 simulation calculate the velocities of the blood flow at \", positions, \" different positions and at \", times, \" different times\")"
   ]
  },
  {
   "cell_type": "markdown",
   "metadata": {},
   "source": [
    "## 2. Data preprocessing  <a name=\"preprocessing\"></a>"
   ]
  },
  {
   "cell_type": "markdown",
   "metadata": {},
   "source": [
    "Let's check if we have any NaN or None values in our dataframe."
   ]
  },
  {
   "cell_type": "code",
   "execution_count": 6,
   "metadata": {
    "scrolled": true
   },
   "outputs": [
    {
     "name": "stdout",
     "output_type": "stream",
     "text": [
      "0\n",
      "0\n"
     ]
    }
   ],
   "source": [
    "print(np.count_nonzero(np.isnan(Ux)))\n",
    "print(np.count_nonzero(np.isnan(Uy)))"
   ]
  },
  {
   "cell_type": "markdown",
   "metadata": {},
   "source": [
    "It seems there are no None values so we can start direclty preprocess our datasets."
   ]
  },
  {
   "cell_type": "markdown",
   "metadata": {},
   "source": [
    "ADDITIONAL IDEAS FOR PREPROCESSING\n",
    "- remove columns with 0 std dev?\n",
    "- standardization?"
   ]
  },
  {
   "cell_type": "markdown",
   "metadata": {},
   "source": [
    "Let's sample our data points into the following ratios : "
   ]
  },
  {
   "cell_type": "code",
   "execution_count": 7,
   "metadata": {},
   "outputs": [
    {
     "name": "stdout",
     "output_type": "stream",
     "text": [
      "(13750, 110) (13750, 110)\n"
     ]
    }
   ],
   "source": [
    "ratio_pts = 0.1\n",
    "ratio_time = 1\n",
    "\n",
    "new_Ux, new_Uy, new_inds = sample(Ux, Uy, ratio_pts, ratio_time)\n",
    "print(new_Ux.shape, new_Uy.shape)"
   ]
  },
  {
   "cell_type": "code",
   "execution_count": 8,
   "metadata": {},
   "outputs": [
    {
     "name": "stdout",
     "output_type": "stream",
     "text": [
      "With the sampling we got from  5509  positions to  550  positions\n",
      "With the sampling we got from  110  time steps to  110  time steps\n"
     ]
    }
   ],
   "source": [
    "new_Nu, new_Nt = get_Nu_Nt_sampled(Ux, new_Ux)\n",
    "\n",
    "print('With the sampling we got from ', 5509, ' positions to ', new_Nu, ' positions')\n",
    "print('With the sampling we got from ', 110, ' time steps to ', new_Nt, ' time steps')"
   ]
  },
  {
   "cell_type": "markdown",
   "metadata": {},
   "source": [
    "We can look at the positions of the sampled positions to make sure that we cover mostly all the important parts of the geometry of the artery :"
   ]
  },
  {
   "cell_type": "code",
   "execution_count": 9,
   "metadata": {},
   "outputs": [
    {
     "data": {
      "image/png": "[encoded data removed]",
      "text/plain": [
       "<Figure size 432x288 with 1 Axes>"
      ]
     },
     "metadata": {
      "needs_background": "light"
     },
     "output_type": "display_data"
    }
   ],
   "source": [
    "plot_sampled_coord(new_inds) "
   ]
  },
  {
   "cell_type": "markdown",
   "metadata": {},
   "source": [
    "Let's flatten our matrices into a single matrix with dimensions $((2 N_u N_t), N_s)$"
   ]
  },
  {
   "cell_type": "code",
   "execution_count": 10,
   "metadata": {},
   "outputs": [
    {
     "name": "stdout",
     "output_type": "stream",
     "text": [
      "[[0.06598187 0.25670229 0.55084151 ... 2.51511171 2.47896831 2.44227292]\n",
      " [0.01822349 0.06614118 0.13306091 ... 0.49577011 0.48856679 0.48125408]\n",
      " [0.06441595 0.25109322 0.5398679  ... 2.481933   2.44626963 2.41006156]\n",
      " ...\n",
      " [0.06643176 0.26403555 0.57958814 ... 3.08212344 3.0383942  2.99399259]\n",
      " [0.02092091 0.07525409 0.1493795  ... 0.45401539 0.44725713 0.44039752]\n",
      " [0.02068076 0.07446069 0.14793325 ... 0.45138163 0.44466495 0.43784753]]\n"
     ]
    }
   ],
   "source": [
    "print(new_Ux)"
   ]
  },
  {
   "cell_type": "code",
   "execution_count": 11,
   "metadata": {
    "scrolled": false
   },
   "outputs": [
    {
     "data": {
      "text/plain": [
       "(25, 121000)"
      ]
     },
     "execution_count": 11,
     "metadata": {},
     "output_type": "execute_result"
    }
   ],
   "source": [
    "flattened_array = flatten(new_Ux, new_Uy, ratio_pts)\n",
    "flattened_array.shape"
   ]
  },
  {
   "cell_type": "markdown",
   "metadata": {},
   "source": [
    "Let's make a sanity check that the dimension of 1 datapoint is indeed ${2 * new_{N_t} * new_{N_u})}$"
   ]
  },
  {
   "cell_type": "code",
   "execution_count": 12,
   "metadata": {},
   "outputs": [
    {
     "name": "stdout",
     "output_type": "stream",
     "text": [
      "121000\n"
     ]
    }
   ],
   "source": [
    "assert flattened_array.shape[1] == 2*new_Nt*new_Nu\n",
    "\n",
    "print(2*new_Nt*new_Nu)"
   ]
  },
  {
   "cell_type": "markdown",
   "metadata": {},
   "source": [
    "## 3. Auto-encoder  <a name=\"autoencoder\"></a>"
   ]
  },
  {
   "cell_type": "markdown",
   "metadata": {},
   "source": [
    "We split the data set into a training a testing set to be able to evaluate our autoencoder."
   ]
  },
  {
   "cell_type": "code",
   "execution_count": 13,
   "metadata": {},
   "outputs": [
    {
     "name": "stdout",
     "output_type": "stream",
     "text": [
      "(22, 121000)\n",
      "(3, 121000)\n"
     ]
    }
   ],
   "source": [
    "# Set seed \n",
    "seed = 123\n",
    "flattened_array_train, flattened_array_test = train_test_split(flattened_array, test_size=0.1, random_state=seed)\n",
    "y_train, y_test = flattened_array_train, flattened_array_test\n",
    "\n",
    "print(flattened_array_train.shape)\n",
    "print(flattened_array_test.shape)"
   ]
  },
  {
   "cell_type": "code",
   "execution_count": 20,
   "metadata": {},
   "outputs": [],
   "source": [
    "# define network parameters\n",
    "learningRate=1e-2\n",
    "epochs=50\n",
    "input_size=flattened_array_train.shape[1]\n",
    "k_folds = 5\n",
    "# Set fixed random number seed\n",
    "torch.manual_seed(42)\n",
    "# creates a criterion that measures the mean squared error (squared L2 norm) \n",
    "criterion = nn.MSELoss() "
   ]
  },
  {
   "cell_type": "code",
   "execution_count": 23,
   "metadata": {},
   "outputs": [
    {
     "name": "stdout",
     "output_type": "stream",
     "text": [
      "--------------------------------\n",
      "FOLD 0\n",
      "--------------------------------\n",
      "Epoch:1/50 Training Error:196.310 Test Error:176.252\n",
      "Epoch:2/50 Training Error:363.366 Test Error:345.680\n",
      "Epoch:3/50 Training Error:393.970 Test Error:381.082\n",
      "Epoch:4/50 Training Error:309.914 Test Error:273.205\n",
      "Epoch:5/50 Training Error:173.306 Test Error:142.448\n",
      "Epoch:6/50 Training Error:59.043 Test Error:51.972\n",
      "Epoch:7/50 Training Error:29.119 Test Error:20.116\n",
      "Epoch:8/50 Training Error:5.285 Test Error:5.021\n",
      "Epoch:9/50 Training Error:0.818 Test Error:0.807\n",
      "Epoch:10/50 Training Error:0.992 Test Error:0.989\n",
      "Epoch:11/50 Training Error:0.992 Test Error:0.989\n",
      "Epoch:12/50 Training Error:0.992 Test Error:0.989\n",
      "Epoch:13/50 Training Error:0.991 Test Error:0.988\n",
      "Epoch:14/50 Training Error:0.991 Test Error:0.987\n",
      "Epoch:15/50 Training Error:0.990 Test Error:0.986\n",
      "Epoch:16/50 Training Error:0.833 Test Error:0.842\n",
      "Epoch:17/50 Training Error:0.965 Test Error:0.925\n",
      "Epoch:18/50 Training Error:1.036 Test Error:0.907\n",
      "Epoch:19/50 Training Error:0.691 Test Error:0.699\n",
      "Epoch:20/50 Training Error:0.928 Test Error:0.896\n",
      "Epoch:21/50 Training Error:0.789 Test Error:0.804\n",
      "Epoch:22/50 Training Error:0.744 Test Error:0.619\n",
      "Epoch:23/50 Training Error:0.782 Test Error:0.745\n",
      "Epoch:24/50 Training Error:0.644 Test Error:0.664\n",
      "Epoch:25/50 Training Error:0.723 Test Error:0.750\n",
      "Epoch:26/50 Training Error:0.580 Test Error:0.554\n",
      "Epoch:27/50 Training Error:0.878 Test Error:0.640\n",
      "Epoch:28/50 Training Error:0.536 Test Error:0.509\n",
      "Epoch:29/50 Training Error:0.768 Test Error:0.782\n",
      "Epoch:30/50 Training Error:0.641 Test Error:0.508\n",
      "Epoch:31/50 Training Error:0.883 Test Error:0.729\n",
      "Epoch:32/50 Training Error:0.572 Test Error:0.554\n",
      "Epoch:33/50 Training Error:0.670 Test Error:0.689\n",
      "Epoch:34/50 Training Error:0.823 Test Error:0.488\n",
      "Epoch:35/50 Training Error:0.558 Test Error:0.511\n",
      "Epoch:36/50 Training Error:0.628 Test Error:0.637\n",
      "Epoch:37/50 Training Error:0.615 Test Error:0.505\n",
      "Epoch:38/50 Training Error:0.546 Test Error:0.477\n",
      "Epoch:39/50 Training Error:0.580 Test Error:0.535\n",
      "Epoch:40/50 Training Error:0.691 Test Error:0.614\n",
      "Epoch:41/50 Training Error:0.740 Test Error:0.478\n",
      "Epoch:42/50 Training Error:0.583 Test Error:0.452\n",
      "Epoch:43/50 Training Error:0.666 Test Error:0.658\n",
      "Epoch:44/50 Training Error:0.606 Test Error:0.454\n",
      "Epoch:45/50 Training Error:0.556 Test Error:0.481\n",
      "Epoch:46/50 Training Error:0.615 Test Error:0.601\n",
      "Epoch:47/50 Training Error:0.583 Test Error:0.512\n",
      "Epoch:48/50 Training Error:0.551 Test Error:0.486\n",
      "Epoch:49/50 Training Error:0.513 Test Error:0.497\n",
      "Epoch:50/50 Training Error:0.552 Test Error:0.490\n",
      "--------------------------------\n",
      "FOLD 1\n",
      "--------------------------------\n",
      "Epoch:1/50 Training Error:666.248 Test Error:587.402\n",
      "Epoch:2/50 Training Error:870.868 Test Error:846.549\n",
      "Epoch:3/50 Training Error:323.747 Test Error:301.571\n",
      "Epoch:4/50 Training Error:60.138 Test Error:47.548\n",
      "Epoch:5/50 Training Error:6.553 Test Error:3.410\n",
      "Epoch:6/50 Training Error:0.909 Test Error:0.991\n",
      "Epoch:7/50 Training Error:0.989 Test Error:0.992\n",
      "Epoch:8/50 Training Error:0.987 Test Error:0.991\n",
      "Epoch:9/50 Training Error:0.988 Test Error:0.991\n",
      "Epoch:10/50 Training Error:0.987 Test Error:0.990\n",
      "Epoch:11/50 Training Error:0.985 Test Error:0.990\n",
      "Epoch:12/50 Training Error:0.984 Test Error:0.989\n",
      "Epoch:13/50 Training Error:0.983 Test Error:0.988\n",
      "Epoch:14/50 Training Error:0.981 Test Error:0.987\n",
      "Epoch:15/50 Training Error:0.980 Test Error:0.985\n",
      "Epoch:16/50 Training Error:0.977 Test Error:0.984\n",
      "Epoch:17/50 Training Error:0.974 Test Error:0.983\n",
      "Epoch:18/50 Training Error:0.974 Test Error:0.981\n",
      "Epoch:19/50 Training Error:0.972 Test Error:0.980\n",
      "Epoch:20/50 Training Error:0.970 Test Error:0.978\n",
      "Epoch:21/50 Training Error:0.968 Test Error:0.977\n",
      "Epoch:22/50 Training Error:0.964 Test Error:0.975\n",
      "Epoch:23/50 Training Error:0.963 Test Error:0.973\n",
      "Epoch:24/50 Training Error:0.960 Test Error:0.971\n",
      "Epoch:25/50 Training Error:0.959 Test Error:0.969\n",
      "Epoch:26/50 Training Error:0.954 Test Error:0.967\n",
      "Epoch:27/50 Training Error:0.948 Test Error:0.965\n",
      "Epoch:28/50 Training Error:0.948 Test Error:0.963\n",
      "Epoch:29/50 Training Error:0.943 Test Error:0.960\n",
      "Epoch:30/50 Training Error:0.941 Test Error:0.957\n",
      "Epoch:31/50 Training Error:0.935 Test Error:0.954\n",
      "Epoch:32/50 Training Error:0.932 Test Error:0.950\n",
      "Epoch:33/50 Training Error:0.912 Test Error:0.947\n",
      "Epoch:34/50 Training Error:0.915 Test Error:0.943\n",
      "Epoch:35/50 Training Error:0.916 Test Error:0.939\n",
      "Epoch:36/50 Training Error:0.911 Test Error:0.934\n",
      "Epoch:37/50 Training Error:0.902 Test Error:0.929\n",
      "Epoch:38/50 Training Error:0.891 Test Error:0.924\n",
      "Epoch:39/50 Training Error:0.884 Test Error:0.919\n",
      "Epoch:40/50 Training Error:0.875 Test Error:0.913\n",
      "Epoch:41/50 Training Error:0.866 Test Error:0.908\n",
      "Epoch:42/50 Training Error:0.854 Test Error:0.902\n",
      "Epoch:43/50 Training Error:0.863 Test Error:0.895\n",
      "Epoch:44/50 Training Error:0.830 Test Error:0.889\n",
      "Epoch:45/50 Training Error:0.838 Test Error:0.882\n",
      "Epoch:46/50 Training Error:0.831 Test Error:0.875\n",
      "Epoch:47/50 Training Error:0.801 Test Error:0.867\n",
      "Epoch:48/50 Training Error:0.816 Test Error:0.860\n",
      "Epoch:49/50 Training Error:0.789 Test Error:0.851\n",
      "Epoch:50/50 Training Error:0.786 Test Error:0.843\n",
      "--------------------------------\n",
      "FOLD 2\n",
      "--------------------------------\n",
      "Epoch:1/50 Training Error:978.936 Test Error:993.362\n",
      "Epoch:2/50 Training Error:1221.674 Test Error:1122.912\n",
      "Epoch:3/50 Training Error:202.961 Test Error:188.907\n",
      "Epoch:4/50 Training Error:473.279 Test Error:438.241\n",
      "Epoch:5/50 Training Error:257.077 Test Error:244.006\n",
      "Epoch:6/50 Training Error:55.543 Test Error:48.275\n",
      "Epoch:7/50 Training Error:4.581 Test Error:4.783\n",
      "Epoch:8/50 Training Error:5.109 Test Error:5.980\n",
      "Epoch:9/50 Training Error:9.075 Test Error:10.477\n",
      "Epoch:10/50 Training Error:11.767 Test Error:13.213\n",
      "Epoch:11/50 Training Error:10.828 Test Error:12.651\n",
      "Epoch:12/50 Training Error:11.838 Test Error:10.568\n",
      "Epoch:13/50 Training Error:9.009 Test Error:7.891\n",
      "Epoch:14/50 Training Error:7.937 Test Error:5.561\n",
      "Epoch:15/50 Training Error:3.173 Test Error:3.911\n",
      "Epoch:16/50 Training Error:2.559 Test Error:2.564\n",
      "Epoch:17/50 Training Error:1.651 Test Error:1.775\n",
      "Epoch:18/50 Training Error:1.280 Test Error:1.445\n",
      "Epoch:19/50 Training Error:1.057 Test Error:1.176\n",
      "Epoch:20/50 Training Error:1.126 Test Error:1.114\n",
      "Epoch:21/50 Training Error:0.897 Test Error:0.925\n",
      "Epoch:22/50 Training Error:0.837 Test Error:0.853\n",
      "Epoch:23/50 Training Error:0.791 Test Error:0.842\n",
      "Epoch:24/50 Training Error:0.781 Test Error:0.784\n",
      "Epoch:25/50 Training Error:0.769 Test Error:0.776\n",
      "Epoch:26/50 Training Error:0.766 Test Error:0.777\n",
      "Epoch:27/50 Training Error:0.759 Test Error:0.788\n",
      "Epoch:28/50 Training Error:0.766 Test Error:0.759\n",
      "Epoch:29/50 Training Error:0.756 Test Error:0.767\n",
      "Epoch:30/50 Training Error:0.771 Test Error:0.700\n",
      "Epoch:31/50 Training Error:0.752 Test Error:0.763\n",
      "Epoch:32/50 Training Error:0.723 Test Error:0.730\n",
      "Epoch:33/50 Training Error:0.739 Test Error:0.730\n",
      "Epoch:34/50 Training Error:0.707 Test Error:0.681\n",
      "Epoch:35/50 Training Error:0.714 Test Error:0.703\n",
      "Epoch:36/50 Training Error:0.713 Test Error:0.672\n",
      "Epoch:37/50 Training Error:0.692 Test Error:0.725\n",
      "Epoch:38/50 Training Error:0.670 Test Error:0.709\n",
      "Epoch:39/50 Training Error:0.705 Test Error:0.685\n",
      "Epoch:40/50 Training Error:0.720 Test Error:0.695\n",
      "Epoch:41/50 Training Error:0.698 Test Error:0.686\n",
      "Epoch:42/50 Training Error:0.711 Test Error:0.667\n",
      "Epoch:43/50 Training Error:0.679 Test Error:0.683\n",
      "Epoch:44/50 Training Error:0.690 Test Error:0.664\n",
      "Epoch:45/50 Training Error:0.668 Test Error:0.655\n",
      "Epoch:46/50 Training Error:0.682 Test Error:0.666\n",
      "Epoch:47/50 Training Error:0.670 Test Error:0.691\n",
      "Epoch:48/50 Training Error:0.668 Test Error:0.656\n",
      "Epoch:49/50 Training Error:0.690 Test Error:0.660\n",
      "Epoch:50/50 Training Error:0.661 Test Error:0.647\n",
      "--------------------------------\n",
      "FOLD 3\n",
      "--------------------------------\n",
      "Epoch:1/50 Training Error:2733.351 Test Error:2562.472\n",
      "Epoch:2/50 Training Error:1284.723 Test Error:1199.315\n",
      "Epoch:3/50 Training Error:277.005 Test Error:245.847\n",
      "Epoch:4/50 Training Error:57.734 Test Error:50.684\n",
      "Epoch:5/50 Training Error:14.400 Test Error:12.336\n",
      "Epoch:6/50 Training Error:4.579 Test Error:4.047\n",
      "Epoch:7/50 Training Error:0.879 Test Error:0.870\n"
     ]
    },
    {
     "name": "stdout",
     "output_type": "stream",
     "text": [
      "Epoch:8/50 Training Error:0.990 Test Error:0.988\n",
      "Epoch:9/50 Training Error:0.990 Test Error:0.988\n",
      "Epoch:10/50 Training Error:0.989 Test Error:0.988\n",
      "Epoch:11/50 Training Error:0.990 Test Error:0.987\n",
      "Epoch:12/50 Training Error:0.990 Test Error:0.987\n",
      "Epoch:13/50 Training Error:0.989 Test Error:0.986\n",
      "Epoch:14/50 Training Error:0.988 Test Error:0.985\n",
      "Epoch:15/50 Training Error:0.987 Test Error:0.984\n",
      "Epoch:16/50 Training Error:0.986 Test Error:0.982\n",
      "Epoch:17/50 Training Error:0.985 Test Error:0.981\n",
      "Epoch:18/50 Training Error:0.984 Test Error:0.979\n",
      "Epoch:19/50 Training Error:0.982 Test Error:0.978\n",
      "Epoch:20/50 Training Error:0.981 Test Error:0.976\n",
      "Epoch:21/50 Training Error:0.979 Test Error:0.974\n",
      "Epoch:22/50 Training Error:0.978 Test Error:0.973\n",
      "Epoch:23/50 Training Error:0.977 Test Error:0.971\n",
      "Epoch:24/50 Training Error:0.975 Test Error:0.969\n",
      "Epoch:25/50 Training Error:0.974 Test Error:0.967\n",
      "Epoch:26/50 Training Error:0.972 Test Error:0.965\n",
      "Epoch:27/50 Training Error:0.967 Test Error:0.964\n",
      "Epoch:28/50 Training Error:0.970 Test Error:0.962\n",
      "Epoch:29/50 Training Error:0.963 Test Error:0.960\n",
      "Epoch:30/50 Training Error:0.967 Test Error:0.958\n",
      "Epoch:31/50 Training Error:0.965 Test Error:0.957\n",
      "Epoch:32/50 Training Error:0.964 Test Error:0.955\n",
      "Epoch:33/50 Training Error:0.962 Test Error:0.953\n",
      "Epoch:34/50 Training Error:0.960 Test Error:0.951\n",
      "Epoch:35/50 Training Error:0.956 Test Error:0.950\n",
      "Epoch:36/50 Training Error:0.959 Test Error:0.948\n",
      "Epoch:37/50 Training Error:0.957 Test Error:0.946\n",
      "Epoch:38/50 Training Error:0.953 Test Error:0.945\n",
      "Epoch:39/50 Training Error:0.950 Test Error:0.943\n",
      "Epoch:40/50 Training Error:0.952 Test Error:0.941\n",
      "Epoch:41/50 Training Error:0.950 Test Error:0.940\n",
      "Epoch:42/50 Training Error:0.942 Test Error:0.938\n",
      "Epoch:43/50 Training Error:0.949 Test Error:0.936\n",
      "Epoch:44/50 Training Error:0.947 Test Error:0.934\n",
      "Epoch:45/50 Training Error:0.946 Test Error:0.933\n",
      "Epoch:46/50 Training Error:0.929 Test Error:0.931\n",
      "Epoch:47/50 Training Error:0.941 Test Error:0.929\n",
      "Epoch:48/50 Training Error:0.942 Test Error:0.928\n",
      "Epoch:49/50 Training Error:0.940 Test Error:0.926\n",
      "Epoch:50/50 Training Error:0.938 Test Error:0.924\n",
      "--------------------------------\n",
      "FOLD 4\n",
      "--------------------------------\n",
      "Epoch:1/50 Training Error:793.656 Test Error:622.428\n",
      "Epoch:2/50 Training Error:1338.749 Test Error:1128.782\n",
      "Epoch:3/50 Training Error:642.228 Test Error:483.238\n",
      "Epoch:4/50 Training Error:261.467 Test Error:267.626\n",
      "Epoch:5/50 Training Error:132.965 Test Error:139.772\n",
      "Epoch:6/50 Training Error:37.984 Test Error:30.694\n",
      "Epoch:7/50 Training Error:1.179 Test Error:0.902\n",
      "Epoch:8/50 Training Error:0.829 Test Error:0.815\n",
      "Epoch:9/50 Training Error:0.795 Test Error:0.787\n",
      "Epoch:10/50 Training Error:1.130 Test Error:1.048\n",
      "Epoch:11/50 Training Error:1.037 Test Error:1.040\n",
      "Epoch:12/50 Training Error:0.845 Test Error:0.909\n",
      "Epoch:13/50 Training Error:0.761 Test Error:0.757\n",
      "Epoch:14/50 Training Error:0.886 Test Error:0.872\n",
      "Epoch:15/50 Training Error:0.954 Test Error:0.941\n",
      "Epoch:16/50 Training Error:0.814 Test Error:0.781\n",
      "Epoch:17/50 Training Error:0.714 Test Error:0.720\n",
      "Epoch:18/50 Training Error:1.010 Test Error:0.838\n",
      "Epoch:19/50 Training Error:0.885 Test Error:0.900\n",
      "Epoch:20/50 Training Error:0.766 Test Error:0.750\n",
      "Epoch:21/50 Training Error:0.871 Test Error:0.833\n",
      "Epoch:22/50 Training Error:0.844 Test Error:0.798\n",
      "Epoch:23/50 Training Error:0.765 Test Error:0.707\n",
      "Epoch:24/50 Training Error:0.838 Test Error:0.754\n",
      "Epoch:25/50 Training Error:0.691 Test Error:0.666\n",
      "Epoch:26/50 Training Error:0.719 Test Error:0.680\n",
      "Epoch:27/50 Training Error:0.769 Test Error:0.690\n",
      "Epoch:28/50 Training Error:0.641 Test Error:0.654\n",
      "Epoch:29/50 Training Error:0.623 Test Error:0.655\n",
      "Epoch:30/50 Training Error:0.661 Test Error:0.649\n",
      "Epoch:31/50 Training Error:0.702 Test Error:0.649\n",
      "Epoch:32/50 Training Error:0.672 Test Error:0.656\n",
      "Epoch:33/50 Training Error:0.808 Test Error:0.638\n",
      "Epoch:34/50 Training Error:0.642 Test Error:0.639\n",
      "Epoch:35/50 Training Error:0.660 Test Error:0.635\n",
      "Epoch:36/50 Training Error:0.663 Test Error:0.651\n",
      "Epoch:37/50 Training Error:0.641 Test Error:0.644\n",
      "Epoch:38/50 Training Error:0.673 Test Error:0.633\n",
      "Epoch:39/50 Training Error:0.778 Test Error:0.632\n",
      "Epoch:40/50 Training Error:0.646 Test Error:0.637\n",
      "Epoch:41/50 Training Error:0.683 Test Error:0.630\n",
      "Epoch:42/50 Training Error:0.635 Test Error:0.629\n",
      "Epoch:43/50 Training Error:0.667 Test Error:0.626\n",
      "Epoch:44/50 Training Error:0.620 Test Error:0.636\n",
      "Epoch:45/50 Training Error:0.628 Test Error:0.630\n",
      "Epoch:46/50 Training Error:0.631 Test Error:0.630\n",
      "Epoch:47/50 Training Error:0.637 Test Error:0.624\n",
      "Epoch:48/50 Training Error:0.660 Test Error:0.624\n",
      "Epoch:49/50 Training Error:0.664 Test Error:0.638\n",
      "Epoch:50/50 Training Error:0.685 Test Error:0.622\n",
      "Performance of 5 fold cross validation: \n",
      "Average Training Error: 57.909 \t Average Test Error: 52.860\n"
     ]
    },
    {
     "data": {
      "image/png": "[encoded data removed]",
      "text/plain": [
       "<Figure size 720x576 with 1 Axes>"
      ]
     },
     "metadata": {
      "needs_background": "light"
     },
     "output_type": "display_data"
    },
    {
     "data": {
      "text/plain": [
       "52.86019436497505"
      ]
     },
     "execution_count": 23,
     "metadata": {},
     "output_type": "execute_result"
    }
   ],
   "source": [
    "Kfold(flattened_array, k_folds, input_size, epochs, criterion, learningRate)"
   ]
  },
  {
   "cell_type": "code",
   "execution_count": 48,
   "metadata": {},
   "outputs": [],
   "source": [
    "np.save(\"flattened_array_train.npy\", flattened_array_train)\n",
    "np.save(\"flattened_array_test.npy\", flattened_array_test)"
   ]
  },
  {
   "cell_type": "code",
   "execution_count": 64,
   "metadata": {},
   "outputs": [
    {
     "data": {
      "text/plain": [
       "array([[5.79374944e-02, 1.61304883e-02, 5.27979201e-02, ...,\n",
       "        2.98580413e+00, 4.37942717e-01, 4.43880082e-01],\n",
       "       [8.80562527e-02, 1.32214595e-02, 8.39758116e-02, ...,\n",
       "        3.65340704e+00, 6.00585421e-01, 6.54305037e-01],\n",
       "       [1.36961365e-01, 2.46560219e-02, 1.39393686e-01, ...,\n",
       "        2.93035498e+00, 3.52908163e-01, 1.08243822e+00],\n",
       "       ...,\n",
       "       [1.99450061e-01, 2.49426895e-02, 1.53457337e-01, ...,\n",
       "        1.39288807e+01, 2.20450871e-01, 1.99714008e+00],\n",
       "       [8.25671280e-02, 2.32952726e-02, 6.87771891e-02, ...,\n",
       "        4.44640887e+00, 2.10600093e-01, 1.00067820e+00],\n",
       "       [1.72451476e-01, 2.55041098e-02, 1.55721933e-01, ...,\n",
       "        1.01351448e+01, 2.53001035e-01, 6.69328491e-01]])"
      ]
     },
     "execution_count": 64,
     "metadata": {},
     "output_type": "execute_result"
    }
   ],
   "source": [
    "flattened_array_train"
   ]
  },
  {
   "cell_type": "code",
   "execution_count": 68,
   "metadata": {},
   "outputs": [
    {
     "data": {
      "text/plain": [
       "array([[5.79374944e-02, 1.61304883e-02, 5.27979201e-02, ...,\n",
       "        2.98580413e+00, 4.37942717e-01, 4.43880082e-01],\n",
       "       [8.80562527e-02, 1.32214595e-02, 8.39758116e-02, ...,\n",
       "        3.65340704e+00, 6.00585421e-01, 6.54305037e-01],\n",
       "       [1.36961365e-01, 2.46560219e-02, 1.39393686e-01, ...,\n",
       "        2.93035498e+00, 3.52908163e-01, 1.08243822e+00],\n",
       "       ...,\n",
       "       [1.99450061e-01, 2.49426895e-02, 1.53457337e-01, ...,\n",
       "        1.39288807e+01, 2.20450871e-01, 1.99714008e+00],\n",
       "       [8.25671280e-02, 2.32952726e-02, 6.87771891e-02, ...,\n",
       "        4.44640887e+00, 2.10600093e-01, 1.00067820e+00],\n",
       "       [1.72451476e-01, 2.55041098e-02, 1.55721933e-01, ...,\n",
       "        1.01351448e+01, 2.53001035e-01, 6.69328491e-01]])"
      ]
     },
     "execution_count": 68,
     "metadata": {},
     "output_type": "execute_result"
    }
   ],
   "source": [
    "flattened_array_train = np.load(\"flattened_array_train.npy\")\n",
    "flattened_array_train"
   ]
  },
  {
   "cell_type": "code",
   "execution_count": 80,
   "metadata": {},
   "outputs": [
    {
     "data": {
      "text/html": [
       "== Status ==<br>Current time: 2021-12-05 15:54:49 (running for 00:00:00.13)<br>Memory usage on this node: 5.7/8.0 GiB<br>Using FIFO scheduling algorithm.<br>Resources requested: 0/4 CPUs, 0/0 GPUs, 0.0/2.35 GiB heap, 0.0/1.17 GiB objects<br>Result logdir: /Users/assiaouanaya/ray_results/tuning_2021-12-05_15-54-49<br>Number of trials: 1/1 (1 PENDING)<br><table>\n",
       "<thead>\n",
       "<tr><th>Trial name        </th><th>status  </th><th>loc  </th><th style=\"text-align: right;\">  epochs</th><th style=\"text-align: right;\">         lr</th></tr>\n",
       "</thead>\n",
       "<tbody>\n",
       "<tr><td>tuning_4b491_00000</td><td>PENDING </td><td>     </td><td style=\"text-align: right;\"> 7.25344</td><td style=\"text-align: right;\">2.25279e-09</td></tr>\n",
       "</tbody>\n",
       "</table><br><br>"
      ],
      "text/plain": [
       "<IPython.core.display.HTML object>"
      ]
     },
     "metadata": {},
     "output_type": "display_data"
    },
    {
     "data": {
      "text/html": [
       "== Status ==<br>Current time: 2021-12-05 15:54:57 (running for 00:00:08.58)<br>Memory usage on this node: 5.7/8.0 GiB<br>Using FIFO scheduling algorithm.<br>Resources requested: 1.0/4 CPUs, 0/0 GPUs, 0.0/2.35 GiB heap, 0.0/1.17 GiB objects<br>Result logdir: /Users/assiaouanaya/ray_results/tuning_2021-12-05_15-54-49<br>Number of trials: 1/1 (1 RUNNING)<br><table>\n",
       "<thead>\n",
       "<tr><th>Trial name        </th><th>status  </th><th>loc            </th><th style=\"text-align: right;\">  epochs</th><th style=\"text-align: right;\">         lr</th></tr>\n",
       "</thead>\n",
       "<tbody>\n",
       "<tr><td>tuning_4b491_00000</td><td>RUNNING </td><td>127.0.0.1:44837</td><td style=\"text-align: right;\"> 7.25344</td><td style=\"text-align: right;\">2.25279e-09</td></tr>\n",
       "</tbody>\n",
       "</table><br><br>"
      ],
      "text/plain": [
       "<IPython.core.display.HTML object>"
      ]
     },
     "metadata": {},
     "output_type": "display_data"
    },
    {
     "name": "stderr",
     "output_type": "stream",
     "text": [
      "\u001b[2m\u001b[36m(ImplicitFunc pid=44837)\u001b[0m 2021-12-05 15:54:57,678\tERROR function_runner.py:268 -- Runner Thread raised error.\n",
      "\u001b[2m\u001b[36m(ImplicitFunc pid=44837)\u001b[0m Traceback (most recent call last):\n",
      "\u001b[2m\u001b[36m(ImplicitFunc pid=44837)\u001b[0m   File \"/Users/assiaouanaya/opt/anaconda3/envs/ada/lib/python3.8/site-packages/ray/tune/function_runner.py\", line 262, in run\n",
      "\u001b[2m\u001b[36m(ImplicitFunc pid=44837)\u001b[0m     self._entrypoint()\n",
      "\u001b[2m\u001b[36m(ImplicitFunc pid=44837)\u001b[0m   File \"/Users/assiaouanaya/opt/anaconda3/envs/ada/lib/python3.8/site-packages/ray/tune/function_runner.py\", line 330, in entrypoint\n",
      "\u001b[2m\u001b[36m(ImplicitFunc pid=44837)\u001b[0m     return self._trainable_func(self.config, self._status_reporter,\n",
      "\u001b[2m\u001b[36m(ImplicitFunc pid=44837)\u001b[0m   File \"/Users/assiaouanaya/opt/anaconda3/envs/ada/lib/python3.8/site-packages/ray/util/tracing/tracing_helper.py\", line 451, in _resume_span\n",
      "\u001b[2m\u001b[36m(ImplicitFunc pid=44837)\u001b[0m     return method(self, *_args, **_kwargs)\n",
      "\u001b[2m\u001b[36m(ImplicitFunc pid=44837)\u001b[0m   File \"/Users/assiaouanaya/opt/anaconda3/envs/ada/lib/python3.8/site-packages/ray/tune/function_runner.py\", line 597, in _trainable_func\n",
      "\u001b[2m\u001b[36m(ImplicitFunc pid=44837)\u001b[0m     output = fn()\n",
      "\u001b[2m\u001b[36m(ImplicitFunc pid=44837)\u001b[0m   File \"/Users/assiaouanaya/ml-project-2-thevipers2/crossvalidation.py\", line 219, in tuning\n",
      "\u001b[2m\u001b[36m(ImplicitFunc pid=44837)\u001b[0m     datasets(\n",
      "\u001b[2m\u001b[36m(ImplicitFunc pid=44837)\u001b[0m TypeError: 'module' object is not callable\n",
      "\u001b[2m\u001b[36m(ImplicitFunc pid=44837)\u001b[0m Exception in thread Thread-2:\n",
      "\u001b[2m\u001b[36m(ImplicitFunc pid=44837)\u001b[0m Traceback (most recent call last):\n",
      "\u001b[2m\u001b[36m(ImplicitFunc pid=44837)\u001b[0m   File \"/Users/assiaouanaya/opt/anaconda3/envs/ada/lib/python3.8/threading.py\", line 932, in _bootstrap_inner\n",
      "\u001b[2m\u001b[36m(ImplicitFunc pid=44837)\u001b[0m     self.run()\n",
      "\u001b[2m\u001b[36m(ImplicitFunc pid=44837)\u001b[0m   File \"/Users/assiaouanaya/opt/anaconda3/envs/ada/lib/python3.8/site-packages/ray/tune/function_runner.py\", line 281, in run\n",
      "\u001b[2m\u001b[36m(ImplicitFunc pid=44837)\u001b[0m     raise e\n",
      "\u001b[2m\u001b[36m(ImplicitFunc pid=44837)\u001b[0m   File \"/Users/assiaouanaya/opt/anaconda3/envs/ada/lib/python3.8/site-packages/ray/tune/function_runner.py\", line 262, in run\n",
      "\u001b[2m\u001b[36m(ImplicitFunc pid=44837)\u001b[0m     self._entrypoint()\n",
      "\u001b[2m\u001b[36m(ImplicitFunc pid=44837)\u001b[0m   File \"/Users/assiaouanaya/opt/anaconda3/envs/ada/lib/python3.8/site-packages/ray/tune/function_runner.py\", line 330, in entrypoint\n",
      "\u001b[2m\u001b[36m(ImplicitFunc pid=44837)\u001b[0m     return self._trainable_func(self.config, self._status_reporter,\n",
      "\u001b[2m\u001b[36m(ImplicitFunc pid=44837)\u001b[0m   File \"/Users/assiaouanaya/opt/anaconda3/envs/ada/lib/python3.8/site-packages/ray/util/tracing/tracing_helper.py\", line 451, in _resume_span\n",
      "\u001b[2m\u001b[36m(ImplicitFunc pid=44837)\u001b[0m     return method(self, *_args, **_kwargs)\n",
      "\u001b[2m\u001b[36m(ImplicitFunc pid=44837)\u001b[0m   File \"/Users/assiaouanaya/opt/anaconda3/envs/ada/lib/python3.8/site-packages/ray/tune/function_runner.py\", line 597, in _trainable_func\n",
      "\u001b[2m\u001b[36m(ImplicitFunc pid=44837)\u001b[0m     output = fn()\n",
      "\u001b[2m\u001b[36m(ImplicitFunc pid=44837)\u001b[0m   File \"/Users/assiaouanaya/ml-project-2-thevipers2/crossvalidation.py\", line 219, in tuning\n",
      "\u001b[2m\u001b[36m(ImplicitFunc pid=44837)\u001b[0m     datasets(\n",
      "\u001b[2m\u001b[36m(ImplicitFunc pid=44837)\u001b[0m TypeError: 'module' object is not callable\n",
      "2021-12-05 15:54:57,889\tERROR trial_runner.py:955 -- Trial tuning_4b491_00000: Error processing event.\n"
     ]
    },
    {
     "ename": "RayTaskError(TuneError)",
     "evalue": "\u001b[36mray::ImplicitFunc.train_buffered()\u001b[39m (pid=44837, ip=127.0.0.1, repr=<types.ImplicitFunc object at 0x7fa7cb3e66a0>)\n  File \"/Users/assiaouanaya/opt/anaconda3/envs/ada/lib/python3.8/site-packages/ray/tune/trainable.py\", line 255, in train_buffered\n    result = self.train()\n  File \"/Users/assiaouanaya/opt/anaconda3/envs/ada/lib/python3.8/site-packages/ray/tune/trainable.py\", line 314, in train\n    result = self.step()\n  File \"/Users/assiaouanaya/opt/anaconda3/envs/ada/lib/python3.8/site-packages/ray/tune/function_runner.py\", line 381, in step\n    self._report_thread_runner_error(block=True)\n  File \"/Users/assiaouanaya/opt/anaconda3/envs/ada/lib/python3.8/site-packages/ray/tune/function_runner.py\", line 531, in _report_thread_runner_error\n    raise TuneError(\nray.tune.error.TuneError: Trial raised an exception. Traceback:\n\u001b[36mray::ImplicitFunc.train_buffered()\u001b[39m (pid=44837, ip=127.0.0.1, repr=<types.ImplicitFunc object at 0x7fa7cb3e66a0>)\n  File \"/Users/assiaouanaya/opt/anaconda3/envs/ada/lib/python3.8/site-packages/ray/tune/function_runner.py\", line 262, in run\n    self._entrypoint()\n  File \"/Users/assiaouanaya/opt/anaconda3/envs/ada/lib/python3.8/site-packages/ray/tune/function_runner.py\", line 330, in entrypoint\n    return self._trainable_func(self.config, self._status_reporter,\n  File \"/Users/assiaouanaya/opt/anaconda3/envs/ada/lib/python3.8/site-packages/ray/tune/function_runner.py\", line 597, in _trainable_func\n    output = fn()\n  File \"/Users/assiaouanaya/ml-project-2-thevipers2/crossvalidation.py\", line 219, in tuning\n    datasets(\nTypeError: 'module' object is not callable",
     "output_type": "error",
     "traceback": [
      "\u001b[0;31m---------------------------------------------------------------------------\u001b[0m",
      "\u001b[0;31mRayTaskError(TuneError)\u001b[0m                   Traceback (most recent call last)",
      "\u001b[0;32m/var/folders/ls/v46b_70d2fv4_19mn0f_4ht80000gn/T/ipykernel_43137/1694345351.py\u001b[0m in \u001b[0;36m<module>\u001b[0;34m\u001b[0m\n\u001b[1;32m     17\u001b[0m \u001b[0;34m\u001b[0m\u001b[0m\n\u001b[1;32m     18\u001b[0m \u001b[0;31m# Download the dataset first\u001b[0m\u001b[0;34m\u001b[0m\u001b[0;34m\u001b[0m\u001b[0;34m\u001b[0m\u001b[0m\n\u001b[0;32m---> 19\u001b[0;31m \u001b[0manalysis\u001b[0m \u001b[0;34m=\u001b[0m \u001b[0mtune\u001b[0m\u001b[0;34m.\u001b[0m\u001b[0mrun\u001b[0m\u001b[0;34m(\u001b[0m\u001b[0mtuning\u001b[0m\u001b[0;34m,\u001b[0m \u001b[0mconfig\u001b[0m\u001b[0;34m=\u001b[0m\u001b[0msearch_space\u001b[0m\u001b[0;34m,\u001b[0m \u001b[0mfail_fast\u001b[0m\u001b[0;34m=\u001b[0m\u001b[0;34m\"raise\"\u001b[0m\u001b[0;34m,\u001b[0m \u001b[0mstop\u001b[0m\u001b[0;34m=\u001b[0m\u001b[0;34m{\u001b[0m\u001b[0;34m\"training_iteration\"\u001b[0m\u001b[0;34m:\u001b[0m \u001b[0;36m10\u001b[0m\u001b[0;34m}\u001b[0m\u001b[0;34m)\u001b[0m\u001b[0;34m\u001b[0m\u001b[0;34m\u001b[0m\u001b[0m\n\u001b[0m\u001b[1;32m     20\u001b[0m \u001b[0;34m\u001b[0m\u001b[0m\n\u001b[1;32m     21\u001b[0m \u001b[0;31m# Obtain a trial dataframe from all run trials of this `tune.run` call.\u001b[0m\u001b[0;34m\u001b[0m\u001b[0;34m\u001b[0m\u001b[0;34m\u001b[0m\u001b[0m\n",
      "\u001b[0;32m~/opt/anaconda3/envs/ada/lib/python3.8/site-packages/ray/tune/tune.py\u001b[0m in \u001b[0;36mrun\u001b[0;34m(run_or_experiment, name, metric, mode, stop, time_budget_s, config, resources_per_trial, num_samples, local_dir, search_alg, scheduler, keep_checkpoints_num, checkpoint_score_attr, checkpoint_freq, checkpoint_at_end, verbose, progress_reporter, log_to_file, trial_name_creator, trial_dirname_creator, sync_config, export_formats, max_failures, fail_fast, restore, server_port, resume, reuse_actors, trial_executor, raise_on_failed_trial, callbacks, max_concurrent_trials, queue_trials, loggers, _remote)\u001b[0m\n\u001b[1;32m    595\u001b[0m     \u001b[0mprogress_reporter\u001b[0m\u001b[0;34m.\u001b[0m\u001b[0mset_start_time\u001b[0m\u001b[0;34m(\u001b[0m\u001b[0mtune_start\u001b[0m\u001b[0;34m)\u001b[0m\u001b[0;34m\u001b[0m\u001b[0;34m\u001b[0m\u001b[0m\n\u001b[1;32m    596\u001b[0m     \u001b[0;32mwhile\u001b[0m \u001b[0;32mnot\u001b[0m \u001b[0mrunner\u001b[0m\u001b[0;34m.\u001b[0m\u001b[0mis_finished\u001b[0m\u001b[0;34m(\u001b[0m\u001b[0;34m)\u001b[0m \u001b[0;32mand\u001b[0m \u001b[0;32mnot\u001b[0m \u001b[0mstate\u001b[0m\u001b[0;34m[\u001b[0m\u001b[0msignal\u001b[0m\u001b[0;34m.\u001b[0m\u001b[0mSIGINT\u001b[0m\u001b[0;34m]\u001b[0m\u001b[0;34m:\u001b[0m\u001b[0;34m\u001b[0m\u001b[0;34m\u001b[0m\u001b[0m\n\u001b[0;32m--> 597\u001b[0;31m         \u001b[0mrunner\u001b[0m\u001b[0;34m.\u001b[0m\u001b[0mstep\u001b[0m\u001b[0;34m(\u001b[0m\u001b[0;34m)\u001b[0m\u001b[0;34m\u001b[0m\u001b[0;34m\u001b[0m\u001b[0m\n\u001b[0m\u001b[1;32m    598\u001b[0m         \u001b[0;32mif\u001b[0m \u001b[0mhas_verbosity\u001b[0m\u001b[0;34m(\u001b[0m\u001b[0mVerbosity\u001b[0m\u001b[0;34m.\u001b[0m\u001b[0mV1_EXPERIMENT\u001b[0m\u001b[0;34m)\u001b[0m\u001b[0;34m:\u001b[0m\u001b[0;34m\u001b[0m\u001b[0;34m\u001b[0m\u001b[0m\n\u001b[1;32m    599\u001b[0m             \u001b[0m_report_progress\u001b[0m\u001b[0;34m(\u001b[0m\u001b[0mrunner\u001b[0m\u001b[0;34m,\u001b[0m \u001b[0mprogress_reporter\u001b[0m\u001b[0;34m)\u001b[0m\u001b[0;34m\u001b[0m\u001b[0;34m\u001b[0m\u001b[0m\n",
      "\u001b[0;32m~/opt/anaconda3/envs/ada/lib/python3.8/site-packages/ray/tune/trial_runner.py\u001b[0m in \u001b[0;36mstep\u001b[0;34m(self)\u001b[0m\n\u001b[1;32m    737\u001b[0m                 \u001b[0;32mif\u001b[0m \u001b[0mself\u001b[0m\u001b[0;34m.\u001b[0m\u001b[0mtrial_executor\u001b[0m\u001b[0;34m.\u001b[0m\u001b[0min_staging_grace_period\u001b[0m\u001b[0;34m(\u001b[0m\u001b[0;34m)\u001b[0m\u001b[0;34m:\u001b[0m\u001b[0;34m\u001b[0m\u001b[0;34m\u001b[0m\u001b[0m\n\u001b[1;32m    738\u001b[0m                     \u001b[0mtimeout\u001b[0m \u001b[0;34m=\u001b[0m \u001b[0;36m0.1\u001b[0m\u001b[0;34m\u001b[0m\u001b[0;34m\u001b[0m\u001b[0m\n\u001b[0;32m--> 739\u001b[0;31m                 \u001b[0mself\u001b[0m\u001b[0;34m.\u001b[0m\u001b[0m_process_events\u001b[0m\u001b[0;34m(\u001b[0m\u001b[0mtimeout\u001b[0m\u001b[0;34m=\u001b[0m\u001b[0mtimeout\u001b[0m\u001b[0;34m)\u001b[0m\u001b[0;34m\u001b[0m\u001b[0;34m\u001b[0m\u001b[0m\n\u001b[0m\u001b[1;32m    740\u001b[0m             \u001b[0;32melse\u001b[0m\u001b[0;34m:\u001b[0m\u001b[0;34m\u001b[0m\u001b[0;34m\u001b[0m\u001b[0m\n\u001b[1;32m    741\u001b[0m                 \u001b[0mself\u001b[0m\u001b[0;34m.\u001b[0m\u001b[0m_run_and_catch\u001b[0m\u001b[0;34m(\u001b[0m\u001b[0mself\u001b[0m\u001b[0;34m.\u001b[0m\u001b[0mtrial_executor\u001b[0m\u001b[0;34m.\u001b[0m\u001b[0mon_no_available_trials\u001b[0m\u001b[0;34m)\u001b[0m\u001b[0;34m\u001b[0m\u001b[0;34m\u001b[0m\u001b[0m\n",
      "\u001b[0;32m~/opt/anaconda3/envs/ada/lib/python3.8/site-packages/ray/tune/trial_runner.py\u001b[0m in \u001b[0;36m_process_events\u001b[0;34m(self, timeout)\u001b[0m\n\u001b[1;32m    895\u001b[0m             \u001b[0;32melse\u001b[0m\u001b[0;34m:\u001b[0m\u001b[0;34m\u001b[0m\u001b[0;34m\u001b[0m\u001b[0m\n\u001b[1;32m    896\u001b[0m                 \u001b[0;32mwith\u001b[0m \u001b[0mwarn_if_slow\u001b[0m\u001b[0;34m(\u001b[0m\u001b[0;34m\"process_trial\"\u001b[0m\u001b[0;34m)\u001b[0m\u001b[0;34m:\u001b[0m\u001b[0;34m\u001b[0m\u001b[0;34m\u001b[0m\u001b[0m\n\u001b[0;32m--> 897\u001b[0;31m                     \u001b[0mself\u001b[0m\u001b[0;34m.\u001b[0m\u001b[0m_process_trial\u001b[0m\u001b[0;34m(\u001b[0m\u001b[0mtrial\u001b[0m\u001b[0;34m)\u001b[0m\u001b[0;34m\u001b[0m\u001b[0;34m\u001b[0m\u001b[0m\n\u001b[0m\u001b[1;32m    898\u001b[0m \u001b[0;34m\u001b[0m\u001b[0m\n\u001b[1;32m    899\u001b[0m             \u001b[0;31m# `self._queued_trial_decisions` now contains a final decision\u001b[0m\u001b[0;34m\u001b[0m\u001b[0;34m\u001b[0m\u001b[0;34m\u001b[0m\u001b[0m\n",
      "\u001b[0;32m~/opt/anaconda3/envs/ada/lib/python3.8/site-packages/ray/tune/trial_runner.py\u001b[0m in \u001b[0;36m_process_trial\u001b[0;34m(self, trial)\u001b[0m\n\u001b[1;32m    922\u001b[0m         \"\"\"\n\u001b[1;32m    923\u001b[0m         \u001b[0;32mtry\u001b[0m\u001b[0;34m:\u001b[0m\u001b[0;34m\u001b[0m\u001b[0;34m\u001b[0m\u001b[0m\n\u001b[0;32m--> 924\u001b[0;31m             \u001b[0mresults\u001b[0m \u001b[0;34m=\u001b[0m \u001b[0mself\u001b[0m\u001b[0;34m.\u001b[0m\u001b[0mtrial_executor\u001b[0m\u001b[0;34m.\u001b[0m\u001b[0mfetch_result\u001b[0m\u001b[0;34m(\u001b[0m\u001b[0mtrial\u001b[0m\u001b[0;34m)\u001b[0m\u001b[0;34m\u001b[0m\u001b[0;34m\u001b[0m\u001b[0m\n\u001b[0m\u001b[1;32m    925\u001b[0m             with warn_if_slow(\n\u001b[1;32m    926\u001b[0m                     \u001b[0;34m\"process_trial_results\"\u001b[0m\u001b[0;34m,\u001b[0m\u001b[0;34m\u001b[0m\u001b[0;34m\u001b[0m\u001b[0m\n",
      "\u001b[0;32m~/opt/anaconda3/envs/ada/lib/python3.8/site-packages/ray/tune/ray_trial_executor.py\u001b[0m in \u001b[0;36mfetch_result\u001b[0;34m(self, trial)\u001b[0m\n\u001b[1;32m    785\u001b[0m         \u001b[0mself\u001b[0m\u001b[0;34m.\u001b[0m\u001b[0m_running\u001b[0m\u001b[0;34m.\u001b[0m\u001b[0mpop\u001b[0m\u001b[0;34m(\u001b[0m\u001b[0mtrial_future\u001b[0m\u001b[0;34m[\u001b[0m\u001b[0;36m0\u001b[0m\u001b[0;34m]\u001b[0m\u001b[0;34m)\u001b[0m\u001b[0;34m\u001b[0m\u001b[0;34m\u001b[0m\u001b[0m\n\u001b[1;32m    786\u001b[0m         \u001b[0;32mwith\u001b[0m \u001b[0mwarn_if_slow\u001b[0m\u001b[0;34m(\u001b[0m\u001b[0;34m\"fetch_result\"\u001b[0m\u001b[0;34m)\u001b[0m\u001b[0;34m:\u001b[0m\u001b[0;34m\u001b[0m\u001b[0;34m\u001b[0m\u001b[0m\n\u001b[0;32m--> 787\u001b[0;31m             \u001b[0mresult\u001b[0m \u001b[0;34m=\u001b[0m \u001b[0mray\u001b[0m\u001b[0;34m.\u001b[0m\u001b[0mget\u001b[0m\u001b[0;34m(\u001b[0m\u001b[0mtrial_future\u001b[0m\u001b[0;34m[\u001b[0m\u001b[0;36m0\u001b[0m\u001b[0;34m]\u001b[0m\u001b[0;34m,\u001b[0m \u001b[0mtimeout\u001b[0m\u001b[0;34m=\u001b[0m\u001b[0mDEFAULT_GET_TIMEOUT\u001b[0m\u001b[0;34m)\u001b[0m\u001b[0;34m\u001b[0m\u001b[0;34m\u001b[0m\u001b[0m\n\u001b[0m\u001b[1;32m    788\u001b[0m \u001b[0;34m\u001b[0m\u001b[0m\n\u001b[1;32m    789\u001b[0m         \u001b[0;31m# For local mode\u001b[0m\u001b[0;34m\u001b[0m\u001b[0;34m\u001b[0m\u001b[0;34m\u001b[0m\u001b[0m\n",
      "\u001b[0;32m~/opt/anaconda3/envs/ada/lib/python3.8/site-packages/ray/_private/client_mode_hook.py\u001b[0m in \u001b[0;36mwrapper\u001b[0;34m(*args, **kwargs)\u001b[0m\n\u001b[1;32m    103\u001b[0m             \u001b[0;32mif\u001b[0m \u001b[0mfunc\u001b[0m\u001b[0;34m.\u001b[0m\u001b[0m__name__\u001b[0m \u001b[0;34m!=\u001b[0m \u001b[0;34m\"init\"\u001b[0m \u001b[0;32mor\u001b[0m \u001b[0mis_client_mode_enabled_by_default\u001b[0m\u001b[0;34m:\u001b[0m\u001b[0;34m\u001b[0m\u001b[0;34m\u001b[0m\u001b[0m\n\u001b[1;32m    104\u001b[0m                 \u001b[0;32mreturn\u001b[0m \u001b[0mgetattr\u001b[0m\u001b[0;34m(\u001b[0m\u001b[0mray\u001b[0m\u001b[0;34m,\u001b[0m \u001b[0mfunc\u001b[0m\u001b[0;34m.\u001b[0m\u001b[0m__name__\u001b[0m\u001b[0;34m)\u001b[0m\u001b[0;34m(\u001b[0m\u001b[0;34m*\u001b[0m\u001b[0margs\u001b[0m\u001b[0;34m,\u001b[0m \u001b[0;34m**\u001b[0m\u001b[0mkwargs\u001b[0m\u001b[0;34m)\u001b[0m\u001b[0;34m\u001b[0m\u001b[0;34m\u001b[0m\u001b[0m\n\u001b[0;32m--> 105\u001b[0;31m         \u001b[0;32mreturn\u001b[0m \u001b[0mfunc\u001b[0m\u001b[0;34m(\u001b[0m\u001b[0;34m*\u001b[0m\u001b[0margs\u001b[0m\u001b[0;34m,\u001b[0m \u001b[0;34m**\u001b[0m\u001b[0mkwargs\u001b[0m\u001b[0;34m)\u001b[0m\u001b[0;34m\u001b[0m\u001b[0;34m\u001b[0m\u001b[0m\n\u001b[0m\u001b[1;32m    106\u001b[0m \u001b[0;34m\u001b[0m\u001b[0m\n\u001b[1;32m    107\u001b[0m     \u001b[0;32mreturn\u001b[0m \u001b[0mwrapper\u001b[0m\u001b[0;34m\u001b[0m\u001b[0;34m\u001b[0m\u001b[0m\n",
      "\u001b[0;32m~/opt/anaconda3/envs/ada/lib/python3.8/site-packages/ray/worker.py\u001b[0m in \u001b[0;36mget\u001b[0;34m(object_refs, timeout)\u001b[0m\n\u001b[1;32m   1711\u001b[0m                     \u001b[0mworker\u001b[0m\u001b[0;34m.\u001b[0m\u001b[0mcore_worker\u001b[0m\u001b[0;34m.\u001b[0m\u001b[0mdump_object_store_memory_usage\u001b[0m\u001b[0;34m(\u001b[0m\u001b[0;34m)\u001b[0m\u001b[0;34m\u001b[0m\u001b[0;34m\u001b[0m\u001b[0m\n\u001b[1;32m   1712\u001b[0m                 \u001b[0;32mif\u001b[0m \u001b[0misinstance\u001b[0m\u001b[0;34m(\u001b[0m\u001b[0mvalue\u001b[0m\u001b[0;34m,\u001b[0m \u001b[0mRayTaskError\u001b[0m\u001b[0;34m)\u001b[0m\u001b[0;34m:\u001b[0m\u001b[0;34m\u001b[0m\u001b[0;34m\u001b[0m\u001b[0m\n\u001b[0;32m-> 1713\u001b[0;31m                     \u001b[0;32mraise\u001b[0m \u001b[0mvalue\u001b[0m\u001b[0;34m.\u001b[0m\u001b[0mas_instanceof_cause\u001b[0m\u001b[0;34m(\u001b[0m\u001b[0;34m)\u001b[0m\u001b[0;34m\u001b[0m\u001b[0;34m\u001b[0m\u001b[0m\n\u001b[0m\u001b[1;32m   1714\u001b[0m                 \u001b[0;32melse\u001b[0m\u001b[0;34m:\u001b[0m\u001b[0;34m\u001b[0m\u001b[0;34m\u001b[0m\u001b[0m\n\u001b[1;32m   1715\u001b[0m                     \u001b[0;32mraise\u001b[0m \u001b[0mvalue\u001b[0m\u001b[0;34m\u001b[0m\u001b[0;34m\u001b[0m\u001b[0m\n",
      "\u001b[0;31mRayTaskError(TuneError)\u001b[0m: \u001b[36mray::ImplicitFunc.train_buffered()\u001b[39m (pid=44837, ip=127.0.0.1, repr=<types.ImplicitFunc object at 0x7fa7cb3e66a0>)\n  File \"/Users/assiaouanaya/opt/anaconda3/envs/ada/lib/python3.8/site-packages/ray/tune/trainable.py\", line 255, in train_buffered\n    result = self.train()\n  File \"/Users/assiaouanaya/opt/anaconda3/envs/ada/lib/python3.8/site-packages/ray/tune/trainable.py\", line 314, in train\n    result = self.step()\n  File \"/Users/assiaouanaya/opt/anaconda3/envs/ada/lib/python3.8/site-packages/ray/tune/function_runner.py\", line 381, in step\n    self._report_thread_runner_error(block=True)\n  File \"/Users/assiaouanaya/opt/anaconda3/envs/ada/lib/python3.8/site-packages/ray/tune/function_runner.py\", line 531, in _report_thread_runner_error\n    raise TuneError(\nray.tune.error.TuneError: Trial raised an exception. Traceback:\n\u001b[36mray::ImplicitFunc.train_buffered()\u001b[39m (pid=44837, ip=127.0.0.1, repr=<types.ImplicitFunc object at 0x7fa7cb3e66a0>)\n  File \"/Users/assiaouanaya/opt/anaconda3/envs/ada/lib/python3.8/site-packages/ray/tune/function_runner.py\", line 262, in run\n    self._entrypoint()\n  File \"/Users/assiaouanaya/opt/anaconda3/envs/ada/lib/python3.8/site-packages/ray/tune/function_runner.py\", line 330, in entrypoint\n    return self._trainable_func(self.config, self._status_reporter,\n  File \"/Users/assiaouanaya/opt/anaconda3/envs/ada/lib/python3.8/site-packages/ray/tune/function_runner.py\", line 597, in _trainable_func\n    output = fn()\n  File \"/Users/assiaouanaya/ml-project-2-thevipers2/crossvalidation.py\", line 219, in tuning\n    datasets(\nTypeError: 'module' object is not callable"
     ]
    }
   ],
   "source": [
    "import torch.optim as optim\n",
    "import torch.nn as nn\n",
    "from torch.utils.data import DataLoader\n",
    "import torch.nn.functional as F\n",
    "from torchvision import datasets, transforms\n",
    "\n",
    "from ray import tune\n",
    "from ray.tune.schedulers import ASHAScheduler\n",
    "\n",
    "search_space = {\n",
    "    \"lr\": tune.sample_from(lambda spec: 10**(-10 * np.random.rand())),\n",
    "    \"epochs\": tune.uniform(1, 9)\n",
    "}\n",
    "\n",
    "# Uncomment this to enable distributed execution\n",
    "# `ray.init(address=\"auto\")`\n",
    "\n",
    "# Download the dataset first\n",
    "analysis = tune.run(tuning, config=search_space, fail_fast=\"raise\", stop={\"training_iteration\": 10})\n",
    "\n",
    "# Obtain a trial dataframe from all run trials of this `tune.run` call.\n",
    "dfs = analysis.trial_dataframes"
   ]
  },
  {
   "cell_type": "markdown",
   "metadata": {},
   "source": [
    "## 4. Passer en 2D "
   ]
  },
  {
   "cell_type": "markdown",
   "metadata": {},
   "source": [
    "## 5. Hyper-parameters and physics parameters relationship"
   ]
  },
  {
   "cell_type": "markdown",
   "metadata": {},
   "source": [
    "## 6. Discussion & conclusion"
   ]
  },
  {
   "cell_type": "code",
   "execution_count": null,
   "metadata": {},
   "outputs": [],
   "source": []
  }
 ],
 "metadata": {
  "kernelspec": {
   "display_name": "Python 3",
   "language": "python",
   "name": "python3"
  },
  "language_info": {
   "codemirror_mode": {
    "name": "ipython",
    "version": 3
   },
   "file_extension": ".py",
   "mimetype": "text/x-python",
   "name": "python",
   "nbconvert_exporter": "python",
   "pygments_lexer": "ipython3",
   "version": "3.8.8"
  }
 },
 "nbformat": 4,
 "nbformat_minor": 4
}
