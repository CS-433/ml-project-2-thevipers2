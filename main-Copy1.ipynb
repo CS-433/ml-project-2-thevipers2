{
 "cells": [
  {
   "cell_type": "markdown",
   "metadata": {},
   "source": [
    "# Machine Learning - Project 2:\n",
    "# _Autoencoder for mathematical modeling of blood flow in a stenosis context_"
   ]
  },
  {
   "cell_type": "markdown",
   "metadata": {},
   "source": [
    "## Context"
   ]
  },
  {
   "cell_type": "markdown",
   "metadata": {},
   "source": [
    "In this project, we are going to analyze data derived from..."
   ]
  },
  {
   "cell_type": "markdown",
   "metadata": {},
   "source": [
    "Our goals:\n",
    "1. modeliser mathématiquement l’écoulement sanguin à l’aide de PDE dépendante de 2-3 paramètres physique\n",
    "2. simuler l’écoulement par un code d’éléments fini ou similaire\n",
    "3. générer beaucoup de solutions avec une grande nombre de paramètres différents. (Les 2-3, pris de façon aléatoire)\n",
    "4. a. utiliser les solutions numérique pour établir un auto encoder qui au milieu n’ai que 2-5 hyper-paramètres libres  \n",
    "b. quel erreur on obtient ? Est-ce possible de réduire le nombre d’hyper-paramètres ?\n",
    "5. étudier s’il y a une rélation entre les 2-5 hyper-paramètre et les paramètres physique  \n",
    "a. à l’aide de statistiques\n",
    "5. b. à l’aide d’un DNN (différent de 4a)\n",
    "6. (optionnel) faire un DNN entre l’input de 4a et output les paramêtres physique. Et/ou l’inverse.\n",
    "7. Discussion et conclusions "
   ]
  },
  {
   "cell_type": "markdown",
   "metadata": {},
   "source": [
    "Abbreviations used:\n",
    "- $N_u$ = total number of spatial points per simulation\n",
    "- $N_t$ = total number of time steps per simulation\n",
    "- $N_s$ = total number of simulations"
   ]
  },
  {
   "cell_type": "markdown",
   "metadata": {},
   "source": [
    "## Table of contents"
   ]
  },
  {
   "cell_type": "markdown",
   "metadata": {},
   "source": [
    "[1. Data exploration](#data_exploration) \n",
    "- [Imports](#1imports)\n",
    "- [Pathways](#1pathways)\n",
    "- [Loading](#1load)\n",
    "- [Exploration](#1exploration)\n",
    "\n",
    "[2. Data preprocessing](#preprocessing)\n",
    "\n",
    "[3. Pickle](#pickle)\n",
    "\n",
    "[4. Autoencoder](#autoencoder)"
   ]
  },
  {
   "cell_type": "markdown",
   "metadata": {},
   "source": [
    "### Imports  <a name=\"1imports\"></a>"
   ]
  },
  {
   "cell_type": "code",
   "execution_count": 177,
   "metadata": {},
   "outputs": [
    {
     "name": "stdout",
     "output_type": "stream",
     "text": [
      "The autoreload extension is already loaded. To reload it, use:\n",
      "  %reload_ext autoreload\n"
     ]
    }
   ],
   "source": [
    "# Useful starting lines\n",
    "%matplotlib inline\n",
    "import numpy as np\n",
    "import matplotlib.pyplot as plt\n",
    "import pandas as pd\n",
    "from helpers import *\n",
    "from preprocessing import *\n",
    "from sklearn.model_selection import train_test_split\n",
    "from autoencoder_Copy1 import *\n",
    "from crossvalidation import *\n",
    "import _pickle as cPickle\n",
    "%load_ext autoreload\n",
    "%autoreload 2\n",
    "torch.manual_seed(0)\n",
    "np.random.seed(1)\n",
    "seed = 1"
   ]
  },
  {
   "cell_type": "markdown",
   "metadata": {},
   "source": [
    "## 1. Data exploration  <a name=\"data_exploration\"></a>"
   ]
  },
  {
   "cell_type": "markdown",
   "metadata": {},
   "source": [
    "### Pathways <a name=\"1pathways\"></a>"
   ]
  },
  {
   "cell_type": "code",
   "execution_count": 71,
   "metadata": {},
   "outputs": [],
   "source": [
    "DATA_PATH = 'data/'\n",
    "DATA_Ux_PATH = DATA_PATH + 'u1_very_small.csv.bz2'\n",
    "DATA_Uy_PATH = DATA_PATH + 'u2_very_small.csv.bz2'"
   ]
  },
  {
   "cell_type": "markdown",
   "metadata": {},
   "source": [
    "### Loading <a name=\"1load\"></a>"
   ]
  },
  {
   "cell_type": "markdown",
   "metadata": {},
   "source": [
    "Let's load the data which consists of 2 matrices Ux, Uy denoting the x and y coordinates of the speed."
   ]
  },
  {
   "cell_type": "code",
   "execution_count": 72,
   "metadata": {},
   "outputs": [],
   "source": [
    "# Loading\n",
    "Ux_pd = pd.read_csv(DATA_Ux_PATH, header=None)\n",
    "Uy_pd = pd.read_csv(DATA_Uy_PATH, header=None)\n",
    "# Converting from dataframe to numpy\n",
    "Ux = Ux_pd.to_numpy()\n",
    "Uy = Uy_pd.to_numpy()"
   ]
  },
  {
   "cell_type": "markdown",
   "metadata": {},
   "source": [
    "### Exploration <a name=\"1exploration\"></a>"
   ]
  },
  {
   "cell_type": "markdown",
   "metadata": {},
   "source": [
    "Let's have a closer look at our imported data sets. The columns represent the time steps and the rows represent a point of our blood vessel mesh and each 5509 row a new simulation."
   ]
  },
  {
   "cell_type": "code",
   "execution_count": 73,
   "metadata": {
    "scrolled": false
   },
   "outputs": [
    {
     "name": "stdout",
     "output_type": "stream",
     "text": [
      "Our input array Ux is of shape: (137725, 110)\n",
      "Our input array Uy is of shape: (137725, 110)\n",
      "Printing a row of Ux: \n",
      " [0.0694243  0.27537487 0.60389834 1.02538242 1.49979277 1.9813229\n",
      " 2.42318455 2.78232553 3.02371067 3.12378595 3.22605803 3.32166836\n",
      " 3.41249686 3.49946177 3.58301614 3.66339786 3.74073801 3.81511138\n",
      " 3.88656184 3.95511576 4.02078945 4.08359325 4.14353388 4.20061589\n",
      " 4.2548424  4.30621561 4.35473712 4.40040807 4.44322934 4.48320158\n",
      " 4.52032526 4.55460075 4.58602833 4.61460821 4.64034055 4.66322547\n",
      " 4.68326307 4.70045341 4.71479655 4.72629252 4.73494137 4.7407431\n",
      " 4.74369775 4.74423086 4.74375285 4.74246986 4.74042825 4.73764939\n",
      " 4.73414407 4.72991811 4.7249748  4.71931611 4.71294324 4.70585693\n",
      " 4.6980577  4.68954587 4.68032167 4.67038525 4.65973675 4.64837623\n",
      " 4.63630377 4.6235194  4.61002317 4.5958151  4.5808952  4.5652635\n",
      " 4.54892001 4.53186473 4.51409767 4.49561883 4.47642823 4.45652585\n",
      " 4.43591171 4.41458581 4.39254814 4.36979872 4.34633752 4.32216457\n",
      " 4.29727986 4.27168339 4.24537516 4.21835516 4.19062341 4.1621799\n",
      " 4.13302463 4.1031576  4.07257881 4.04128826 4.00928595 3.97657188\n",
      " 3.94314606 3.90900847 3.87415912 3.83859802 3.80232515 3.76534053\n",
      " 3.72764415 3.689236   3.6501161  3.61028444 3.56974102 3.52848584\n",
      " 3.4865189  3.4438402  3.40044974 3.35634752 3.31153355 3.26600781\n",
      " 3.21977031 3.17282106] \n",
      "\n",
      "Printing a row of Uy: \n",
      " [0.00067075 0.00314395 0.0081191  0.01585384 0.02617912 0.0385416\n",
      " 0.05208035 0.06573238 0.07835575 0.08885756 0.09779466 0.10544569\n",
      " 0.1120431  0.11779068 0.12286148 0.12739624 0.13150532 0.13527295\n",
      " 0.13876218 0.14201954 0.14507906 0.14796547 0.15069666 0.15328552\n",
      " 0.15574136 0.15807087 0.16027887 0.16236883 0.16434326 0.16620397\n",
      " 0.16795225 0.16958906 0.17111508 0.1725308  0.17383659 0.1750327\n",
      " 0.17611934 0.17709663 0.17796468 0.17872356 0.17937332 0.17991401\n",
      " 0.18034566 0.1806724  0.18091083 0.18107502 0.18117609 0.18122281\n",
      " 0.18122208 0.18117917 0.18109807 0.18098175 0.1808324  0.18065161\n",
      " 0.18044053 0.18020003 0.17993069 0.17963297 0.17930717 0.17895353\n",
      " 0.17857222 0.17816334 0.177727   0.17726324 0.17677213 0.17625368\n",
      " 0.17570793 0.17513488 0.17453457 0.17390698 0.17325214 0.17257004\n",
      " 0.17186069 0.17112409 0.17036024 0.16956915 0.16875082 0.16790524\n",
      " 0.16703242 0.16613236 0.16520505 0.16425051 0.16326872 0.16225969\n",
      " 0.16122342 0.1601599  0.15906915 0.15795116 0.15680592 0.15563344\n",
      " 0.15443372 0.15320676 0.15195256 0.15067112 0.14936244 0.14802651\n",
      " 0.14666335 0.14527294 0.14385529 0.14241041 0.14093828 0.1394389\n",
      " 0.13791229 0.13635844 0.13477734 0.13316901 0.13153343 0.12987061\n",
      " 0.12818056 0.12646326] \n",
      "\n"
     ]
    }
   ],
   "source": [
    "print(\"Our input array Ux is of shape:\",Ux.shape)\n",
    "print(\"Our input array Uy is of shape:\",Uy.shape)\n",
    "print(\"Printing a row of Ux:\", '\\n', Ux[10,:], '\\n')\n",
    "print(\"Printing a row of Uy:\", '\\n', Uy[10,:], '\\n')"
   ]
  },
  {
   "cell_type": "markdown",
   "metadata": {},
   "source": [
    "For the rest of the analysis, we need to figure out the number of simulation step. As we know that we previsouly generated 25 simulations on Matlab and all the new simulations are appended row-wise, we can deduce it with the following computation."
   ]
  },
  {
   "cell_type": "code",
   "execution_count": 74,
   "metadata": {
    "scrolled": true
   },
   "outputs": [
    {
     "name": "stdout",
     "output_type": "stream",
     "text": [
      "We ran  25 simulations with different parameters for each simulation (parameters of the stenosis and resistance of the blood flow in the bifurcations)\n",
      "1 simulation calculate the velocities of the blood flow at  5509  different positions and at  110  different times\n"
     ]
    }
   ],
   "source": [
    "positions =5509 #We know it from the matlab code\n",
    "times = Ux.shape[1]\n",
    "simulations = int(Ux.shape[0]/positions)\n",
    "print(\"We ran \", simulations, \"simulations with different parameters for each simulation (parameters of the stenosis and resistance of the blood flow in the bifurcations)\")\n",
    "print(\"1 simulation calculate the velocities of the blood flow at \", positions, \" different positions and at \", times, \" different times\")"
   ]
  },
  {
   "cell_type": "markdown",
   "metadata": {},
   "source": [
    "## 2. Data preprocessing  <a name=\"preprocessing\"></a>"
   ]
  },
  {
   "cell_type": "markdown",
   "metadata": {},
   "source": [
    "Let's check if we have any NaN or None values in our dataframe."
   ]
  },
  {
   "cell_type": "code",
   "execution_count": 75,
   "metadata": {
    "scrolled": true
   },
   "outputs": [
    {
     "name": "stdout",
     "output_type": "stream",
     "text": [
      "0\n",
      "0\n"
     ]
    }
   ],
   "source": [
    "print(np.count_nonzero(np.isnan(Ux)))\n",
    "print(np.count_nonzero(np.isnan(Uy)))"
   ]
  },
  {
   "cell_type": "markdown",
   "metadata": {},
   "source": [
    "It seems there are no None values so we can start direclty preprocess our datasets."
   ]
  },
  {
   "cell_type": "markdown",
   "metadata": {},
   "source": [
    "ADDITIONAL IDEAS FOR PREPROCESSING\n",
    "- remove columns with 0 std dev?\n",
    "- standardization?"
   ]
  },
  {
   "cell_type": "markdown",
   "metadata": {},
   "source": [
    "Let's sample our data points into the following ratios : "
   ]
  },
  {
   "cell_type": "code",
   "execution_count": 76,
   "metadata": {},
   "outputs": [
    {
     "name": "stdout",
     "output_type": "stream",
     "text": [
      "(13750, 55) (13750, 55)\n"
     ]
    }
   ],
   "source": [
    "ratio_pts = 0.1\n",
    "ratio_time = 0.5\n",
    "\n",
    "new_Ux, new_Uy, new_inds = sample(Ux, Uy, ratio_pts, ratio_time)\n",
    "print(new_Ux.shape, new_Uy.shape)"
   ]
  },
  {
   "cell_type": "code",
   "execution_count": 77,
   "metadata": {},
   "outputs": [
    {
     "name": "stdout",
     "output_type": "stream",
     "text": [
      "With the sampling we got from  5509  positions to  550  positions\n",
      "With the sampling we got from  110  time steps to  55  time steps\n"
     ]
    }
   ],
   "source": [
    "new_Nu, new_Nt = get_Nu_Nt_sampled(Ux, new_Ux)\n",
    "\n",
    "print('With the sampling we got from ', 5509, ' positions to ', new_Nu, ' positions')\n",
    "print('With the sampling we got from ', 110, ' time steps to ', new_Nt, ' time steps')"
   ]
  },
  {
   "cell_type": "markdown",
   "metadata": {},
   "source": [
    "We can look at the positions of the sampled positions to make sure that we cover mostly all the important parts of the geometry of the artery :"
   ]
  },
  {
   "cell_type": "code",
   "execution_count": 78,
   "metadata": {
    "scrolled": true
   },
   "outputs": [
    {
     "data": {
      "image/png": "[encoded data removed]",
      "text/plain": [
       "<Figure size 648x360 with 1 Axes>"
      ]
     },
     "metadata": {
      "needs_background": "light"
     },
     "output_type": "display_data"
    }
   ],
   "source": [
    "plot_sampled_coord(new_inds) "
   ]
  },
  {
   "cell_type": "code",
   "execution_count": 79,
   "metadata": {},
   "outputs": [
    {
     "name": "stdout",
     "output_type": "stream",
     "text": [
      "[[0.05835955 0.49017009 1.1771073  ... 2.3972929  2.33386954 2.26842866]\n",
      " [0.01521457 0.10728349 0.22658085 ... 0.34120634 0.33186228 0.32222659]\n",
      " [0.05227898 0.43588769 1.03893716 ... 2.03544675 1.98129714 1.92543036]\n",
      " ...\n",
      " [0.08793295 0.77062365 1.91659264 ... 4.29471327 4.18221467 4.06611756]\n",
      " [0.04154516 0.28052928 0.56214566 ... 0.6288614  0.61074307 0.59207462]\n",
      " [0.05565444 0.41835948 0.93252481 ... 1.679056   1.63414775 1.58781946]]\n"
     ]
    }
   ],
   "source": [
    "print(new_Ux)"
   ]
  },
  {
   "cell_type": "markdown",
   "metadata": {},
   "source": [
    "Let's flatten our matrices into a single matrix with dimensions $(N_s, (2 N_u N_t))$. For each simulation, the x and y speed coordinates are compressed to the following 1D matrix:\n",
    "\n",
    "$$\n",
    "\\mathbf{M_{1D}}\n",
    "=\n",
    "\\begin{bmatrix}\n",
    "\\vdots \\\\\n",
    "u_{x}^{(0)} \\\\\n",
    "\\vdots \\\\\n",
    "u_{y}^{(0)} \\\\\n",
    "\\vdots \\\\\n",
    "u_{x}^{(1)} \\\\\n",
    "\\vdots \\\\\n",
    "u_{y}^{(1)} \\\\\n",
    "\\vdots \\\\\n",
    "u_{x}^{(N_t - 1)} \\\\\n",
    "\\vdots \\\\\n",
    "u_{y}^{(N_t - 1)} \\\\\n",
    "\\vdots \n",
    "\\end{bmatrix}\n",
    "$$\n",
    "\n"
   ]
  },
  {
   "cell_type": "code",
   "execution_count": 80,
   "metadata": {
    "scrolled": false
   },
   "outputs": [
    {
     "data": {
      "text/plain": [
       "(25, 60500)"
      ]
     },
     "execution_count": 80,
     "metadata": {},
     "output_type": "execute_result"
    }
   ],
   "source": [
    "flattened_array = flatten(new_Ux, new_Uy, ratio_pts)\n",
    "flattened_array.shape"
   ]
  },
  {
   "cell_type": "markdown",
   "metadata": {},
   "source": [
    "Let's make a sanity check that the dimension of 1 datapoint is indeed ${2 * new_{N_t} * new_{N_u}}$."
   ]
  },
  {
   "cell_type": "code",
   "execution_count": 81,
   "metadata": {},
   "outputs": [
    {
     "name": "stdout",
     "output_type": "stream",
     "text": [
      "60500\n"
     ]
    }
   ],
   "source": [
    "assert flattened_array.shape[1] == 2*new_Nt*new_Nu\n",
    "\n",
    "print(2*new_Nt*new_Nu)"
   ]
  },
  {
   "cell_type": "markdown",
   "metadata": {},
   "source": [
    "## 3. Pickle  <a name=\"pickle\"></a>"
   ]
  },
  {
   "cell_type": "markdown",
   "metadata": {},
   "source": [
    "To avoid the loading and processing steps each time we open the notebook, we will save the processed matrix \"flattened_array\" using pickle : "
   ]
  },
  {
   "cell_type": "markdown",
   "metadata": {},
   "source": [
    "In the following cell, we will create pickles for every subsampled data according to the ratios_pts and the ratios_t :"
   ]
  },
  {
   "cell_type": "code",
   "execution_count": 14,
   "metadata": {},
   "outputs": [],
   "source": [
    "'''\n",
    "ratios_pts = [0.1, 0.05, 0.02]\n",
    "ratios_t = [0.5, 0.25, 0.1]\n",
    "\n",
    "create_subsamples(Ux, Uy, ratios_pts, ratios_t, name_file='middle_small')\n",
    "'''"
   ]
  },
  {
   "cell_type": "markdown",
   "metadata": {},
   "source": [
    "#### Start from here if you the pickle file already exist in your data folder"
   ]
  },
  {
   "cell_type": "markdown",
   "metadata": {},
   "source": [
    "Change only the following cell to change the name of the file you want to open :"
   ]
  },
  {
   "cell_type": "code",
   "execution_count": 172,
   "metadata": {},
   "outputs": [
    {
     "name": "stdout",
     "output_type": "stream",
     "text": [
      "name of the file you want to read :  processed_middle_small_0.1_0.5\n"
     ]
    }
   ],
   "source": [
    "ratios = [0.1, 0.5]\n",
    "size = ['very_small', 'middle_small', 'small']\n",
    "\n",
    "name = 'processed_'+str(size[1])+'_'+str(ratios[0])+'_'+str(ratios[1])\n",
    "\n",
    "print('name of the file you want to read : ', name)"
   ]
  },
  {
   "cell_type": "code",
   "execution_count": 173,
   "metadata": {},
   "outputs": [],
   "source": [
    "flattened_array  = cPickle.load(open(\"data/pickle/\"+str(size[1])+\"/\"+name, \"rb\"))"
   ]
  },
  {
   "cell_type": "code",
   "execution_count": 174,
   "metadata": {},
   "outputs": [
    {
     "name": "stdout",
     "output_type": "stream",
     "text": [
      "[[ 6.59818698e-02  1.82234920e-02  6.44159502e-02 ...  1.03034493e+00\n",
      "  -9.73947264e-03 -1.67477632e-02]\n",
      " [ 5.29771523e-02  1.32216300e-02  4.90189335e-02 ...  9.93200215e-01\n",
      "   5.02639122e-03  1.41599883e-03]\n",
      " [ 8.25671280e-02  2.32952726e-02  6.87771891e-02 ...  1.77500861e+00\n",
      "   3.44533164e-04  1.81417079e-02]\n",
      " ...\n",
      " [ 2.19606656e-01  2.55903473e-02  2.29397872e-01 ...  1.46759534e+00\n",
      "   7.42708226e-02 -1.34336791e-02]\n",
      " [ 2.41341112e-01  5.06083120e-02  2.15209040e-01 ...  4.44840207e+00\n",
      "   4.35858394e-02  2.36892166e-02]\n",
      " [ 6.98710694e-02  1.96083000e-02  6.43463295e-02 ...  1.38366628e+00\n",
      "  -1.23426650e-03  1.73919218e-03]]\n"
     ]
    }
   ],
   "source": [
    "print(flattened_array)"
   ]
  },
  {
   "cell_type": "code",
   "execution_count": 175,
   "metadata": {},
   "outputs": [
    {
     "name": "stdout",
     "output_type": "stream",
     "text": [
      "MinMaxScaler()\n",
      "[[3.95305438e-02 1.31789068e-01 5.28455226e-02 ... 9.13578870e-03\n",
      "  2.16850505e-01 6.22175647e-01]\n",
      " [0.00000000e+00 7.58287403e-02 2.98163350e-04 ... 4.68536465e-03\n",
      "  2.95927018e-01 7.33860285e-01]\n",
      " [8.99448862e-02 1.88531639e-01 6.77296782e-02 ... 9.83562698e-02\n",
      "  2.70853984e-01 8.36702678e-01]\n",
      " ...\n",
      " [5.06505038e-01 2.14208702e-01 6.15900335e-01 ... 6.15241262e-02\n",
      "  6.66755862e-01 6.42553159e-01]\n",
      " [5.72571438e-01 4.94107169e-01 5.67476304e-01 ... 4.18663887e-01\n",
      "  5.02426736e-01 8.70812985e-01]\n",
      " [5.13525752e-02 1.47282161e-01 5.26079192e-02 ... 5.14683226e-02\n",
      "  2.62398944e-01 7.35847524e-01]]\n"
     ]
    }
   ],
   "source": [
    "from sklearn.preprocessing import MinMaxScaler\n",
    "scaler = MinMaxScaler()\n",
    "print(scaler.fit(flattened_array))\n",
    "flattened_array = scaler.transform(flattened_array)\n",
    "print(flattened_array)"
   ]
  },
  {
   "cell_type": "markdown",
   "metadata": {},
   "source": [
    "##### Final step : split train/test\n",
    "\n",
    "We split the data set into a training a testing set to be able to evaluate our autoencoder."
   ]
  },
  {
   "cell_type": "code",
   "execution_count": 200,
   "metadata": {},
   "outputs": [
    {
     "name": "stdout",
     "output_type": "stream",
     "text": [
      "(157, 60500)\n",
      "(18, 60500)\n"
     ]
    }
   ],
   "source": [
    "x_train, x_test = train_test_split(flattened_array, test_size=0.1, random_state=seed)\n",
    "y_train, y_test = x_train, x_test\n",
    "\n",
    "print(x_train.shape)\n",
    "print(x_test.shape)"
   ]
  },
  {
   "cell_type": "code",
   "execution_count": 201,
   "metadata": {},
   "outputs": [
    {
     "data": {
      "text/plain": [
       "0.0"
      ]
     },
     "execution_count": 201,
     "metadata": {},
     "output_type": "execute_result"
    }
   ],
   "source": [
    "x_train.min()"
   ]
  },
  {
   "cell_type": "markdown",
   "metadata": {},
   "source": [
    "## 4. Feed-forward auto-encoder  <a name=\"autoencoder\"></a>"
   ]
  },
  {
   "cell_type": "code",
   "execution_count": 205,
   "metadata": {},
   "outputs": [
    {
     "name": "stdout",
     "output_type": "stream",
     "text": [
      "--------------------------------\n",
      "FOLD 0\n",
      "--------------------------------\n",
      "Epoch:1/50 Training Error:0.908 Test Error:0.894\n",
      "Epoch:2/50 Training Error:0.885 Test Error:0.870\n",
      "Epoch:3/50 Training Error:0.860 Test Error:0.842\n",
      "Epoch:4/50 Training Error:0.841 Test Error:0.820\n",
      "Epoch:5/50 Training Error:0.830 Test Error:0.808\n",
      "Epoch:6/50 Training Error:0.825 Test Error:0.802\n",
      "Epoch:7/50 Training Error:0.823 Test Error:0.799\n",
      "Epoch:8/50 Training Error:0.821 Test Error:0.798\n",
      "Epoch:9/50 Training Error:0.821 Test Error:0.797\n",
      "Epoch:10/50 Training Error:0.820 Test Error:0.797\n",
      "Epoch:11/50 Training Error:0.820 Test Error:0.796\n",
      "Epoch:12/50 Training Error:0.820 Test Error:0.796\n",
      "Epoch:13/50 Training Error:0.820 Test Error:0.796\n",
      "Epoch:14/50 Training Error:0.819 Test Error:0.796\n",
      "Epoch:15/50 Training Error:0.819 Test Error:0.796\n",
      "Epoch:16/50 Training Error:0.819 Test Error:0.795\n",
      "Epoch:17/50 Training Error:0.819 Test Error:0.795\n",
      "Epoch:18/50 Training Error:0.819 Test Error:0.795\n",
      "Epoch:19/50 Training Error:0.819 Test Error:0.795\n",
      "Epoch:20/50 Training Error:0.819 Test Error:0.795\n",
      "Epoch:21/50 Training Error:0.819 Test Error:0.795\n",
      "Epoch:22/50 Training Error:0.819 Test Error:0.795\n",
      "Epoch:23/50 Training Error:0.819 Test Error:0.795\n",
      "Epoch:24/50 Training Error:0.819 Test Error:0.795\n",
      "Epoch:25/50 Training Error:0.819 Test Error:0.795\n",
      "Epoch:26/50 Training Error:0.819 Test Error:0.795\n",
      "Epoch:27/50 Training Error:0.819 Test Error:0.795\n",
      "Epoch:28/50 Training Error:0.819 Test Error:0.795\n",
      "Epoch:29/50 Training Error:0.819 Test Error:0.795\n",
      "Epoch:30/50 Training Error:0.819 Test Error:0.795\n",
      "Epoch:31/50 Training Error:0.818 Test Error:0.795\n",
      "Epoch:32/50 Training Error:0.818 Test Error:0.795\n",
      "Epoch:33/50 Training Error:0.818 Test Error:0.794\n",
      "Epoch:34/50 Training Error:0.818 Test Error:0.794\n",
      "Epoch:35/50 Training Error:0.818 Test Error:0.794\n",
      "Epoch:36/50 Training Error:0.818 Test Error:0.794\n",
      "Epoch:37/50 Training Error:0.818 Test Error:0.794\n",
      "Epoch:38/50 Training Error:0.818 Test Error:0.794\n",
      "Epoch:39/50 Training Error:0.818 Test Error:0.794\n",
      "Epoch:40/50 Training Error:0.818 Test Error:0.794\n",
      "Epoch:41/50 Training Error:0.818 Test Error:0.794\n",
      "Epoch:42/50 Training Error:0.818 Test Error:0.794\n",
      "Epoch:43/50 Training Error:0.818 Test Error:0.794\n",
      "Epoch:44/50 Training Error:0.818 Test Error:0.794\n",
      "Epoch:45/50 Training Error:0.818 Test Error:0.794\n",
      "Epoch:46/50 Training Error:0.818 Test Error:0.794\n",
      "Epoch:47/50 Training Error:0.818 Test Error:0.794\n",
      "Epoch:48/50 Training Error:0.818 Test Error:0.794\n",
      "Epoch:49/50 Training Error:0.818 Test Error:0.794\n",
      "Epoch:50/50 Training Error:0.818 Test Error:0.794\n",
      "--------------------------------\n",
      "FOLD 1\n",
      "--------------------------------\n",
      "Epoch:1/50 Training Error:0.908 Test Error:0.907\n",
      "Epoch:2/50 Training Error:0.885 Test Error:0.884\n",
      "Epoch:3/50 Training Error:0.860 Test Error:0.858\n",
      "Epoch:4/50 Training Error:0.841 Test Error:0.840\n",
      "Epoch:5/50 Training Error:0.830 Test Error:0.829\n",
      "Epoch:6/50 Training Error:0.825 Test Error:0.824\n",
      "Epoch:7/50 Training Error:0.823 Test Error:0.821\n",
      "Epoch:8/50 Training Error:0.821 Test Error:0.820\n",
      "Epoch:9/50 Training Error:0.821 Test Error:0.819\n",
      "Epoch:10/50 Training Error:0.820 Test Error:0.818\n",
      "Epoch:11/50 Training Error:0.820 Test Error:0.818\n",
      "Epoch:12/50 Training Error:0.819 Test Error:0.817\n",
      "Epoch:13/50 Training Error:0.819 Test Error:0.817\n"
     ]
    },
    {
     "ename": "KeyboardInterrupt",
     "evalue": "",
     "output_type": "error",
     "traceback": [
      "\u001b[0;31m---------------------------------------------------------------------------\u001b[0m",
      "\u001b[0;31mKeyboardInterrupt\u001b[0m                         Traceback (most recent call last)",
      "\u001b[0;32m<ipython-input-205-c7699f9a96d5>\u001b[0m in \u001b[0;36m<module>\u001b[0;34m\u001b[0m\n\u001b[1;32m      5\u001b[0m \u001b[0mcriterion\u001b[0m \u001b[0;34m=\u001b[0m \u001b[0mnn\u001b[0m\u001b[0;34m.\u001b[0m\u001b[0mMSELoss\u001b[0m\u001b[0;34m(\u001b[0m\u001b[0;34m)\u001b[0m\u001b[0;34m\u001b[0m\u001b[0;34m\u001b[0m\u001b[0m\n\u001b[1;32m      6\u001b[0m \u001b[0mdataset_name\u001b[0m \u001b[0;34m=\u001b[0m \u001b[0;34m\"middle_small\"\u001b[0m \u001b[0;31m#Only used to save the plot with the good name\u001b[0m\u001b[0;34m\u001b[0m\u001b[0;34m\u001b[0m\u001b[0m\n\u001b[0;32m----> 7\u001b[0;31m \u001b[0mKfold\u001b[0m\u001b[0;34m(\u001b[0m\u001b[0mx_train\u001b[0m\u001b[0;34m,\u001b[0m \u001b[0mk_folds\u001b[0m\u001b[0;34m,\u001b[0m \u001b[0minput_size\u001b[0m\u001b[0;34m,\u001b[0m \u001b[0mepochs\u001b[0m\u001b[0;34m,\u001b[0m \u001b[0mcriterion\u001b[0m\u001b[0;34m,\u001b[0m \u001b[0mlearningRate\u001b[0m\u001b[0;34m,\u001b[0m \u001b[0mneuron\u001b[0m\u001b[0;34m=\u001b[0m\u001b[0;36m5\u001b[0m\u001b[0;34m,\u001b[0m \u001b[0mmomentum\u001b[0m\u001b[0;34m=\u001b[0m\u001b[0;36m0.9\u001b[0m\u001b[0;34m,\u001b[0m \u001b[0mcomment\u001b[0m \u001b[0;34m=\u001b[0m \u001b[0;32mTrue\u001b[0m\u001b[0;34m)\u001b[0m\u001b[0;34m\u001b[0m\u001b[0;34m\u001b[0m\u001b[0m\n\u001b[0m",
      "\u001b[0;32m~/ml-project-2-thevipers2/crossvalidation.py\u001b[0m in \u001b[0;36mKfold\u001b[0;34m(dataset, k_folds, input_size, epochs, criterion, learningRate, neuron, momentum, comment)\u001b[0m\n\u001b[1;32m     66\u001b[0m             \u001b[0mtrain_loss\u001b[0m\u001b[0;34m=\u001b[0m\u001b[0mtrain_epoch\u001b[0m\u001b[0;34m(\u001b[0m\u001b[0mtrain_loader\u001b[0m\u001b[0;34m,\u001b[0m\u001b[0mmodel\u001b[0m\u001b[0;34m,\u001b[0m \u001b[0mcriterion\u001b[0m\u001b[0;34m,\u001b[0m\u001b[0moptimizer\u001b[0m\u001b[0;34m)\u001b[0m\u001b[0;34m\u001b[0m\u001b[0;34m\u001b[0m\u001b[0m\n\u001b[1;32m     67\u001b[0m             \u001b[0;31m# compute the relative training error\u001b[0m\u001b[0;34m\u001b[0m\u001b[0;34m\u001b[0m\u001b[0;34m\u001b[0m\u001b[0m\n\u001b[0;32m---> 68\u001b[0;31m             \u001b[0mtrain_error\u001b[0m \u001b[0;34m=\u001b[0m \u001b[0mvalid_epoch\u001b[0m\u001b[0;34m(\u001b[0m\u001b[0mtrain_loader\u001b[0m\u001b[0;34m,\u001b[0m\u001b[0mmodel\u001b[0m\u001b[0;34m)\u001b[0m\u001b[0;34m\u001b[0m\u001b[0;34m\u001b[0m\u001b[0m\n\u001b[0m\u001b[1;32m     69\u001b[0m             \u001b[0;31m# compute the relative test error\u001b[0m\u001b[0;34m\u001b[0m\u001b[0;34m\u001b[0m\u001b[0;34m\u001b[0m\u001b[0m\n\u001b[1;32m     70\u001b[0m             \u001b[0mtest_error\u001b[0m\u001b[0;34m=\u001b[0m\u001b[0mvalid_epoch\u001b[0m\u001b[0;34m(\u001b[0m\u001b[0mtest_loader\u001b[0m\u001b[0;34m,\u001b[0m\u001b[0mmodel\u001b[0m\u001b[0;34m)\u001b[0m\u001b[0;34m\u001b[0m\u001b[0;34m\u001b[0m\u001b[0m\n",
      "\u001b[0;32m~/ml-project-2-thevipers2/autoencoder_Copy1.py\u001b[0m in \u001b[0;36mvalid_epoch\u001b[0;34m(test_data, net)\u001b[0m\n\u001b[1;32m     99\u001b[0m             \u001b[0mpred\u001b[0m\u001b[0;34m.\u001b[0m\u001b[0mappend\u001b[0m\u001b[0;34m(\u001b[0m\u001b[0mpredicted\u001b[0m\u001b[0;34m)\u001b[0m\u001b[0;34m\u001b[0m\u001b[0;34m\u001b[0m\u001b[0m\n\u001b[1;32m    100\u001b[0m         \u001b[0;31m# compute the relative error\u001b[0m\u001b[0;34m\u001b[0m\u001b[0;34m\u001b[0m\u001b[0;34m\u001b[0m\u001b[0m\n\u001b[0;32m--> 101\u001b[0;31m         \u001b[0merr\u001b[0m \u001b[0;34m=\u001b[0m \u001b[0;34m(\u001b[0m\u001b[0mrelative_error\u001b[0m\u001b[0;34m(\u001b[0m\u001b[0mtest_data\u001b[0m\u001b[0;34m,\u001b[0m \u001b[0mpred\u001b[0m\u001b[0;34m)\u001b[0m\u001b[0;34m)\u001b[0m\u001b[0;34m\u001b[0m\u001b[0;34m\u001b[0m\u001b[0m\n\u001b[0m\u001b[1;32m    102\u001b[0m \u001b[0;34m\u001b[0m\u001b[0m\n\u001b[1;32m    103\u001b[0m     \u001b[0;32mreturn\u001b[0m \u001b[0merr\u001b[0m\u001b[0;34m\u001b[0m\u001b[0;34m\u001b[0m\u001b[0m\n",
      "\u001b[0;32m~/ml-project-2-thevipers2/autoencoder_Copy1.py\u001b[0m in \u001b[0;36mrelative_error\u001b[0;34m(y, y_pred)\u001b[0m\n\u001b[1;32m    120\u001b[0m     \u001b[0;32mfor\u001b[0m \u001b[0midx\u001b[0m\u001b[0;34m,\u001b[0m \u001b[0my_val\u001b[0m \u001b[0;32min\u001b[0m \u001b[0menumerate\u001b[0m\u001b[0;34m(\u001b[0m\u001b[0my\u001b[0m\u001b[0;34m)\u001b[0m\u001b[0;34m:\u001b[0m\u001b[0;34m\u001b[0m\u001b[0;34m\u001b[0m\u001b[0m\n\u001b[1;32m    121\u001b[0m         \u001b[0mi\u001b[0m\u001b[0;34m+=\u001b[0m\u001b[0;36m1\u001b[0m\u001b[0;34m\u001b[0m\u001b[0;34m\u001b[0m\u001b[0m\n\u001b[0;32m--> 122\u001b[0;31m         \u001b[0msum\u001b[0m \u001b[0;34m+=\u001b[0m \u001b[0mnp\u001b[0m\u001b[0;34m.\u001b[0m\u001b[0mlinalg\u001b[0m\u001b[0;34m.\u001b[0m\u001b[0mnorm\u001b[0m\u001b[0;34m(\u001b[0m\u001b[0;34m(\u001b[0m\u001b[0my_val\u001b[0m\u001b[0;34m-\u001b[0m\u001b[0my_pred\u001b[0m\u001b[0;34m[\u001b[0m\u001b[0midx\u001b[0m\u001b[0;34m]\u001b[0m\u001b[0;34m)\u001b[0m\u001b[0;34m,\u001b[0m\u001b[0;36m2\u001b[0m\u001b[0;34m)\u001b[0m\u001b[0;34m**\u001b[0m\u001b[0;36m2\u001b[0m\u001b[0;34m/\u001b[0m\u001b[0mnp\u001b[0m\u001b[0;34m.\u001b[0m\u001b[0mlinalg\u001b[0m\u001b[0;34m.\u001b[0m\u001b[0mnorm\u001b[0m\u001b[0;34m(\u001b[0m\u001b[0my_val\u001b[0m\u001b[0;34m,\u001b[0m\u001b[0;36m2\u001b[0m\u001b[0;34m)\u001b[0m\u001b[0;34m**\u001b[0m\u001b[0;36m2\u001b[0m\u001b[0;34m\u001b[0m\u001b[0;34m\u001b[0m\u001b[0m\n\u001b[0m\u001b[1;32m    123\u001b[0m \u001b[0;34m\u001b[0m\u001b[0m\n\u001b[1;32m    124\u001b[0m     \u001b[0mrel_err\u001b[0m \u001b[0;34m=\u001b[0m \u001b[0msum\u001b[0m\u001b[0;34m/\u001b[0m \u001b[0mi\u001b[0m\u001b[0;34m\u001b[0m\u001b[0;34m\u001b[0m\u001b[0m\n",
      "\u001b[0;32m<__array_function__ internals>\u001b[0m in \u001b[0;36mnorm\u001b[0;34m(*args, **kwargs)\u001b[0m\n",
      "\u001b[0;32m~/opt/anaconda3/lib/python3.8/site-packages/numpy/linalg/linalg.py\u001b[0m in \u001b[0;36mnorm\u001b[0;34m(x, ord, axis, keepdims)\u001b[0m\n\u001b[1;32m   2576\u001b[0m             \u001b[0;32mraise\u001b[0m \u001b[0mValueError\u001b[0m\u001b[0;34m(\u001b[0m\u001b[0;34m'Duplicate axes given.'\u001b[0m\u001b[0;34m)\u001b[0m\u001b[0;34m\u001b[0m\u001b[0;34m\u001b[0m\u001b[0m\n\u001b[1;32m   2577\u001b[0m         \u001b[0;32mif\u001b[0m \u001b[0mord\u001b[0m \u001b[0;34m==\u001b[0m \u001b[0;36m2\u001b[0m\u001b[0;34m:\u001b[0m\u001b[0;34m\u001b[0m\u001b[0;34m\u001b[0m\u001b[0m\n\u001b[0;32m-> 2578\u001b[0;31m             \u001b[0mret\u001b[0m \u001b[0;34m=\u001b[0m  \u001b[0m_multi_svd_norm\u001b[0m\u001b[0;34m(\u001b[0m\u001b[0mx\u001b[0m\u001b[0;34m,\u001b[0m \u001b[0mrow_axis\u001b[0m\u001b[0;34m,\u001b[0m \u001b[0mcol_axis\u001b[0m\u001b[0;34m,\u001b[0m \u001b[0mamax\u001b[0m\u001b[0;34m)\u001b[0m\u001b[0;34m\u001b[0m\u001b[0;34m\u001b[0m\u001b[0m\n\u001b[0m\u001b[1;32m   2579\u001b[0m         \u001b[0;32melif\u001b[0m \u001b[0mord\u001b[0m \u001b[0;34m==\u001b[0m \u001b[0;34m-\u001b[0m\u001b[0;36m2\u001b[0m\u001b[0;34m:\u001b[0m\u001b[0;34m\u001b[0m\u001b[0;34m\u001b[0m\u001b[0m\n\u001b[1;32m   2580\u001b[0m             \u001b[0mret\u001b[0m \u001b[0;34m=\u001b[0m \u001b[0m_multi_svd_norm\u001b[0m\u001b[0;34m(\u001b[0m\u001b[0mx\u001b[0m\u001b[0;34m,\u001b[0m \u001b[0mrow_axis\u001b[0m\u001b[0;34m,\u001b[0m \u001b[0mcol_axis\u001b[0m\u001b[0;34m,\u001b[0m \u001b[0mamin\u001b[0m\u001b[0;34m)\u001b[0m\u001b[0;34m\u001b[0m\u001b[0;34m\u001b[0m\u001b[0m\n",
      "\u001b[0;32m~/opt/anaconda3/lib/python3.8/site-packages/numpy/linalg/linalg.py\u001b[0m in \u001b[0;36m_multi_svd_norm\u001b[0;34m(x, row_axis, col_axis, op)\u001b[0m\n\u001b[1;32m   2352\u001b[0m     \"\"\"\n\u001b[1;32m   2353\u001b[0m     \u001b[0my\u001b[0m \u001b[0;34m=\u001b[0m \u001b[0mmoveaxis\u001b[0m\u001b[0;34m(\u001b[0m\u001b[0mx\u001b[0m\u001b[0;34m,\u001b[0m \u001b[0;34m(\u001b[0m\u001b[0mrow_axis\u001b[0m\u001b[0;34m,\u001b[0m \u001b[0mcol_axis\u001b[0m\u001b[0;34m)\u001b[0m\u001b[0;34m,\u001b[0m \u001b[0;34m(\u001b[0m\u001b[0;34m-\u001b[0m\u001b[0;36m2\u001b[0m\u001b[0;34m,\u001b[0m \u001b[0;34m-\u001b[0m\u001b[0;36m1\u001b[0m\u001b[0;34m)\u001b[0m\u001b[0;34m)\u001b[0m\u001b[0;34m\u001b[0m\u001b[0;34m\u001b[0m\u001b[0m\n\u001b[0;32m-> 2354\u001b[0;31m     \u001b[0mresult\u001b[0m \u001b[0;34m=\u001b[0m \u001b[0mop\u001b[0m\u001b[0;34m(\u001b[0m\u001b[0msvd\u001b[0m\u001b[0;34m(\u001b[0m\u001b[0my\u001b[0m\u001b[0;34m,\u001b[0m \u001b[0mcompute_uv\u001b[0m\u001b[0;34m=\u001b[0m\u001b[0;32mFalse\u001b[0m\u001b[0;34m)\u001b[0m\u001b[0;34m,\u001b[0m \u001b[0maxis\u001b[0m\u001b[0;34m=\u001b[0m\u001b[0;34m-\u001b[0m\u001b[0;36m1\u001b[0m\u001b[0;34m)\u001b[0m\u001b[0;34m\u001b[0m\u001b[0;34m\u001b[0m\u001b[0m\n\u001b[0m\u001b[1;32m   2355\u001b[0m     \u001b[0;32mreturn\u001b[0m \u001b[0mresult\u001b[0m\u001b[0;34m\u001b[0m\u001b[0;34m\u001b[0m\u001b[0m\n\u001b[1;32m   2356\u001b[0m \u001b[0;34m\u001b[0m\u001b[0m\n",
      "\u001b[0;32m<__array_function__ internals>\u001b[0m in \u001b[0;36msvd\u001b[0;34m(*args, **kwargs)\u001b[0m\n",
      "\u001b[0;32m~/opt/anaconda3/lib/python3.8/site-packages/numpy/linalg/linalg.py\u001b[0m in \u001b[0;36msvd\u001b[0;34m(a, full_matrices, compute_uv, hermitian)\u001b[0m\n\u001b[1;32m   1670\u001b[0m \u001b[0;34m\u001b[0m\u001b[0m\n\u001b[1;32m   1671\u001b[0m         \u001b[0msignature\u001b[0m \u001b[0;34m=\u001b[0m \u001b[0;34m'D->d'\u001b[0m \u001b[0;32mif\u001b[0m \u001b[0misComplexType\u001b[0m\u001b[0;34m(\u001b[0m\u001b[0mt\u001b[0m\u001b[0;34m)\u001b[0m \u001b[0;32melse\u001b[0m \u001b[0;34m'd->d'\u001b[0m\u001b[0;34m\u001b[0m\u001b[0;34m\u001b[0m\u001b[0m\n\u001b[0;32m-> 1672\u001b[0;31m         \u001b[0ms\u001b[0m \u001b[0;34m=\u001b[0m \u001b[0mgufunc\u001b[0m\u001b[0;34m(\u001b[0m\u001b[0ma\u001b[0m\u001b[0;34m,\u001b[0m \u001b[0msignature\u001b[0m\u001b[0;34m=\u001b[0m\u001b[0msignature\u001b[0m\u001b[0;34m,\u001b[0m \u001b[0mextobj\u001b[0m\u001b[0;34m=\u001b[0m\u001b[0mextobj\u001b[0m\u001b[0;34m)\u001b[0m\u001b[0;34m\u001b[0m\u001b[0;34m\u001b[0m\u001b[0m\n\u001b[0m\u001b[1;32m   1673\u001b[0m         \u001b[0ms\u001b[0m \u001b[0;34m=\u001b[0m \u001b[0ms\u001b[0m\u001b[0;34m.\u001b[0m\u001b[0mastype\u001b[0m\u001b[0;34m(\u001b[0m\u001b[0m_realType\u001b[0m\u001b[0;34m(\u001b[0m\u001b[0mresult_t\u001b[0m\u001b[0;34m)\u001b[0m\u001b[0;34m,\u001b[0m \u001b[0mcopy\u001b[0m\u001b[0;34m=\u001b[0m\u001b[0;32mFalse\u001b[0m\u001b[0;34m)\u001b[0m\u001b[0;34m\u001b[0m\u001b[0;34m\u001b[0m\u001b[0m\n\u001b[1;32m   1674\u001b[0m         \u001b[0;32mreturn\u001b[0m \u001b[0ms\u001b[0m\u001b[0;34m\u001b[0m\u001b[0;34m\u001b[0m\u001b[0m\n",
      "\u001b[0;31mKeyboardInterrupt\u001b[0m: "
     ]
    }
   ],
   "source": [
    "learningRate = 1e-4\n",
    "epochs= 50\n",
    "input_size=x_train.shape[1]\n",
    "k_folds = 5\n",
    "criterion = nn.MSELoss()  \n",
    "dataset_name = \"middle_small\" #Only used to save the plot with the good name\n",
    "Kfold(x_train, k_folds, input_size, epochs, criterion, learningRate, neuron=5, momentum=0.9, comment = True)"
   ]
  },
  {
   "cell_type": "markdown",
   "metadata": {},
   "source": [
    "#### Parameters tuning"
   ]
  },
  {
   "cell_type": "markdown",
   "metadata": {},
   "source": [
    "Find the best learning rate of our model using cross-validation :"
   ]
  },
  {
   "cell_type": "code",
   "execution_count": 86,
   "metadata": {},
   "outputs": [],
   "source": [
    "# define network parameters\n",
    "learning_rates =[1e-2, 1e-3, 1e-4, 1e-5]\n",
    "epochs= 50\n",
    "input_size=x_train.shape[1]\n",
    "k_folds = 5\n",
    "dataset_name = \"middle_small\" #Only used to save the plot with the good name\n",
    "\n",
    "# creates a criterion that measures the mean squared error (squared L2 norm) \n",
    "criterion = nn.MSELoss()  "
   ]
  },
  {
   "cell_type": "code",
   "execution_count": 98,
   "metadata": {},
   "outputs": [
    {
     "name": "stdout",
     "output_type": "stream",
     "text": [
      "\u001b[1mLearning rate =  0.01\n",
      "\u001b[0m\n",
      "Performance of 5 fold cross validation: \n",
      "Average Training Error: 10512.464 \t Average Test Error: 10685.136\n",
      " \n",
      "\u001b[1mLearning rate =  0.001\n",
      "\u001b[0m\n",
      "Performance of 5 fold cross validation: \n",
      "Average Training Error: 0.392 \t Average Test Error: 0.380\n",
      " \n",
      "\u001b[1mLearning rate =  0.0001\n",
      "\u001b[0m\n",
      "Performance of 5 fold cross validation: \n",
      "Average Training Error: 0.389 \t Average Test Error: 0.380\n",
      " \n",
      "\u001b[1mLearning rate =  1e-05\n",
      "\u001b[0m\n",
      "Performance of 5 fold cross validation: \n",
      "Average Training Error: 0.948 \t Average Test Error: 0.947\n",
      " \n",
      "\u001b[0m\n",
      "Best learning rate is  0.0001  with a best error of :  0.3797835463868534\n",
      "\u001b[0m\n"
     ]
    },
    {
     "data": {
      "image/png": "[encoded data removed]",
      "text/plain": [
       "<Figure size 432x288 with 1 Axes>"
      ]
     },
     "metadata": {
      "needs_background": "light"
     },
     "output_type": "display_data"
    }
   ],
   "source": [
    "best_result, best_lr = tuning_lr(x_train, k_folds, input_size, epochs, criterion, learning_rates,  dataset_name_=dataset_name)"
   ]
  },
  {
   "cell_type": "markdown",
   "metadata": {},
   "source": [
    "Find the best number of neurons in the latent space (neurons in the \"middle layer of the auto-encoder\") in the auto-encoder (which is actually the dimension of the compressed data) : "
   ]
  },
  {
   "cell_type": "code",
   "execution_count": 99,
   "metadata": {},
   "outputs": [],
   "source": [
    "# define network parameters\n",
    "lr = best_lr # from above\n",
    "epochs= 50\n",
    "input_size=x_train.shape[1]\n",
    "k_folds = 5\n",
    "number_neurons = [3, 4, 5, 6, 7, 8, 9, 10]\n",
    "dataset_name = \"middle_small\" #Only used to save the plot with the good name\n",
    "\n",
    "# creates a criterion that measures the mean squared error (squared L2 norm) \n",
    "criterion = nn.MSELoss()  "
   ]
  },
  {
   "cell_type": "code",
   "execution_count": 100,
   "metadata": {},
   "outputs": [
    {
     "name": "stdout",
     "output_type": "stream",
     "text": [
      "\u001b[1mNumber of neurons =  3\n",
      "\u001b[0m\n",
      "Performance of 5 fold cross validation: \n",
      "Average Training Error: 0.414 \t Average Test Error: 0.397\n",
      " \n",
      "\u001b[1mNumber of neurons =  4\n",
      "\u001b[0m\n",
      "Performance of 5 fold cross validation: \n",
      "Average Training Error: 0.379 \t Average Test Error: 0.471\n",
      " \n",
      "\u001b[1mNumber of neurons =  5\n",
      "\u001b[0m\n",
      "Performance of 5 fold cross validation: \n",
      "Average Training Error: 0.413 \t Average Test Error: 0.367\n",
      " \n",
      "\u001b[1mNumber of neurons =  6\n",
      "\u001b[0m\n",
      "Performance of 5 fold cross validation: \n",
      "Average Training Error: 0.389 \t Average Test Error: 0.392\n",
      " \n",
      "\u001b[1mNumber of neurons =  7\n",
      "\u001b[0m\n",
      "Performance of 5 fold cross validation: \n",
      "Average Training Error: 0.456 \t Average Test Error: 0.397\n",
      " \n",
      "\u001b[1mNumber of neurons =  8\n",
      "\u001b[0m\n",
      "Performance of 5 fold cross validation: \n",
      "Average Training Error: 0.375 \t Average Test Error: 0.349\n",
      " \n",
      "\u001b[1mNumber of neurons =  9\n",
      "\u001b[0m\n",
      "Performance of 5 fold cross validation: \n",
      "Average Training Error: 0.393 \t Average Test Error: 0.421\n",
      " \n",
      "\u001b[1mNumber of neurons =  10\n",
      "\u001b[0m\n",
      "Performance of 5 fold cross validation: \n",
      "Average Training Error: 0.455 \t Average Test Error: 0.462\n",
      " \n",
      "The results obtained for the number of latent neurons tested are the following : [0.3971173501602135, 0.47100008299620316, 0.36685535982275624, 0.3915793749459967, 0.3974154740670129, 0.34856887735155706, 0.4207551853371513, 0.46189651285803546].\n",
      "The best average test error obtained is 0.34856887735155706, and it is obtained with 8 neurons in the latent layer.\n"
     ]
    },
    {
     "data": {
      "image/png": "[encoded data removed]",
      "text/plain": [
       "<Figure size 432x288 with 1 Axes>"
      ]
     },
     "metadata": {
      "needs_background": "light"
     },
     "output_type": "display_data"
    }
   ],
   "source": [
    "best_result, best_neurons_nb = tuning_latent_layer(x_train, k_folds, input_size, epochs, criterion, lr, number_neurons,  dataset_name_=dataset_name)"
   ]
  },
  {
   "cell_type": "markdown",
   "metadata": {},
   "source": [
    "#### Let's try with the tuned parameters and see how it goes along the epochs"
   ]
  },
  {
   "cell_type": "code",
   "execution_count": 101,
   "metadata": {},
   "outputs": [],
   "source": [
    "# define network parameters\n",
    "learningRate= best_lr\n",
    "epochs=50\n",
    "input_size=x_train.shape[1]\n",
    "k_folds = 3\n",
    "neuron_ = best_neurons_nb\n",
    "\n",
    "# creates a criterion that measures the mean squared error (squared L2 norm) \n",
    "criterion = nn.MSELoss() "
   ]
  },
  {
   "cell_type": "code",
   "execution_count": 102,
   "metadata": {},
   "outputs": [
    {
     "name": "stdout",
     "output_type": "stream",
     "text": [
      "--------------------------------\n",
      "FOLD 0\n",
      "--------------------------------\n",
      "Epoch:1/50 Training Error:0.991 Test Error:0.990\n",
      "Epoch:2/50 Training Error:0.939 Test Error:0.940\n",
      "Epoch:3/50 Training Error:0.837 Test Error:0.840\n",
      "Epoch:4/50 Training Error:0.697 Test Error:0.680\n",
      "Epoch:5/50 Training Error:0.558 Test Error:0.529\n",
      "Epoch:6/50 Training Error:0.390 Test Error:0.507\n",
      "Epoch:7/50 Training Error:0.294 Test Error:0.366\n",
      "Epoch:8/50 Training Error:0.340 Test Error:0.316\n",
      "Epoch:9/50 Training Error:0.628 Test Error:0.433\n",
      "Epoch:10/50 Training Error:0.428 Test Error:0.453\n",
      "Epoch:11/50 Training Error:0.454 Test Error:0.391\n",
      "Epoch:12/50 Training Error:0.539 Test Error:0.366\n",
      "Epoch:13/50 Training Error:0.339 Test Error:0.345\n",
      "Epoch:14/50 Training Error:0.393 Test Error:0.318\n",
      "Epoch:15/50 Training Error:0.342 Test Error:0.463\n",
      "Epoch:16/50 Training Error:0.338 Test Error:0.364\n",
      "Epoch:17/50 Training Error:0.291 Test Error:0.387\n",
      "Epoch:18/50 Training Error:0.453 Test Error:0.418\n",
      "Epoch:19/50 Training Error:0.330 Test Error:0.470\n",
      "Epoch:20/50 Training Error:0.319 Test Error:0.356\n",
      "Epoch:21/50 Training Error:0.468 Test Error:0.405\n",
      "Epoch:22/50 Training Error:0.451 Test Error:0.346\n",
      "Epoch:23/50 Training Error:0.374 Test Error:0.353\n",
      "Epoch:24/50 Training Error:0.432 Test Error:0.468\n",
      "Epoch:25/50 Training Error:0.344 Test Error:0.477\n",
      "Epoch:26/50 Training Error:0.336 Test Error:0.392\n",
      "Epoch:27/50 Training Error:0.341 Test Error:0.417\n",
      "Epoch:28/50 Training Error:0.359 Test Error:0.334\n",
      "Epoch:29/50 Training Error:0.299 Test Error:0.290\n",
      "Epoch:30/50 Training Error:0.364 Test Error:0.402\n",
      "Epoch:31/50 Training Error:0.358 Test Error:0.357\n",
      "Epoch:32/50 Training Error:0.440 Test Error:0.277\n",
      "Epoch:33/50 Training Error:0.376 Test Error:0.468\n",
      "Epoch:34/50 Training Error:0.305 Test Error:0.223\n",
      "Epoch:35/50 Training Error:0.382 Test Error:0.290\n",
      "Epoch:36/50 Training Error:0.394 Test Error:0.327\n",
      "Epoch:37/50 Training Error:0.460 Test Error:0.325\n",
      "Epoch:38/50 Training Error:0.580 Test Error:0.373\n",
      "Epoch:39/50 Training Error:0.333 Test Error:0.435\n",
      "Epoch:40/50 Training Error:0.388 Test Error:0.368\n",
      "Epoch:41/50 Training Error:0.362 Test Error:0.421\n",
      "Epoch:42/50 Training Error:0.412 Test Error:0.311\n",
      "Epoch:43/50 Training Error:0.311 Test Error:0.466\n",
      "Epoch:44/50 Training Error:0.472 Test Error:0.382\n",
      "Epoch:45/50 Training Error:0.385 Test Error:0.313\n",
      "Epoch:46/50 Training Error:0.384 Test Error:0.379\n",
      "Epoch:47/50 Training Error:0.393 Test Error:0.414\n",
      "Epoch:48/50 Training Error:0.555 Test Error:0.355\n",
      "Epoch:49/50 Training Error:0.407 Test Error:0.371\n",
      "Epoch:50/50 Training Error:0.697 Test Error:0.450\n",
      "--------------------------------\n",
      "FOLD 1\n",
      "--------------------------------\n",
      "Epoch:1/50 Training Error:0.996 Test Error:0.996\n",
      "Epoch:2/50 Training Error:0.964 Test Error:0.961\n",
      "Epoch:3/50 Training Error:0.881 Test Error:0.881\n",
      "Epoch:4/50 Training Error:0.755 Test Error:0.742\n",
      "Epoch:5/50 Training Error:0.603 Test Error:0.588\n",
      "Epoch:6/50 Training Error:0.494 Test Error:0.426\n",
      "Epoch:7/50 Training Error:0.419 Test Error:0.360\n",
      "Epoch:8/50 Training Error:0.409 Test Error:0.298\n",
      "Epoch:9/50 Training Error:0.381 Test Error:0.239\n",
      "Epoch:10/50 Training Error:0.404 Test Error:0.289\n",
      "Epoch:11/50 Training Error:0.378 Test Error:0.320\n",
      "Epoch:12/50 Training Error:0.445 Test Error:0.269\n",
      "Epoch:13/50 Training Error:0.402 Test Error:0.344\n",
      "Epoch:14/50 Training Error:0.379 Test Error:0.297\n",
      "Epoch:15/50 Training Error:0.432 Test Error:0.335\n",
      "Epoch:16/50 Training Error:0.344 Test Error:0.320\n",
      "Epoch:17/50 Training Error:0.508 Test Error:0.299\n",
      "Epoch:18/50 Training Error:0.385 Test Error:0.244\n",
      "Epoch:19/50 Training Error:0.440 Test Error:0.352\n",
      "Epoch:20/50 Training Error:0.451 Test Error:0.292\n",
      "Epoch:21/50 Training Error:0.383 Test Error:0.330\n",
      "Epoch:22/50 Training Error:0.467 Test Error:0.395\n",
      "Epoch:23/50 Training Error:0.502 Test Error:0.328\n",
      "Epoch:24/50 Training Error:0.372 Test Error:0.365\n",
      "Epoch:25/50 Training Error:0.370 Test Error:0.285\n",
      "Epoch:26/50 Training Error:0.401 Test Error:0.344\n",
      "Epoch:27/50 Training Error:0.345 Test Error:0.243\n",
      "Epoch:28/50 Training Error:0.463 Test Error:0.293\n",
      "Epoch:29/50 Training Error:0.429 Test Error:0.382\n",
      "Epoch:30/50 Training Error:0.471 Test Error:0.376\n",
      "Epoch:31/50 Training Error:0.396 Test Error:0.336\n",
      "Epoch:32/50 Training Error:0.364 Test Error:0.339\n",
      "Epoch:33/50 Training Error:0.361 Test Error:0.406\n",
      "Epoch:34/50 Training Error:0.416 Test Error:0.270\n",
      "Epoch:35/50 Training Error:0.395 Test Error:0.353\n",
      "Epoch:36/50 Training Error:0.403 Test Error:0.261\n",
      "Epoch:37/50 Training Error:0.384 Test Error:0.281\n",
      "Epoch:38/50 Training Error:0.453 Test Error:0.271\n",
      "Epoch:39/50 Training Error:0.296 Test Error:0.312\n",
      "Epoch:40/50 Training Error:0.476 Test Error:0.287\n",
      "Epoch:41/50 Training Error:0.404 Test Error:0.248\n",
      "Epoch:42/50 Training Error:0.349 Test Error:0.285\n",
      "Epoch:43/50 Training Error:0.499 Test Error:0.317\n",
      "Epoch:44/50 Training Error:0.388 Test Error:0.338\n",
      "Epoch:45/50 Training Error:0.497 Test Error:0.354\n",
      "Epoch:46/50 Training Error:0.370 Test Error:0.372\n",
      "Epoch:47/50 Training Error:0.360 Test Error:0.298\n",
      "Epoch:48/50 Training Error:0.470 Test Error:0.290\n",
      "Epoch:49/50 Training Error:0.415 Test Error:0.291\n",
      "Epoch:50/50 Training Error:0.459 Test Error:0.311\n",
      "--------------------------------\n",
      "FOLD 2\n",
      "--------------------------------\n",
      "Epoch:1/50 Training Error:0.993 Test Error:0.993\n",
      "Epoch:2/50 Training Error:0.955 Test Error:0.957\n",
      "Epoch:3/50 Training Error:0.858 Test Error:0.864\n",
      "Epoch:4/50 Training Error:0.711 Test Error:0.737\n",
      "Epoch:5/50 Training Error:0.533 Test Error:0.547\n",
      "Epoch:6/50 Training Error:0.395 Test Error:0.454\n",
      "Epoch:7/50 Training Error:0.326 Test Error:0.307\n",
      "Epoch:8/50 Training Error:0.329 Test Error:0.396\n",
      "Epoch:9/50 Training Error:0.322 Test Error:0.428\n",
      "Epoch:10/50 Training Error:0.374 Test Error:0.425\n",
      "Epoch:11/50 Training Error:0.362 Test Error:0.509\n",
      "Epoch:12/50 Training Error:0.318 Test Error:0.291\n",
      "Epoch:13/50 Training Error:0.296 Test Error:0.417\n",
      "Epoch:14/50 Training Error:0.353 Test Error:0.432\n",
      "Epoch:15/50 Training Error:0.482 Test Error:0.430\n",
      "Epoch:16/50 Training Error:0.355 Test Error:0.338\n",
      "Epoch:17/50 Training Error:0.425 Test Error:0.428\n",
      "Epoch:18/50 Training Error:0.391 Test Error:0.451\n",
      "Epoch:19/50 Training Error:0.348 Test Error:0.378\n",
      "Epoch:20/50 Training Error:0.274 Test Error:0.406\n",
      "Epoch:21/50 Training Error:0.450 Test Error:0.372\n",
      "Epoch:22/50 Training Error:0.332 Test Error:0.373\n",
      "Epoch:23/50 Training Error:0.312 Test Error:0.509\n",
      "Epoch:24/50 Training Error:0.355 Test Error:0.428\n",
      "Epoch:25/50 Training Error:0.393 Test Error:0.605\n",
      "Epoch:26/50 Training Error:0.354 Test Error:0.435\n",
      "Epoch:27/50 Training Error:0.359 Test Error:0.535\n",
      "Epoch:28/50 Training Error:0.321 Test Error:0.481\n",
      "Epoch:29/50 Training Error:0.316 Test Error:0.443\n",
      "Epoch:30/50 Training Error:0.343 Test Error:0.473\n",
      "Epoch:31/50 Training Error:0.328 Test Error:0.413\n",
      "Epoch:32/50 Training Error:0.302 Test Error:0.426\n",
      "Epoch:33/50 Training Error:0.591 Test Error:0.368\n",
      "Epoch:34/50 Training Error:0.379 Test Error:0.412\n",
      "Epoch:35/50 Training Error:0.390 Test Error:0.448\n",
      "Epoch:36/50 Training Error:0.329 Test Error:0.401\n",
      "Epoch:37/50 Training Error:0.412 Test Error:0.500\n",
      "Epoch:38/50 Training Error:0.348 Test Error:0.480\n",
      "Epoch:39/50 Training Error:0.322 Test Error:0.339\n",
      "Epoch:40/50 Training Error:0.333 Test Error:0.384\n",
      "Epoch:41/50 Training Error:0.352 Test Error:0.306\n",
      "Epoch:42/50 Training Error:0.343 Test Error:0.442\n",
      "Epoch:43/50 Training Error:0.384 Test Error:0.438\n",
      "Epoch:44/50 Training Error:0.283 Test Error:0.388\n",
      "Epoch:45/50 Training Error:0.398 Test Error:0.353\n",
      "Epoch:46/50 Training Error:0.369 Test Error:0.527\n",
      "Epoch:47/50 Training Error:0.377 Test Error:0.495\n",
      "Epoch:48/50 Training Error:0.418 Test Error:0.624\n",
      "Epoch:49/50 Training Error:0.349 Test Error:0.464\n",
      "Epoch:50/50 Training Error:0.363 Test Error:0.409\n",
      "Performance of 3 fold cross validation: \n",
      "Average Training Error: 0.506 \t Average Test Error: 0.390\n",
      " \n"
     ]
    },
    {
     "data": {
      "image/png": "[encoded data removed]",
      "text/plain": [
       "<Figure size 720x576 with 1 Axes>"
      ]
     },
     "metadata": {
      "needs_background": "light"
     },
     "output_type": "display_data"
    },
    {
     "data": {
      "text/plain": [
       "0.38999193462642817"
      ]
     },
     "execution_count": 102,
     "metadata": {},
     "output_type": "execute_result"
    }
   ],
   "source": [
    "Kfold(x_train, k_folds, input_size, epochs, criterion, learningRate, neuron=neuron_)"
   ]
  },
  {
   "cell_type": "markdown",
   "metadata": {},
   "source": [
    "#### Quality of the compression on the test set using the tuned parameters :"
   ]
  },
  {
   "cell_type": "markdown",
   "metadata": {},
   "source": [
    "We will now train and test our auto-encoder for different sample size of our initial dataset. To do so we will do a batch processing and store the final train and test errors. See the report to see the nice comparison table :"
   ]
  },
  {
   "cell_type": "code",
   "execution_count": 204,
   "metadata": {},
   "outputs": [
    {
     "name": "stdout",
     "output_type": "stream",
     "text": [
      "\u001b[1mTrain/Test of the sub-dataset data/pickle/middle_small/processed_middle_small_0.02_0.5\u001b[0m\n",
      "Epoch:1/50 Training Error:0.969 Test Error:0.969\n",
      "Epoch:2/50 Training Error:0.843 Test Error:0.842\n",
      "Epoch:3/50 Training Error:0.630 Test Error:0.628\n",
      "Epoch:4/50 Training Error:0.398 Test Error:0.398\n",
      "Epoch:5/50 Training Error:0.225 Test Error:0.230\n",
      "Epoch:6/50 Training Error:0.135 Test Error:0.154\n",
      "Epoch:7/50 Training Error:0.106 Test Error:0.142\n",
      "Epoch:8/50 Training Error:0.100 Test Error:0.139\n",
      "Epoch:9/50 Training Error:0.099 Test Error:0.138\n",
      "Epoch:10/50 Training Error:0.098 Test Error:0.137\n",
      "Epoch:11/50 Training Error:0.098 Test Error:0.137\n",
      "Epoch:12/50 Training Error:0.098 Test Error:0.137\n",
      "Epoch:13/50 Training Error:0.098 Test Error:0.137\n",
      "Epoch:14/50 Training Error:0.098 Test Error:0.137\n",
      "Epoch:15/50 Training Error:0.098 Test Error:0.137\n",
      "Epoch:16/50 Training Error:0.098 Test Error:0.136\n",
      "Epoch:17/50 Training Error:0.097 Test Error:0.136\n",
      "Epoch:18/50 Training Error:0.097 Test Error:0.136\n",
      "Epoch:19/50 Training Error:0.097 Test Error:0.135\n",
      "Epoch:20/50 Training Error:0.096 Test Error:0.134\n",
      "Epoch:21/50 Training Error:0.095 Test Error:0.133\n",
      "Epoch:22/50 Training Error:0.094 Test Error:0.131\n",
      "Epoch:23/50 Training Error:0.092 Test Error:0.128\n",
      "Epoch:24/50 Training Error:0.089 Test Error:0.124\n",
      "Epoch:25/50 Training Error:0.084 Test Error:0.118\n",
      "Epoch:26/50 Training Error:0.078 Test Error:0.109\n",
      "Epoch:27/50 Training Error:0.069 Test Error:0.098\n",
      "Epoch:28/50 Training Error:0.059 Test Error:0.084\n",
      "Epoch:29/50 Training Error:0.048 Test Error:0.068\n",
      "Epoch:30/50 Training Error:0.037 Test Error:0.053\n",
      "Epoch:31/50 Training Error:0.027 Test Error:0.039\n",
      "Epoch:32/50 Training Error:0.020 Test Error:0.029\n",
      "Epoch:33/50 Training Error:0.015 Test Error:0.021\n",
      "Epoch:34/50 Training Error:0.012 Test Error:0.017\n",
      "Epoch:35/50 Training Error:0.010 Test Error:0.014\n",
      "Epoch:36/50 Training Error:0.010 Test Error:0.013\n",
      "Epoch:37/50 Training Error:0.009 Test Error:0.013\n",
      "Epoch:38/50 Training Error:0.009 Test Error:0.012\n",
      "Epoch:39/50 Training Error:0.009 Test Error:0.012\n",
      "Epoch:40/50 Training Error:0.009 Test Error:0.012\n",
      "Epoch:41/50 Training Error:0.009 Test Error:0.012\n",
      "Epoch:42/50 Training Error:0.009 Test Error:0.012\n",
      "Epoch:43/50 Training Error:0.009 Test Error:0.012\n",
      "Epoch:44/50 Training Error:0.009 Test Error:0.012\n",
      "Epoch:45/50 Training Error:0.009 Test Error:0.012\n",
      "Epoch:46/50 Training Error:0.009 Test Error:0.012\n",
      "Epoch:47/50 Training Error:0.009 Test Error:0.012\n",
      "Epoch:48/50 Training Error:0.009 Test Error:0.012\n",
      "Epoch:49/50 Training Error:0.009 Test Error:0.012\n",
      "Epoch:50/50 Training Error:0.009 Test Error:0.012\n",
      "\u001b[1mTrain/Test of the sub-dataset data/pickle/middle_small/processed_middle_small_0.05_0.5\u001b[0m\n",
      "Epoch:1/50 Training Error:0.987 Test Error:0.988\n",
      "Epoch:2/50 Training Error:0.896 Test Error:0.896\n",
      "Epoch:3/50 Training Error:0.712 Test Error:0.711\n",
      "Epoch:4/50 Training Error:0.481 Test Error:0.482\n",
      "Epoch:5/50 Training Error:0.284 Test Error:0.286\n",
      "Epoch:6/50 Training Error:0.158 Test Error:0.162\n",
      "Epoch:7/50 Training Error:0.101 Test Error:0.121\n",
      "Epoch:8/50 Training Error:0.086 Test Error:0.116\n",
      "Epoch:9/50 Training Error:0.083 Test Error:0.116\n",
      "Epoch:10/50 Training Error:0.082 Test Error:0.115\n",
      "Epoch:11/50 Training Error:0.082 Test Error:0.115\n",
      "Epoch:12/50 Training Error:0.082 Test Error:0.115\n",
      "Epoch:13/50 Training Error:0.081 Test Error:0.115\n",
      "Epoch:14/50 Training Error:0.081 Test Error:0.115\n",
      "Epoch:15/50 Training Error:0.081 Test Error:0.115\n",
      "Epoch:16/50 Training Error:0.081 Test Error:0.114\n",
      "Epoch:17/50 Training Error:0.081 Test Error:0.114\n",
      "Epoch:18/50 Training Error:0.081 Test Error:0.114\n",
      "Epoch:19/50 Training Error:0.080 Test Error:0.113\n",
      "Epoch:20/50 Training Error:0.080 Test Error:0.113\n",
      "Epoch:21/50 Training Error:0.079 Test Error:0.112\n",
      "Epoch:22/50 Training Error:0.078 Test Error:0.110\n",
      "Epoch:23/50 Training Error:0.077 Test Error:0.108\n",
      "Epoch:24/50 Training Error:0.074 Test Error:0.105\n",
      "Epoch:25/50 Training Error:0.071 Test Error:0.101\n",
      "Epoch:26/50 Training Error:0.067 Test Error:0.095\n",
      "Epoch:27/50 Training Error:0.062 Test Error:0.087\n",
      "Epoch:28/50 Training Error:0.055 Test Error:0.078\n",
      "Epoch:29/50 Training Error:0.047 Test Error:0.067\n",
      "Epoch:30/50 Training Error:0.039 Test Error:0.055\n",
      "Epoch:31/50 Training Error:0.031 Test Error:0.045\n",
      "Epoch:32/50 Training Error:0.025 Test Error:0.035\n",
      "Epoch:33/50 Training Error:0.020 Test Error:0.028\n",
      "Epoch:34/50 Training Error:0.016 Test Error:0.022\n",
      "Epoch:35/50 Training Error:0.014 Test Error:0.019\n",
      "Epoch:36/50 Training Error:0.013 Test Error:0.017\n",
      "Epoch:37/50 Training Error:0.012 Test Error:0.016\n",
      "Epoch:38/50 Training Error:0.012 Test Error:0.016\n",
      "Epoch:39/50 Training Error:0.012 Test Error:0.015\n",
      "Epoch:40/50 Training Error:0.012 Test Error:0.015\n",
      "Epoch:41/50 Training Error:0.012 Test Error:0.015\n",
      "Epoch:42/50 Training Error:0.012 Test Error:0.015\n",
      "Epoch:43/50 Training Error:0.012 Test Error:0.015\n",
      "Epoch:44/50 Training Error:0.012 Test Error:0.015\n",
      "Epoch:45/50 Training Error:0.012 Test Error:0.015\n",
      "Epoch:46/50 Training Error:0.012 Test Error:0.015\n",
      "Epoch:47/50 Training Error:0.012 Test Error:0.015\n",
      "Epoch:48/50 Training Error:0.012 Test Error:0.015\n",
      "Epoch:49/50 Training Error:0.012 Test Error:0.015\n",
      "Epoch:50/50 Training Error:0.012 Test Error:0.015\n",
      "\u001b[1mTrain/Test of the sub-dataset data/pickle/middle_small/processed_middle_small_0.1_0.25\u001b[0m\n",
      "Epoch:1/50 Training Error:0.972 Test Error:0.972\n",
      "Epoch:2/50 Training Error:0.858 Test Error:0.858\n",
      "Epoch:3/50 Training Error:0.652 Test Error:0.652\n",
      "Epoch:4/50 Training Error:0.425 Test Error:0.426\n",
      "Epoch:5/50 Training Error:0.248 Test Error:0.251\n",
      "Epoch:6/50 Training Error:0.141 Test Error:0.148\n",
      "Epoch:7/50 Training Error:0.096 Test Error:0.118\n",
      "Epoch:8/50 Training Error:0.084 Test Error:0.113\n",
      "Epoch:9/50 Training Error:0.081 Test Error:0.112\n",
      "Epoch:10/50 Training Error:0.080 Test Error:0.112\n",
      "Epoch:11/50 Training Error:0.080 Test Error:0.112\n",
      "Epoch:12/50 Training Error:0.080 Test Error:0.111\n",
      "Epoch:13/50 Training Error:0.080 Test Error:0.111\n",
      "Epoch:14/50 Training Error:0.080 Test Error:0.111\n",
      "Epoch:15/50 Training Error:0.079 Test Error:0.111\n",
      "Epoch:16/50 Training Error:0.079 Test Error:0.111\n",
      "Epoch:17/50 Training Error:0.079 Test Error:0.111\n",
      "Epoch:18/50 Training Error:0.079 Test Error:0.111\n",
      "Epoch:19/50 Training Error:0.078 Test Error:0.110\n",
      "Epoch:20/50 Training Error:0.078 Test Error:0.109\n",
      "Epoch:21/50 Training Error:0.077 Test Error:0.108\n",
      "Epoch:22/50 Training Error:0.076 Test Error:0.107\n",
      "Epoch:23/50 Training Error:0.074 Test Error:0.104\n",
      "Epoch:24/50 Training Error:0.072 Test Error:0.101\n",
      "Epoch:25/50 Training Error:0.068 Test Error:0.096\n",
      "Epoch:26/50 Training Error:0.063 Test Error:0.090\n",
      "Epoch:27/50 Training Error:0.057 Test Error:0.081\n",
      "Epoch:28/50 Training Error:0.050 Test Error:0.071\n",
      "Epoch:29/50 Training Error:0.043 Test Error:0.061\n",
      "Epoch:30/50 Training Error:0.035 Test Error:0.051\n",
      "Epoch:31/50 Training Error:0.029 Test Error:0.042\n",
      "Epoch:32/50 Training Error:0.023 Test Error:0.033\n",
      "Epoch:33/50 Training Error:0.018 Test Error:0.027\n",
      "Epoch:34/50 Training Error:0.015 Test Error:0.022\n",
      "Epoch:35/50 Training Error:0.013 Test Error:0.019\n",
      "Epoch:36/50 Training Error:0.011 Test Error:0.017\n",
      "Epoch:37/50 Training Error:0.011 Test Error:0.016\n",
      "Epoch:38/50 Training Error:0.010 Test Error:0.015\n",
      "Epoch:39/50 Training Error:0.010 Test Error:0.015\n",
      "Epoch:40/50 Training Error:0.010 Test Error:0.014\n",
      "Epoch:41/50 Training Error:0.010 Test Error:0.014\n",
      "Epoch:42/50 Training Error:0.010 Test Error:0.014\n",
      "Epoch:43/50 Training Error:0.010 Test Error:0.014\n",
      "Epoch:44/50 Training Error:0.010 Test Error:0.014\n",
      "Epoch:45/50 Training Error:0.010 Test Error:0.014\n",
      "Epoch:46/50 Training Error:0.010 Test Error:0.014\n",
      "Epoch:47/50 Training Error:0.010 Test Error:0.014\n",
      "Epoch:48/50 Training Error:0.010 Test Error:0.014\n",
      "Epoch:49/50 Training Error:0.010 Test Error:0.014\n",
      "Epoch:50/50 Training Error:0.010 Test Error:0.014\n",
      "\u001b[1mTrain/Test of the sub-dataset data/pickle/middle_small/processed_middle_small_0.1_0.5\u001b[0m\n",
      "Epoch:1/50 Training Error:0.982 Test Error:0.982\n",
      "Epoch:2/50 Training Error:0.884 Test Error:0.883\n",
      "Epoch:3/50 Training Error:0.690 Test Error:0.689\n",
      "Epoch:4/50 Training Error:0.457 Test Error:0.457\n",
      "Epoch:5/50 Training Error:0.266 Test Error:0.267\n",
      "Epoch:6/50 Training Error:0.147 Test Error:0.151\n",
      "Epoch:7/50 Training Error:0.096 Test Error:0.116\n"
     ]
    },
    {
     "name": "stdout",
     "output_type": "stream",
     "text": [
      "Epoch:8/50 Training Error:0.084 Test Error:0.113\n",
      "Epoch:9/50 Training Error:0.081 Test Error:0.112\n",
      "Epoch:10/50 Training Error:0.080 Test Error:0.112\n",
      "Epoch:11/50 Training Error:0.080 Test Error:0.112\n",
      "Epoch:12/50 Training Error:0.080 Test Error:0.111\n",
      "Epoch:13/50 Training Error:0.080 Test Error:0.111\n",
      "Epoch:14/50 Training Error:0.079 Test Error:0.111\n",
      "Epoch:15/50 Training Error:0.079 Test Error:0.111\n",
      "Epoch:16/50 Training Error:0.079 Test Error:0.111\n",
      "Epoch:17/50 Training Error:0.079 Test Error:0.110\n",
      "Epoch:18/50 Training Error:0.078 Test Error:0.110\n",
      "Epoch:19/50 Training Error:0.078 Test Error:0.109\n",
      "Epoch:20/50 Training Error:0.077 Test Error:0.108\n",
      "Epoch:21/50 Training Error:0.076 Test Error:0.106\n",
      "Epoch:22/50 Training Error:0.074 Test Error:0.104\n",
      "Epoch:23/50 Training Error:0.071 Test Error:0.101\n",
      "Epoch:24/50 Training Error:0.068 Test Error:0.096\n",
      "Epoch:25/50 Training Error:0.064 Test Error:0.090\n",
      "Epoch:26/50 Training Error:0.058 Test Error:0.082\n",
      "Epoch:27/50 Training Error:0.051 Test Error:0.072\n",
      "Epoch:28/50 Training Error:0.043 Test Error:0.061\n",
      "Epoch:29/50 Training Error:0.035 Test Error:0.051\n",
      "Epoch:30/50 Training Error:0.028 Test Error:0.041\n",
      "Epoch:31/50 Training Error:0.023 Test Error:0.032\n",
      "Epoch:32/50 Training Error:0.018 Test Error:0.026\n",
      "Epoch:33/50 Training Error:0.014 Test Error:0.021\n",
      "Epoch:34/50 Training Error:0.012 Test Error:0.018\n",
      "Epoch:35/50 Training Error:0.011 Test Error:0.016\n",
      "Epoch:36/50 Training Error:0.010 Test Error:0.016\n",
      "Epoch:37/50 Training Error:0.010 Test Error:0.015\n",
      "Epoch:38/50 Training Error:0.010 Test Error:0.015\n",
      "Epoch:39/50 Training Error:0.010 Test Error:0.014\n",
      "Epoch:40/50 Training Error:0.010 Test Error:0.014\n",
      "Epoch:41/50 Training Error:0.010 Test Error:0.014\n",
      "Epoch:42/50 Training Error:0.010 Test Error:0.014\n",
      "Epoch:43/50 Training Error:0.010 Test Error:0.014\n",
      "Epoch:44/50 Training Error:0.010 Test Error:0.014\n",
      "Epoch:45/50 Training Error:0.010 Test Error:0.014\n",
      "Epoch:46/50 Training Error:0.010 Test Error:0.014\n",
      "Epoch:47/50 Training Error:0.010 Test Error:0.014\n",
      "Epoch:48/50 Training Error:0.010 Test Error:0.014\n",
      "Epoch:49/50 Training Error:0.010 Test Error:0.014\n",
      "Epoch:50/50 Training Error:0.010 Test Error:0.014\n",
      "\u001b[1mTrain/Test of the sub-dataset data/pickle/middle_small/processed_middle_small_0.02_0.1\u001b[0m\n",
      "Epoch:1/50 Training Error:0.986 Test Error:0.986\n",
      "Epoch:2/50 Training Error:0.917 Test Error:0.916\n",
      "Epoch:3/50 Training Error:0.711 Test Error:0.707\n",
      "Epoch:4/50 Training Error:0.479 Test Error:0.473\n",
      "Epoch:5/50 Training Error:0.271 Test Error:0.267\n",
      "Epoch:6/50 Training Error:0.151 Test Error:0.160\n",
      "Epoch:7/50 Training Error:0.108 Test Error:0.140\n",
      "Epoch:8/50 Training Error:0.100 Test Error:0.139\n",
      "Epoch:9/50 Training Error:0.099 Test Error:0.137\n",
      "Epoch:10/50 Training Error:0.098 Test Error:0.137\n",
      "Epoch:11/50 Training Error:0.098 Test Error:0.137\n",
      "Epoch:12/50 Training Error:0.098 Test Error:0.137\n",
      "Epoch:13/50 Training Error:0.098 Test Error:0.137\n",
      "Epoch:14/50 Training Error:0.098 Test Error:0.137\n",
      "Epoch:15/50 Training Error:0.098 Test Error:0.137\n",
      "Epoch:16/50 Training Error:0.098 Test Error:0.137\n",
      "Epoch:17/50 Training Error:0.098 Test Error:0.137\n",
      "Epoch:18/50 Training Error:0.098 Test Error:0.137\n",
      "Epoch:19/50 Training Error:0.098 Test Error:0.137\n",
      "Epoch:20/50 Training Error:0.098 Test Error:0.137\n",
      "Epoch:21/50 Training Error:0.098 Test Error:0.137\n",
      "Epoch:22/50 Training Error:0.098 Test Error:0.137\n",
      "Epoch:23/50 Training Error:0.098 Test Error:0.137\n",
      "Epoch:24/50 Training Error:0.098 Test Error:0.137\n",
      "Epoch:25/50 Training Error:0.098 Test Error:0.137\n",
      "Epoch:26/50 Training Error:0.098 Test Error:0.137\n",
      "Epoch:27/50 Training Error:0.098 Test Error:0.137\n",
      "Epoch:28/50 Training Error:0.098 Test Error:0.137\n",
      "Epoch:29/50 Training Error:0.098 Test Error:0.137\n",
      "Epoch:30/50 Training Error:0.098 Test Error:0.137\n",
      "Epoch:31/50 Training Error:0.098 Test Error:0.137\n",
      "Epoch:32/50 Training Error:0.098 Test Error:0.137\n",
      "Epoch:33/50 Training Error:0.098 Test Error:0.137\n",
      "Epoch:34/50 Training Error:0.098 Test Error:0.137\n",
      "Epoch:35/50 Training Error:0.098 Test Error:0.137\n",
      "Epoch:36/50 Training Error:0.098 Test Error:0.137\n",
      "Epoch:37/50 Training Error:0.098 Test Error:0.137\n",
      "Epoch:38/50 Training Error:0.098 Test Error:0.137\n",
      "Epoch:39/50 Training Error:0.098 Test Error:0.137\n",
      "Epoch:40/50 Training Error:0.098 Test Error:0.137\n",
      "Epoch:41/50 Training Error:0.098 Test Error:0.137\n",
      "Epoch:42/50 Training Error:0.098 Test Error:0.136\n",
      "Epoch:43/50 Training Error:0.097 Test Error:0.136\n",
      "Epoch:44/50 Training Error:0.097 Test Error:0.136\n",
      "Epoch:45/50 Training Error:0.097 Test Error:0.136\n",
      "Epoch:46/50 Training Error:0.097 Test Error:0.135\n",
      "Epoch:47/50 Training Error:0.096 Test Error:0.134\n",
      "Epoch:48/50 Training Error:0.095 Test Error:0.133\n",
      "Epoch:49/50 Training Error:0.093 Test Error:0.130\n",
      "Epoch:50/50 Training Error:0.090 Test Error:0.127\n",
      "\u001b[1mTrain/Test of the sub-dataset data/pickle/middle_small/processed_middle_small_0.05_0.1\u001b[0m\n",
      "Epoch:1/50 Training Error:0.980 Test Error:0.980\n",
      "Epoch:2/50 Training Error:0.871 Test Error:0.870\n",
      "Epoch:3/50 Training Error:0.670 Test Error:0.668\n",
      "Epoch:4/50 Training Error:0.442 Test Error:0.441\n",
      "Epoch:5/50 Training Error:0.256 Test Error:0.256\n",
      "Epoch:6/50 Training Error:0.143 Test Error:0.146\n",
      "Epoch:7/50 Training Error:0.096 Test Error:0.117\n",
      "Epoch:8/50 Training Error:0.085 Test Error:0.115\n",
      "Epoch:9/50 Training Error:0.083 Test Error:0.115\n",
      "Epoch:10/50 Training Error:0.082 Test Error:0.115\n",
      "Epoch:11/50 Training Error:0.082 Test Error:0.115\n",
      "Epoch:12/50 Training Error:0.081 Test Error:0.115\n",
      "Epoch:13/50 Training Error:0.081 Test Error:0.114\n",
      "Epoch:14/50 Training Error:0.081 Test Error:0.114\n",
      "Epoch:15/50 Training Error:0.081 Test Error:0.114\n",
      "Epoch:16/50 Training Error:0.080 Test Error:0.113\n",
      "Epoch:17/50 Training Error:0.080 Test Error:0.112\n",
      "Epoch:18/50 Training Error:0.079 Test Error:0.111\n",
      "Epoch:19/50 Training Error:0.078 Test Error:0.110\n",
      "Epoch:20/50 Training Error:0.076 Test Error:0.108\n",
      "Epoch:21/50 Training Error:0.074 Test Error:0.104\n",
      "Epoch:22/50 Training Error:0.070 Test Error:0.099\n",
      "Epoch:23/50 Training Error:0.065 Test Error:0.092\n",
      "Epoch:24/50 Training Error:0.058 Test Error:0.082\n",
      "Epoch:25/50 Training Error:0.049 Test Error:0.069\n",
      "Epoch:26/50 Training Error:0.039 Test Error:0.055\n",
      "Epoch:27/50 Training Error:0.030 Test Error:0.042\n",
      "Epoch:28/50 Training Error:0.023 Test Error:0.032\n",
      "Epoch:29/50 Training Error:0.017 Test Error:0.024\n",
      "Epoch:30/50 Training Error:0.014 Test Error:0.019\n",
      "Epoch:31/50 Training Error:0.013 Test Error:0.017\n",
      "Epoch:32/50 Training Error:0.012 Test Error:0.016\n",
      "Epoch:33/50 Training Error:0.012 Test Error:0.015\n",
      "Epoch:34/50 Training Error:0.012 Test Error:0.015\n",
      "Epoch:35/50 Training Error:0.012 Test Error:0.015\n",
      "Epoch:36/50 Training Error:0.012 Test Error:0.015\n",
      "Epoch:37/50 Training Error:0.012 Test Error:0.015\n",
      "Epoch:38/50 Training Error:0.012 Test Error:0.015\n",
      "Epoch:39/50 Training Error:0.012 Test Error:0.015\n",
      "Epoch:40/50 Training Error:0.012 Test Error:0.015\n",
      "Epoch:41/50 Training Error:0.012 Test Error:0.015\n",
      "Epoch:42/50 Training Error:0.012 Test Error:0.015\n",
      "Epoch:43/50 Training Error:0.012 Test Error:0.015\n",
      "Epoch:44/50 Training Error:0.012 Test Error:0.015\n",
      "Epoch:45/50 Training Error:0.012 Test Error:0.015\n",
      "Epoch:46/50 Training Error:0.012 Test Error:0.015\n",
      "Epoch:47/50 Training Error:0.012 Test Error:0.015\n",
      "Epoch:48/50 Training Error:0.012 Test Error:0.015\n",
      "Epoch:49/50 Training Error:0.012 Test Error:0.015\n",
      "Epoch:50/50 Training Error:0.012 Test Error:0.015\n",
      "\u001b[1mTrain/Test of the sub-dataset data/pickle/middle_small/processed_middle_small_0.02_0.25\u001b[0m\n",
      "Epoch:1/50 Training Error:0.972 Test Error:0.971\n",
      "Epoch:2/50 Training Error:0.845 Test Error:0.843\n",
      "Epoch:3/50 Training Error:0.633 Test Error:0.629\n",
      "Epoch:4/50 Training Error:0.403 Test Error:0.399\n",
      "Epoch:5/50 Training Error:0.230 Test Error:0.229\n",
      "Epoch:6/50 Training Error:0.137 Test Error:0.149\n",
      "Epoch:7/50 Training Error:0.107 Test Error:0.138\n",
      "Epoch:8/50 Training Error:0.100 Test Error:0.136\n",
      "Epoch:9/50 Training Error:0.099 Test Error:0.136\n",
      "Epoch:10/50 Training Error:0.098 Test Error:0.137\n",
      "Epoch:11/50 Training Error:0.098 Test Error:0.137\n",
      "Epoch:12/50 Training Error:0.098 Test Error:0.137\n",
      "Epoch:13/50 Training Error:0.098 Test Error:0.137\n",
      "Epoch:14/50 Training Error:0.098 Test Error:0.137\n",
      "Epoch:15/50 Training Error:0.098 Test Error:0.137\n",
      "Epoch:16/50 Training Error:0.098 Test Error:0.136\n"
     ]
    },
    {
     "name": "stdout",
     "output_type": "stream",
     "text": [
      "Epoch:17/50 Training Error:0.097 Test Error:0.136\n",
      "Epoch:18/50 Training Error:0.097 Test Error:0.136\n",
      "Epoch:19/50 Training Error:0.097 Test Error:0.135\n",
      "Epoch:20/50 Training Error:0.096 Test Error:0.134\n",
      "Epoch:21/50 Training Error:0.095 Test Error:0.133\n",
      "Epoch:22/50 Training Error:0.093 Test Error:0.130\n",
      "Epoch:23/50 Training Error:0.091 Test Error:0.127\n",
      "Epoch:24/50 Training Error:0.088 Test Error:0.123\n",
      "Epoch:25/50 Training Error:0.082 Test Error:0.116\n",
      "Epoch:26/50 Training Error:0.075 Test Error:0.106\n",
      "Epoch:27/50 Training Error:0.066 Test Error:0.093\n",
      "Epoch:28/50 Training Error:0.055 Test Error:0.078\n",
      "Epoch:29/50 Training Error:0.043 Test Error:0.062\n",
      "Epoch:30/50 Training Error:0.033 Test Error:0.047\n",
      "Epoch:31/50 Training Error:0.024 Test Error:0.034\n",
      "Epoch:32/50 Training Error:0.017 Test Error:0.025\n",
      "Epoch:33/50 Training Error:0.013 Test Error:0.019\n",
      "Epoch:34/50 Training Error:0.011 Test Error:0.015\n",
      "Epoch:35/50 Training Error:0.010 Test Error:0.014\n",
      "Epoch:36/50 Training Error:0.009 Test Error:0.013\n",
      "Epoch:37/50 Training Error:0.009 Test Error:0.013\n",
      "Epoch:38/50 Training Error:0.009 Test Error:0.012\n",
      "Epoch:39/50 Training Error:0.009 Test Error:0.012\n",
      "Epoch:40/50 Training Error:0.009 Test Error:0.012\n",
      "Epoch:41/50 Training Error:0.009 Test Error:0.012\n",
      "Epoch:42/50 Training Error:0.009 Test Error:0.012\n",
      "Epoch:43/50 Training Error:0.009 Test Error:0.012\n",
      "Epoch:44/50 Training Error:0.009 Test Error:0.012\n",
      "Epoch:45/50 Training Error:0.009 Test Error:0.012\n",
      "Epoch:46/50 Training Error:0.009 Test Error:0.012\n",
      "Epoch:47/50 Training Error:0.009 Test Error:0.012\n",
      "Epoch:48/50 Training Error:0.009 Test Error:0.012\n",
      "Epoch:49/50 Training Error:0.009 Test Error:0.012\n",
      "Epoch:50/50 Training Error:0.009 Test Error:0.012\n",
      "\u001b[1mTrain/Test of the sub-dataset data/pickle/middle_small/processed_middle_small_0.05_0.25\u001b[0m\n",
      "Epoch:1/50 Training Error:0.979 Test Error:0.979\n",
      "Epoch:2/50 Training Error:0.868 Test Error:0.867\n",
      "Epoch:3/50 Training Error:0.671 Test Error:0.670\n",
      "Epoch:4/50 Training Error:0.444 Test Error:0.444\n",
      "Epoch:5/50 Training Error:0.260 Test Error:0.261\n",
      "Epoch:6/50 Training Error:0.146 Test Error:0.151\n",
      "Epoch:7/50 Training Error:0.097 Test Error:0.120\n",
      "Epoch:8/50 Training Error:0.085 Test Error:0.116\n",
      "Epoch:9/50 Training Error:0.083 Test Error:0.115\n",
      "Epoch:10/50 Training Error:0.082 Test Error:0.115\n",
      "Epoch:11/50 Training Error:0.081 Test Error:0.114\n",
      "Epoch:12/50 Training Error:0.081 Test Error:0.114\n",
      "Epoch:13/50 Training Error:0.081 Test Error:0.114\n",
      "Epoch:14/50 Training Error:0.080 Test Error:0.113\n",
      "Epoch:15/50 Training Error:0.080 Test Error:0.112\n",
      "Epoch:16/50 Training Error:0.079 Test Error:0.111\n",
      "Epoch:17/50 Training Error:0.077 Test Error:0.109\n",
      "Epoch:18/50 Training Error:0.076 Test Error:0.107\n",
      "Epoch:19/50 Training Error:0.073 Test Error:0.103\n",
      "Epoch:20/50 Training Error:0.070 Test Error:0.098\n",
      "Epoch:21/50 Training Error:0.065 Test Error:0.092\n",
      "Epoch:22/50 Training Error:0.058 Test Error:0.083\n",
      "Epoch:23/50 Training Error:0.051 Test Error:0.072\n",
      "Epoch:24/50 Training Error:0.043 Test Error:0.061\n",
      "Epoch:25/50 Training Error:0.035 Test Error:0.049\n",
      "Epoch:26/50 Training Error:0.028 Test Error:0.039\n",
      "Epoch:27/50 Training Error:0.022 Test Error:0.031\n",
      "Epoch:28/50 Training Error:0.017 Test Error:0.024\n",
      "Epoch:29/50 Training Error:0.015 Test Error:0.020\n",
      "Epoch:30/50 Training Error:0.013 Test Error:0.018\n",
      "Epoch:31/50 Training Error:0.012 Test Error:0.016\n",
      "Epoch:32/50 Training Error:0.012 Test Error:0.016\n",
      "Epoch:33/50 Training Error:0.012 Test Error:0.015\n",
      "Epoch:34/50 Training Error:0.012 Test Error:0.015\n",
      "Epoch:35/50 Training Error:0.012 Test Error:0.015\n",
      "Epoch:36/50 Training Error:0.012 Test Error:0.015\n",
      "Epoch:37/50 Training Error:0.012 Test Error:0.015\n",
      "Epoch:38/50 Training Error:0.012 Test Error:0.015\n",
      "Epoch:39/50 Training Error:0.012 Test Error:0.015\n",
      "Epoch:40/50 Training Error:0.012 Test Error:0.015\n",
      "Epoch:41/50 Training Error:0.012 Test Error:0.015\n",
      "Epoch:42/50 Training Error:0.012 Test Error:0.015\n",
      "Epoch:43/50 Training Error:0.012 Test Error:0.015\n",
      "Epoch:44/50 Training Error:0.012 Test Error:0.015\n",
      "Epoch:45/50 Training Error:0.012 Test Error:0.015\n",
      "Epoch:46/50 Training Error:0.012 Test Error:0.015\n",
      "Epoch:47/50 Training Error:0.012 Test Error:0.015\n",
      "Epoch:48/50 Training Error:0.012 Test Error:0.015\n",
      "Epoch:49/50 Training Error:0.012 Test Error:0.015\n",
      "Epoch:50/50 Training Error:0.012 Test Error:0.015\n",
      "\u001b[1mTrain/Test of the sub-dataset data/pickle/middle_small/processed_middle_small_0.1_0.1\u001b[0m\n",
      "Epoch:1/50 Training Error:0.980 Test Error:0.980\n",
      "Epoch:2/50 Training Error:0.872 Test Error:0.872\n",
      "Epoch:3/50 Training Error:0.673 Test Error:0.672\n",
      "Epoch:4/50 Training Error:0.441 Test Error:0.440\n",
      "Epoch:5/50 Training Error:0.255 Test Error:0.256\n",
      "Epoch:6/50 Training Error:0.141 Test Error:0.146\n",
      "Epoch:7/50 Training Error:0.095 Test Error:0.116\n",
      "Epoch:8/50 Training Error:0.084 Test Error:0.113\n",
      "Epoch:9/50 Training Error:0.081 Test Error:0.112\n",
      "Epoch:10/50 Training Error:0.080 Test Error:0.112\n",
      "Epoch:11/50 Training Error:0.080 Test Error:0.112\n",
      "Epoch:12/50 Training Error:0.080 Test Error:0.112\n",
      "Epoch:13/50 Training Error:0.080 Test Error:0.112\n",
      "Epoch:14/50 Training Error:0.080 Test Error:0.111\n",
      "Epoch:15/50 Training Error:0.080 Test Error:0.111\n",
      "Epoch:16/50 Training Error:0.080 Test Error:0.111\n",
      "Epoch:17/50 Training Error:0.079 Test Error:0.111\n",
      "Epoch:18/50 Training Error:0.079 Test Error:0.111\n",
      "Epoch:19/50 Training Error:0.079 Test Error:0.111\n",
      "Epoch:20/50 Training Error:0.079 Test Error:0.110\n",
      "Epoch:21/50 Training Error:0.078 Test Error:0.110\n",
      "Epoch:22/50 Training Error:0.078 Test Error:0.109\n",
      "Epoch:23/50 Training Error:0.077 Test Error:0.108\n",
      "Epoch:24/50 Training Error:0.076 Test Error:0.106\n",
      "Epoch:25/50 Training Error:0.074 Test Error:0.104\n",
      "Epoch:26/50 Training Error:0.071 Test Error:0.100\n",
      "Epoch:27/50 Training Error:0.068 Test Error:0.095\n",
      "Epoch:28/50 Training Error:0.063 Test Error:0.088\n",
      "Epoch:29/50 Training Error:0.056 Test Error:0.079\n",
      "Epoch:30/50 Training Error:0.048 Test Error:0.068\n",
      "Epoch:31/50 Training Error:0.039 Test Error:0.056\n",
      "Epoch:32/50 Training Error:0.031 Test Error:0.045\n",
      "Epoch:33/50 Training Error:0.024 Test Error:0.035\n",
      "Epoch:34/50 Training Error:0.019 Test Error:0.027\n",
      "Epoch:35/50 Training Error:0.015 Test Error:0.022\n",
      "Epoch:36/50 Training Error:0.012 Test Error:0.019\n",
      "Epoch:37/50 Training Error:0.011 Test Error:0.017\n",
      "Epoch:38/50 Training Error:0.010 Test Error:0.016\n",
      "Epoch:39/50 Training Error:0.010 Test Error:0.015\n",
      "Epoch:40/50 Training Error:0.010 Test Error:0.015\n",
      "Epoch:41/50 Training Error:0.010 Test Error:0.014\n",
      "Epoch:42/50 Training Error:0.010 Test Error:0.014\n",
      "Epoch:43/50 Training Error:0.010 Test Error:0.014\n",
      "Epoch:44/50 Training Error:0.010 Test Error:0.014\n",
      "Epoch:45/50 Training Error:0.010 Test Error:0.014\n",
      "Epoch:46/50 Training Error:0.010 Test Error:0.014\n",
      "Epoch:47/50 Training Error:0.010 Test Error:0.014\n",
      "Epoch:48/50 Training Error:0.010 Test Error:0.014\n",
      "Epoch:49/50 Training Error:0.010 Test Error:0.014\n",
      "Epoch:50/50 Training Error:0.010 Test Error:0.014\n"
     ]
    }
   ],
   "source": [
    "import glob\n",
    "import os \n",
    "import _pickle as cPickle\n",
    "\n",
    "dataset = 'middle_small'\n",
    "file_location = os.path.join('data', 'pickle', dataset, '*')\n",
    "filenames = glob.glob(file_location)\n",
    "i=0 \n",
    "\n",
    "\n",
    "# define the parameters of the model\n",
    "learningRate= 1e-4\n",
    "neuron_ = 8\n",
    "\n",
    "epochs=50\n",
    "criterion = nn.MSELoss() \n",
    "\n",
    "test_errors = []\n",
    "train_errors = []\n",
    "names = [] #Just to be sure of which error corresponds to which sub-dataset\n",
    "\n",
    "for f in filenames:\n",
    "    \n",
    "    print(\"\\033[1m\" +'Train/Test of the sub-dataset ' + f + \"\\033[0m\")\n",
    "    \n",
    "    #Load the data\n",
    "    x  = cPickle.load(open(f, \"rb\"))\n",
    "    \n",
    "    #Split\n",
    "    x_train, x_test = train_test_split(x, test_size=0.1, random_state=seed)\n",
    "    y_train, y_test = x_train, x_test\n",
    "    \n",
    "    #Declare the model\n",
    "    input_size=x_train.shape[1]\n",
    "    model = Autoencoder(input_size, neuron_)\n",
    "    optimizer = torch.optim.Adam(model.parameters(), lr=learningRate, weight_decay=1e-5)\n",
    "    \n",
    "    #Dataloader\n",
    "    train_loader = DataLoader(x_train, batch_size=20)\n",
    "    test_loader = DataLoader(x_test, batch_size=20)\n",
    "    \n",
    "    #Training and testing over the epochs\n",
    "    for epoch in range(epochs):\n",
    "        # train the model \n",
    "        train_loss=train_epoch(train_loader, model, criterion, optimizer)\n",
    "        # compute the relative training error\n",
    "        train_error = valid_epoch(train_loader, model)\n",
    "        # compute the relative test error\n",
    "        test_error=valid_epoch(test_loader, model)\n",
    "        \n",
    "        print(\"Epoch:{}/{} Training Error:{:.3f} Test Error:{:.3f}\".format(epoch + 1,epochs,train_error,test_error))\n",
    "    \n",
    "    #Save the last epoch train and test errors\n",
    "    test_errors.append(test_error)\n",
    "    train_errors.append(train_error)\n",
    "    names.append(f)"
   ]
  },
  {
   "cell_type": "code",
   "execution_count": 107,
   "metadata": {},
   "outputs": [
    {
     "data": {
      "text/html": [
       "<div>\n",
       "<style scoped>\n",
       "    .dataframe tbody tr th:only-of-type {\n",
       "        vertical-align: middle;\n",
       "    }\n",
       "\n",
       "    .dataframe tbody tr th {\n",
       "        vertical-align: top;\n",
       "    }\n",
       "\n",
       "    .dataframe thead th {\n",
       "        text-align: right;\n",
       "    }\n",
       "</style>\n",
       "<table border=\"1\" class=\"dataframe\">\n",
       "  <thead>\n",
       "    <tr style=\"text-align: right;\">\n",
       "      <th></th>\n",
       "      <th>10%</th>\n",
       "      <th>5%</th>\n",
       "      <th>2%</th>\n",
       "    </tr>\n",
       "    <tr>\n",
       "      <th></th>\n",
       "      <th></th>\n",
       "      <th></th>\n",
       "      <th></th>\n",
       "    </tr>\n",
       "  </thead>\n",
       "  <tbody>\n",
       "    <tr>\n",
       "      <th>50%</th>\n",
       "      <td>0.007399</td>\n",
       "      <td>0.008211</td>\n",
       "      <td>0.007557</td>\n",
       "    </tr>\n",
       "    <tr>\n",
       "      <th>25%</th>\n",
       "      <td>0.006007</td>\n",
       "      <td>0.013739</td>\n",
       "      <td>0.008072</td>\n",
       "    </tr>\n",
       "    <tr>\n",
       "      <th>10%</th>\n",
       "      <td>0.008849</td>\n",
       "      <td>0.007709</td>\n",
       "      <td>0.007796</td>\n",
       "    </tr>\n",
       "  </tbody>\n",
       "</table>\n",
       "</div>"
      ],
      "text/plain": [
       "          10%        5%        2%\n",
       "                                 \n",
       "50%  0.007399  0.008211  0.007557\n",
       "25%  0.006007  0.013739  0.008072\n",
       "10%  0.008849  0.007709  0.007796"
      ]
     },
     "metadata": {},
     "output_type": "display_data"
    },
    {
     "name": "stdout",
     "output_type": "stream",
     "text": [
      "\u001b[1mTable of relative error depending on the sampling of the dataset\u001b[0m\n",
      "x : sampling of times\n",
      "y : sampling of positions\n"
     ]
    }
   ],
   "source": [
    "from pandas import *\n",
    "\n",
    "#If you want to load the test and train errors from the saved pickles files, uncomment following lines :\n",
    "'''\n",
    "dataset = \"middle_small\"\n",
    "train_errors  = cPickle.load(open(\"data/pickle/results/\"+\"train_errors_\" + dataset, \"rb\"))\n",
    "test_errors  = cPickle.load(open(\"data/pickle/results/\"+\"test_errors_\" + dataset, \"rb\"))\n",
    "'''\n",
    "\n",
    "results = DataFrame({'' : ['50%', '25%', '10%'],\n",
    "                   '10%' : test_errors[:3][::-1],\n",
    "                   '5%' : test_errors[3:6][::-1],\n",
    "                   '2%' : test_errors[6:9][::-1]})\n",
    "\n",
    "results = results.set_index('')\n",
    "\n",
    "display(results)\n",
    "print(\"\\033[1m\" + 'Table of relative error depending on the sampling of the dataset' + \"\\033[0m\")\n",
    "print('x : sampling of times')\n",
    "print('y : sampling of positions')"
   ]
  },
  {
   "cell_type": "code",
   "execution_count": 108,
   "metadata": {},
   "outputs": [],
   "source": [
    "#Save in pickles\n",
    "name = \"train_errors_\" + dataset\n",
    "cPickle.dump( train_errors , open( name, \"wb\" ) )\n",
    "name = \"test_errors_\" + dataset\n",
    "cPickle.dump( test_errors , open( name, \"wb\" ) )"
   ]
  },
  {
   "cell_type": "markdown",
   "metadata": {},
   "source": [
    "### Physical interpretation"
   ]
  },
  {
   "cell_type": "code",
   "execution_count": 145,
   "metadata": {
    "scrolled": true
   },
   "outputs": [
    {
     "name": "stdout",
     "output_type": "stream",
     "text": [
      "Epoch:1/50 Training Error:0.983 Test Error:0.983\n",
      "Epoch:2/50 Training Error:0.885 Test Error:0.885\n",
      "Epoch:3/50 Training Error:0.684 Test Error:0.681\n",
      "Epoch:4/50 Training Error:0.452 Test Error:0.448\n",
      "Epoch:5/50 Training Error:0.260 Test Error:0.254\n",
      "Epoch:6/50 Training Error:0.143 Test Error:0.132\n",
      "Epoch:7/50 Training Error:0.101 Test Error:0.070\n",
      "Epoch:8/50 Training Error:0.093 Test Error:0.061\n",
      "Epoch:9/50 Training Error:0.091 Test Error:0.060\n",
      "Epoch:10/50 Training Error:0.091 Test Error:0.060\n",
      "Epoch:11/50 Training Error:0.090 Test Error:0.060\n",
      "Epoch:12/50 Training Error:0.090 Test Error:0.060\n",
      "Epoch:13/50 Training Error:0.090 Test Error:0.059\n",
      "Epoch:14/50 Training Error:0.090 Test Error:0.059\n",
      "Epoch:15/50 Training Error:0.090 Test Error:0.059\n",
      "Epoch:16/50 Training Error:0.089 Test Error:0.059\n",
      "Epoch:17/50 Training Error:0.089 Test Error:0.059\n",
      "Epoch:18/50 Training Error:0.088 Test Error:0.058\n",
      "Epoch:19/50 Training Error:0.087 Test Error:0.058\n",
      "Epoch:20/50 Training Error:0.086 Test Error:0.057\n",
      "Epoch:21/50 Training Error:0.084 Test Error:0.055\n",
      "Epoch:22/50 Training Error:0.081 Test Error:0.053\n",
      "Epoch:23/50 Training Error:0.077 Test Error:0.051\n",
      "Epoch:24/50 Training Error:0.071 Test Error:0.047\n",
      "Epoch:25/50 Training Error:0.063 Test Error:0.041\n",
      "Epoch:26/50 Training Error:0.054 Test Error:0.035\n",
      "Epoch:27/50 Training Error:0.043 Test Error:0.027\n",
      "Epoch:28/50 Training Error:0.033 Test Error:0.020\n",
      "Epoch:29/50 Training Error:0.024 Test Error:0.015\n",
      "Epoch:30/50 Training Error:0.018 Test Error:0.011\n",
      "Epoch:31/50 Training Error:0.015 Test Error:0.010\n",
      "Epoch:32/50 Training Error:0.013 Test Error:0.009\n",
      "Epoch:33/50 Training Error:0.013 Test Error:0.009\n",
      "Epoch:34/50 Training Error:0.012 Test Error:0.009\n",
      "Epoch:35/50 Training Error:0.012 Test Error:0.009\n",
      "Epoch:36/50 Training Error:0.012 Test Error:0.009\n",
      "Epoch:37/50 Training Error:0.012 Test Error:0.009\n",
      "Epoch:38/50 Training Error:0.012 Test Error:0.009\n",
      "Epoch:39/50 Training Error:0.012 Test Error:0.009\n",
      "Epoch:40/50 Training Error:0.012 Test Error:0.009\n",
      "Epoch:41/50 Training Error:0.012 Test Error:0.009\n",
      "Epoch:42/50 Training Error:0.012 Test Error:0.009\n",
      "Epoch:43/50 Training Error:0.012 Test Error:0.009\n",
      "Epoch:44/50 Training Error:0.012 Test Error:0.009\n",
      "Epoch:45/50 Training Error:0.012 Test Error:0.009\n",
      "Epoch:46/50 Training Error:0.012 Test Error:0.009\n",
      "Epoch:47/50 Training Error:0.012 Test Error:0.009\n",
      "Epoch:48/50 Training Error:0.012 Test Error:0.009\n",
      "Epoch:49/50 Training Error:0.012 Test Error:0.009\n",
      "Epoch:50/50 Training Error:0.012 Test Error:0.009\n"
     ]
    }
   ],
   "source": [
    "import _pickle as cPickle\n",
    "\n",
    "# define the parameters of the model\n",
    "learningRate= 1e-4\n",
    "neuron_ = 8\n",
    "epochs=50\n",
    "criterion = nn.MSELoss() \n",
    "\n",
    "\n",
    "#Load the data\n",
    "x  = cPickle.load(open('data/pickle/middle_small/processed_middle_small_0.05_0.1', \"rb\"))\n",
    "\n",
    "#Split\n",
    "x_train, x_test = train_test_split(x, test_size=0.1, random_state=seed, shuffle=False)\n",
    "y_train, y_test = x_train, x_test\n",
    "\n",
    "#Declare the model\n",
    "input_size=x_train.shape[1]\n",
    "model = Autoencoder(input_size, neuron_)\n",
    "optimizer = torch.optim.Adam(model.parameters(), lr=learningRate, weight_decay=1e-5)\n",
    "\n",
    "#Dataloader\n",
    "train_loader = DataLoader(x_train, batch_size=20)\n",
    "test_loader = DataLoader(x_test, batch_size=20)\n",
    "\n",
    "#Training and testing over the epochs\n",
    "for epoch in range(epochs):\n",
    "    # train the model \n",
    "    train_loss=train_epoch(train_loader, model, criterion, optimizer)\n",
    "    # compute the relative training error\n",
    "    train_error = valid_epoch(train_loader, model)\n",
    "    # compute the relative test error\n",
    "    test_error=valid_epoch(test_loader, model)\n",
    "\n",
    "    print(\"Epoch:{}/{} Training Error:{:.3f} Test Error:{:.3f}\".format(epoch + 1,epochs,train_error,test_error))\n",
    "\n",
    "#Look at the compression\n",
    "compressed_X_train = []\n",
    "for train in train_loader :\n",
    "    train = train.float()\n",
    "    compressed_x_train = model.forward(x=train, show_compression=True)\n",
    "    compressed_X_train.append(compressed_x_train.detach().numpy())\n",
    "\n",
    "compressed_X_test = []    \n",
    "for test in test_loader :\n",
    "    test = test.float()\n",
    "    compressed_x_test = model.forward(x=test, show_compression=True)\n",
    "    compressed_X_test.append(compressed_x_test.detach().numpy())    "
   ]
  },
  {
   "cell_type": "code",
   "execution_count": 148,
   "metadata": {},
   "outputs": [],
   "source": [
    "compressed_X_train_ = np.concatenate(np.squeeze(np.array(compressed_X_train)))\n",
    "compressed_X_test_ = (np.squeeze(np.array(compressed_X_test)))"
   ]
  },
  {
   "cell_type": "code",
   "execution_count": 149,
   "metadata": {
    "scrolled": true
   },
   "outputs": [
    {
     "name": "stdout",
     "output_type": "stream",
     "text": [
      "(157, 8)\n",
      "(18, 8)\n"
     ]
    }
   ],
   "source": [
    "print(compressed_X_train_.shape)\n",
    "print(compressed_X_test_.shape)"
   ]
  },
  {
   "cell_type": "code",
   "execution_count": 150,
   "metadata": {},
   "outputs": [
    {
     "data": {
      "text/plain": [
       "[array([-2.51023197e+01,  1.36625576e+01, -1.80539352e+02,  1.33666626e+02,\n",
       "         5.56064758e+01,  9.57128448e+01, -8.49383774e+01, -6.34556656e+01,\n",
       "         6.30126455e+02,  1.86665480e+02,  3.25944578e+04,  1.78667669e+04,\n",
       "         3.09208015e+03,  9.16094867e+03,  7.21452795e+03,  4.02662150e+03,\n",
       "        -1.58176357e+04,  2.55032788e+03, -5.88458230e+06,  2.38819045e+06,\n",
       "         1.71939680e+05,  8.76820459e+05, -6.12790298e+05, -2.55511947e+05]),\n",
       " array([-9.11531258e+00,  5.35936880e+00, -5.13885498e+01,  3.60444374e+01,\n",
       "         1.48251200e+01,  2.17197590e+01, -1.83377914e+01, -1.46456566e+01,\n",
       "         8.30889234e+01,  2.87228339e+01,  2.64078305e+03,  1.29920147e+03,\n",
       "         2.19784182e+02,  4.71747930e+02,  3.36274595e+02,  2.14495257e+02,\n",
       "        -7.57381508e+02,  1.53936260e+02, -1.35706011e+05,  4.68289860e+04,\n",
       "         3.25832687e+03,  1.02462514e+04, -6.16653339e+03, -3.14142387e+03]),\n",
       " array([-5.22576809e+00,  2.00536418e+00, -3.89364357e+01,  2.92898998e+01,\n",
       "         1.23847208e+01,  2.20608902e+01, -2.03152256e+01, -1.49499092e+01,\n",
       "         2.73086521e+01,  4.02148549e+00,  1.51604602e+03,  8.57898232e+02,\n",
       "         1.53381309e+02,  4.86682876e+02,  4.12708391e+02,  2.23499785e+02,\n",
       "        -1.42708683e+02,  8.06454296e+00, -5.90294286e+04,  2.51277533e+04,\n",
       "         1.89958469e+03,  1.07366575e+04, -8.38426408e+03, -3.34130150e+03]),\n",
       " array([-2.90002747e+01,  1.42140951e+01, -1.81716339e+02,  1.31672958e+02,\n",
       "         5.45288811e+01,  8.93563156e+01, -7.91728745e+01, -6.00566597e+01,\n",
       "         8.41015930e+02,  2.02040500e+02,  3.30208279e+04,  1.73377680e+04,\n",
       "         2.97339887e+03,  7.98455114e+03,  6.26834405e+03,  3.60680237e+03,\n",
       "        -2.43896930e+04,  2.87182288e+03, -6.00042396e+06,  2.28291520e+06,\n",
       "         1.62136113e+05,  7.13470072e+05, -4.96282816e+05, -2.16612503e+05]),\n",
       " array([-1.27313356e+01,  7.56062365e+00, -6.18531914e+01,  4.17013588e+01,\n",
       "         1.69054737e+01,  2.16624203e+01, -1.73595963e+01, -1.47908697e+01,\n",
       "         1.62086907e+02,  5.71630299e+01,  3.82581728e+03,  1.73900333e+03,\n",
       "         2.85795041e+02,  4.69260452e+02,  3.01355582e+02,  2.18769827e+02,\n",
       "        -2.06358282e+03,  4.32188156e+02, -2.36639009e+05,  7.25188016e+04,\n",
       "         4.83150056e+03,  1.01653171e+04, -5.23141123e+03, -3.23579601e+03]),\n",
       " array([-8.12603474e+00,  4.51004171e+00, -4.35089226e+01,  3.02223549e+01,\n",
       "         1.24261847e+01,  1.76852436e+01, -1.49536142e+01, -1.20721912e+01,\n",
       "         6.60324405e+01,  2.03404763e+01,  1.89302634e+03,  9.13390735e+02,\n",
       "         1.54410065e+02,  3.12767841e+02,  2.23610579e+02,  1.45737801e+02,\n",
       "        -5.36581906e+02,  9.17363964e+01, -8.23635366e+04,  2.76048189e+04,\n",
       "         1.91872798e+03,  5.53137547e+03, -3.34378633e+03, -1.75937461e+03]),\n",
       " array([-1.13500843e+01,  6.17923164e+00, -5.94091225e+01,  4.10961304e+01,\n",
       "         1.68345699e+01,  2.37665215e+01, -2.00578575e+01, -1.62315788e+01,\n",
       "         1.28824414e+02,  3.81829037e+01,  3.52944383e+03,  1.68889193e+03,\n",
       "         2.83402745e+02,  5.64847542e+02,  4.02317648e+02,  2.63464151e+02,\n",
       "        -1.46216796e+03,  2.35941007e+02, -2.09681161e+05,  6.94069230e+04,\n",
       "         4.77096333e+03,  1.34244612e+04, -8.06963006e+03, -4.27643914e+03]),\n",
       " array([ 2.74603577e+01, -2.51835365e+01, -4.74403496e+01,  7.03789749e+01,\n",
       "         3.42884369e+01,  1.22216682e+02, -1.27845680e+02, -7.98322601e+01,\n",
       "         7.54071243e+02,  6.34210512e+02,  2.25058677e+03,  4.95320011e+03,\n",
       "         1.17569690e+03,  1.49369175e+04,  1.63445180e+04,  6.37318976e+03,\n",
       "         2.07070660e+04, -1.59716636e+04, -1.06768623e+05,  3.48601146e+05,\n",
       "         4.03128091e+04,  1.82554050e+06, -2.08957602e+06, -5.08786143e+05]),\n",
       " array([ 5.42564917e+00, -7.48958921e+00, -5.50749016e+01,  5.45293350e+01,\n",
       "         2.47318268e+01,  6.72258072e+01, -6.75695953e+01, -4.43409500e+01,\n",
       "         2.94376689e+01,  5.60939466e+01,  3.03324478e+03,  2.97344838e+03,\n",
       "         6.11663256e+02,  4.51930915e+03,  4.56565021e+03,  1.96611985e+03,\n",
       "         1.59718464e+02, -4.20120617e+02, -1.67055658e+05,  1.62140163e+05,\n",
       "         1.51275497e+04,  3.03814206e+05, -3.08499137e+05, -8.71796219e+04]),\n",
       " array([ 3.49839282e+00, -8.70122528e+00, -1.00460533e+02,  9.30556488e+01,\n",
       "         4.14487724e+01,  1.05176949e+02, -1.04438751e+02, -6.95109100e+01,\n",
       "         1.22387523e+01,  7.57113214e+01,  1.00923187e+04,  8.65935377e+03,\n",
       "         1.71800074e+03,  1.10621905e+04,  1.09074528e+04,  4.83176661e+03,\n",
       "         4.28159633e+01, -6.58781264e+02, -1.01387972e+06,  8.05801784e+05,\n",
       "         7.12090215e+04,  1.16348744e+06, -1.13916074e+06, -3.35860494e+05]),\n",
       " array([-5.71606483e+01,  3.74938583e+01, -1.98225540e+02,  1.16985641e+02,\n",
       "         4.46496506e+01,  2.38935699e+01, -6.23755884e+00, -1.76289196e+01,\n",
       "         3.26733972e+03,  1.40578941e+03,  3.92933648e+04,  1.36856403e+04,\n",
       "         1.99359130e+03,  5.70902685e+02,  3.89071403e+01,  3.10778806e+02,\n",
       "        -1.86763257e+05,  5.27084691e+04, -7.78894846e+06,  1.60102341e+06,\n",
       "         8.90131548e+04,  1.36409032e+04, -2.42685577e+02, -5.47869459e+03]),\n",
       " array([-2.31067944e+00,  1.29390657e-01, -4.00503922e+01,  3.30523148e+01,\n",
       "         1.43134604e+01,  3.05336037e+01, -2.91084480e+01, -2.02914696e+01,\n",
       "         5.33923945e+00,  1.67419421e-02,  1.60403391e+03,  1.09245551e+03,\n",
       "         2.04875147e+02,  9.32300953e+02,  8.47301747e+02,  4.11743737e+02,\n",
       "        -1.23372708e+01,  2.16625089e-03, -6.42421872e+04,  3.61081834e+04,\n",
       "         2.93247230e+03,  2.84665078e+04, -2.46636389e+04, -8.35488552e+03]),\n",
       " array([-4.31136465e+00,  1.65840840e+00, -5.75243988e+01,  4.62206383e+01,\n",
       "         1.97871933e+01,  4.02993355e+01, -3.75966530e+01, -2.65783081e+01,\n",
       "         1.85878652e+01,  2.75031843e+00,  3.30905646e+03,  2.13634740e+03,\n",
       "         3.91533019e+02,  1.62403644e+03,  1.41350832e+03,  7.06406462e+02,\n",
       "        -8.01390647e+01,  4.56115120e+00, -1.90351483e+05,  9.87433405e+04,\n",
       "         7.74733952e+03,  6.54475893e+04, -5.31431816e+04, -1.87750886e+04]),\n",
       " array([ 6.41649866e+00, -7.44785213e+00, -4.62321396e+01,  4.75661774e+01,\n",
       "         2.17029552e+01,  6.11353951e+01, -6.16829453e+01, -4.01776352e+01,\n",
       "         4.11714551e+01,  5.54705014e+01,  2.13741073e+03,  2.26254123e+03,\n",
       "         4.71018266e+02,  3.73753653e+03,  3.80478573e+03,  1.61424237e+03,\n",
       "         2.64176586e+02, -4.13136092e+02, -9.88170713e+04,  1.07620437e+05,\n",
       "         1.02224884e+04,  2.28495772e+05, -2.34690390e+05, -6.48564410e+04]),\n",
       " array([-8.47165604e+01,  5.85779495e+01, -2.93785095e+02,  1.72360291e+02,\n",
       "         6.52973557e+01,  3.14695797e+01, -3.52083302e+00, -2.26234188e+01,\n",
       "         7.17689560e+03,  3.43137617e+03,  8.63096822e+04,  2.97080698e+04,\n",
       "         4.26374466e+03,  9.90334446e+02,  1.23962651e+01,  5.11819079e+02,\n",
       "        -6.08001909e+05,  2.01002980e+05, -2.53564982e+07,  5.12049153e+06,\n",
       "         2.78411251e+05,  3.11654088e+04, -4.36451795e+01, -1.15790974e+04]),\n",
       " array([-8.19782028e+01,  5.62509079e+01, -2.53347366e+02,  1.39994385e+02,\n",
       "         5.17236252e+01,  4.09993029e+00,  2.11779900e+01, -5.08332872e+00,\n",
       "         6.72042574e+03,  3.16416464e+03,  6.41848880e+04,  1.95984278e+04,\n",
       "         2.67533340e+03,  1.68094284e+01,  4.48507259e+02,  2.58402309e+01,\n",
       "        -5.50928424e+05,  1.77987134e+05, -1.62610723e+07,  2.74366984e+06,\n",
       "         1.38377942e+05,  6.89174844e+01,  9.49848222e+03, -1.31354388e+02]),\n",
       " array([-2.80887032e+01,  1.69696751e+01, -1.80741470e+02,  1.30448441e+02,\n",
       "         5.37229996e+01,  8.63155746e+01, -7.43547821e+01, -5.71205559e+01,\n",
       "         7.88975245e+02,  2.87969872e+02,  3.26674791e+04,  1.70167956e+04,\n",
       "         2.88616068e+03,  7.45037843e+03,  5.52863362e+03,  3.26275790e+03,\n",
       "        -2.21612915e+04,  4.88675515e+03, -5.90436820e+06,  2.21981445e+06,\n",
       "         1.55053209e+05,  6.43083695e+05, -4.11080348e+05, -1.86370545e+05]),\n",
       " array([-7.36720324e+00,  3.19302225e+00, -4.92156639e+01,  3.62403336e+01,\n",
       "         1.51855440e+01,  2.57536621e+01, -2.33281937e+01, -1.74628849e+01,\n",
       "         5.42756835e+01,  1.01953911e+01,  2.42218157e+03,  1.31336178e+03,\n",
       "         2.30600747e+02,  6.63251112e+02,  5.44204620e+02,  3.04952349e+02,\n",
       "        -3.99859991e+02,  3.25541106e+01, -1.19209274e+05,  4.75966689e+04,\n",
       "         3.50179779e+03,  1.70811450e+04, -1.26953108e+04, -5.32534777e+03])]"
      ]
     },
     "execution_count": 150,
     "metadata": {},
     "output_type": "execute_result"
    }
   ],
   "source": [
    "exponents = np.arange(3) + 1\n",
    "\n",
    "compressed_X_train_pol = []\n",
    "for row in compressed_X_train_: \n",
    "    compressed_X_train_pol.append((row**exponents[:,None]).ravel())\n",
    "    \n",
    "compressed_X_test_pol = []\n",
    "for row in compressed_X_test_: \n",
    "    compressed_X_test_pol.append((row**exponents[:,None]).ravel())    \n",
    "\n",
    "compressed_X_test_pol    "
   ]
  },
  {
   "cell_type": "code",
   "execution_count": 151,
   "metadata": {},
   "outputs": [],
   "source": [
    "compressed_Y_pd = pd.read_csv(\"Data/params_middle_small.csv.bz2\", header=None)\n",
    "compressed_Y = compressed_Y_pd.to_numpy()"
   ]
  },
  {
   "cell_type": "code",
   "execution_count": 152,
   "metadata": {},
   "outputs": [
    {
     "data": {
      "text/plain": [
       "(175, 5)"
      ]
     },
     "execution_count": 152,
     "metadata": {},
     "output_type": "execute_result"
    }
   ],
   "source": [
    "compressed_Y.shape"
   ]
  },
  {
   "cell_type": "code",
   "execution_count": 153,
   "metadata": {},
   "outputs": [
    {
     "name": "stdout",
     "output_type": "stream",
     "text": [
      "(157, 5)\n",
      "(18, 5)\n"
     ]
    }
   ],
   "source": [
    "compressed_Y_train = compressed_Y[:-18,:]\n",
    "print(compressed_Y_train.shape)\n",
    "compressed_Y_test = compressed_Y[-19:-1,:]\n",
    "print(compressed_Y_test.shape)"
   ]
  },
  {
   "cell_type": "code",
   "execution_count": 154,
   "metadata": {
    "scrolled": true
   },
   "outputs": [
    {
     "name": "stdout",
     "output_type": "stream",
     "text": [
      "The train score is:  0.6837902284156756\n",
      "The test score is:  -0.6437241890235734\n"
     ]
    }
   ],
   "source": [
    "from sklearn.linear_model import LinearRegression\n",
    "reg_pol = LinearRegression().fit(compressed_X_train_, compressed_Y_train)\n",
    "train_score = (reg_pol.score(compressed_X_train_, compressed_Y_train))\n",
    "test_score = (reg_pol.score(compressed_X_test_, compressed_Y_test))\n",
    "#print(reg_pol.coef_)\n",
    "#print(reg_pol.intercept_)\n",
    "print('The train score is: ', train_score)\n",
    "print('The test score is: ', test_score)"
   ]
  },
  {
   "cell_type": "code",
   "execution_count": 114,
   "metadata": {},
   "outputs": [
    {
     "name": "stdout",
     "output_type": "stream",
     "text": [
      "The train score is:  0.7224061023235515\n",
      "The test score is:  -0.6586698262059498\n"
     ]
    }
   ],
   "source": [
    "from sklearn.linear_model import Ridge\n",
    "ridge_pol = Ridge(alpha=1).fit(compressed_X_train_pol, compressed_Y_train)\n",
    "train_score_ridge = (ridge_pol.score(compressed_X_train_pol, compressed_Y_train))\n",
    "test_score_ridge = (ridge_pol.score(compressed_X_test_pol, compressed_Y_test))\n",
    "#print(reg_pol.coef_)\n",
    "#print(reg_pol.intercept_)\n",
    "print('The train score is: ', train_score_ridge)\n",
    "print('The test score is: ', test_score_ridge)"
   ]
  },
  {
   "cell_type": "code",
   "execution_count": 118,
   "metadata": {},
   "outputs": [
    {
     "name": "stdout",
     "output_type": "stream",
     "text": [
      "The train score is:  0.29529503702783017\n",
      "The test score is:  -0.29845577963584896\n"
     ]
    }
   ],
   "source": [
    "from sklearn.linear_model import ElasticNet\n",
    "regr = ElasticNet(random_state=0, alpha=1).fit(compressed_X_train, compressed_Y_train)\n",
    "train_score_elast = (regr.score(compressed_X_train, compressed_Y_train))\n",
    "test_score_elast = (regr.score(compressed_X_test, compressed_Y_test))\n",
    "#print(reg_pol.coef_)\n",
    "#print(reg_pol.intercept_)\n",
    "print('The train score is: ', train_score_elast)\n",
    "print('The test score is: ', test_score_elast)"
   ]
  },
  {
   "cell_type": "markdown",
   "metadata": {},
   "source": [
    "## 4. Passer en 2D "
   ]
  },
  {
   "cell_type": "markdown",
   "metadata": {},
   "source": [
    "Instead of flattenning our initial dataset into a colummn vector for each simulation, we split it into a 2D matrix for each simulation such as the following:\n",
    "\n",
    "$$\n",
    "\\mathbf{M_{2D}}\n",
    "=\n",
    "\\begin{bmatrix}\n",
    "\\vdots & \\vdots & \\vdots & \\vdots \\\\\n",
    "u_{x}^{(0)} & u_{x}^{(1)} & \\cdots &\n",
    "u_{x}^{(N_t - 1)} \\\\\n",
    "\\vdots & \\vdots & \\ddots & \\vdots \\\\\n",
    "u_{y}^{(0)} & u_{y}^{(1)} & \\cdots &\n",
    "u_{y}^{(N_t - 1)} \\\\\n",
    "\\vdots & \\vdots & \\vdots & \\vdots\n",
    "\\end{bmatrix}\n",
    "$$"
   ]
  },
  {
   "cell_type": "code",
   "execution_count": 16,
   "metadata": {},
   "outputs": [
    {
     "data": {
      "text/plain": [
       "(25, 1100, 110)"
      ]
     },
     "execution_count": 16,
     "metadata": {},
     "output_type": "execute_result"
    }
   ],
   "source": [
    "flattened_array = flatten_2d(new_Ux, new_Uy, ratio_pts)\n",
    "flattened_array.shape"
   ]
  },
  {
   "cell_type": "markdown",
   "metadata": {},
   "source": [
    "## 5. Passer en 4D"
   ]
  },
  {
   "cell_type": "code",
   "execution_count": 11,
   "metadata": {},
   "outputs": [
    {
     "ename": "IndexError",
     "evalue": "index 55 is out of bounds for axis 1 with size 55",
     "output_type": "error",
     "traceback": [
      "\u001b[1;31m---------------------------------------------------------------------------\u001b[0m",
      "\u001b[1;31mIndexError\u001b[0m                                Traceback (most recent call last)",
      "\u001b[1;32m~\\AppData\\Local\\Temp/ipykernel_12324/826318526.py\u001b[0m in \u001b[0;36m<module>\u001b[1;34m\u001b[0m\n\u001b[1;32m----> 1\u001b[1;33m \u001b[0mflattened_array_4d\u001b[0m \u001b[1;33m=\u001b[0m \u001b[0mflatten_4d\u001b[0m\u001b[1;33m(\u001b[0m\u001b[0mnew_Ux\u001b[0m\u001b[1;33m,\u001b[0m \u001b[0mnew_Uy\u001b[0m\u001b[1;33m,\u001b[0m \u001b[0mratio_pts\u001b[0m\u001b[1;33m)\u001b[0m\u001b[1;33m\u001b[0m\u001b[1;33m\u001b[0m\u001b[0m\n\u001b[0m\u001b[0;32m      2\u001b[0m \u001b[0mflattened_array_4d\u001b[0m\u001b[1;33m.\u001b[0m\u001b[0mshape\u001b[0m\u001b[1;33m\u001b[0m\u001b[1;33m\u001b[0m\u001b[0m\n",
      "\u001b[1;32m~\\OneDrive\\Documents\\Théau EPFL\\9.MA1\\Machine learning\\ML_project2\\ml-project-2-thevipers2\\preprocessing.py\u001b[0m in \u001b[0;36mflatten_4d\u001b[1;34m(Ux, Uy, ratios_pts, size)\u001b[0m\n\u001b[0;32m    278\u001b[0m \u001b[1;33m\u001b[0m\u001b[0m\n\u001b[0;32m    279\u001b[0m             \u001b[1;31m# plug the concatenation of the x and y speed coordinate into the column of the final array\u001b[0m\u001b[1;33m\u001b[0m\u001b[1;33m\u001b[0m\u001b[1;33m\u001b[0m\u001b[0m\n\u001b[1;32m--> 280\u001b[1;33m             \u001b[0mflattened_array_all\u001b[0m\u001b[1;33m[\u001b[0m\u001b[0midx_sim\u001b[0m\u001b[1;33m,\u001b[0m \u001b[0mcol\u001b[0m\u001b[1;33m,\u001b[0m \u001b[1;33m:\u001b[0m\u001b[1;33m,\u001b[0m \u001b[1;33m:\u001b[0m\u001b[1;33m]\u001b[0m \u001b[1;33m=\u001b[0m \u001b[0msim_x\u001b[0m\u001b[1;33m\u001b[0m\u001b[1;33m\u001b[0m\u001b[0m\n\u001b[0m\u001b[0;32m    281\u001b[0m             \u001b[0mflattened_array_all\u001b[0m\u001b[1;33m[\u001b[0m\u001b[0midx_sim\u001b[0m\u001b[1;33m,\u001b[0m \u001b[1;33m:\u001b[0m\u001b[1;33m,\u001b[0m \u001b[0mcol\u001b[0m\u001b[1;33m,\u001b[0m \u001b[1;33m:\u001b[0m\u001b[1;33m]\u001b[0m \u001b[1;33m=\u001b[0m \u001b[0msim_y\u001b[0m\u001b[1;33m\u001b[0m\u001b[1;33m\u001b[0m\u001b[0m\n\u001b[0;32m    282\u001b[0m \u001b[1;33m\u001b[0m\u001b[0m\n",
      "\u001b[1;31mIndexError\u001b[0m: index 55 is out of bounds for axis 1 with size 55"
     ]
    }
   ],
   "source": [
    "flattened_array_4d = flatten_4d(new_Ux, new_Uy, ratio_pts)\n",
    "flattened_array_4d.shape"
   ]
  },
  {
   "cell_type": "code",
   "execution_count": null,
   "metadata": {},
   "outputs": [],
   "source": [
    "flattened_array_4d = normalize(flattened_array_4d)"
   ]
  },
  {
   "cell_type": "code",
   "execution_count": null,
   "metadata": {},
   "outputs": [],
   "source": [
    "x_train, x_test = train_test_split(flattened_array_4d, test_size=0.1, random_state=seed)"
   ]
  },
  {
   "cell_type": "code",
   "execution_count": null,
   "metadata": {},
   "outputs": [],
   "source": [
    "import h5py"
   ]
  },
  {
   "cell_type": "code",
   "execution_count": null,
   "metadata": {},
   "outputs": [],
   "source": [
    "hf = h5py.File('trainset.h5', 'w')\n",
    "hf.create_dataset('dataset_1', data=x_train)"
   ]
  },
  {
   "cell_type": "code",
   "execution_count": null,
   "metadata": {},
   "outputs": [],
   "source": [
    "hf = h5py.File('testset.h5', 'w')\n",
    "hf.create_dataset('dataset_1', data=x)"
   ]
  },
  {
   "cell_type": "markdown",
   "metadata": {},
   "source": [
    "## 6. Discussion & conclusion"
   ]
  },
  {
   "cell_type": "code",
   "execution_count": null,
   "metadata": {},
   "outputs": [],
   "source": []
  }
 ],
 "metadata": {
  "kernelspec": {
   "display_name": "Python 3",
   "language": "python",
   "name": "python3"
  },
  "language_info": {
   "codemirror_mode": {
    "name": "ipython",
    "version": 3
   },
   "file_extension": ".py",
   "mimetype": "text/x-python",
   "name": "python",
   "nbconvert_exporter": "python",
   "pygments_lexer": "ipython3",
   "version": "3.8.8"
  }
 },
 "nbformat": 4,
 "nbformat_minor": 4
}
