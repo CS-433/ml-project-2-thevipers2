{
 "cells": [
  {
   "cell_type": "markdown",
   "metadata": {},
   "source": [
    "# Machine Learning - Project 2:\n",
    "# _Unsteady parametrized Stokes equations in a 2D arterial bifurcation with stenosis: design of a LSTM Autoencoder for data compression_"
   ]
  },
  {
   "cell_type": "markdown",
   "metadata": {},
   "source": [
    "## Context"
   ]
  },
  {
   "cell_type": "markdown",
   "metadata": {},
   "source": [
    "In this notebook, we continue our study by focusing on __Long Short-Term Memory Autoencoder__ , or LSTM AE,using the same dataset generated on the first jupyter notebook `main.ipynb`.\n",
    "Indeed, recurrent neural networks, such as LSTM, network are specifically designed to support sequences of input data. And since our simulations are time-dependent, it is interesting to use this specific model for our application."
   ]
  },
  {
   "cell_type": "markdown",
   "metadata": {},
   "source": [
    "Abbreviations used:\n",
    "- $N_u$ = total number of spatial points per simulation\n",
    "- $N_t$ = total number of time steps per simulation\n",
    "- $N_s$ = total number of simulations"
   ]
  },
  {
   "cell_type": "markdown",
   "metadata": {},
   "source": [
    "## Table of contents"
   ]
  },
  {
   "cell_type": "markdown",
   "metadata": {},
   "source": [
    "[1. Data exploration](#data_exploration) \n",
    "- [Imports](#1imports)\n",
    "- [Pathways](#1pathways)\n",
    "- [Loading](#1load)\n",
    "- [Exploration](#1exploration)\n",
    "\n",
    "[2. Data preprocessing](#preprocessing)\n",
    "\n",
    "[3. Pickle](#pickle)\n",
    "\n",
    "[4. LSTM Autoencoder](#autoencoder)\n",
    "\n",
    "[5. Discussions and conclusion](#ccl)"
   ]
  },
  {
   "cell_type": "markdown",
   "metadata": {},
   "source": [
    "## 1. Data exploration  <a name=\"data_exploration\"></a>"
   ]
  },
  {
   "cell_type": "markdown",
   "metadata": {},
   "source": [
    "### Imports  <a name=\"1imports\"></a>"
   ]
  },
  {
   "cell_type": "code",
   "execution_count": 1,
   "metadata": {},
   "outputs": [],
   "source": [
    "# Useful starting lines\n",
    "%matplotlib inline\n",
    "import numpy as np\n",
    "import matplotlib.pyplot as plt\n",
    "import pandas as pd\n",
    "from helpers import *\n",
    "from preprocessing import *\n",
    "from sklearn.model_selection import train_test_split\n",
    "from LSTM import *\n",
    "from crossvalidation_lstm import *\n",
    "import _pickle as cPickle\n",
    "%load_ext autoreload\n",
    "%autoreload 2\n",
    "torch.manual_seed(0)\n",
    "np.random.seed(1)\n",
    "seed = 1"
   ]
  },
  {
   "cell_type": "markdown",
   "metadata": {},
   "source": [
    "If you have already saved the pickle files, you can already jump [here](#start_pickle)!"
   ]
  },
  {
   "cell_type": "markdown",
   "metadata": {},
   "source": [
    "### Pathways <a name=\"1pathways\"></a>"
   ]
  },
  {
   "cell_type": "code",
   "execution_count": 7,
   "metadata": {},
   "outputs": [],
   "source": [
    "DATA_PATH = 'data/'\n",
    "DATA_Ux_PATH = DATA_PATH + 'u1_very_small.csv.bz2'\n",
    "DATA_Uy_PATH = DATA_PATH + 'u2_very_small.csv.bz2'"
   ]
  },
  {
   "cell_type": "markdown",
   "metadata": {},
   "source": [
    "### Loading <a name=\"1load\"></a>"
   ]
  },
  {
   "cell_type": "markdown",
   "metadata": {},
   "source": [
    "Let's load the data which consists of 2 matrices Ux, Uy denoting the x and y coordinates of the speed."
   ]
  },
  {
   "cell_type": "code",
   "execution_count": 8,
   "metadata": {},
   "outputs": [],
   "source": [
    "# Loading\n",
    "Ux_pd = pd.read_csv(DATA_Ux_PATH, header=None)\n",
    "Uy_pd = pd.read_csv(DATA_Uy_PATH, header=None)\n",
    "# Converting from dataframe to numpy\n",
    "Ux = Ux_pd.to_numpy()\n",
    "Uy = Uy_pd.to_numpy()"
   ]
  },
  {
   "cell_type": "markdown",
   "metadata": {},
   "source": [
    "### Exploration <a name=\"1exploration\"></a>"
   ]
  },
  {
   "cell_type": "markdown",
   "metadata": {},
   "source": [
    "Let's have a closer look at our imported data sets. The columns represent the time steps and the rows represent a point of our blood vessel mesh and each 5509 row a new simulation."
   ]
  },
  {
   "cell_type": "code",
   "execution_count": 9,
   "metadata": {
    "scrolled": false
   },
   "outputs": [
    {
     "name": "stdout",
     "output_type": "stream",
     "text": [
      "Our input array Ux is of shape: (137725, 110)\n",
      "Our input array Uy is of shape: (137725, 110)\n",
      "Printing a row of Ux: \n",
      " [0.0694243  0.27537487 0.60389834 1.02538242 1.49979277 1.9813229\n",
      " 2.42318455 2.78232553 3.02371067 3.12378595 3.22605803 3.32166836\n",
      " 3.41249686 3.49946177 3.58301614 3.66339786 3.74073801 3.81511138\n",
      " 3.88656184 3.95511576 4.02078945 4.08359325 4.14353388 4.20061589\n",
      " 4.2548424  4.30621561 4.35473712 4.40040807 4.44322934 4.48320158\n",
      " 4.52032526 4.55460075 4.58602833 4.61460821 4.64034055 4.66322547\n",
      " 4.68326307 4.70045341 4.71479655 4.72629252 4.73494137 4.7407431\n",
      " 4.74369775 4.74423086 4.74375285 4.74246986 4.74042825 4.73764939\n",
      " 4.73414407 4.72991811 4.7249748  4.71931611 4.71294324 4.70585693\n",
      " 4.6980577  4.68954587 4.68032167 4.67038525 4.65973675 4.64837623\n",
      " 4.63630377 4.6235194  4.61002317 4.5958151  4.5808952  4.5652635\n",
      " 4.54892001 4.53186473 4.51409767 4.49561883 4.47642823 4.45652585\n",
      " 4.43591171 4.41458581 4.39254814 4.36979872 4.34633752 4.32216457\n",
      " 4.29727986 4.27168339 4.24537516 4.21835516 4.19062341 4.1621799\n",
      " 4.13302463 4.1031576  4.07257881 4.04128826 4.00928595 3.97657188\n",
      " 3.94314606 3.90900847 3.87415912 3.83859802 3.80232515 3.76534053\n",
      " 3.72764415 3.689236   3.6501161  3.61028444 3.56974102 3.52848584\n",
      " 3.4865189  3.4438402  3.40044974 3.35634752 3.31153355 3.26600781\n",
      " 3.21977031 3.17282106] \n",
      "\n",
      "Printing a row of Uy: \n",
      " [0.00067075 0.00314395 0.0081191  0.01585384 0.02617912 0.0385416\n",
      " 0.05208035 0.06573238 0.07835575 0.08885756 0.09779466 0.10544569\n",
      " 0.1120431  0.11779068 0.12286148 0.12739624 0.13150532 0.13527295\n",
      " 0.13876218 0.14201954 0.14507906 0.14796547 0.15069666 0.15328552\n",
      " 0.15574136 0.15807087 0.16027887 0.16236883 0.16434326 0.16620397\n",
      " 0.16795225 0.16958906 0.17111508 0.1725308  0.17383659 0.1750327\n",
      " 0.17611934 0.17709663 0.17796468 0.17872356 0.17937332 0.17991401\n",
      " 0.18034566 0.1806724  0.18091083 0.18107502 0.18117609 0.18122281\n",
      " 0.18122208 0.18117917 0.18109807 0.18098175 0.1808324  0.18065161\n",
      " 0.18044053 0.18020003 0.17993069 0.17963297 0.17930717 0.17895353\n",
      " 0.17857222 0.17816334 0.177727   0.17726324 0.17677213 0.17625368\n",
      " 0.17570793 0.17513488 0.17453457 0.17390698 0.17325214 0.17257004\n",
      " 0.17186069 0.17112409 0.17036024 0.16956915 0.16875082 0.16790524\n",
      " 0.16703242 0.16613236 0.16520505 0.16425051 0.16326872 0.16225969\n",
      " 0.16122342 0.1601599  0.15906915 0.15795116 0.15680592 0.15563344\n",
      " 0.15443372 0.15320676 0.15195256 0.15067112 0.14936244 0.14802651\n",
      " 0.14666335 0.14527294 0.14385529 0.14241041 0.14093828 0.1394389\n",
      " 0.13791229 0.13635844 0.13477734 0.13316901 0.13153343 0.12987061\n",
      " 0.12818056 0.12646326] \n",
      "\n"
     ]
    }
   ],
   "source": [
    "print(\"Our input array Ux is of shape:\",Ux.shape)\n",
    "print(\"Our input array Uy is of shape:\",Uy.shape)\n",
    "print(\"Printing a row of Ux:\", '\\n', Ux[10,:], '\\n')\n",
    "print(\"Printing a row of Uy:\", '\\n', Uy[10,:], '\\n')"
   ]
  },
  {
   "cell_type": "markdown",
   "metadata": {},
   "source": [
    "For the rest of the analysis, we need to figure out the number of simulation step. As we know that we previsouly generated 25 simulations on Matlab and all the new simulations are appended row-wise, we can deduce it with the following computation."
   ]
  },
  {
   "cell_type": "code",
   "execution_count": 10,
   "metadata": {
    "scrolled": true
   },
   "outputs": [
    {
     "name": "stdout",
     "output_type": "stream",
     "text": [
      "We ran  25 simulations with different parameters for each simulation (parameters of the stenosis and resistance of the blood flow in the bifurcations)\n",
      "1 simulation calculate the velocities of the blood flow at 5509 different positions and at 110 different times\n"
     ]
    }
   ],
   "source": [
    "positions =5509 #We know it from the matlab code\n",
    "times = Ux.shape[1]\n",
    "simulations = int(Ux.shape[0]/positions)\n",
    "print(\"We ran \", simulations, \"simulations with different parameters for each simulation (parameters of the stenosis and resistance of the blood flow in the bifurcations)\")\n",
    "print(\"1 simulation calculate the velocities of the blood flow at\", positions, \"different positions and at\", times, \"different times\")"
   ]
  },
  {
   "cell_type": "markdown",
   "metadata": {},
   "source": [
    "## 2. Data preprocessing  <a name=\"preprocessing\"></a>"
   ]
  },
  {
   "cell_type": "markdown",
   "metadata": {},
   "source": [
    "Let's check if we have any NaN or None values in our dataframe."
   ]
  },
  {
   "cell_type": "code",
   "execution_count": 11,
   "metadata": {
    "scrolled": true
   },
   "outputs": [
    {
     "name": "stdout",
     "output_type": "stream",
     "text": [
      "0\n",
      "0\n"
     ]
    }
   ],
   "source": [
    "print(np.count_nonzero(np.isnan(Ux)))\n",
    "print(np.count_nonzero(np.isnan(Uy)))"
   ]
  },
  {
   "cell_type": "markdown",
   "metadata": {},
   "source": [
    "It seems there are __no None or NaN values__ so we can start direclty preprocess our datasets."
   ]
  },
  {
   "cell_type": "markdown",
   "metadata": {},
   "source": [
    "Let's sample our data points into the following ratios. "
   ]
  },
  {
   "cell_type": "code",
   "execution_count": 12,
   "metadata": {},
   "outputs": [
    {
     "name": "stdout",
     "output_type": "stream",
     "text": [
      "(1375, 110) (1375, 110)\n"
     ]
    }
   ],
   "source": [
    "ratio_pts = 0.01\n",
    "ratio_time = 1\n",
    "\n",
    "new_Ux, new_Uy, new_inds = sample(Ux, Uy, ratio_pts, ratio_time)\n",
    "print(new_Ux.shape, new_Uy.shape)"
   ]
  },
  {
   "cell_type": "code",
   "execution_count": 13,
   "metadata": {},
   "outputs": [
    {
     "name": "stdout",
     "output_type": "stream",
     "text": [
      "With the sampling we got from 5509 positions to 55 positions\n",
      "With the sampling we got from 110 time steps to 110 time steps\n"
     ]
    }
   ],
   "source": [
    "new_Nu, new_Nt = get_Nu_Nt_sampled(Ux, new_Ux)\n",
    "\n",
    "print('With the sampling we got from', 5509, 'positions to', new_Nu, 'positions')\n",
    "print('With the sampling we got from', 110, 'time steps to', new_Nt, 'time steps')"
   ]
  },
  {
   "cell_type": "markdown",
   "metadata": {},
   "source": [
    "We can look at the positions of the sampled positions to make sure that we cover mostly all the important parts of the geometry of the artery."
   ]
  },
  {
   "cell_type": "code",
   "execution_count": 14,
   "metadata": {
    "scrolled": true
   },
   "outputs": [
    {
     "data": {
      "image/png": "[encoded data removed]",
      "text/plain": [
       "<Figure size 648x360 with 1 Axes>"
      ]
     },
     "metadata": {
      "needs_background": "light"
     },
     "output_type": "display_data"
    }
   ],
   "source": [
    "plot_sampled_coord(new_inds) "
   ]
  },
  {
   "cell_type": "markdown",
   "metadata": {},
   "source": [
    "Let's flatten our matrices into a 2D matrices with dimensions $(N_s, (2 N_u),  N_t)$. For each simulation, the x and y speed coordinates are compressed to the following 2D matrix:\n",
    "\n",
    "\n",
    "\n",
    "$$\n",
    "\\mathbf{M_{2D}}\n",
    "=\n",
    "\\begin{bmatrix}\n",
    "\\vdots & \\vdots & \\vdots & \\vdots \\\\\n",
    "u_{x}^{(0)} & u_{x}^{(1)} & \\cdots &\n",
    "u_{x}^{(N_t - 1)} \\\\\n",
    "\\vdots & \\vdots & \\ddots & \\vdots \\\\\n",
    "u_{y}^{(0)} & u_{y}^{(1)} & \\cdots &\n",
    "u_{y}^{(N_t - 1)} \\\\\n",
    "\\vdots & \\vdots & \\vdots & \\vdots\n",
    "\\end{bmatrix}\n",
    "$$"
   ]
  },
  {
   "cell_type": "code",
   "execution_count": 15,
   "metadata": {},
   "outputs": [
    {
     "data": {
      "text/plain": [
       "(25, 110, 110)"
      ]
     },
     "execution_count": 15,
     "metadata": {},
     "output_type": "execute_result"
    }
   ],
   "source": [
    "flattened_array = flatten_2d(new_Ux, new_Uy, ratio_pts)\n",
    "flattened_array.shape"
   ]
  },
  {
   "cell_type": "markdown",
   "metadata": {},
   "source": [
    "Let's make a sanity check that the dimension of 1 datapoint is indeed $({2 * new_{N_t}, new_{N_u})}$."
   ]
  },
  {
   "cell_type": "code",
   "execution_count": 16,
   "metadata": {},
   "outputs": [],
   "source": [
    "assert flattened_array.shape[1] == 2*new_Nu\n",
    "assert flattened_array.shape[2] == new_Nt"
   ]
  },
  {
   "cell_type": "markdown",
   "metadata": {},
   "source": [
    "## 3. Pickle  <a name=\"pickle\"></a>"
   ]
  },
  {
   "cell_type": "markdown",
   "metadata": {},
   "source": [
    "To avoid the loading and processing steps each time we open the notebook, we will save the processed matrix \"flattened_array\" using pickle. "
   ]
  },
  {
   "cell_type": "markdown",
   "metadata": {},
   "source": [
    "In the following cell, we will create pickles for every subsampled data according to the ratios_pts and the ratios_t."
   ]
  },
  {
   "cell_type": "code",
   "execution_count": 17,
   "metadata": {},
   "outputs": [],
   "source": [
    "ratios_pts = [0.1, 0.05, 0.02]\n",
    "ratios_t = [0.5, 0.25, 0.1]\n",
    "\n",
    "create_subsamples(Ux, Uy, ratios_pts, ratios_t, name_file='lstm_very_small', lstm=True)"
   ]
  },
  {
   "cell_type": "markdown",
   "metadata": {},
   "source": [
    "The cell above is only intented to be run __once__."
   ]
  },
  {
   "cell_type": "markdown",
   "metadata": {},
   "source": [
    "#### Start from here if you the pickle file already exist in your data folder <a name=\"start_pickle\"></a>"
   ]
  },
  {
   "cell_type": "markdown",
   "metadata": {},
   "source": [
    "Change only the following cell to change the name of the file you want to open."
   ]
  },
  {
   "cell_type": "code",
   "execution_count": 46,
   "metadata": {},
   "outputs": [
    {
     "name": "stdout",
     "output_type": "stream",
     "text": [
      "name of the file you want to read :  processed_lstm_very_small_0.1_0.5\n"
     ]
    }
   ],
   "source": [
    "ratios = [0.1, 0.5]\n",
    "size = ['lstm_very_small', 'lstm_middle_small', 'lstm_small']\n",
    "\n",
    "name = 'processed_'+str(size[0])+'_'+str(ratios[0])+'_'+str(ratios[1])\n",
    "\n",
    "print('name of the file you want to read : ', name)"
   ]
  },
  {
   "cell_type": "code",
   "execution_count": 47,
   "metadata": {
    "scrolled": true
   },
   "outputs": [],
   "source": [
    "flattened_array = cPickle.load(open(\"data/pickle/\"+str(size[0])+\"/\"+name, \"rb\"))"
   ]
  },
  {
   "cell_type": "code",
   "execution_count": 48,
   "metadata": {},
   "outputs": [
    {
     "name": "stdout",
     "output_type": "stream",
     "text": [
      "(25, 1100, 55)\n"
     ]
    }
   ],
   "source": [
    "print(flattened_array.shape)"
   ]
  },
  {
   "cell_type": "markdown",
   "metadata": {},
   "source": [
    "##### Final step : split train/test\n",
    "\n",
    "We split the data set into a training a testing set to be able to evaluate our autoencoder."
   ]
  },
  {
   "cell_type": "code",
   "execution_count": 49,
   "metadata": {},
   "outputs": [],
   "source": [
    "from sklearn.preprocessing import MinMaxScaler\n",
    "\n",
    "for i in range(flattened_array.shape[0]):\n",
    "    scaler = MinMaxScaler()\n",
    "    scaler.fit(flattened_array[i])\n",
    "    flattened_array[i] = scaler.transform(flattened_array[i])"
   ]
  },
  {
   "cell_type": "code",
   "execution_count": 50,
   "metadata": {},
   "outputs": [
    {
     "name": "stdout",
     "output_type": "stream",
     "text": [
      "(22, 1100, 55)\n",
      "(3, 1100, 55)\n"
     ]
    }
   ],
   "source": [
    "x_train, x_test = train_test_split(flattened_array, test_size=0.1, random_state=seed)\n",
    "y_train, y_test = x_train, x_test\n",
    "\n",
    "print(x_train.shape)\n",
    "print(x_test.shape)"
   ]
  },
  {
   "cell_type": "markdown",
   "metadata": {},
   "source": [
    "## 4. LSTM Auto-encoder  <a name=\"autoencoder\"></a>"
   ]
  },
  {
   "cell_type": "code",
   "execution_count": 2,
   "metadata": {},
   "outputs": [],
   "source": [
    "input_dim = 55\n",
    "seq_len = 1100\n",
    "hidden_size = 5\n",
    "model = LSTMAE(input_dim, hidden_size)"
   ]
  },
  {
   "cell_type": "markdown",
   "metadata": {},
   "source": [
    "#### Parameters tuning"
   ]
  },
  {
   "cell_type": "markdown",
   "metadata": {},
   "source": [
    "Find the best learning rate and momentums of our model using cross-validation :"
   ]
  },
  {
   "cell_type": "code",
   "execution_count": 54,
   "metadata": {},
   "outputs": [],
   "source": [
    "# define network parameters\n",
    "learning_rates = [1e-1, 1e-2, 1e-3, 1e-4, 1e-5] \n",
    "momentums = [0.1, 0.5, 0.7, 0.9, 0.99]\n",
    "epochs= 50\n",
    "input_size=x_train.shape[2]\n",
    "k_folds = 5\n",
    "dataset_name = \"middle_small\" #Only used to save the plot with the good name\n",
    "hidden_size = 5\n",
    "\n",
    "# creates a criterion that measures the mean squared error (squared L2 norm) \n",
    "criterion = nn.MSELoss()  "
   ]
  },
  {
   "cell_type": "code",
   "execution_count": 55,
   "metadata": {
    "scrolled": false
   },
   "outputs": [
    {
     "name": "stdout",
     "output_type": "stream",
     "text": [
      "\u001b[1mMomentum =  0.1\n",
      "\u001b[0m\n",
      "\u001b[1mLearning rate =  \u001b[1m0.1\n",
      "\u001b[0m\n",
      "Performance of 5 fold cross validation: \n",
      "Average Training Error: 0.661 \t Average Test Error: 0.663\n",
      " \n",
      "\u001b[1mLearning rate =  \u001b[1m0.01\n",
      "\u001b[0m\n",
      "Performance of 5 fold cross validation: \n",
      "Average Training Error: 0.970 \t Average Test Error: 0.972\n",
      " \n",
      "\u001b[1mLearning rate =  \u001b[1m0.001\n",
      "\u001b[0m\n",
      "Performance of 5 fold cross validation: \n",
      "Average Training Error: 1.009 \t Average Test Error: 1.011\n",
      " \n",
      "\u001b[1mLearning rate =  \u001b[1m0.0001\n",
      "\u001b[0m\n",
      "Performance of 5 fold cross validation: \n",
      "Average Training Error: 1.013 \t Average Test Error: 1.015\n",
      " \n",
      "\u001b[1mLearning rate =  \u001b[1m1e-05\n",
      "\u001b[0m\n",
      "Performance of 5 fold cross validation: \n",
      "Average Training Error: 1.014 \t Average Test Error: 1.016\n",
      " \n",
      "\u001b[1mMomentum =  0.5\n",
      "\u001b[0m\n",
      "\u001b[1mLearning rate =  \u001b[1m0.1\n",
      "\u001b[0m\n",
      "Performance of 5 fold cross validation: \n",
      "Average Training Error: 0.469 \t Average Test Error: 0.470\n",
      " \n",
      "\u001b[1mLearning rate =  \u001b[1m0.01\n",
      "\u001b[0m\n",
      "Performance of 5 fold cross validation: \n",
      "Average Training Error: 0.938 \t Average Test Error: 0.940\n",
      " \n",
      "\u001b[1mLearning rate =  \u001b[1m0.001\n",
      "\u001b[0m\n",
      "Performance of 5 fold cross validation: \n",
      "Average Training Error: 1.006 \t Average Test Error: 1.008\n",
      " \n",
      "\u001b[1mLearning rate =  \u001b[1m0.0001\n",
      "\u001b[0m\n",
      "Performance of 5 fold cross validation: \n",
      "Average Training Error: 1.013 \t Average Test Error: 1.015\n",
      " \n",
      "\u001b[1mLearning rate =  \u001b[1m1e-05\n",
      "\u001b[0m\n",
      "Performance of 5 fold cross validation: \n",
      "Average Training Error: 1.014 \t Average Test Error: 1.016\n",
      " \n",
      "\u001b[1mMomentum =  0.7\n",
      "\u001b[0m\n",
      "\u001b[1mLearning rate =  \u001b[1m0.1\n",
      "\u001b[0m\n",
      "Performance of 5 fold cross validation: \n",
      "Average Training Error: 0.325 \t Average Test Error: 0.323\n",
      " \n",
      "\u001b[1mLearning rate =  \u001b[1m0.01\n",
      "\u001b[0m\n",
      "Performance of 5 fold cross validation: \n",
      "Average Training Error: 0.893 \t Average Test Error: 0.895\n",
      " \n",
      "\u001b[1mLearning rate =  \u001b[1m0.001\n",
      "\u001b[0m\n",
      "Performance of 5 fold cross validation: \n",
      "Average Training Error: 1.001 \t Average Test Error: 1.003\n",
      " \n",
      "\u001b[1mLearning rate =  \u001b[1m0.0001\n",
      "\u001b[0m\n",
      "Performance of 5 fold cross validation: \n",
      "Average Training Error: 1.012 \t Average Test Error: 1.014\n",
      " \n",
      "\u001b[1mLearning rate =  \u001b[1m1e-05\n",
      "\u001b[0m\n",
      "Performance of 5 fold cross validation: \n",
      "Average Training Error: 1.013 \t Average Test Error: 1.016\n",
      " \n",
      "\u001b[1mMomentum =  0.9\n",
      "\u001b[0m\n",
      "\u001b[1mLearning rate =  \u001b[1m0.1\n",
      "\u001b[0m\n",
      "Performance of 5 fold cross validation: \n",
      "Average Training Error: 0.285 \t Average Test Error: 0.288\n",
      " \n",
      "\u001b[1mLearning rate =  \u001b[1m0.01\n",
      "\u001b[0m\n",
      "Performance of 5 fold cross validation: \n",
      "Average Training Error: 0.715 \t Average Test Error: 0.717\n",
      " \n",
      "\u001b[1mLearning rate =  \u001b[1m0.001\n",
      "\u001b[0m\n",
      "Performance of 5 fold cross validation: \n",
      "Average Training Error: 0.978 \t Average Test Error: 0.980\n",
      " \n",
      "\u001b[1mLearning rate =  \u001b[1m0.0001\n",
      "\u001b[0m\n",
      "Performance of 5 fold cross validation: \n",
      "Average Training Error: 1.010 \t Average Test Error: 1.012\n",
      " \n",
      "\u001b[1mLearning rate =  \u001b[1m1e-05\n",
      "\u001b[0m\n",
      "Performance of 5 fold cross validation: \n",
      "Average Training Error: 1.013 \t Average Test Error: 1.015\n",
      " \n",
      "\u001b[1mMomentum =  0.99\n",
      "\u001b[0m\n",
      "\u001b[1mLearning rate =  \u001b[1m0.1\n",
      "\u001b[0m\n",
      "Performance of 5 fold cross validation: \n",
      "Average Training Error: 0.284 \t Average Test Error: 0.287\n",
      " \n",
      "\u001b[1mLearning rate =  \u001b[1m0.01\n",
      "\u001b[0m\n",
      "Performance of 5 fold cross validation: \n",
      "Average Training Error: 0.323 \t Average Test Error: 0.320\n",
      " \n",
      "\u001b[1mLearning rate =  \u001b[1m0.001\n",
      "\u001b[0m\n",
      "Performance of 5 fold cross validation: \n",
      "Average Training Error: 0.875 \t Average Test Error: 0.877\n",
      " \n",
      "\u001b[1mLearning rate =  \u001b[1m0.0001\n",
      "\u001b[0m\n",
      "Performance of 5 fold cross validation: \n",
      "Average Training Error: 0.999 \t Average Test Error: 1.001\n",
      " \n",
      "\u001b[1mLearning rate =  \u001b[1m1e-05\n",
      "\u001b[0m\n",
      "Performance of 5 fold cross validation: \n",
      "Average Training Error: 1.012 \t Average Test Error: 1.014\n",
      " \n"
     ]
    },
    {
     "data": {
      "text/html": [
       "<div>\n",
       "<style scoped>\n",
       "    .dataframe tbody tr th:only-of-type {\n",
       "        vertical-align: middle;\n",
       "    }\n",
       "\n",
       "    .dataframe tbody tr th {\n",
       "        vertical-align: top;\n",
       "    }\n",
       "\n",
       "    .dataframe thead th {\n",
       "        text-align: right;\n",
       "    }\n",
       "</style>\n",
       "<table border=\"1\" class=\"dataframe\">\n",
       "  <thead>\n",
       "    <tr style=\"text-align: right;\">\n",
       "      <th></th>\n",
       "      <th>m=0.1</th>\n",
       "      <th>m=0.5</th>\n",
       "      <th>m=0.7</th>\n",
       "      <th>m=0.9</th>\n",
       "      <th>m=0.99</th>\n",
       "    </tr>\n",
       "  </thead>\n",
       "  <tbody>\n",
       "    <tr>\n",
       "      <th>lr=0.1</th>\n",
       "      <td>0.663107</td>\n",
       "      <td>0.972272</td>\n",
       "      <td>1.011258</td>\n",
       "      <td>1.015290</td>\n",
       "      <td>1.015695</td>\n",
       "    </tr>\n",
       "    <tr>\n",
       "      <th>lr=0.01</th>\n",
       "      <td>0.470164</td>\n",
       "      <td>0.940059</td>\n",
       "      <td>1.007766</td>\n",
       "      <td>1.014938</td>\n",
       "      <td>1.015660</td>\n",
       "    </tr>\n",
       "    <tr>\n",
       "      <th>lr=0.001</th>\n",
       "      <td>0.323379</td>\n",
       "      <td>0.895272</td>\n",
       "      <td>1.002680</td>\n",
       "      <td>1.014422</td>\n",
       "      <td>1.015608</td>\n",
       "    </tr>\n",
       "    <tr>\n",
       "      <th>lr=0.0001</th>\n",
       "      <td>0.287671</td>\n",
       "      <td>0.717415</td>\n",
       "      <td>0.979820</td>\n",
       "      <td>1.012062</td>\n",
       "      <td>1.015371</td>\n",
       "    </tr>\n",
       "    <tr>\n",
       "      <th>lr=1e-05</th>\n",
       "      <td>0.287100</td>\n",
       "      <td>0.320092</td>\n",
       "      <td>0.877256</td>\n",
       "      <td>1.000781</td>\n",
       "      <td>1.014232</td>\n",
       "    </tr>\n",
       "  </tbody>\n",
       "</table>\n",
       "</div>"
      ],
      "text/plain": [
       "              m=0.1     m=0.5     m=0.7     m=0.9    m=0.99\n",
       "lr=0.1     0.663107  0.972272  1.011258  1.015290  1.015695\n",
       "lr=0.01    0.470164  0.940059  1.007766  1.014938  1.015660\n",
       "lr=0.001   0.323379  0.895272  1.002680  1.014422  1.015608\n",
       "lr=0.0001  0.287671  0.717415  0.979820  1.012062  1.015371\n",
       "lr=1e-05   0.287100  0.320092  0.877256  1.000781  1.014232"
      ]
     },
     "metadata": {},
     "output_type": "display_data"
    },
    {
     "name": "stdout",
     "output_type": "stream",
     "text": [
      "\u001b[0m\n",
      "Best learning rate is 0.1  with a best momentum of 0.99 with a best error of:  0.28710038551609923\n",
      "\u001b[0m\n"
     ]
    }
   ],
   "source": [
    "results, best_result, best_lr, best_mom = tuning_lr_momentum_lstm(x_train, k_folds, input_size, epochs, criterion, learning_rates, hidden_size, momentums, dataset_name_=dataset_name, plot=True)"
   ]
  },
  {
   "cell_type": "markdown",
   "metadata": {},
   "source": [
    "Find the best number of neurons in the latent space (neurons in the \"middle layer of the auto-encoder\") in the auto-encoder (which is actually the dimension of the compressed data) : "
   ]
  },
  {
   "cell_type": "code",
   "execution_count": 59,
   "metadata": {},
   "outputs": [],
   "source": [
    "# define network parameters\n",
    "lr = best_lr # from above\n",
    "momentum = best_mom # from above\n",
    "epochs= 50\n",
    "input_size=x_train.shape[2]\n",
    "k_folds = 5\n",
    "hidden_sizes = [3, 5, 6, 8, 10]\n",
    "dataset_name = \"middle_small\" #Only used to save the plot with the good name\n",
    "\n",
    "# creates a criterion that measures the mean squared error (squared L2 norm) \n",
    "criterion = nn.MSELoss()  "
   ]
  },
  {
   "cell_type": "code",
   "execution_count": 60,
   "metadata": {
    "scrolled": true
   },
   "outputs": [
    {
     "name": "stdout",
     "output_type": "stream",
     "text": [
      "\u001b[1mNumber of neurons =  3\n",
      "\u001b[0m\n",
      "Performance of 5 fold cross validation: \n",
      "Average Training Error: 0.284 \t Average Test Error: 0.286\n",
      " \n",
      "\u001b[1mNumber of neurons =  5\n",
      "\u001b[0m\n",
      "Performance of 5 fold cross validation: \n",
      "Average Training Error: 0.284 \t Average Test Error: 0.287\n",
      " \n",
      "\u001b[1mNumber of neurons =  6\n",
      "\u001b[0m\n",
      "Performance of 5 fold cross validation: \n",
      "Average Training Error: 0.284 \t Average Test Error: 0.287\n",
      " \n",
      "\u001b[1mNumber of neurons =  8\n",
      "\u001b[0m\n",
      "Performance of 5 fold cross validation: \n",
      "Average Training Error: 0.284 \t Average Test Error: 0.286\n",
      " \n",
      "\u001b[1mNumber of neurons =  10\n",
      "\u001b[0m\n",
      "Performance of 5 fold cross validation: \n",
      "Average Training Error: 0.283 \t Average Test Error: 0.286\n",
      " \n",
      "The results obtained for the number of latent neurons tested are the following: [0.2858772630990777, 0.28710038551609923, 0.28650951630847404, 0.2864358930803411, 0.2864113329901822].\n",
      "The best average test error obtained is 0.2858772630990777, and it is obtained with 3 neurons in the latent layer.\n"
     ]
    },
    {
     "data": {
      "image/png": "[encoded data removed]",
      "text/plain": [
       "<Figure size 432x288 with 1 Axes>"
      ]
     },
     "metadata": {
      "needs_background": "light"
     },
     "output_type": "display_data"
    }
   ],
   "source": [
    "best_result, best_neurons_nb = tuning_latent_layer_lstm(x_train, k_folds, input_size, epochs, criterion, lr, hidden_sizes, momentum,dataset_name_=dataset_name)"
   ]
  },
  {
   "cell_type": "markdown",
   "metadata": {},
   "source": [
    "#### Let's try with the tuned parameters and see how it goes along the epochs"
   ]
  },
  {
   "cell_type": "code",
   "execution_count": 63,
   "metadata": {},
   "outputs": [],
   "source": [
    "# define network parameters\n",
    "learningRate= best_lr\n",
    "momentum = best_mom\n",
    "epochs=50\n",
    "input_size=x_train.shape[2]\n",
    "k_folds = 3\n",
    "hidden_size_ = best_neurons_nb\n",
    "\n",
    "# creates a criterion that measures the mean squared error (squared L2 norm) \n",
    "criterion = nn.MSELoss() "
   ]
  },
  {
   "cell_type": "code",
   "execution_count": 64,
   "metadata": {},
   "outputs": [
    {
     "name": "stdout",
     "output_type": "stream",
     "text": [
      "--------------------------------\n",
      "FOLD 0\n",
      "--------------------------------\n",
      "Epoch:1/50 Training Error:0.978 Test Error:0.978\n",
      "Epoch:2/50 Training Error:0.955 Test Error:0.955\n",
      "Epoch:3/50 Training Error:0.920 Test Error:0.919\n",
      "Epoch:4/50 Training Error:0.875 Test Error:0.873\n",
      "Epoch:5/50 Training Error:0.822 Test Error:0.818\n",
      "Epoch:6/50 Training Error:0.763 Test Error:0.758\n",
      "Epoch:7/50 Training Error:0.700 Test Error:0.694\n",
      "Epoch:8/50 Training Error:0.636 Test Error:0.628\n",
      "Epoch:9/50 Training Error:0.572 Test Error:0.563\n",
      "Epoch:10/50 Training Error:0.510 Test Error:0.500\n",
      "Epoch:11/50 Training Error:0.452 Test Error:0.441\n",
      "Epoch:12/50 Training Error:0.401 Test Error:0.388\n",
      "Epoch:13/50 Training Error:0.359 Test Error:0.345\n",
      "Epoch:14/50 Training Error:0.326 Test Error:0.312\n",
      "Epoch:15/50 Training Error:0.305 Test Error:0.291\n",
      "Epoch:16/50 Training Error:0.294 Test Error:0.279\n",
      "Epoch:17/50 Training Error:0.290 Test Error:0.276\n",
      "Epoch:18/50 Training Error:0.293 Test Error:0.278\n",
      "Epoch:19/50 Training Error:0.299 Test Error:0.284\n",
      "Epoch:20/50 Training Error:0.307 Test Error:0.293\n",
      "Epoch:21/50 Training Error:0.316 Test Error:0.302\n",
      "Epoch:22/50 Training Error:0.326 Test Error:0.311\n",
      "Epoch:23/50 Training Error:0.334 Test Error:0.319\n",
      "Epoch:24/50 Training Error:0.340 Test Error:0.325\n",
      "Epoch:25/50 Training Error:0.345 Test Error:0.330\n",
      "Epoch:26/50 Training Error:0.347 Test Error:0.332\n",
      "Epoch:27/50 Training Error:0.348 Test Error:0.333\n",
      "Epoch:28/50 Training Error:0.347 Test Error:0.332\n",
      "Epoch:29/50 Training Error:0.344 Test Error:0.329\n",
      "Epoch:30/50 Training Error:0.340 Test Error:0.324\n",
      "Epoch:31/50 Training Error:0.335 Test Error:0.319\n",
      "Epoch:32/50 Training Error:0.329 Test Error:0.314\n",
      "Epoch:33/50 Training Error:0.324 Test Error:0.308\n",
      "Epoch:34/50 Training Error:0.318 Test Error:0.302\n",
      "Epoch:35/50 Training Error:0.313 Test Error:0.297\n",
      "Epoch:36/50 Training Error:0.308 Test Error:0.292\n",
      "Epoch:37/50 Training Error:0.303 Test Error:0.287\n",
      "Epoch:38/50 Training Error:0.300 Test Error:0.284\n",
      "Epoch:39/50 Training Error:0.296 Test Error:0.280\n",
      "Epoch:40/50 Training Error:0.294 Test Error:0.278\n",
      "Epoch:41/50 Training Error:0.292 Test Error:0.276\n",
      "Epoch:42/50 Training Error:0.290 Test Error:0.274\n",
      "Epoch:43/50 Training Error:0.289 Test Error:0.273\n",
      "Epoch:44/50 Training Error:0.289 Test Error:0.273\n",
      "Epoch:45/50 Training Error:0.288 Test Error:0.272\n",
      "Epoch:46/50 Training Error:0.288 Test Error:0.272\n",
      "Epoch:47/50 Training Error:0.288 Test Error:0.273\n",
      "Epoch:48/50 Training Error:0.289 Test Error:0.273\n",
      "Epoch:49/50 Training Error:0.289 Test Error:0.273\n",
      "Epoch:50/50 Training Error:0.290 Test Error:0.274\n",
      "--------------------------------\n",
      "FOLD 1\n",
      "--------------------------------\n",
      "Epoch:1/50 Training Error:1.006 Test Error:1.007\n",
      "Epoch:2/50 Training Error:0.983 Test Error:0.983\n",
      "Epoch:3/50 Training Error:0.949 Test Error:0.947\n",
      "Epoch:4/50 Training Error:0.905 Test Error:0.900\n",
      "Epoch:5/50 Training Error:0.853 Test Error:0.846\n",
      "Epoch:6/50 Training Error:0.795 Test Error:0.785\n",
      "Epoch:7/50 Training Error:0.733 Test Error:0.721\n",
      "Epoch:8/50 Training Error:0.669 Test Error:0.655\n",
      "Epoch:9/50 Training Error:0.604 Test Error:0.589\n",
      "Epoch:10/50 Training Error:0.541 Test Error:0.526\n",
      "Epoch:11/50 Training Error:0.480 Test Error:0.466\n",
      "Epoch:12/50 Training Error:0.425 Test Error:0.413\n",
      "Epoch:13/50 Training Error:0.376 Test Error:0.368\n",
      "Epoch:14/50 Training Error:0.337 Test Error:0.335\n",
      "Epoch:15/50 Training Error:0.308 Test Error:0.313\n",
      "Epoch:16/50 Training Error:0.289 Test Error:0.303\n",
      "Epoch:17/50 Training Error:0.279 Test Error:0.302\n",
      "Epoch:18/50 Training Error:0.275 Test Error:0.308\n",
      "Epoch:19/50 Training Error:0.277 Test Error:0.318\n",
      "Epoch:20/50 Training Error:0.281 Test Error:0.331\n",
      "Epoch:21/50 Training Error:0.287 Test Error:0.344\n",
      "Epoch:22/50 Training Error:0.293 Test Error:0.356\n",
      "Epoch:23/50 Training Error:0.299 Test Error:0.366\n",
      "Epoch:24/50 Training Error:0.304 Test Error:0.374\n",
      "Epoch:25/50 Training Error:0.307 Test Error:0.379\n",
      "Epoch:26/50 Training Error:0.308 Test Error:0.382\n",
      "Epoch:27/50 Training Error:0.308 Test Error:0.382\n",
      "Epoch:28/50 Training Error:0.307 Test Error:0.380\n",
      "Epoch:29/50 Training Error:0.305 Test Error:0.376\n",
      "Epoch:30/50 Training Error:0.302 Test Error:0.370\n",
      "Epoch:31/50 Training Error:0.298 Test Error:0.364\n",
      "Epoch:32/50 Training Error:0.294 Test Error:0.357\n",
      "Epoch:33/50 Training Error:0.290 Test Error:0.350\n",
      "Epoch:34/50 Training Error:0.286 Test Error:0.344\n",
      "Epoch:35/50 Training Error:0.283 Test Error:0.337\n",
      "Epoch:36/50 Training Error:0.280 Test Error:0.331\n",
      "Epoch:37/50 Training Error:0.278 Test Error:0.326\n",
      "Epoch:38/50 Training Error:0.276 Test Error:0.321\n",
      "Epoch:39/50 Training Error:0.275 Test Error:0.317\n",
      "Epoch:40/50 Training Error:0.274 Test Error:0.313\n",
      "Epoch:41/50 Training Error:0.273 Test Error:0.310\n",
      "Epoch:42/50 Training Error:0.273 Test Error:0.307\n",
      "Epoch:43/50 Training Error:0.273 Test Error:0.305\n",
      "Epoch:44/50 Training Error:0.274 Test Error:0.303\n",
      "Epoch:45/50 Training Error:0.274 Test Error:0.302\n",
      "Epoch:46/50 Training Error:0.275 Test Error:0.301\n",
      "Epoch:47/50 Training Error:0.276 Test Error:0.300\n",
      "Epoch:48/50 Training Error:0.277 Test Error:0.300\n",
      "Epoch:49/50 Training Error:0.278 Test Error:0.299\n",
      "Epoch:50/50 Training Error:0.278 Test Error:0.299\n",
      "--------------------------------\n",
      "FOLD 2\n",
      "--------------------------------\n",
      "Epoch:1/50 Training Error:0.979 Test Error:0.980\n",
      "Epoch:2/50 Training Error:0.951 Test Error:0.953\n",
      "Epoch:3/50 Training Error:0.909 Test Error:0.914\n",
      "Epoch:4/50 Training Error:0.855 Test Error:0.864\n",
      "Epoch:5/50 Training Error:0.793 Test Error:0.806\n",
      "Epoch:6/50 Training Error:0.726 Test Error:0.743\n",
      "Epoch:7/50 Training Error:0.656 Test Error:0.677\n",
      "Epoch:8/50 Training Error:0.588 Test Error:0.611\n",
      "Epoch:9/50 Training Error:0.523 Test Error:0.548\n",
      "Epoch:10/50 Training Error:0.463 Test Error:0.488\n",
      "Epoch:11/50 Training Error:0.410 Test Error:0.434\n",
      "Epoch:12/50 Training Error:0.365 Test Error:0.388\n",
      "Epoch:13/50 Training Error:0.332 Test Error:0.349\n",
      "Epoch:14/50 Training Error:0.309 Test Error:0.320\n",
      "Epoch:15/50 Training Error:0.295 Test Error:0.298\n",
      "Epoch:16/50 Training Error:0.290 Test Error:0.284\n",
      "Epoch:17/50 Training Error:0.290 Test Error:0.276\n",
      "Epoch:18/50 Training Error:0.294 Test Error:0.273\n",
      "Epoch:19/50 Training Error:0.300 Test Error:0.272\n",
      "Epoch:20/50 Training Error:0.307 Test Error:0.273\n",
      "Epoch:21/50 Training Error:0.314 Test Error:0.275\n",
      "Epoch:22/50 Training Error:0.320 Test Error:0.278\n",
      "Epoch:23/50 Training Error:0.325 Test Error:0.280\n",
      "Epoch:24/50 Training Error:0.329 Test Error:0.282\n",
      "Epoch:25/50 Training Error:0.331 Test Error:0.283\n",
      "Epoch:26/50 Training Error:0.331 Test Error:0.283\n",
      "Epoch:27/50 Training Error:0.330 Test Error:0.283\n",
      "Epoch:28/50 Training Error:0.329 Test Error:0.282\n",
      "Epoch:29/50 Training Error:0.326 Test Error:0.281\n",
      "Epoch:30/50 Training Error:0.322 Test Error:0.279\n",
      "Epoch:31/50 Training Error:0.319 Test Error:0.278\n",
      "Epoch:32/50 Training Error:0.315 Test Error:0.276\n",
      "Epoch:33/50 Training Error:0.311 Test Error:0.275\n",
      "Epoch:34/50 Training Error:0.307 Test Error:0.273\n",
      "Epoch:35/50 Training Error:0.303 Test Error:0.272\n",
      "Epoch:36/50 Training Error:0.300 Test Error:0.272\n",
      "Epoch:37/50 Training Error:0.297 Test Error:0.271\n",
      "Epoch:38/50 Training Error:0.295 Test Error:0.271\n",
      "Epoch:39/50 Training Error:0.293 Test Error:0.271\n",
      "Epoch:40/50 Training Error:0.291 Test Error:0.272\n",
      "Epoch:41/50 Training Error:0.289 Test Error:0.272\n",
      "Epoch:42/50 Training Error:0.288 Test Error:0.273\n",
      "Epoch:43/50 Training Error:0.287 Test Error:0.274\n",
      "Epoch:44/50 Training Error:0.287 Test Error:0.276\n",
      "Epoch:45/50 Training Error:0.286 Test Error:0.277\n",
      "Epoch:46/50 Training Error:0.286 Test Error:0.278\n",
      "Epoch:47/50 Training Error:0.286 Test Error:0.280\n",
      "Epoch:48/50 Training Error:0.286 Test Error:0.281\n",
      "Epoch:49/50 Training Error:0.287 Test Error:0.283\n",
      "Epoch:50/50 Training Error:0.287 Test Error:0.284\n",
      "Performance of 3 fold cross validation: \n",
      "Average Training Error: 0.285 \t Average Test Error: 0.286\n",
      " \n"
     ]
    },
    {
     "data": {
      "image/png": "[encoded data removed]",
      "text/plain": [
       "<Figure size 720x576 with 1 Axes>"
      ]
     },
     "metadata": {
      "needs_background": "light"
     },
     "output_type": "display_data"
    },
    {
     "data": {
      "text/plain": [
       "0.2855784610271281"
      ]
     },
     "execution_count": 64,
     "metadata": {},
     "output_type": "execute_result"
    }
   ],
   "source": [
    "Kfold_lstm(x_train, k_folds, input_size, epochs, criterion, learningRate,hidden_size_, momentum)"
   ]
  },
  {
   "cell_type": "markdown",
   "metadata": {},
   "source": [
    "## Quality of the compression on the test set using the tuned parameters :"
   ]
  },
  {
   "cell_type": "markdown",
   "metadata": {},
   "source": [
    "We will now train and test our auto-encoder for different sample size of our initial dataset. To do so we will do a batch processing and store the final train and test errors. See the report to see the nice comparison table :"
   ]
  },
  {
   "cell_type": "code",
   "execution_count": 6,
   "metadata": {},
   "outputs": [
    {
     "name": "stdout",
     "output_type": "stream",
     "text": [
      "\u001b[1mTrain/Test of the sub-dataset data/pickle/lstm_very_small/processed_lstm_very_small_0.02_0.25\u001b[0m\n",
      "Epoch:1/50 Training Error:0.300 Test Error:0.238\n",
      "Epoch:2/50 Training Error:0.283 Test Error:0.165\n",
      "Epoch:3/50 Training Error:0.265 Test Error:0.171\n",
      "Epoch:4/50 Training Error:0.273 Test Error:0.194\n",
      "Epoch:5/50 Training Error:0.265 Test Error:0.176\n",
      "Epoch:6/50 Training Error:0.270 Test Error:0.163\n",
      "Epoch:7/50 Training Error:0.268 Test Error:0.163\n",
      "Epoch:8/50 Training Error:0.264 Test Error:0.171\n",
      "Epoch:9/50 Training Error:0.265 Test Error:0.176\n",
      "Epoch:10/50 Training Error:0.264 Test Error:0.171\n",
      "Epoch:11/50 Training Error:0.265 Test Error:0.165\n",
      "Epoch:12/50 Training Error:0.266 Test Error:0.163\n",
      "Epoch:13/50 Training Error:0.264 Test Error:0.165\n",
      "Epoch:14/50 Training Error:0.263 Test Error:0.170\n",
      "Epoch:15/50 Training Error:0.263 Test Error:0.171\n",
      "Epoch:16/50 Training Error:0.263 Test Error:0.168\n",
      "Epoch:17/50 Training Error:0.264 Test Error:0.164\n",
      "Epoch:18/50 Training Error:0.265 Test Error:0.164\n",
      "Epoch:19/50 Training Error:0.264 Test Error:0.166\n",
      "Epoch:20/50 Training Error:0.263 Test Error:0.168\n",
      "Epoch:21/50 Training Error:0.263 Test Error:0.168\n",
      "Epoch:22/50 Training Error:0.263 Test Error:0.167\n",
      "Epoch:23/50 Training Error:0.264 Test Error:0.165\n",
      "Epoch:24/50 Training Error:0.264 Test Error:0.165\n",
      "Epoch:25/50 Training Error:0.263 Test Error:0.165\n",
      "Epoch:26/50 Training Error:0.263 Test Error:0.167\n",
      "Epoch:27/50 Training Error:0.263 Test Error:0.167\n",
      "Epoch:28/50 Training Error:0.263 Test Error:0.167\n",
      "Epoch:29/50 Training Error:0.263 Test Error:0.166\n",
      "Epoch:30/50 Training Error:0.263 Test Error:0.165\n",
      "Epoch:31/50 Training Error:0.263 Test Error:0.166\n",
      "Epoch:32/50 Training Error:0.263 Test Error:0.166\n",
      "Epoch:33/50 Training Error:0.263 Test Error:0.166\n",
      "Epoch:34/50 Training Error:0.263 Test Error:0.166\n",
      "Epoch:35/50 Training Error:0.263 Test Error:0.166\n",
      "Epoch:36/50 Training Error:0.263 Test Error:0.166\n",
      "Epoch:37/50 Training Error:0.263 Test Error:0.166\n",
      "Epoch:38/50 Training Error:0.263 Test Error:0.166\n",
      "Epoch:39/50 Training Error:0.263 Test Error:0.166\n",
      "Epoch:40/50 Training Error:0.263 Test Error:0.166\n",
      "Epoch:41/50 Training Error:0.263 Test Error:0.166\n",
      "Epoch:42/50 Training Error:0.263 Test Error:0.166\n",
      "Epoch:43/50 Training Error:0.263 Test Error:0.166\n",
      "Epoch:44/50 Training Error:0.263 Test Error:0.166\n",
      "Epoch:45/50 Training Error:0.263 Test Error:0.166\n",
      "Epoch:46/50 Training Error:0.263 Test Error:0.166\n",
      "Epoch:47/50 Training Error:0.263 Test Error:0.166\n",
      "Epoch:48/50 Training Error:0.263 Test Error:0.166\n",
      "Epoch:49/50 Training Error:0.263 Test Error:0.166\n",
      "Epoch:50/50 Training Error:0.263 Test Error:0.166\n",
      "\u001b[1mTrain/Test of the sub-dataset data/pickle/lstm_very_small/processed_lstm_very_small_0.02_0.1\u001b[0m\n",
      "Epoch:1/50 Training Error:0.268 Test Error:0.173\n",
      "Epoch:2/50 Training Error:0.271 Test Error:0.164\n",
      "Epoch:3/50 Training Error:0.271 Test Error:0.192\n",
      "Epoch:4/50 Training Error:0.265 Test Error:0.168\n",
      "Epoch:5/50 Training Error:0.271 Test Error:0.163\n",
      "Epoch:6/50 Training Error:0.265 Test Error:0.175\n",
      "Epoch:7/50 Training Error:0.265 Test Error:0.175\n",
      "Epoch:8/50 Training Error:0.266 Test Error:0.164\n",
      "Epoch:9/50 Training Error:0.266 Test Error:0.163\n",
      "Epoch:10/50 Training Error:0.263 Test Error:0.170\n",
      "Epoch:11/50 Training Error:0.264 Test Error:0.172\n",
      "Epoch:12/50 Training Error:0.264 Test Error:0.167\n",
      "Epoch:13/50 Training Error:0.265 Test Error:0.164\n",
      "Epoch:14/50 Training Error:0.264 Test Error:0.165\n",
      "Epoch:15/50 Training Error:0.263 Test Error:0.168\n",
      "Epoch:16/50 Training Error:0.263 Test Error:0.169\n",
      "Epoch:17/50 Training Error:0.263 Test Error:0.166\n",
      "Epoch:18/50 Training Error:0.264 Test Error:0.165\n",
      "Epoch:19/50 Training Error:0.264 Test Error:0.165\n",
      "Epoch:20/50 Training Error:0.263 Test Error:0.167\n",
      "Epoch:21/50 Training Error:0.263 Test Error:0.168\n",
      "Epoch:22/50 Training Error:0.263 Test Error:0.166\n",
      "Epoch:23/50 Training Error:0.263 Test Error:0.165\n",
      "Epoch:24/50 Training Error:0.263 Test Error:0.165\n",
      "Epoch:25/50 Training Error:0.263 Test Error:0.166\n",
      "Epoch:26/50 Training Error:0.263 Test Error:0.167\n",
      "Epoch:27/50 Training Error:0.263 Test Error:0.167\n",
      "Epoch:28/50 Training Error:0.263 Test Error:0.166\n",
      "Epoch:29/50 Training Error:0.263 Test Error:0.165\n",
      "Epoch:30/50 Training Error:0.263 Test Error:0.166\n",
      "Epoch:31/50 Training Error:0.263 Test Error:0.166\n",
      "Epoch:32/50 Training Error:0.263 Test Error:0.166\n",
      "Epoch:33/50 Training Error:0.263 Test Error:0.166\n",
      "Epoch:34/50 Training Error:0.263 Test Error:0.165\n",
      "Epoch:35/50 Training Error:0.263 Test Error:0.166\n",
      "Epoch:36/50 Training Error:0.263 Test Error:0.166\n",
      "Epoch:37/50 Training Error:0.263 Test Error:0.166\n",
      "Epoch:38/50 Training Error:0.263 Test Error:0.166\n",
      "Epoch:39/50 Training Error:0.263 Test Error:0.166\n",
      "Epoch:40/50 Training Error:0.263 Test Error:0.166\n",
      "Epoch:41/50 Training Error:0.263 Test Error:0.166\n",
      "Epoch:42/50 Training Error:0.262 Test Error:0.166\n",
      "Epoch:43/50 Training Error:0.262 Test Error:0.166\n",
      "Epoch:44/50 Training Error:0.262 Test Error:0.166\n",
      "Epoch:45/50 Training Error:0.262 Test Error:0.165\n",
      "Epoch:46/50 Training Error:0.262 Test Error:0.165\n",
      "Epoch:47/50 Training Error:0.262 Test Error:0.166\n",
      "Epoch:48/50 Training Error:0.262 Test Error:0.166\n",
      "Epoch:49/50 Training Error:0.262 Test Error:0.166\n",
      "Epoch:50/50 Training Error:0.262 Test Error:0.165\n",
      "\u001b[1mTrain/Test of the sub-dataset data/pickle/lstm_very_small/processed_lstm_very_small_0.05_0.25\u001b[0m\n",
      "Epoch:1/50 Training Error:0.320 Test Error:0.237\n",
      "Epoch:2/50 Training Error:0.339 Test Error:0.200\n",
      "Epoch:3/50 Training Error:0.312 Test Error:0.193\n",
      "Epoch:4/50 Training Error:0.306 Test Error:0.211\n",
      "Epoch:5/50 Training Error:0.305 Test Error:0.206\n",
      "Epoch:6/50 Training Error:0.310 Test Error:0.192\n",
      "Epoch:7/50 Training Error:0.319 Test Error:0.192\n",
      "Epoch:8/50 Training Error:0.312 Test Error:0.191\n",
      "Epoch:9/50 Training Error:0.305 Test Error:0.194\n",
      "Epoch:10/50 Training Error:0.304 Test Error:0.197\n",
      "Epoch:11/50 Training Error:0.304 Test Error:0.195\n",
      "Epoch:12/50 Training Error:0.307 Test Error:0.192\n",
      "Epoch:13/50 Training Error:0.311 Test Error:0.191\n",
      "Epoch:14/50 Training Error:0.311 Test Error:0.191\n",
      "Epoch:15/50 Training Error:0.307 Test Error:0.192\n",
      "Epoch:16/50 Training Error:0.305 Test Error:0.194\n",
      "Epoch:17/50 Training Error:0.305 Test Error:0.194\n",
      "Epoch:18/50 Training Error:0.306 Test Error:0.192\n",
      "Epoch:19/50 Training Error:0.308 Test Error:0.191\n",
      "Epoch:20/50 Training Error:0.309 Test Error:0.191\n",
      "Epoch:21/50 Training Error:0.308 Test Error:0.191\n",
      "Epoch:22/50 Training Error:0.306 Test Error:0.192\n",
      "Epoch:23/50 Training Error:0.305 Test Error:0.193\n",
      "Epoch:24/50 Training Error:0.306 Test Error:0.192\n",
      "Epoch:25/50 Training Error:0.307 Test Error:0.192\n",
      "Epoch:26/50 Training Error:0.308 Test Error:0.191\n",
      "Epoch:27/50 Training Error:0.308 Test Error:0.191\n",
      "Epoch:28/50 Training Error:0.307 Test Error:0.192\n",
      "Epoch:29/50 Training Error:0.306 Test Error:0.192\n",
      "Epoch:30/50 Training Error:0.306 Test Error:0.192\n",
      "Epoch:31/50 Training Error:0.306 Test Error:0.192\n",
      "Epoch:32/50 Training Error:0.307 Test Error:0.192\n",
      "Epoch:33/50 Training Error:0.307 Test Error:0.192\n",
      "Epoch:34/50 Training Error:0.307 Test Error:0.192\n",
      "Epoch:35/50 Training Error:0.307 Test Error:0.192\n",
      "Epoch:36/50 Training Error:0.307 Test Error:0.192\n",
      "Epoch:37/50 Training Error:0.306 Test Error:0.192\n",
      "Epoch:38/50 Training Error:0.307 Test Error:0.192\n",
      "Epoch:39/50 Training Error:0.307 Test Error:0.192\n",
      "Epoch:40/50 Training Error:0.307 Test Error:0.192\n",
      "Epoch:41/50 Training Error:0.307 Test Error:0.192\n",
      "Epoch:42/50 Training Error:0.307 Test Error:0.192\n",
      "Epoch:43/50 Training Error:0.307 Test Error:0.192\n",
      "Epoch:44/50 Training Error:0.307 Test Error:0.192\n",
      "Epoch:45/50 Training Error:0.307 Test Error:0.192\n",
      "Epoch:46/50 Training Error:0.307 Test Error:0.192\n",
      "Epoch:47/50 Training Error:0.307 Test Error:0.192\n",
      "Epoch:48/50 Training Error:0.307 Test Error:0.192\n",
      "Epoch:49/50 Training Error:0.307 Test Error:0.192\n",
      "Epoch:50/50 Training Error:0.307 Test Error:0.192\n",
      "\u001b[1mTrain/Test of the sub-dataset data/pickle/lstm_very_small/processed_lstm_very_small_0.05_0.1\u001b[0m\n",
      "Epoch:1/50 Training Error:0.327 Test Error:0.196\n",
      "Epoch:2/50 Training Error:0.313 Test Error:0.193\n",
      "Epoch:3/50 Training Error:0.312 Test Error:0.223\n",
      "Epoch:4/50 Training Error:0.307 Test Error:0.193\n",
      "Epoch:5/50 Training Error:0.332 Test Error:0.196\n",
      "Epoch:6/50 Training Error:0.304 Test Error:0.195\n",
      "Epoch:7/50 Training Error:0.304 Test Error:0.199\n"
     ]
    },
    {
     "name": "stdout",
     "output_type": "stream",
     "text": [
      "Epoch:8/50 Training Error:0.305 Test Error:0.194\n",
      "Epoch:9/50 Training Error:0.310 Test Error:0.191\n",
      "Epoch:10/50 Training Error:0.312 Test Error:0.191\n",
      "Epoch:11/50 Training Error:0.306 Test Error:0.192\n",
      "Epoch:12/50 Training Error:0.304 Test Error:0.195\n",
      "Epoch:13/50 Training Error:0.306 Test Error:0.193\n",
      "Epoch:14/50 Training Error:0.308 Test Error:0.191\n",
      "Epoch:15/50 Training Error:0.307 Test Error:0.191\n",
      "Epoch:16/50 Training Error:0.307 Test Error:0.192\n",
      "Epoch:17/50 Training Error:0.307 Test Error:0.192\n",
      "Epoch:18/50 Training Error:0.306 Test Error:0.192\n",
      "Epoch:19/50 Training Error:0.306 Test Error:0.192\n",
      "Epoch:20/50 Training Error:0.306 Test Error:0.192\n",
      "Epoch:21/50 Training Error:0.307 Test Error:0.191\n",
      "Epoch:22/50 Training Error:0.307 Test Error:0.191\n",
      "Epoch:23/50 Training Error:0.307 Test Error:0.192\n",
      "Epoch:24/50 Training Error:0.306 Test Error:0.192\n",
      "Epoch:25/50 Training Error:0.306 Test Error:0.192\n",
      "Epoch:26/50 Training Error:0.306 Test Error:0.192\n",
      "Epoch:27/50 Training Error:0.307 Test Error:0.191\n",
      "Epoch:28/50 Training Error:0.307 Test Error:0.191\n",
      "Epoch:29/50 Training Error:0.306 Test Error:0.192\n",
      "Epoch:30/50 Training Error:0.306 Test Error:0.192\n",
      "Epoch:31/50 Training Error:0.306 Test Error:0.192\n",
      "Epoch:32/50 Training Error:0.307 Test Error:0.192\n",
      "Epoch:33/50 Training Error:0.307 Test Error:0.191\n",
      "Epoch:34/50 Training Error:0.306 Test Error:0.192\n",
      "Epoch:35/50 Training Error:0.306 Test Error:0.192\n",
      "Epoch:36/50 Training Error:0.306 Test Error:0.192\n",
      "Epoch:37/50 Training Error:0.306 Test Error:0.192\n",
      "Epoch:38/50 Training Error:0.306 Test Error:0.192\n",
      "Epoch:39/50 Training Error:0.306 Test Error:0.192\n",
      "Epoch:40/50 Training Error:0.306 Test Error:0.192\n",
      "Epoch:41/50 Training Error:0.306 Test Error:0.192\n",
      "Epoch:42/50 Training Error:0.306 Test Error:0.192\n",
      "Epoch:43/50 Training Error:0.306 Test Error:0.192\n",
      "Epoch:44/50 Training Error:0.306 Test Error:0.192\n",
      "Epoch:45/50 Training Error:0.306 Test Error:0.192\n",
      "Epoch:46/50 Training Error:0.306 Test Error:0.192\n",
      "Epoch:47/50 Training Error:0.306 Test Error:0.192\n",
      "Epoch:48/50 Training Error:0.306 Test Error:0.192\n",
      "Epoch:49/50 Training Error:0.306 Test Error:0.192\n",
      "Epoch:50/50 Training Error:0.306 Test Error:0.192\n",
      "\u001b[1mTrain/Test of the sub-dataset data/pickle/lstm_very_small/processed_lstm_very_small_0.1_0.1\u001b[0m\n",
      "Epoch:1/50 Training Error:0.311 Test Error:0.187\n",
      "Epoch:2/50 Training Error:0.289 Test Error:0.179\n",
      "Epoch:3/50 Training Error:0.294 Test Error:0.214\n",
      "Epoch:4/50 Training Error:0.289 Test Error:0.179\n",
      "Epoch:5/50 Training Error:0.305 Test Error:0.184\n",
      "Epoch:6/50 Training Error:0.282 Test Error:0.183\n",
      "Epoch:7/50 Training Error:0.282 Test Error:0.185\n",
      "Epoch:8/50 Training Error:0.286 Test Error:0.179\n",
      "Epoch:9/50 Training Error:0.289 Test Error:0.179\n",
      "Epoch:10/50 Training Error:0.286 Test Error:0.179\n",
      "Epoch:11/50 Training Error:0.283 Test Error:0.180\n",
      "Epoch:12/50 Training Error:0.283 Test Error:0.180\n",
      "Epoch:13/50 Training Error:0.284 Test Error:0.179\n",
      "Epoch:14/50 Training Error:0.285 Test Error:0.179\n",
      "Epoch:15/50 Training Error:0.285 Test Error:0.179\n",
      "Epoch:16/50 Training Error:0.285 Test Error:0.179\n",
      "Epoch:17/50 Training Error:0.285 Test Error:0.179\n",
      "Epoch:18/50 Training Error:0.284 Test Error:0.179\n",
      "Epoch:19/50 Training Error:0.283 Test Error:0.179\n",
      "Epoch:20/50 Training Error:0.285 Test Error:0.179\n",
      "Epoch:21/50 Training Error:0.286 Test Error:0.179\n",
      "Epoch:22/50 Training Error:0.285 Test Error:0.179\n",
      "Epoch:23/50 Training Error:0.284 Test Error:0.179\n",
      "Epoch:24/50 Training Error:0.283 Test Error:0.179\n",
      "Epoch:25/50 Training Error:0.284 Test Error:0.179\n",
      "Epoch:26/50 Training Error:0.285 Test Error:0.179\n",
      "Epoch:27/50 Training Error:0.285 Test Error:0.179\n",
      "Epoch:28/50 Training Error:0.284 Test Error:0.179\n",
      "Epoch:29/50 Training Error:0.283 Test Error:0.179\n",
      "Epoch:30/50 Training Error:0.284 Test Error:0.179\n",
      "Epoch:31/50 Training Error:0.285 Test Error:0.179\n",
      "Epoch:32/50 Training Error:0.285 Test Error:0.179\n",
      "Epoch:33/50 Training Error:0.284 Test Error:0.179\n",
      "Epoch:34/50 Training Error:0.284 Test Error:0.179\n",
      "Epoch:35/50 Training Error:0.284 Test Error:0.179\n",
      "Epoch:36/50 Training Error:0.284 Test Error:0.179\n",
      "Epoch:37/50 Training Error:0.285 Test Error:0.179\n",
      "Epoch:38/50 Training Error:0.284 Test Error:0.179\n",
      "Epoch:39/50 Training Error:0.284 Test Error:0.179\n",
      "Epoch:40/50 Training Error:0.284 Test Error:0.179\n",
      "Epoch:41/50 Training Error:0.284 Test Error:0.179\n",
      "Epoch:42/50 Training Error:0.284 Test Error:0.179\n",
      "Epoch:43/50 Training Error:0.284 Test Error:0.179\n",
      "Epoch:44/50 Training Error:0.284 Test Error:0.179\n",
      "Epoch:45/50 Training Error:0.284 Test Error:0.179\n",
      "Epoch:46/50 Training Error:0.284 Test Error:0.179\n",
      "Epoch:47/50 Training Error:0.284 Test Error:0.179\n",
      "Epoch:48/50 Training Error:0.284 Test Error:0.179\n",
      "Epoch:49/50 Training Error:0.284 Test Error:0.179\n",
      "Epoch:50/50 Training Error:0.284 Test Error:0.179\n",
      "\u001b[1mTrain/Test of the sub-dataset data/pickle/lstm_very_small/processed_lstm_very_small_0.1_0.25\u001b[0m\n",
      "Epoch:1/50 Training Error:0.286 Test Error:0.192\n",
      "Epoch:2/50 Training Error:0.311 Test Error:0.186\n",
      "Epoch:3/50 Training Error:0.284 Test Error:0.185\n",
      "Epoch:4/50 Training Error:0.285 Test Error:0.196\n",
      "Epoch:5/50 Training Error:0.282 Test Error:0.187\n",
      "Epoch:6/50 Training Error:0.288 Test Error:0.179\n",
      "Epoch:7/50 Training Error:0.295 Test Error:0.180\n",
      "Epoch:8/50 Training Error:0.288 Test Error:0.179\n",
      "Epoch:9/50 Training Error:0.283 Test Error:0.181\n",
      "Epoch:10/50 Training Error:0.282 Test Error:0.184\n",
      "Epoch:11/50 Training Error:0.282 Test Error:0.182\n",
      "Epoch:12/50 Training Error:0.286 Test Error:0.179\n",
      "Epoch:13/50 Training Error:0.290 Test Error:0.179\n",
      "Epoch:14/50 Training Error:0.288 Test Error:0.178\n",
      "Epoch:15/50 Training Error:0.284 Test Error:0.179\n",
      "Epoch:16/50 Training Error:0.282 Test Error:0.181\n",
      "Epoch:17/50 Training Error:0.283 Test Error:0.180\n",
      "Epoch:18/50 Training Error:0.284 Test Error:0.179\n",
      "Epoch:19/50 Training Error:0.286 Test Error:0.179\n",
      "Epoch:20/50 Training Error:0.286 Test Error:0.178\n",
      "Epoch:21/50 Training Error:0.285 Test Error:0.179\n",
      "Epoch:22/50 Training Error:0.284 Test Error:0.179\n",
      "Epoch:23/50 Training Error:0.283 Test Error:0.180\n",
      "Epoch:24/50 Training Error:0.284 Test Error:0.179\n",
      "Epoch:25/50 Training Error:0.284 Test Error:0.179\n",
      "Epoch:26/50 Training Error:0.285 Test Error:0.179\n",
      "Epoch:27/50 Training Error:0.285 Test Error:0.179\n",
      "Epoch:28/50 Training Error:0.285 Test Error:0.179\n",
      "Epoch:29/50 Training Error:0.284 Test Error:0.179\n",
      "Epoch:30/50 Training Error:0.284 Test Error:0.179\n",
      "Epoch:31/50 Training Error:0.284 Test Error:0.179\n",
      "Epoch:32/50 Training Error:0.284 Test Error:0.179\n",
      "Epoch:33/50 Training Error:0.285 Test Error:0.179\n",
      "Epoch:34/50 Training Error:0.285 Test Error:0.179\n",
      "Epoch:35/50 Training Error:0.285 Test Error:0.179\n",
      "Epoch:36/50 Training Error:0.284 Test Error:0.179\n",
      "Epoch:37/50 Training Error:0.284 Test Error:0.179\n",
      "Epoch:38/50 Training Error:0.284 Test Error:0.179\n",
      "Epoch:39/50 Training Error:0.285 Test Error:0.179\n",
      "Epoch:40/50 Training Error:0.285 Test Error:0.179\n",
      "Epoch:41/50 Training Error:0.285 Test Error:0.179\n",
      "Epoch:42/50 Training Error:0.284 Test Error:0.179\n",
      "Epoch:43/50 Training Error:0.284 Test Error:0.179\n",
      "Epoch:44/50 Training Error:0.284 Test Error:0.179\n",
      "Epoch:45/50 Training Error:0.284 Test Error:0.179\n",
      "Epoch:46/50 Training Error:0.284 Test Error:0.179\n",
      "Epoch:47/50 Training Error:0.285 Test Error:0.179\n",
      "Epoch:48/50 Training Error:0.285 Test Error:0.179\n",
      "Epoch:49/50 Training Error:0.284 Test Error:0.179\n",
      "Epoch:50/50 Training Error:0.284 Test Error:0.179\n",
      "\u001b[1mTrain/Test of the sub-dataset data/pickle/lstm_very_small/processed_lstm_very_small_0.02_0.5\u001b[0m\n",
      "Epoch:1/50 Training Error:0.520 Test Error:0.496\n",
      "Epoch:2/50 Training Error:0.270 Test Error:0.168\n",
      "Epoch:3/50 Training Error:0.284 Test Error:0.165\n",
      "Epoch:4/50 Training Error:0.265 Test Error:0.174\n",
      "Epoch:5/50 Training Error:0.273 Test Error:0.196\n",
      "Epoch:6/50 Training Error:0.270 Test Error:0.188\n",
      "Epoch:7/50 Training Error:0.264 Test Error:0.168\n",
      "Epoch:8/50 Training Error:0.270 Test Error:0.162\n",
      "Epoch:9/50 Training Error:0.267 Test Error:0.163\n",
      "Epoch:10/50 Training Error:0.264 Test Error:0.168\n",
      "Epoch:11/50 Training Error:0.264 Test Error:0.173\n",
      "Epoch:12/50 Training Error:0.264 Test Error:0.173\n",
      "Epoch:13/50 Training Error:0.264 Test Error:0.169\n",
      "Epoch:14/50 Training Error:0.264 Test Error:0.165\n",
      "Epoch:15/50 Training Error:0.265 Test Error:0.164\n",
      "Epoch:16/50 Training Error:0.264 Test Error:0.165\n"
     ]
    },
    {
     "name": "stdout",
     "output_type": "stream",
     "text": [
      "Epoch:17/50 Training Error:0.264 Test Error:0.167\n",
      "Epoch:18/50 Training Error:0.263 Test Error:0.169\n",
      "Epoch:19/50 Training Error:0.263 Test Error:0.169\n",
      "Epoch:20/50 Training Error:0.263 Test Error:0.168\n",
      "Epoch:21/50 Training Error:0.264 Test Error:0.166\n",
      "Epoch:22/50 Training Error:0.264 Test Error:0.165\n",
      "Epoch:23/50 Training Error:0.264 Test Error:0.165\n",
      "Epoch:24/50 Training Error:0.264 Test Error:0.166\n",
      "Epoch:25/50 Training Error:0.263 Test Error:0.167\n",
      "Epoch:26/50 Training Error:0.263 Test Error:0.167\n",
      "Epoch:27/50 Training Error:0.263 Test Error:0.167\n",
      "Epoch:28/50 Training Error:0.263 Test Error:0.166\n",
      "Epoch:29/50 Training Error:0.264 Test Error:0.166\n",
      "Epoch:30/50 Training Error:0.264 Test Error:0.166\n",
      "Epoch:31/50 Training Error:0.263 Test Error:0.166\n",
      "Epoch:32/50 Training Error:0.263 Test Error:0.166\n",
      "Epoch:33/50 Training Error:0.263 Test Error:0.167\n",
      "Epoch:34/50 Training Error:0.263 Test Error:0.166\n",
      "Epoch:35/50 Training Error:0.263 Test Error:0.166\n",
      "Epoch:36/50 Training Error:0.263 Test Error:0.166\n",
      "Epoch:37/50 Training Error:0.263 Test Error:0.166\n",
      "Epoch:38/50 Training Error:0.263 Test Error:0.166\n",
      "Epoch:39/50 Training Error:0.263 Test Error:0.166\n",
      "Epoch:40/50 Training Error:0.263 Test Error:0.166\n",
      "Epoch:41/50 Training Error:0.263 Test Error:0.166\n",
      "Epoch:42/50 Training Error:0.263 Test Error:0.166\n",
      "Epoch:43/50 Training Error:0.263 Test Error:0.166\n",
      "Epoch:44/50 Training Error:0.263 Test Error:0.166\n",
      "Epoch:45/50 Training Error:0.263 Test Error:0.166\n",
      "Epoch:46/50 Training Error:0.263 Test Error:0.166\n",
      "Epoch:47/50 Training Error:0.263 Test Error:0.166\n",
      "Epoch:48/50 Training Error:0.263 Test Error:0.166\n",
      "Epoch:49/50 Training Error:0.263 Test Error:0.166\n",
      "Epoch:50/50 Training Error:0.263 Test Error:0.166\n",
      "\u001b[1mTrain/Test of the sub-dataset data/pickle/lstm_very_small/processed_lstm_very_small_0.05_0.5\u001b[0m\n",
      "Epoch:1/50 Training Error:0.510 Test Error:0.474\n",
      "Epoch:2/50 Training Error:0.326 Test Error:0.195\n",
      "Epoch:3/50 Training Error:0.334 Test Error:0.197\n",
      "Epoch:4/50 Training Error:0.307 Test Error:0.196\n",
      "Epoch:5/50 Training Error:0.307 Test Error:0.212\n",
      "Epoch:6/50 Training Error:0.307 Test Error:0.212\n",
      "Epoch:7/50 Training Error:0.304 Test Error:0.199\n",
      "Epoch:8/50 Training Error:0.312 Test Error:0.191\n",
      "Epoch:9/50 Training Error:0.319 Test Error:0.192\n",
      "Epoch:10/50 Training Error:0.313 Test Error:0.191\n",
      "Epoch:11/50 Training Error:0.306 Test Error:0.193\n",
      "Epoch:12/50 Training Error:0.304 Test Error:0.197\n",
      "Epoch:13/50 Training Error:0.304 Test Error:0.197\n",
      "Epoch:14/50 Training Error:0.305 Test Error:0.194\n",
      "Epoch:15/50 Training Error:0.308 Test Error:0.192\n",
      "Epoch:16/50 Training Error:0.311 Test Error:0.191\n",
      "Epoch:17/50 Training Error:0.310 Test Error:0.191\n",
      "Epoch:18/50 Training Error:0.308 Test Error:0.192\n",
      "Epoch:19/50 Training Error:0.306 Test Error:0.193\n",
      "Epoch:20/50 Training Error:0.305 Test Error:0.194\n",
      "Epoch:21/50 Training Error:0.305 Test Error:0.193\n",
      "Epoch:22/50 Training Error:0.307 Test Error:0.192\n",
      "Epoch:23/50 Training Error:0.308 Test Error:0.192\n",
      "Epoch:24/50 Training Error:0.309 Test Error:0.191\n",
      "Epoch:25/50 Training Error:0.308 Test Error:0.192\n",
      "Epoch:26/50 Training Error:0.307 Test Error:0.192\n",
      "Epoch:27/50 Training Error:0.306 Test Error:0.192\n",
      "Epoch:28/50 Training Error:0.306 Test Error:0.193\n",
      "Epoch:29/50 Training Error:0.306 Test Error:0.192\n",
      "Epoch:30/50 Training Error:0.307 Test Error:0.192\n",
      "Epoch:31/50 Training Error:0.307 Test Error:0.192\n",
      "Epoch:32/50 Training Error:0.308 Test Error:0.192\n",
      "Epoch:33/50 Training Error:0.307 Test Error:0.192\n",
      "Epoch:34/50 Training Error:0.307 Test Error:0.192\n",
      "Epoch:35/50 Training Error:0.307 Test Error:0.192\n",
      "Epoch:36/50 Training Error:0.307 Test Error:0.192\n",
      "Epoch:37/50 Training Error:0.307 Test Error:0.192\n",
      "Epoch:38/50 Training Error:0.307 Test Error:0.192\n",
      "Epoch:39/50 Training Error:0.307 Test Error:0.192\n",
      "Epoch:40/50 Training Error:0.307 Test Error:0.192\n",
      "Epoch:41/50 Training Error:0.307 Test Error:0.192\n",
      "Epoch:42/50 Training Error:0.307 Test Error:0.192\n",
      "Epoch:43/50 Training Error:0.307 Test Error:0.192\n",
      "Epoch:44/50 Training Error:0.307 Test Error:0.192\n",
      "Epoch:45/50 Training Error:0.307 Test Error:0.192\n",
      "Epoch:46/50 Training Error:0.307 Test Error:0.192\n",
      "Epoch:47/50 Training Error:0.307 Test Error:0.192\n",
      "Epoch:48/50 Training Error:0.307 Test Error:0.192\n",
      "Epoch:49/50 Training Error:0.307 Test Error:0.192\n",
      "Epoch:50/50 Training Error:0.307 Test Error:0.192\n",
      "\u001b[1mTrain/Test of the sub-dataset data/pickle/lstm_very_small/processed_lstm_very_small_0.1_0.5\u001b[0m\n",
      "Epoch:1/50 Training Error:0.467 Test Error:0.433\n",
      "Epoch:2/50 Training Error:0.306 Test Error:0.184\n",
      "Epoch:3/50 Training Error:0.309 Test Error:0.185\n",
      "Epoch:4/50 Training Error:0.283 Test Error:0.184\n",
      "Epoch:5/50 Training Error:0.285 Test Error:0.198\n",
      "Epoch:6/50 Training Error:0.283 Test Error:0.192\n",
      "Epoch:7/50 Training Error:0.285 Test Error:0.180\n",
      "Epoch:8/50 Training Error:0.293 Test Error:0.179\n",
      "Epoch:9/50 Training Error:0.292 Test Error:0.179\n",
      "Epoch:10/50 Training Error:0.286 Test Error:0.179\n",
      "Epoch:11/50 Training Error:0.282 Test Error:0.181\n",
      "Epoch:12/50 Training Error:0.282 Test Error:0.182\n",
      "Epoch:13/50 Training Error:0.283 Test Error:0.181\n",
      "Epoch:14/50 Training Error:0.285 Test Error:0.179\n",
      "Epoch:15/50 Training Error:0.287 Test Error:0.179\n",
      "Epoch:16/50 Training Error:0.287 Test Error:0.179\n",
      "Epoch:17/50 Training Error:0.286 Test Error:0.179\n",
      "Epoch:18/50 Training Error:0.284 Test Error:0.179\n",
      "Epoch:19/50 Training Error:0.283 Test Error:0.180\n",
      "Epoch:20/50 Training Error:0.283 Test Error:0.180\n",
      "Epoch:21/50 Training Error:0.284 Test Error:0.179\n",
      "Epoch:22/50 Training Error:0.285 Test Error:0.179\n",
      "Epoch:23/50 Training Error:0.286 Test Error:0.179\n",
      "Epoch:24/50 Training Error:0.285 Test Error:0.179\n",
      "Epoch:25/50 Training Error:0.285 Test Error:0.179\n",
      "Epoch:26/50 Training Error:0.284 Test Error:0.179\n",
      "Epoch:27/50 Training Error:0.284 Test Error:0.179\n",
      "Epoch:28/50 Training Error:0.284 Test Error:0.179\n",
      "Epoch:29/50 Training Error:0.285 Test Error:0.179\n",
      "Epoch:30/50 Training Error:0.285 Test Error:0.179\n",
      "Epoch:31/50 Training Error:0.285 Test Error:0.179\n",
      "Epoch:32/50 Training Error:0.285 Test Error:0.179\n",
      "Epoch:33/50 Training Error:0.284 Test Error:0.179\n",
      "Epoch:34/50 Training Error:0.284 Test Error:0.179\n",
      "Epoch:35/50 Training Error:0.284 Test Error:0.179\n",
      "Epoch:36/50 Training Error:0.284 Test Error:0.179\n",
      "Epoch:37/50 Training Error:0.285 Test Error:0.179\n",
      "Epoch:38/50 Training Error:0.285 Test Error:0.179\n",
      "Epoch:39/50 Training Error:0.285 Test Error:0.179\n",
      "Epoch:40/50 Training Error:0.284 Test Error:0.179\n",
      "Epoch:41/50 Training Error:0.284 Test Error:0.179\n",
      "Epoch:42/50 Training Error:0.284 Test Error:0.179\n",
      "Epoch:43/50 Training Error:0.284 Test Error:0.179\n",
      "Epoch:44/50 Training Error:0.285 Test Error:0.179\n",
      "Epoch:45/50 Training Error:0.285 Test Error:0.179\n",
      "Epoch:46/50 Training Error:0.285 Test Error:0.179\n",
      "Epoch:47/50 Training Error:0.285 Test Error:0.179\n",
      "Epoch:48/50 Training Error:0.284 Test Error:0.179\n",
      "Epoch:49/50 Training Error:0.284 Test Error:0.179\n",
      "Epoch:50/50 Training Error:0.284 Test Error:0.179\n"
     ]
    }
   ],
   "source": [
    "import glob\n",
    "import os \n",
    "import _pickle as cPickle\n",
    "from sklearn.preprocessing import MinMaxScaler\n",
    "\n",
    "dataset = 'lstm_very_small'\n",
    "file_location = os.path.join('data', 'pickle', dataset, '*')\n",
    "filenames = glob.glob(file_location)\n",
    "i=0 \n",
    "\n",
    "\n",
    "# define the parameters of the model\n",
    "learningRate= 0.1\n",
    "hidden_size_ = 3\n",
    "momentum = 0.99\n",
    "\n",
    "epochs=50\n",
    "criterion = nn.MSELoss() \n",
    "\n",
    "test_errors = []\n",
    "train_errors = []\n",
    "\n",
    "for f in filenames:\n",
    "    \n",
    "    print(\"\\033[1m\" +'Train/Test of the sub-dataset ' + f + \"\\033[0m\")\n",
    "    \n",
    "    #Load the data\n",
    "    x  = cPickle.load(open(f, \"rb\"))\n",
    "    \n",
    "    #Scale between 0 and 1\n",
    "    for i in range(x.shape[0]):\n",
    "        scaler = MinMaxScaler()\n",
    "        scaler.fit(x[i])\n",
    "        x[i] = scaler.transform(x[i])\n",
    "    \n",
    "    #Split\n",
    "    x_train, x_test = train_test_split(x, test_size=0.1, random_state=seed)\n",
    "    y_train, y_test = x_train, x_test\n",
    "    \n",
    "    #Declare the model\n",
    "    input_size=x_train.shape[2]\n",
    "    model = LSTMAE(input_size, hidden_size_)\n",
    "    optimizer = torch.optim.SGD(model.parameters(), lr=learningRate, momentum=momentum,weight_decay=1e-5)\n",
    "    \n",
    "    #Dataloader\n",
    "    train_loader = DataLoader(x_train)\n",
    "    test_loader = DataLoader(x_test)\n",
    "    \n",
    "    #Training and testing over the epochs\n",
    "    for epoch in range(epochs):\n",
    "        # train the model \n",
    "        train_loss=train_epoch_lstm(train_loader, model, criterion, optimizer)\n",
    "        # compute the relative training error\n",
    "        train_error = valid_epoch_lstm(train_loader, model)\n",
    "        # compute the relative test error\n",
    "        test_error=valid_epoch_lstm(test_loader, model)\n",
    "        \n",
    "        print(\"Epoch:{}/{} Training Error:{:.3f} Test Error:{:.3f}\".format(epoch + 1,epochs,train_error,test_error))\n",
    "    \n",
    "    #Save the last epoch train and test errors\n",
    "    test_errors.append(test_error)\n",
    "    train_errors.append(train_error)"
   ]
  },
  {
   "cell_type": "code",
   "execution_count": 7,
   "metadata": {},
   "outputs": [
    {
     "name": "stdout",
     "output_type": "stream",
     "text": [
      "[0.16557153530926946, 0.1654391857956753, 0.19184089690193487, 0.1915436499705856, 0.17882232098130899, 0.17892274116897436, 0.16604665933892845, 0.19200103698791327, 0.17898203149305722]\n"
     ]
    },
    {
     "data": {
      "text/html": [
       "<div>\n",
       "<style scoped>\n",
       "    .dataframe tbody tr th:only-of-type {\n",
       "        vertical-align: middle;\n",
       "    }\n",
       "\n",
       "    .dataframe tbody tr th {\n",
       "        vertical-align: top;\n",
       "    }\n",
       "\n",
       "    .dataframe thead th {\n",
       "        text-align: right;\n",
       "    }\n",
       "</style>\n",
       "<table border=\"1\" class=\"dataframe\">\n",
       "  <thead>\n",
       "    <tr style=\"text-align: right;\">\n",
       "      <th></th>\n",
       "      <th>10%</th>\n",
       "      <th>5%</th>\n",
       "      <th>2%</th>\n",
       "    </tr>\n",
       "    <tr>\n",
       "      <th></th>\n",
       "      <th></th>\n",
       "      <th></th>\n",
       "      <th></th>\n",
       "    </tr>\n",
       "  </thead>\n",
       "  <tbody>\n",
       "    <tr>\n",
       "      <th>50%</th>\n",
       "      <td>0.165572</td>\n",
       "      <td>0.191544</td>\n",
       "      <td>0.166047</td>\n",
       "    </tr>\n",
       "    <tr>\n",
       "      <th>25%</th>\n",
       "      <td>0.165439</td>\n",
       "      <td>0.178822</td>\n",
       "      <td>0.192001</td>\n",
       "    </tr>\n",
       "    <tr>\n",
       "      <th>10%</th>\n",
       "      <td>0.191841</td>\n",
       "      <td>0.178923</td>\n",
       "      <td>0.178982</td>\n",
       "    </tr>\n",
       "  </tbody>\n",
       "</table>\n",
       "</div>"
      ],
      "text/plain": [
       "          10%        5%        2%\n",
       "                                 \n",
       "50%  0.165572  0.191544  0.166047\n",
       "25%  0.165439  0.178822  0.192001\n",
       "10%  0.191841  0.178923  0.178982"
      ]
     },
     "metadata": {},
     "output_type": "display_data"
    },
    {
     "name": "stdout",
     "output_type": "stream",
     "text": [
      "\u001b[1mTable of relative error depending on the sampling of the dataset\u001b[0m\n",
      "x : sampling of times\n",
      "y : sampling of positions\n"
     ]
    }
   ],
   "source": [
    "from pandas import *\n",
    "print(test_errors)\n",
    "results = DataFrame({'' : ['50%', '25%', '10%'],\n",
    "                   '10%' : test_errors[:3],\n",
    "                   '5%' : test_errors[3:6],\n",
    "                   '2%' : test_errors[6:9]})\n",
    "\n",
    "results = results.set_index('')\n",
    "\n",
    "display(results)\n",
    "print(\"\\033[1m\" + 'Table of relative error depending on the sampling of the dataset' + \"\\033[0m\")\n",
    "print('x : sampling of times')\n",
    "print('y : sampling of positions')"
   ]
  },
  {
   "cell_type": "code",
   "execution_count": 8,
   "metadata": {},
   "outputs": [],
   "source": [
    "#Save in pickles\n",
    "\n",
    "name = \"lstm_train_errors_\" + dataset\n",
    "cPickle.dump( train_errors , open( name, \"wb\" ) )\n",
    "name = \"lstm_test_errors_\" + dataset\n",
    "cPickle.dump( test_errors , open( name, \"wb\" ) )"
   ]
  },
  {
   "cell_type": "markdown",
   "metadata": {},
   "source": [
    "## 5. Discussion & conclusion <a name=\"ccl\"></a>"
   ]
  },
  {
   "cell_type": "code",
   "execution_count": null,
   "metadata": {},
   "outputs": [],
   "source": []
  }
 ],
 "metadata": {
  "kernelspec": {
   "display_name": "Python 3",
   "language": "python",
   "name": "python3"
  },
  "language_info": {
   "codemirror_mode": {
    "name": "ipython",
    "version": 3
   },
   "file_extension": ".py",
   "mimetype": "text/x-python",
   "name": "python",
   "nbconvert_exporter": "python",
   "pygments_lexer": "ipython3",
   "version": "3.8.8"
  }
 },
 "nbformat": 4,
 "nbformat_minor": 4
}
