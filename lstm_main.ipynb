{
 "cells": [
  {
   "cell_type": "markdown",
   "metadata": {},
   "source": [
    "# Machine Learning - Project 2:\n",
    "# _Autoencoder for mathematical modeling of blood flow in a stenosis context_"
   ]
  },
  {
   "cell_type": "markdown",
   "metadata": {},
   "source": [
    "## Context"
   ]
  },
  {
   "cell_type": "markdown",
   "metadata": {},
   "source": [
    "In this project, we continue our study on this notebook by focusing on LSTM Autoencoder using the same dataset generated on the jupyter notebook `main.ipynb`."
   ]
  },
  {
   "cell_type": "markdown",
   "metadata": {},
   "source": [
    "Abbreviations used:\n",
    "- $N_u$ = total number of spatial points per simulation\n",
    "- $N_t$ = total number of time steps per simulation\n",
    "- $N_s$ = total number of simulations"
   ]
  },
  {
   "cell_type": "markdown",
   "metadata": {},
   "source": [
    "## Table of contents"
   ]
  },
  {
   "cell_type": "markdown",
   "metadata": {},
   "source": [
    "[1. Data exploration](#data_exploration) \n",
    "- [Imports](#1imports)\n",
    "- [Pathways](#1pathways)\n",
    "- [Loading](#1load)\n",
    "- [Exploration](#1exploration)\n",
    "\n",
    "[2. Data preprocessing](#preprocessing)\n",
    "\n",
    "[3. Pickle](#pickle)\n",
    "\n",
    "[4. LSTM Autoencoder](#autoencoder)"
   ]
  },
  {
   "cell_type": "markdown",
   "metadata": {},
   "source": [
    "### Imports  <a name=\"1imports\"></a>"
   ]
  },
  {
   "cell_type": "code",
   "execution_count": 1,
   "metadata": {},
   "outputs": [],
   "source": [
    "# Useful starting lines\n",
    "%matplotlib inline\n",
    "import numpy as np\n",
    "import matplotlib.pyplot as plt\n",
    "import pandas as pd\n",
    "from helpers import *\n",
    "from preprocessing import *\n",
    "from sklearn.model_selection import train_test_split\n",
    "from LSTM import *\n",
    "from crossvalidation_lstm import *\n",
    "import _pickle as cPickle\n",
    "%load_ext autoreload\n",
    "%autoreload 2\n",
    "torch.manual_seed(0)\n",
    "np.random.seed(1)\n",
    "seed = 1"
   ]
  },
  {
   "cell_type": "markdown",
   "metadata": {},
   "source": [
    "## 1. Data exploration  <a name=\"data_exploration\"></a>"
   ]
  },
  {
   "cell_type": "markdown",
   "metadata": {},
   "source": [
    "### Pathways <a name=\"1pathways\"></a>"
   ]
  },
  {
   "cell_type": "code",
   "execution_count": 2,
   "metadata": {},
   "outputs": [],
   "source": [
    "DATA_PATH = 'data/'\n",
    "DATA_Ux_PATH = DATA_PATH + 'u1_very_small.csv.bz2'\n",
    "DATA_Uy_PATH = DATA_PATH + 'u2_very_small.csv.bz2'"
   ]
  },
  {
   "cell_type": "markdown",
   "metadata": {},
   "source": [
    "### Loading <a name=\"1load\"></a>"
   ]
  },
  {
   "cell_type": "markdown",
   "metadata": {},
   "source": [
    "Let's load the data which consists of 2 matrices Ux, Uy denoting the x and y coordinates of the speed."
   ]
  },
  {
   "cell_type": "code",
   "execution_count": 3,
   "metadata": {},
   "outputs": [],
   "source": [
    "# Loading\n",
    "Ux_pd = pd.read_csv(DATA_Ux_PATH, header=None)\n",
    "Uy_pd = pd.read_csv(DATA_Uy_PATH, header=None)\n",
    "# Converting from dataframe to numpy\n",
    "Ux = Ux_pd.to_numpy()\n",
    "Uy = Uy_pd.to_numpy()"
   ]
  },
  {
   "cell_type": "markdown",
   "metadata": {},
   "source": [
    "### Exploration <a name=\"1exploration\"></a>"
   ]
  },
  {
   "cell_type": "markdown",
   "metadata": {},
   "source": [
    "Let's have a closer look at our imported data sets. The columns represent the time steps and the rows represent a point of our blood vessel mesh and each 5509 row a new simulation."
   ]
  },
  {
   "cell_type": "code",
   "execution_count": 4,
   "metadata": {
    "scrolled": false
   },
   "outputs": [
    {
     "name": "stdout",
     "output_type": "stream",
     "text": [
      "Our input array Ux is of shape: (137725, 110)\n",
      "Our input array Uy is of shape: (137725, 110)\n",
      "Printing a row of Ux: \n",
      " [0.0694243  0.27537487 0.60389834 1.02538242 1.49979277 1.9813229\n",
      " 2.42318455 2.78232553 3.02371067 3.12378595 3.22605803 3.32166836\n",
      " 3.41249686 3.49946177 3.58301614 3.66339786 3.74073801 3.81511138\n",
      " 3.88656184 3.95511576 4.02078945 4.08359325 4.14353388 4.20061589\n",
      " 4.2548424  4.30621561 4.35473712 4.40040807 4.44322934 4.48320158\n",
      " 4.52032526 4.55460075 4.58602833 4.61460821 4.64034055 4.66322547\n",
      " 4.68326307 4.70045341 4.71479655 4.72629252 4.73494137 4.7407431\n",
      " 4.74369775 4.74423086 4.74375285 4.74246986 4.74042825 4.73764939\n",
      " 4.73414407 4.72991811 4.7249748  4.71931611 4.71294324 4.70585693\n",
      " 4.6980577  4.68954587 4.68032167 4.67038525 4.65973675 4.64837623\n",
      " 4.63630377 4.6235194  4.61002317 4.5958151  4.5808952  4.5652635\n",
      " 4.54892001 4.53186473 4.51409767 4.49561883 4.47642823 4.45652585\n",
      " 4.43591171 4.41458581 4.39254814 4.36979872 4.34633752 4.32216457\n",
      " 4.29727986 4.27168339 4.24537516 4.21835516 4.19062341 4.1621799\n",
      " 4.13302463 4.1031576  4.07257881 4.04128826 4.00928595 3.97657188\n",
      " 3.94314606 3.90900847 3.87415912 3.83859802 3.80232515 3.76534053\n",
      " 3.72764415 3.689236   3.6501161  3.61028444 3.56974102 3.52848584\n",
      " 3.4865189  3.4438402  3.40044974 3.35634752 3.31153355 3.26600781\n",
      " 3.21977031 3.17282106] \n",
      "\n",
      "Printing a row of Uy: \n",
      " [0.00067075 0.00314395 0.0081191  0.01585384 0.02617912 0.0385416\n",
      " 0.05208035 0.06573238 0.07835575 0.08885756 0.09779466 0.10544569\n",
      " 0.1120431  0.11779068 0.12286148 0.12739624 0.13150532 0.13527295\n",
      " 0.13876218 0.14201954 0.14507906 0.14796547 0.15069666 0.15328552\n",
      " 0.15574136 0.15807087 0.16027887 0.16236883 0.16434326 0.16620397\n",
      " 0.16795225 0.16958906 0.17111508 0.1725308  0.17383659 0.1750327\n",
      " 0.17611934 0.17709663 0.17796468 0.17872356 0.17937332 0.17991401\n",
      " 0.18034566 0.1806724  0.18091083 0.18107502 0.18117609 0.18122281\n",
      " 0.18122208 0.18117917 0.18109807 0.18098175 0.1808324  0.18065161\n",
      " 0.18044053 0.18020003 0.17993069 0.17963297 0.17930717 0.17895353\n",
      " 0.17857222 0.17816334 0.177727   0.17726324 0.17677213 0.17625368\n",
      " 0.17570793 0.17513488 0.17453457 0.17390698 0.17325214 0.17257004\n",
      " 0.17186069 0.17112409 0.17036024 0.16956915 0.16875082 0.16790524\n",
      " 0.16703242 0.16613236 0.16520505 0.16425051 0.16326872 0.16225969\n",
      " 0.16122342 0.1601599  0.15906915 0.15795116 0.15680592 0.15563344\n",
      " 0.15443372 0.15320676 0.15195256 0.15067112 0.14936244 0.14802651\n",
      " 0.14666335 0.14527294 0.14385529 0.14241041 0.14093828 0.1394389\n",
      " 0.13791229 0.13635844 0.13477734 0.13316901 0.13153343 0.12987061\n",
      " 0.12818056 0.12646326] \n",
      "\n"
     ]
    }
   ],
   "source": [
    "print(\"Our input array Ux is of shape:\",Ux.shape)\n",
    "print(\"Our input array Uy is of shape:\",Uy.shape)\n",
    "print(\"Printing a row of Ux:\", '\\n', Ux[10,:], '\\n')\n",
    "print(\"Printing a row of Uy:\", '\\n', Uy[10,:], '\\n')"
   ]
  },
  {
   "cell_type": "markdown",
   "metadata": {},
   "source": [
    "For the rest of the analysis, we need to figure out the number of simulation step. As we know that we previsouly generated 25 simulations on Matlab and all the new simulations are appended row-wise, we can deduce it with the following computation."
   ]
  },
  {
   "cell_type": "code",
   "execution_count": 5,
   "metadata": {
    "scrolled": true
   },
   "outputs": [
    {
     "name": "stdout",
     "output_type": "stream",
     "text": [
      "We ran  25 simulations with different parameters for each simulation (parameters of the stenosis and resistance of the blood flow in the bifurcations)\n",
      "1 simulation calculate the velocities of the blood flow at  5509  different positions and at  110  different times\n"
     ]
    }
   ],
   "source": [
    "positions =5509 #We know it from the matlab code\n",
    "times = Ux.shape[1]\n",
    "simulations = int(Ux.shape[0]/positions)\n",
    "print(\"We ran \", simulations, \"simulations with different parameters for each simulation (parameters of the stenosis and resistance of the blood flow in the bifurcations)\")\n",
    "print(\"1 simulation calculate the velocities of the blood flow at \", positions, \" different positions and at \", times, \" different times\")"
   ]
  },
  {
   "cell_type": "markdown",
   "metadata": {},
   "source": [
    "## 2. Data preprocessing  <a name=\"preprocessing\"></a>"
   ]
  },
  {
   "cell_type": "markdown",
   "metadata": {},
   "source": [
    "Let's check if we have any NaN or None values in our dataframe."
   ]
  },
  {
   "cell_type": "code",
   "execution_count": 6,
   "metadata": {
    "scrolled": true
   },
   "outputs": [
    {
     "name": "stdout",
     "output_type": "stream",
     "text": [
      "0\n",
      "0\n"
     ]
    }
   ],
   "source": [
    "print(np.count_nonzero(np.isnan(Ux)))\n",
    "print(np.count_nonzero(np.isnan(Uy)))"
   ]
  },
  {
   "cell_type": "markdown",
   "metadata": {},
   "source": [
    "It seems there are no None values so we can start direclty preprocess our datasets."
   ]
  },
  {
   "cell_type": "markdown",
   "metadata": {},
   "source": [
    "Let's sample our data points into the following ratios : "
   ]
  },
  {
   "cell_type": "code",
   "execution_count": 7,
   "metadata": {},
   "outputs": [
    {
     "name": "stdout",
     "output_type": "stream",
     "text": [
      "(1375, 110) (1375, 110)\n"
     ]
    }
   ],
   "source": [
    "ratio_pts = 0.01\n",
    "ratio_time = 1\n",
    "\n",
    "new_Ux, new_Uy, new_inds = sample(Ux, Uy, ratio_pts, ratio_time)\n",
    "print(new_Ux.shape, new_Uy.shape)"
   ]
  },
  {
   "cell_type": "code",
   "execution_count": 8,
   "metadata": {},
   "outputs": [
    {
     "name": "stdout",
     "output_type": "stream",
     "text": [
      "With the sampling we got from  5509  positions to  55  positions\n",
      "With the sampling we got from  110  time steps to  110  time steps\n"
     ]
    }
   ],
   "source": [
    "new_Nu, new_Nt = get_Nu_Nt_sampled(Ux, new_Ux)\n",
    "\n",
    "print('With the sampling we got from ', 5509, ' positions to ', new_Nu, ' positions')\n",
    "print('With the sampling we got from ', 110, ' time steps to ', new_Nt, ' time steps')"
   ]
  },
  {
   "cell_type": "markdown",
   "metadata": {},
   "source": [
    "We can look at the positions of the sampled positions to make sure that we cover mostly all the important parts of the geometry of the artery :"
   ]
  },
  {
   "cell_type": "code",
   "execution_count": 9,
   "metadata": {
    "scrolled": true
   },
   "outputs": [
    {
     "data": {
      "image/png": "[encoded data removed]",
      "text/plain": [
       "<Figure size 432x288 with 1 Axes>"
      ]
     },
     "metadata": {
      "needs_background": "light"
     },
     "output_type": "display_data"
    }
   ],
   "source": [
    "plot_sampled_coord(new_inds) "
   ]
  },
  {
   "cell_type": "markdown",
   "metadata": {},
   "source": [
    "Let's flatten our matrices into a 2D matrices with dimensions $((2 N_u),  N_t, N_s)$. For each simulation, the x and y speed coordinates are compressed to the following 1D matrix:\n",
    "\n",
    "\n",
    "\n",
    "$$\n",
    "\\mathbf{M_{2D}}\n",
    "=\n",
    "\\begin{bmatrix}\n",
    "\\vdots & \\vdots & \\vdots & \\vdots \\\\\n",
    "u_{x}^{(0)} & u_{x}^{(1)} & \\cdots &\n",
    "u_{x}^{(N_t - 1)} \\\\\n",
    "\\vdots & \\vdots & \\ddots & \\vdots \\\\\n",
    "u_{y}^{(0)} & u_{y}^{(1)} & \\cdots &\n",
    "u_{y}^{(N_t - 1)} \\\\\n",
    "\\vdots & \\vdots & \\vdots & \\vdots\n",
    "\\end{bmatrix}\n",
    "$$"
   ]
  },
  {
   "cell_type": "code",
   "execution_count": 10,
   "metadata": {},
   "outputs": [
    {
     "data": {
      "text/plain": [
       "(25, 110, 110)"
      ]
     },
     "execution_count": 10,
     "metadata": {},
     "output_type": "execute_result"
    }
   ],
   "source": [
    "flattened_array = flatten_2d(new_Ux, new_Uy, ratio_pts)\n",
    "flattened_array.shape"
   ]
  },
  {
   "cell_type": "markdown",
   "metadata": {},
   "source": [
    "Let's make a sanity check that the dimension of 1 datapoint is indeed ${2 * new_{N_t} * new_{N_u})}$"
   ]
  },
  {
   "cell_type": "code",
   "execution_count": null,
   "metadata": {},
   "outputs": [],
   "source": [
    "assert flattened_array.shape[1] == 2*new_Nt*new_Nu\n",
    "\n",
    "print(2*new_Nt*new_Nu)"
   ]
  },
  {
   "cell_type": "markdown",
   "metadata": {},
   "source": [
    "## 3. Pickle  <a name=\"pickle\"></a>"
   ]
  },
  {
   "cell_type": "markdown",
   "metadata": {},
   "source": [
    "To avoid the loading and processing steps each time we open the notebook, we will save the processed matrix \"flattened_array\" using pickle : "
   ]
  },
  {
   "cell_type": "markdown",
   "metadata": {},
   "source": [
    "In the following cell, we will create pickles for every subsampled data according to the ratios_pts and the ratios_t :"
   ]
  },
  {
   "cell_type": "code",
   "execution_count": null,
   "metadata": {},
   "outputs": [],
   "source": [
    "'''\n",
    "ratios_pts = [0.1, 0.05, 0.02]\n",
    "ratios_t = [0.5, 0.25, 0.1]\n",
    "\n",
    "create_subsamples(Ux, Uy, ratios_pts, ratios_t, name_file='very_small')\n",
    "'''"
   ]
  },
  {
   "cell_type": "markdown",
   "metadata": {},
   "source": [
    "The cell above is only intented to be run __once__."
   ]
  },
  {
   "cell_type": "markdown",
   "metadata": {},
   "source": [
    "#### Start from here if you the pickle file already exist in your data folder"
   ]
  },
  {
   "cell_type": "markdown",
   "metadata": {},
   "source": [
    "Change only the following cell to change the name of the file you want to open :"
   ]
  },
  {
   "cell_type": "code",
   "execution_count": null,
   "metadata": {},
   "outputs": [],
   "source": [
    "ratios = [0.1, 0.5]\n",
    "size = ['very_small', 'small', 'large']\n",
    "\n",
    "name = 'processed_'+str(size[0])+'_'+str(ratios[0])+'_'+str(ratios[1])\n",
    "\n",
    "print('name of the file you want to read : ', name)"
   ]
  },
  {
   "cell_type": "code",
   "execution_count": null,
   "metadata": {
    "scrolled": true
   },
   "outputs": [],
   "source": [
    "flattened_array  = cPickle.load(open(\"data/pickle/\"+str(size[0])+\"/\"+name, \"rb\"))"
   ]
  },
  {
   "cell_type": "code",
   "execution_count": null,
   "metadata": {},
   "outputs": [],
   "source": [
    "print(flattened_array)"
   ]
  },
  {
   "cell_type": "markdown",
   "metadata": {},
   "source": [
    "##### Final step : split train/test\n",
    "\n",
    "We split the data set into a training a testing set to be able to evaluate our autoencoder."
   ]
  },
  {
   "cell_type": "code",
   "execution_count": 14,
   "metadata": {},
   "outputs": [
    {
     "name": "stdout",
     "output_type": "stream",
     "text": [
      "(22, 110, 110)\n",
      "(3, 110, 110)\n"
     ]
    }
   ],
   "source": [
    "x_train, x_test = train_test_split(flattened_array, test_size=0.1, random_state=seed)\n",
    "y_train, y_test = x_train, x_test\n",
    "\n",
    "print(x_train.shape)\n",
    "print(x_test.shape)"
   ]
  },
  {
   "cell_type": "markdown",
   "metadata": {},
   "source": [
    "## 4. LSTM Auto-encoder  <a name=\"autoencoder\"></a>"
   ]
  },
  {
   "cell_type": "code",
   "execution_count": 15,
   "metadata": {},
   "outputs": [],
   "source": [
    "input_dim = 110\n",
    "model = LSTMAE(input_dim, hidden_size=5)"
   ]
  },
  {
   "cell_type": "code",
   "execution_count": 16,
   "metadata": {},
   "outputs": [
    {
     "data": {
      "text/plain": [
       "LSTMAE(\n",
       "  (encoder): Encoder(\n",
       "    (lstm_encoder): LSTM(110, 5, batch_first=True)\n",
       "  )\n",
       "  (decoder): Decoder(\n",
       "    (lstm_decoder): LSTM(5, 5, batch_first=True)\n",
       "    (fc): Linear(in_features=5, out_features=110, bias=True)\n",
       "  )\n",
       ")"
      ]
     },
     "execution_count": 16,
     "metadata": {},
     "output_type": "execute_result"
    }
   ],
   "source": [
    "model"
   ]
  },
  {
   "cell_type": "code",
   "execution_count": 17,
   "metadata": {},
   "outputs": [],
   "source": [
    "# define network parameters\n",
    "learningRate=1e-2\n",
    "epochs=50\n",
    "input_size=x_train.shape[1]\n",
    "k_folds = 5\n",
    "\n",
    "# creates a criterion that measures the mean squared error (squared L2 norm) \n",
    "criterion = nn.MSELoss() "
   ]
  },
  {
   "cell_type": "code",
   "execution_count": 20,
   "metadata": {},
   "outputs": [
    {
     "name": "stdout",
     "output_type": "stream",
     "text": [
      "--------------------------------\n",
      "FOLD 0\n",
      "--------------------------------\n",
      "Epoch:1/50 Training Error:8.450 Test Error:4.963\n",
      "Epoch:2/50 Training Error:8.365 Test Error:4.897\n",
      "Epoch:3/50 Training Error:8.244 Test Error:4.804\n",
      "Epoch:4/50 Training Error:8.122 Test Error:4.710\n",
      "Epoch:5/50 Training Error:7.988 Test Error:4.609\n",
      "Epoch:6/50 Training Error:7.834 Test Error:4.493\n",
      "Epoch:7/50 Training Error:7.677 Test Error:4.372\n",
      "Epoch:8/50 Training Error:7.510 Test Error:4.248\n",
      "Epoch:9/50 Training Error:7.341 Test Error:4.125\n",
      "Epoch:10/50 Training Error:7.182 Test Error:4.008\n",
      "Epoch:11/50 Training Error:7.037 Test Error:3.903\n",
      "Epoch:12/50 Training Error:6.904 Test Error:3.809\n",
      "Epoch:13/50 Training Error:6.780 Test Error:3.722\n",
      "Epoch:14/50 Training Error:6.665 Test Error:3.642\n",
      "Epoch:15/50 Training Error:6.561 Test Error:3.572\n",
      "Epoch:16/50 Training Error:6.467 Test Error:3.510\n",
      "Epoch:17/50 Training Error:6.382 Test Error:3.457\n",
      "Epoch:18/50 Training Error:6.308 Test Error:3.413\n",
      "Epoch:19/50 Training Error:6.244 Test Error:3.379\n",
      "Epoch:20/50 Training Error:6.189 Test Error:3.353\n",
      "Epoch:21/50 Training Error:6.143 Test Error:3.338\n",
      "Epoch:22/50 Training Error:6.111 Test Error:3.338\n",
      "Epoch:23/50 Training Error:6.101 Test Error:3.361\n",
      "Epoch:24/50 Training Error:6.124 Test Error:3.416\n",
      "Epoch:25/50 Training Error:6.177 Test Error:3.505\n",
      "Epoch:26/50 Training Error:6.269 Test Error:3.617\n",
      "Epoch:27/50 Training Error:6.366 Test Error:3.734\n",
      "Epoch:28/50 Training Error:6.442 Test Error:3.843\n",
      "Epoch:29/50 Training Error:6.582 Test Error:3.973\n",
      "Epoch:30/50 Training Error:6.676 Test Error:4.076\n",
      "Epoch:31/50 Training Error:6.777 Test Error:4.179\n",
      "Epoch:32/50 Training Error:6.871 Test Error:4.275\n",
      "Epoch:33/50 Training Error:6.969 Test Error:4.376\n",
      "Epoch:34/50 Training Error:7.052 Test Error:4.464\n",
      "Epoch:35/50 Training Error:7.122 Test Error:4.536\n",
      "Epoch:36/50 Training Error:7.174 Test Error:4.586\n",
      "Epoch:37/50 Training Error:7.226 Test Error:4.635\n",
      "Epoch:38/50 Training Error:7.265 Test Error:4.680\n",
      "Epoch:39/50 Training Error:7.312 Test Error:4.716\n",
      "Epoch:40/50 Training Error:7.323 Test Error:4.729\n",
      "Epoch:41/50 Training Error:7.353 Test Error:4.753\n",
      "Epoch:42/50 Training Error:7.396 Test Error:4.815\n",
      "Epoch:43/50 Training Error:7.428 Test Error:4.842\n",
      "Epoch:44/50 Training Error:7.446 Test Error:4.861\n",
      "Epoch:45/50 Training Error:7.466 Test Error:4.872\n",
      "Epoch:46/50 Training Error:7.476 Test Error:4.876\n",
      "Epoch:47/50 Training Error:7.487 Test Error:4.893\n",
      "Epoch:48/50 Training Error:7.506 Test Error:4.919\n",
      "Epoch:49/50 Training Error:7.526 Test Error:4.932\n",
      "Epoch:50/50 Training Error:7.515 Test Error:4.928\n",
      "--------------------------------\n",
      "FOLD 1\n",
      "--------------------------------\n",
      "Epoch:1/50 Training Error:8.477 Test Error:4.986\n",
      "Epoch:2/50 Training Error:8.379 Test Error:4.936\n",
      "Epoch:3/50 Training Error:8.270 Test Error:4.879\n",
      "Epoch:4/50 Training Error:8.142 Test Error:4.811\n",
      "Epoch:5/50 Training Error:7.991 Test Error:4.731\n",
      "Epoch:6/50 Training Error:7.814 Test Error:4.638\n",
      "Epoch:7/50 Training Error:7.615 Test Error:4.532\n",
      "Epoch:8/50 Training Error:7.397 Test Error:4.414\n",
      "Epoch:9/50 Training Error:7.173 Test Error:4.290\n",
      "Epoch:10/50 Training Error:6.946 Test Error:4.164\n",
      "Epoch:11/50 Training Error:6.726 Test Error:4.036\n",
      "Epoch:12/50 Training Error:6.528 Test Error:3.917\n",
      "Epoch:13/50 Training Error:6.363 Test Error:3.812\n",
      "Epoch:14/50 Training Error:6.232 Test Error:3.723\n",
      "Epoch:15/50 Training Error:6.132 Test Error:3.646\n",
      "Epoch:16/50 Training Error:6.066 Test Error:3.586\n",
      "Epoch:17/50 Training Error:6.031 Test Error:3.539\n",
      "Epoch:18/50 Training Error:6.024 Test Error:3.505\n",
      "Epoch:19/50 Training Error:6.042 Test Error:3.482\n",
      "Epoch:20/50 Training Error:6.079 Test Error:3.471\n",
      "Epoch:21/50 Training Error:6.132 Test Error:3.468\n",
      "Epoch:22/50 Training Error:6.196 Test Error:3.472\n",
      "Epoch:23/50 Training Error:6.265 Test Error:3.481\n",
      "Epoch:24/50 Training Error:6.342 Test Error:3.494\n",
      "Epoch:25/50 Training Error:6.424 Test Error:3.511\n",
      "Epoch:26/50 Training Error:6.508 Test Error:3.531\n",
      "Epoch:27/50 Training Error:6.589 Test Error:3.548\n",
      "Epoch:28/50 Training Error:6.668 Test Error:3.571\n",
      "Epoch:29/50 Training Error:6.748 Test Error:3.592\n",
      "Epoch:30/50 Training Error:6.829 Test Error:3.613\n",
      "Epoch:31/50 Training Error:6.901 Test Error:3.636\n",
      "Epoch:32/50 Training Error:6.969 Test Error:3.653\n",
      "Epoch:33/50 Training Error:7.034 Test Error:3.675\n",
      "Epoch:34/50 Training Error:7.093 Test Error:3.693\n",
      "Epoch:35/50 Training Error:7.152 Test Error:3.711\n",
      "Epoch:36/50 Training Error:7.202 Test Error:3.724\n",
      "Epoch:37/50 Training Error:7.251 Test Error:3.743\n",
      "Epoch:38/50 Training Error:7.293 Test Error:3.754\n",
      "Epoch:39/50 Training Error:7.324 Test Error:3.766\n",
      "Epoch:40/50 Training Error:7.362 Test Error:3.776\n",
      "Epoch:41/50 Training Error:7.408 Test Error:3.790\n",
      "Epoch:42/50 Training Error:7.446 Test Error:3.801\n",
      "Epoch:43/50 Training Error:7.467 Test Error:3.812\n",
      "Epoch:44/50 Training Error:7.479 Test Error:3.816\n",
      "Epoch:45/50 Training Error:7.487 Test Error:3.818\n",
      "Epoch:46/50 Training Error:7.486 Test Error:3.820\n",
      "Epoch:47/50 Training Error:7.490 Test Error:3.815\n",
      "Epoch:48/50 Training Error:7.496 Test Error:3.823\n",
      "Epoch:49/50 Training Error:7.486 Test Error:3.820\n",
      "Epoch:50/50 Training Error:7.492 Test Error:3.815\n",
      "--------------------------------\n",
      "FOLD 2\n",
      "--------------------------------\n",
      "Epoch:1/50 Training Error:8.835 Test Error:3.909\n",
      "Epoch:2/50 Training Error:8.737 Test Error:3.854\n",
      "Epoch:3/50 Training Error:8.617 Test Error:3.786\n",
      "Epoch:4/50 Training Error:8.466 Test Error:3.702\n",
      "Epoch:5/50 Training Error:8.281 Test Error:3.600\n",
      "Epoch:6/50 Training Error:8.061 Test Error:3.479\n",
      "Epoch:7/50 Training Error:7.823 Test Error:3.351\n",
      "Epoch:8/50 Training Error:7.587 Test Error:3.226\n",
      "Epoch:9/50 Training Error:7.351 Test Error:3.104\n",
      "Epoch:10/50 Training Error:7.108 Test Error:2.985\n",
      "Epoch:11/50 Training Error:6.913 Test Error:2.894\n",
      "Epoch:12/50 Training Error:6.750 Test Error:2.824\n",
      "Epoch:13/50 Training Error:6.619 Test Error:2.777\n",
      "Epoch:14/50 Training Error:6.518 Test Error:2.750\n",
      "Epoch:15/50 Training Error:6.450 Test Error:2.744\n",
      "Epoch:16/50 Training Error:6.411 Test Error:2.757\n",
      "Epoch:17/50 Training Error:6.398 Test Error:2.786\n",
      "Epoch:18/50 Training Error:6.407 Test Error:2.827\n",
      "Epoch:19/50 Training Error:6.436 Test Error:2.880\n",
      "Epoch:20/50 Training Error:6.476 Test Error:2.938\n",
      "Epoch:21/50 Training Error:6.527 Test Error:2.999\n",
      "Epoch:22/50 Training Error:6.586 Test Error:3.065\n",
      "Epoch:23/50 Training Error:6.651 Test Error:3.132\n",
      "Epoch:24/50 Training Error:6.721 Test Error:3.202\n",
      "Epoch:25/50 Training Error:6.793 Test Error:3.270\n",
      "Epoch:26/50 Training Error:6.864 Test Error:3.336\n",
      "Epoch:27/50 Training Error:6.936 Test Error:3.402\n",
      "Epoch:28/50 Training Error:7.004 Test Error:3.462\n",
      "Epoch:29/50 Training Error:7.070 Test Error:3.521\n",
      "Epoch:30/50 Training Error:7.123 Test Error:3.566\n",
      "Epoch:31/50 Training Error:7.176 Test Error:3.612\n",
      "Epoch:32/50 Training Error:7.221 Test Error:3.651\n",
      "Epoch:33/50 Training Error:7.273 Test Error:3.695\n",
      "Epoch:34/50 Training Error:7.301 Test Error:3.722\n",
      "Epoch:35/50 Training Error:7.354 Test Error:3.762\n",
      "Epoch:36/50 Training Error:7.385 Test Error:3.788\n",
      "Epoch:37/50 Training Error:7.403 Test Error:3.804\n",
      "Epoch:38/50 Training Error:7.420 Test Error:3.818\n",
      "Epoch:39/50 Training Error:7.440 Test Error:3.834\n",
      "Epoch:40/50 Training Error:7.447 Test Error:3.841\n",
      "Epoch:41/50 Training Error:7.447 Test Error:3.840\n",
      "Epoch:42/50 Training Error:7.451 Test Error:3.844\n",
      "Epoch:43/50 Training Error:7.457 Test Error:3.849\n",
      "Epoch:44/50 Training Error:7.472 Test Error:3.861\n",
      "Epoch:45/50 Training Error:7.476 Test Error:3.865\n",
      "Epoch:46/50 Training Error:7.483 Test Error:3.871\n",
      "Epoch:47/50 Training Error:7.486 Test Error:3.873\n",
      "Epoch:48/50 Training Error:7.485 Test Error:3.873\n",
      "Epoch:49/50 Training Error:7.481 Test Error:3.869\n",
      "Epoch:50/50 Training Error:7.480 Test Error:3.868\n",
      "--------------------------------\n",
      "FOLD 3\n",
      "--------------------------------\n",
      "Epoch:1/50 Training Error:8.894 Test Error:3.970\n",
      "Epoch:2/50 Training Error:8.742 Test Error:3.929\n",
      "Epoch:3/50 Training Error:8.539 Test Error:3.875\n",
      "Epoch:4/50 Training Error:8.288 Test Error:3.809\n",
      "Epoch:5/50 Training Error:8.001 Test Error:3.726\n",
      "Epoch:6/50 Training Error:7.740 Test Error:3.649\n",
      "Epoch:7/50 Training Error:7.484 Test Error:3.571\n",
      "Epoch:8/50 Training Error:7.243 Test Error:3.493\n",
      "Epoch:9/50 Training Error:7.023 Test Error:3.417\n"
     ]
    },
    {
     "name": "stdout",
     "output_type": "stream",
     "text": [
      "Epoch:10/50 Training Error:6.829 Test Error:3.344\n",
      "Epoch:11/50 Training Error:6.663 Test Error:3.274\n",
      "Epoch:12/50 Training Error:6.526 Test Error:3.210\n",
      "Epoch:13/50 Training Error:6.422 Test Error:3.148\n",
      "Epoch:14/50 Training Error:6.352 Test Error:3.096\n",
      "Epoch:15/50 Training Error:6.306 Test Error:3.041\n",
      "Epoch:16/50 Training Error:6.291 Test Error:2.997\n",
      "Epoch:17/50 Training Error:6.301 Test Error:2.958\n",
      "Epoch:18/50 Training Error:6.331 Test Error:2.924\n",
      "Epoch:19/50 Training Error:6.373 Test Error:2.894\n",
      "Epoch:20/50 Training Error:6.430 Test Error:2.868\n",
      "Epoch:21/50 Training Error:6.496 Test Error:2.846\n",
      "Epoch:22/50 Training Error:6.565 Test Error:2.827\n",
      "Epoch:23/50 Training Error:6.634 Test Error:2.812\n",
      "Epoch:24/50 Training Error:6.706 Test Error:2.799\n",
      "Epoch:25/50 Training Error:6.768 Test Error:2.788\n",
      "Epoch:26/50 Training Error:6.833 Test Error:2.779\n",
      "Epoch:27/50 Training Error:6.893 Test Error:2.772\n",
      "Epoch:28/50 Training Error:6.934 Test Error:2.767\n",
      "Epoch:29/50 Training Error:6.986 Test Error:2.762\n",
      "Epoch:30/50 Training Error:7.031 Test Error:2.757\n",
      "Epoch:31/50 Training Error:7.074 Test Error:2.754\n",
      "Epoch:32/50 Training Error:7.107 Test Error:2.751\n",
      "Epoch:33/50 Training Error:7.130 Test Error:2.749\n",
      "Epoch:34/50 Training Error:7.154 Test Error:2.747\n",
      "Epoch:35/50 Training Error:7.179 Test Error:2.745\n",
      "Epoch:36/50 Training Error:7.198 Test Error:2.744\n",
      "Epoch:37/50 Training Error:7.212 Test Error:2.743\n",
      "Epoch:38/50 Training Error:7.221 Test Error:2.742\n",
      "Epoch:39/50 Training Error:7.221 Test Error:2.742\n",
      "Epoch:40/50 Training Error:7.219 Test Error:2.743\n",
      "Epoch:41/50 Training Error:7.221 Test Error:2.742\n",
      "Epoch:42/50 Training Error:7.226 Test Error:2.742\n",
      "Epoch:43/50 Training Error:7.236 Test Error:2.741\n",
      "Epoch:44/50 Training Error:7.237 Test Error:2.741\n",
      "Epoch:45/50 Training Error:7.243 Test Error:2.740\n",
      "Epoch:46/50 Training Error:7.254 Test Error:2.740\n",
      "Epoch:47/50 Training Error:7.251 Test Error:2.740\n",
      "Epoch:48/50 Training Error:7.249 Test Error:2.740\n",
      "Epoch:49/50 Training Error:7.254 Test Error:2.740\n",
      "Epoch:50/50 Training Error:7.248 Test Error:2.740\n",
      "--------------------------------\n",
      "FOLD 4\n",
      "--------------------------------\n",
      "Epoch:1/50 Training Error:9.000 Test Error:4.000\n",
      "Epoch:2/50 Training Error:8.922 Test Error:3.966\n",
      "Epoch:3/50 Training Error:8.843 Test Error:3.932\n",
      "Epoch:4/50 Training Error:8.763 Test Error:3.897\n",
      "Epoch:5/50 Training Error:8.673 Test Error:3.858\n",
      "Epoch:6/50 Training Error:8.574 Test Error:3.815\n",
      "Epoch:7/50 Training Error:8.453 Test Error:3.763\n",
      "Epoch:8/50 Training Error:8.306 Test Error:3.699\n",
      "Epoch:9/50 Training Error:8.115 Test Error:3.617\n",
      "Epoch:10/50 Training Error:7.893 Test Error:3.526\n",
      "Epoch:11/50 Training Error:7.661 Test Error:3.429\n",
      "Epoch:12/50 Training Error:7.415 Test Error:3.328\n",
      "Epoch:13/50 Training Error:7.176 Test Error:3.235\n",
      "Epoch:14/50 Training Error:6.958 Test Error:3.150\n",
      "Epoch:15/50 Training Error:6.770 Test Error:3.083\n",
      "Epoch:16/50 Training Error:6.610 Test Error:3.029\n",
      "Epoch:17/50 Training Error:6.483 Test Error:2.993\n",
      "Epoch:18/50 Training Error:6.390 Test Error:2.974\n",
      "Epoch:19/50 Training Error:6.325 Test Error:2.967\n",
      "Epoch:20/50 Training Error:6.292 Test Error:2.976\n",
      "Epoch:21/50 Training Error:6.282 Test Error:2.996\n",
      "Epoch:22/50 Training Error:6.297 Test Error:3.025\n",
      "Epoch:23/50 Training Error:6.327 Test Error:3.065\n",
      "Epoch:24/50 Training Error:6.373 Test Error:3.112\n",
      "Epoch:25/50 Training Error:6.429 Test Error:3.160\n",
      "Epoch:26/50 Training Error:6.498 Test Error:3.214\n",
      "Epoch:27/50 Training Error:6.568 Test Error:3.267\n",
      "Epoch:28/50 Training Error:6.640 Test Error:3.319\n",
      "Epoch:29/50 Training Error:6.710 Test Error:3.369\n",
      "Epoch:30/50 Training Error:6.782 Test Error:3.417\n",
      "Epoch:31/50 Training Error:6.842 Test Error:3.453\n",
      "Epoch:32/50 Training Error:6.901 Test Error:3.496\n",
      "Epoch:33/50 Training Error:6.947 Test Error:3.527\n",
      "Epoch:34/50 Training Error:6.996 Test Error:3.553\n",
      "Epoch:35/50 Training Error:7.035 Test Error:3.579\n",
      "Epoch:36/50 Training Error:7.066 Test Error:3.599\n",
      "Epoch:37/50 Training Error:7.093 Test Error:3.620\n",
      "Epoch:38/50 Training Error:7.121 Test Error:3.635\n",
      "Epoch:39/50 Training Error:7.147 Test Error:3.654\n",
      "Epoch:40/50 Training Error:7.167 Test Error:3.664\n",
      "Epoch:41/50 Training Error:7.176 Test Error:3.672\n",
      "Epoch:42/50 Training Error:7.176 Test Error:3.670\n",
      "Epoch:43/50 Training Error:7.175 Test Error:3.672\n",
      "Epoch:44/50 Training Error:7.178 Test Error:3.672\n",
      "Epoch:45/50 Training Error:7.168 Test Error:3.665\n",
      "Epoch:46/50 Training Error:7.165 Test Error:3.666\n",
      "Epoch:47/50 Training Error:7.161 Test Error:3.660\n",
      "Epoch:48/50 Training Error:7.153 Test Error:3.657\n",
      "Epoch:49/50 Training Error:7.155 Test Error:3.661\n",
      "Epoch:50/50 Training Error:7.152 Test Error:3.657\n",
      "Performance of 5 fold cross validation: \n",
      "Average Training Error: 7.377 \t Average Test Error: 3.802\n",
      " \n"
     ]
    },
    {
     "data": {
      "image/png": "[encoded data removed]",
      "text/plain": [
       "<Figure size 720x576 with 1 Axes>"
      ]
     },
     "metadata": {
      "needs_background": "light"
     },
     "output_type": "display_data"
    },
    {
     "data": {
      "text/plain": [
       "3.801728380036503"
      ]
     },
     "execution_count": 20,
     "metadata": {},
     "output_type": "execute_result"
    }
   ],
   "source": [
    "Kfold_lstm(x_train, k_folds, input_size, epochs, criterion, learningRate, hidden_size=5)"
   ]
  },
  {
   "cell_type": "markdown",
   "metadata": {},
   "source": [
    "#### Parameters tuning"
   ]
  },
  {
   "cell_type": "markdown",
   "metadata": {},
   "source": [
    "Find the best learning rate of our model using cross-validation :"
   ]
  },
  {
   "cell_type": "code",
   "execution_count": 25,
   "metadata": {},
   "outputs": [],
   "source": [
    "# define network parameters\n",
    "learning_rates =[0.1, 0.05, 0.01] #[0.1, 0.05, 0.01, 0.005, 0.001]\n",
    "epochs= 1 #50\n",
    "input_size=x_train.shape[1]\n",
    "k_folds = 5\n",
    "dataset_name = \"very_small\" #Only used to save the plot with the good name\n",
    "hidden_size = 5\n",
    "\n",
    "# creates a criterion that measures the mean squared error (squared L2 norm) \n",
    "criterion = nn.MSELoss()  "
   ]
  },
  {
   "cell_type": "code",
   "execution_count": 26,
   "metadata": {},
   "outputs": [
    {
     "name": "stdout",
     "output_type": "stream",
     "text": [
      "\u001b[1mLearning rate =  0.1\n",
      "\u001b[0m\n",
      "Performance of 5 fold cross validation: \n",
      "Average Training Error: 7.896 \t Average Test Error: 3.950\n",
      " \n",
      "\u001b[1mLearning rate =  0.05\n",
      "\u001b[0m\n",
      "Performance of 5 fold cross validation: \n",
      "Average Training Error: 8.412 \t Average Test Error: 4.209\n",
      " \n",
      "\u001b[1mLearning rate =  0.01\n",
      "\u001b[0m\n",
      "Performance of 5 fold cross validation: \n",
      "Average Training Error: 8.750 \t Average Test Error: 4.377\n",
      " \n",
      "\u001b[0m\n",
      "Best learning rate is  0.1  with a best error of :  3.950040928427876\n",
      "\u001b[0m\n"
     ]
    },
    {
     "data": {
      "image/png": "[encoded data removed]",
      "text/plain": [
       "<Figure size 432x288 with 1 Axes>"
      ]
     },
     "metadata": {
      "needs_background": "light"
     },
     "output_type": "display_data"
    }
   ],
   "source": [
    "best_result, best_lr = tuning_lr_lstm(x_train, k_folds, input_size, epochs, criterion, learning_rates, hidden_size, dataset_name_=dataset_name)"
   ]
  },
  {
   "cell_type": "markdown",
   "metadata": {},
   "source": [
    "Find the best number of neurons in the latent space (neurons in the \"middle layer of the auto-encoder\") in the auto-encoder (which is actually the dimension of the compressed data) : "
   ]
  },
  {
   "cell_type": "code",
   "execution_count": 27,
   "metadata": {},
   "outputs": [],
   "source": [
    "# define network parameters\n",
    "lr = best_lr # from above\n",
    "epochs= 1 #50\n",
    "input_size=x_train.shape[1]\n",
    "k_folds = 5\n",
    "number_neurons = [3, 5] #[3, 5, 6, 8, 10]\n",
    "dataset_name = \"very_small\" #Only used to save the plot with the good name\n",
    "\n",
    "# creates a criterion that measures the mean squared error (squared L2 norm) \n",
    "criterion = nn.MSELoss()  "
   ]
  },
  {
   "cell_type": "code",
   "execution_count": 31,
   "metadata": {},
   "outputs": [
    {
     "name": "stdout",
     "output_type": "stream",
     "text": [
      "\u001b[1mNumber of neurons =  3\n",
      "\u001b[0m\n",
      "Performance of 5 fold cross validation: \n",
      "Average Training Error: 7.896 \t Average Test Error: 3.950\n",
      " \n",
      "\u001b[1mNumber of neurons =  5\n",
      "\u001b[0m\n",
      "Performance of 5 fold cross validation: \n",
      "Average Training Error: 7.896 \t Average Test Error: 3.950\n",
      " \n",
      "The results obtained for the number of latent neurons tested are the following : [3.950040928427876, 3.950040928427876].\n",
      "The best average test error obtained is 3.950040928427876, and it is obtained with 3 neurons in the latent layer.\n"
     ]
    },
    {
     "data": {
      "image/png": "[encoded data removed]",
      "text/plain": [
       "<Figure size 432x288 with 1 Axes>"
      ]
     },
     "metadata": {
      "needs_background": "light"
     },
     "output_type": "display_data"
    }
   ],
   "source": [
    "best_result, best_neurons_nb = tuning_latent_layer_lstm(x_train, k_folds, input_size, epochs, criterion, lr, number_neurons, hidden_size, dataset_name_=dataset_name)"
   ]
  },
  {
   "cell_type": "markdown",
   "metadata": {},
   "source": [
    "#### Quality of the compression on the test set using the tuned parameters :"
   ]
  },
  {
   "cell_type": "code",
   "execution_count": null,
   "metadata": {},
   "outputs": [],
   "source": [
    "#Do it for current dataset with nice plot and all"
   ]
  },
  {
   "cell_type": "markdown",
   "metadata": {},
   "source": [
    "The above cell is great for vizualisation, but now we can do it for the different subsamples dataset, see the report to see the nice comparison table :"
   ]
  },
  {
   "cell_type": "code",
   "execution_count": null,
   "metadata": {},
   "outputs": [],
   "source": [
    "import glob\n",
    "import os \n",
    "import _pickle as cPickle\n",
    "\n",
    "file_location = os.path.join('data', 'pickle', 'very_small', '*')\n",
    "\n",
    "filenames = glob.glob(file_location)\n",
    "\n",
    "i=0 \n",
    "for f in filenames:\n",
    "    #Load the data\n",
    "    x  = cPickle.load(open(f, \"rb\"))\n",
    "    \n",
    "    #Split\n",
    "    x_train, x_test = train_test_split(x, test_size=0.1, random_state=seed)\n",
    "    y_train, y_test = x_train, x_test\n",
    "    \n",
    "    #Training\n",
    "    #je vous laisse completer je vous sens plus chaud là dessus mdr\n",
    "    \n",
    "    #Testing\n",
    "    #pareil mdr"
   ]
  },
  {
   "cell_type": "markdown",
   "metadata": {},
   "source": [
    "## 6. Discussion & conclusion"
   ]
  },
  {
   "cell_type": "code",
   "execution_count": null,
   "metadata": {},
   "outputs": [],
   "source": []
  }
 ],
 "metadata": {
  "kernelspec": {
   "display_name": "Python 3",
   "language": "python",
   "name": "python3"
  },
  "language_info": {
   "codemirror_mode": {
    "name": "ipython",
    "version": 3
   },
   "file_extension": ".py",
   "mimetype": "text/x-python",
   "name": "python",
   "nbconvert_exporter": "python",
   "pygments_lexer": "ipython3",
   "version": "3.8.3"
  }
 },
 "nbformat": 4,
 "nbformat_minor": 4
}
