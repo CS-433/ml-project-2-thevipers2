{
 "cells": [
  {
   "cell_type": "markdown",
   "metadata": {},
   "source": [
    "# Machine Learning - Project 2:\n",
    "# _Unsteady parametrized Stokes equations in a 2D arterial bifurcation with stenosis: design of a LSTM Autoencoder for data compression_"
   ]
  },
  {
   "cell_type": "markdown",
   "metadata": {},
   "source": [
    "## Context"
   ]
  },
  {
   "cell_type": "markdown",
   "metadata": {},
   "source": [
    "In this notebook, we continue our study by focusing on __Long Short-Term Memory Autoencoder__ , or LSTM AE,using the same dataset generated on the first jupyter notebook `main.ipynb`.\n",
    "Indeed, recurrent neural networks, such as LSTM, network are specifically designed to support sequences of input data. And since our simulations are time-dependent, it is interesting to use this specific model for our application."
   ]
  },
  {
   "cell_type": "markdown",
   "metadata": {},
   "source": [
    "Abbreviations used:\n",
    "- $N_u$ = total number of spatial points per simulation\n",
    "- $N_t$ = total number of time steps per simulation\n",
    "- $N_s$ = total number of simulations"
   ]
  },
  {
   "cell_type": "markdown",
   "metadata": {},
   "source": [
    "## Table of contents"
   ]
  },
  {
   "cell_type": "markdown",
   "metadata": {},
   "source": [
    "[1. Data exploration](#data_exploration) \n",
    "- [Imports](#1imports)\n",
    "- [Pathways](#1pathways)\n",
    "- [Loading](#1load)\n",
    "- [Exploration](#1exploration)\n",
    "\n",
    "[2. Data preprocessing](#preprocessing)\n",
    "\n",
    "[3. Pickle](#pickle)\n",
    "\n",
    "[4. LSTM Autoencoder](#autoencoder)\n",
    "\n",
    "[5. Discussions and conclusion](#ccl)"
   ]
  },
  {
   "cell_type": "markdown",
   "metadata": {},
   "source": [
    "## 1. Data exploration  <a name=\"data_exploration\"></a>"
   ]
  },
  {
   "cell_type": "markdown",
   "metadata": {},
   "source": [
    "### Imports  <a name=\"1imports\"></a>"
   ]
  },
  {
   "cell_type": "code",
   "execution_count": 1,
   "metadata": {},
   "outputs": [],
   "source": [
    "# Useful starting lines\n",
    "%matplotlib inline\n",
    "import numpy as np\n",
    "import matplotlib.pyplot as plt\n",
    "import pandas as pd\n",
    "from helpers import *\n",
    "from preprocessing import *\n",
    "from sklearn.model_selection import train_test_split\n",
    "from LSTM import *\n",
    "from crossvalidation_lstm import *\n",
    "import _pickle as cPickle\n",
    "%load_ext autoreload\n",
    "%autoreload 2\n",
    "torch.manual_seed(0)\n",
    "np.random.seed(1)\n",
    "seed = 1"
   ]
  },
  {
   "cell_type": "markdown",
   "metadata": {},
   "source": [
    "If you have already saved the pickle files, you can already jump [here](#start_pickle)!"
   ]
  },
  {
   "cell_type": "markdown",
   "metadata": {},
   "source": [
    "### Pathways <a name=\"1pathways\"></a>"
   ]
  },
  {
   "cell_type": "code",
   "execution_count": 7,
   "metadata": {},
   "outputs": [],
   "source": [
    "DATA_PATH = 'data/'\n",
    "DATA_Ux_PATH = DATA_PATH + 'u1_very_small.csv.bz2'\n",
    "DATA_Uy_PATH = DATA_PATH + 'u2_very_small.csv.bz2'"
   ]
  },
  {
   "cell_type": "markdown",
   "metadata": {},
   "source": [
    "### Loading <a name=\"1load\"></a>"
   ]
  },
  {
   "cell_type": "markdown",
   "metadata": {},
   "source": [
    "Let's load the data which consists of 2 matrices Ux, Uy denoting the x and y coordinates of the speed."
   ]
  },
  {
   "cell_type": "code",
   "execution_count": 8,
   "metadata": {},
   "outputs": [],
   "source": [
    "# Loading\n",
    "Ux_pd = pd.read_csv(DATA_Ux_PATH, header=None)\n",
    "Uy_pd = pd.read_csv(DATA_Uy_PATH, header=None)\n",
    "# Converting from dataframe to numpy\n",
    "Ux = Ux_pd.to_numpy()\n",
    "Uy = Uy_pd.to_numpy()"
   ]
  },
  {
   "cell_type": "markdown",
   "metadata": {},
   "source": [
    "### Exploration <a name=\"1exploration\"></a>"
   ]
  },
  {
   "cell_type": "markdown",
   "metadata": {},
   "source": [
    "Let's have a closer look at our imported data sets. The columns represent the time steps and the rows represent a point of our blood vessel mesh and each 5509 row a new simulation."
   ]
  },
  {
   "cell_type": "code",
   "execution_count": 9,
   "metadata": {
    "scrolled": false
   },
   "outputs": [
    {
     "name": "stdout",
     "output_type": "stream",
     "text": [
      "Our input array Ux is of shape: (137725, 110)\n",
      "Our input array Uy is of shape: (137725, 110)\n",
      "Printing a row of Ux: \n",
      " [0.0694243  0.27537487 0.60389834 1.02538242 1.49979277 1.9813229\n",
      " 2.42318455 2.78232553 3.02371067 3.12378595 3.22605803 3.32166836\n",
      " 3.41249686 3.49946177 3.58301614 3.66339786 3.74073801 3.81511138\n",
      " 3.88656184 3.95511576 4.02078945 4.08359325 4.14353388 4.20061589\n",
      " 4.2548424  4.30621561 4.35473712 4.40040807 4.44322934 4.48320158\n",
      " 4.52032526 4.55460075 4.58602833 4.61460821 4.64034055 4.66322547\n",
      " 4.68326307 4.70045341 4.71479655 4.72629252 4.73494137 4.7407431\n",
      " 4.74369775 4.74423086 4.74375285 4.74246986 4.74042825 4.73764939\n",
      " 4.73414407 4.72991811 4.7249748  4.71931611 4.71294324 4.70585693\n",
      " 4.6980577  4.68954587 4.68032167 4.67038525 4.65973675 4.64837623\n",
      " 4.63630377 4.6235194  4.61002317 4.5958151  4.5808952  4.5652635\n",
      " 4.54892001 4.53186473 4.51409767 4.49561883 4.47642823 4.45652585\n",
      " 4.43591171 4.41458581 4.39254814 4.36979872 4.34633752 4.32216457\n",
      " 4.29727986 4.27168339 4.24537516 4.21835516 4.19062341 4.1621799\n",
      " 4.13302463 4.1031576  4.07257881 4.04128826 4.00928595 3.97657188\n",
      " 3.94314606 3.90900847 3.87415912 3.83859802 3.80232515 3.76534053\n",
      " 3.72764415 3.689236   3.6501161  3.61028444 3.56974102 3.52848584\n",
      " 3.4865189  3.4438402  3.40044974 3.35634752 3.31153355 3.26600781\n",
      " 3.21977031 3.17282106] \n",
      "\n",
      "Printing a row of Uy: \n",
      " [0.00067075 0.00314395 0.0081191  0.01585384 0.02617912 0.0385416\n",
      " 0.05208035 0.06573238 0.07835575 0.08885756 0.09779466 0.10544569\n",
      " 0.1120431  0.11779068 0.12286148 0.12739624 0.13150532 0.13527295\n",
      " 0.13876218 0.14201954 0.14507906 0.14796547 0.15069666 0.15328552\n",
      " 0.15574136 0.15807087 0.16027887 0.16236883 0.16434326 0.16620397\n",
      " 0.16795225 0.16958906 0.17111508 0.1725308  0.17383659 0.1750327\n",
      " 0.17611934 0.17709663 0.17796468 0.17872356 0.17937332 0.17991401\n",
      " 0.18034566 0.1806724  0.18091083 0.18107502 0.18117609 0.18122281\n",
      " 0.18122208 0.18117917 0.18109807 0.18098175 0.1808324  0.18065161\n",
      " 0.18044053 0.18020003 0.17993069 0.17963297 0.17930717 0.17895353\n",
      " 0.17857222 0.17816334 0.177727   0.17726324 0.17677213 0.17625368\n",
      " 0.17570793 0.17513488 0.17453457 0.17390698 0.17325214 0.17257004\n",
      " 0.17186069 0.17112409 0.17036024 0.16956915 0.16875082 0.16790524\n",
      " 0.16703242 0.16613236 0.16520505 0.16425051 0.16326872 0.16225969\n",
      " 0.16122342 0.1601599  0.15906915 0.15795116 0.15680592 0.15563344\n",
      " 0.15443372 0.15320676 0.15195256 0.15067112 0.14936244 0.14802651\n",
      " 0.14666335 0.14527294 0.14385529 0.14241041 0.14093828 0.1394389\n",
      " 0.13791229 0.13635844 0.13477734 0.13316901 0.13153343 0.12987061\n",
      " 0.12818056 0.12646326] \n",
      "\n"
     ]
    }
   ],
   "source": [
    "print(\"Our input array Ux is of shape:\",Ux.shape)\n",
    "print(\"Our input array Uy is of shape:\",Uy.shape)\n",
    "print(\"Printing a row of Ux:\", '\\n', Ux[10,:], '\\n')\n",
    "print(\"Printing a row of Uy:\", '\\n', Uy[10,:], '\\n')"
   ]
  },
  {
   "cell_type": "markdown",
   "metadata": {},
   "source": [
    "For the rest of the analysis, we need to figure out the number of simulation step. As we know that we previsouly generated 25 simulations on Matlab and all the new simulations are appended row-wise, we can deduce it with the following computation."
   ]
  },
  {
   "cell_type": "code",
   "execution_count": 10,
   "metadata": {
    "scrolled": true
   },
   "outputs": [
    {
     "name": "stdout",
     "output_type": "stream",
     "text": [
      "We ran  25 simulations with different parameters for each simulation (parameters of the stenosis and resistance of the blood flow in the bifurcations)\n",
      "1 simulation calculate the velocities of the blood flow at 5509 different positions and at 110 different times\n"
     ]
    }
   ],
   "source": [
    "positions =5509 #We know it from the matlab code\n",
    "times = Ux.shape[1]\n",
    "simulations = int(Ux.shape[0]/positions)\n",
    "print(\"We ran \", simulations, \"simulations with different parameters for each simulation (parameters of the stenosis and resistance of the blood flow in the bifurcations)\")\n",
    "print(\"1 simulation calculate the velocities of the blood flow at\", positions, \"different positions and at\", times, \"different times\")"
   ]
  },
  {
   "cell_type": "markdown",
   "metadata": {},
   "source": [
    "## 2. Data preprocessing  <a name=\"preprocessing\"></a>"
   ]
  },
  {
   "cell_type": "markdown",
   "metadata": {},
   "source": [
    "Let's check if we have any NaN or None values in our dataframe."
   ]
  },
  {
   "cell_type": "code",
   "execution_count": 11,
   "metadata": {
    "scrolled": true
   },
   "outputs": [
    {
     "name": "stdout",
     "output_type": "stream",
     "text": [
      "0\n",
      "0\n"
     ]
    }
   ],
   "source": [
    "print(np.count_nonzero(np.isnan(Ux)))\n",
    "print(np.count_nonzero(np.isnan(Uy)))"
   ]
  },
  {
   "cell_type": "markdown",
   "metadata": {},
   "source": [
    "It seems there are __no None or NaN values__ so we can start direclty preprocess our datasets."
   ]
  },
  {
   "cell_type": "markdown",
   "metadata": {},
   "source": [
    "Let's sample our data points into the following ratios. "
   ]
  },
  {
   "cell_type": "code",
   "execution_count": 12,
   "metadata": {},
   "outputs": [
    {
     "name": "stdout",
     "output_type": "stream",
     "text": [
      "(1375, 110) (1375, 110)\n"
     ]
    }
   ],
   "source": [
    "ratio_pts = 0.01\n",
    "ratio_time = 1\n",
    "\n",
    "new_Ux, new_Uy, new_inds = sample(Ux, Uy, ratio_pts, ratio_time)\n",
    "print(new_Ux.shape, new_Uy.shape)"
   ]
  },
  {
   "cell_type": "code",
   "execution_count": 13,
   "metadata": {},
   "outputs": [
    {
     "name": "stdout",
     "output_type": "stream",
     "text": [
      "With the sampling we got from 5509 positions to 55 positions\n",
      "With the sampling we got from 110 time steps to 110 time steps\n"
     ]
    }
   ],
   "source": [
    "new_Nu, new_Nt = get_Nu_Nt_sampled(Ux, new_Ux)\n",
    "\n",
    "print('With the sampling we got from', 5509, 'positions to', new_Nu, 'positions')\n",
    "print('With the sampling we got from', 110, 'time steps to', new_Nt, 'time steps')"
   ]
  },
  {
   "cell_type": "markdown",
   "metadata": {},
   "source": [
    "We can look at the positions of the sampled positions to make sure that we cover mostly all the important parts of the geometry of the artery."
   ]
  },
  {
   "cell_type": "code",
   "execution_count": 14,
   "metadata": {
    "scrolled": true
   },
   "outputs": [
    {
     "data": {
      "image/png": "[encoded data removed]",
      "text/plain": [
       "<Figure size 648x360 with 1 Axes>"
      ]
     },
     "metadata": {
      "needs_background": "light"
     },
     "output_type": "display_data"
    }
   ],
   "source": [
    "plot_sampled_coord(new_inds) "
   ]
  },
  {
   "cell_type": "markdown",
   "metadata": {},
   "source": [
    "Let's flatten our matrices into a 2D matrices with dimensions $(N_s, (2 N_u),  N_t)$. For each simulation, the x and y speed coordinates are compressed to the following 2D matrix:\n",
    "\n",
    "\n",
    "\n",
    "$$\n",
    "\\mathbf{M_{2D}}\n",
    "=\n",
    "\\begin{bmatrix}\n",
    "\\vdots & \\vdots & \\vdots & \\vdots \\\\\n",
    "u_{x}^{(0)} & u_{x}^{(1)} & \\cdots &\n",
    "u_{x}^{(N_t - 1)} \\\\\n",
    "\\vdots & \\vdots & \\ddots & \\vdots \\\\\n",
    "u_{y}^{(0)} & u_{y}^{(1)} & \\cdots &\n",
    "u_{y}^{(N_t - 1)} \\\\\n",
    "\\vdots & \\vdots & \\vdots & \\vdots\n",
    "\\end{bmatrix}\n",
    "$$"
   ]
  },
  {
   "cell_type": "code",
   "execution_count": 15,
   "metadata": {},
   "outputs": [
    {
     "data": {
      "text/plain": [
       "(25, 110, 110)"
      ]
     },
     "execution_count": 15,
     "metadata": {},
     "output_type": "execute_result"
    }
   ],
   "source": [
    "flattened_array = flatten_2d(new_Ux, new_Uy, ratio_pts)\n",
    "flattened_array.shape"
   ]
  },
  {
   "cell_type": "markdown",
   "metadata": {},
   "source": [
    "Let's make a sanity check that the dimension of 1 datapoint is indeed $({2 * new_{N_t}, new_{N_u})}$."
   ]
  },
  {
   "cell_type": "code",
   "execution_count": 16,
   "metadata": {},
   "outputs": [],
   "source": [
    "assert flattened_array.shape[1] == 2*new_Nu\n",
    "assert flattened_array.shape[2] == new_Nt"
   ]
  },
  {
   "cell_type": "markdown",
   "metadata": {},
   "source": [
    "## 3. Pickle  <a name=\"pickle\"></a>"
   ]
  },
  {
   "cell_type": "markdown",
   "metadata": {},
   "source": [
    "To avoid the loading and processing steps each time we open the notebook, we will save the processed matrix \"flattened_array\" using pickle. "
   ]
  },
  {
   "cell_type": "markdown",
   "metadata": {},
   "source": [
    "In the following cell, we will create pickles for every subsampled data according to the ratios_pts and the ratios_t."
   ]
  },
  {
   "cell_type": "code",
   "execution_count": 17,
   "metadata": {},
   "outputs": [],
   "source": [
    "ratios_pts = [0.1, 0.05, 0.02]\n",
    "ratios_t = [0.5, 0.25, 0.1]\n",
    "\n",
    "create_subsamples(Ux, Uy, ratios_pts, ratios_t, name_file='lstm_very_small', lstm=True)"
   ]
  },
  {
   "cell_type": "markdown",
   "metadata": {},
   "source": [
    "The cell above is only intented to be run __once__."
   ]
  },
  {
   "cell_type": "markdown",
   "metadata": {},
   "source": [
    "#### Start from here if you the pickle file already exist in your data folder <a name=\"start_pickle\"></a>"
   ]
  },
  {
   "cell_type": "markdown",
   "metadata": {},
   "source": [
    "Change only the following cell to change the name of the file you want to open."
   ]
  },
  {
   "cell_type": "code",
   "execution_count": 46,
   "metadata": {},
   "outputs": [
    {
     "name": "stdout",
     "output_type": "stream",
     "text": [
      "name of the file you want to read :  processed_lstm_very_small_0.1_0.5\n"
     ]
    }
   ],
   "source": [
    "ratios = [0.1, 0.5]\n",
    "size = ['lstm_very_small', 'lstm_middle_small', 'lstm_small']\n",
    "\n",
    "name = 'processed_'+str(size[0])+'_'+str(ratios[0])+'_'+str(ratios[1])\n",
    "\n",
    "print('name of the file you want to read : ', name)"
   ]
  },
  {
   "cell_type": "code",
   "execution_count": 47,
   "metadata": {
    "scrolled": true
   },
   "outputs": [],
   "source": [
    "flattened_array = cPickle.load(open(\"data/pickle/\"+str(size[0])+\"/\"+name, \"rb\"))"
   ]
  },
  {
   "cell_type": "code",
   "execution_count": 48,
   "metadata": {},
   "outputs": [
    {
     "name": "stdout",
     "output_type": "stream",
     "text": [
      "(25, 1100, 55)\n"
     ]
    }
   ],
   "source": [
    "print(flattened_array.shape)"
   ]
  },
  {
   "cell_type": "markdown",
   "metadata": {},
   "source": [
    "##### Final step : split train/test\n",
    "\n",
    "We split the data set into a training a testing set to be able to evaluate our autoencoder."
   ]
  },
  {
   "cell_type": "code",
   "execution_count": 49,
   "metadata": {},
   "outputs": [],
   "source": [
    "from sklearn.preprocessing import MinMaxScaler\n",
    "\n",
    "for i in range(flattened_array.shape[0]):\n",
    "    scaler = MinMaxScaler()\n",
    "    scaler.fit(flattened_array[i])\n",
    "    flattened_array[i] = scaler.transform(flattened_array[i])"
   ]
  },
  {
   "cell_type": "code",
   "execution_count": 50,
   "metadata": {},
   "outputs": [
    {
     "name": "stdout",
     "output_type": "stream",
     "text": [
      "(22, 1100, 55)\n",
      "(3, 1100, 55)\n"
     ]
    }
   ],
   "source": [
    "x_train, x_test = train_test_split(flattened_array, test_size=0.1, random_state=seed)\n",
    "y_train, y_test = x_train, x_test\n",
    "\n",
    "print(x_train.shape)\n",
    "print(x_test.shape)"
   ]
  },
  {
   "cell_type": "markdown",
   "metadata": {},
   "source": [
    "## 4. LSTM Auto-encoder  <a name=\"autoencoder\"></a>"
   ]
  },
  {
   "cell_type": "code",
   "execution_count": 51,
   "metadata": {},
   "outputs": [],
   "source": [
    "input_dim = 55\n",
    "seq_len = 1100\n",
    "hidden_size = 5\n",
    "model = LSTMAE(input_dim, hidden_size)"
   ]
  },
  {
   "cell_type": "code",
   "execution_count": 52,
   "metadata": {},
   "outputs": [
    {
     "data": {
      "text/plain": [
       "LSTMAE(\n",
       "  (encoder): Encoder(\n",
       "    (lstm_encoder_1): LSTM(55, 48, batch_first=True)\n",
       "    (lstm_encoder_2): LSTM(48, 32, batch_first=True)\n",
       "    (lstm_encoder_3): LSTM(32, 5, batch_first=True)\n",
       "  )\n",
       "  (decoder): Decoder(\n",
       "    (lstm_decoder_1): LSTM(5, 32, batch_first=True)\n",
       "    (lstm_decoder_2): LSTM(32, 48, batch_first=True)\n",
       "    (lstm_decoder_3): LSTM(48, 55, batch_first=True)\n",
       "  )\n",
       ")"
      ]
     },
     "execution_count": 52,
     "metadata": {},
     "output_type": "execute_result"
    }
   ],
   "source": [
    "model"
   ]
  },
  {
   "cell_type": "code",
   "execution_count": 53,
   "metadata": {},
   "outputs": [],
   "source": [
    "# define network parameters\n",
    "learningRate=1e-2\n",
    "epochs=50\n",
    "input_size=x_train.shape[2]\n",
    "k_folds = 5\n",
    "\n",
    "# creates a criterion that measures the mean squared error (squared L2 norm) \n",
    "criterion = nn.MSELoss() "
   ]
  },
  {
   "cell_type": "code",
   "execution_count": 32,
   "metadata": {
    "scrolled": false
   },
   "outputs": [
    {
     "name": "stdout",
     "output_type": "stream",
     "text": [
      "--------------------------------\n",
      "FOLD 0\n",
      "--------------------------------\n",
      "Epoch:1/50 Training Error:1.076 Test Error:1.087\n",
      "Epoch:2/50 Training Error:1.074 Test Error:1.085\n",
      "Epoch:3/50 Training Error:1.071 Test Error:1.082\n",
      "Epoch:4/50 Training Error:1.067 Test Error:1.078\n",
      "Epoch:5/50 Training Error:1.063 Test Error:1.073\n",
      "Epoch:6/50 Training Error:1.059 Test Error:1.068\n",
      "Epoch:7/50 Training Error:1.054 Test Error:1.063\n",
      "Epoch:8/50 Training Error:1.049 Test Error:1.057\n",
      "Epoch:9/50 Training Error:1.043 Test Error:1.051\n",
      "Epoch:10/50 Training Error:1.038 Test Error:1.045\n",
      "Epoch:11/50 Training Error:1.032 Test Error:1.038\n",
      "Epoch:12/50 Training Error:1.026 Test Error:1.032\n",
      "Epoch:13/50 Training Error:1.021 Test Error:1.026\n",
      "Epoch:14/50 Training Error:1.015 Test Error:1.019\n",
      "Epoch:15/50 Training Error:1.009 Test Error:1.013\n",
      "Epoch:16/50 Training Error:1.003 Test Error:1.006\n",
      "Epoch:17/50 Training Error:0.998 Test Error:1.000\n",
      "Epoch:18/50 Training Error:0.992 Test Error:0.993\n",
      "Epoch:19/50 Training Error:0.986 Test Error:0.987\n",
      "Epoch:20/50 Training Error:0.981 Test Error:0.980\n",
      "Epoch:21/50 Training Error:0.975 Test Error:0.974\n",
      "Epoch:22/50 Training Error:0.969 Test Error:0.968\n",
      "Epoch:23/50 Training Error:0.964 Test Error:0.962\n",
      "Epoch:24/50 Training Error:0.958 Test Error:0.955\n",
      "Epoch:25/50 Training Error:0.953 Test Error:0.949\n",
      "Epoch:26/50 Training Error:0.947 Test Error:0.943\n",
      "Epoch:27/50 Training Error:0.942 Test Error:0.937\n",
      "Epoch:28/50 Training Error:0.937 Test Error:0.931\n",
      "Epoch:29/50 Training Error:0.931 Test Error:0.925\n",
      "Epoch:30/50 Training Error:0.926 Test Error:0.919\n",
      "Epoch:31/50 Training Error:0.921 Test Error:0.914\n",
      "Epoch:32/50 Training Error:0.915 Test Error:0.908\n",
      "Epoch:33/50 Training Error:0.910 Test Error:0.902\n",
      "Epoch:34/50 Training Error:0.905 Test Error:0.896\n",
      "Epoch:35/50 Training Error:0.900 Test Error:0.891\n",
      "Epoch:36/50 Training Error:0.895 Test Error:0.885\n",
      "Epoch:37/50 Training Error:0.890 Test Error:0.879\n",
      "Epoch:38/50 Training Error:0.885 Test Error:0.874\n",
      "Epoch:39/50 Training Error:0.880 Test Error:0.868\n",
      "Epoch:40/50 Training Error:0.875 Test Error:0.863\n",
      "Epoch:41/50 Training Error:0.870 Test Error:0.857\n",
      "Epoch:42/50 Training Error:0.865 Test Error:0.852\n",
      "Epoch:43/50 Training Error:0.860 Test Error:0.847\n",
      "Epoch:44/50 Training Error:0.855 Test Error:0.841\n",
      "Epoch:45/50 Training Error:0.851 Test Error:0.836\n",
      "Epoch:46/50 Training Error:0.846 Test Error:0.831\n",
      "Epoch:47/50 Training Error:0.841 Test Error:0.825\n"
     ]
    },
    {
     "ename": "KeyboardInterrupt",
     "evalue": "",
     "output_type": "error",
     "traceback": [
      "\u001b[0;31m---------------------------------------------------------------------------\u001b[0m",
      "\u001b[0;31mKeyboardInterrupt\u001b[0m                         Traceback (most recent call last)",
      "\u001b[0;32m<ipython-input-32-b49037d46076>\u001b[0m in \u001b[0;36m<module>\u001b[0;34m\u001b[0m\n\u001b[0;32m----> 1\u001b[0;31m \u001b[0mKfold_lstm\u001b[0m\u001b[0;34m(\u001b[0m\u001b[0mx_train\u001b[0m\u001b[0;34m,\u001b[0m \u001b[0mk_folds\u001b[0m\u001b[0;34m,\u001b[0m \u001b[0minput_dim\u001b[0m\u001b[0;34m,\u001b[0m \u001b[0mepochs\u001b[0m\u001b[0;34m,\u001b[0m \u001b[0mcriterion\u001b[0m\u001b[0;34m,\u001b[0m \u001b[0mlearningRate\u001b[0m\u001b[0;34m,\u001b[0m \u001b[0;36m5\u001b[0m\u001b[0;34m)\u001b[0m\u001b[0;34m\u001b[0m\u001b[0;34m\u001b[0m\u001b[0m\n\u001b[0m",
      "\u001b[0;32m~/ml-project-2-thevipers2/crossvalidation_lstm.py\u001b[0m in \u001b[0;36mKfold_lstm\u001b[0;34m(dataset, k_folds, input_size, epochs, criterion, learningRate, hidden_size, momentum, comment)\u001b[0m\n\u001b[1;32m     64\u001b[0m         \u001b[0;32mfor\u001b[0m \u001b[0mepoch\u001b[0m \u001b[0;32min\u001b[0m \u001b[0mrange\u001b[0m\u001b[0;34m(\u001b[0m\u001b[0mepochs\u001b[0m\u001b[0;34m)\u001b[0m\u001b[0;34m:\u001b[0m\u001b[0;34m\u001b[0m\u001b[0;34m\u001b[0m\u001b[0m\n\u001b[1;32m     65\u001b[0m             \u001b[0;31m# train the model\u001b[0m\u001b[0;34m\u001b[0m\u001b[0;34m\u001b[0m\u001b[0;34m\u001b[0m\u001b[0m\n\u001b[0;32m---> 66\u001b[0;31m             \u001b[0mtrain_loss\u001b[0m\u001b[0;34m=\u001b[0m\u001b[0mtrain_epoch_lstm\u001b[0m\u001b[0;34m(\u001b[0m\u001b[0mtrain_loader\u001b[0m\u001b[0;34m,\u001b[0m\u001b[0mmodel\u001b[0m\u001b[0;34m,\u001b[0m \u001b[0mcriterion\u001b[0m\u001b[0;34m,\u001b[0m\u001b[0moptimizer\u001b[0m\u001b[0;34m)\u001b[0m\u001b[0;34m\u001b[0m\u001b[0;34m\u001b[0m\u001b[0m\n\u001b[0m\u001b[1;32m     67\u001b[0m             \u001b[0;31m# compute the relative training error\u001b[0m\u001b[0;34m\u001b[0m\u001b[0;34m\u001b[0m\u001b[0;34m\u001b[0m\u001b[0m\n\u001b[1;32m     68\u001b[0m             \u001b[0mtrain_error\u001b[0m \u001b[0;34m=\u001b[0m \u001b[0mvalid_epoch_lstm\u001b[0m\u001b[0;34m(\u001b[0m\u001b[0mtrain_loader\u001b[0m\u001b[0;34m,\u001b[0m\u001b[0mmodel\u001b[0m\u001b[0;34m)\u001b[0m\u001b[0;34m\u001b[0m\u001b[0;34m\u001b[0m\u001b[0m\n",
      "\u001b[0;32m~/ml-project-2-thevipers2/LSTM.py\u001b[0m in \u001b[0;36mtrain_epoch_lstm\u001b[0;34m(input_data, net, criterion, optimizer)\u001b[0m\n\u001b[1;32m    152\u001b[0m         \u001b[0;31m# backpropagation\u001b[0m\u001b[0;34m\u001b[0m\u001b[0;34m\u001b[0m\u001b[0;34m\u001b[0m\u001b[0m\n\u001b[1;32m    153\u001b[0m         \u001b[0moptimizer\u001b[0m\u001b[0;34m.\u001b[0m\u001b[0mzero_grad\u001b[0m\u001b[0;34m(\u001b[0m\u001b[0;34m)\u001b[0m\u001b[0;34m\u001b[0m\u001b[0;34m\u001b[0m\u001b[0m\n\u001b[0;32m--> 154\u001b[0;31m         \u001b[0mloss\u001b[0m\u001b[0;34m.\u001b[0m\u001b[0mbackward\u001b[0m\u001b[0;34m(\u001b[0m\u001b[0;34m)\u001b[0m\u001b[0;34m\u001b[0m\u001b[0;34m\u001b[0m\u001b[0m\n\u001b[0m\u001b[1;32m    155\u001b[0m         \u001b[0moptimizer\u001b[0m\u001b[0;34m.\u001b[0m\u001b[0mstep\u001b[0m\u001b[0;34m(\u001b[0m\u001b[0;34m)\u001b[0m\u001b[0;34m\u001b[0m\u001b[0;34m\u001b[0m\u001b[0m\n\u001b[1;32m    156\u001b[0m         \u001b[0;31m# update loss\u001b[0m\u001b[0;34m\u001b[0m\u001b[0;34m\u001b[0m\u001b[0;34m\u001b[0m\u001b[0m\n",
      "\u001b[0;32m~/opt/anaconda3/lib/python3.8/site-packages/torch/_tensor.py\u001b[0m in \u001b[0;36mbackward\u001b[0;34m(self, gradient, retain_graph, create_graph, inputs)\u001b[0m\n\u001b[1;32m    305\u001b[0m                 \u001b[0mcreate_graph\u001b[0m\u001b[0;34m=\u001b[0m\u001b[0mcreate_graph\u001b[0m\u001b[0;34m,\u001b[0m\u001b[0;34m\u001b[0m\u001b[0;34m\u001b[0m\u001b[0m\n\u001b[1;32m    306\u001b[0m                 inputs=inputs)\n\u001b[0;32m--> 307\u001b[0;31m         \u001b[0mtorch\u001b[0m\u001b[0;34m.\u001b[0m\u001b[0mautograd\u001b[0m\u001b[0;34m.\u001b[0m\u001b[0mbackward\u001b[0m\u001b[0;34m(\u001b[0m\u001b[0mself\u001b[0m\u001b[0;34m,\u001b[0m \u001b[0mgradient\u001b[0m\u001b[0;34m,\u001b[0m \u001b[0mretain_graph\u001b[0m\u001b[0;34m,\u001b[0m \u001b[0mcreate_graph\u001b[0m\u001b[0;34m,\u001b[0m \u001b[0minputs\u001b[0m\u001b[0;34m=\u001b[0m\u001b[0minputs\u001b[0m\u001b[0;34m)\u001b[0m\u001b[0;34m\u001b[0m\u001b[0;34m\u001b[0m\u001b[0m\n\u001b[0m\u001b[1;32m    308\u001b[0m \u001b[0;34m\u001b[0m\u001b[0m\n\u001b[1;32m    309\u001b[0m     \u001b[0;32mdef\u001b[0m \u001b[0mregister_hook\u001b[0m\u001b[0;34m(\u001b[0m\u001b[0mself\u001b[0m\u001b[0;34m,\u001b[0m \u001b[0mhook\u001b[0m\u001b[0;34m)\u001b[0m\u001b[0;34m:\u001b[0m\u001b[0;34m\u001b[0m\u001b[0;34m\u001b[0m\u001b[0m\n",
      "\u001b[0;32m~/opt/anaconda3/lib/python3.8/site-packages/torch/autograd/__init__.py\u001b[0m in \u001b[0;36mbackward\u001b[0;34m(tensors, grad_tensors, retain_graph, create_graph, grad_variables, inputs)\u001b[0m\n\u001b[1;32m    152\u001b[0m         \u001b[0mretain_graph\u001b[0m \u001b[0;34m=\u001b[0m \u001b[0mcreate_graph\u001b[0m\u001b[0;34m\u001b[0m\u001b[0;34m\u001b[0m\u001b[0m\n\u001b[1;32m    153\u001b[0m \u001b[0;34m\u001b[0m\u001b[0m\n\u001b[0;32m--> 154\u001b[0;31m     Variable._execution_engine.run_backward(\n\u001b[0m\u001b[1;32m    155\u001b[0m         \u001b[0mtensors\u001b[0m\u001b[0;34m,\u001b[0m \u001b[0mgrad_tensors_\u001b[0m\u001b[0;34m,\u001b[0m \u001b[0mretain_graph\u001b[0m\u001b[0;34m,\u001b[0m \u001b[0mcreate_graph\u001b[0m\u001b[0;34m,\u001b[0m \u001b[0minputs\u001b[0m\u001b[0;34m,\u001b[0m\u001b[0;34m\u001b[0m\u001b[0;34m\u001b[0m\u001b[0m\n\u001b[1;32m    156\u001b[0m         allow_unreachable=True, accumulate_grad=True)  # allow_unreachable flag\n",
      "\u001b[0;31mKeyboardInterrupt\u001b[0m: "
     ]
    }
   ],
   "source": [
    "Kfold_lstm(x_train, k_folds, input_dim, epochs, criterion, learningRate, 5)"
   ]
  },
  {
   "cell_type": "markdown",
   "metadata": {},
   "source": [
    "#### Parameters tuning"
   ]
  },
  {
   "cell_type": "markdown",
   "metadata": {},
   "source": [
    "Find the best learning rate and momentums of our model using cross-validation :"
   ]
  },
  {
   "cell_type": "code",
   "execution_count": 54,
   "metadata": {},
   "outputs": [],
   "source": [
    "# define network parameters\n",
    "learning_rates = [1e-1, 1e-2, 1e-3, 1e-4, 1e-5] \n",
    "momentums = [0.1, 0.5, 0.7, 0.9, 0.99]\n",
    "epochs= 50\n",
    "input_size=x_train.shape[2]\n",
    "k_folds = 5\n",
    "dataset_name = \"middle_small\" #Only used to save the plot with the good name\n",
    "hidden_size = 5\n",
    "\n",
    "# creates a criterion that measures the mean squared error (squared L2 norm) \n",
    "criterion = nn.MSELoss()  "
   ]
  },
  {
   "cell_type": "code",
   "execution_count": null,
   "metadata": {
    "scrolled": false
   },
   "outputs": [
    {
     "name": "stdout",
     "output_type": "stream",
     "text": [
      "\u001b[1mMomentum =  0.1\n",
      "\u001b[0m\n",
      "\u001b[1mLearning rate =  \u001b[1m0.1\n",
      "\u001b[0m\n",
      "Performance of 5 fold cross validation: \n",
      "Average Training Error: 0.661 \t Average Test Error: 0.663\n",
      " \n",
      "\u001b[1mLearning rate =  \u001b[1m0.01\n",
      "\u001b[0m\n"
     ]
    }
   ],
   "source": [
    "results, best_result, best_lr, best_mom = tuning_lr_momentum_lstm(x_train, k_folds, input_size, epochs, criterion, learning_rates, hidden_size, momentums, dataset_name_=dataset_name, plot=True)"
   ]
  },
  {
   "cell_type": "markdown",
   "metadata": {},
   "source": [
    "Find the best number of neurons in the latent space (neurons in the \"middle layer of the auto-encoder\") in the auto-encoder (which is actually the dimension of the compressed data) : "
   ]
  },
  {
   "cell_type": "code",
   "execution_count": null,
   "metadata": {},
   "outputs": [],
   "source": [
    "# define network parameters\n",
    "lr = best_lr # from above\n",
    "epochs= 50\n",
    "input_size=x_train.shape[2]\n",
    "k_folds = 5\n",
    "hidden_sizes = [3, 5, 6, 8, 10]\n",
    "dataset_name = \"middle_small\" #Only used to save the plot with the good name\n",
    "\n",
    "# creates a criterion that measures the mean squared error (squared L2 norm) \n",
    "criterion = nn.MSELoss()  "
   ]
  },
  {
   "cell_type": "code",
   "execution_count": null,
   "metadata": {
    "scrolled": true
   },
   "outputs": [],
   "source": [
    "best_result, best_neurons_nb = tuning_latent_layer_lstm(x_train, k_folds, input_size, epochs, criterion, lr, hidden_sizes, dataset_name_=dataset_name)"
   ]
  },
  {
   "cell_type": "markdown",
   "metadata": {},
   "source": [
    "#### Let's try with the tuned parameters and see how it goes along the epochs"
   ]
  },
  {
   "cell_type": "code",
   "execution_count": null,
   "metadata": {},
   "outputs": [],
   "source": [
    "# define network parameters\n",
    "learningRate= best_lr\n",
    "epochs=50\n",
    "input_size=x_train.shape[1]\n",
    "k_folds = 3\n",
    "hidden_size_ = best_neurons_nb\n",
    "\n",
    "# creates a criterion that measures the mean squared error (squared L2 norm) \n",
    "criterion = nn.MSELoss() "
   ]
  },
  {
   "cell_type": "code",
   "execution_count": null,
   "metadata": {},
   "outputs": [],
   "source": [
    "Kfold_lstm(x_train, k_folds, input_size, epochs, criterion, learningRate, hidden_size_)"
   ]
  },
  {
   "cell_type": "markdown",
   "metadata": {},
   "source": [
    "#### Quality of the compression on the test set using the tuned parameters :"
   ]
  },
  {
   "cell_type": "markdown",
   "metadata": {},
   "source": [
    "We will now train and test our auto-encoder for different sample size of our initial dataset. To do so we will do a batch processing and store the final train and test errors. See the report to see the nice comparison table :"
   ]
  },
  {
   "cell_type": "code",
   "execution_count": 132,
   "metadata": {},
   "outputs": [],
   "source": [
    "import glob\n",
    "import os \n",
    "import _pickle as cPickle\n",
    "\n",
    "dataset = 'middle_small'\n",
    "file_location = os.path.join('data', 'pickle', dataset, '*')\n",
    "filenames = glob.glob(file_location)\n",
    "i=0 \n",
    "\n",
    "\n",
    "# define the parameters of the model\n",
    "learningRate= best_lr\n",
    "hidden_size_ = best_neurons_nb\n",
    "\n",
    "epochs=50\n",
    "criterion = nn.MSELoss() \n",
    "\n",
    "test_errors = []\n",
    "train_errors = []\n",
    "\n",
    "for f in filenames:\n",
    "    #Load the data\n",
    "    x  = cPickle.load(open(f, \"rb\"))\n",
    "    \n",
    "    #Split\n",
    "    x_train, x_test = train_test_split(x, test_size=0.1, random_state=seed)\n",
    "    y_train, y_test = x_train, x_test\n",
    "    \n",
    "    #Declare the model\n",
    "    input_size=x_train.shape[1]\n",
    "    model = LSTMAE(input_size, hidden_size_)\n",
    "    optimizer = torch.optim.Adam(model.parameters(), lr=learningRate, weight_decay=1e-5)\n",
    "    \n",
    "    #Dataloader\n",
    "    train_loader = DataLoader(x_train)\n",
    "    test_loader = DataLoader(x_test)\n",
    "    \n",
    "    #Training and testing over the epochs\n",
    "    for epoch in range(epochs):\n",
    "        # train the model \n",
    "        train_loss=train_epoch_lstm(train_loader, model, criterion, optimizer)\n",
    "        # compute the relative training error\n",
    "        train_error = valid_epoch_lstm(train_loader, model)\n",
    "        # compute the relative test error\n",
    "        test_error=valid_epoch_lstm(test_loader, model)\n",
    "    \n",
    "    #Save the last epoch train and test errors\n",
    "    test_errors.append(test_error)\n",
    "    train_errors.append(train_error)"
   ]
  },
  {
   "cell_type": "code",
   "execution_count": 130,
   "metadata": {},
   "outputs": [
    {
     "ename": "ValueError",
     "evalue": "All arrays must be of the same length",
     "output_type": "error",
     "traceback": [
      "\u001b[0;31m---------------------------------------------------------------------------\u001b[0m",
      "\u001b[0;31mValueError\u001b[0m                                Traceback (most recent call last)",
      "\u001b[0;32m<ipython-input-130-693f54639d4d>\u001b[0m in \u001b[0;36m<module>\u001b[0;34m\u001b[0m\n\u001b[1;32m      1\u001b[0m \u001b[0;32mfrom\u001b[0m \u001b[0mpandas\u001b[0m \u001b[0;32mimport\u001b[0m \u001b[0;34m*\u001b[0m\u001b[0;34m\u001b[0m\u001b[0;34m\u001b[0m\u001b[0m\n\u001b[1;32m      2\u001b[0m \u001b[0;34m\u001b[0m\u001b[0m\n\u001b[0;32m----> 3\u001b[0;31m results = DataFrame({'' : ['50%', '25%', '10%'],\n\u001b[0m\u001b[1;32m      4\u001b[0m                    \u001b[0;34m'10%'\u001b[0m \u001b[0;34m:\u001b[0m \u001b[0mtest_errors\u001b[0m\u001b[0;34m[\u001b[0m\u001b[0;34m:\u001b[0m\u001b[0;36m3\u001b[0m\u001b[0;34m]\u001b[0m\u001b[0;34m,\u001b[0m\u001b[0;34m\u001b[0m\u001b[0;34m\u001b[0m\u001b[0m\n\u001b[1;32m      5\u001b[0m                    \u001b[0;34m'5%'\u001b[0m \u001b[0;34m:\u001b[0m \u001b[0mtest_errors\u001b[0m\u001b[0;34m[\u001b[0m\u001b[0;36m3\u001b[0m\u001b[0;34m:\u001b[0m\u001b[0;36m6\u001b[0m\u001b[0;34m]\u001b[0m\u001b[0;34m,\u001b[0m\u001b[0;34m\u001b[0m\u001b[0;34m\u001b[0m\u001b[0m\n",
      "\u001b[0;32m~/opt/anaconda3/lib/python3.8/site-packages/pandas/core/frame.py\u001b[0m in \u001b[0;36m__init__\u001b[0;34m(self, data, index, columns, dtype, copy)\u001b[0m\n\u001b[1;32m    612\u001b[0m         \u001b[0;32melif\u001b[0m \u001b[0misinstance\u001b[0m\u001b[0;34m(\u001b[0m\u001b[0mdata\u001b[0m\u001b[0;34m,\u001b[0m \u001b[0mdict\u001b[0m\u001b[0;34m)\u001b[0m\u001b[0;34m:\u001b[0m\u001b[0;34m\u001b[0m\u001b[0;34m\u001b[0m\u001b[0m\n\u001b[1;32m    613\u001b[0m             \u001b[0;31m# GH#38939 de facto copy defaults to False only in non-dict cases\u001b[0m\u001b[0;34m\u001b[0m\u001b[0;34m\u001b[0m\u001b[0;34m\u001b[0m\u001b[0m\n\u001b[0;32m--> 614\u001b[0;31m             \u001b[0mmgr\u001b[0m \u001b[0;34m=\u001b[0m \u001b[0mdict_to_mgr\u001b[0m\u001b[0;34m(\u001b[0m\u001b[0mdata\u001b[0m\u001b[0;34m,\u001b[0m \u001b[0mindex\u001b[0m\u001b[0;34m,\u001b[0m \u001b[0mcolumns\u001b[0m\u001b[0;34m,\u001b[0m \u001b[0mdtype\u001b[0m\u001b[0;34m=\u001b[0m\u001b[0mdtype\u001b[0m\u001b[0;34m,\u001b[0m \u001b[0mcopy\u001b[0m\u001b[0;34m=\u001b[0m\u001b[0mcopy\u001b[0m\u001b[0;34m,\u001b[0m \u001b[0mtyp\u001b[0m\u001b[0;34m=\u001b[0m\u001b[0mmanager\u001b[0m\u001b[0;34m)\u001b[0m\u001b[0;34m\u001b[0m\u001b[0;34m\u001b[0m\u001b[0m\n\u001b[0m\u001b[1;32m    615\u001b[0m         \u001b[0;32melif\u001b[0m \u001b[0misinstance\u001b[0m\u001b[0;34m(\u001b[0m\u001b[0mdata\u001b[0m\u001b[0;34m,\u001b[0m \u001b[0mma\u001b[0m\u001b[0;34m.\u001b[0m\u001b[0mMaskedArray\u001b[0m\u001b[0;34m)\u001b[0m\u001b[0;34m:\u001b[0m\u001b[0;34m\u001b[0m\u001b[0;34m\u001b[0m\u001b[0m\n\u001b[1;32m    616\u001b[0m             \u001b[0;32mimport\u001b[0m \u001b[0mnumpy\u001b[0m\u001b[0;34m.\u001b[0m\u001b[0mma\u001b[0m\u001b[0;34m.\u001b[0m\u001b[0mmrecords\u001b[0m \u001b[0;32mas\u001b[0m \u001b[0mmrecords\u001b[0m\u001b[0;34m\u001b[0m\u001b[0;34m\u001b[0m\u001b[0m\n",
      "\u001b[0;32m~/opt/anaconda3/lib/python3.8/site-packages/pandas/core/internals/construction.py\u001b[0m in \u001b[0;36mdict_to_mgr\u001b[0;34m(data, index, columns, dtype, typ, copy)\u001b[0m\n\u001b[1;32m    462\u001b[0m         \u001b[0;31m# TODO: can we get rid of the dt64tz special case above?\u001b[0m\u001b[0;34m\u001b[0m\u001b[0;34m\u001b[0m\u001b[0;34m\u001b[0m\u001b[0m\n\u001b[1;32m    463\u001b[0m \u001b[0;34m\u001b[0m\u001b[0m\n\u001b[0;32m--> 464\u001b[0;31m     return arrays_to_mgr(\n\u001b[0m\u001b[1;32m    465\u001b[0m         \u001b[0marrays\u001b[0m\u001b[0;34m,\u001b[0m \u001b[0mdata_names\u001b[0m\u001b[0;34m,\u001b[0m \u001b[0mindex\u001b[0m\u001b[0;34m,\u001b[0m \u001b[0mcolumns\u001b[0m\u001b[0;34m,\u001b[0m \u001b[0mdtype\u001b[0m\u001b[0;34m=\u001b[0m\u001b[0mdtype\u001b[0m\u001b[0;34m,\u001b[0m \u001b[0mtyp\u001b[0m\u001b[0;34m=\u001b[0m\u001b[0mtyp\u001b[0m\u001b[0;34m,\u001b[0m \u001b[0mconsolidate\u001b[0m\u001b[0;34m=\u001b[0m\u001b[0mcopy\u001b[0m\u001b[0;34m\u001b[0m\u001b[0;34m\u001b[0m\u001b[0m\n\u001b[1;32m    466\u001b[0m     )\n",
      "\u001b[0;32m~/opt/anaconda3/lib/python3.8/site-packages/pandas/core/internals/construction.py\u001b[0m in \u001b[0;36marrays_to_mgr\u001b[0;34m(arrays, arr_names, index, columns, dtype, verify_integrity, typ, consolidate)\u001b[0m\n\u001b[1;32m    117\u001b[0m         \u001b[0;31m# figure out the index, if necessary\u001b[0m\u001b[0;34m\u001b[0m\u001b[0;34m\u001b[0m\u001b[0;34m\u001b[0m\u001b[0m\n\u001b[1;32m    118\u001b[0m         \u001b[0;32mif\u001b[0m \u001b[0mindex\u001b[0m \u001b[0;32mis\u001b[0m \u001b[0;32mNone\u001b[0m\u001b[0;34m:\u001b[0m\u001b[0;34m\u001b[0m\u001b[0;34m\u001b[0m\u001b[0m\n\u001b[0;32m--> 119\u001b[0;31m             \u001b[0mindex\u001b[0m \u001b[0;34m=\u001b[0m \u001b[0m_extract_index\u001b[0m\u001b[0;34m(\u001b[0m\u001b[0marrays\u001b[0m\u001b[0;34m)\u001b[0m\u001b[0;34m\u001b[0m\u001b[0;34m\u001b[0m\u001b[0m\n\u001b[0m\u001b[1;32m    120\u001b[0m         \u001b[0;32melse\u001b[0m\u001b[0;34m:\u001b[0m\u001b[0;34m\u001b[0m\u001b[0;34m\u001b[0m\u001b[0m\n\u001b[1;32m    121\u001b[0m             \u001b[0mindex\u001b[0m \u001b[0;34m=\u001b[0m \u001b[0mensure_index\u001b[0m\u001b[0;34m(\u001b[0m\u001b[0mindex\u001b[0m\u001b[0;34m)\u001b[0m\u001b[0;34m\u001b[0m\u001b[0;34m\u001b[0m\u001b[0m\n",
      "\u001b[0;32m~/opt/anaconda3/lib/python3.8/site-packages/pandas/core/internals/construction.py\u001b[0m in \u001b[0;36m_extract_index\u001b[0;34m(data)\u001b[0m\n\u001b[1;32m    633\u001b[0m             \u001b[0mlengths\u001b[0m \u001b[0;34m=\u001b[0m \u001b[0mlist\u001b[0m\u001b[0;34m(\u001b[0m\u001b[0mset\u001b[0m\u001b[0;34m(\u001b[0m\u001b[0mraw_lengths\u001b[0m\u001b[0;34m)\u001b[0m\u001b[0;34m)\u001b[0m\u001b[0;34m\u001b[0m\u001b[0;34m\u001b[0m\u001b[0m\n\u001b[1;32m    634\u001b[0m             \u001b[0;32mif\u001b[0m \u001b[0mlen\u001b[0m\u001b[0;34m(\u001b[0m\u001b[0mlengths\u001b[0m\u001b[0;34m)\u001b[0m \u001b[0;34m>\u001b[0m \u001b[0;36m1\u001b[0m\u001b[0;34m:\u001b[0m\u001b[0;34m\u001b[0m\u001b[0;34m\u001b[0m\u001b[0m\n\u001b[0;32m--> 635\u001b[0;31m                 \u001b[0;32mraise\u001b[0m \u001b[0mValueError\u001b[0m\u001b[0;34m(\u001b[0m\u001b[0;34m\"All arrays must be of the same length\"\u001b[0m\u001b[0;34m)\u001b[0m\u001b[0;34m\u001b[0m\u001b[0;34m\u001b[0m\u001b[0m\n\u001b[0m\u001b[1;32m    636\u001b[0m \u001b[0;34m\u001b[0m\u001b[0m\n\u001b[1;32m    637\u001b[0m             \u001b[0;32mif\u001b[0m \u001b[0mhave_dicts\u001b[0m\u001b[0;34m:\u001b[0m\u001b[0;34m\u001b[0m\u001b[0;34m\u001b[0m\u001b[0m\n",
      "\u001b[0;31mValueError\u001b[0m: All arrays must be of the same length"
     ]
    }
   ],
   "source": [
    "from pandas import *\n",
    "\n",
    "results = DataFrame({'' : ['50%', '25%', '10%'],\n",
    "                   '10%' : test_errors[:3],\n",
    "                   '5%' : test_errors[3:6],\n",
    "                   '2%' : test_errors[6:9]})\n",
    "\n",
    "results = results.set_index('')\n",
    "\n",
    "display(results)\n",
    "print(\"\\033[1m\" + 'Table of relative error depending on the sampling of the dataset' + \"\\033[0m\")\n",
    "print('x : sampling of times')\n",
    "print('y : sampling of positions')"
   ]
  },
  {
   "cell_type": "code",
   "execution_count": 131,
   "metadata": {},
   "outputs": [],
   "source": [
    "#Save in pickles\n",
    "\n",
    "name = \"lstm_train_errors_\" + dataset\n",
    "cPickle.dump( train_errors , open( name, \"wb\" ) )\n",
    "name = \"lstm_test_errors_\" + dataset\n",
    "cPickle.dump( test_errors , open( name, \"wb\" ) )"
   ]
  },
  {
   "cell_type": "markdown",
   "metadata": {},
   "source": [
    "## 5. Discussion & conclusion <a name=\"ccl\"></a>"
   ]
  },
  {
   "cell_type": "code",
   "execution_count": null,
   "metadata": {},
   "outputs": [],
   "source": []
  }
 ],
 "metadata": {
  "kernelspec": {
   "display_name": "Python 3",
   "language": "python",
   "name": "python3"
  },
  "language_info": {
   "codemirror_mode": {
    "name": "ipython",
    "version": 3
   },
   "file_extension": ".py",
   "mimetype": "text/x-python",
   "name": "python",
   "nbconvert_exporter": "python",
   "pygments_lexer": "ipython3",
   "version": "3.8.3"
  }
 },
 "nbformat": 4,
 "nbformat_minor": 4
}
